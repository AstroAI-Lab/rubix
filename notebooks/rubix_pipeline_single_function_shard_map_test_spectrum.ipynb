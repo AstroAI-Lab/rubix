{
 "cells": [
  {
   "cell_type": "code",
   "execution_count": 1,
   "metadata": {},
   "outputs": [],
   "source": [
    "from jax import config\n",
    "#config.update(\"jax_enable_x64\", True)\n",
    "config.update('jax_num_cpu_devices', 8)"
   ]
  },
  {
   "cell_type": "code",
   "execution_count": 2,
   "metadata": {},
   "outputs": [
    {
     "name": "stdout",
     "output_type": "stream",
     "text": [
      "[CpuDevice(id=0), CpuDevice(id=1), CpuDevice(id=2), CpuDevice(id=3), CpuDevice(id=4), CpuDevice(id=5), CpuDevice(id=6), CpuDevice(id=7)]\n"
     ]
    }
   ],
   "source": [
    "#NBVAL_SKIP\n",
    "import os\n",
    "\n",
    "# Tell XLA to fake 2 host CPU devices\n",
    "#os.environ['XLA_FLAGS'] = '--xla_force_host_platform_device_count=3'\n",
    "\n",
    "# Only make GPU 0 and GPU 1 visible to JAX:\n",
    "#os.environ['CUDA_VISIBLE_DEVICES'] = '6,7'\n",
    "\n",
    "#os.environ[\"XLA_PYTHON_CLIENT_PREALLOCATE\"]   = \"false\"\n",
    "\n",
    "import jax\n",
    "\n",
    "# Now JAX will list two CpuDevice entries\n",
    "print(jax.devices())\n",
    "# → [CpuDevice(id=0), CpuDevice(id=1)]"
   ]
  },
  {
   "cell_type": "code",
   "execution_count": 3,
   "metadata": {},
   "outputs": [],
   "source": [
    "# NBVAL_SKIP\n",
    "#import os\n",
    "#  os.environ['SPS_HOME'] = '/mnt/storage/annalena_data/sps_fsps'\n",
    "#os.environ['SPS_HOME'] = '/home/annalena/sps_fsps'\n",
    "#os.environ['SPS_HOME'] = '/Users/annalena/Documents/GitHub/fsps'\n",
    "#os.environ['SPS_HOME'] = '/export/home/aschaibl/fsps'\n",
    "os.environ['SPS_HOME'] = '/home/annalena_data/sps_fsps'"
   ]
  },
  {
   "cell_type": "markdown",
   "metadata": {},
   "source": [
    "## Step 1: Config"
   ]
  },
  {
   "cell_type": "code",
   "execution_count": 4,
   "metadata": {},
   "outputs": [
    {
     "name": "stderr",
     "output_type": "stream",
     "text": [
      "2025-06-16 10:08:43,084 - rubix - INFO - \n",
      "   ___  __  _____  _____  __\n",
      "  / _ \\/ / / / _ )/  _/ |/_/\n",
      " / , _/ /_/ / _  |/ /_>  <\n",
      "/_/|_|\\____/____/___/_/|_|\n",
      "\n",
      "\n",
      "2025-06-16 10:08:43,085 - rubix - INFO - Rubix version: 0.0.post467+g61e4558.d20250616\n",
      "2025-06-16 10:08:43,086 - rubix - INFO - JAX version: 0.6.0\n",
      "2025-06-16 10:08:43,086 - rubix - INFO - Running on [CpuDevice(id=0), CpuDevice(id=1), CpuDevice(id=2), CpuDevice(id=3), CpuDevice(id=4), CpuDevice(id=5), CpuDevice(id=6), CpuDevice(id=7)] devices\n"
     ]
    }
   ],
   "source": [
    "#NBVAL_SKIP\n",
    "import matplotlib.pyplot as plt\n",
    "from rubix.core.pipeline import RubixPipeline \n",
    "import os\n",
    "\n",
    "galaxy_id = \"g8.13e11\"\n",
    "\n",
    "config_NIHAO = {\n",
    "    \"pipeline\":{\"name\": \"calc_ifu_memory_test\"},\n",
    "    \n",
    "    \"logger\": {\n",
    "        \"log_level\": \"DEBUG\",\n",
    "        \"log_file_path\": None,\n",
    "        \"format\": \"%(asctime)s - %(name)s - %(levelname)s - %(message)s\",\n",
    "    },\n",
    "    \"data\": {\n",
    "        \"name\": \"NihaoHandler\",\n",
    "        \"args\": {\n",
    "            \"particle_type\": [\"stars\"],\n",
    "            \"save_data_path\": \"data\",\n",
    "            \"snapshot\": \"1024\",\n",
    "        },\n",
    "        \"load_galaxy_args\": {\"reuse\": True, \"id\": galaxy_id},\n",
    "        \"subset\": {\"use_subset\": True, \"subset_size\": 10},\n",
    "    },\n",
    "    \"simulation\": {\n",
    "        \"name\": \"NIHAO\",\n",
    "        \"args\": {\n",
    "            #\"path\": f'/export/home/aschaibl/813e11/{galaxy_id}.01024',\n",
    "            #\"halo_path\": f'/export/home/aschaibl/813e11/{galaxy_id}.01024.z0.000.AHF_halos',\n",
    "            \"path\": f'/home/_data/nihao/nihao_classic/{galaxy_id}/{galaxy_id}.01024',\n",
    "            \"halo_path\": f'/home/_data/nihao/nihao_classic/{galaxy_id}/{galaxy_id}.01024.z0.000.AHF_halos',\n",
    "            \"halo_id\": 0,\n",
    "        },\n",
    "    },\n",
    "    \"output_path\": \"output\",\n",
    "\n",
    "    \"telescope\":\n",
    "        {\"name\": \"MUSE_test\",\n",
    "         \"psf\": {\"name\": \"gaussian\", \"size\": 5, \"sigma\": 0.6},\n",
    "         \"lsf\": {\"sigma\": 0.5},\n",
    "         \"noise\": {\"signal_to_noise\": 100,\"noise_distribution\": \"normal\"},},\n",
    "    \"cosmology\":\n",
    "        {\"name\": \"PLANCK15\"},\n",
    "        \n",
    "    \"galaxy\":\n",
    "        {\"dist_z\": 0.01,\n",
    "         \"rotation\": {\"type\": \"matrix\"}, #{\"alpha\": 0.0, \"beta\": 0.0, \"gamma\":0.0},\n",
    "         \"component\": None, #[\"Halo\"], #None,\n",
    "         \"component_file\": \"./data/gsf/g8.26e11.01024.gmm_full_white_jzjcejpjc_5clusters_2018tags.dat\",\n",
    "        },\n",
    "        \n",
    "    \"ssp\": {\n",
    "        \"template\": {\n",
    "            \"name\": \"FSPS\" #\"BruzualCharlot2003\" #\"Mastar_CB19_SLOG_1_5\"\n",
    "        },\n",
    "        \"dust\": {\n",
    "                \"extinction_model\": \"Cardelli89\",\n",
    "                \"dust_to_gas_ratio\": 0.01,\n",
    "                \"dust_to_metals_ratio\": 0.4,\n",
    "                \"dust_grain_density\": 3.5,\n",
    "                \"Rv\": 3.1,\n",
    "            },\n",
    "    },        \n",
    "}"
   ]
  },
  {
   "cell_type": "markdown",
   "metadata": {},
   "source": [
    "## Step 2: Pipeline yaml"
   ]
  },
  {
   "cell_type": "markdown",
   "metadata": {},
   "source": [
    "## Step 3: Run the pipeline\n",
    "\n",
    "After defining the `config` and the `pipeline_config` you can simply run the whole pipeline by these two lines of code."
   ]
  },
  {
   "cell_type": "code",
   "execution_count": 5,
   "metadata": {},
   "outputs": [
    {
     "name": "stderr",
     "output_type": "stream",
     "text": [
      "/home/annalena/.conda/envs/rubix/lib/python3.12/site-packages/rubix/telescope/factory.py:26: UserWarning: No telescope config provided, using default stored in /home/annalena/.conda/envs/rubix/lib/python3.12/site-packages/rubix/telescope/telescopes.yaml\n",
      "  warnings.warn(\n"
     ]
    }
   ],
   "source": [
    "#NBVAL_SKIP\n",
    "pipe = RubixPipeline(config_NIHAO)"
   ]
  },
  {
   "cell_type": "code",
   "execution_count": 6,
   "metadata": {},
   "outputs": [
    {
     "name": "stderr",
     "output_type": "stream",
     "text": [
      "2025-06-16 10:08:43,431 - rubix - INFO - Getting rubix data...\n",
      "2025-06-16 10:08:43,433 - rubix - INFO - Loading data into input handler\n",
      "2025-06-16 10:08:43,434 - rubix - INFO - Using PynbodyHandler to load a NIHAO galaxy\n",
      "2025-06-16 10:08:43,437 - rubix - INFO - Galaxy redshift (dist_z) set to: 0.01\n",
      "2025-06-16 10:08:43,450 - rubix - INFO - Simulation snapshot loaded from halo 0\n",
      "2025-06-16 10:08:43,529 - rubix - INFO - Halo data loaded.\n",
      "2025-06-16 10:08:46,479 - rubix - INFO - Rotation matrix calculated and saved to '/notebooks/data/rotation_matrix.npy'.\n",
      "2025-06-16 10:08:46,480 - rubix - INFO - Loaded halo data for halo ID 0 with 1043618 particles.\n",
      "2025-06-16 10:08:46,480 - rubix - INFO - Loading components from file: ./data/gsf/g8.26e11.01024.gmm_full_white_jzjcejpjc_5clusters_2018tags.dat.\n",
      "2025-06-16 10:08:46,481 - rubix - INFO - Filtering components by: None.\n",
      "2025-06-16 10:08:46,482 - rubix - INFO - No component filtering; loading all stars.\n",
      "2025-06-16 10:08:46,496 - rubix - DEBUG - 1043618 particles for stars loaded from 'tform'\n",
      "2025-06-16 10:08:46,498 - rubix - DEBUG - 1043618 particles for stars loaded from 'mass'\n",
      "2025-06-16 10:08:46,499 - rubix - DEBUG - 1043618 particles for stars loaded from 'metals'\n",
      "2025-06-16 10:08:46,517 - rubix - DEBUG - 1043618 particles for stars loaded from 'pos'\n",
      "2025-06-16 10:08:46,532 - rubix - DEBUG - 1043618 particles for stars loaded from 'vel'\n",
      "2025-06-16 10:08:46,533 - rubix - DEBUG - 155341 particles for gas loaded from 'rho'\n",
      "2025-06-16 10:08:46,534 - rubix - DEBUG - 155341 particles for gas loaded from 'temp'\n",
      "2025-06-16 10:08:46,535 - rubix - DEBUG - 155341 particles for gas loaded from 'metals'\n",
      "2025-06-16 10:08:46,536 - rubix - DEBUG - 155341 particles for gas loaded from 'metals'\n",
      "2025-06-16 10:08:46,539 - rubix - DEBUG - 155341 particles for gas loaded from 'pos'\n",
      "2025-06-16 10:08:46,542 - rubix - DEBUG - 155341 particles for gas loaded from 'vel'\n",
      "2025-06-16 10:08:46,543 - rubix - DEBUG - 155341 particles for gas loaded from 'mass'\n",
      "2025-06-16 10:08:46,543 - rubix - WARNING - Field 'sfr' -> 'sfr' not found for gas. Assigning zeros.\n",
      "2025-06-16 10:08:46,543 - rubix - WARNING - Field 'internal_energy' -> 'u' not found for gas. Assigning zeros.\n",
      "2025-06-16 10:08:46,544 - rubix - WARNING - Field 'electron_abundance' -> 'electron_abundance' not found for gas. Assigning zeros.\n",
      "2025-06-16 10:08:46,556 - rubix - DEBUG - 155341 particles for gas loaded from 'HI'\n",
      "2025-06-16 10:08:46,567 - rubix - DEBUG - 155341 particles for gas loaded from 'OxMassFrac'\n",
      "2025-06-16 10:08:46,569 - rubix - INFO - Metals assigned to gas particles.\n",
      "2025-06-16 10:08:46,569 - rubix - INFO - Metals shape is: (155341, 10)\n",
      "2025-06-16 10:08:46,703 - rubix - INFO - Simulation snapshot and halo data loaded successfully for classes: ['stars', 'gas'].\n",
      "2025-06-16 10:08:46,704 - rubix - DEBUG - Converting to Rubix format..\n",
      "2025-06-16 10:08:46,772 - rubix - INFO - Half-mass radius calculated: 1.45 kpc\n",
      "2025-06-16 10:08:46,773 - rubix - INFO - Rubix file saved at output/rubix_galaxy.h5\n",
      "2025-06-16 10:08:46,774 - rubix - DEBUG - Creating Rubix file at path: output/rubix_galaxy.h5\n",
      "2025-06-16 10:08:46,776 - rubix - DEBUG - Converting redshift for galaxy data into \n",
      "2025-06-16 10:08:46,777 - rubix - DEBUG - Converting center for galaxy data into kpc\n",
      "2025-06-16 10:08:46,778 - rubix - DEBUG - Converting halfmassrad_stars for galaxy data into kpc\n",
      "2025-06-16 10:08:46,778 - rubix - DEBUG - Converting age for particle type stars into Gyr\n",
      "2025-06-16 10:08:46,781 - rubix - DEBUG - Converting mass for particle type stars into Msun\n",
      "2025-06-16 10:08:46,783 - rubix - DEBUG - Converting metallicity for particle type stars into \n",
      "2025-06-16 10:08:46,786 - rubix - DEBUG - Converting coords for particle type stars into kpc\n",
      "2025-06-16 10:08:46,794 - rubix - DEBUG - Converting velocity for particle type stars into km/s\n",
      "2025-06-16 10:08:46,801 - rubix - DEBUG - Converting density for particle type gas into Msun/kpc^3\n",
      "2025-06-16 10:08:46,802 - rubix - DEBUG - Converting temperature for particle type gas into K\n",
      "2025-06-16 10:08:46,803 - rubix - DEBUG - Converting metals for particle type gas into \n",
      "2025-06-16 10:08:46,805 - rubix - DEBUG - Converting metallicity for particle type gas into \n",
      "2025-06-16 10:08:46,806 - rubix - DEBUG - Converting coords for particle type gas into kpc\n",
      "2025-06-16 10:08:46,808 - rubix - DEBUG - Converting velocity for particle type gas into km/s\n",
      "2025-06-16 10:08:46,809 - rubix - DEBUG - Converting mass for particle type gas into Msun\n",
      "2025-06-16 10:08:46,810 - rubix - DEBUG - Converting sfr for particle type gas into Msun/yr\n",
      "2025-06-16 10:08:46,811 - rubix - DEBUG - Converting internal_energy for particle type gas into erg/g\n",
      "2025-06-16 10:08:46,812 - rubix - DEBUG - Converting electron_abundance for particle type gas into \n",
      "2025-06-16 10:08:46,815 - rubix - INFO - Rubix file saved at output/rubix_galaxy.h5\n",
      "2025-06-16 10:08:46,854 - rubix - INFO - Centering stars particles\n"
     ]
    },
    {
     "name": "stdout",
     "output_type": "stream",
     "text": [
      "Converted to Rubix format!\n"
     ]
    },
    {
     "name": "stderr",
     "output_type": "stream",
     "text": [
      "2025-06-16 10:08:47,955 - rubix - WARNING - The Subset value is set in config. Using only subset of size 10 for stars\n",
      "2025-06-16 10:08:47,959 - rubix - INFO - Data loaded with 10 star particles and 0 gas particles.\n"
     ]
    }
   ],
   "source": [
    "inputdata = pipe.prepare_data()"
   ]
  },
  {
   "cell_type": "code",
   "execution_count": null,
   "metadata": {},
   "outputs": [],
   "source": [
    "import jax.numpy as jnp\n",
    "inputdata.stars.mass = jnp.full(10, 0.1, dtype=jnp.float32)\n",
    "inputdata.stars.coords = jnp.zeros((10, 3), dtype=jnp.float32)\n",
    "inputdata.stars.velocity = jnp.zeros((10, 3), dtype=jnp.float32)\n",
    "inputdata.stars.age = jnp.full(10, 1e9, dtype=jnp.float32)\n",
    "inputdata.stars.metallicity = jnp.full(10, 0.02, dtype=jnp.float32)\n"
   ]
  },
  {
   "cell_type": "code",
   "execution_count": 8,
   "metadata": {},
   "outputs": [
    {
     "data": {
      "text/plain": [
       "Array([[0., 0., 0.],\n",
       "       [0., 0., 0.],\n",
       "       [0., 0., 0.],\n",
       "       [0., 0., 0.],\n",
       "       [0., 0., 0.],\n",
       "       [0., 0., 0.],\n",
       "       [0., 0., 0.],\n",
       "       [0., 0., 0.],\n",
       "       [0., 0., 0.],\n",
       "       [0., 0., 0.]], dtype=float32)"
      ]
     },
     "execution_count": 8,
     "metadata": {},
     "output_type": "execute_result"
    }
   ],
   "source": [
    "inputdata.stars.coords"
   ]
  },
  {
   "cell_type": "code",
   "execution_count": 9,
   "metadata": {},
   "outputs": [
    {
     "name": "stderr",
     "output_type": "stream",
     "text": [
      "2025-06-16 10:08:48,051 - rubix - INFO - Getting rubix data...\n",
      "2025-06-16 10:08:48,052 - rubix - INFO - Loading data into input handler\n",
      "2025-06-16 10:08:48,053 - rubix - INFO - Using PynbodyHandler to load a NIHAO galaxy\n",
      "2025-06-16 10:08:48,058 - rubix - INFO - Galaxy redshift (dist_z) set to: 0.01\n",
      "2025-06-16 10:08:48,077 - rubix - INFO - Simulation snapshot loaded from halo 0\n",
      "2025-06-16 10:08:48,153 - rubix - INFO - Halo data loaded.\n",
      "2025-06-16 10:08:50,659 - rubix - INFO - Rotation matrix calculated and saved to '/notebooks/data/rotation_matrix.npy'.\n",
      "2025-06-16 10:08:50,660 - rubix - INFO - Loaded halo data for halo ID 0 with 1043618 particles.\n",
      "2025-06-16 10:08:50,661 - rubix - INFO - Loading components from file: ./data/gsf/g8.26e11.01024.gmm_full_white_jzjcejpjc_5clusters_2018tags.dat.\n",
      "2025-06-16 10:08:50,661 - rubix - INFO - Filtering components by: None.\n",
      "2025-06-16 10:08:50,662 - rubix - INFO - No component filtering; loading all stars.\n",
      "2025-06-16 10:08:50,676 - rubix - DEBUG - 1043618 particles for stars loaded from 'tform'\n",
      "2025-06-16 10:08:50,678 - rubix - DEBUG - 1043618 particles for stars loaded from 'mass'\n",
      "2025-06-16 10:08:50,679 - rubix - DEBUG - 1043618 particles for stars loaded from 'metals'\n",
      "2025-06-16 10:08:50,696 - rubix - DEBUG - 1043618 particles for stars loaded from 'pos'\n",
      "2025-06-16 10:08:50,711 - rubix - DEBUG - 1043618 particles for stars loaded from 'vel'\n",
      "2025-06-16 10:08:50,713 - rubix - DEBUG - 155341 particles for gas loaded from 'rho'\n",
      "2025-06-16 10:08:50,713 - rubix - DEBUG - 155341 particles for gas loaded from 'temp'\n",
      "2025-06-16 10:08:50,714 - rubix - DEBUG - 155341 particles for gas loaded from 'metals'\n",
      "2025-06-16 10:08:50,715 - rubix - DEBUG - 155341 particles for gas loaded from 'metals'\n",
      "2025-06-16 10:08:50,718 - rubix - DEBUG - 155341 particles for gas loaded from 'pos'\n",
      "2025-06-16 10:08:50,721 - rubix - DEBUG - 155341 particles for gas loaded from 'vel'\n",
      "2025-06-16 10:08:50,722 - rubix - DEBUG - 155341 particles for gas loaded from 'mass'\n",
      "2025-06-16 10:08:50,722 - rubix - WARNING - Field 'sfr' -> 'sfr' not found for gas. Assigning zeros.\n",
      "2025-06-16 10:08:50,722 - rubix - WARNING - Field 'internal_energy' -> 'u' not found for gas. Assigning zeros.\n",
      "2025-06-16 10:08:50,723 - rubix - WARNING - Field 'electron_abundance' -> 'electron_abundance' not found for gas. Assigning zeros.\n",
      "2025-06-16 10:08:50,735 - rubix - DEBUG - 155341 particles for gas loaded from 'HI'\n",
      "2025-06-16 10:08:50,746 - rubix - DEBUG - 155341 particles for gas loaded from 'OxMassFrac'\n",
      "2025-06-16 10:08:50,748 - rubix - INFO - Metals assigned to gas particles.\n",
      "2025-06-16 10:08:50,748 - rubix - INFO - Metals shape is: (155341, 10)\n",
      "2025-06-16 10:08:50,751 - rubix - INFO - Simulation snapshot and halo data loaded successfully for classes: ['stars', 'gas'].\n",
      "2025-06-16 10:08:50,751 - rubix - DEBUG - Converting to Rubix format..\n",
      "2025-06-16 10:08:50,815 - rubix - INFO - Half-mass radius calculated: 1.45 kpc\n",
      "2025-06-16 10:08:50,816 - rubix - INFO - Rubix file saved at output/rubix_galaxy.h5\n",
      "2025-06-16 10:08:50,816 - rubix - DEBUG - Creating Rubix file at path: output/rubix_galaxy.h5\n",
      "2025-06-16 10:08:50,819 - rubix - DEBUG - Converting redshift for galaxy data into \n",
      "2025-06-16 10:08:50,820 - rubix - DEBUG - Converting center for galaxy data into kpc\n",
      "2025-06-16 10:08:50,821 - rubix - DEBUG - Converting halfmassrad_stars for galaxy data into kpc\n",
      "2025-06-16 10:08:50,821 - rubix - DEBUG - Converting age for particle type stars into Gyr\n",
      "2025-06-16 10:08:50,824 - rubix - DEBUG - Converting mass for particle type stars into Msun\n",
      "2025-06-16 10:08:50,826 - rubix - DEBUG - Converting metallicity for particle type stars into \n",
      "2025-06-16 10:08:50,828 - rubix - DEBUG - Converting coords for particle type stars into kpc\n",
      "2025-06-16 10:08:50,836 - rubix - DEBUG - Converting velocity for particle type stars into km/s\n",
      "2025-06-16 10:08:50,842 - rubix - DEBUG - Converting density for particle type gas into Msun/kpc^3\n",
      "2025-06-16 10:08:50,844 - rubix - DEBUG - Converting temperature for particle type gas into K\n",
      "2025-06-16 10:08:50,845 - rubix - DEBUG - Converting metals for particle type gas into \n",
      "2025-06-16 10:08:50,847 - rubix - DEBUG - Converting metallicity for particle type gas into \n",
      "2025-06-16 10:08:50,848 - rubix - DEBUG - Converting coords for particle type gas into kpc\n",
      "2025-06-16 10:08:50,849 - rubix - DEBUG - Converting velocity for particle type gas into km/s\n",
      "2025-06-16 10:08:50,851 - rubix - DEBUG - Converting mass for particle type gas into Msun\n",
      "2025-06-16 10:08:50,851 - rubix - DEBUG - Converting sfr for particle type gas into Msun/yr\n",
      "2025-06-16 10:08:50,852 - rubix - DEBUG - Converting internal_energy for particle type gas into erg/g\n",
      "2025-06-16 10:08:50,854 - rubix - DEBUG - Converting electron_abundance for particle type gas into \n",
      "2025-06-16 10:08:50,867 - rubix - INFO - Rubix file saved at output/rubix_galaxy.h5\n",
      "2025-06-16 10:08:50,901 - rubix - INFO - Centering stars particles\n"
     ]
    },
    {
     "name": "stdout",
     "output_type": "stream",
     "text": [
      "Converted to Rubix format!\n"
     ]
    },
    {
     "name": "stderr",
     "output_type": "stream",
     "text": [
      "2025-06-16 10:08:51,671 - rubix - WARNING - The Subset value is set in config. Using only subset of size 10 for stars\n",
      "2025-06-16 10:08:51,671 - rubix - INFO - Data loaded with 10 star particles and 0 gas particles.\n",
      "2025-06-16 10:08:51,672 - rubix - INFO - Setting up the pipeline...\n",
      "2025-06-16 10:08:51,673 - rubix - DEBUG - Pipeline Configuration: {'Transformers': {'spaxel_assignment': {'name': 'spaxel_assignment', 'depends_on': None, 'args': [], 'kwargs': {}}, 'calculate_datacube_particlewise': {'name': 'calculate_datacube_particlewise', 'depends_on': 'spaxel_assignment', 'args': [], 'kwargs': {}}}}\n",
      "2025-06-16 10:08:51,673 - rubix - DEBUG - Roataion Type found: matrix\n",
      "2025-06-16 10:08:51,676 - rubix - INFO - Calculating spatial bin edges...\n",
      "/home/annalena/.conda/envs/rubix/lib/python3.12/site-packages/rubix/telescope/factory.py:26: UserWarning: No telescope config provided, using default stored in /home/annalena/.conda/envs/rubix/lib/python3.12/site-packages/rubix/telescope/telescopes.yaml\n",
      "  warnings.warn(\n",
      "2025-06-16 10:08:51,697 - rubix - INFO - Getting cosmology...\n",
      "2025-06-16 10:08:51,850 - rubix - INFO - Calculating spatial bin edges...\n",
      "2025-06-16 10:08:51,859 - rubix - INFO - Getting cosmology...\n",
      "2025-06-16 10:08:51,880 - rubix - DEBUG - Method not defined, using default method: cubic\n",
      "/home/annalena/.conda/envs/rubix/lib/python3.12/site-packages/rubix/telescope/factory.py:26: UserWarning: No telescope config provided, using default stored in /home/annalena/.conda/envs/rubix/lib/python3.12/site-packages/rubix/telescope/telescopes.yaml\n",
      "  warnings.warn(\n",
      "2025-06-16 10:08:51,927 - rubix - DEBUG - SSP Wave: (5994,)\n",
      "/home/annalena/.conda/envs/rubix/lib/python3.12/site-packages/rubix/telescope/factory.py:26: UserWarning: No telescope config provided, using default stored in /home/annalena/.conda/envs/rubix/lib/python3.12/site-packages/rubix/telescope/telescopes.yaml\n",
      "  warnings.warn(\n",
      "2025-06-16 10:08:51,939 - rubix - INFO - Getting cosmology...\n",
      "/home/annalena/.conda/envs/rubix/lib/python3.12/site-packages/rubix/telescope/factory.py:26: UserWarning: No telescope config provided, using default stored in /home/annalena/.conda/envs/rubix/lib/python3.12/site-packages/rubix/telescope/telescopes.yaml\n",
      "  warnings.warn(\n",
      "2025-06-16 10:08:51,982 - rubix - DEBUG - Method not defined, using default method: cubic\n",
      "/home/annalena/.conda/envs/rubix/lib/python3.12/site-packages/rubix/telescope/factory.py:26: UserWarning: No telescope config provided, using default stored in /home/annalena/.conda/envs/rubix/lib/python3.12/site-packages/rubix/telescope/telescopes.yaml\n",
      "  warnings.warn(\n",
      "2025-06-16 10:08:52,120 - rubix - INFO - Assembling the pipeline...\n",
      "2025-06-16 10:08:52,120 - rubix - INFO - Compiling the expressions...\n",
      "2025-06-16 10:08:52,121 - rubix - INFO - Number of devices: 8\n",
      "2025-06-16 10:08:52,259 - rubix - INFO - Assigning particles to spaxels...\n",
      "2025-06-16 10:08:52,285 - rubix - INFO - Calculating Data Cube (combined per‐particle)…\n",
      "2025-06-16 10:08:52,520 - rubix - DEBUG - Datacube shape: (1, 1, 3721)\n",
      "2025-06-16 10:08:59,556 - rubix - INFO - Pipeline run completed in 7.88 seconds.\n"
     ]
    }
   ],
   "source": [
    "#NBVAL_SKIP\n",
    "\n",
    "inputdata = pipe.prepare_data()\n",
    "rubixdata = pipe.run_sharded(inputdata)"
   ]
  },
  {
   "cell_type": "code",
   "execution_count": 10,
   "metadata": {},
   "outputs": [],
   "source": [
    "#print(rubixdata)"
   ]
  },
  {
   "cell_type": "markdown",
   "metadata": {},
   "source": [
    "## Convert luminosity to flux"
   ]
  },
  {
   "cell_type": "code",
   "execution_count": null,
   "metadata": {},
   "outputs": [],
   "source": [
    "from rubix.spectra.ifu import convert_luminoisty_to_flux\n",
    "from rubix.cosmology import PLANCK15\n",
    "\n",
    "observation_lum_dist = PLANCK15.luminosity_distance_to_z(config_NIHAO[\"galaxy\"][\"dist_z\"])\n",
    "observation_z = config_NIHAO[\"galaxy\"][\"dist_z\"]\n",
    "pixel_size = 1.0\n",
    "fluxcube = convert_luminoisty_to_flux(rubixdata, observation_lum_dist, observation_z, pixel_size)\n",
    "rubixdata_flux = fluxcube/1e-20"
   ]
  },
  {
   "cell_type": "markdown",
   "metadata": {},
   "source": [
    "## Store datacube in a fits file with header"
   ]
  },
  {
   "cell_type": "code",
   "execution_count": 12,
   "metadata": {},
   "outputs": [],
   "source": [
    "#NBVAL_SKIP\n",
    "from rubix.core.fits import store_fits\n",
    "\n",
    "#if config_illustris[\"telescope\"][\"name\"] == \"MUSE_ultraWFM\":\n",
    "#    cutted_datatcube = data.stars.datacube[300:600, :, :]\n",
    "#    data.stars.datacube = cutted_datatcube\n",
    "#if config_illustris[\"telescope\"][\"name\"] == \"MUSE_WFM\":\n",
    "#    cutted_datatcube = data.stars.datacube[100:200, :, :]\n",
    "#    data.stars.datacube = cutted_datatcube\n",
    "\n",
    "#store_fits(config_NIHAO, rubixdata, \"./output/813e11/\")"
   ]
  },
  {
   "cell_type": "markdown",
   "metadata": {},
   "source": [
    "## Step 4: Mock-data\n",
    "\n",
    "Now we have our final datacube and can use the mock-data to do science. Here we have a quick look in the optical wavelengthrange of the mock-datacube and show the spectra of a central spaxel and a spatial image."
   ]
  },
  {
   "cell_type": "code",
   "execution_count": 13,
   "metadata": {},
   "outputs": [],
   "source": [
    "#NBVAL_SKIP\n",
    "import jax.numpy as jnp\n",
    "\n",
    "wave = pipe.telescope.wave_seq\n",
    "# get the indices of the visible wavelengths of 4000-8000 Angstroms\n",
    "visible_indices = jnp.where((wave >= 4000) & (wave <= 8000))\n"
   ]
  },
  {
   "cell_type": "code",
   "execution_count": 14,
   "metadata": {},
   "outputs": [
    {
     "data": {
      "image/png": "[encoded data removed]",
      "text/plain": [
       "<Figure size 600x500 with 2 Axes>"
      ]
     },
     "metadata": {},
     "output_type": "display_data"
    }
   ],
   "source": [
    "#NBVAL_SKIP\n",
    "import numpy as np\n",
    "# get the spectra of the visible wavelengths from the ifu cube\n",
    "#visible_spectra = rubixdata.stars.datacube[ :, :, visible_indices[0]]\n",
    "#visible_spectra = rubixdata[ :, :, visible_indices[0]]\n",
    "sharded_visible_spectra = rubixdata[ :, :, visible_indices[0]]\n",
    "#visible_spectra.shape\n",
    "\n",
    "#image = jnp.sum(visible_spectra, axis=2)\n",
    "sharded_image = jnp.sum(sharded_visible_spectra, axis=2)\n",
    "img32 = np.array(sharded_image, dtype=np.float32)\n",
    "\n",
    "# Plot side by side\n",
    "plt.figure(figsize=(6, 5))\n",
    "\n",
    "# Original IFU datacube image\n",
    "#im0 = axes[0].imshow(image, origin=\"lower\", cmap=\"inferno\")\n",
    "#axes[0].set_title(\"Original IFU Datacube\")\n",
    "#fig.colorbar(im0, ax=axes[0])\n",
    "\n",
    "# Sharded IFU datacube image\n",
    "plt.imshow(img32, origin=\"lower\", cmap=\"inferno\")\n",
    "plt.title(\"Sharded IFU Datacube\")\n",
    "plt.colorbar(label=\"Flux [erg/s/cm^2]\")\n",
    "\n",
    "plt.tight_layout()\n",
    "#plt.savefig(\"./output/813e11/image_813e11.jpeg\")\n",
    "plt.show()"
   ]
  },
  {
   "cell_type": "code",
   "execution_count": 15,
   "metadata": {},
   "outputs": [
    {
     "data": {
      "image/png": "[encoded data removed]",
      "text/plain": [
       "<Figure size 1000x500 with 1 Axes>"
      ]
     },
     "metadata": {},
     "output_type": "display_data"
    }
   ],
   "source": [
    "#NBVAL_SKIP\n",
    "wave = pipe.telescope.wave_seq\n",
    "\n",
    "#spectra = rubixdata#.stars.datacube # Spectra of all stars\n",
    "spectra_sharded = rubixdata # Spectra of all stars\n",
    "#print(spectra.shape)\n",
    "\n",
    "plt.figure(figsize=(10, 5))\n",
    "#plt.subplot(1, 2, 1)\n",
    "#plt.title(\"Rubix\")\n",
    "#plt.xlabel(\"Wavelength [Angstrom]\")\n",
    "#plt.ylabel(\"Flux [erg/s/cm^2/Angstrom]\")\n",
    "#plt.plot(wave, spectra[12,12,:])\n",
    "#plt.plot(wave, spectra[8,12,:])\n",
    "\n",
    "#plt.subplot(1, 2, 2)\n",
    "plt.title(\"Rubix Sharded\")\n",
    "plt.xlabel(\"Wavelength [Angstrom]\")\n",
    "plt.ylabel(\"Flux [erg/s/cm^2/Angstrom]\")\n",
    "plt.plot(wave, spectra_sharded[150,150,:])\n",
    "plt.plot(wave, spectra_sharded[150,200,:])\n",
    "plt.plot(wave, spectra_sharded[200,150,:])\n",
    "\n",
    "#plt.savefig(\"./output/813e11/spectra_813e11.jpeg\")\n",
    "plt.show()"
   ]
  },
  {
   "cell_type": "code",
   "execution_count": 19,
   "metadata": {},
   "outputs": [],
   "source": [
    "# NBVAL_SKIP\n",
    "from rubix.spectra.ssp.factory import get_ssp_template\n",
    "ssp_fsps = get_ssp_template(\"FSPS\")"
   ]
  },
  {
   "cell_type": "code",
   "execution_count": 20,
   "metadata": {},
   "outputs": [],
   "source": [
    "# NBVAL_SKIP\n",
    "metallicity_index = 1\n",
    "age_index = 100"
   ]
  },
  {
   "cell_type": "code",
   "execution_count": 21,
   "metadata": {},
   "outputs": [
    {
     "name": "stdout",
     "output_type": "stream",
     "text": [
      "10.0\n",
      "0.00014200003\n"
     ]
    }
   ],
   "source": [
    "print(ssp_fsps.age[age_index])\n",
    "print(ssp_fsps.metallicity[metallicity_index])"
   ]
  },
  {
   "cell_type": "code",
   "execution_count": 25,
   "metadata": {},
   "outputs": [
    {
     "data": {
      "text/plain": [
       "<matplotlib.legend.Legend at 0x7bd9941fa990>"
      ]
     },
     "execution_count": 25,
     "metadata": {},
     "output_type": "execute_result"
    },
    {
     "data": {
      "image/png": "[encoded data removed]",
      "text/plain": [
       "<Figure size 640x480 with 1 Axes>"
      ]
     },
     "metadata": {},
     "output_type": "display_data"
    }
   ],
   "source": [
    "# NBVAL_SKIP\n",
    "plt.plot(ssp_fsps.wavelength,ssp_fsps.flux[metallicity_index][age_index], label=r'Z=%0.3f, age=%0.2f'%(ssp_fsps.metallicity[metallicity_index] ,ssp_fsps.age[age_index]))\n",
    "#plt.vlines(6563,0,5e-5, colors='r', label=r'H$\\alpha$')\n",
    "plt.xlim(4700.15, 9351.4)\n",
    "plt.legend()"
   ]
  },
  {
   "cell_type": "markdown",
   "metadata": {},
   "source": [
    "## DONE!\n",
    "\n",
    "Congratulations, you have sucessfully run the RUBIX pipeline to create your own mock-observed IFU datacube! Now enjoy playing around with the RUBIX pipeline and enjoy doing amazing science with RUBIX :)"
   ]
  }
 ],
 "metadata": {
  "kernelspec": {
   "display_name": "Python 3",
   "language": "python",
   "name": "python3"
  },
  "language_info": {
   "codemirror_mode": {
    "name": "ipython",
    "version": 3
   },
   "file_extension": ".py",
   "mimetype": "text/x-python",
   "name": "python",
   "nbconvert_exporter": "python",
   "pygments_lexer": "ipython3",
   "version": "3.12.10"
  }
 },
 "nbformat": 4,
 "nbformat_minor": 2
}
