{
 "cells": [
  {
   "cell_type": "code",
   "execution_count": null,
   "metadata": {},
   "outputs": [],
   "source": [
    "import jax\n",
    "import jax.numpy as jnp"
   ]
  },
  {
   "cell_type": "code",
   "execution_count": null,
   "metadata": {},
   "outputs": [],
   "source": [
    "from rubix.pipeline import linear_pipeline as ltp\n",
    "from rubix.pipeline import transformer as rtr\n",
    "from rubix.utils import read_yaml"
   ]
  },
  {
   "cell_type": "code",
   "execution_count": null,
   "metadata": {},
   "outputs": [],
   "source": [
    "class Add(rtr.TransformerFactoryBase):\n",
    "    def __init__(self, value: float = 0.0):\n",
    "        self.s = value\n",
    "\n",
    "    def create(self) -> jnp.array:\n",
    "        @jax.jit\n",
    "        def f(a):\n",
    "            s = self.s\n",
    "            return a + s\n",
    "\n",
    "        return f\n",
    "\n",
    "\n",
    "class Multiply(rtr.TransformerFactoryBase):\n",
    "    def __init__(self, factor: float = 0):\n",
    "        self.s = factor\n",
    "\n",
    "    def create(self) -> jnp.array:\n",
    "        @jax.jit\n",
    "        def f(a):\n",
    "            s = self.s\n",
    "            return a * s\n",
    "\n",
    "        return f\n",
    "\n",
    "\n",
    "class Divide(rtr.TransformerFactoryBase):\n",
    "    def __init__(self, divisor: float = 0):\n",
    "        self.s = divisor\n",
    "\n",
    "    def create(self) -> jnp.array:\n",
    "        @jax.jit\n",
    "        def f(a):\n",
    "            s = self.s\n",
    "            return a / s\n",
    "\n",
    "        return f\n"
   ]
  },
  {
   "cell_type": "code",
   "execution_count": null,
   "metadata": {},
   "outputs": [],
   "source": [
    "cfg = {\n",
    "    \"Transformers\": {\n",
    "        \"A\": {\n",
    "            \"name\": \"Add\",\n",
    "            \"depends_on\": \"B\",\n",
    "            \"args\": {\n",
    "                \"value\": 3.0,\n",
    "            },\n",
    "        },\n",
    "        \"X\": {\n",
    "            \"name\": \"Multiply\",\n",
    "            \"depends_on\": \"A\",\n",
    "            \"args\": {\n",
    "                \"factor\": 2,\n",
    "            },\n",
    "        },\n",
    "        \"Z\": {\n",
    "            \"name\": \"Divide\",\n",
    "            \"depends_on\": \"X\",\n",
    "            \"args\": {\n",
    "                \"divisor\": 4,\n",
    "            },\n",
    "        },\n",
    "        \"B\": {\n",
    "            \"name\": \"Multiply\",\n",
    "            \"depends_on\": \"C\",\n",
    "            \"args\": {\n",
    "                \"factor\": 2,\n",
    "            },\n",
    "        },\n",
    "        \"C\": {\n",
    "            \"name\": \"Add\",\n",
    "            \"depends_on\": None,\n",
    "            \"args\": {\n",
    "                \"value\": 4,\n",
    "            },\n",
    "        },\n",
    "    }\n",
    "}"
   ]
  },
  {
   "cell_type": "code",
   "execution_count": null,
   "metadata": {},
   "outputs": [],
   "source": [
    "read_cfg = read_yaml(\"./demo.yml\")"
   ]
  },
  {
   "cell_type": "code",
   "execution_count": null,
   "metadata": {},
   "outputs": [],
   "source": [
    "read_cfg"
   ]
  },
  {
   "cell_type": "code",
   "execution_count": null,
   "metadata": {},
   "outputs": [],
   "source": [
    "tp = ltp.LinearTransformerPipeline(cfg)"
   ]
  },
  {
   "cell_type": "code",
   "execution_count": null,
   "metadata": {},
   "outputs": [],
   "source": [
    "for classname in [Add, Multiply, Divide]: \n",
    "    tp.register_transformer(classname)"
   ]
  },
  {
   "cell_type": "code",
   "execution_count": null,
   "metadata": {},
   "outputs": [],
   "source": [
    "tp.transformers"
   ]
  },
  {
   "cell_type": "code",
   "execution_count": null,
   "metadata": {},
   "outputs": [],
   "source": [
    "tp.assemble()"
   ]
  },
  {
   "cell_type": "code",
   "execution_count": null,
   "metadata": {},
   "outputs": [],
   "source": [
    "tp.pipeline"
   ]
  },
  {
   "cell_type": "code",
   "execution_count": null,
   "metadata": {},
   "outputs": [],
   "source": [
    "tp.expression"
   ]
  },
  {
   "cell_type": "code",
   "execution_count": null,
   "metadata": {},
   "outputs": [],
   "source": [
    "jax.jit(tp.expression)"
   ]
  },
  {
   "cell_type": "code",
   "execution_count": null,
   "metadata": {},
   "outputs": [],
   "source": [
    "x = jnp.array([3, 2, 1])"
   ]
  },
  {
   "cell_type": "code",
   "execution_count": null,
   "metadata": {},
   "outputs": [],
   "source": [
    "res = tp.apply(x)"
   ]
  },
  {
   "cell_type": "code",
   "execution_count": null,
   "metadata": {},
   "outputs": [],
   "source": [
    "res"
   ]
  },
  {
   "cell_type": "code",
   "execution_count": null,
   "metadata": {},
   "outputs": [],
   "source": [
    " res_hand = ((((x + 4) * 2) + 3) * 2) / 4"
   ]
  },
  {
   "cell_type": "code",
   "execution_count": null,
   "metadata": {},
   "outputs": [],
   "source": [
    "res_hand"
   ]
  },
  {
   "cell_type": "code",
   "execution_count": null,
   "metadata": {},
   "outputs": [],
   "source": [
    "all(res == res_hand)"
   ]
  }
 ],
 "metadata": {
  "kernelspec": {
   "display_name": ".venv",
   "language": "python",
   "name": "python3"
  },
  "language_info": {
   "codemirror_mode": {
    "name": "ipython",
    "version": 3
   },
   "file_extension": ".py",
   "mimetype": "text/x-python",
   "name": "python",
   "nbconvert_exporter": "python",
   "pygments_lexer": "ipython3",
   "version": "3.10.12"
  }
 },
 "nbformat": 4,
 "nbformat_minor": 2
}
