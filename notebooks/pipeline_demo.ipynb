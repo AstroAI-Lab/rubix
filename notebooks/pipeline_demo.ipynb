{
 "cells": [
  {
   "cell_type": "code",
   "execution_count": 1,
   "metadata": {},
   "outputs": [],
   "source": [
    "import yaml\n",
    "import numpy as np\n",
    "from abc import ABC, abstractmethod"
   ]
  },
  {
   "cell_type": "code",
   "execution_count": 2,
   "metadata": {},
   "outputs": [],
   "source": [
    "import jax\n",
    "import jax.numpy as jnp"
   ]
  },
  {
   "cell_type": "code",
   "execution_count": 7,
   "metadata": {},
   "outputs": [],
   "source": [
    "def read_yaml(path_to_file: str) -> dict:\n",
    "    \"\"\"\n",
    "    read_yaml Read yaml file into dictionary\n",
    "\n",
    "    Args:\n",
    "        path_to_file (str): path to the file to read\n",
    "\n",
    "    Raises:\n",
    "        RuntimeError: When an error occurs during reading\n",
    "\n",
    "    Returns:\n",
    "        dict: Either the read yaml file in dictionary form, or an empty\n",
    "            dictionary if an error occured.\n",
    "    \"\"\"\n",
    "    cfg = {}\n",
    "    try:\n",
    "        with open(path_to_file, \"r\") as cfgfile:\n",
    "            cfg = yaml.safe_load(cfgfile)\n",
    "    except Exception as e:\n",
    "        raise RuntimeError(\n",
    "            f\"Something went wrong while reading yaml file {str(path_to_file)}\"\n",
    "        ) from e\n",
    "    return cfg"
   ]
  },
  {
   "cell_type": "code",
   "execution_count": 8,
   "metadata": {},
   "outputs": [],
   "source": [
    "class Transformer(ABC):\n",
    "    def _init__(self):\n",
    "        pass\n",
    "\n",
    "    @abstractmethod\n",
    "    def create(self):\n",
    "        pass"
   ]
  },
  {
   "cell_type": "code",
   "execution_count": 10,
   "metadata": {},
   "outputs": [],
   "source": [
    "class Add(Transformer):\n",
    "    def __init__(self, value: float = 0.0):\n",
    "        self.s = value\n",
    "\n",
    "    def create(self) -> np.array:\n",
    "        @jax.jit\n",
    "        def f(a):\n",
    "            s = self.s\n",
    "            return a + s\n",
    "\n",
    "        return f\n",
    "\n",
    "    @classmethod\n",
    "    def from_cfg(cls, node: dict):\n",
    "        return cls(**node)\n",
    "\n",
    "\n",
    "class Multiply(Transformer):\n",
    "    def __init__(self, factor: float = 0):\n",
    "        self.s = factor\n",
    "\n",
    "    def create(self) -> np.array:\n",
    "        @jax.jit\n",
    "        def f(a):\n",
    "            s = self.s\n",
    "            return a * s\n",
    "\n",
    "        return f\n",
    "\n",
    "    @classmethod\n",
    "    def from_cfg(cls, node: dict):\n",
    "        return cls(**node)\n",
    "\n",
    "\n",
    "class Divide(Transformer):\n",
    "    def __init__(self, divisor: float = 0):\n",
    "        self.s = divisor\n",
    "\n",
    "    def create(self) -> np.array:\n",
    "        @jax.jit\n",
    "        def f(a):\n",
    "            s = self.s\n",
    "            return a / s\n",
    "\n",
    "        return f\n",
    "\n",
    "    @classmethod\n",
    "    def from_cfg(cls, node: dict):\n",
    "        return cls(**node)"
   ]
  },
  {
   "cell_type": "code",
   "execution_count": 58,
   "metadata": {},
   "outputs": [],
   "source": [
    "class LinearTransformerPipeline:\n",
    "    def __init__(self, cfg: dict):\n",
    "        self.config = cfg\n",
    "        self._pipeline = []\n",
    "        self._names = []\n",
    "        self._build_pipeline()\n",
    "        self.expression = self._build_expression()\n",
    "\n",
    "    def _update(self, current_name):\n",
    "        for key, node in self.config[\"Transformers\"].items():\n",
    "            if current_name == node[\"depends_on\"]:\n",
    "                self._pipeline.append(\n",
    "                    globals()[node[\"name\"]](**node[\"args\"]).create())\n",
    "                self._names.append(key)\n",
    "                self._update(key)\n",
    "\n",
    "    def _build_expression(self):\n",
    "        def expr(input):\n",
    "            res = input\n",
    "            for f in self._pipeline:\n",
    "                res = f(res)\n",
    "            return res\n",
    "\n",
    "        return expr\n",
    "\n",
    "    def _build_pipeline(self):\n",
    "\n",
    "        # find the starting point and look into corrections\n",
    "        start_func = None\n",
    "        start_name = None\n",
    "        for key, node in self.config[\"Transformers\"].items():\n",
    "\n",
    "            if \"name\" not in node:\n",
    "                raise ValueError(\n",
    "                    \"Error, each node of a pipeline must have a config node\"\n",
    "                )\n",
    "\n",
    "            # if node[\"active\"] is False:\n",
    "            #     continue\n",
    "\n",
    "            if node[\"depends_on\"] is None and start_name is None:\n",
    "                start_func = globals()[node[\"name\"]](**node[\"args\"]).create()\n",
    "                start_name = key\n",
    "            elif node[\"depends_on\"] is None and start is not None:\n",
    "                raise ValueError(\"There can only be one starting point.\")\n",
    "            else:\n",
    "                continue\n",
    "\n",
    "        self._pipeline = [\n",
    "            start_func,\n",
    "        ]\n",
    "        self._names = [\n",
    "            start_name,\n",
    "        ]\n",
    "\n",
    "        self._update(start_name)\n",
    "\n",
    "    @property\n",
    "    def pipeline(self):\n",
    "        return dict(zip(self._names, self._pipeline))\n",
    "\n",
    "    def add_transformer(self, name: str, node: dict):\n",
    "        func = globals()[node[\"name\"]](**node[\"args\"]).create()\n",
    "        self._update(name)\n",
    "        self.config[\"Transformers\"][name] = node\n",
    "\n",
    "    # doesn't really work\n",
    "    def apply(self, input: np.array):\n",
    "        expr = jax.jit(self.expression)\n",
    "        return expr(input)"
   ]
  },
  {
   "cell_type": "code",
   "execution_count": 59,
   "metadata": {},
   "outputs": [],
   "source": [
    "cfg = {\n",
    "    \"Transformers\": {\n",
    "        \"A\": {\n",
    "            \"name\": \"Add\",\n",
    "            \"depends_on\": \"B\",\n",
    "            \"args\": {\n",
    "                \"value\": 3.0,\n",
    "            },\n",
    "        },\n",
    "        \"X\": {\n",
    "            \"name\": \"Multiply\",\n",
    "            \"depends_on\": \"A\",\n",
    "            \"args\": {\n",
    "                \"factor\": 2,\n",
    "            },\n",
    "        },\n",
    "        \"Z\": {\n",
    "            \"name\": \"Divide\",\n",
    "            \"depends_on\": \"X\",\n",
    "            \"args\": {\n",
    "                \"divisor\": 4,\n",
    "            },\n",
    "        },\n",
    "        \"B\": {\n",
    "            \"name\": \"Multiply\",\n",
    "            \"depends_on\": \"C\",\n",
    "            \"args\": {\n",
    "                \"factor\": 2,\n",
    "            },\n",
    "        },\n",
    "        \"C\": {\n",
    "            \"name\": \"Add\",\n",
    "            \"depends_on\": None,\n",
    "            \"args\": {\n",
    "                \"value\": 4,\n",
    "            },\n",
    "        },\n",
    "    }\n",
    "}"
   ]
  },
  {
   "cell_type": "code",
   "execution_count": 60,
   "metadata": {},
   "outputs": [],
   "source": [
    "tp = LinearTransformerPipeline(cfg)"
   ]
  },
  {
   "cell_type": "code",
   "execution_count": 61,
   "metadata": {},
   "outputs": [
    {
     "data": {
      "text/plain": [
       "{'C': <PjitFunction of <function Add.create.<locals>.f at 0x7ff064b7ecb0>>,\n",
       " 'B': <PjitFunction of <function Multiply.create.<locals>.f at 0x7ff064be0280>>,\n",
       " 'A': <PjitFunction of <function Add.create.<locals>.f at 0x7ff064be0670>>,\n",
       " 'X': <PjitFunction of <function Multiply.create.<locals>.f at 0x7ff064be0a60>>,\n",
       " 'Z': <PjitFunction of <function Divide.create.<locals>.f at 0x7ff064be0e50>>}"
      ]
     },
     "execution_count": 61,
     "metadata": {},
     "output_type": "execute_result"
    }
   ],
   "source": [
    "tp.pipeline"
   ]
  },
  {
   "cell_type": "code",
   "execution_count": 62,
   "metadata": {},
   "outputs": [
    {
     "data": {
      "text/plain": [
       "<function __main__.LinearTransformerPipeline._build_expression.<locals>.expr(input)>"
      ]
     },
     "execution_count": 62,
     "metadata": {},
     "output_type": "execute_result"
    }
   ],
   "source": [
    "tp.expression"
   ]
  },
  {
   "cell_type": "code",
   "execution_count": 63,
   "metadata": {},
   "outputs": [],
   "source": [
    "x = jnp.array([3, 2, 1])"
   ]
  },
  {
   "cell_type": "code",
   "execution_count": 64,
   "metadata": {},
   "outputs": [],
   "source": [
    "res = tp.apply(x)"
   ]
  },
  {
   "cell_type": "code",
   "execution_count": 56,
   "metadata": {},
   "outputs": [
    {
     "data": {
      "text/plain": [
       "Array([8.5, 7.5, 6.5], dtype=float32, weak_type=True)"
      ]
     },
     "execution_count": 56,
     "metadata": {},
     "output_type": "execute_result"
    }
   ],
   "source": [
    "res"
   ]
  },
  {
   "cell_type": "code",
   "execution_count": 54,
   "metadata": {},
   "outputs": [],
   "source": [
    " res_hand = ((((x + 4) * 2) + 3) * 2) / 4"
   ]
  },
  {
   "cell_type": "code",
   "execution_count": 57,
   "metadata": {},
   "outputs": [
    {
     "data": {
      "text/plain": [
       "Array([8.5, 7.5, 6.5], dtype=float32)"
      ]
     },
     "execution_count": 57,
     "metadata": {},
     "output_type": "execute_result"
    }
   ],
   "source": [
    "res_hand"
   ]
  },
  {
   "cell_type": "code",
   "execution_count": 55,
   "metadata": {},
   "outputs": [
    {
     "data": {
      "text/plain": [
       "True"
      ]
     },
     "execution_count": 55,
     "metadata": {},
     "output_type": "execute_result"
    }
   ],
   "source": [
    "all(res == res_hand)"
   ]
  },
  {
   "cell_type": "code",
   "execution_count": null,
   "metadata": {},
   "outputs": [],
   "source": [
    "class DAGTransformerPipeline(LinearTransformerPipeline):\n",
    "\n",
    "    def _update(self, current_name: str):\n",
    "        # TODO\n",
    "        pass"
   ]
  }
 ],
 "metadata": {
  "kernelspec": {
   "display_name": ".venv",
   "language": "python",
   "name": "python3"
  },
  "language_info": {
   "codemirror_mode": {
    "name": "ipython",
    "version": 3
   },
   "file_extension": ".py",
   "mimetype": "text/x-python",
   "name": "python",
   "nbconvert_exporter": "python",
   "pygments_lexer": "ipython3",
   "version": "3.10.12"
  }
 },
 "nbformat": 4,
 "nbformat_minor": 2
}
