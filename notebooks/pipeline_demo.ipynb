{
 "cells": [
  {
   "cell_type": "code",
   "execution_count": 31,
   "metadata": {},
   "outputs": [],
   "source": [
    "import yaml\n",
    "import numpy as np\n",
    "from abc import ABC, abstractmethod"
   ]
  },
  {
   "cell_type": "code",
   "execution_count": 32,
   "metadata": {},
   "outputs": [],
   "source": [
    "def read_yaml(path_to_file: str) -> dict:\n",
    "    \"\"\"\n",
    "    read_yaml Read yaml file into dictionary\n",
    "\n",
    "    Args:\n",
    "        path_to_file (str): path to the file to read\n",
    "\n",
    "    Raises:\n",
    "        RuntimeError: When an error occurs during reading\n",
    "\n",
    "    Returns:\n",
    "        dict: Either the read yaml file in dictionary form, or an empty\n",
    "              dictionary if an error occured.\n",
    "    \"\"\"\n",
    "    cfg = {}\n",
    "    try:\n",
    "        with open(path_to_file, \"r\") as cfgfile:\n",
    "            cfg = yaml.safe_load(cfgfile)\n",
    "    except Exception as e:\n",
    "        raise RuntimeError(\n",
    "            f\"Something went wrong while reading yaml file {str(path_to_file)}\"\n",
    "        ) from e\n",
    "    return cfg"
   ]
  },
  {
   "cell_type": "code",
   "execution_count": 33,
   "metadata": {},
   "outputs": [],
   "source": [
    "class Transformer(ABC):\n",
    "    def _init__(self):\n",
    "        pass\n",
    "\n",
    "    @abstractmethod\n",
    "    def create(self):\n",
    "        pass"
   ]
  },
  {
   "cell_type": "code",
   "execution_count": 147,
   "metadata": {},
   "outputs": [],
   "source": [
    "class Add(Transformer):\n",
    "    def __init__(self, value: float = 0.0):\n",
    "        self.s = value\n",
    "\n",
    "    def create(self) -> np.array:\n",
    "        def f(a):\n",
    "            s = self.s\n",
    "            return a + s\n",
    "\n",
    "        return f\n",
    "\n",
    "\n",
    "class Multiply(Transformer):\n",
    "    def __init__(self, factor: float = 0):\n",
    "        self.s = factor\n",
    "\n",
    "    def create(self) -> np.array:\n",
    "        def f(a):\n",
    "            s = self.s\n",
    "            return a * s\n",
    "\n",
    "        return f\n",
    "\n",
    "\n",
    "class Divide(Transformer):\n",
    "    def __init__(self, divisor: float = 0):\n",
    "        self.s = divisor\n",
    "\n",
    "    def create(self) -> np.array:\n",
    "        def f(a):\n",
    "            s = self.s\n",
    "            return a / s\n",
    "\n",
    "        return f"
   ]
  },
  {
   "cell_type": "code",
   "execution_count": 237,
   "metadata": {},
   "outputs": [],
   "source": [
    "class LinearTransformerPipeline:\n",
    "    def __init__(self, cfg: dict):\n",
    "        self.config = cfg\n",
    "        self._pipeline = []\n",
    "        self._names = []\n",
    "        self._build_pipeline()\n",
    "        self.expression = self._build_expression(self._pipeline)\n",
    "\n",
    "    def _update(self, current_name):\n",
    "        for key, node in self.config[\"Transformers\"].items():\n",
    "            if current_name == node[\"depends_on\"]:\n",
    "                self._pipeline.append(globals()[node[\"name\"]](**node[\"args\"]).create())\n",
    "                self._names.append(key)\n",
    "                self._update(key)\n",
    "                \n",
    "    def _build_pipeline(self):\n",
    "\n",
    "        # find the starting point and look into corrections\n",
    "        start_func = None\n",
    "        start_name = None\n",
    "        for key, node in self.config[\"Transformers\"].items():\n",
    "\n",
    "            if \"name\" not in node:\n",
    "                raise ValueError(\n",
    "                    \"Error, each node of a pipeline must have a config node\"\n",
    "                )\n",
    "\n",
    "            # if node[\"active\"] is False:\n",
    "            #     continue\n",
    "\n",
    "            if node[\"depends_on\"] is None and start_name is None:\n",
    "                start_func = globals()[node[\"name\"]](**node[\"args\"]).create()\n",
    "                start_name = key\n",
    "            elif node[\"depends_on\"] is None and start is not None:\n",
    "                raise ValueError(\"There can only be one starting point.\")\n",
    "            else:\n",
    "                continue\n",
    "\n",
    "        self._pipeline = [start_func,]\n",
    "        self._names = [start_name, ]\n",
    "\n",
    "        self._update(start_name)\n",
    "\n",
    "    def _build_expression(self, *pipeline):\n",
    "        if len(pipeline) == 1: \n",
    "            return pipeline[0]\n",
    "        else: \n",
    "            return pipeline[0](self._build_expression(*pipeline[1:]))\n",
    "\n",
    "    @property \n",
    "    def pipeline(self):\n",
    "        return dict(zip(self._names, self._pipeline))\n",
    "\n",
    "\n",
    "    def add_transformer(self, name: str, node: dict): \n",
    "        func = globals()[node[\"name\"]](**node[\"args\"]).create()\n",
    "        _update(name)\n",
    "\n",
    "        self.config[\"Transformers\"][name] = node\n",
    "\n",
    "\n",
    "    def run_greedy(self, input: np.array): \n",
    "        result = input \n",
    "        for f in self._pipeline: \n",
    "            result = f(result)\n",
    "        return result\n",
    "\n",
    "    # doesn't really work\n",
    "    def run(self, input: np.array):\n",
    "        return self.expression(input)\n"
   ]
  },
  {
   "cell_type": "code",
   "execution_count": 239,
   "metadata": {},
   "outputs": [],
   "source": [
    "cfg = {\n",
    "    \"Transformers\": {\n",
    "        \"A\": {\n",
    "            \"name\": \"Add\",\n",
    "            \"depends_on\": \"B\",\n",
    "            \"args\": {\n",
    "                \"value\": 3.0,\n",
    "            },\n",
    "        },\n",
    "        \"X\": {\n",
    "            \"name\": \"Multiply\",\n",
    "            \"depends_on\": \"A\",\n",
    "            \"args\": {\n",
    "                \"factor\": 2,\n",
    "            },\n",
    "        },\n",
    "        \"Z\": {\n",
    "            \"name\": \"Divide\",\n",
    "            \"depends_on\": \"X\",\n",
    "            \"args\": {\n",
    "                \"divisor\": 4,\n",
    "            },\n",
    "        },\n",
    "        \"B\": {\n",
    "            \"name\": \"Multiply\",\n",
    "            \"depends_on\": \"C\",\n",
    "            \"args\": {\n",
    "                \"factor\": 2,\n",
    "            },\n",
    "        },\n",
    "        \"C\": {\n",
    "            \"name\": \"Add\",\n",
    "            \"depends_on\": None,\n",
    "            \"args\": {\n",
    "                \"value\": 4,\n",
    "            },\n",
    "        },\n",
    "    }\n",
    "}"
   ]
  },
  {
   "cell_type": "code",
   "execution_count": 240,
   "metadata": {},
   "outputs": [],
   "source": [
    "tp = LinearTransformerPipeline(cfg)"
   ]
  },
  {
   "cell_type": "code",
   "execution_count": 241,
   "metadata": {},
   "outputs": [
    {
     "data": {
      "text/plain": [
       "{'C': <function __main__.Add.create.<locals>.f(a)>,\n",
       " 'B': <function __main__.Multiply.create.<locals>.f(a)>,\n",
       " 'A': <function __main__.Add.create.<locals>.f(a)>,\n",
       " 'X': <function __main__.Multiply.create.<locals>.f(a)>,\n",
       " 'Z': <function __main__.Divide.create.<locals>.f(a)>}"
      ]
     },
     "execution_count": 241,
     "metadata": {},
     "output_type": "execute_result"
    }
   ],
   "source": [
    "tp.pipeline"
   ]
  },
  {
   "cell_type": "code",
   "execution_count": 242,
   "metadata": {},
   "outputs": [],
   "source": [
    "x = np.array([3, 2, 1])"
   ]
  },
  {
   "cell_type": "code",
   "execution_count": 243,
   "metadata": {},
   "outputs": [
    {
     "ename": "TypeError",
     "evalue": "'list' object is not callable",
     "output_type": "error",
     "traceback": [
      "\u001b[0;31m---------------------------------------------------------------------------\u001b[0m",
      "\u001b[0;31mTypeError\u001b[0m                                 Traceback (most recent call last)",
      "Cell \u001b[0;32mIn[243], line 1\u001b[0m\n\u001b[0;32m----> 1\u001b[0m res \u001b[38;5;241m=\u001b[39m \u001b[43mtp\u001b[49m\u001b[38;5;241;43m.\u001b[39;49m\u001b[43mrun\u001b[49m\u001b[43m(\u001b[49m\u001b[43mx\u001b[49m\u001b[43m)\u001b[49m\n",
      "Cell \u001b[0;32mIn[237], line 70\u001b[0m, in \u001b[0;36mTransformerPipeline.run\u001b[0;34m(self, input)\u001b[0m\n\u001b[1;32m     69\u001b[0m \u001b[38;5;28;01mdef\u001b[39;00m \u001b[38;5;21mrun\u001b[39m(\u001b[38;5;28mself\u001b[39m, \u001b[38;5;28minput\u001b[39m: np\u001b[38;5;241m.\u001b[39marray):\n\u001b[0;32m---> 70\u001b[0m     \u001b[38;5;28;01mreturn\u001b[39;00m \u001b[38;5;28;43mself\u001b[39;49m\u001b[38;5;241;43m.\u001b[39;49m\u001b[43mexpression\u001b[49m\u001b[43m(\u001b[49m\u001b[38;5;28;43minput\u001b[39;49m\u001b[43m)\u001b[49m\n",
      "\u001b[0;31mTypeError\u001b[0m: 'list' object is not callable"
     ]
    }
   ],
   "source": [
    "res = tp.run(x)"
   ]
  },
  {
   "cell_type": "code",
   "execution_count": 231,
   "metadata": {},
   "outputs": [],
   "source": [
    " res_hand = ((((x + 4) * 2) + 3) * 2) / 4"
   ]
  },
  {
   "cell_type": "code",
   "execution_count": 233,
   "metadata": {},
   "outputs": [
    {
     "data": {
      "text/plain": [
       "True"
      ]
     },
     "execution_count": 233,
     "metadata": {},
     "output_type": "execute_result"
    }
   ],
   "source": [
    "all(res == res_hand)"
   ]
  },
  {
   "cell_type": "code",
   "execution_count": null,
   "metadata": {},
   "outputs": [],
   "source": [
    "class DAGTransformerPipeline(LinearTransformerPipeline):\n",
    "\n",
    "    def _update(self, current_name: str):\n",
    "        pass\n"
   ]
  }
 ],
 "metadata": {
  "kernelspec": {
   "display_name": ".venv",
   "language": "python",
   "name": "python3"
  },
  "language_info": {
   "codemirror_mode": {
    "name": "ipython",
    "version": 3
   },
   "file_extension": ".py",
   "mimetype": "text/x-python",
   "name": "python",
   "nbconvert_exporter": "python",
   "pygments_lexer": "ipython3",
   "version": "3.10.12"
  }
 },
 "nbformat": 4,
 "nbformat_minor": 2
}
