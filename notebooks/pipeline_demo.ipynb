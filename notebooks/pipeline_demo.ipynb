{
 "cells": [
  {
   "cell_type": "markdown",
   "metadata": {},
   "source": [
    "# Concept\n",
    "## Basic ideas\n",
    "- rubix essentially implements a big data transformation pipeline. \n",
    "\n",
    "- a pipeline is composed of nodes that are ordered in a list ordered by execution order (or more generally a DAG [not supported currently]). Each node is called a transformer. \n",
    "\n",
    "- each step in this pipeline (i.e., each transformer) can ultimately be seen in itself as being composed of other, smaller transformers. This gives us a pattern that can be used to guide the implementation of transformers\n",
    "\n",
    "- simple implementation in rubix.pipeline\n",
    "\n",
    "## Restrictions\n",
    "- jax is pure functional. Anything that needs to be transformed with jax has to be a pure function. \n",
    "Any stuff that comes from the environment must be explicitly copied into the function or be bound to it such that the internal state is of the function is self-contained. \n",
    "\n",
    "- It's irrelevant what builds these pure functions. Therefore, we use a factory pattern to do all configuration work like reading files, pulling stuff from the net, providing any function arguments to be used in the pipeline and so on. A factory then produces a pure function that contains all the data we need as static arguments and retains only the stuff it computes on as tracable arguments. \n",
    "\n",
    "- we can leverage [`jax.tree_util.Partial`](https://jax.readthedocs.io/en/latest/_autosummary/jax.tree_util.Partial.html) for this, which works like `functools.partial` but is compatible with jax transformations. Note that stateful objects can still be used internally as long as no stuff from an outer scope (that may change over time) is read or written. This is the user's responsibility \n"
   ]
  },
  {
   "cell_type": "code",
   "execution_count": 1,
   "metadata": {},
   "outputs": [],
   "source": [
    "import jax\n",
    "import jax.numpy as jnp\n",
    "from jax import make_jaxpr\n",
    "from jax.tree_util import Partial\n"
   ]
  },
  {
   "cell_type": "code",
   "execution_count": 2,
   "metadata": {},
   "outputs": [],
   "source": [
    "from rubix.pipeline import linear_pipeline as ltp\n",
    "from rubix.pipeline import transformer as rtr\n",
    "from rubix.utils import read_yaml"
   ]
  },
  {
   "cell_type": "markdown",
   "metadata": {},
   "source": [
    "## Build some simple decorator for function configuration\n",
    "-  leverages jax.tree_util.Partial\n",
    "-  builds a partial object to which jax transformations can be applied \n",
    "-  three cases: \n",
    "   -  build the pure function object: you have to take care about static args/kwargs yourself upon calling jit. The decorator only builds the function object\n",
    "   -  jit it right away: the usual. here you can tell it which args/kwargs to trace or not with the `static_args` and `static_kwargs` keyword arguments\n",
    "   -  build expression: mainly to check what comes out of the thing at the end of for intermediate steps. can build a jax expression (wiht no arguments) or a jax core expression (when arguments are given as well). Note that for some reasone, `jax.make_jaxpr` does not have `static_argnames` like `jit` does. \n",
    "-  With these, we can configure our pipeline transformers. \n",
    "-  Not entirely sure right now which are useful or needed\n",
    "-  these decorators/factory functions live in `rubix.pipeline.transformer`"
   ]
  },
  {
   "cell_type": "markdown",
   "metadata": {},
   "source": [
    "**simple transformer decorator that binds function to arguments** "
   ]
  },
  {
   "cell_type": "code",
   "execution_count": 3,
   "metadata": {},
   "outputs": [],
   "source": [
    "def transformer(**kwargs):\n",
    "\n",
    "    def transformer_wrap(kernel):\n",
    "        return Partial(kernel, **kwargs)\n",
    "\n",
    "    return transformer_wrap"
   ]
  },
  {
   "cell_type": "code",
   "execution_count": 4,
   "metadata": {},
   "outputs": [],
   "source": [
    "@transformer(z = 5, k = 3.14)\n",
    "def add(x, y, z: float = 0, k: float = 0): \n",
    "    return x + y + z + k"
   ]
  },
  {
   "cell_type": "code",
   "execution_count": 5,
   "metadata": {},
   "outputs": [
    {
     "data": {
      "text/plain": [
       "jax._src.tree_util.Partial"
      ]
     },
     "execution_count": 5,
     "metadata": {},
     "output_type": "execute_result"
    }
   ],
   "source": [
    "type(add)"
   ]
  },
  {
   "cell_type": "code",
   "execution_count": 6,
   "metadata": {},
   "outputs": [],
   "source": [
    "addjit = jax.jit(add)"
   ]
  },
  {
   "cell_type": "code",
   "execution_count": 7,
   "metadata": {},
   "outputs": [
    {
     "name": "stderr",
     "output_type": "stream",
     "text": [
      "An NVIDIA GPU may be present on this machine, but a CUDA-enabled jaxlib is not installed. Falling back to cpu.\n"
     ]
    }
   ],
   "source": [
    "x = jnp.array([3., 2., 1.], dtype = jnp.float32)"
   ]
  },
  {
   "cell_type": "code",
   "execution_count": 8,
   "metadata": {},
   "outputs": [
    {
     "data": {
      "text/plain": [
       "Array([14.14, 12.14, 10.14], dtype=float32)"
      ]
     },
     "execution_count": 8,
     "metadata": {},
     "output_type": "execute_result"
    }
   ],
   "source": [
    "addjit(x, x)"
   ]
  },
  {
   "cell_type": "markdown",
   "metadata": {},
   "source": [
    "**transformer that compiles stuff immediatelly**\n",
    "can be used for the final pipeline or for intermediate steps during debug or whatever"
   ]
  },
  {
   "cell_type": "code",
   "execution_count": 9,
   "metadata": {},
   "outputs": [],
   "source": [
    "def compiled_transformer( static_args: list = [], static_kwargs: list = [], **kwargs,):\n",
    "\n",
    "    def transformer_wrap(kernel):\n",
    "\n",
    "        return jax.jit(Partial(kernel, **kwargs), static_argnums= static_args, static_argnames=static_kwargs)\n",
    "\n",
    "    return transformer_wrap"
   ]
  },
  {
   "cell_type": "code",
   "execution_count": 10,
   "metadata": {},
   "outputs": [],
   "source": [
    "@compiled_transformer(z = 5, k = -3.14)\n",
    "def cond_add(x, y, z: float = 0, k: float = 0):\n",
    "    if k < 0: \n",
    "        return x + y + z + k \n",
    "    else: \n",
    "        return x + y + z + 2*k"
   ]
  },
  {
   "cell_type": "code",
   "execution_count": 11,
   "metadata": {},
   "outputs": [
    {
     "data": {
      "text/plain": [
       "<PjitFunction of Partial(<function cond_add at 0x7f7f13156d40>, z=5, k=-3.14)>"
      ]
     },
     "execution_count": 11,
     "metadata": {},
     "output_type": "execute_result"
    }
   ],
   "source": [
    "cond_add"
   ]
  },
  {
   "cell_type": "code",
   "execution_count": 12,
   "metadata": {},
   "outputs": [
    {
     "data": {
      "text/plain": [
       "Array([7.8599997, 5.8599997, 3.86     ], dtype=float32)"
      ]
     },
     "execution_count": 12,
     "metadata": {},
     "output_type": "execute_result"
    }
   ],
   "source": [
    "cond_add(x,x)"
   ]
  },
  {
   "cell_type": "code",
   "execution_count": 13,
   "metadata": {},
   "outputs": [],
   "source": [
    "def cond_add(x, y, z: float = 0, k: float = 0):\n",
    "    if k < 0: \n",
    "        return x + y + z + k \n",
    "    else: \n",
    "        return x + y + z + 2*k"
   ]
  },
  {
   "cell_type": "markdown",
   "metadata": {},
   "source": [
    "use on predefined functions without the decorator syntax"
   ]
  },
  {
   "cell_type": "code",
   "execution_count": 14,
   "metadata": {},
   "outputs": [],
   "source": [
    "cond_add_plus = compiled_transformer(z = 5, k = -3.14, static_kwargs = [\"z\", \"k\"])(cond_add)"
   ]
  },
  {
   "cell_type": "code",
   "execution_count": 15,
   "metadata": {},
   "outputs": [
    {
     "data": {
      "text/plain": [
       "<PjitFunction of Partial(<function cond_add at 0x7f7f131577f0>, z=5, k=-3.14)>"
      ]
     },
     "execution_count": 15,
     "metadata": {},
     "output_type": "execute_result"
    }
   ],
   "source": [
    "cond_add_plus"
   ]
  },
  {
   "cell_type": "code",
   "execution_count": 16,
   "metadata": {},
   "outputs": [
    {
     "data": {
      "text/plain": [
       "Array([7.8599997, 5.8599997, 3.86     ], dtype=float32)"
      ]
     },
     "execution_count": 16,
     "metadata": {},
     "output_type": "execute_result"
    }
   ],
   "source": [
    "cond_add_plus(x,x)"
   ]
  },
  {
   "cell_type": "markdown",
   "metadata": {},
   "source": [
    "**Expression based decorator for getting out the intermediate `jaxpr` object for inspection** \n",
    "- `make_jaxpr` does not support kwargs. god knows why?"
   ]
  },
  {
   "cell_type": "code",
   "execution_count": 17,
   "metadata": {},
   "outputs": [],
   "source": [
    "def expression_transformer(*args, static_args: list = [], ):\n",
    "     \n",
    "    def transformer_wrap(kernel): \n",
    "        if len(args) > 0: \n",
    "            return jax.make_jaxpr(kernel, static_argnums=static_args)(*args)\n",
    "        else: \n",
    "            return jax.make_jaxpr(kernel, static_argnums=static_args)\n",
    "    return transformer_wrap"
   ]
  },
  {
   "cell_type": "code",
   "execution_count": 18,
   "metadata": {},
   "outputs": [],
   "source": [
    "@expression_transformer(x, x, 5, 3.14, static_args = [2, 3])\n",
    "def cond_add(x, y, z: float = 0, k: float = 0):\n",
    "    if k < 0: \n",
    "        return x + y + z + k \n",
    "    else: \n",
    "        return x + y + z + 2*k"
   ]
  },
  {
   "cell_type": "code",
   "execution_count": 19,
   "metadata": {},
   "outputs": [
    {
     "data": {
      "text/plain": [
       "{ lambda ; a:f32[3] b:f32[3]. let\n",
       "    c:f32[3] = add a b\n",
       "    d:f32[3] = add c 5.0\n",
       "    e:f32[3] = add d 6.28000020980835\n",
       "  in (e,) }"
      ]
     },
     "execution_count": 19,
     "metadata": {},
     "output_type": "execute_result"
    }
   ],
   "source": [
    "cond_add"
   ]
  },
  {
   "cell_type": "code",
   "execution_count": 20,
   "metadata": {},
   "outputs": [],
   "source": [
    "@expression_transformer(x, x, 5, -3.14, static_args = [3])\n",
    "def cond_add(x, y, z: float = 0, k: float = 0):\n",
    "    if k < 0: \n",
    "        return x + y + z + k \n",
    "    else: \n",
    "        return x + y + z + 2*k"
   ]
  },
  {
   "cell_type": "code",
   "execution_count": 21,
   "metadata": {},
   "outputs": [
    {
     "data": {
      "text/plain": [
       "{ lambda ; a:f32[3] b:f32[3] c:i32[]. let\n",
       "    d:f32[3] = add a b\n",
       "    e:f32[] = convert_element_type[new_dtype=float32 weak_type=False] c\n",
       "    f:f32[3] = add d e\n",
       "    g:f32[3] = add f -3.140000104904175\n",
       "  in (g,) }"
      ]
     },
     "execution_count": 21,
     "metadata": {},
     "output_type": "execute_result"
    }
   ],
   "source": [
    "cond_add"
   ]
  },
  {
   "cell_type": "code",
   "execution_count": 22,
   "metadata": {},
   "outputs": [],
   "source": [
    "@expression_transformer(static_args = [2, 3])\n",
    "def cond_add(x, y, z: float = 0, k: float = 0):\n",
    "    if k < 0: \n",
    "        return x + y + z + k \n",
    "    else: \n",
    "        return x + y + z + 2*k"
   ]
  },
  {
   "cell_type": "code",
   "execution_count": 23,
   "metadata": {},
   "outputs": [
    {
     "data": {
      "text/plain": [
       "<function jax.make_jaxpr(cond_add)(x, y, z: float = 0, k: float = 0)>"
      ]
     },
     "execution_count": 23,
     "metadata": {},
     "output_type": "execute_result"
    }
   ],
   "source": [
    "cond_add"
   ]
  },
  {
   "cell_type": "markdown",
   "metadata": {},
   "source": [
    "### Define a number of simple, dump transformers\n",
    "- we pretend that their second value is something we want to configure from the start and hence it should not be traced\n",
    "\n",
    "- we can use the above decorators to bind their second arg to something we know"
   ]
  },
  {
   "cell_type": "code",
   "execution_count": 24,
   "metadata": {},
   "outputs": [],
   "source": [
    "def add(x, s: float): \n",
    "    return x + s \n",
    "\n",
    "def mult(x, m: float): \n",
    "    return x * m \n",
    "\n",
    "def div(x, d: float): \n",
    "    return x / d \n",
    "\n",
    "def sub(x, s: float): \n",
    "    return x - s "
   ]
  },
  {
   "cell_type": "markdown",
   "metadata": {},
   "source": [
    "## Configuration files and pipeline building\n",
    "\n",
    "- yaml format: dictionary \n",
    "- inside the dictionary one can arbitrarily nest lists, dicts. \n",
    "- customizable for node formats not provided \n",
    "- available on pretty much all languages\n",
    "- the config file builds an adjacency list of a DAG essentially, but currently it's limited to only one child per node => linear\n",
    "- the build algorithm is limited to linear pipelines for the moment \n",
    "- while a more general base class is provided, we only implement linear pipelines atm \n",
    "- the essential part is the `transformers` node of the config. this is the actual DAG adjacency list \n",
    "- you can use other nodes to configure other parts of your system: data directories etc\n"
   ]
  },
  {
   "cell_type": "markdown",
   "metadata": {},
   "source": [
    "#### Config node structure: \n",
    "name_of_pipeline_step:\n",
    "\n",
    "____name: name_of_function\n",
    "\n",
    "____depends_on: name_of_step_immediatelly_prior_in_pipeline \n",
    "    \n",
    "____args: \n",
    "\n",
    "________ argument1: value1 \n",
    "\n",
    "________ argument2: value2 \n",
    "\n",
    "________ argumentN: valueN\n",
    "\n",
    "-> \n",
    "\n",
    "**see the example file for for details**\n",
    "\n",
    "the arguments in `args` will be used to create the partial object"
   ]
  },
  {
   "cell_type": "code",
   "execution_count": 25,
   "metadata": {},
   "outputs": [],
   "source": [
    "read_cfg = read_yaml(\"./demo.yml\")  # implemented in utils"
   ]
  },
  {
   "cell_type": "code",
   "execution_count": 26,
   "metadata": {},
   "outputs": [
    {
     "data": {
      "text/plain": [
       "{'Transformers': {'A': {'name': 'add', 'depends_on': 'B', 'args': {'s': 3.0}},\n",
       "  'X': {'name': 'mult', 'depends_on': 'A', 'args': {'m': 3}},\n",
       "  'Z': {'name': 'div', 'depends_on': 'X', 'args': {'d': 4}},\n",
       "  'B': {'name': 'sub', 'depends_on': 'C', 'args': {'s': 2}},\n",
       "  'C': {'name': 'add', 'depends_on': None, 'args': {'s': 4}}}}"
      ]
     },
     "execution_count": 26,
     "metadata": {},
     "output_type": "execute_result"
    }
   ],
   "source": [
    "read_cfg"
   ]
  },
  {
   "cell_type": "code",
   "execution_count": 27,
   "metadata": {},
   "outputs": [
    {
     "data": {
      "text/plain": [
       "dict"
      ]
     },
     "execution_count": 27,
     "metadata": {},
     "output_type": "execute_result"
    }
   ],
   "source": [
    "type(read_cfg)"
   ]
  },
  {
   "cell_type": "code",
   "execution_count": 28,
   "metadata": {},
   "outputs": [
    {
     "data": {
      "text/plain": [
       "{'A': {'name': 'add', 'depends_on': 'B', 'args': {'s': 3.0}},\n",
       " 'X': {'name': 'mult', 'depends_on': 'A', 'args': {'m': 3}},\n",
       " 'Z': {'name': 'div', 'depends_on': 'X', 'args': {'d': 4}},\n",
       " 'B': {'name': 'sub', 'depends_on': 'C', 'args': {'s': 2}},\n",
       " 'C': {'name': 'add', 'depends_on': None, 'args': {'s': 4}}}"
      ]
     },
     "execution_count": 28,
     "metadata": {},
     "output_type": "execute_result"
    }
   ],
   "source": [
    "read_cfg[\"Transformers\"]"
   ]
  },
  {
   "cell_type": "code",
   "execution_count": 29,
   "metadata": {},
   "outputs": [
    {
     "data": {
      "text/plain": [
       "dict"
      ]
     },
     "execution_count": 29,
     "metadata": {},
     "output_type": "execute_result"
    }
   ],
   "source": [
    "type(read_cfg[\"Transformers\"])"
   ]
  },
  {
   "cell_type": "code",
   "execution_count": 30,
   "metadata": {},
   "outputs": [],
   "source": [
    "tp = ltp.LinearTransformerPipeline(read_cfg)"
   ]
  },
  {
   "cell_type": "code",
   "execution_count": 31,
   "metadata": {},
   "outputs": [],
   "source": [
    "for name in [add, mult, div, sub]: \n",
    "    tp.register_transformer(name)"
   ]
  },
  {
   "cell_type": "code",
   "execution_count": 32,
   "metadata": {},
   "outputs": [
    {
     "data": {
      "text/plain": [
       "{'add': <function __main__.add(x, s: float)>,\n",
       " 'mult': <function __main__.mult(x, m: float)>,\n",
       " 'div': <function __main__.div(x, d: float)>,\n",
       " 'sub': <function __main__.sub(x, s: float)>}"
      ]
     },
     "execution_count": 32,
     "metadata": {},
     "output_type": "execute_result"
    }
   ],
   "source": [
    "tp.transformers"
   ]
  },
  {
   "cell_type": "markdown",
   "metadata": {},
   "source": [
    "The `transformers` member gives us a dict of `name: function` pairs for the transformers \n",
    "This currently has to be done before the assembly of the pipeline, or the pipeline will not know what to assemble it from"
   ]
  },
  {
   "cell_type": "code",
   "execution_count": 33,
   "metadata": {},
   "outputs": [],
   "source": [
    "tp.assemble()"
   ]
  },
  {
   "cell_type": "code",
   "execution_count": 34,
   "metadata": {},
   "outputs": [
    {
     "data": {
      "text/plain": [
       "{'C': Partial(<function add at 0x7f7f13157d00>, s=4),\n",
       " 'B': Partial(<function sub at 0x7f7f13188280>, s=2),\n",
       " 'A': Partial(<function add at 0x7f7f13157d00>, s=3.0),\n",
       " 'X': Partial(<function mult at 0x7f7f13156e60>, m=3),\n",
       " 'Z': Partial(<function div at 0x7f7f131881f0>, d=4)}"
      ]
     },
     "execution_count": 34,
     "metadata": {},
     "output_type": "execute_result"
    }
   ],
   "source": [
    "tp.pipeline"
   ]
  },
  {
   "cell_type": "markdown",
   "metadata": {},
   "source": [
    "Now we have a list of jax `Partial`s to which we can apply, assuming the individual elements are well behaved, all jax transformations in principle. If this is true for the elements, then it is true for the composition as long as the function we use for composition is pure functional itself"
   ]
  },
  {
   "cell_type": "code",
   "execution_count": 35,
   "metadata": {},
   "outputs": [
    {
     "data": {
      "text/plain": [
       "Partial(<function LinearTransformerPipeline.build_expression.<locals>.expr at 0x7f7f13188550>, pipeline=[Partial(<function add at 0x7f7f13157d00>, s=4), Partial(<function sub at 0x7f7f13188280>, s=2), Partial(<function add at 0x7f7f13157d00>, s=3.0), Partial(<function mult at 0x7f7f13156e60>, m=3), Partial(<function div at 0x7f7f131881f0>, d=4)])"
      ]
     },
     "execution_count": 35,
     "metadata": {},
     "output_type": "execute_result"
    }
   ],
   "source": [
    "tp.expression"
   ]
  },
  {
   "cell_type": "code",
   "execution_count": 36,
   "metadata": {},
   "outputs": [],
   "source": [
    "func = tp.compile_expression()"
   ]
  },
  {
   "cell_type": "code",
   "execution_count": 37,
   "metadata": {},
   "outputs": [
    {
     "data": {
      "text/plain": [
       "Array([3., 2., 1.], dtype=float32)"
      ]
     },
     "execution_count": 37,
     "metadata": {},
     "output_type": "execute_result"
    }
   ],
   "source": [
    "x"
   ]
  },
  {
   "cell_type": "code",
   "execution_count": 38,
   "metadata": {},
   "outputs": [
    {
     "data": {
      "text/plain": [
       "Array([6.  , 5.25, 4.5 ], dtype=float32)"
      ]
     },
     "execution_count": 38,
     "metadata": {},
     "output_type": "execute_result"
    }
   ],
   "source": [
    "func(x)"
   ]
  },
  {
   "cell_type": "code",
   "execution_count": 39,
   "metadata": {},
   "outputs": [
    {
     "data": {
      "text/plain": [
       "Array([6.  , 5.25, 4.5 ], dtype=float32)"
      ]
     },
     "execution_count": 39,
     "metadata": {},
     "output_type": "execute_result"
    }
   ],
   "source": [
    "div(mult(add(sub(add(x, s=4), s=2), s=3), m=3),d=4)"
   ]
  },
  {
   "cell_type": "code",
   "execution_count": 40,
   "metadata": {},
   "outputs": [
    {
     "data": {
      "text/plain": [
       "<PjitFunction of Partial(_HashableCallableShim(Partial(<function LinearTransformerPipeline.build_expression.<locals>.expr at 0x7f7f13188550>, pipeline=[Partial(<function add at 0x7f7f13157d00>, s=4), Partial(<function sub at 0x7f7f13188280>, s=2), Partial(<function add at 0x7f7f13157d00>, s=3.0), Partial(<function mult at 0x7f7f13156e60>, m=3), Partial(<function div at 0x7f7f131881f0>, d=4)])))>"
      ]
     },
     "execution_count": 40,
     "metadata": {},
     "output_type": "execute_result"
    }
   ],
   "source": [
    "func"
   ]
  },
  {
   "cell_type": "code",
   "execution_count": 41,
   "metadata": {},
   "outputs": [
    {
     "data": {
      "text/plain": [
       "{ lambda ; a:f32[3]. let\n",
       "    b:f32[3] = add a 4.0\n",
       "    c:f32[3] = sub b 2.0\n",
       "    d:f32[3] = add c 3.0\n",
       "    e:f32[3] = mul d 3.0\n",
       "    f:f32[3] = div e 4.0\n",
       "  in (f,) }"
      ]
     },
     "execution_count": 41,
     "metadata": {},
     "output_type": "execute_result"
    }
   ],
   "source": [
    "tp.get_jaxpr()(x)"
   ]
  },
  {
   "cell_type": "code",
   "execution_count": 42,
   "metadata": {},
   "outputs": [],
   "source": [
    "def func(x): \n",
    "    return div(mult(add(sub(add(x, s=4), s=2), s=3), m=3),d=4)"
   ]
  },
  {
   "cell_type": "code",
   "execution_count": 43,
   "metadata": {},
   "outputs": [
    {
     "data": {
      "text/plain": [
       "{ lambda ; a:f32[3]. let\n",
       "    b:f32[3] = add a 4.0\n",
       "    c:f32[3] = sub b 2.0\n",
       "    d:f32[3] = add c 3.0\n",
       "    e:f32[3] = mul d 3.0\n",
       "    f:f32[3] = div e 4.0\n",
       "  in (f,) }"
      ]
     },
     "execution_count": 43,
     "metadata": {},
     "output_type": "execute_result"
    }
   ],
   "source": [
    "make_jaxpr(func)(x)"
   ]
  },
  {
   "cell_type": "markdown",
   "metadata": {},
   "source": [
    "## Summary \n",
    "- pipeline produces same jax code as handwritten stuff. This seems encouraging.\n",
    "- at which points do we still need to ensure pure functional behavior?\n",
    "- how will we enforce transformer compatibility\n",
    "- this is a pathologically simple case \n",
    "- when does it break? \n",
    "- what use cases are not covered?\n",
    "- what else do you need? \n"
   ]
  }
 ],
 "metadata": {
  "kernelspec": {
   "display_name": ".venv",
   "language": "python",
   "name": "python3"
  },
  "language_info": {
   "codemirror_mode": {
    "name": "ipython",
    "version": 3
   },
   "file_extension": ".py",
   "mimetype": "text/x-python",
   "name": "python",
   "nbconvert_exporter": "python",
   "pygments_lexer": "ipython3",
   "version": "3.10.12"
  }
 },
 "nbformat": 4,
 "nbformat_minor": 2
}
