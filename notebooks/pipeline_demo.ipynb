{
 "cells": [
  {
   "cell_type": "code",
   "execution_count": 1,
   "metadata": {},
   "outputs": [],
   "source": [
    "import jax\n",
    "import jax.numpy as jnp\n",
    "from jax import make_jaxpr\n",
    "from jax.tree_util import Partial\n"
   ]
  },
  {
   "cell_type": "code",
   "execution_count": 2,
   "metadata": {},
   "outputs": [],
   "source": [
    "from rubix.pipeline import linear_pipeline as ltp\n",
    "from rubix.pipeline import transformer as rtr\n",
    "from rubix.utils import read_yaml"
   ]
  },
  {
   "cell_type": "markdown",
   "metadata": {},
   "source": [
    "### these will be replaced with a decorator probably"
   ]
  },
  {
   "cell_type": "code",
   "execution_count": 3,
   "metadata": {},
   "outputs": [],
   "source": [
    "class Add(rtr.TransformerFactoryBase):\n",
    "    def __init__(self, value: float = 0.0):\n",
    "        self.s = value\n",
    "\n",
    "    def create(self) -> callable:\n",
    "        def f(a):\n",
    "            s = self.s\n",
    "            return a + s\n",
    "\n",
    "        return f\n",
    "\n",
    "\n",
    "class Multiply(rtr.TransformerFactoryBase):\n",
    "    def __init__(self, factor: float = 0):\n",
    "        self.s = factor\n",
    "\n",
    "    def create(self) -> callable:\n",
    "        def f(a):\n",
    "            s = self.s\n",
    "            return a * s\n",
    "\n",
    "        return f\n",
    "\n",
    "\n",
    "class Divide(rtr.TransformerFactoryBase):\n",
    "    def __init__(self, divisor: float = 0):\n",
    "        self.s = divisor\n",
    "\n",
    "    def create(self) -> callable:\n",
    "        def f(a):\n",
    "            s = self.s\n",
    "            return a / s\n",
    "\n",
    "        return f\n"
   ]
  },
  {
   "cell_type": "code",
   "execution_count": 52,
   "metadata": {},
   "outputs": [],
   "source": [
    "read_cfg = read_yaml(\"./demo.yml\")"
   ]
  },
  {
   "cell_type": "code",
   "execution_count": 53,
   "metadata": {},
   "outputs": [
    {
     "data": {
      "text/plain": [
       "{'Transformers': {'A': {'name': 'Add',\n",
       "   'depends_on': 'B',\n",
       "   'args': {'value': 3.0}},\n",
       "  'X': {'name': 'Multiply', 'depends_on': 'A', 'args': {'factor': 3}},\n",
       "  'Z': {'name': 'Divide', 'depends_on': 'X', 'args': {'divisor': 4}},\n",
       "  'B': {'name': 'Multiply', 'depends_on': 'C', 'args': {'factor': 2}},\n",
       "  'C': {'name': 'Add', 'depends_on': None, 'args': {'value': 4}}}}"
      ]
     },
     "execution_count": 53,
     "metadata": {},
     "output_type": "execute_result"
    }
   ],
   "source": [
    "read_cfg"
   ]
  },
  {
   "cell_type": "code",
   "execution_count": 57,
   "metadata": {},
   "outputs": [],
   "source": [
    "tp = ltp.LinearTransformerPipeline(read_cfg)"
   ]
  },
  {
   "cell_type": "code",
   "execution_count": 58,
   "metadata": {},
   "outputs": [],
   "source": [
    "for classname in [Add, Multiply, Divide]: \n",
    "    tp.register_transformer(classname)"
   ]
  },
  {
   "cell_type": "code",
   "execution_count": 59,
   "metadata": {},
   "outputs": [
    {
     "data": {
      "text/plain": [
       "{'Add': __main__.Add, 'Multiply': __main__.Multiply, 'Divide': __main__.Divide}"
      ]
     },
     "execution_count": 59,
     "metadata": {},
     "output_type": "execute_result"
    }
   ],
   "source": [
    "tp.transformers"
   ]
  },
  {
   "cell_type": "code",
   "execution_count": 60,
   "metadata": {},
   "outputs": [],
   "source": [
    "tp.assemble()"
   ]
  },
  {
   "cell_type": "markdown",
   "metadata": {},
   "source": [
    "### Look at pipeline output to check if it's build correctly. order of application is top to bottom"
   ]
  },
  {
   "cell_type": "code",
   "execution_count": 61,
   "metadata": {},
   "outputs": [
    {
     "data": {
      "text/plain": [
       "{'C': <function __main__.Add.create.<locals>.f(a)>,\n",
       " 'B': <function __main__.Multiply.create.<locals>.f(a)>,\n",
       " 'A': <function __main__.Add.create.<locals>.f(a)>,\n",
       " 'X': <function __main__.Multiply.create.<locals>.f(a)>,\n",
       " 'Z': <function __main__.Divide.create.<locals>.f(a)>}"
      ]
     },
     "execution_count": 61,
     "metadata": {},
     "output_type": "execute_result"
    }
   ],
   "source": [
    "tp.pipeline"
   ]
  },
  {
   "cell_type": "code",
   "execution_count": 12,
   "metadata": {},
   "outputs": [
    {
     "data": {
      "text/plain": [
       "<function rubix.pipeline.linear_pipeline.LinearTransformerPipeline.build_expression.<locals>.expr(input)>"
      ]
     },
     "execution_count": 12,
     "metadata": {},
     "output_type": "execute_result"
    }
   ],
   "source": [
    "tp.expression"
   ]
  },
  {
   "cell_type": "code",
   "execution_count": 15,
   "metadata": {},
   "outputs": [
    {
     "name": "stderr",
     "output_type": "stream",
     "text": [
      "An NVIDIA GPU may be present on this machine, but a CUDA-enabled jaxlib is not installed. Falling back to cpu.\n"
     ]
    }
   ],
   "source": [
    "x = jnp.array([3., 2., 1.], dtype = jnp.float32)"
   ]
  },
  {
   "cell_type": "markdown",
   "metadata": {},
   "source": [
    "### Make tests to check how the pipeline behaves compared to manual composition"
   ]
  },
  {
   "cell_type": "code",
   "execution_count": 19,
   "metadata": {},
   "outputs": [],
   "source": [
    "tpp = tp.pipeline"
   ]
  },
  {
   "cell_type": "code",
   "execution_count": 22,
   "metadata": {},
   "outputs": [],
   "source": [
    "restest = tpp[\"Z\"](tpp[\"X\"](tpp[\"A\"](tpp[\"B\"](tpp[\"C\"](x)))))"
   ]
  },
  {
   "cell_type": "code",
   "execution_count": 23,
   "metadata": {},
   "outputs": [
    {
     "data": {
      "text/plain": [
       "Array([12.75, 11.25,  9.75], dtype=float32)"
      ]
     },
     "execution_count": 23,
     "metadata": {},
     "output_type": "execute_result"
    }
   ],
   "source": [
    "res"
   ]
  },
  {
   "cell_type": "code",
   "execution_count": 24,
   "metadata": {},
   "outputs": [
    {
     "data": {
      "text/plain": [
       "Array([12.75, 11.25,  9.75], dtype=float32)"
      ]
     },
     "execution_count": 24,
     "metadata": {},
     "output_type": "execute_result"
    }
   ],
   "source": [
    "restest"
   ]
  },
  {
   "cell_type": "code",
   "execution_count": 26,
   "metadata": {},
   "outputs": [
    {
     "data": {
      "text/plain": [
       "{'C': <function __main__.Add.create.<locals>.f(a)>,\n",
       " 'B': <function __main__.Multiply.create.<locals>.f(a)>,\n",
       " 'A': <function __main__.Add.create.<locals>.f(a)>,\n",
       " 'X': <function __main__.Multiply.create.<locals>.f(a)>,\n",
       " 'Z': <function __main__.Divide.create.<locals>.f(a)>}"
      ]
     },
     "execution_count": 26,
     "metadata": {},
     "output_type": "execute_result"
    }
   ],
   "source": [
    "tp.pipeline"
   ]
  },
  {
   "cell_type": "code",
   "execution_count": 27,
   "metadata": {},
   "outputs": [],
   "source": [
    "C = Add(4).create()\n",
    "B = Multiply(2).create()\n",
    "A = Add(3).create()\n",
    "X = Multiply(3).create()\n",
    "Z = Divide(4).create()\n"
   ]
  },
  {
   "cell_type": "code",
   "execution_count": 32,
   "metadata": {},
   "outputs": [],
   "source": [
    "def func(x): \n",
    "    return Z(X(A(B(C(x)))))"
   ]
  },
  {
   "cell_type": "code",
   "execution_count": 34,
   "metadata": {},
   "outputs": [],
   "source": [
    "compiled_func = jax.jit(func)"
   ]
  },
  {
   "cell_type": "code",
   "execution_count": 39,
   "metadata": {},
   "outputs": [],
   "source": [
    "expr = jax.make_jaxpr(func)(x)"
   ]
  },
  {
   "cell_type": "code",
   "execution_count": 37,
   "metadata": {},
   "outputs": [],
   "source": [
    "pexpr = jax.make_jaxpr(tp.expression)(x)"
   ]
  },
  {
   "cell_type": "code",
   "execution_count": 40,
   "metadata": {},
   "outputs": [
    {
     "data": {
      "text/plain": [
       "{ lambda ; a:f32[3]. let\n",
       "    b:f32[3] = add a 4.0\n",
       "    c:f32[3] = mul b 2.0\n",
       "    d:f32[3] = add c 3.0\n",
       "    e:f32[3] = mul d 3.0\n",
       "    f:f32[3] = div e 4.0\n",
       "  in (f,) }"
      ]
     },
     "execution_count": 40,
     "metadata": {},
     "output_type": "execute_result"
    }
   ],
   "source": [
    "expr"
   ]
  },
  {
   "cell_type": "code",
   "execution_count": 41,
   "metadata": {},
   "outputs": [
    {
     "data": {
      "text/plain": [
       "{ lambda ; a:f32[3]. let\n",
       "    b:f32[3] = add a 4.0\n",
       "    c:f32[3] = mul b 2.0\n",
       "    d:f32[3] = add c 3.0\n",
       "    e:f32[3] = mul d 3.0\n",
       "    f:f32[3] = div e 4.0\n",
       "  in (f,) }"
      ]
     },
     "execution_count": 41,
     "metadata": {},
     "output_type": "execute_result"
    }
   ],
   "source": [
    "pexpr"
   ]
  },
  {
   "cell_type": "markdown",
   "metadata": {},
   "source": [
    "### The two expressions are the same \n",
    "- therefore it seems we can go with the for loop approach and don't need to operate on the expression level for the computation.\n",
    "- we don't have to ensure the laziness ourselves at least for simple cases \n",
    "- what about more complex ones with static parameters and stuff\n",
    "- we might have to for compatibility checking\n",
    "- where will that break? \n",
    "- will it break at all? \n",
    "- how can we assure that it doesn't? \n"
   ]
  },
  {
   "cell_type": "code",
   "execution_count": null,
   "metadata": {},
   "outputs": [],
   "source": []
  }
 ],
 "metadata": {
  "kernelspec": {
   "display_name": ".venv",
   "language": "python",
   "name": "python3"
  },
  "language_info": {
   "codemirror_mode": {
    "name": "ipython",
    "version": 3
   },
   "file_extension": ".py",
   "mimetype": "text/x-python",
   "name": "python",
   "nbconvert_exporter": "python",
   "pygments_lexer": "ipython3",
   "version": "3.10.12"
  }
 },
 "nbformat": 4,
 "nbformat_minor": 2
}
