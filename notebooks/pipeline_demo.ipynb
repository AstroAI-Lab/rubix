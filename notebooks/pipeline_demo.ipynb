{
 "cells": [
  {
   "cell_type": "code",
   "execution_count": 1,
   "metadata": {},
   "outputs": [],
   "source": [
    "import jax\n",
    "import jax.numpy as jnp\n",
    "from jax import make_jaxpr\n"
   ]
  },
  {
   "cell_type": "code",
   "execution_count": 2,
   "metadata": {},
   "outputs": [],
   "source": [
    "from rubix.pipeline import linear_pipeline as ltp\n",
    "from rubix.pipeline import transformer as rtr\n",
    "from rubix.utils import read_yaml"
   ]
  },
  {
   "cell_type": "code",
   "execution_count": 3,
   "metadata": {},
   "outputs": [],
   "source": [
    "class Add(rtr.TransformerFactoryBase):\n",
    "    def __init__(self, value: float = 0.0):\n",
    "        self.s = value\n",
    "\n",
    "    def create(self) -> jnp.array:\n",
    "        def f(a):\n",
    "            s = self.s\n",
    "            return a + s\n",
    "\n",
    "        return f\n",
    "\n",
    "\n",
    "class Multiply(rtr.TransformerFactoryBase):\n",
    "    def __init__(self, factor: float = 0):\n",
    "        self.s = factor\n",
    "\n",
    "    def create(self) -> jnp.array:\n",
    "        def f(a):\n",
    "            s = self.s\n",
    "            return a * s\n",
    "\n",
    "        return f\n",
    "\n",
    "\n",
    "class Divide(rtr.TransformerFactoryBase):\n",
    "    def __init__(self, divisor: float = 0):\n",
    "        self.s = divisor\n",
    "\n",
    "    def create(self) -> jnp.array:\n",
    "        def f(a):\n",
    "            s = self.s\n",
    "            return a / s\n",
    "\n",
    "        return f\n"
   ]
  },
  {
   "cell_type": "code",
   "execution_count": 4,
   "metadata": {},
   "outputs": [],
   "source": [
    "cfg = {\n",
    "    \"Transformers\": {\n",
    "        \"A\": {\n",
    "            \"name\": \"Add\",\n",
    "            \"depends_on\": \"B\",\n",
    "            \"args\": {\n",
    "                \"value\": 3.0,\n",
    "            },\n",
    "        },\n",
    "        \"X\": {\n",
    "            \"name\": \"Multiply\",\n",
    "            \"depends_on\": \"A\",\n",
    "            \"args\": {\n",
    "                \"factor\": 2,\n",
    "            },\n",
    "        },\n",
    "        \"Z\": {\n",
    "            \"name\": \"Divide\",\n",
    "            \"depends_on\": \"X\",\n",
    "            \"args\": {\n",
    "                \"divisor\": 4,\n",
    "            },\n",
    "        },\n",
    "        \"B\": {\n",
    "            \"name\": \"Multiply\",\n",
    "            \"depends_on\": \"C\",\n",
    "            \"args\": {\n",
    "                \"factor\": 2,\n",
    "            },\n",
    "        },\n",
    "        \"C\": {\n",
    "            \"name\": \"Add\",\n",
    "            \"depends_on\": None,\n",
    "            \"args\": {\n",
    "                \"value\": 4,\n",
    "            },\n",
    "        },\n",
    "    }\n",
    "}"
   ]
  },
  {
   "cell_type": "code",
   "execution_count": 5,
   "metadata": {},
   "outputs": [],
   "source": [
    "read_cfg = read_yaml(\"./demo.yml\")"
   ]
  },
  {
   "cell_type": "code",
   "execution_count": 6,
   "metadata": {},
   "outputs": [
    {
     "data": {
      "text/plain": [
       "{'Transformers': {'A': {'name': 'Add',\n",
       "   'depends_on': 'B',\n",
       "   'args': {'value': 3.0}},\n",
       "  'X': {'name': 'Multiply', 'depends_on': 'A', 'args': {'factor': 2}},\n",
       "  'Z': {'name': 'Divide', 'depends_on': 'X', 'args': {'divisor': 4}},\n",
       "  'B': {'name': 'Multiply', 'depends_on': 'C', 'args': {'factor': 2}},\n",
       "  'C': {'name': 'Add', 'depends_on': 'None', 'args': {'value': 4}}}}"
      ]
     },
     "execution_count": 6,
     "metadata": {},
     "output_type": "execute_result"
    }
   ],
   "source": [
    "read_cfg"
   ]
  },
  {
   "cell_type": "code",
   "execution_count": 7,
   "metadata": {},
   "outputs": [],
   "source": [
    "tp = ltp.LinearTransformerPipeline(cfg)"
   ]
  },
  {
   "cell_type": "code",
   "execution_count": 8,
   "metadata": {},
   "outputs": [],
   "source": [
    "for classname in [Add, Multiply, Divide]: \n",
    "    tp.register_transformer(classname)"
   ]
  },
  {
   "cell_type": "code",
   "execution_count": 9,
   "metadata": {},
   "outputs": [
    {
     "data": {
      "text/plain": [
       "{'Add': __main__.Add, 'Multiply': __main__.Multiply, 'Divide': __main__.Divide}"
      ]
     },
     "execution_count": 9,
     "metadata": {},
     "output_type": "execute_result"
    }
   ],
   "source": [
    "tp.transformers"
   ]
  },
  {
   "cell_type": "code",
   "execution_count": 10,
   "metadata": {},
   "outputs": [],
   "source": [
    "tp.assemble()"
   ]
  },
  {
   "cell_type": "code",
   "execution_count": 11,
   "metadata": {},
   "outputs": [
    {
     "data": {
      "text/plain": [
       "{'C': <function __main__.Add.create.<locals>.f(a)>,\n",
       " 'B': <function __main__.Multiply.create.<locals>.f(a)>,\n",
       " 'A': <function __main__.Add.create.<locals>.f(a)>,\n",
       " 'X': <function __main__.Multiply.create.<locals>.f(a)>,\n",
       " 'Z': <function __main__.Divide.create.<locals>.f(a)>}"
      ]
     },
     "execution_count": 11,
     "metadata": {},
     "output_type": "execute_result"
    }
   ],
   "source": [
    "tp.pipeline"
   ]
  },
  {
   "cell_type": "code",
   "execution_count": 12,
   "metadata": {},
   "outputs": [
    {
     "data": {
      "text/plain": [
       "<function rubix.pipeline.linear_pipeline.LinearTransformerPipeline.build_expression.<locals>.expr(input)>"
      ]
     },
     "execution_count": 12,
     "metadata": {},
     "output_type": "execute_result"
    }
   ],
   "source": [
    "tp.expression"
   ]
  },
  {
   "cell_type": "code",
   "execution_count": 13,
   "metadata": {},
   "outputs": [
    {
     "data": {
      "text/plain": [
       "<PjitFunction of <function LinearTransformerPipeline.build_expression.<locals>.expr at 0x7f41b4589ab0>>"
      ]
     },
     "execution_count": 13,
     "metadata": {},
     "output_type": "execute_result"
    }
   ],
   "source": [
    "jax.jit(tp.expression)"
   ]
  },
  {
   "cell_type": "code",
   "execution_count": 17,
   "metadata": {},
   "outputs": [],
   "source": [
    "x = jnp.array([3., 2., 1.], dtype = jnp.float32)"
   ]
  },
  {
   "cell_type": "code",
   "execution_count": 18,
   "metadata": {},
   "outputs": [],
   "source": [
    "from jax import make_jaxpr\n"
   ]
  },
  {
   "cell_type": "code",
   "execution_count": 19,
   "metadata": {},
   "outputs": [
    {
     "data": {
      "text/plain": [
       "{ lambda ; a:f32[3]. let\n",
       "    b:f32[3] = add a 4.0\n",
       "    c:f32[3] = mul b 2.0\n",
       "    d:f32[3] = add c 3.0\n",
       "    e:f32[3] = mul d 2.0\n",
       "    f:f32[3] = div e 4.0\n",
       "  in (f,) }"
      ]
     },
     "execution_count": 19,
     "metadata": {},
     "output_type": "execute_result"
    }
   ],
   "source": [
    "make_jaxpr(tp.expression)(x)"
   ]
  },
  {
   "cell_type": "code",
   "execution_count": null,
   "metadata": {},
   "outputs": [],
   "source": [
    "res = tp.apply(x)"
   ]
  }
 ],
 "metadata": {
  "kernelspec": {
   "display_name": ".venv",
   "language": "python",
   "name": "python3"
  },
  "language_info": {
   "codemirror_mode": {
    "name": "ipython",
    "version": 3
   },
   "file_extension": ".py",
   "mimetype": "text/x-python",
   "name": "python",
   "nbconvert_exporter": "python",
   "pygments_lexer": "ipython3",
   "version": "3.10.12"
  }
 },
 "nbformat": 4,
 "nbformat_minor": 2
}
