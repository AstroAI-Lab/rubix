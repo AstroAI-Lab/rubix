{
 "cells": [
  {
   "cell_type": "code",
   "execution_count": null,
   "metadata": {},
   "outputs": [],
   "source": [
    "# NBVAL_IGNORE_OUTPUT\n",
    "from rubix.cosmology import PLANCK15 as rubix_cosmo\n",
    "\n",
    "# Compare to astropy\n",
    "from astropy.cosmology import Planck15 as astropy_cosmo\n",
    "\n",
    "print(rubix_cosmo)\n",
    "print(astropy_cosmo)\n"
   ]
  },
  {
   "cell_type": "markdown",
   "metadata": {},
   "source": [
    "Compare to astropy"
   ]
  },
  {
   "cell_type": "code",
   "execution_count": null,
   "metadata": {},
   "outputs": [],
   "source": [
    "# NBVAL_IGNORE_OUTPUT\n",
    "z = 0.2\n",
    "print(\"Angular Diameter Distance\")\n",
    "print(\"rubix cosmo: \",rubix_cosmo.angular_diameter_distance_to_z(z))\n",
    "print(\"astropy cosmo: \",astropy_cosmo.angular_diameter_distance(z))\n",
    "\n",
    "\n",
    "print(\"Comoving Distance\")\n",
    "print(\"rubix cosmo: \",rubix_cosmo.comoving_distance_to_z(z))\n",
    "print(\"astropy cosmo: \",astropy_cosmo.comoving_distance(z))\n",
    "\n",
    "print(\"lookback to z\")\n",
    "print(\"rubix cosmo: \",rubix_cosmo.lookback_to_z(z))\n",
    "print(\"astropy cosmo: \",astropy_cosmo.lookback_time(z))\n",
    "\n",
    "print(\"Age\")\n",
    "print(\"rubix cosmo: \",rubix_cosmo.age_at_z(z))\n",
    "print(\"astropy cosmo: \",astropy_cosmo.age(z))\n",
    "\n"
   ]
  }
 ],
 "metadata": {
  "kernelspec": {
   "display_name": "rubix",
   "language": "python",
   "name": "python3"
  },
  "language_info": {
   "codemirror_mode": {
    "name": "ipython",
    "version": 3
   },
   "file_extension": ".py",
   "mimetype": "text/x-python",
   "name": "python",
   "nbconvert_exporter": "python",
   "pygments_lexer": "ipython3",
   "version": "3.11.8"
  }
 },
 "nbformat": 4,
 "nbformat_minor": 2
}
