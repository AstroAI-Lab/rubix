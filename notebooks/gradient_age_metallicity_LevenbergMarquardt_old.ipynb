{
 "cells": [
  {
   "cell_type": "code",
   "execution_count": null,
   "metadata": {},
   "outputs": [],
   "source": [
    "# NBVAL_SKIP\n",
    "import os\n",
    "os.environ['SPS_HOME'] = '/mnt/storage/annalena_data/sps_fsps'\n",
    "#os.environ['SPS_HOME'] = '/home/annalena/sps_fsps'\n",
    "#os.environ['SPS_HOME'] = '/Users/annalena/Documents/GitHub/fsps'"
   ]
  },
  {
   "cell_type": "code",
   "execution_count": null,
   "metadata": {},
   "outputs": [],
   "source": [
    "# NBVAL_SKIP\n",
    "import logging\n",
    "\n",
    "# Disable all logging messages\n",
    "#logging.disable(logging.CRITICAL)"
   ]
  },
  {
   "cell_type": "markdown",
   "metadata": {},
   "source": [
    "# Load ssp template from FSPS"
   ]
  },
  {
   "cell_type": "code",
   "execution_count": null,
   "metadata": {},
   "outputs": [],
   "source": [
    "# NBVAL_SKIP\n",
    "from rubix.spectra.ssp.factory import get_ssp_template\n",
    "ssp_fsps = get_ssp_template(\"FSPS\")"
   ]
  },
  {
   "cell_type": "code",
   "execution_count": null,
   "metadata": {},
   "outputs": [],
   "source": [
    "# NBVAL_SKIP\n",
    "age_values = ssp_fsps.age\n",
    "print(age_values.shape)\n",
    "\n",
    "metallicity_values = ssp_fsps.metallicity\n",
    "print(metallicity_values.shape)"
   ]
  },
  {
   "cell_type": "code",
   "execution_count": null,
   "metadata": {},
   "outputs": [],
   "source": [
    "# NBVAL_SKIP\n",
    "index_age = 90\n",
    "index_metallicity = 7\n",
    "\n",
    "initial_metallicity_index = 5\n",
    "initial_age_index = 70\n",
    "\n",
    "learning_age = 0.5\n",
    "learning_metallicity = 1e-3\n",
    "tol = 1e-8\n",
    "\n",
    "print(f\"start age: {age_values[initial_age_index]}, start metallicity: {metallicity_values[initial_metallicity_index]}\")\n",
    "print(f\"target age: {age_values[index_age]}, target metallicity: {metallicity_values[index_metallicity]}\")"
   ]
  },
  {
   "cell_type": "markdown",
   "metadata": {},
   "source": [
    "# Configure pipeline"
   ]
  },
  {
   "cell_type": "code",
   "execution_count": null,
   "metadata": {},
   "outputs": [],
   "source": [
    "# NBVAL_SKIP\n",
    "from rubix.core.pipeline import RubixPipeline\n",
    "import os\n",
    "\n",
    "config = {\n",
    "    \"pipeline\":{\"name\": \"calc_gradient\"},\n",
    "    \n",
    "    \"logger\": {\n",
    "        \"log_level\": \"DEBUG\",\n",
    "        \"log_file_path\": None,\n",
    "        \"format\": \"%(asctime)s - %(name)s - %(levelname)s - %(message)s\",\n",
    "    },\n",
    "    \"data\": {\n",
    "        \"name\": \"IllustrisAPI\",\n",
    "        \"args\": {\n",
    "            \"api_key\": os.environ.get(\"ILLUSTRIS_API_KEY\"),\n",
    "            \"particle_type\": [\"stars\"],\n",
    "            \"simulation\": \"TNG50-1\",\n",
    "            \"snapshot\": 99,\n",
    "            \"save_data_path\": \"data\",\n",
    "        },\n",
    "        \n",
    "        \"load_galaxy_args\": {\n",
    "        \"id\": 14,\n",
    "        \"reuse\": True,\n",
    "        },\n",
    "        \n",
    "        \"subset\": {\n",
    "            \"use_subset\": True,\n",
    "            \"subset_size\": 2,\n",
    "        },\n",
    "    },\n",
    "    \"simulation\": {\n",
    "        \"name\": \"IllustrisTNG\",\n",
    "        \"args\": {\n",
    "            \"path\": \"data/galaxy-id-14.hdf5\",\n",
    "        },\n",
    "    \n",
    "    },\n",
    "    \"output_path\": \"output\",\n",
    "\n",
    "    \"telescope\":\n",
    "        {\"name\": \"TESTGRADIENT\",\n",
    "         \"psf\": {\"name\": \"gaussian\", \"size\": 5, \"sigma\": 0.6},\n",
    "         \"lsf\": {\"sigma\": 1.2},\n",
    "         \"noise\": {\"signal_to_noise\": 100,\"noise_distribution\": \"normal\"},\n",
    "         },\n",
    "    \"cosmology\":\n",
    "        {\"name\": \"PLANCK15\"},\n",
    "        \n",
    "    \"galaxy\":\n",
    "        {\"dist_z\": 0.1,\n",
    "         \"rotation\": {\"type\": \"edge-on\"},\n",
    "        },\n",
    "        \n",
    "    \"ssp\": {\n",
    "        \"template\": {\n",
    "            \"name\": \"FSPS\"\n",
    "        },\n",
    "        \"dust\": {\n",
    "                \"extinction_model\": \"Cardelli89\",\n",
    "                \"dust_to_gas_ratio\": 0.01,\n",
    "                \"dust_to_metals_ratio\": 0.4,\n",
    "                \"dust_grain_density\": 3.5,\n",
    "                \"Rv\": 3.1,\n",
    "            },\n",
    "    },        \n",
    "}"
   ]
  },
  {
   "cell_type": "code",
   "execution_count": null,
   "metadata": {},
   "outputs": [],
   "source": [
    "# NBVAL_SKIP\n",
    "pipe = RubixPipeline(config)\n",
    "inputdata = pipe.prepare_data()\n",
    "rubixdata = pipe.run(inputdata)"
   ]
  },
  {
   "cell_type": "markdown",
   "metadata": {},
   "source": [
    "# Set target values"
   ]
  },
  {
   "cell_type": "code",
   "execution_count": null,
   "metadata": {},
   "outputs": [],
   "source": [
    "# NBVAL_SKIP\n",
    "import jax.numpy as jnp\n",
    "\n",
    "rubixdata.stars.age = jnp.array([age_values[index_age], age_values[index_age]])\n",
    "rubixdata.stars.metallicity = jnp.array([metallicity_values[index_metallicity], metallicity_values[index_metallicity]])\n",
    "rubixdata.stars.mass = jnp.array([[1.0, 1.0]])\n",
    "rubixdata.stars.velocity = jnp.array([[0.0, 0.0, 0.0], [0.0, 0.0, 0.0]])\n",
    "rubixdata.stars.coords = jnp.array([[0.0, 0.0, 0.0], [0.0, 0.0, 0.0]])"
   ]
  },
  {
   "cell_type": "code",
   "execution_count": null,
   "metadata": {},
   "outputs": [],
   "source": [
    "# NBVAL_SKIP\n",
    "targetdata = pipe.run(rubixdata)"
   ]
  },
  {
   "cell_type": "markdown",
   "metadata": {},
   "source": [
    "# Set initial datracube"
   ]
  },
  {
   "cell_type": "code",
   "execution_count": null,
   "metadata": {},
   "outputs": [],
   "source": [
    "# NBVAL_SKIP\n",
    "rubixdata.stars.age = jnp.array([age_values[initial_age_index], age_values[initial_age_index]])\n",
    "rubixdata.stars.metallicity = jnp.array([metallicity_values[initial_metallicity_index], metallicity_values[initial_metallicity_index]])\n",
    "rubixdata.stars.mass = jnp.array([[1.0, 1.0]])\n",
    "rubixdata.stars.velocity = jnp.array([[0.0, 0.0, 0.0], [0.0, 0.0, 0.0]])\n",
    "rubixdata.stars.coords = jnp.array([[0.0, 0.0, 0.0], [0.0, 0.0, 0.0]])"
   ]
  },
  {
   "cell_type": "code",
   "execution_count": null,
   "metadata": {},
   "outputs": [],
   "source": [
    "# NBVAL_SKIP\n",
    "initialdata = pipe.run(rubixdata)"
   ]
  },
  {
   "cell_type": "markdown",
   "metadata": {},
   "source": [
    "# Levenberg Marquardt optimizer"
   ]
  },
  {
   "cell_type": "code",
   "execution_count": null,
   "metadata": {},
   "outputs": [],
   "source": [
    "# NBVAL_SKIP\n",
    "from rubix.pipeline import linear_pipeline as pipeline\n",
    "\n",
    "pipeline_instance = RubixPipeline(config)\n",
    "\n",
    "pipeline_instance._pipeline = pipeline.LinearTransformerPipeline(\n",
    "    pipeline_instance.pipeline_config, \n",
    "    pipeline_instance._get_pipeline_functions()\n",
    ")\n",
    "pipeline_instance._pipeline.assemble()\n",
    "pipeline_instance.func = pipeline_instance._pipeline.compile_expression()"
   ]
  },
  {
   "cell_type": "code",
   "execution_count": null,
   "metadata": {},
   "outputs": [],
   "source": [
    "# NBVAL_SKIP\n",
    "import copy\n",
    "import jax\n",
    "import jax.numpy as jnp\n",
    "from jaxopt import LevenbergMarquardt\n",
    "\n",
    "# Define the sigmoid and its inverse (logit) for mapping.\n",
    "def sigmoid(u):\n",
    "    return 1.0 / (1.0 + jnp.exp(-u))\n",
    "\n",
    "def inverse_transform(p, p_min, p_max):\n",
    "    \"\"\"\n",
    "    Maps a parameter value p in [p_min, p_max] to an unconstrained value u.\n",
    "    \"\"\"\n",
    "    # Normalize p to [0, 1]\n",
    "    p_norm = (p - p_min) / (p_max - p_min)\n",
    "    # Avoid division by zero or log(0)\n",
    "    epsilon = 1e-8\n",
    "    p_norm = jnp.clip(p_norm, epsilon, 1 - epsilon)\n",
    "    # Inverse of the sigmoid is the logit function.\n",
    "    return jnp.log(p_norm / (1 - p_norm))\n",
    "\n",
    "# Define your bounds.\n",
    "age_min, age_max = 0.0, 10.3\n",
    "metal_min, metal_max = 1e-4, 0.05\n",
    "\n",
    "def transform_params(u):\n",
    "    \"\"\"\n",
    "    Transforms the unconstrained parameters u to the constrained parameters.\n",
    "    u: a 1D array with two unconstrained parameters [u_age, u_metallicity].\n",
    "       Returns a JAX array: [age, metallicity] within the specified bounds.\n",
    "    \"\"\"\n",
    "    u_norm = sigmoid(u)  # maps each element to (0,1)\n",
    "    age = age_min + u_norm[0] * (age_max - age_min)\n",
    "    metallicity = metal_min + u_norm[1] * (metal_max - metal_min)\n",
    "    return jnp.array([age, metallicity])\n",
    "\n",
    "def residual(u, data, target):\n",
    "    # Convert unconstrained parameters u to constrained parameters.\n",
    "    age, metallicity = transform_params(u)\n",
    "    # Make a deep copy to avoid side effects.\n",
    "    new_data = copy.deepcopy(data)\n",
    "    new_data.stars.age = jnp.array([[age, age]])\n",
    "    new_data.stars.metallicity = jnp.array([[metallicity, metallicity]])\n",
    "    output = pipeline_instance.func(new_data)\n",
    "    return (output.stars.datacube - target.stars.datacube).ravel()\n"
   ]
  },
  {
   "cell_type": "code",
   "execution_count": null,
   "metadata": {},
   "outputs": [],
   "source": [
    "# NBVAL_SKIP\n",
    "# Use the correct inverse transform to initialize the unconstrained parameters.\n",
    "u_age_init = inverse_transform(age_values[initial_age_index], age_min, age_max)\n",
    "u_metal_init = inverse_transform(metallicity_values[initial_metallicity_index], metal_min, metal_max)\n",
    "init_params = jnp.array([u_age_init, u_metal_init])\n",
    "\n",
    "# Instantiate the Levenberg-Marquardt optimizer.\n",
    "lm_optimizer = LevenbergMarquardt(residual, maxiter=1000)\n",
    "\n",
    "# Run the optimizer.\n",
    "result = lm_optimizer.run(init_params, data=inputdata, target=targetdata)\n",
    "\n",
    "# Retrieve and print the raw optimized unconstrained parameters.\n",
    "optimized_params = result.params\n",
    "print(\"Raw Optimized u_age:\", optimized_params[0])\n",
    "print(\"Raw Optimized u_metallicity:\", optimized_params[1])\n",
    "\n",
    "# Transform back to the constrained space.\n",
    "constrained_params = transform_params(result.params)\n",
    "print(\"Optimized Age:\", constrained_params[0])\n",
    "print(\"Optimized Metallicity:\", constrained_params[1])\n"
   ]
  },
  {
   "cell_type": "markdown",
   "metadata": {},
   "source": [
    "## Loss history"
   ]
  },
  {
   "cell_type": "code",
   "execution_count": null,
   "metadata": {},
   "outputs": [],
   "source": [
    "# NBVAL_SKIP\n",
    "import matplotlib.pyplot as plt\n",
    "import numpy as np\n",
    "\n",
    "# If loss_history is a JAX array, convert it to a NumPy array:\n",
    "loss_history_np = np.array(loss_history)\n",
    "\n",
    "# Create an array for the x-axis indices\n",
    "indices = np.arange(len(loss_history_np))\n",
    "\n",
    "plt.figure(figsize=(8, 6))\n",
    "plt.plot(indices, loss_history_np, marker='o', linestyle='-')\n",
    "plt.xlabel(\"Iteration\")\n",
    "plt.ylabel(\"Loss\")\n",
    "plt.title(\"Loss History\")\n",
    "plt.grid(True)\n",
    "#plt.ylim(-2e-8, 5e-7)\n",
    "#plt.savefig(f\"./output/optimizer/optimization_progress_loss_metals{metallicity_index}_agestart{initial_age_index}_to{index}_learning{learning}_tol{tol}.png\")\n",
    "plt.show()"
   ]
  },
  {
   "cell_type": "code",
   "execution_count": null,
   "metadata": {},
   "outputs": [],
   "source": [
    "# NBVAL_SKIP\n",
    "import matplotlib.pyplot as plt\n",
    "import numpy as np\n",
    "\n",
    "# If age_history is a JAX array, convert it to a NumPy array:\n",
    "age_history_np = np.array(age_history)\n",
    "\n",
    "# Create an array for the x-axis indices\n",
    "indices = np.arange(len(age_history_np))\n",
    "\n",
    "plt.figure(figsize=(8, 6))\n",
    "plt.plot(indices, age_history_np, marker='o', linestyle='-')\n",
    "plt.hlines(y=age_values[index_age], xmin=0, xmax=len(age_history_np), color='r', linestyle='-')\n",
    "plt.xlabel(\"Iteration\")\n",
    "plt.ylabel(\"Age\")\n",
    "plt.title(\"Age History\")\n",
    "plt.grid(True)\n",
    "#plt.savefig(f\"./output/optimizer/optimization_progress_age_metals{metallicity_index}_agestart{initial_age_index}_to{index}_learning{learning}_tol{tol}.png\")\n",
    "plt.show()"
   ]
  },
  {
   "cell_type": "code",
   "execution_count": null,
   "metadata": {},
   "outputs": [],
   "source": [
    "# NBVAL_SKIP\n",
    "metallicity_history_np = np.array(metallicity_history)\n",
    "\n",
    "# Create an array for the x-axis indices\n",
    "indices = np.arange(len(metallicity_history_np))\n",
    "\n",
    "plt.figure(figsize=(8, 6))\n",
    "plt.plot(indices, metallicity_history_np, marker='o', linestyle='-')\n",
    "plt.hlines(y=metallicity_values[index_metallicity], xmin=0, xmax=len(metallicity_history_np), color='r', linestyle='-')\n",
    "plt.xlabel(\"Iteration\")\n",
    "plt.ylabel(\"Metallicity\")\n",
    "plt.title(\"Metallicity History\")\n",
    "plt.grid(True)\n",
    "#plt.savefig(f\"./output/optimizer/optimization_progress_metals{metallicity_index}_agestart{initial_age_index}_to{index}_learning{learning}_tol{tol}.png\")\n",
    "plt.show()"
   ]
  },
  {
   "cell_type": "code",
   "execution_count": null,
   "metadata": {},
   "outputs": [],
   "source": [
    "# NBVAL_SKIP\n",
    "#run the pipeline with the optimized age\n",
    "#rubixdata.stars.age = optimized_age\n",
    "i = 0\n",
    "rubixdata.stars.age = jnp.array([age_history[i], age_history[i]])\n",
    "rubixdata.stars.metallicity = jnp.array([metallicity_history[i], metallicity_history[i]])\n",
    "rubixdata.stars.mass = jnp.array([[1.0, 1.0]])\n",
    "rubixdata.stars.velocity = jnp.array([[0.0, 0.0, 0.0], [0.0, 0.0, 0.0]])\n",
    "\n",
    "pipe = RubixPipeline(config)\n",
    "rubixdata = pipe.run(rubixdata)\n",
    "\n",
    "#plot the target and the optimized spectra\n",
    "import matplotlib.pyplot as plt\n",
    "wave = pipe.telescope.wave_seq\n",
    "\n",
    "spectra_target = targetdata.stars.datacube\n",
    "spectra_optimitzed = rubixdata.stars.datacube\n",
    "\n",
    "plt.plot(wave, spectra_target[0,0,:], label=f\"Target age = {age_values[index_age]:.2f}, metal. = {metallicity_values[index_metallicity]:.4f}\")\n",
    "plt.plot(wave, spectra_optimitzed[0,0,:], label=f\"Optimized age = {age_history[i]:.2f}, metal. = {metallicity_history[i]:.4f}\")\n",
    "plt.xlabel(\"Wavelength [Å]\")\n",
    "plt.ylabel(\"Luminosity [L/Å]\")\n",
    "plt.title(\"Difference between target and optimized spectra\")\n",
    "#plt.title(f\"Loss {loss_history[i]:.2e}\")\n",
    "plt.legend()\n",
    "#plt.ylim(0.00003, 0.00008)\n",
    "plt.grid(True)\n",
    "plt.show()"
   ]
  },
  {
   "cell_type": "code",
   "execution_count": null,
   "metadata": {},
   "outputs": [],
   "source": [
    "# NBVAL_SKIP\n",
    "#run the pipeline with the optimized age\n",
    "#rubixdata.stars.age = optimized_age\n",
    "i = -1\n",
    "rubixdata.stars.age = jnp.array([age_history[i], age_history[i]])\n",
    "rubixdata.stars.metallicity = jnp.array([metallicity_history[i], metallicity_history[i]])\n",
    "rubixdata.stars.mass = jnp.array([[1.0, 1.0]])\n",
    "rubixdata.stars.velocity = jnp.array([[0.0, 0.0, 0.0], [0.0, 0.0, 0.0]])\n",
    "\n",
    "pipe = RubixPipeline(config)\n",
    "rubixdata = pipe.run(rubixdata)\n",
    "\n",
    "#plot the target and the optimized spectra\n",
    "import matplotlib.pyplot as plt\n",
    "wave = pipe.telescope.wave_seq\n",
    "\n",
    "spectra_target = targetdata.stars.datacube\n",
    "spectra_optimitzed = rubixdata.stars.datacube\n",
    "\n",
    "plt.plot(wave, spectra_target[0,0,:], label=f\"Target age = {age_values[index_age]:.2f}, metal. = {metallicity_values[index_metallicity]:.4f}\")\n",
    "plt.plot(wave, spectra_optimitzed[0,0,:], label=f\"Optimized age = {age_history[i]:.2f}, metal. = {metallicity_history[i]:.4f}\")\n",
    "plt.xlabel(\"Wavelength [Å]\")\n",
    "plt.ylabel(\"Luminosity [L/Å]\")\n",
    "plt.title(\"Difference between target and optimized spectra\")\n",
    "#plt.title(f\"Loss {loss_history[i]:.2e}\")\n",
    "plt.legend()\n",
    "#plt.ylim(0.00003, 0.00008)\n",
    "plt.grid(True)\n",
    "plt.show()"
   ]
  }
 ],
 "metadata": {
  "kernelspec": {
   "display_name": "Python 3",
   "language": "python",
   "name": "python3"
  },
  "language_info": {
   "codemirror_mode": {
    "name": "ipython",
    "version": 3
   },
   "file_extension": ".py",
   "mimetype": "text/x-python",
   "name": "python",
   "nbconvert_exporter": "python",
   "pygments_lexer": "ipython3",
   "version": "3.13.2"
  }
 },
 "nbformat": 4,
 "nbformat_minor": 2
}
