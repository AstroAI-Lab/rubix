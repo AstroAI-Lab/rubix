{
 "cells": [
  {
   "cell_type": "code",
   "execution_count": 1,
   "metadata": {},
   "outputs": [],
   "source": [
    "import jax"
   ]
  },
  {
   "cell_type": "code",
   "execution_count": 2,
   "metadata": {},
   "outputs": [
    {
     "data": {
      "text/plain": [
       "[CpuDevice(id=0)]"
      ]
     },
     "execution_count": 2,
     "metadata": {},
     "output_type": "execute_result"
    }
   ],
   "source": [
    "jax.devices()"
   ]
  },
  {
   "cell_type": "code",
   "execution_count": 3,
   "metadata": {},
   "outputs": [],
   "source": [
    "from jax.lib import xla_bridge\n"
   ]
  },
  {
   "cell_type": "code",
   "execution_count": 4,
   "metadata": {},
   "outputs": [
    {
     "name": "stdout",
     "output_type": "stream",
     "text": [
      "cpu\n"
     ]
    }
   ],
   "source": [
    "print(xla_bridge.get_backend().platform)"
   ]
  },
  {
   "cell_type": "code",
   "execution_count": 5,
   "metadata": {},
   "outputs": [],
   "source": [
    "import yaml\n",
    "from pathlib import Path\n",
    "import os"
   ]
  },
  {
   "cell_type": "code",
   "execution_count": 6,
   "metadata": {},
   "outputs": [],
   "source": [
    "config = {\n",
    "    \"pipeline\":{\"name\": \"calc_ifu\"},\n",
    "    \n",
    "    \"logger\": {\n",
    "        \"log_level\": \"DEBUG\",\n",
    "        \"log_file_path\": None,\n",
    "        \"format\": \"%(asctime)s - %(name)s - %(levelname)s - %(message)s\",\n",
    "    },\n",
    "    \"data\": {\n",
    "        \"name\": \"IllustrisAPI\",\n",
    "        \"args\": {\n",
    "            \"api_key\": os.environ.get(\"ILLUSTRIS_API_KEY\"),\n",
    "            \"particle_type\": [\"stars\"],\n",
    "            \"simulation\": \"TNG50-1\",\n",
    "            \"snapshot\": 99,\n",
    "            \"save_data_path\": \"data\",\n",
    "        },\n",
    "        \n",
    "        \"load_galaxy_args\": {\n",
    "        \"id\": 14,\n",
    "        \"reuse\": True,\n",
    "        },\n",
    "        \n",
    "        \"subset\": {\n",
    "            \"use_subset\": True,\n",
    "            \"subset_size\": 10000,\n",
    "        },\n",
    "    },\n",
    "    \"simulation\": {\n",
    "        \"name\": \"IllustrisTNG\",\n",
    "        \"args\": {\n",
    "            \"path\": \"data/galaxy-id-14.hdf5\",\n",
    "        },\n",
    "    \n",
    "    },\n",
    "    \"output_path\": \"output\",\n",
    "\n",
    "    \"telescope\":\n",
    "        {\"name\": \"MUSE\"},\n",
    "    \"cosmology\":\n",
    "        {\"name\": \"PLANCK15\"},\n",
    "        \n",
    "    \"galaxy\":\n",
    "        {\"dist_z\": 0.1},\n",
    "        \n",
    "    \"ssp\": {\n",
    "        \"template\": {\n",
    "            \"name\": \"BruzualCharlot2003\"\n",
    "        },\n",
    "    },        \n",
    "}"
   ]
  },
  {
   "cell_type": "code",
   "execution_count": 7,
   "metadata": {},
   "outputs": [
    {
     "name": "stderr",
     "output_type": "stream",
     "text": [
      "2024-05-28 19:00:40,000 - rubix - INFO - \n",
      "   ___  __  _____  _____  __\n",
      "  / _ \\/ / / / _ )/  _/ |/_/\n",
      " / , _/ /_/ / _  |/ /_>  <  \n",
      "/_/|_|\\____/____/___/_/|_|  \n",
      "                            \n",
      "\n",
      "2024-05-28 19:00:40,001 - rubix - INFO - Rubix version: 0.0.post89+g16c73c0.d20240528\n",
      "2024-05-28 19:00:40,001 - rubix - INFO - Rubix galaxy file already exists, skipping conversion\n",
      "2024-05-28 19:00:40,985 - rubix - WARNING - The Subset value is set in config. Using only subset of size 10000\n"
     ]
    }
   ],
   "source": [
    "# NBVAL_SKIP\n",
    "from rubix.core.data import convert_to_rubix, prepare_input\n",
    "\n",
    "convert_to_rubix(config) # Convert the config to rubix format and store in output_path folder\n",
    "coords, vel, metallicity, mass, age = prepare_input(config) # Prepare the input for the pipeline"
   ]
  },
  {
   "cell_type": "code",
   "execution_count": 8,
   "metadata": {},
   "outputs": [],
   "source": [
    "from rubix.core import pipeline as rpl\n"
   ]
  },
  {
   "cell_type": "code",
   "execution_count": 9,
   "metadata": {},
   "outputs": [
    {
     "name": "stderr",
     "output_type": "stream",
     "text": [
      "/Users/haraldmack/Development/rubix/rubix/telescope/factory.py:21: UserWarning: No telescope config provided, using default stored in /Users/haraldmack/Development/rubix/rubix/telescope/telescopes.yaml\n",
      "  warnings.warn(\n",
      "2024-05-28 19:00:41,365 - rubix - INFO - Getting rubix data...\n",
      "2024-05-28 19:00:41,366 - rubix - INFO - Rubix galaxy file already exists, skipping conversion\n",
      "2024-05-28 19:00:41,943 - rubix - WARNING - The Subset value is set in config. Using only subset of size 10000\n",
      "2024-05-28 19:00:41,945 - rubix - INFO - Data loaded with 10000 particles.\n",
      "2024-05-28 19:00:41,946 - rubix - DEBUG - Data Shape: {'coords': (10000, 3), 'velocities': (10000, 3), 'metallicity': (10000,), 'mass': (10000,), 'age': (10000,)}\n"
     ]
    }
   ],
   "source": [
    "pipeline = rpl.RubixPipeline(config);"
   ]
  },
  {
   "cell_type": "code",
   "execution_count": 10,
   "metadata": {},
   "outputs": [
    {
     "name": "stderr",
     "output_type": "stream",
     "text": [
      "2024-05-28 19:00:41,952 - rubix - INFO - Setting up the pipeline...\n",
      "2024-05-28 19:00:41,952 - rubix - DEBUG - Pipeline Configuration: {'Transformers': {'rotate_galaxy': {'name': 'rotate_galaxy', 'depends_on': None, 'args': [], 'kwargs': {'type': 'face-on'}}, 'spaxel_assignment': {'name': 'spaxel_assignment', 'depends_on': 'rotate_galaxy', 'args': [], 'kwargs': {}}, 'reshape_data': {'name': 'reshape_data', 'depends_on': 'spaxel_assignment', 'args': [], 'kwargs': {}}, 'calculate_spectra': {'name': 'calculate_spectra', 'depends_on': 'reshape_data', 'args': [], 'kwargs': {}}, 'scale_spectrum_by_mass': {'name': 'scale_spectrum_by_mass', 'depends_on': 'calculate_spectra', 'args': [], 'kwargs': {}}, 'doppler_shift_and_resampling': {'name': 'doppler_shift_and_resampling', 'depends_on': 'scale_spectrum_by_mass', 'args': [], 'kwargs': {}}}}\n",
      "2024-05-28 19:00:42,234 - rubix - DEBUG - Method not defined, using default method: cubic\n",
      "/Users/haraldmack/Development/rubix/rubix/telescope/factory.py:21: UserWarning: No telescope config provided, using default stored in /Users/haraldmack/Development/rubix/rubix/telescope/telescopes.yaml\n",
      "  warnings.warn(\n",
      "2024-05-28 19:00:42,265 - rubix - DEBUG - SSP Wave: (842,)\n",
      "2024-05-28 19:00:42,266 - rubix - INFO - Assembling the pipeline...\n",
      "2024-05-28 19:00:42,267 - rubix - INFO - Compiling the expressions...\n",
      "2024-05-28 19:00:42,267 - rubix - INFO - Running the pipeline on the input data...\n",
      "2024-05-28 19:00:42,297 - rubix - INFO - Calculating IFU cube...\n",
      "2024-05-28 19:00:42,298 - rubix - DEBUG - Input shapes: Metallicity: (1, 10000), Age: (1, 10000)\n"
     ]
    },
    {
     "name": "stdout",
     "output_type": "stream",
     "text": [
      "rotating galaxy:  face-on\n"
     ]
    },
    {
     "name": "stderr",
     "output_type": "stream",
     "text": [
      "2024-05-28 19:00:42,539 - rubix - DEBUG - Calculation Finished! Spectra shape: (1, 10000, 842)\n",
      "2024-05-28 19:00:42,540 - rubix - INFO - Scaling Spectra by Mass...\n",
      "2024-05-28 19:00:42,546 - rubix - DEBUG - Doppler Shifted SSP Wave: (1, 10000, 842)\n",
      "2024-05-28 19:00:42,547 - rubix - DEBUG - Telescope Wave Seq: (3721,)\n",
      "2024-05-28 19:00:46,290 - rubix - INFO - Pipeline run completed in 4.34 seconds.\n"
     ]
    }
   ],
   "source": [
    "data = pipeline.run()\n",
    "\n",
    "jax.block_until_ready(data);"
   ]
  },
  {
   "cell_type": "markdown",
   "metadata": {},
   "source": [
    "Finishes in <  1s and does not produce any profiling output when using tensorflow-board: \n",
    "\n",
    "```bash \n",
    "pip install tensorflow tensorboard-plugin-profile\n",
    "```\n",
    "\n",
    "execute code below, then: \n",
    "\n",
    "```bash \n",
    "tensorboard --logdir=/tmp/jax-trace \n",
    "```"
   ]
  },
  {
   "cell_type": "code",
   "execution_count": 11,
   "metadata": {},
   "outputs": [
    {
     "name": "stderr",
     "output_type": "stream",
     "text": [
      "2024-05-28 19:00:51,018 - rubix - INFO - Setting up the pipeline...\n",
      "2024-05-28 19:00:51,020 - rubix - DEBUG - Pipeline Configuration: {'Transformers': {'rotate_galaxy': {'name': 'rotate_galaxy', 'depends_on': None, 'args': [], 'kwargs': {'type': 'face-on'}}, 'spaxel_assignment': {'name': 'spaxel_assignment', 'depends_on': 'rotate_galaxy', 'args': [], 'kwargs': {}}, 'reshape_data': {'name': 'reshape_data', 'depends_on': 'spaxel_assignment', 'args': [], 'kwargs': {}}, 'calculate_spectra': {'name': 'calculate_spectra', 'depends_on': 'reshape_data', 'args': [], 'kwargs': {}}, 'scale_spectrum_by_mass': {'name': 'scale_spectrum_by_mass', 'depends_on': 'calculate_spectra', 'args': [], 'kwargs': {}}, 'doppler_shift_and_resampling': {'name': 'doppler_shift_and_resampling', 'depends_on': 'scale_spectrum_by_mass', 'args': [], 'kwargs': {}}}}\n",
      "/Users/haraldmack/Development/rubix/rubix/telescope/factory.py:21: UserWarning: No telescope config provided, using default stored in /Users/haraldmack/Development/rubix/rubix/telescope/telescopes.yaml\n",
      "  warnings.warn(\n",
      "2024-05-28 19:00:51,056 - rubix - DEBUG - Method not defined, using default method: cubic\n",
      "2024-05-28 19:00:51,080 - rubix - DEBUG - SSP Wave: (842,)\n",
      "2024-05-28 19:00:51,081 - rubix - INFO - Assembling the pipeline...\n",
      "2024-05-28 19:00:51,084 - rubix - INFO - Compiling the expressions...\n",
      "2024-05-28 19:00:51,097 - rubix - INFO - Running the pipeline on the input data...\n",
      "2024-05-28 19:00:51,105 - rubix - INFO - Calculating IFU cube...\n",
      "2024-05-28 19:00:51,106 - rubix - DEBUG - Input shapes: Metallicity: (1, 10000), Age: (1, 10000)\n"
     ]
    },
    {
     "name": "stdout",
     "output_type": "stream",
     "text": [
      "rotating galaxy:  face-on\n"
     ]
    },
    {
     "name": "stderr",
     "output_type": "stream",
     "text": [
      "2024-05-28 19:00:51,626 - rubix - DEBUG - Calculation Finished! Spectra shape: (1, 10000, 842)\n",
      "2024-05-28 19:00:51,627 - rubix - INFO - Scaling Spectra by Mass...\n",
      "2024-05-28 19:00:51,632 - rubix - DEBUG - Doppler Shifted SSP Wave: (1, 10000, 842)\n",
      "2024-05-28 19:00:51,633 - rubix - DEBUG - Telescope Wave Seq: (3721,)\n",
      "2024-05-28 19:00:56,291 - rubix - INFO - Pipeline run completed in 5.27 seconds.\n"
     ]
    }
   ],
   "source": [
    "with jax.profiler.trace(\"/tmp/jax-trace\"):\n",
    "    data = pipeline.run()\n",
    "    jax.block_until_ready(data);"
   ]
  },
  {
   "cell_type": "markdown",
   "metadata": {},
   "source": [
    "... neither does this, which is the example code from [the documentation](https://jax.readthedocs.io/en/latest/profiling.html)"
   ]
  },
  {
   "cell_type": "code",
   "execution_count": 12,
   "metadata": {},
   "outputs": [],
   "source": [
    "with jax.profiler.trace(\"/tmp/tensorboard\"):\n",
    "  key = jax.random.key(0)\n",
    "  x = jax.random.normal(key, (5000, 5000))\n",
    "  y = x @ x\n",
    "  y.block_until_ready()"
   ]
  },
  {
   "cell_type": "code",
   "execution_count": null,
   "metadata": {},
   "outputs": [],
   "source": []
  }
 ],
 "metadata": {
  "kernelspec": {
   "display_name": ".venv",
   "language": "python",
   "name": "python3"
  },
  "language_info": {
   "codemirror_mode": {
    "name": "ipython",
    "version": 3
   },
   "file_extension": ".py",
   "mimetype": "text/x-python",
   "name": "python",
   "nbconvert_exporter": "python",
   "pygments_lexer": "ipython3",
   "version": "3.12.3"
  }
 },
 "nbformat": 4,
 "nbformat_minor": 2
}
