{
 "cells": [
  {
   "cell_type": "code",
   "execution_count": 1,
   "metadata": {},
   "outputs": [
    {
     "name": "stderr",
     "output_type": "stream",
     "text": [
      "2024-07-16 11:53:24,104 - rubix - INFO - \n",
      "   ___  __  _____  _____  __\n",
      "  / _ \\/ / / / _ )/  _/ |/_/\n",
      " / , _/ /_/ / _  |/ /_>  <  \n",
      "/_/|_|\\____/____/___/_/|_|  \n",
      "                            \n",
      "\n",
      "2024-07-16 11:53:24,105 - rubix - INFO - Rubix version: 0.0.post66+g42d5801.d20240712\n",
      "2024-07-16 11:53:24,106 - rubix - WARNING - python-fsps is not installed. Please install it to use this function. Install using pip install fsps and check the installation page: https://dfm.io/python-fsps/current/installation/ for more details. Especially, make sure to set all necessary environment variables.\n",
      "2024-07-16 11:53:24,960 - rubix - DEBUG - UNITS: {'stars': {'coords': 'kpc', 'mass': 'Msun', 'metallicity': '', 'velocity': 'kpc/s', 'age': 'Gyr'}, 'galaxy': {'center': 'kpc', 'halfmassrad_stars': 'kpc', 'redshift': ''}}\n",
      "2024-07-16 11:53:24,961 - rubix - DEBUG - Creating Rubix file at path: data/dummy_rubix_galaxy.h5\n",
      "2024-07-16 11:53:24,967 - rubix - DEBUG - Converting center for galaxy data into kpc\n",
      "2024-07-16 11:53:25,030 - rubix - DEBUG - Converting redshift for galaxy data into \n",
      "2024-07-16 11:53:25,031 - rubix - DEBUG - Converting halfmassrad_stars for galaxy data into kpc\n",
      "2024-07-16 11:53:25,032 - rubix - DEBUG - Converting coords for particle type stars into kpc\n",
      "2024-07-16 11:53:25,109 - rubix - DEBUG - Converting velocity for particle type stars into kpc/s\n",
      "2024-07-16 11:53:25,111 - rubix - DEBUG - Converting metallicity for particle type stars into \n",
      "2024-07-16 11:53:25,180 - rubix - DEBUG - Converting mass for particle type stars into Msun\n",
      "2024-07-16 11:53:25,182 - rubix - DEBUG - Converting age for particle type stars into Gyr\n",
      "2024-07-16 11:53:25,183 - rubix - INFO - Rubix file saved at data/dummy_rubix_galaxy.h5\n"
     ]
    },
    {
     "name": "stdout",
     "output_type": "stream",
     "text": [
      "{'subhalo_center': array([0., 0., 0.]), 'subhalo_halfmassrad_stars': 10.0, 'redshift': 0.0, 'particle_data': {'stars': {'age': array([6.6332216, 3.3222442, 1.9931847, 9.131795 , 8.674345 , 1.9770772,\n",
      "       3.555204 , 2.599806 , 6.5092354, 6.7447824], dtype=float32), 'coords': array([[-53.82614  ,   9.014964 , -82.35116  ],\n",
      "       [-36.429714 ,   3.3537388,  17.197657 ],\n",
      "       [ 66.13379  ,  11.799026 , -74.12665  ],\n",
      "       [-76.22397  ,  82.52933  ,  97.89367  ],\n",
      "       [-42.134453 ,  -3.7591457,  77.143074 ],\n",
      "       [ 83.25889  , -96.08371  , -88.4687   ],\n",
      "       [-29.1898   ,  76.529816 , -30.507778 ],\n",
      "       [ 29.686283 ,  71.80731  , -26.374435 ],\n",
      "       [-66.505554 ,  29.537535 ,  66.591286 ],\n",
      "       [-52.16818  , -72.217224 ,  64.49587  ]], dtype=float32), 'mass': array([1., 1., 1., 1., 1., 1., 1., 1., 1., 1.], dtype=float32), 'metallicity': array([0.03223249, 0.01619354, 0.00975534, 0.04433602, 0.04212005,\n",
      "       0.00967731, 0.01732203, 0.01269392, 0.03163188, 0.03277291],\n",
      "      dtype=float32), 'velocity': array([[-53.82614  ,   9.014964 , -82.35116  ],\n",
      "       [-36.429714 ,   3.3537388,  17.197657 ],\n",
      "       [ 66.13379  ,  11.799026 , -74.12665  ],\n",
      "       [-76.22397  ,  82.52933  ,  97.89367  ],\n",
      "       [-42.134453 ,  -3.7591457,  77.143074 ],\n",
      "       [ 83.25889  , -96.08371  , -88.4687   ],\n",
      "       [-29.1898   ,  76.529816 , -30.507778 ],\n",
      "       [ 29.686283 ,  71.80731  , -26.374435 ],\n",
      "       [-66.505554 ,  29.537535 ,  66.591286 ],\n",
      "       [-52.16818  , -72.217224 ,  64.49587  ]], dtype=float32)}}}\n"
     ]
    }
   ],
   "source": [
    "#NBVAL_SKIP\n",
    "from rubix.debug import create_dummy_rubix\n",
    "from rubix.utils import load_galaxy_data\n",
    "\n",
    "create_dummy_rubix(10, \"data/dummy_rubix_galaxy.h5\")\n",
    "data, units = load_galaxy_data(\"data/dummy_rubix_galaxy.h5\")\n",
    "print(data)"
   ]
  },
  {
   "cell_type": "code",
   "execution_count": 2,
   "metadata": {},
   "outputs": [
    {
     "data": {
      "text/plain": [
       "dict_keys(['age', 'coords', 'mass', 'metallicity', 'velocity'])"
      ]
     },
     "execution_count": 2,
     "metadata": {},
     "output_type": "execute_result"
    }
   ],
   "source": [
    "#NBVAL_SKIP\n",
    "data[\"particle_data\"][\"stars\"].keys()"
   ]
  },
  {
   "cell_type": "code",
   "execution_count": 3,
   "metadata": {},
   "outputs": [
    {
     "data": {
      "text/plain": [
       "(10,)"
      ]
     },
     "execution_count": 3,
     "metadata": {},
     "output_type": "execute_result"
    }
   ],
   "source": [
    "#NBVAL_SKIP\n",
    "data[\"particle_data\"][\"stars\"][\"mass\"].shape"
   ]
  }
 ],
 "metadata": {
  "kernelspec": {
   "display_name": "rubix",
   "language": "python",
   "name": "python3"
  },
  "language_info": {
   "codemirror_mode": {
    "name": "ipython",
    "version": 3
   },
   "file_extension": ".py",
   "mimetype": "text/x-python",
   "name": "python",
   "nbconvert_exporter": "python",
   "pygments_lexer": "ipython3",
   "version": "3.10.14"
  }
 },
 "nbformat": 4,
 "nbformat_minor": 2
}
