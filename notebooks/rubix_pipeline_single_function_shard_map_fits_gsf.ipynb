{
 "cells": [
  {
   "cell_type": "code",
   "execution_count": 1,
   "metadata": {},
   "outputs": [],
   "source": [
    "from jax import config\n",
    "#config.update(\"jax_enable_x64\", True)\n",
    "config.update('jax_num_cpu_devices', 2)"
   ]
  },
  {
   "cell_type": "code",
   "execution_count": 2,
   "metadata": {},
   "outputs": [
    {
     "name": "stdout",
     "output_type": "stream",
     "text": [
      "[CpuDevice(id=0), CpuDevice(id=1)]\n"
     ]
    }
   ],
   "source": [
    "#NBVAL_SKIP\n",
    "import os\n",
    "\n",
    "# Tell XLA to fake 2 host CPU devices\n",
    "#os.environ['XLA_FLAGS'] = '--xla_force_host_platform_device_count=3'\n",
    "\n",
    "# Only make GPU 0 and GPU 1 visible to JAX:\n",
    "#os.environ['CUDA_VISIBLE_DEVICES'] = '0,1,2,3,4,5'\n",
    "\n",
    "#os.environ[\"XLA_PYTHON_CLIENT_PREALLOCATE\"]   = \"false\"\n",
    "\n",
    "import jax\n",
    "\n",
    "# Now JAX will list two CpuDevice entries\n",
    "print(jax.devices())\n",
    "# → [CpuDevice(id=0), CpuDevice(id=1)]"
   ]
  },
  {
   "cell_type": "code",
   "execution_count": 3,
   "metadata": {},
   "outputs": [],
   "source": [
    "# NBVAL_SKIP\n",
    "#import os\n",
    "#  os.environ['SPS_HOME'] = '/mnt/storage/annalena_data/sps_fsps'\n",
    "#os.environ['SPS_HOME'] = '/home/annalena/sps_fsps'\n",
    "#os.environ['SPS_HOME'] = '/Users/annalena/Documents/GitHub/fsps'\n",
    "#os.environ['SPS_HOME'] = '/export/home/aschaibl/fsps'\n",
    "os.environ['SPS_HOME'] = '/home/annalena_data/sps_fsps'"
   ]
  },
  {
   "cell_type": "markdown",
   "metadata": {},
   "source": [
    "## Step 1: Config"
   ]
  },
  {
   "cell_type": "code",
   "execution_count": null,
   "metadata": {},
   "outputs": [
    {
     "name": "stderr",
     "output_type": "stream",
     "text": [
      "2025-06-05 15:11:51,991 - rubix - INFO - \n",
      "   ___  __  _____  _____  __\n",
      "  / _ \\/ / / / _ )/  _/ |/_/\n",
      " / , _/ /_/ / _  |/ /_>  <\n",
      "/_/|_|\\____/____/___/_/|_|\n",
      "\n",
      "\n",
      "2025-06-05 15:11:51,992 - rubix - INFO - Rubix version: 0.0.post447+g8128662.d20250605\n",
      "2025-06-05 15:11:51,993 - rubix - INFO - JAX version: 0.6.0\n",
      "2025-06-05 15:11:51,993 - rubix - INFO - Running on [CpuDevice(id=0), CpuDevice(id=1)] devices\n"
     ]
    }
   ],
   "source": [
    "#NBVAL_SKIP\n",
    "import matplotlib.pyplot as plt\n",
    "from rubix.core.pipeline import RubixPipeline \n",
    "import os\n",
    "\n",
    "galaxy_id = \"g7.66e11\"\n",
    "\n",
    "config_NIHAO = {\n",
    "    \"pipeline\":{\"name\": \"calc_ifu_memory\"},\n",
    "    \n",
    "    \"logger\": {\n",
    "        \"log_level\": \"DEBUG\",\n",
    "        \"log_file_path\": None,\n",
    "        \"format\": \"%(asctime)s - %(name)s - %(levelname)s - %(message)s\",\n",
    "    },\n",
    "    \"data\": {\n",
    "        \"name\": \"NihaoHandler\",\n",
    "        \"args\": {\n",
    "            \"particle_type\": [\"stars\"],\n",
    "            \"save_data_path\": \"data\",\n",
    "            \"snapshot\": \"1024\",\n",
    "        },\n",
    "        \"load_galaxy_args\": {\"reuse\": True, \"id\": galaxy_id},\n",
    "        \"subset\": {\"use_subset\": False, \"subset_size\": 200000},\n",
    "    },\n",
    "    \"simulation\": {\n",
    "        \"name\": \"NIHAO\",\n",
    "        \"args\": {\n",
    "            \"path\": f'/home/_data/nihao/nihao_classic/{galaxy_id}/{galaxy_id}.01024',\n",
    "            \"halo_path\": f'/home/_data/nihao/nihao_classic/{galaxy_id}/{galaxy_id}.01024.z0.000.AHF_halos',\n",
    "            \"halo_id\": 0,\n",
    "        },\n",
    "    },\n",
    "    \"output_path\": \"output\",\n",
    "\n",
    "    \"telescope\":\n",
    "        {\"name\": \"MUSE_WFM\",\n",
    "         \"psf\": {\"name\": \"gaussian\", \"size\": 5, \"sigma\": 0.6},\n",
    "         \"lsf\": {\"sigma\": 0.5},\n",
    "         \"noise\": {\"signal_to_noise\": 100,\"noise_distribution\": \"normal\"},},\n",
    "    \"cosmology\":\n",
    "        {\"name\": \"PLANCK15\"},\n",
    "        \n",
    "    \"galaxy\":\n",
    "        {\"dist_z\": 0.01,\n",
    "         \"rotation\": {\"type\": \"matrix\"},\n",
    "        },\n",
    "        \n",
    "    \"ssp\": {\n",
    "        \"template\": {\n",
    "            \"name\": \"BruzualCharlot2003\" #\"Mastar_CB19_SLOG_1_5\"\n",
    "        },\n",
    "        \"dust\": {\n",
    "                \"extinction_model\": \"Cardelli89\",\n",
    "                \"dust_to_gas_ratio\": 0.01,\n",
    "                \"dust_to_metals_ratio\": 0.4,\n",
    "                \"dust_grain_density\": 3.5,\n",
    "                \"Rv\": 3.1,\n",
    "            },\n",
    "    },        \n",
    "}"
   ]
  },
  {
   "cell_type": "markdown",
   "metadata": {},
   "source": [
    "## Step 2: Pipeline yaml"
   ]
  },
  {
   "cell_type": "markdown",
   "metadata": {},
   "source": [
    "## Step 3: Run the pipeline\n",
    "\n",
    "After defining the `config` and the `pipeline_config` you can simply run the whole pipeline by these two lines of code."
   ]
  },
  {
   "cell_type": "code",
   "execution_count": 5,
   "metadata": {},
   "outputs": [
    {
     "name": "stderr",
     "output_type": "stream",
     "text": [
      "/home/annalena/.conda/envs/rubix/lib/python3.12/site-packages/rubix/telescope/factory.py:26: UserWarning: No telescope config provided, using default stored in /home/annalena/.conda/envs/rubix/lib/python3.12/site-packages/rubix/telescope/telescopes.yaml\n",
      "  warnings.warn(\n"
     ]
    }
   ],
   "source": [
    "#NBVAL_SKIP\n",
    "pipe = RubixPipeline(config_NIHAO)"
   ]
  },
  {
   "cell_type": "code",
   "execution_count": 6,
   "metadata": {},
   "outputs": [
    {
     "name": "stderr",
     "output_type": "stream",
     "text": [
      "2025-06-05 15:11:52,397 - rubix - INFO - Getting rubix data...\n",
      "2025-06-05 15:11:52,408 - rubix - INFO - Loading data into input handler\n",
      "2025-06-05 15:11:52,410 - rubix - INFO - Using PynbodyHandler to load a NIHAO galaxy\n",
      "2025-06-05 15:11:52,418 - rubix - INFO - Galaxy redshift (dist_z) set to: 0.01\n",
      "2025-06-05 15:11:52,445 - rubix - INFO - Simulation snapshot loaded from halo 0\n",
      "2025-06-05 15:11:52,554 - rubix - INFO - Halo data loaded.\n",
      "2025-06-05 15:11:57,921 - rubix - INFO - Applying face-on rotation to halo 0 with rotation matrix: faceon\n",
      "2025-06-05 15:11:57,922 - rubix - INFO - Edge-on rotation matrix: sideon\n",
      "2025-06-05 15:11:57,995 - rubix - WARNING - Field 'sfr' -> 'sfr' not found for gas. Assigning zeros.\n",
      "2025-06-05 15:11:57,997 - rubix - WARNING - Field 'internal_energy' -> 'u' not found for gas. Assigning zeros.\n",
      "2025-06-05 15:11:57,997 - rubix - WARNING - Field 'electron_abundance' -> 'electron_abundance' not found for gas. Assigning zeros.\n",
      "2025-06-05 15:11:58,052 - rubix - INFO - Metals assigned to gas particles.\n",
      "2025-06-05 15:11:58,052 - rubix - INFO - Metals shape is: (138872, 10)\n",
      "2025-06-05 15:11:58,053 - rubix - INFO - Simulation snapshot and halo data loaded successfully for classes: ['stars', 'gas'].\n",
      "2025-06-05 15:11:58,054 - rubix - DEBUG - Converting to Rubix format..\n",
      "2025-06-05 15:11:58,130 - rubix - INFO - Half-mass radius calculated: 1.81 kpc\n",
      "2025-06-05 15:11:58,131 - rubix - INFO - Rubix file saved at output/rubix_galaxy.h5\n",
      "2025-06-05 15:11:58,132 - rubix - DEBUG - Creating Rubix file at path: output/rubix_galaxy.h5\n",
      "2025-06-05 15:11:58,134 - rubix - DEBUG - Converting redshift for galaxy data into \n",
      "2025-06-05 15:11:58,136 - rubix - DEBUG - Converting center for galaxy data into kpc\n",
      "2025-06-05 15:11:58,136 - rubix - DEBUG - Converting halfmassrad_stars for galaxy data into kpc\n",
      "2025-06-05 15:11:58,137 - rubix - DEBUG - Converting age for particle type stars into Gyr\n",
      "2025-06-05 15:11:58,146 - rubix - DEBUG - Converting mass for particle type stars into Msun\n",
      "2025-06-05 15:11:58,150 - rubix - DEBUG - Converting metallicity for particle type stars into \n",
      "2025-06-05 15:11:58,155 - rubix - DEBUG - Converting coords for particle type stars into kpc\n",
      "2025-06-05 15:11:58,167 - rubix - DEBUG - Converting velocity for particle type stars into km/s\n",
      "2025-06-05 15:11:58,175 - rubix - DEBUG - Converting density for particle type gas into Msun/kpc^3\n",
      "2025-06-05 15:11:58,177 - rubix - DEBUG - Converting temperature for particle type gas into K\n",
      "2025-06-05 15:11:58,179 - rubix - DEBUG - Converting metals for particle type gas into \n",
      "2025-06-05 15:11:58,189 - rubix - DEBUG - Converting metallicity for particle type gas into \n",
      "2025-06-05 15:11:58,191 - rubix - DEBUG - Converting coords for particle type gas into kpc\n",
      "2025-06-05 15:11:58,198 - rubix - DEBUG - Converting velocity for particle type gas into km/s\n",
      "2025-06-05 15:11:58,201 - rubix - DEBUG - Converting mass for particle type gas into Msun\n",
      "2025-06-05 15:11:58,202 - rubix - DEBUG - Converting sfr for particle type gas into Msun/yr\n",
      "2025-06-05 15:11:58,204 - rubix - DEBUG - Converting internal_energy for particle type gas into erg/g\n",
      "2025-06-05 15:11:58,205 - rubix - DEBUG - Converting electron_abundance for particle type gas into \n",
      "2025-06-05 15:11:58,206 - rubix - INFO - Rubix file saved at output/rubix_galaxy.h5\n",
      "2025-06-05 15:11:58,272 - rubix - INFO - Centering stars particles\n"
     ]
    },
    {
     "name": "stdout",
     "output_type": "stream",
     "text": [
      "Converted to Rubix format!\n"
     ]
    },
    {
     "name": "stderr",
     "output_type": "stream",
     "text": [
      "2025-06-05 15:11:58,790 - rubix - INFO - Data loaded with 911988 star particles and 0 gas particles.\n",
      "2025-06-05 15:11:58,792 - rubix - INFO - Setting up the pipeline...\n",
      "2025-06-05 15:11:58,792 - rubix - DEBUG - Pipeline Configuration: {'Transformers': {'rotate_galaxy': {'name': 'rotate_galaxy', 'depends_on': None, 'args': [], 'kwargs': {}}, 'filter_particles': {'name': 'filter_particles', 'depends_on': 'rotate_galaxy', 'args': [], 'kwargs': {}}, 'spaxel_assignment': {'name': 'spaxel_assignment', 'depends_on': 'filter_particles', 'args': [], 'kwargs': {}}, 'calculate_datacube_particlewise': {'name': 'calculate_datacube_particlewise', 'depends_on': 'spaxel_assignment', 'args': [], 'kwargs': {}}, 'convolve_psf': {'name': 'convolve_psf', 'depends_on': 'calculate_datacube_particlewise', 'args': [], 'kwargs': {}}, 'convolve_lsf': {'name': 'convolve_lsf', 'depends_on': 'convolve_psf', 'args': [], 'kwargs': {}}, 'apply_noise': {'name': 'apply_noise', 'depends_on': 'convolve_lsf', 'args': [], 'kwargs': {}}}}\n",
      "2025-06-05 15:11:58,794 - rubix - DEBUG - Roataion Type found: edge-on\n",
      "2025-06-05 15:11:58,797 - rubix - INFO - Calculating spatial bin edges...\n",
      "/home/annalena/.conda/envs/rubix/lib/python3.12/site-packages/rubix/telescope/factory.py:26: UserWarning: No telescope config provided, using default stored in /home/annalena/.conda/envs/rubix/lib/python3.12/site-packages/rubix/telescope/telescopes.yaml\n",
      "  warnings.warn(\n",
      "2025-06-05 15:11:59,584 - rubix - INFO - Getting cosmology...\n",
      "2025-06-05 15:11:59,822 - rubix - INFO - Calculating spatial bin edges...\n",
      "2025-06-05 15:11:59,837 - rubix - INFO - Getting cosmology...\n",
      "2025-06-05 15:11:59,854 - rubix - DEBUG - Method not defined, using default method: cubic\n",
      "/home/annalena/.conda/envs/rubix/lib/python3.12/site-packages/rubix/telescope/factory.py:26: UserWarning: No telescope config provided, using default stored in /home/annalena/.conda/envs/rubix/lib/python3.12/site-packages/rubix/telescope/telescopes.yaml\n",
      "  warnings.warn(\n",
      "2025-06-05 15:11:59,935 - rubix - DEBUG - SSP Wave: (842,)\n",
      "/home/annalena/.conda/envs/rubix/lib/python3.12/site-packages/rubix/telescope/factory.py:26: UserWarning: No telescope config provided, using default stored in /home/annalena/.conda/envs/rubix/lib/python3.12/site-packages/rubix/telescope/telescopes.yaml\n",
      "  warnings.warn(\n",
      "2025-06-05 15:11:59,957 - rubix - INFO - Getting cosmology...\n",
      "/home/annalena/.conda/envs/rubix/lib/python3.12/site-packages/rubix/telescope/factory.py:26: UserWarning: No telescope config provided, using default stored in /home/annalena/.conda/envs/rubix/lib/python3.12/site-packages/rubix/telescope/telescopes.yaml\n",
      "  warnings.warn(\n",
      "2025-06-05 15:12:00,007 - rubix - DEBUG - Method not defined, using default method: cubic\n",
      "/home/annalena/.conda/envs/rubix/lib/python3.12/site-packages/rubix/telescope/factory.py:26: UserWarning: No telescope config provided, using default stored in /home/annalena/.conda/envs/rubix/lib/python3.12/site-packages/rubix/telescope/telescopes.yaml\n",
      "  warnings.warn(\n",
      "2025-06-05 15:12:00,201 - rubix - INFO - Assembling the pipeline...\n",
      "2025-06-05 15:12:00,202 - rubix - INFO - Compiling the expressions...\n",
      "2025-06-05 15:12:00,202 - rubix - INFO - Number of devices: 2\n",
      "2025-06-05 15:12:00,377 - rubix - INFO - Rotating galaxy with alpha=90.0, beta=0.0, gamma=0.0\n",
      "2025-06-05 15:12:00,539 - rubix - INFO - Filtering particles outside the aperture...\n",
      "2025-06-05 15:12:00,546 - rubix - INFO - Assigning particles to spaxels...\n",
      "2025-06-05 15:12:00,584 - rubix - INFO - Calculating Data Cube (combined per‐particle)…\n",
      "2025-06-05 15:12:01,048 - rubix - DEBUG - Datacube shape: (300, 300, 3721)\n",
      "2025-06-05 15:12:01,049 - rubix - INFO - Convolving with PSF...\n",
      "2025-06-05 15:12:01,053 - rubix - INFO - Convolving with LSF...\n",
      "2025-06-05 15:12:01,060 - rubix - INFO - Applying noise to datacube with signal to noise ratio: 100 and noise distribution: normal\n",
      "2025-06-05 15:12:03,493 - rubix - INFO - Pipeline run completed in 4.70 seconds.\n"
     ]
    }
   ],
   "source": [
    "#NBVAL_SKIP\n",
    "\n",
    "inputdata = pipe.prepare_data()\n",
    "rubixdata = pipe.run_sharded(inputdata)"
   ]
  },
  {
   "cell_type": "code",
   "execution_count": null,
   "metadata": {},
   "outputs": [
    {
     "name": "stdout",
     "output_type": "stream",
     "text": [
      "[[[2.1107967e+00 2.1986437e+00 2.1976156e+00 ... 2.6971066e-01\n",
      "   2.7005145e-01 2.5941366e-01]\n",
      "  [4.3303677e+01 4.5119213e+01 4.5112061e+01 ... 9.7780552e+00\n",
      "   9.7862215e+00 9.3985033e+00]\n",
      "  [1.7048402e+02 1.7763306e+02 1.7760628e+02 ... 3.8974445e+01\n",
      "   3.9006832e+01 3.7461323e+01]\n",
      "  ...\n",
      "  [1.2704880e+02 1.3227231e+02 1.3214366e+02 ... 1.0185113e+01\n",
      "   1.0195188e+01 9.7927179e+00]\n",
      "  [3.1679897e+01 3.2982395e+01 3.2950314e+01 ... 2.5396807e+00\n",
      "   2.5421925e+00 2.4418359e+00]\n",
      "  [4.9116063e-01 5.1135427e-01 5.1085693e-01 ... 3.9374843e-02\n",
      "   3.9413784e-02 3.7857872e-02]]\n",
      "\n",
      " [[9.4020721e+01 9.7920258e+01 9.7860497e+01 ... 7.7395754e+00\n",
      "   7.7535276e+00 7.4503202e+00]\n",
      "  [7.5969894e+01 7.9127907e+01 7.9087097e+01 ... 7.8218651e+00\n",
      "   7.8308487e+00 7.5221119e+00]\n",
      "  [5.3958618e+01 5.6216671e+01 5.6203354e+01 ... 1.0667229e+01\n",
      "   1.0676281e+01 1.0253429e+01]\n",
      "  ...\n",
      "  [3.2539127e+01 3.3877522e+01 3.3845169e+01 ... 2.6096947e+00\n",
      "   2.6122832e+00 2.5091665e+00]\n",
      "  [8.1137037e+00 8.4474344e+00 8.4393673e+00 ... 6.5073311e-01\n",
      "   6.5137857e-01 6.2566626e-01]\n",
      "  [1.2579371e-01 1.3096783e-01 1.3084275e-01 ... 1.0088872e-02\n",
      "   1.0098881e-02 9.7002396e-03]]\n",
      "\n",
      " [[3.7715341e+02 3.9279553e+02 3.9255539e+02 ... 3.0950544e+01\n",
      "   3.1006439e+01 2.9793962e+01]\n",
      "  [2.6321646e+02 2.7414255e+02 2.7398477e+02 ... 2.1766554e+01\n",
      "   2.1794605e+01 2.0937229e+01]\n",
      "  [4.6997608e+01 4.8949516e+01 4.8922432e+01 ... 3.9907115e+00\n",
      "   3.9947922e+00 3.8371468e+00]\n",
      "  ...\n",
      "  [5.6084053e+01 5.8426796e+01 5.8408527e+01 ... 4.5696249e+00\n",
      "   4.5746212e+00 4.3944702e+00]\n",
      "  [1.3944356e+01 1.4526852e+01 1.4522321e+01 ... 1.1360933e+00\n",
      "   1.1373357e+00 1.0925472e+00]\n",
      "  [2.1614985e-01 2.2517905e-01 2.2510880e-01 ... 1.7610380e-02\n",
      "   1.7629640e-02 1.6935380e-02]]\n",
      "\n",
      " ...\n",
      "\n",
      " [[1.2135274e+01 1.2638837e+01 1.2631381e+01 ... 6.4981157e-01\n",
      "   6.5124941e-01 6.2627065e-01]\n",
      "  [5.5483776e+01 5.7784695e+01 5.7749126e+01 ... 3.1669793e+00\n",
      "   3.1733642e+00 3.0510781e+00]\n",
      "  [4.8090885e+01 5.0077457e+01 5.0038528e+01 ... 3.5894508e+00\n",
      "   3.5939960e+00 3.4530318e+00]\n",
      "  ...\n",
      "  [2.0837215e+02 2.1699840e+02 2.1684923e+02 ... 1.7300163e+01\n",
      "   1.7316896e+01 1.6632938e+01]\n",
      "  [5.4272240e+01 5.6520248e+01 5.6482670e+01 ... 4.5333900e+00\n",
      "   4.5377030e+00 4.3584142e+00]\n",
      "  [4.2790710e+01 4.4562160e+01 4.4531502e+01 ... 3.6314108e+00\n",
      "   3.6348450e+00 3.4912102e+00]]\n",
      "\n",
      " [[4.6256355e+01 4.8176720e+01 4.8149277e+01 ... 2.4131727e+00\n",
      "   2.4187646e+00 2.3262236e+00]\n",
      "  [1.8563860e+02 1.9334552e+02 1.9323532e+02 ... 9.6885986e+00\n",
      "   9.7110338e+00 9.3394794e+00]\n",
      "  [4.6820892e+01 4.8764538e+01 4.8736599e+01 ... 2.4593067e+00\n",
      "   2.4649472e+00 2.3705857e+00]\n",
      "  ...\n",
      "  [7.3373207e+01 7.6411057e+01 7.6358841e+01 ... 6.0944810e+00\n",
      "   6.1003828e+00 5.8594475e+00]\n",
      "  [9.6186623e+01 1.0017204e+02 1.0010677e+02 ... 7.9991369e+00\n",
      "   8.0068121e+00 7.6905146e+00]\n",
      "  [1.7704167e+02 1.8437042e+02 1.8424315e+02 ... 1.4692220e+01\n",
      "   1.4706187e+01 1.4125123e+01]]\n",
      "\n",
      " [[1.1533578e+01 1.2012404e+01 1.2005561e+01 ... 6.0168535e-01\n",
      "   6.0307962e-01 5.8000606e-01]\n",
      "  [4.6254158e+01 4.8174438e+01 4.8146996e+01 ... 2.4129939e+00\n",
      "   2.4185853e+00 2.3260510e+00]\n",
      "  [1.1533578e+01 1.2012404e+01 1.2005561e+01 ... 6.0168535e-01\n",
      "   6.0307962e-01 5.8000606e-01]\n",
      "  ...\n",
      "  [8.4760414e+01 8.8270599e+01 8.8211227e+01 ... 7.0483670e+00\n",
      "   7.0552197e+00 6.7765970e+00]\n",
      "  [1.8717400e+02 1.9493661e+02 1.9481715e+02 ... 1.5595144e+01\n",
      "   1.5610263e+01 1.4993746e+01]\n",
      "  [8.5281387e+01 8.8815063e+01 8.8757294e+01 ... 7.0918350e+00\n",
      "   7.0986452e+00 6.8182302e+00]]]\n"
     ]
    }
   ],
   "source": [
    "#print(rubixdata)"
   ]
  },
  {
   "cell_type": "markdown",
   "metadata": {},
   "source": [
    "## Convert luminosity to flux"
   ]
  },
  {
   "cell_type": "code",
   "execution_count": 9,
   "metadata": {},
   "outputs": [],
   "source": [
    "from rubix.spectra.ifu import convert_luminoisty_to_flux\n",
    "from rubix.cosmology import PLANCK15\n",
    "\n",
    "observation_lum_dist = PLANCK15.luminosity_distance_to_z(config_NIHAO[\"galaxy\"][\"dist_z\"])\n",
    "observation_z = config_NIHAO[\"galaxy\"][\"dist_z\"]\n",
    "pixel_size = 1.0\n",
    "fluxcube = convert_luminoisty_to_flux(rubixdata, observation_lum_dist, observation_z, pixel_size)\n",
    "rubixdata = fluxcube/1e-20"
   ]
  },
  {
   "cell_type": "markdown",
   "metadata": {},
   "source": [
    "## Store datacube in a fits file with header"
   ]
  },
  {
   "cell_type": "code",
   "execution_count": null,
   "metadata": {},
   "outputs": [],
   "source": [
    "#NBVAL_SKIP\n",
    "#from rubix.core.fits import store_fits\n",
    "\n",
    "#if config_illustris[\"telescope\"][\"name\"] == \"MUSE_ultraWFM\":\n",
    "#    cutted_datatcube = data.stars.datacube[300:600, :, :]\n",
    "#    data.stars.datacube = cutted_datatcube\n",
    "#if config_illustris[\"telescope\"][\"name\"] == \"MUSE_WFM\":\n",
    "#    cutted_datatcube = data.stars.datacube[100:200, :, :]\n",
    "#    data.stars.datacube = cutted_datatcube\n",
    "\n",
    "#store_fits(config_NIHAO, rubixdata, \"./output/\")"
   ]
  },
  {
   "cell_type": "markdown",
   "metadata": {},
   "source": [
    "## Step 4: Mock-data\n",
    "\n",
    "Now we have our final datacube and can use the mock-data to do science. Here we have a quick look in the optical wavelengthrange of the mock-datacube and show the spectra of a central spaxel and a spatial image."
   ]
  },
  {
   "cell_type": "code",
   "execution_count": 10,
   "metadata": {},
   "outputs": [],
   "source": [
    "#NBVAL_SKIP\n",
    "import jax.numpy as jnp\n",
    "\n",
    "wave = pipe.telescope.wave_seq\n",
    "# get the indices of the visible wavelengths of 4000-8000 Angstroms\n",
    "visible_indices = jnp.where((wave >= 4000) & (wave <= 8000))\n"
   ]
  },
  {
   "cell_type": "markdown",
   "metadata": {},
   "source": [
    "This is how you can access the spectrum of an individual spaxel, the wavelength can be accessed via `pipe.wave_seq`"
   ]
  },
  {
   "cell_type": "code",
   "execution_count": null,
   "metadata": {},
   "outputs": [],
   "source": [
    "#NBVAL_SKIP\n",
    "wave = pipe.telescope.wave_seq\n",
    "\n",
    "#spectra = rubixdata#.stars.datacube # Spectra of all stars\n",
    "spectra_sharded = rubixdata # Spectra of all stars\n",
    "#print(spectra.shape)\n",
    "\n",
    "plt.figure(figsize=(10, 5))\n",
    "#plt.subplot(1, 2, 1)\n",
    "#plt.title(\"Rubix\")\n",
    "#plt.xlabel(\"Wavelength [Angstrom]\")\n",
    "#plt.ylabel(\"Flux [erg/s/cm^2/Angstrom]\")\n",
    "#plt.plot(wave, spectra[12,12,:])\n",
    "#plt.plot(wave, spectra[8,12,:])\n",
    "\n",
    "#plt.subplot(1, 2, 2)\n",
    "plt.title(\"Rubix Sharded\")\n",
    "plt.xlabel(\"Wavelength [Angstrom]\")\n",
    "plt.ylabel(\"Flux [erg/s/cm^2/Angstrom]\")\n",
    "plt.plot(wave, spectra_sharded[21,15,:])\n",
    "plt.plot(wave, spectra_sharded[15,21,:])\n",
    "plt.plot(wave, spectra_sharded[13,4,:])\n",
    "plt.plot(wave, spectra_sharded[4,13,:])\n",
    "\n",
    "plt.show()"
   ]
  },
  {
   "cell_type": "markdown",
   "metadata": {},
   "source": [
    "Plot a spacial image of the data cube"
   ]
  },
  {
   "cell_type": "code",
   "execution_count": null,
   "metadata": {},
   "outputs": [],
   "source": [
    "#NBVAL_SKIP\n",
    "import numpy as np\n",
    "# get the spectra of the visible wavelengths from the ifu cube\n",
    "#visible_spectra = rubixdata.stars.datacube[ :, :, visible_indices[0]]\n",
    "#visible_spectra = rubixdata[ :, :, visible_indices[0]]\n",
    "sharded_visible_spectra = rubixdata[ :, :, visible_indices[0]]\n",
    "#visible_spectra.shape\n",
    "\n",
    "#image = jnp.sum(visible_spectra, axis=2)\n",
    "sharded_image = jnp.sum(sharded_visible_spectra, axis=2)\n",
    "img32 = np.array(sharded_image, dtype=np.float32)\n",
    "\n",
    "# Plot side by side\n",
    "plt.figure(figsize=(6, 5))\n",
    "\n",
    "# Original IFU datacube image\n",
    "#im0 = axes[0].imshow(image, origin=\"lower\", cmap=\"inferno\")\n",
    "#axes[0].set_title(\"Original IFU Datacube\")\n",
    "#fig.colorbar(im0, ax=axes[0])\n",
    "\n",
    "# Sharded IFU datacube image\n",
    "plt.imshow(img32, origin=\"lower\", cmap=\"inferno\", vmin=0, vmax=1e5)\n",
    "plt.title(\"Sharded IFU Datacube\")\n",
    "plt.colorbar(label=\"Flux [erg/s/cm^2]\")\n",
    "\n",
    "plt.tight_layout()\n",
    "plt.show()"
   ]
  },
  {
   "cell_type": "markdown",
   "metadata": {},
   "source": [
    "## DONE!\n",
    "\n",
    "Congratulations, you have sucessfully run the RUBIX pipeline to create your own mock-observed IFU datacube! Now enjoy playing around with the RUBIX pipeline and enjoy doing amazing science with RUBIX :)"
   ]
  }
 ],
 "metadata": {
  "kernelspec": {
   "display_name": "Python 3",
   "language": "python",
   "name": "python3"
  },
  "language_info": {
   "codemirror_mode": {
    "name": "ipython",
    "version": 3
   },
   "file_extension": ".py",
   "mimetype": "text/x-python",
   "name": "python",
   "nbconvert_exporter": "python",
   "pygments_lexer": "ipython3",
   "version": "3.11.11"
  }
 },
 "nbformat": 4,
 "nbformat_minor": 2
}
