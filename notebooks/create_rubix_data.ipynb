{
 "cells": [
  {
   "cell_type": "code",
   "execution_count": 17,
   "metadata": {},
   "outputs": [],
   "source": [
    "# NBVAL_SKIP\n",
    "import os\n",
    "\n",
    "config = {\n",
    "    \"logger\": {\n",
    "        \"log_level\": \"DEBUG\",\n",
    "        \"log_file_path\": None,\n",
    "        \"format\": \"%(asctime)s - %(name)s - %(levelname)s - %(message)s\",\n",
    "    },\n",
    "    \"data\": {\n",
    "        \"name\": \"IllustrisAPI\",\n",
    "        \"args\": {\n",
    "            \"api_key\": os.environ.get(\"ILLUSTRIS_API_KEY\"),\n",
    "            \"particle_type\": [\"stars\", \"gas\"],\n",
    "            \"simulation\": \"TNG50-1\",\n",
    "            \"snapshot\": 99,\n",
    "            \"save_data_path\": \"data\",\n",
    "        },\n",
    "        \n",
    "        \"load_galaxy_args\": {\n",
    "        \"id\": 11,\n",
    "        \"reuse\": False,\n",
    "        \"overwrite\": True\n",
    "        },\n",
    "        \"subset\": {\n",
    "            \"use_subset\": True,\n",
    "            \"subset_size\": 1000,\n",
    "        },\n",
    "    },\n",
    "    \"simulation\": {\n",
    "        \"name\": \"IllustrisTNG\",\n",
    "        \"args\": {\n",
    "            \"path\": \"data/galaxy-id-11.hdf5\",\n",
    "        },\n",
    "    },\n",
    "    \"output_path\": \"output\",\n",
    "\n",
    "        \n",
    "}"
   ]
  },
  {
   "cell_type": "markdown",
   "metadata": {},
   "source": [
    "Convert the Data into Rubix Galaxy HDF5. This will make the call to the IllustrisAPI to download the data, and then convert it into the rubix hdf5 format using the input handler"
   ]
  },
  {
   "cell_type": "code",
   "execution_count": 12,
   "metadata": {},
   "outputs": [],
   "source": [
    "# NBVAL_SKIP\n",
    "from rubix.core.data import convert_to_rubix"
   ]
  },
  {
   "cell_type": "code",
   "execution_count": 18,
   "metadata": {},
   "outputs": [
    {
     "name": "stderr",
     "output_type": "stream",
     "text": [
      "2024-06-26 10:09:46,838 - rubix - INFO - Loading data from IllustrisAPI\n",
      "2024-06-26 10:09:46,841 - rubix - INFO - Found existing file galaxy-id-11.hdf5, but overwrite is set to True. Overwriting the file.\n",
      "2024-06-26 10:09:46,842 - rubix - DEBUG - Loading galaxy with ID 11\n",
      "2024-06-26 10:09:46,842 - rubix - DEBUG - Creating Url for stars\n",
      "2024-06-26 10:09:46,843 - rubix - DEBUG - Fields for stars: ['Coordinates', 'GFM_InitialMass', 'GFM_Metallicity', 'GFM_StellarFormationTime', 'Velocities']\n",
      "2024-06-26 10:09:46,844 - rubix - DEBUG - Creating Url for gas\n",
      "2024-06-26 10:09:46,845 - rubix - DEBUG - Fields for gas: ['Coordinates', 'Density', 'Masses', 'GFM_Metallicity', 'StarFormationRate', 'InternalEnergy', 'Velocities', 'ElectronAbundance']\n",
      "2024-06-26 10:09:46,845 - rubix - DEBUG - Downloading Data from http://www.tng-project.org/api/TNG50-1/snapshots/99/subhalos/11/cutout.hdf5?stars=Coordinates,GFM_InitialMass,GFM_Metallicity,GFM_StellarFormationTime,Velocities&gas=Coordinates,Density,Masses,GFM_Metallicity,StarFormationRate,InternalEnergy,Velocities,ElectronAbundance\n",
      "2024-06-26 10:09:46,846 - rubix - DEBUG - Performing GET request from http://www.tng-project.org/api/TNG50-1/snapshots/99/subhalos/11/cutout.hdf5?stars=Coordinates,GFM_InitialMass,GFM_Metallicity,GFM_StellarFormationTime,Velocities&gas=Coordinates,Density,Masses,GFM_Metallicity,StarFormationRate,InternalEnergy,Velocities,ElectronAbundance, with parameters None\n",
      "2024-06-26 10:09:48,438 - rubix - DEBUG - Performing GET request from http://www.tng-project.org/api/TNG50-1/snapshots/99/subhalos/11, with parameters None\n",
      "2024-06-26 10:09:48,636 - rubix - DEBUG - Appending subhalo data for subhalo 11\n",
      "2024-06-26 10:09:48,666 - rubix - DEBUG - Checking if the data contains the expected particles. Particles in data: dict_keys(['PartType0', 'PartType4', 'SubhaloData'])\n",
      "2024-06-26 10:09:48,666 - rubix - INFO - Loading data into input handler\n",
      "2024-06-26 10:09:48,667 - rubix - DEBUG - Loading data from Illustris file located in data/galaxy-id-11.hdf5..\n",
      "2024-06-26 10:09:48,685 - rubix - DEBUG - Converting Stellar Formation Time to Age\n",
      "2024-06-26 10:09:54,695 - rubix - DEBUG - Converting to Rubix format..\n",
      "2024-06-26 10:09:54,702 - rubix - DEBUG - Converting redshift for galaxy data into \n",
      "2024-06-26 10:09:54,703 - rubix - DEBUG - Converting center for galaxy data into kpc\n",
      "2024-06-26 10:09:54,704 - rubix - DEBUG - Converting halfmassrad_stars for galaxy data into kpc\n",
      "2024-06-26 10:09:54,706 - rubix - DEBUG - Converting coords for particle type gas into kpc\n",
      "2024-06-26 10:09:54,709 - rubix - DEBUG - Converting density for particle type gas into Msun/pc^3\n",
      "2024-06-26 10:09:54,711 - rubix - DEBUG - Converting electron_abundance for particle type gas into \n",
      "2024-06-26 10:09:54,713 - rubix - DEBUG - Converting metallicity for particle type gas into \n",
      "2024-06-26 10:09:54,714 - rubix - DEBUG - Converting internal_energy for particle type gas into erg/g\n",
      "2024-06-26 10:09:54,716 - rubix - DEBUG - Converting mass for particle type gas into Msun\n",
      "2024-06-26 10:09:54,718 - rubix - DEBUG - Converting sfr for particle type gas into Msun/yr\n",
      "2024-06-26 10:09:54,720 - rubix - DEBUG - Converting velocity for particle type gas into kpc/s\n",
      "2024-06-26 10:09:54,722 - rubix - DEBUG - Converting coords for particle type stars into kpc\n",
      "2024-06-26 10:09:54,742 - rubix - DEBUG - Converting mass for particle type stars into Msun\n",
      "2024-06-26 10:09:54,749 - rubix - DEBUG - Converting metallicity for particle type stars into \n",
      "2024-06-26 10:09:54,752 - rubix - DEBUG - Converting age for particle type stars into Gyr\n",
      "2024-06-26 10:09:54,758 - rubix - DEBUG - Converting velocity for particle type stars into kpc/s\n",
      "2024-06-26 10:09:54,766 - rubix - INFO - Rubix file saved at output/rubix_galaxy.h5\n"
     ]
    },
    {
     "data": {
      "text/plain": [
       "'output'"
      ]
     },
     "execution_count": 18,
     "metadata": {},
     "output_type": "execute_result"
    }
   ],
   "source": [
    "# NBVAL_SKIP\n",
    "convert_to_rubix(config)"
   ]
  },
  {
   "cell_type": "code",
   "execution_count": 19,
   "metadata": {},
   "outputs": [
    {
     "name": "stdout",
     "output_type": "stream",
     "text": [
      "File: output/rubix_galaxy.h5\n",
      "Group: galaxy\n",
      "    Dataset: center (float64) ((3,))\n",
      "    Dataset: halfmassrad_stars (float64) (())\n",
      "    Dataset: redshift (float64) (())\n",
      "Group: meta\n",
      "    Dataset: BoxSize (float64) (())\n",
      "    Dataset: CutoutID (int64) (())\n",
      "    Dataset: CutoutRequest (object) (())\n",
      "    Dataset: CutoutType (object) (())\n",
      "    Dataset: Git_commit (|S40) (())\n",
      "    Dataset: Git_date (|S29) (())\n",
      "    Dataset: HubbleParam (float64) (())\n",
      "    Dataset: MassTable (float64) ((6,))\n",
      "    Dataset: NumFilesPerSnapshot (int64) (())\n",
      "    Dataset: NumPart_ThisFile (int32) ((6,))\n",
      "    Dataset: Omega0 (float64) (())\n",
      "    Dataset: OmegaBaryon (float64) (())\n",
      "    Dataset: OmegaLambda (float64) (())\n",
      "    Dataset: Redshift (float64) (())\n",
      "    Dataset: SimulationName (object) (())\n",
      "    Dataset: SnapshotNumber (int64) (())\n",
      "    Dataset: Time (float64) (())\n",
      "    Dataset: UnitLength_in_cm (float64) (())\n",
      "    Dataset: UnitMass_in_g (float64) (())\n",
      "    Dataset: UnitVelocity_in_cm_per_s (float64) (())\n",
      "Group: particles\n",
      "    Group: gas\n",
      "        Dataset: coords (float64) ((102609, 3))\n",
      "        Dataset: density (float32) ((102609,))\n",
      "        Dataset: electron_abundance (float32) ((102609,))\n",
      "        Dataset: internal_energy (float32) ((102609,))\n",
      "        Dataset: mass (float64) ((102609,))\n",
      "        Dataset: metallicity (float32) ((102609,))\n",
      "        Dataset: sfr (float32) ((102609,))\n",
      "        Dataset: velocity (float32) ((102609, 3))\n",
      "    Group: stars\n",
      "        Dataset: age (float64) ((643940,))\n",
      "        Dataset: coords (float64) ((643940, 3))\n",
      "        Dataset: mass (float64) ((643940,))\n",
      "        Dataset: metallicity (float32) ((643940,))\n",
      "        Dataset: velocity (float32) ((643940, 3))\n",
      "\n"
     ]
    }
   ],
   "source": [
    "# NBVAL_SKIP\n",
    "from rubix.utils import print_hdf5_file_structure\n",
    "\n",
    "print(print_hdf5_file_structure(\"output/rubix_galaxy.h5\"))"
   ]
  },
  {
   "cell_type": "code",
   "execution_count": 20,
   "metadata": {},
   "outputs": [
    {
     "data": {
      "text/plain": [
       "({'subhalo_center': array([10410.08408094, 35160.6188816 , 30040.60047238]),\n",
       "  'subhalo_halfmassrad_stars': 8.711988190754308,\n",
       "  'redshift': 2.220446049250313e-16,\n",
       "  'particle_data': {'gas': {'coords': array([[10410.00752676, 35160.60449623, 30040.65473196],\n",
       "           [10410.03559906, 35160.6237608 , 30040.72992465],\n",
       "           [10409.99722911, 35160.85307522, 30040.55252916],\n",
       "           ...,\n",
       "           [10495.43125783, 35191.46396069, 30133.27693068],\n",
       "           [10480.20398612, 35238.7471994 , 30165.50465243],\n",
       "           [10449.15989616, 35239.79823105, 30135.13190636]]),\n",
       "    'density': array([2.7886430e-02, 4.1865803e-02, 3.8354158e-02, ..., 5.1527832e-06,\n",
       "           2.3400473e-05, 1.8790468e-05], dtype=float32),\n",
       "    'electron_abundance': array([1.0563116, 1.0735056, 1.0716248, ..., 1.1896455, 1.106992 ,\n",
       "           1.1774486], dtype=float32),\n",
       "    'internal_energy': array([6.8172823e+12, 8.4238611e+12, 8.0589541e+12, ..., 2.3658605e+13,\n",
       "           4.4322799e+12, 2.2719876e+13], dtype=float32),\n",
       "    'mass': array([ 88109.58499209,  80971.75369149, 117522.04790099, ...,\n",
       "           137935.63769795, 124475.93389192, 131393.94786365]),\n",
       "    'metallicity': array([0.05205649, 0.05203246, 0.05280037, ..., 0.02933984, 0.01868894,\n",
       "           0.02108523], dtype=float32),\n",
       "    'sfr': array([4.0377836e+21, 4.5949141e+21, 6.3659749e+21, ..., 0.0000000e+00,\n",
       "           0.0000000e+00, 0.0000000e+00], dtype=float32),\n",
       "    'velocity': array([[-1.6645761e-14, -1.0139718e-14, -1.5874792e-14],\n",
       "           [-1.6725865e-14, -1.0537381e-14, -1.6694645e-14],\n",
       "           [-1.8082532e-14, -9.3013289e-15, -1.6264276e-14],\n",
       "           ...,\n",
       "           [-1.6828085e-14, -6.8512158e-15, -1.4079644e-14],\n",
       "           [-1.7223732e-14, -9.0861368e-15, -1.2897469e-14],\n",
       "           [-1.6786970e-14, -9.9580234e-15, -1.2811320e-14]], dtype=float32)},\n",
       "   'stars': {'age': array([ 1.2284504 ,  1.21251419,  1.01985867, ..., 10.20696847,\n",
       "            9.97477704, 10.19049785]),\n",
       "    'coords': array([[10410.07779334, 35160.61074117, 30040.673937  ],\n",
       "           [10410.048907  , 35160.63037845, 30040.67258148],\n",
       "           [10410.06750933, 35160.64722941, 30040.65260556],\n",
       "           ...,\n",
       "           [10428.04579923, 35288.1281377 , 30144.24021764],\n",
       "           [10395.82852456, 35245.0993745 , 30183.12276522],\n",
       "           [10442.36382471, 35180.17192698, 30058.36820664]]),\n",
       "    'mass': array([ 70347.50874567, 107717.51452943,  80716.20990576, ...,\n",
       "            84743.03738514, 121879.8841418 , 151305.20202486]),\n",
       "    'metallicity': array([0.09340966, 0.16544151, 0.11797465, ..., 0.00127249, 0.0031461 ,\n",
       "           0.00090027], dtype=float32),\n",
       "    'velocity': array([[-1.7484874e-14, -9.6766619e-15, -1.6369273e-14],\n",
       "           [-1.7518391e-14, -9.7259067e-15, -1.6435563e-14],\n",
       "           [-1.7428067e-14, -9.5217769e-15, -1.6055633e-14],\n",
       "           ...,\n",
       "           [-1.4439554e-14, -7.7606683e-15, -1.5302145e-14],\n",
       "           [-1.5147956e-14, -6.9383395e-15, -1.5191888e-14],\n",
       "           [-1.2365112e-14, -5.3153443e-15, -1.9133871e-14]], dtype=float32)}}},\n",
       " {'galaxy': {'center': 'kpc', 'halfmassrad_stars': 'kpc', 'redshift': ''},\n",
       "  'gas': {'coords': 'kpc',\n",
       "   'density': 'Msun/pc^3',\n",
       "   'electron_abundance': '',\n",
       "   'internal_energy': 'erg/g',\n",
       "   'mass': 'Msun',\n",
       "   'metallicity': '',\n",
       "   'sfr': 'Msun/yr',\n",
       "   'velocity': 'kpc/s'},\n",
       "  'stars': {'age': 'Gyr',\n",
       "   'coords': 'kpc',\n",
       "   'mass': 'Msun',\n",
       "   'metallicity': '',\n",
       "   'velocity': 'kpc/s'}})"
      ]
     },
     "execution_count": 20,
     "metadata": {},
     "output_type": "execute_result"
    }
   ],
   "source": [
    "# NBVAL_SKIP\n",
    "from rubix.utils import load_galaxy_data\n",
    "\n",
    "load_galaxy_data(\"output/rubix_galaxy.h5\")"
   ]
  }
 ],
 "metadata": {
  "kernelspec": {
   "display_name": "rubix",
   "language": "python",
   "name": "python3"
  },
  "language_info": {
   "codemirror_mode": {
    "name": "ipython",
    "version": 3
   },
   "file_extension": ".py",
   "mimetype": "text/x-python",
   "name": "python",
   "nbconvert_exporter": "python",
   "pygments_lexer": "ipython3",
   "version": "3.10.14"
  }
 },
 "nbformat": 4,
 "nbformat_minor": 2
}
