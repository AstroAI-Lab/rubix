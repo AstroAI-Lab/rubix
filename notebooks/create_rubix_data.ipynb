{
 "cells": [
  {
   "cell_type": "code",
   "execution_count": 35,
   "metadata": {},
   "outputs": [],
   "source": [
    "# NBVAL_SKIP\n",
    "import os\n",
    "\n",
    "config = {\n",
    "    \"logger\": {\n",
    "        \"log_level\": \"DEBUG\",\n",
    "        \"log_file_path\": None,\n",
    "        \"format\": \"%(asctime)s - %(name)s - %(levelname)s - %(message)s\",\n",
    "    },\n",
    "    \"data\": {\n",
    "        \"name\": \"IllustrisAPI\",\n",
    "        \"args\": {\n",
    "            \"api_key\": os.environ.get(\"ILLUSTRIS_API_KEY\"),\n",
    "            \"particle_type\": [\"gas\"],\n",
    "            \"simulation\": \"TNG50-1\",\n",
    "            \"snapshot\": 99,\n",
    "            \"save_data_path\": \"data\",\n",
    "        },\n",
    "        \n",
    "        \"load_galaxy_args\": {\n",
    "        \"id\": 11,\n",
    "        \"reuse\": False,\n",
    "        \"overwrite\": True\n",
    "        },\n",
    "        \"subset\": {\n",
    "            \"use_subset\": True,\n",
    "            \"subset_size\": 1000,\n",
    "        },\n",
    "    },\n",
    "    \"simulation\": {\n",
    "        \"name\": \"IllustrisTNG\",\n",
    "        \"args\": {\n",
    "            \"path\": \"data/galaxy-id-11.hdf5\",\n",
    "        },\n",
    "    },\n",
    "    \"output_path\": \"output\",\n",
    "\n",
    "        \n",
    "}"
   ]
  },
  {
   "cell_type": "markdown",
   "metadata": {},
   "source": [
    "Convert the Data into Rubix Galaxy HDF5. This will make the call to the IllustrisAPI to download the data, and then convert it into the rubix hdf5 format using the input handler"
   ]
  },
  {
   "cell_type": "code",
   "execution_count": 36,
   "metadata": {},
   "outputs": [],
   "source": [
    "# NBVAL_SKIP\n",
    "from rubix.core.data import convert_to_rubix"
   ]
  },
  {
   "cell_type": "code",
   "execution_count": 37,
   "metadata": {},
   "outputs": [
    {
     "name": "stderr",
     "output_type": "stream",
     "text": [
      "2024-06-18 16:39:41,335 - rubix - INFO - Loading data from IllustrisAPI\n",
      "2024-06-18 16:39:41,337 - rubix - DEBUG - Loading galaxy with ID 11\n",
      "2024-06-18 16:39:41,338 - rubix - DEBUG - Creating Url for gas\n",
      "2024-06-18 16:39:41,339 - rubix - DEBUG - Fields for gas: ['Coordinates', 'Density', 'Masses', 'GFM_Metallicity', 'SubfindHsml', 'StarFormationRate', 'InternalEnergy', 'Velocities', 'ElectronAbundance', 'GFM_Metals']\n",
      "2024-06-18 16:39:41,340 - rubix - DEBUG - Downloading Data from http://www.tng-project.org/api/TNG50-1/snapshots/99/subhalos/11/cutout.hdf5?gas=Coordinates,Density,Masses,GFM_Metallicity,SubfindHsml,StarFormationRate,InternalEnergy,Velocities,ElectronAbundance,GFM_Metals\n",
      "2024-06-18 16:39:41,340 - rubix - DEBUG - Performing GET request from http://www.tng-project.org/api/TNG50-1/snapshots/99/subhalos/11/cutout.hdf5?gas=Coordinates,Density,Masses,GFM_Metallicity,SubfindHsml,StarFormationRate,InternalEnergy,Velocities,ElectronAbundance,GFM_Metals, with parameters None\n",
      "2024-06-18 16:39:42,871 - rubix - DEBUG - Performing GET request from http://www.tng-project.org/api/TNG50-1/snapshots/99/subhalos/11, with parameters None\n",
      "2024-06-18 16:39:43,057 - rubix - DEBUG - Appending subhalo data for subhalo 11\n",
      "2024-06-18 16:39:43,105 - rubix - DEBUG - Checking if the data contains the expected particles. Particles in data: dict_keys(['PartType0', 'SubhaloData'])\n",
      "2024-06-18 16:39:43,106 - rubix - INFO - Loading data into input handler\n",
      "2024-06-18 16:39:43,106 - rubix - DEBUG - Loading data from Illustris file located in data/galaxy-id-11.hdf5..\n",
      "2024-06-18 16:39:43,115 - rubix - DEBUG - Converting to Rubix format..\n",
      "2024-06-18 16:39:43,118 - rubix - DEBUG - Converting redshift for galaxy data into \n",
      "2024-06-18 16:39:43,119 - rubix - DEBUG - Converting center for galaxy data into kpc\n",
      "2024-06-18 16:39:43,120 - rubix - DEBUG - Converting halfmassrad_stars for galaxy data into kpc\n",
      "2024-06-18 16:39:43,120 - rubix - DEBUG - Converting coords for particle type gas into kpc\n",
      "2024-06-18 16:39:43,123 - rubix - DEBUG - Converting density for particle type gas into Msun/pc^3\n",
      "2024-06-18 16:39:43,124 - rubix - DEBUG - Converting electron_abundance for particle type gas into \n",
      "2024-06-18 16:39:43,125 - rubix - DEBUG - Converting metallicity for particle type gas into \n",
      "2024-06-18 16:39:43,126 - rubix - DEBUG - Converting metals for particle type gas into \n",
      "2024-06-18 16:39:43,131 - rubix - DEBUG - Converting internal_energy for particle type gas into erg/g\n",
      "2024-06-18 16:39:43,133 - rubix - DEBUG - Converting mass for particle type gas into Msun\n",
      "2024-06-18 16:39:43,134 - rubix - DEBUG - Converting sfr for particle type gas into Msun/yr\n",
      "2024-06-18 16:39:43,135 - rubix - DEBUG - Converting hsml for particle type gas into kpc\n",
      "2024-06-18 16:39:43,136 - rubix - DEBUG - Converting velocity for particle type gas into kpc/s\n",
      "2024-06-18 16:39:43,138 - rubix - INFO - Rubix file saved at output/rubix_galaxy.h5\n"
     ]
    },
    {
     "data": {
      "text/plain": [
       "'output'"
      ]
     },
     "execution_count": 37,
     "metadata": {},
     "output_type": "execute_result"
    }
   ],
   "source": [
    "# NBVAL_SKIP\n",
    "convert_to_rubix(config)"
   ]
  },
  {
   "cell_type": "code",
   "execution_count": 38,
   "metadata": {},
   "outputs": [
    {
     "name": "stdout",
     "output_type": "stream",
     "text": [
      "File: output/rubix_galaxy.h5\n",
      "Group: galaxy\n",
      "    Dataset: center (float64) ((3,))\n",
      "    Dataset: halfmassrad_stars (float64) (())\n",
      "    Dataset: redshift (float64) (())\n",
      "Group: meta\n",
      "    Dataset: BoxSize (float64) (())\n",
      "    Dataset: CutoutID (int64) (())\n",
      "    Dataset: CutoutRequest (object) (())\n",
      "    Dataset: CutoutType (object) (())\n",
      "    Dataset: Git_commit (|S40) (())\n",
      "    Dataset: Git_date (|S29) (())\n",
      "    Dataset: HubbleParam (float64) (())\n",
      "    Dataset: MassTable (float64) ((6,))\n",
      "    Dataset: NumFilesPerSnapshot (int64) (())\n",
      "    Dataset: NumPart_ThisFile (int32) ((6,))\n",
      "    Dataset: Omega0 (float64) (())\n",
      "    Dataset: OmegaBaryon (float64) (())\n",
      "    Dataset: OmegaLambda (float64) (())\n",
      "    Dataset: Redshift (float64) (())\n",
      "    Dataset: SimulationName (object) (())\n",
      "    Dataset: SnapshotNumber (int64) (())\n",
      "    Dataset: Time (float64) (())\n",
      "    Dataset: UnitLength_in_cm (float64) (())\n",
      "    Dataset: UnitMass_in_g (float64) (())\n",
      "    Dataset: UnitVelocity_in_cm_per_s (float64) (())\n",
      "Group: particles\n",
      "    Group: gas\n",
      "        Dataset: coords (float64) ((102609, 3))\n",
      "        Dataset: density (float32) ((102609,))\n",
      "        Dataset: electron_abundance (float32) ((102609,))\n",
      "        Dataset: hsml (float32) ((102609,))\n",
      "        Dataset: internal_energy (float32) ((102609,))\n",
      "        Dataset: mass (float64) ((102609,))\n",
      "        Dataset: metallicity (float32) ((102609,))\n",
      "        Dataset: metals (float32) ((102609, 10))\n",
      "        Dataset: sfr (float32) ((102609,))\n",
      "        Dataset: velocity (float32) ((102609, 3))\n",
      "\n"
     ]
    }
   ],
   "source": [
    "# NBVAL_SKIP\n",
    "from rubix.utils import print_hdf5_file_structure\n",
    "\n",
    "print(print_hdf5_file_structure(\"output/rubix_galaxy.h5\"))"
   ]
  },
  {
   "cell_type": "code",
   "execution_count": 39,
   "metadata": {},
   "outputs": [
    {
     "data": {
      "text/plain": [
       "({'subhalo_center': array([10410.08408094, 35160.6188816 , 30040.60047238]),\n",
       "  'subhalo_halfmassrad_stars': 8.711988190754308,\n",
       "  'redshift': 2.220446049250313e-16,\n",
       "  'particle_data': {'gas': {'coords': array([[10410.00752676, 35160.60449623, 30040.65473196],\n",
       "           [10410.03559906, 35160.6237608 , 30040.72992465],\n",
       "           [10409.99722911, 35160.85307522, 30040.55252916],\n",
       "           ...,\n",
       "           [10495.43125783, 35191.46396069, 30133.27693068],\n",
       "           [10480.20398612, 35238.7471994 , 30165.50465243],\n",
       "           [10449.15989616, 35239.79823105, 30135.13190636]]),\n",
       "    'density': array([2.7886430e-02, 4.1865803e-02, 3.8354158e-02, ..., 5.1527832e-06,\n",
       "           2.3400473e-05, 1.8790468e-05], dtype=float32),\n",
       "    'electron_abundance': array([1.0563116, 1.0735056, 1.0716248, ..., 1.1896455, 1.106992 ,\n",
       "           1.1774486], dtype=float32),\n",
       "    'hsml': array([0.23512758, 0.24456808, 0.23512758, ..., 9.430033  , 9.5192175 ,\n",
       "           8.957928  ], dtype=float32),\n",
       "    'internal_energy': array([6.8172823e+12, 8.4238611e+12, 8.0589541e+12, ..., 2.3658605e+13,\n",
       "           4.4322799e+12, 2.2719876e+13], dtype=float32),\n",
       "    'mass': array([ 88109.58499209,  80971.75369149, 117522.04790099, ...,\n",
       "           137935.63769795, 124475.93389192, 131393.94786365]),\n",
       "    'metallicity': array([0.05205649, 0.05203246, 0.05280037, ..., 0.02933984, 0.01868894,\n",
       "           0.02108523], dtype=float32),\n",
       "    'metals': array([[6.7822379e-01, 2.6971975e-01, 5.7422095e-03, ..., 2.3021118e-03,\n",
       "            3.5030781e-03, 1.6777463e-03],\n",
       "           [6.7801696e-01, 2.6995060e-01, 5.7277982e-03, ..., 2.3022390e-03,\n",
       "            3.5269419e-03, 1.6840551e-03],\n",
       "           [6.7723894e-01, 2.6996070e-01, 5.8313222e-03, ..., 2.3340362e-03,\n",
       "            3.5124156e-03, 1.6884111e-03],\n",
       "           ...,\n",
       "           [7.0244884e-01, 2.6821133e-01, 3.3624137e-03, ..., 1.2736849e-03,\n",
       "            1.7470609e-03, 8.7029627e-04],\n",
       "           [7.2195065e-01, 2.5936043e-01, 2.0818349e-03, ..., 8.1051351e-04,\n",
       "            1.0173670e-03, 5.2885653e-04],\n",
       "           [7.1560675e-01, 2.6330802e-01, 2.3620499e-03, ..., 9.0880238e-04,\n",
       "            1.1448746e-03, 5.9176586e-04]], dtype=float32),\n",
       "    'sfr': array([4.0377836e+21, 4.5949141e+21, 6.3659749e+21, ..., 0.0000000e+00,\n",
       "           0.0000000e+00, 0.0000000e+00], dtype=float32),\n",
       "    'velocity': array([[-1.6645761e-14, -1.0139718e-14, -1.5874792e-14],\n",
       "           [-1.6725865e-14, -1.0537381e-14, -1.6694645e-14],\n",
       "           [-1.8082532e-14, -9.3013289e-15, -1.6264276e-14],\n",
       "           ...,\n",
       "           [-1.6828085e-14, -6.8512158e-15, -1.4079644e-14],\n",
       "           [-1.7223732e-14, -9.0861368e-15, -1.2897469e-14],\n",
       "           [-1.6786970e-14, -9.9580234e-15, -1.2811320e-14]], dtype=float32)}}},\n",
       " {'galaxy': {'center': 'kpc', 'halfmassrad_stars': 'kpc', 'redshift': ''},\n",
       "  'gas': {'coords': 'kpc',\n",
       "   'density': 'Msun/pc^3',\n",
       "   'electron_abundance': '',\n",
       "   'hsml': 'kpc',\n",
       "   'internal_energy': 'erg/g',\n",
       "   'mass': 'Msun',\n",
       "   'metallicity': '',\n",
       "   'metals': '',\n",
       "   'sfr': 'Msun/yr',\n",
       "   'velocity': 'kpc/s'}})"
      ]
     },
     "execution_count": 39,
     "metadata": {},
     "output_type": "execute_result"
    }
   ],
   "source": [
    "# NBVAL_SKIP\n",
    "from rubix.utils import load_galaxy_data\n",
    "\n",
    "load_galaxy_data(\"output/rubix_galaxy.h5\")"
   ]
  }
 ],
 "metadata": {
  "kernelspec": {
   "display_name": "rubix",
   "language": "python",
   "name": "python3"
  },
  "language_info": {
   "codemirror_mode": {
    "name": "ipython",
    "version": 3
   },
   "file_extension": ".py",
   "mimetype": "text/x-python",
   "name": "python",
   "nbconvert_exporter": "python",
   "pygments_lexer": "ipython3",
   "version": "3.10.14"
  }
 },
 "nbformat": 4,
 "nbformat_minor": 2
}
