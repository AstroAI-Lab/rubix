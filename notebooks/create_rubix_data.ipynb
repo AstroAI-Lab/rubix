{
 "cells": [
  {
   "cell_type": "code",
   "execution_count": 2,
   "metadata": {},
   "outputs": [],
   "source": [
    "# NBVAL_SKIP\n",
    "import os\n",
    "\n",
    "config = {\n",
    "    \"logger\": {\n",
    "        \"log_level\": \"DEBUG\",\n",
    "        \"log_file_path\": None,\n",
    "        \"format\": \"%(asctime)s - %(name)s - %(levelname)s - %(message)s\",\n",
    "    },\n",
    "    \"data\": {\n",
    "        \"name\": \"IllustrisAPI\",\n",
    "        \"args\": {\n",
    "            \"api_key\": os.environ.get(\"ILLUSTRIS_API_KEY\"),\n",
    "            \"particle_type\": [\"stars\", \"gas\"],\n",
    "            \"simulation\": \"TNG50-1\",\n",
    "            \"snapshot\": 99,\n",
    "            \"save_data_path\": \"data\",\n",
    "        },\n",
    "        \n",
    "        \"load_galaxy_args\": {\n",
    "        \"id\": 12,\n",
    "        \"reuse\": True,\n",
    "        },\n",
    "\n",
    "        \"subset\": {\n",
    "            \"use_subset\": True,\n",
    "            \"subset_size\": 1000,\n",
    "        },\n",
    "    },\n",
    "    \"simulation\": {\n",
    "        \"name\": \"IllustrisTNG\",\n",
    "        \"args\": {\n",
    "            \"path\": \"data/galaxy-id-12.hdf5\",\n",
    "        },\n",
    "    },\n",
    "    \"output_path\": \"output\",\n",
    "\n",
    "        \n",
    "}"
   ]
  },
  {
   "cell_type": "markdown",
   "metadata": {},
   "source": [
    "Convert the Data into Rubix Galaxy HDF5. This will make the call to the IllustrisAPI to download the data, and then convert it into the rubix hdf5 format using the input handler"
   ]
  },
  {
   "cell_type": "code",
   "execution_count": 3,
   "metadata": {},
   "outputs": [],
   "source": [
    "# NBVAL_SKIP\n",
    "from rubix.core.data import convert_to_rubix"
   ]
  },
  {
   "cell_type": "code",
   "execution_count": 4,
   "metadata": {},
   "outputs": [
    {
     "name": "stderr",
     "output_type": "stream",
     "text": [
      "2024-07-16 11:53:49,747 - rubix - INFO - \n",
      "   ___  __  _____  _____  __\n",
      "  / _ \\/ / / / _ )/  _/ |/_/\n",
      " / , _/ /_/ / _  |/ /_>  <  \n",
      "/_/|_|\\____/____/___/_/|_|  \n",
      "                            \n",
      "\n",
      "2024-07-16 11:53:49,749 - rubix - INFO - Rubix version: 0.0.post66+g42d5801.d20240712\n",
      "2024-07-16 11:53:49,750 - rubix - INFO - Rubix galaxy file already exists, skipping conversion\n"
     ]
    },
    {
     "data": {
      "text/plain": [
       "'output'"
      ]
     },
     "execution_count": 4,
     "metadata": {},
     "output_type": "execute_result"
    }
   ],
   "source": [
    "# NBVAL_SKIP\n",
    "convert_to_rubix(config)"
   ]
  },
  {
   "cell_type": "code",
   "execution_count": 5,
   "metadata": {},
   "outputs": [
    {
     "name": "stdout",
     "output_type": "stream",
     "text": [
      "{'logger': {'log_level': 'DEBUG', 'log_file_path': None, 'format': '%(asctime)s - %(name)s - %(levelname)s - %(message)s'}, 'data': {'name': 'IllustrisAPI', 'args': {'api_key': '05add2d69d501eb62014faa4dadb1af0', 'particle_type': ['stars', 'gas'], 'simulation': 'TNG50-1', 'snapshot': 99, 'save_data_path': 'data'}, 'load_galaxy_args': {'id': 12, 'reuse': True}, 'subset': {'use_subset': True, 'subset_size': 1000}}, 'simulation': {'name': 'IllustrisTNG', 'args': {'path': 'data/galaxy-id-12.hdf5'}}, 'output_path': 'output'}\n"
     ]
    },
    {
     "ename": "KeyError",
     "evalue": "'gas'",
     "output_type": "error",
     "traceback": [
      "\u001b[0;31m---------------------------------------------------------------------------\u001b[0m",
      "\u001b[0;31mKeyError\u001b[0m                                  Traceback (most recent call last)",
      "Cell \u001b[0;32mIn[5], line 5\u001b[0m\n\u001b[1;32m      2\u001b[0m \u001b[38;5;28;01mimport\u001b[39;00m \u001b[38;5;21;01msys\u001b[39;00m\n\u001b[1;32m      3\u001b[0m \u001b[38;5;28;01mimport\u001b[39;00m \u001b[38;5;21;01mjax\u001b[39;00m\u001b[38;5;21;01m.\u001b[39;00m\u001b[38;5;21;01mnumpy\u001b[39;00m \u001b[38;5;28;01mas\u001b[39;00m \u001b[38;5;21;01mjnp\u001b[39;00m\n\u001b[0;32m----> 5\u001b[0m rubixdata \u001b[38;5;241m=\u001b[39m \u001b[43mprepare_input\u001b[49m\u001b[43m(\u001b[49m\u001b[43mconfig\u001b[49m\u001b[43m)\u001b[49m\n\u001b[1;32m      6\u001b[0m \u001b[38;5;28mtype\u001b[39m(rubixdata)\n\u001b[1;32m      7\u001b[0m sys\u001b[38;5;241m.\u001b[39mgetsizeof(rubixdata)\n",
      "File \u001b[0;32m~/rubix/rubix/core/data.py:229\u001b[0m, in \u001b[0;36mprepare_input\u001b[0;34m(config)\u001b[0m\n\u001b[1;32m    226\u001b[0m     rubixdata \u001b[38;5;241m=\u001b[39m center_particles(rubixdata, \u001b[38;5;124m\"\u001b[39m\u001b[38;5;124mstars\u001b[39m\u001b[38;5;124m\"\u001b[39m)\n\u001b[1;32m    228\u001b[0m \u001b[38;5;28;01mif\u001b[39;00m \u001b[38;5;124m\"\u001b[39m\u001b[38;5;124mgas\u001b[39m\u001b[38;5;124m\"\u001b[39m \u001b[38;5;129;01min\u001b[39;00m config[\u001b[38;5;124m\"\u001b[39m\u001b[38;5;124mdata\u001b[39m\u001b[38;5;124m\"\u001b[39m][\u001b[38;5;124m\"\u001b[39m\u001b[38;5;124margs\u001b[39m\u001b[38;5;124m\"\u001b[39m][\u001b[38;5;124m\"\u001b[39m\u001b[38;5;124mparticle_type\u001b[39m\u001b[38;5;124m\"\u001b[39m]:\n\u001b[0;32m--> 229\u001b[0m     \u001b[38;5;28;01mfor\u001b[39;00m attribute, value \u001b[38;5;129;01min\u001b[39;00m \u001b[43mdata\u001b[49m\u001b[43m[\u001b[49m\u001b[38;5;124;43m\"\u001b[39;49m\u001b[38;5;124;43mparticle_data\u001b[39;49m\u001b[38;5;124;43m\"\u001b[39;49m\u001b[43m]\u001b[49m\u001b[43m[\u001b[49m\u001b[38;5;124;43m\"\u001b[39;49m\u001b[38;5;124;43mgas\u001b[39;49m\u001b[38;5;124;43m\"\u001b[39;49m\u001b[43m]\u001b[49m\u001b[38;5;241m.\u001b[39mitems():\n\u001b[1;32m    230\u001b[0m         jax_value \u001b[38;5;241m=\u001b[39m jnp\u001b[38;5;241m.\u001b[39marray(value)\n\u001b[1;32m    231\u001b[0m         \u001b[38;5;28msetattr\u001b[39m(rubixdata\u001b[38;5;241m.\u001b[39mgas, attribute, value)\n",
      "\u001b[0;31mKeyError\u001b[0m: 'gas'"
     ]
    }
   ],
   "source": [
    "from rubix.core.data import convert_to_rubix, prepare_input\n",
    "import sys\n",
    "import jax.numpy as jnp\n",
    "\n",
    "rubixdata = prepare_input(config)\n",
    "type(rubixdata)\n",
    "sys.getsizeof(rubixdata)\n",
    "len(rubixdata.stars.coords)\n",
    "attr = [attr for attr in dir(rubixdata.stars) if not attr.startswith('__')]# and attr not in ('coords', 'velocity')]\n",
    "print(attr)\n",
    "\n",
    "rubixdata.stars.__getattribute__(attr[3])\n",
    "#rubixdata.stars.__getattribute__(attr[0]) = jnp.array(rubixdata.stars.__getattribute__(attr[0]))\n",
    "#dir(rubixdata.galaxy)\n",
    "#print(rubixdata.stars.__getattribute__(attr[2]))\n",
    "attribute_value = rubixdata.stars.__getattribute__(attr[2])  # Get the current value\n",
    "jax_array_value = jnp.array(attribute_value)  # Convert it to a JAX array\n",
    "setattr(rubixdata.stars, attr[2], jax_array_value)  # Set the converted value back\n",
    "#print(rubixdata.stars.__getattribute__(attr[2]))  # Check that the value has been updated\n",
    "print(type(rubixdata.stars.velocity))"
   ]
  },
  {
   "cell_type": "code",
   "execution_count": 6,
   "metadata": {},
   "outputs": [
    {
     "name": "stdout",
     "output_type": "stream",
     "text": [
      "File: output/rubix_galaxy.h5\n",
      "Group: galaxy\n",
      "    Dataset: center (float64) ((3,))\n",
      "    Dataset: halfmassrad_stars (float64) (())\n",
      "    Dataset: redshift (float64) (())\n",
      "Group: meta\n",
      "    Dataset: BoxSize (float64) (())\n",
      "    Dataset: CutoutID (int64) (())\n",
      "    Dataset: CutoutRequest (object) (())\n",
      "    Dataset: CutoutType (object) (())\n",
      "    Dataset: Git_commit (|S40) (())\n",
      "    Dataset: Git_date (|S29) (())\n",
      "    Dataset: HubbleParam (float64) (())\n",
      "    Dataset: MassTable (float64) ((6,))\n",
      "    Dataset: NumFilesPerSnapshot (int64) (())\n",
      "    Dataset: NumPart_ThisFile (int32) ((6,))\n",
      "    Dataset: Omega0 (float64) (())\n",
      "    Dataset: OmegaBaryon (float64) (())\n",
      "    Dataset: OmegaLambda (float64) (())\n",
      "    Dataset: Redshift (float64) (())\n",
      "    Dataset: SimulationName (object) (())\n",
      "    Dataset: SnapshotNumber (int64) (())\n",
      "    Dataset: Time (float64) (())\n",
      "    Dataset: UnitLength_in_cm (float64) (())\n",
      "    Dataset: UnitMass_in_g (float64) (())\n",
      "    Dataset: UnitVelocity_in_cm_per_s (float64) (())\n",
      "Group: particles\n",
      "    Group: stars\n",
      "        Dataset: age (float64) ((649384,))\n",
      "        Dataset: coords (float64) ((649384, 3))\n",
      "        Dataset: mass (float64) ((649384,))\n",
      "        Dataset: metallicity (float32) ((649384,))\n",
      "        Dataset: velocity (float32) ((649384, 3))\n",
      "\n"
     ]
    }
   ],
   "source": [
    "# NBVAL_SKIP\n",
    "from rubix.utils import print_hdf5_file_structure\n",
    "\n",
    "print(print_hdf5_file_structure(\"output/rubix_galaxy.h5\"))"
   ]
  },
  {
   "cell_type": "code",
   "execution_count": 7,
   "metadata": {},
   "outputs": [
    {
     "data": {
      "text/plain": [
       "({'subhalo_center': array([11413.86337268, 35893.86374042, 32027.01940138]),\n",
       "  'subhalo_halfmassrad_stars': 7.727193253526112,\n",
       "  'redshift': 2.220446049250313e-16,\n",
       "  'particle_data': {'stars': {'age': array([6.61104195, 7.36190701, 6.66032986, ..., 6.40950954, 6.42073787,\n",
       "           7.89013795]),\n",
       "    'coords': array([[11413.87546682, 35893.80997872, 32027.00659656],\n",
       "           [11413.86013316, 35893.80119009, 32027.00812409],\n",
       "           [11413.87029215, 35893.78527919, 32027.01561964],\n",
       "           ...,\n",
       "           [11396.95793694, 35940.89677239, 32025.26185701],\n",
       "           [11365.51268778, 35930.26383014, 32011.07761748],\n",
       "           [11407.98233896, 35899.36944122, 32062.31917969]]),\n",
       "    'mass': array([ 86821.71309025,  73289.33728592, 111279.11567214, ...,\n",
       "           103573.98244387,  85964.95135161,  83291.24409303]),\n",
       "    'metallicity': array([0.09918208, 0.04759451, 0.07264117, ..., 0.00494921, 0.00485685,\n",
       "           0.00233734], dtype=float32),\n",
       "    'velocity': array([[-2.5744148e-15,  1.5503301e-15, -3.4023223e-14],\n",
       "           [-2.7559346e-15,  1.9045189e-15, -3.3937896e-14],\n",
       "           [-2.5709532e-15,  1.7743122e-15, -3.4027807e-14],\n",
       "           ...,\n",
       "           [ 3.3521157e-16, -3.0531008e-15, -3.6998355e-14],\n",
       "           [ 1.0350350e-15, -1.3501230e-15, -3.7034713e-14],\n",
       "           [ 3.6777828e-15,  9.7191652e-16, -3.7393730e-14]], dtype=float32)}}},\n",
       " {'galaxy': {'center': 'kpc', 'halfmassrad_stars': 'kpc', 'redshift': ''},\n",
       "  'stars': {'age': 'Gyr',\n",
       "   'coords': 'kpc',\n",
       "   'mass': 'Msun',\n",
       "   'metallicity': '',\n",
       "   'velocity': 'kpc/s'}})"
      ]
     },
     "execution_count": 7,
     "metadata": {},
     "output_type": "execute_result"
    }
   ],
   "source": [
    "# NBVAL_SKIP\n",
    "from rubix.utils import load_galaxy_data\n",
    "\n",
    "load_galaxy_data(\"output/rubix_galaxy.h5\")"
   ]
  }
 ],
 "metadata": {
  "kernelspec": {
   "display_name": "rubix",
   "language": "python",
   "name": "python3"
  },
  "language_info": {
   "codemirror_mode": {
    "name": "ipython",
    "version": 3
   },
   "file_extension": ".py",
   "mimetype": "text/x-python",
   "name": "python",
   "nbconvert_exporter": "python",
   "pygments_lexer": "ipython3",
   "version": "3.10.14"
  }
 },
 "nbformat": 4,
 "nbformat_minor": 2
}
