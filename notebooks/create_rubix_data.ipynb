{
 "cells": [
  {
   "cell_type": "code",
   "execution_count": 2,
   "metadata": {},
   "outputs": [],
   "source": [
    "# NBVAL_SKIP\n",
    "import os\n",
    "\n",
    "config = {\n",
    "    \"logger\": {\n",
    "        \"log_level\": \"DEBUG\",\n",
    "        \"log_file_path\": None,\n",
    "        \"format\": \"%(asctime)s - %(name)s - %(levelname)s - %(message)s\",\n",
    "    },\n",
    "    \"data\": {\n",
    "        \"name\": \"IllustrisAPI\",\n",
    "        \"args\": {\n",
    "            \"api_key\": os.environ.get(\"ILLUSTRIS_API_KEY\"),\n",
    "            \"particle_type\": [\"stars\"],\n",
    "            \"simulation\": \"TNG50-1\",\n",
    "            \"snapshot\": 99,\n",
    "            \"save_data_path\": \"data\",\n",
    "        },\n",
    "        \n",
    "        \"load_galaxy_args\": {\n",
    "        \"id\": 12,\n",
    "        \"reuse\": True,\n",
    "        }\n",
    "    },\n",
    "    \"simulation\": {\n",
    "        \"name\": \"IllustrisTNG\",\n",
    "        \"args\": {\n",
    "            \"path\": \"data/galaxy-id-14.hdf5\",\n",
    "        },\n",
    "    },\n",
    "    \"output_path\": \"output\",\n",
    "\n",
    "        \n",
    "}"
   ]
  },
  {
   "cell_type": "markdown",
   "metadata": {},
   "source": [
    "Convert the Data into Rubix Galaxy HDF5. This will make the call to the IllustrisAPI to download the data, and then convert it into the rubix hdf5 format using the input handler"
   ]
  },
  {
   "cell_type": "code",
   "execution_count": 3,
   "metadata": {},
   "outputs": [],
   "source": [
    "# NBVAL_SKIP\n",
    "from rubix.core.data import convert_to_rubix"
   ]
  },
  {
   "cell_type": "code",
   "execution_count": 4,
   "metadata": {},
   "outputs": [
    {
     "name": "stderr",
     "output_type": "stream",
     "text": [
      "2024-07-10 15:17:17,726 - rubix - INFO - \n",
      "   ___  __  _____  _____  __\n",
      "  / _ \\/ / / / _ )/  _/ |/_/\n",
      " / , _/ /_/ / _  |/ /_>  <  \n",
      "/_/|_|\\____/____/___/_/|_|  \n",
      "                            \n",
      "\n",
      "2024-07-10 15:17:17,727 - rubix - INFO - Rubix version: 0.0.post65+g022936a.d20240710\n",
      "2024-07-10 15:17:17,728 - rubix - INFO - Loading data from IllustrisAPI\n",
      "2024-07-10 15:17:17,728 - rubix - INFO - Reusing existing file galaxy-id-12.hdf5. If you want to download the data again, set reuse=False.\n",
      "2024-07-10 15:17:17,757 - rubix - INFO - Loading data into input handler\n",
      "2024-07-10 15:17:17,758 - rubix - DEBUG - Loading data from Illustris file..\n",
      "2024-07-10 15:17:17,758 - rubix - DEBUG - Checking if the fields are present in the file...\n",
      "2024-07-10 15:17:17,759 - rubix - DEBUG - Keys in the file: <KeysViewHDF5 ['Header', 'SubhaloData']>\n",
      "2024-07-10 15:17:17,759 - rubix - DEBUG - Expected fields: ['Header', 'SubhaloData', 'PartType4', 'PartType0']\n",
      "2024-07-10 15:17:17,759 - rubix - DEBUG - Matching fields: {'Header', 'SubhaloData'}\n"
     ]
    },
    {
     "ename": "KeyError",
     "evalue": "\"Unable to synchronously open object (object 'Coordinates' doesn't exist)\"",
     "output_type": "error",
     "traceback": [
      "\u001b[0;31m---------------------------------------------------------------------------\u001b[0m",
      "\u001b[0;31mKeyError\u001b[0m                                  Traceback (most recent call last)",
      "Cell \u001b[0;32mIn[4], line 2\u001b[0m\n\u001b[1;32m      1\u001b[0m \u001b[38;5;66;03m# NBVAL_SKIP\u001b[39;00m\n\u001b[0;32m----> 2\u001b[0m \u001b[43mconvert_to_rubix\u001b[49m\u001b[43m(\u001b[49m\u001b[43mconfig\u001b[49m\u001b[43m)\u001b[49m\n",
      "File \u001b[0;32m~/rubix/rubix/core/data.py:154\u001b[0m, in \u001b[0;36mconvert_to_rubix\u001b[0;34m(config)\u001b[0m\n\u001b[1;32m    152\u001b[0m         \u001b[38;5;66;03m# Load the saved data into the input handler\u001b[39;00m\n\u001b[1;32m    153\u001b[0m logger\u001b[38;5;241m.\u001b[39minfo(\u001b[38;5;124m\"\u001b[39m\u001b[38;5;124mLoading data into input handler\u001b[39m\u001b[38;5;124m\"\u001b[39m)\n\u001b[0;32m--> 154\u001b[0m input_handler \u001b[38;5;241m=\u001b[39m \u001b[43mget_input_handler\u001b[49m\u001b[43m(\u001b[49m\u001b[43mconfig\u001b[49m\u001b[43m,\u001b[49m\u001b[43m \u001b[49m\u001b[43mlogger\u001b[49m\u001b[38;5;241;43m=\u001b[39;49m\u001b[43mlogger\u001b[49m\u001b[43m)\u001b[49m\n\u001b[1;32m    155\u001b[0m input_handler\u001b[38;5;241m.\u001b[39mto_rubix(output_path\u001b[38;5;241m=\u001b[39mconfig[\u001b[38;5;124m\"\u001b[39m\u001b[38;5;124moutput_path\u001b[39m\u001b[38;5;124m\"\u001b[39m])\n\u001b[1;32m    157\u001b[0m \u001b[38;5;28;01mreturn\u001b[39;00m config[\u001b[38;5;124m\"\u001b[39m\u001b[38;5;124moutput_path\u001b[39m\u001b[38;5;124m\"\u001b[39m]\n",
      "File \u001b[0;32m~/rubix/rubix/galaxy/input_handler/factory.py:11\u001b[0m, in \u001b[0;36mget_input_handler\u001b[0;34m(config, logger)\u001b[0m\n\u001b[1;32m      9\u001b[0m \u001b[38;5;250m\u001b[39m\u001b[38;5;124;03m\"\"\"Creates a handler based on the config\"\"\"\u001b[39;00m\n\u001b[1;32m     10\u001b[0m \u001b[38;5;28;01mif\u001b[39;00m config[\u001b[38;5;124m\"\u001b[39m\u001b[38;5;124msimulation\u001b[39m\u001b[38;5;124m\"\u001b[39m][\u001b[38;5;124m\"\u001b[39m\u001b[38;5;124mname\u001b[39m\u001b[38;5;124m\"\u001b[39m] \u001b[38;5;241m==\u001b[39m \u001b[38;5;124m\"\u001b[39m\u001b[38;5;124mIllustrisTNG\u001b[39m\u001b[38;5;124m\"\u001b[39m:\n\u001b[0;32m---> 11\u001b[0m     \u001b[38;5;28;01mreturn\u001b[39;00m \u001b[43mIllustrisHandler\u001b[49m\u001b[43m(\u001b[49m\u001b[38;5;241;43m*\u001b[39;49m\u001b[38;5;241;43m*\u001b[39;49m\u001b[43mconfig\u001b[49m\u001b[43m[\u001b[49m\u001b[38;5;124;43m\"\u001b[39;49m\u001b[38;5;124;43msimulation\u001b[39;49m\u001b[38;5;124;43m\"\u001b[39;49m\u001b[43m]\u001b[49m\u001b[43m[\u001b[49m\u001b[38;5;124;43m\"\u001b[39;49m\u001b[38;5;124;43margs\u001b[39;49m\u001b[38;5;124;43m\"\u001b[39;49m\u001b[43m]\u001b[49m\u001b[43m,\u001b[49m\u001b[43m \u001b[49m\u001b[43mlogger\u001b[49m\u001b[43m \u001b[49m\u001b[38;5;241;43m=\u001b[39;49m\u001b[43m \u001b[49m\u001b[43mlogger\u001b[49m\u001b[43m)\u001b[49m\n\u001b[1;32m     12\u001b[0m \u001b[38;5;28;01melse\u001b[39;00m:\n\u001b[1;32m     13\u001b[0m     \u001b[38;5;28;01mraise\u001b[39;00m \u001b[38;5;167;01mValueError\u001b[39;00m(\u001b[38;5;124mf\u001b[39m\u001b[38;5;124m\"\u001b[39m\u001b[38;5;124mSimulation \u001b[39m\u001b[38;5;132;01m{\u001b[39;00mconfig[\u001b[38;5;124m'\u001b[39m\u001b[38;5;124msimulation\u001b[39m\u001b[38;5;124m'\u001b[39m]\u001b[38;5;132;01m}\u001b[39;00m\u001b[38;5;124m is not supported\u001b[39m\u001b[38;5;124m\"\u001b[39m)\n",
      "File \u001b[0;32m~/rubix/rubix/galaxy/input_handler/illustris.py:41\u001b[0m, in \u001b[0;36mIllustrisHandler.__init__\u001b[0;34m(self, path, logger)\u001b[0m\n\u001b[1;32m     38\u001b[0m \u001b[38;5;28;01mif\u001b[39;00m \u001b[38;5;129;01mnot\u001b[39;00m os\u001b[38;5;241m.\u001b[39mpath\u001b[38;5;241m.\u001b[39mexists(\u001b[38;5;28mself\u001b[39m\u001b[38;5;241m.\u001b[39mpath):\n\u001b[1;32m     39\u001b[0m     \u001b[38;5;28;01mraise\u001b[39;00m \u001b[38;5;167;01mFileNotFoundError\u001b[39;00m(\u001b[38;5;124mf\u001b[39m\u001b[38;5;124m\"\u001b[39m\u001b[38;5;124mFile \u001b[39m\u001b[38;5;132;01m{\u001b[39;00m\u001b[38;5;28mself\u001b[39m\u001b[38;5;241m.\u001b[39mpath\u001b[38;5;132;01m}\u001b[39;00m\u001b[38;5;124m not found\u001b[39m\u001b[38;5;124m\"\u001b[39m)\n\u001b[1;32m     40\u001b[0m \u001b[38;5;28mself\u001b[39m\u001b[38;5;241m.\u001b[39msimulation_metadata, \u001b[38;5;28mself\u001b[39m\u001b[38;5;241m.\u001b[39mparticle_data, \u001b[38;5;28mself\u001b[39m\u001b[38;5;241m.\u001b[39mgalaxy_data \u001b[38;5;241m=\u001b[39m (\n\u001b[0;32m---> 41\u001b[0m     \u001b[38;5;28;43mself\u001b[39;49m\u001b[38;5;241;43m.\u001b[39;49m\u001b[43m_load_data\u001b[49m\u001b[43m(\u001b[49m\u001b[43m)\u001b[49m\n\u001b[1;32m     42\u001b[0m )\n",
      "File \u001b[0;32m~/rubix/rubix/galaxy/input_handler/illustris.py:101\u001b[0m, in \u001b[0;36mIllustrisHandler._load_data\u001b[0;34m(self)\u001b[0m\n\u001b[1;32m     98\u001b[0m     particle_data \u001b[38;5;241m=\u001b[39m \u001b[38;5;28mself\u001b[39m\u001b[38;5;241m.\u001b[39m_get_data(f)\n\u001b[1;32m    100\u001b[0m     \u001b[38;5;66;03m# Get the Subhalo Galaxy Data\u001b[39;00m\n\u001b[0;32m--> 101\u001b[0m     galaxy_data \u001b[38;5;241m=\u001b[39m \u001b[38;5;28;43mself\u001b[39;49m\u001b[38;5;241;43m.\u001b[39;49m\u001b[43m_get_galaxy_data\u001b[49m\u001b[43m(\u001b[49m\u001b[43mf\u001b[49m\u001b[43m)\u001b[49m\n\u001b[1;32m    103\u001b[0m \u001b[38;5;28;01mreturn\u001b[39;00m simulation_metadata, particle_data, galaxy_data\n",
      "File \u001b[0;32m~/rubix/rubix/galaxy/input_handler/illustris.py:132\u001b[0m, in \u001b[0;36mIllustrisHandler._get_galaxy_data\u001b[0;34m(self, f)\u001b[0m\n\u001b[1;32m    129\u001b[0m \u001b[38;5;28;01mdef\u001b[39;00m \u001b[38;5;21m_get_galaxy_data\u001b[39m(\u001b[38;5;28mself\u001b[39m, f):\n\u001b[1;32m    131\u001b[0m     redshift \u001b[38;5;241m=\u001b[39m f[\u001b[38;5;124m\"\u001b[39m\u001b[38;5;124mHeader\u001b[39m\u001b[38;5;124m\"\u001b[39m]\u001b[38;5;241m.\u001b[39mattrs[\u001b[38;5;124m\"\u001b[39m\u001b[38;5;124mRedshift\u001b[39m\u001b[38;5;124m\"\u001b[39m]\n\u001b[0;32m--> 132\u001b[0m     center \u001b[38;5;241m=\u001b[39m \u001b[38;5;28;43mself\u001b[39;49m\u001b[38;5;241;43m.\u001b[39;49m\u001b[43m_get_center\u001b[49m\u001b[43m(\u001b[49m\u001b[43mf\u001b[49m\u001b[43m)\u001b[49m\n\u001b[1;32m    133\u001b[0m     halfmassrad_stars \u001b[38;5;241m=\u001b[39m \u001b[38;5;28mself\u001b[39m\u001b[38;5;241m.\u001b[39m_get_halfmassrad_stars(f)\n\u001b[1;32m    134\u001b[0m     data \u001b[38;5;241m=\u001b[39m {\n\u001b[1;32m    135\u001b[0m         \u001b[38;5;124m\"\u001b[39m\u001b[38;5;124mredshift\u001b[39m\u001b[38;5;124m\"\u001b[39m: redshift,\n\u001b[1;32m    136\u001b[0m         \u001b[38;5;124m\"\u001b[39m\u001b[38;5;124mcenter\u001b[39m\u001b[38;5;124m\"\u001b[39m: center,\n\u001b[1;32m    137\u001b[0m         \u001b[38;5;124m\"\u001b[39m\u001b[38;5;124mhalfmassrad_stars\u001b[39m\u001b[38;5;124m\"\u001b[39m: halfmassrad_stars,\n\u001b[1;32m    138\u001b[0m     }\n",
      "File \u001b[0;32m~/rubix/rubix/galaxy/input_handler/illustris.py:177\u001b[0m, in \u001b[0;36mIllustrisHandler._get_center\u001b[0;34m(self, f)\u001b[0m\n\u001b[1;32m    174\u001b[0m attributes_coords \u001b[38;5;241m=\u001b[39m \u001b[38;5;28;01mNone\u001b[39;00m\n\u001b[1;32m    176\u001b[0m \u001b[38;5;28;01mfor\u001b[39;00m part_type \u001b[38;5;129;01min\u001b[39;00m present_fields:\n\u001b[0;32m--> 177\u001b[0m         attributes_coords \u001b[38;5;241m=\u001b[39m \u001b[43mf\u001b[49m\u001b[43m[\u001b[49m\u001b[43mpart_type\u001b[49m\u001b[43m]\u001b[49m\u001b[43m[\u001b[49m\u001b[38;5;124;43m\"\u001b[39;49m\u001b[38;5;124;43mCoordinates\u001b[39;49m\u001b[38;5;124;43m\"\u001b[39;49m\u001b[43m]\u001b[49m\u001b[38;5;241m.\u001b[39mattrs\n\u001b[1;32m    178\u001b[0m         \u001b[38;5;28;01mbreak\u001b[39;00m  \u001b[38;5;66;03m# Stop after finding the first match\u001b[39;00m\n\u001b[1;32m    180\u001b[0m \u001b[38;5;66;03m# Convert to physical Units\u001b[39;00m\n",
      "File \u001b[0;32mh5py/_objects.pyx:54\u001b[0m, in \u001b[0;36mh5py._objects.with_phil.wrapper\u001b[0;34m()\u001b[0m\n",
      "File \u001b[0;32mh5py/_objects.pyx:55\u001b[0m, in \u001b[0;36mh5py._objects.with_phil.wrapper\u001b[0;34m()\u001b[0m\n",
      "File \u001b[0;32m~/miniconda3/envs/rubix/lib/python3.10/site-packages/h5py/_hl/group.py:357\u001b[0m, in \u001b[0;36mGroup.__getitem__\u001b[0;34m(self, name)\u001b[0m\n\u001b[1;32m    355\u001b[0m         \u001b[38;5;28;01mraise\u001b[39;00m \u001b[38;5;167;01mValueError\u001b[39;00m(\u001b[38;5;124m\"\u001b[39m\u001b[38;5;124mInvalid HDF5 object reference\u001b[39m\u001b[38;5;124m\"\u001b[39m)\n\u001b[1;32m    356\u001b[0m \u001b[38;5;28;01melif\u001b[39;00m \u001b[38;5;28misinstance\u001b[39m(name, (\u001b[38;5;28mbytes\u001b[39m, \u001b[38;5;28mstr\u001b[39m)):\n\u001b[0;32m--> 357\u001b[0m     oid \u001b[38;5;241m=\u001b[39m \u001b[43mh5o\u001b[49m\u001b[38;5;241;43m.\u001b[39;49m\u001b[43mopen\u001b[49m\u001b[43m(\u001b[49m\u001b[38;5;28;43mself\u001b[39;49m\u001b[38;5;241;43m.\u001b[39;49m\u001b[43mid\u001b[49m\u001b[43m,\u001b[49m\u001b[43m \u001b[49m\u001b[38;5;28;43mself\u001b[39;49m\u001b[38;5;241;43m.\u001b[39;49m\u001b[43m_e\u001b[49m\u001b[43m(\u001b[49m\u001b[43mname\u001b[49m\u001b[43m)\u001b[49m\u001b[43m,\u001b[49m\u001b[43m \u001b[49m\u001b[43mlapl\u001b[49m\u001b[38;5;241;43m=\u001b[39;49m\u001b[38;5;28;43mself\u001b[39;49m\u001b[38;5;241;43m.\u001b[39;49m\u001b[43m_lapl\u001b[49m\u001b[43m)\u001b[49m\n\u001b[1;32m    358\u001b[0m \u001b[38;5;28;01melse\u001b[39;00m:\n\u001b[1;32m    359\u001b[0m     \u001b[38;5;28;01mraise\u001b[39;00m \u001b[38;5;167;01mTypeError\u001b[39;00m(\u001b[38;5;124m\"\u001b[39m\u001b[38;5;124mAccessing a group is done with bytes or str, \u001b[39m\u001b[38;5;124m\"\u001b[39m\n\u001b[1;32m    360\u001b[0m                     \u001b[38;5;124m\"\u001b[39m\u001b[38;5;124mnot \u001b[39m\u001b[38;5;132;01m{}\u001b[39;00m\u001b[38;5;124m\"\u001b[39m\u001b[38;5;241m.\u001b[39mformat(\u001b[38;5;28mtype\u001b[39m(name)))\n",
      "File \u001b[0;32mh5py/_objects.pyx:54\u001b[0m, in \u001b[0;36mh5py._objects.with_phil.wrapper\u001b[0;34m()\u001b[0m\n",
      "File \u001b[0;32mh5py/_objects.pyx:55\u001b[0m, in \u001b[0;36mh5py._objects.with_phil.wrapper\u001b[0;34m()\u001b[0m\n",
      "File \u001b[0;32mh5py/h5o.pyx:241\u001b[0m, in \u001b[0;36mh5py.h5o.open\u001b[0;34m()\u001b[0m\n",
      "\u001b[0;31mKeyError\u001b[0m: \"Unable to synchronously open object (object 'Coordinates' doesn't exist)\""
     ]
    }
   ],
   "source": [
    "# NBVAL_SKIP\n",
    "convert_to_rubix(config)"
   ]
  },
  {
   "cell_type": "code",
   "execution_count": 20,
   "metadata": {},
   "outputs": [
    {
     "name": "stdout",
     "output_type": "stream",
     "text": [
      "File: output/rubix_galaxy.h5\n",
      "Group: galaxy\n",
      "    Dataset: center (float64) ((3,))\n",
      "    Dataset: halfmassrad_stars (float64) (())\n",
      "    Dataset: redshift (float64) (())\n",
      "Group: meta\n",
      "    Dataset: BoxSize (float64) (())\n",
      "    Dataset: CutoutID (int64) (())\n",
      "    Dataset: CutoutRequest (object) (())\n",
      "    Dataset: CutoutType (object) (())\n",
      "    Dataset: Git_commit (|S40) (())\n",
      "    Dataset: Git_date (|S29) (())\n",
      "    Dataset: HubbleParam (float64) (())\n",
      "    Dataset: MassTable (float64) ((6,))\n",
      "    Dataset: NumFilesPerSnapshot (int64) (())\n",
      "    Dataset: NumPart_ThisFile (int32) ((6,))\n",
      "    Dataset: Omega0 (float64) (())\n",
      "    Dataset: OmegaBaryon (float64) (())\n",
      "    Dataset: OmegaLambda (float64) (())\n",
      "    Dataset: Redshift (float64) (())\n",
      "    Dataset: SimulationName (object) (())\n",
      "    Dataset: SnapshotNumber (int64) (())\n",
      "    Dataset: Time (float64) (())\n",
      "    Dataset: UnitLength_in_cm (float64) (())\n",
      "    Dataset: UnitMass_in_g (float64) (())\n",
      "    Dataset: UnitVelocity_in_cm_per_s (float64) (())\n",
      "Group: particles\n",
      "    Group: gas\n",
      "        Dataset: coords (float64) ((102609, 3))\n",
      "        Dataset: density (float32) ((102609,))\n",
      "        Dataset: electron_abundance (float32) ((102609,))\n",
      "        Dataset: internal_energy (float32) ((102609,))\n",
      "        Dataset: mass (float64) ((102609,))\n",
      "        Dataset: metallicity (float32) ((102609,))\n",
      "        Dataset: sfr (float32) ((102609,))\n",
      "        Dataset: velocity (float32) ((102609, 3))\n",
      "    Group: stars\n",
      "        Dataset: age (float64) ((643940,))\n",
      "        Dataset: coords (float64) ((643940, 3))\n",
      "        Dataset: mass (float64) ((643940,))\n",
      "        Dataset: metallicity (float32) ((643940,))\n",
      "        Dataset: velocity (float32) ((643940, 3))\n",
      "\n"
     ]
    }
   ],
   "source": [
    "# NBVAL_SKIP\n",
    "from rubix.utils import print_hdf5_file_structure\n",
    "\n",
    "print(print_hdf5_file_structure(\"output/rubix_galaxy.h5\"))"
   ]
  },
  {
   "cell_type": "code",
   "execution_count": 21,
   "metadata": {},
   "outputs": [
    {
     "data": {
      "text/plain": [
       "({'subhalo_center': array([10410.08408094, 35160.6188816 , 30040.60047238]),\n",
       "  'subhalo_halfmassrad_stars': 8.711988190754308,\n",
       "  'redshift': 2.220446049250313e-16,\n",
       "  'particle_data': {'gas': {'coords': array([[10410.00752676, 35160.60449623, 30040.65473196],\n",
       "           [10410.03559906, 35160.6237608 , 30040.72992465],\n",
       "           [10409.99722911, 35160.85307522, 30040.55252916],\n",
       "           ...,\n",
       "           [10495.43125783, 35191.46396069, 30133.27693068],\n",
       "           [10480.20398612, 35238.7471994 , 30165.50465243],\n",
       "           [10449.15989616, 35239.79823105, 30135.13190636]]),\n",
       "    'density': array([2.7886430e-02, 4.1865803e-02, 3.8354158e-02, ..., 5.1527832e-06,\n",
       "           2.3400473e-05, 1.8790468e-05], dtype=float32),\n",
       "    'electron_abundance': array([1.0563116, 1.0735056, 1.0716248, ..., 1.1896455, 1.106992 ,\n",
       "           1.1774486], dtype=float32),\n",
       "    'internal_energy': array([6.8172823e+12, 8.4238611e+12, 8.0589541e+12, ..., 2.3658605e+13,\n",
       "           4.4322799e+12, 2.2719876e+13], dtype=float32),\n",
       "    'mass': array([ 88109.58499209,  80971.75369149, 117522.04790099, ...,\n",
       "           137935.63769795, 124475.93389192, 131393.94786365]),\n",
       "    'metallicity': array([0.05205649, 0.05203246, 0.05280037, ..., 0.02933984, 0.01868894,\n",
       "           0.02108523], dtype=float32),\n",
       "    'sfr': array([4.0377836e+21, 4.5949141e+21, 6.3659749e+21, ..., 0.0000000e+00,\n",
       "           0.0000000e+00, 0.0000000e+00], dtype=float32),\n",
       "    'velocity': array([[-1.6645761e-14, -1.0139718e-14, -1.5874792e-14],\n",
       "           [-1.6725865e-14, -1.0537381e-14, -1.6694645e-14],\n",
       "           [-1.8082532e-14, -9.3013289e-15, -1.6264276e-14],\n",
       "           ...,\n",
       "           [-1.6828085e-14, -6.8512158e-15, -1.4079644e-14],\n",
       "           [-1.7223732e-14, -9.0861368e-15, -1.2897469e-14],\n",
       "           [-1.6786970e-14, -9.9580234e-15, -1.2811320e-14]], dtype=float32)},\n",
       "   'stars': {'age': array([ 1.2284504 ,  1.21251419,  1.01985867, ..., 10.20696847,\n",
       "            9.97477704, 10.19049785]),\n",
       "    'coords': array([[10410.07779334, 35160.61074117, 30040.673937  ],\n",
       "           [10410.048907  , 35160.63037845, 30040.67258148],\n",
       "           [10410.06750933, 35160.64722941, 30040.65260556],\n",
       "           ...,\n",
       "           [10428.04579923, 35288.1281377 , 30144.24021764],\n",
       "           [10395.82852456, 35245.0993745 , 30183.12276522],\n",
       "           [10442.36382471, 35180.17192698, 30058.36820664]]),\n",
       "    'mass': array([ 70347.50874567, 107717.51452943,  80716.20990576, ...,\n",
       "            84743.03738514, 121879.8841418 , 151305.20202486]),\n",
       "    'metallicity': array([0.09340966, 0.16544151, 0.11797465, ..., 0.00127249, 0.0031461 ,\n",
       "           0.00090027], dtype=float32),\n",
       "    'velocity': array([[-1.7484874e-14, -9.6766619e-15, -1.6369273e-14],\n",
       "           [-1.7518391e-14, -9.7259067e-15, -1.6435563e-14],\n",
       "           [-1.7428067e-14, -9.5217769e-15, -1.6055633e-14],\n",
       "           ...,\n",
       "           [-1.4439554e-14, -7.7606683e-15, -1.5302145e-14],\n",
       "           [-1.5147956e-14, -6.9383395e-15, -1.5191888e-14],\n",
       "           [-1.2365112e-14, -5.3153443e-15, -1.9133871e-14]], dtype=float32)}}},\n",
       " {'galaxy': {'center': 'kpc', 'halfmassrad_stars': 'kpc', 'redshift': ''},\n",
       "  'gas': {'coords': 'kpc',\n",
       "   'density': 'Msun/pc^3',\n",
       "   'electron_abundance': '',\n",
       "   'internal_energy': 'erg/g',\n",
       "   'mass': 'Msun',\n",
       "   'metallicity': '',\n",
       "   'sfr': 'Msun/yr',\n",
       "   'velocity': 'kpc/s'},\n",
       "  'stars': {'age': 'Gyr',\n",
       "   'coords': 'kpc',\n",
       "   'mass': 'Msun',\n",
       "   'metallicity': '',\n",
       "   'velocity': 'kpc/s'}})"
      ]
     },
     "execution_count": 21,
     "metadata": {},
     "output_type": "execute_result"
    }
   ],
   "source": [
    "# NBVAL_SKIP\n",
    "from rubix.utils import load_galaxy_data\n",
    "\n",
    "load_galaxy_data(\"output/rubix_galaxy.h5\")"
   ]
  }
 ],
 "metadata": {
  "kernelspec": {
   "display_name": "rubix",
   "language": "python",
   "name": "python3"
  },
  "language_info": {
   "codemirror_mode": {
    "name": "ipython",
    "version": 3
   },
   "file_extension": ".py",
   "mimetype": "text/x-python",
   "name": "python",
   "nbconvert_exporter": "python",
   "pygments_lexer": "ipython3",
   "version": "3.10.14"
  }
 },
 "nbformat": 4,
 "nbformat_minor": 2
}
