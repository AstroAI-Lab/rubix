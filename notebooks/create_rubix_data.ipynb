{
 "cells": [
  {
   "cell_type": "code",
   "execution_count": 7,
   "metadata": {},
   "outputs": [],
   "source": [
    "# NBVAL_SKIP\n",
    "import os\n",
    "\n",
    "config = {\n",
    "    \"logger\": {\n",
    "        \"log_level\": \"DEBUG\",\n",
    "        \"log_file_path\": None,\n",
    "        \"format\": \"%(asctime)s - %(name)s - %(levelname)s - %(message)s\",\n",
    "    },\n",
    "    \"data\": {\n",
    "        \"name\": \"IllustrisAPI\",\n",
    "        \"args\": {\n",
    "            \"api_key\": os.environ.get(\"ILLUSTRIS_API_KEY\"),\n",
    "            \"particle_type\": [\"stars\", \"gas\"],\n",
    "            \"simulation\": \"TNG50-1\",\n",
    "            \"snapshot\": 99,\n",
    "            \"save_data_path\": \"data\",\n",
    "        },\n",
    "        \n",
    "        \"load_galaxy_args\": {\n",
    "        \"id\": 12,\n",
    "        \"reuse\": True,\n",
    "        },\n",
    "\n",
    "        \"subset\": {\n",
    "            \"use_subset\": True,\n",
    "            \"subset_size\": 1000,\n",
    "        },\n",
    "    },\n",
    "    \"simulation\": {\n",
    "        \"name\": \"IllustrisTNG\",\n",
    "        \"args\": {\n",
    "            \"path\": \"data/galaxy-id-12.hdf5\",\n",
    "        },\n",
    "    },\n",
    "    \"output_path\": \"output\",\n",
    "\n",
    "        \n",
    "}"
   ]
  },
  {
   "cell_type": "markdown",
   "metadata": {},
   "source": [
    "Convert the Data into Rubix Galaxy HDF5. This will make the call to the IllustrisAPI to download the data, and then convert it into the rubix hdf5 format using the input handler"
   ]
  },
  {
   "cell_type": "code",
   "execution_count": 8,
   "metadata": {},
   "outputs": [],
   "source": [
    "# NBVAL_SKIP\n",
    "from rubix.core.data import convert_to_rubix"
   ]
  },
  {
   "cell_type": "code",
   "execution_count": 9,
   "metadata": {},
   "outputs": [
    {
     "name": "stderr",
     "output_type": "stream",
     "text": [
      "2024-07-12 15:26:34,969 - rubix - INFO - Loading data from IllustrisAPI\n",
      "2024-07-12 15:26:34,971 - rubix - DEBUG - Loading galaxy with ID 12\n",
      "2024-07-12 15:26:34,972 - rubix - DEBUG - Performing GET request from http://www.tng-project.org/api/TNG50-1/snapshots/99/subhalos/12/cutout.hdf5?stars=Coordinates,GFM_InitialMass,GFM_Metallicity,GFM_StellarFormationTime,Velocities&gas=Coordinates,Density,Masses,GFM_Metallicity,StarFormationRate,InternalEnergy,Velocities,ElectronAbundance, with parameters None\n",
      "2024-07-12 15:26:37,186 - rubix - DEBUG - Performing GET request from http://www.tng-project.org/api/TNG50-1/snapshots/99/subhalos/12, with parameters None\n",
      "2024-07-12 15:26:37,415 - rubix - DEBUG - Appending subhalo data for subhalo 12\n",
      "2024-07-12 15:26:37,449 - rubix - INFO - Loading data into input handler\n",
      "2024-07-12 15:26:37,450 - rubix - DEBUG - Loading data from Illustris file..\n",
      "2024-07-12 15:26:37,451 - rubix - DEBUG - Checking if the fields are present in the file...\n",
      "2024-07-12 15:26:37,452 - rubix - DEBUG - Keys in the file: <KeysViewHDF5 ['Header', 'PartType0', 'PartType4', 'SubhaloData']>\n",
      "2024-07-12 15:26:37,452 - rubix - DEBUG - Expected fields: ['Header', 'SubhaloData', 'PartType4', 'PartType0']\n",
      "2024-07-12 15:26:37,453 - rubix - DEBUG - Matching fields: {'PartType4', 'Header', 'PartType0', 'SubhaloData'}\n",
      "2024-07-12 15:26:37,456 - rubix - DEBUG - Found 13254 valid particles out of 13254\n",
      "2024-07-12 15:26:37,472 - rubix - DEBUG - Found 649384 valid particles out of 649384\n",
      "2024-07-12 15:26:37,815 - rubix - DEBUG - Converting Stellar Formation Time to Age\n",
      "2024-07-12 15:26:44,020 - rubix - DEBUG - Converting to Rubix format..\n",
      "2024-07-12 15:26:44,022 - rubix - INFO - Rubix file saved at output/rubix_galaxy.h5\n",
      "2024-07-12 15:26:44,022 - rubix - DEBUG - Creating Rubix file at path: output/rubix_galaxy.h5\n",
      "2024-07-12 15:26:44,026 - rubix - DEBUG - Converting redshift for galaxy data into \n",
      "2024-07-12 15:26:44,028 - rubix - DEBUG - Converting center for galaxy data into kpc\n",
      "2024-07-12 15:26:44,029 - rubix - DEBUG - Converting halfmassrad_stars for galaxy data into kpc\n",
      "2024-07-12 15:26:44,030 - rubix - DEBUG - Converting coords for particle type gas into kpc\n",
      "2024-07-12 15:26:44,031 - rubix - DEBUG - Converting density for particle type gas into Msun/kpc^3\n",
      "2024-07-12 15:26:44,033 - rubix - DEBUG - Converting electron_abundance for particle type gas into \n",
      "2024-07-12 15:26:44,033 - rubix - DEBUG - Converting metallicity for particle type gas into \n",
      "2024-07-12 15:26:44,034 - rubix - DEBUG - Converting internal_energy for particle type gas into erg/g\n",
      "2024-07-12 15:26:44,036 - rubix - DEBUG - Converting mass for particle type gas into Msun\n",
      "2024-07-12 15:26:44,037 - rubix - DEBUG - Converting sfr for particle type gas into Msun/yr\n",
      "2024-07-12 15:26:44,038 - rubix - DEBUG - Converting velocity for particle type gas into kpc/s\n",
      "2024-07-12 15:26:44,039 - rubix - DEBUG - Converting coords for particle type stars into kpc\n",
      "2024-07-12 15:26:44,068 - rubix - DEBUG - Converting mass for particle type stars into Msun\n",
      "2024-07-12 15:26:44,075 - rubix - DEBUG - Converting metallicity for particle type stars into \n",
      "2024-07-12 15:26:44,080 - rubix - DEBUG - Converting age for particle type stars into Gyr\n",
      "2024-07-12 15:26:44,086 - rubix - DEBUG - Converting velocity for particle type stars into kpc/s\n",
      "2024-07-12 15:26:44,096 - rubix - INFO - Rubix file saved at output/rubix_galaxy.h5\n"
     ]
    },
    {
     "data": {
      "text/plain": [
       "'output'"
      ]
     },
     "execution_count": 9,
     "metadata": {},
     "output_type": "execute_result"
    }
   ],
   "source": [
    "# NBVAL_SKIP\n",
    "convert_to_rubix(config)"
   ]
  },
  {
   "cell_type": "code",
   "execution_count": 11,
   "metadata": {},
   "outputs": [
    {
     "name": "stdout",
     "output_type": "stream",
     "text": [
      "{'logger': {'log_level': 'DEBUG', 'log_file_path': None, 'format': '%(asctime)s - %(name)s - %(levelname)s - %(message)s'}, 'data': {'name': 'IllustrisAPI', 'args': {'api_key': '05add2d69d501eb62014faa4dadb1af0', 'particle_type': ['stars', 'gas'], 'simulation': 'TNG50-1', 'snapshot': 99, 'save_data_path': 'data'}, 'load_galaxy_args': {'id': 12, 'reuse': True}, 'subset': {'use_subset': True, 'subset_size': 1000}}, 'simulation': {'name': 'IllustrisTNG', 'args': {'path': 'data/galaxy-id-12.hdf5'}}, 'output_path': 'output'}\n"
     ]
    },
    {
     "name": "stderr",
     "output_type": "stream",
     "text": [
      "2024-07-12 15:27:42,267 - rubix - WARNING - The Subset value is set in config. Using only subset of size 1000 for stars\n",
      "2024-07-12 15:27:42,272 - rubix - WARNING - The Subset value is set in config. Using only subset of size 1000 for gas\n"
     ]
    },
    {
     "name": "stdout",
     "output_type": "stream",
     "text": [
      "['age', 'apply_subset', 'coords', 'mass', 'metallicity', 'velocity']\n",
      "<class 'jaxlib.xla_extension.ArrayImpl'>\n"
     ]
    }
   ],
   "source": [
    "from rubix.core.data import convert_to_rubix, prepare_input\n",
    "import sys\n",
    "import jax.numpy as jnp\n",
    "\n",
    "rubixdata = prepare_input(config)\n",
    "type(rubixdata)\n",
    "sys.getsizeof(rubixdata)\n",
    "len(rubixdata.stars.coords)\n",
    "attr = [attr for attr in dir(rubixdata.stars) if not attr.startswith('__')]# and attr not in ('coords', 'velocity')]\n",
    "print(attr)\n",
    "\n",
    "rubixdata.stars.__getattribute__(attr[3])\n",
    "#rubixdata.stars.__getattribute__(attr[0]) = jnp.array(rubixdata.stars.__getattribute__(attr[0]))\n",
    "#dir(rubixdata.galaxy)\n",
    "#print(rubixdata.stars.__getattribute__(attr[2]))\n",
    "attribute_value = rubixdata.stars.__getattribute__(attr[2])  # Get the current value\n",
    "jax_array_value = jnp.array(attribute_value)  # Convert it to a JAX array\n",
    "setattr(rubixdata.stars, attr[2], jax_array_value)  # Set the converted value back\n",
    "#print(rubixdata.stars.__getattribute__(attr[2]))  # Check that the value has been updated\n",
    "print(type(rubixdata.stars.coords))"
   ]
  },
  {
   "cell_type": "code",
   "execution_count": 6,
   "metadata": {},
   "outputs": [
    {
     "name": "stdout",
     "output_type": "stream",
     "text": [
      "File: output/rubix_galaxy.h5\n",
      "Group: galaxy\n",
      "    Dataset: center (float64) ((3,))\n",
      "    Dataset: halfmassrad_stars (float64) (())\n",
      "    Dataset: redshift (float64) (())\n",
      "Group: meta\n",
      "    Dataset: BoxSize (float64) (())\n",
      "    Dataset: CutoutID (int64) (())\n",
      "    Dataset: CutoutRequest (object) (())\n",
      "    Dataset: CutoutType (object) (())\n",
      "    Dataset: Git_commit (|S40) (())\n",
      "    Dataset: Git_date (|S29) (())\n",
      "    Dataset: HubbleParam (float64) (())\n",
      "    Dataset: MassTable (float64) ((6,))\n",
      "    Dataset: NumFilesPerSnapshot (int64) (())\n",
      "    Dataset: NumPart_ThisFile (int32) ((6,))\n",
      "    Dataset: Omega0 (float64) (())\n",
      "    Dataset: OmegaBaryon (float64) (())\n",
      "    Dataset: OmegaLambda (float64) (())\n",
      "    Dataset: Redshift (float64) (())\n",
      "    Dataset: SimulationName (object) (())\n",
      "    Dataset: SnapshotNumber (int64) (())\n",
      "    Dataset: Time (float64) (())\n",
      "    Dataset: UnitLength_in_cm (float64) (())\n",
      "    Dataset: UnitMass_in_g (float64) (())\n",
      "    Dataset: UnitVelocity_in_cm_per_s (float64) (())\n",
      "Group: particles\n",
      "    Group: gas\n",
      "        Dataset: coords (float64) ((13254, 3))\n",
      "        Dataset: density (float32) ((13254,))\n",
      "        Dataset: electron_abundance (float32) ((13254,))\n",
      "        Dataset: internal_energy (float32) ((13254,))\n",
      "        Dataset: mass (float64) ((13254,))\n",
      "        Dataset: metallicity (float32) ((13254,))\n",
      "        Dataset: sfr (float32) ((13254,))\n",
      "        Dataset: velocity (float32) ((13254, 3))\n",
      "    Group: stars\n",
      "        Dataset: age (float64) ((649384,))\n",
      "        Dataset: coords (float64) ((649384, 3))\n",
      "        Dataset: mass (float64) ((649384,))\n",
      "        Dataset: metallicity (float32) ((649384,))\n",
      "        Dataset: velocity (float32) ((649384, 3))\n",
      "\n"
     ]
    }
   ],
   "source": [
    "# NBVAL_SKIP\n",
    "from rubix.utils import print_hdf5_file_structure\n",
    "\n",
    "print(print_hdf5_file_structure(\"output/rubix_galaxy.h5\"))"
   ]
  },
  {
   "cell_type": "code",
   "execution_count": 7,
   "metadata": {},
   "outputs": [
    {
     "data": {
      "text/plain": [
       "({'subhalo_center': array([11413.86337268, 35893.86374042, 32027.01940138]),\n",
       "  'subhalo_halfmassrad_stars': 7.727193253526112,\n",
       "  'redshift': 2.220446049250313e-16,\n",
       "  'particle_data': {'gas': {'coords': array([[11414.05876352, 35893.6833483 , 32027.13166924],\n",
       "           [11414.14656631, 35893.73356692, 32027.14557414],\n",
       "           [11414.01824255, 35893.65232478, 32027.07648623],\n",
       "           ...,\n",
       "           [11409.61451254, 35888.5063995 , 32044.53073751],\n",
       "           [11424.19250637, 35896.63240307, 32028.59975885],\n",
       "           [11417.12077374, 35895.52565889, 32034.56892833]]),\n",
       "    'density': array([3.6664732e+07, 2.1717842e+07, 5.0334548e+07, ..., 4.7079717e+03,\n",
       "           9.9538037e+03, 1.1597330e+04], dtype=float32),\n",
       "    'electron_abundance': array([1.1116004, 1.1071373, 1.0759586, ..., 1.2056972, 1.2106973,\n",
       "           1.215307 ], dtype=float32),\n",
       "    'internal_energy': array([1.1189402e+13, 9.2231906e+12, 9.2254587e+12, ..., 4.0579005e+14,\n",
       "           5.7598484e+14, 1.7665127e+14], dtype=float32),\n",
       "    'mass': array([ 65641.31908085,  81646.18950148, 118840.06940253, ...,\n",
       "            53828.61221384,  60108.76291353,  63109.36224861]),\n",
       "    'metallicity': array([0.07223398, 0.07238811, 0.07293116, ..., 0.04074859, 0.03643797,\n",
       "           0.05649355], dtype=float32),\n",
       "    'sfr': array([0.0000000e+00, 0.0000000e+00, 7.4407865e+21, ..., 0.0000000e+00,\n",
       "           0.0000000e+00, 0.0000000e+00], dtype=float32),\n",
       "    'velocity': array([[-4.6614611e-16,  2.8218210e-15, -3.3859170e-14],\n",
       "           [-2.0263946e-16,  1.4429129e-15, -3.4093405e-14],\n",
       "           [ 2.0860956e-16,  3.0572758e-15, -3.5059537e-14],\n",
       "           ...,\n",
       "           [-3.4316254e-15, -5.0590308e-16, -3.3995478e-14],\n",
       "           [-4.2462621e-15,  3.5094381e-15, -3.2609081e-14],\n",
       "           [-2.0264874e-15,  5.1279104e-15, -2.4907210e-14]], dtype=float32)},\n",
       "   'stars': {'age': array([6.61104195, 7.36190701, 6.66032986, ..., 6.40950954, 6.42073787,\n",
       "           7.89013795]),\n",
       "    'coords': array([[11413.87546682, 35893.80997872, 32027.00659656],\n",
       "           [11413.86013316, 35893.80119009, 32027.00812409],\n",
       "           [11413.87029215, 35893.78527919, 32027.01561964],\n",
       "           ...,\n",
       "           [11396.95793694, 35940.89677239, 32025.26185701],\n",
       "           [11365.51268778, 35930.26383014, 32011.07761748],\n",
       "           [11407.98233896, 35899.36944122, 32062.31917969]]),\n",
       "    'mass': array([ 86821.71309025,  73289.33728592, 111279.11567214, ...,\n",
       "           103573.98244387,  85964.95135161,  83291.24409303]),\n",
       "    'metallicity': array([0.09918208, 0.04759451, 0.07264117, ..., 0.00494921, 0.00485685,\n",
       "           0.00233734], dtype=float32),\n",
       "    'velocity': array([[-2.5744148e-15,  1.5503301e-15, -3.4023223e-14],\n",
       "           [-2.7559346e-15,  1.9045189e-15, -3.3937896e-14],\n",
       "           [-2.5709532e-15,  1.7743122e-15, -3.4027807e-14],\n",
       "           ...,\n",
       "           [ 3.3521157e-16, -3.0531008e-15, -3.6998355e-14],\n",
       "           [ 1.0350350e-15, -1.3501230e-15, -3.7034713e-14],\n",
       "           [ 3.6777828e-15,  9.7191652e-16, -3.7393730e-14]], dtype=float32)}}},\n",
       " {'galaxy': {'center': 'kpc', 'halfmassrad_stars': 'kpc', 'redshift': ''},\n",
       "  'gas': {'coords': 'kpc',\n",
       "   'density': 'Msun/kpc^3',\n",
       "   'electron_abundance': '',\n",
       "   'internal_energy': 'erg/g',\n",
       "   'mass': 'Msun',\n",
       "   'metallicity': '',\n",
       "   'sfr': 'Msun/yr',\n",
       "   'velocity': 'kpc/s'},\n",
       "  'stars': {'age': 'Gyr',\n",
       "   'coords': 'kpc',\n",
       "   'mass': 'Msun',\n",
       "   'metallicity': '',\n",
       "   'velocity': 'kpc/s'}})"
      ]
     },
     "execution_count": 7,
     "metadata": {},
     "output_type": "execute_result"
    }
   ],
   "source": [
    "# NBVAL_SKIP\n",
    "from rubix.utils import load_galaxy_data\n",
    "\n",
    "load_galaxy_data(\"output/rubix_galaxy.h5\")"
   ]
  }
 ],
 "metadata": {
  "kernelspec": {
   "display_name": "rubix",
   "language": "python",
   "name": "python3"
  },
  "language_info": {
   "codemirror_mode": {
    "name": "ipython",
    "version": 3
   },
   "file_extension": ".py",
   "mimetype": "text/x-python",
   "name": "python",
   "nbconvert_exporter": "python",
   "pygments_lexer": "ipython3",
   "version": "3.10.14"
  }
 },
 "nbformat": 4,
 "nbformat_minor": 2
}
