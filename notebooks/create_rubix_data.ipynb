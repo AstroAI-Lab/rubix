{
 "cells": [
  {
   "cell_type": "code",
   "execution_count": null,
   "metadata": {},
   "outputs": [],
   "source": [
    "# NBVAL_SKIP\n",
    "import os\n",
    "\n",
    "config = {\n",
    "    \"logger\": {\n",
    "        \"log_level\": \"DEBUG\",\n",
    "        \"log_file_path\": None,\n",
    "        \"format\": \"%(asctime)s - %(name)s - %(levelname)s - %(message)s\",\n",
    "    },\n",
    "    \"data\": {\n",
    "        \"name\": \"IllustrisAPI\",\n",
    "        \"args\": {\n",
    "            \"api_key\": os.environ.get(\"ILLUSTRIS_API_KEY\"),\n",
    "            \"particle_type\": [\"stars\"],\n",
    "            \"simulation\": \"TNG50-1\",\n",
    "            \"snapshot\": 99,\n",
    "            \"save_data_path\": \"data\",\n",
    "        },\n",
    "        \n",
    "        \"load_galaxy_args\": {\n",
    "        \"id\": 14,\n",
    "        \"reuse\": True,\n",
    "        }\n",
    "    },\n",
    "    \"simulation\": {\n",
    "        \"name\": \"IllustrisTNG\",\n",
    "        \"args\": {\n",
    "            \"path\": \"data/galaxy-id-14.hdf5\",\n",
    "        },\n",
    "    },\n",
    "    \"output_path\": \"output\",\n",
    "\n",
    "        \n",
    "}"
   ]
  },
  {
   "cell_type": "markdown",
   "metadata": {},
   "source": [
    "Convert the Data into Rubix Galaxy HDF5. This will make the call to the IllustrisAPI to download the data, and then convert it into the rubix hdf5 format using the input handler"
   ]
  },
  {
   "cell_type": "code",
   "execution_count": null,
   "metadata": {},
   "outputs": [],
   "source": [
    "# NBVAL_SKIP\n",
    "from rubix.core.data import convert_to_rubix"
   ]
  },
  {
   "cell_type": "code",
   "execution_count": null,
   "metadata": {},
   "outputs": [],
   "source": [
    "# NBVAL_SKIP\n",
    "convert_to_rubix(config)"
   ]
  },
  {
   "cell_type": "code",
   "execution_count": null,
   "metadata": {},
   "outputs": [],
   "source": [
    "# NBVAL_SKIP\n",
    "from rubix.utils import print_hdf5_file_structure\n",
    "\n",
    "print(print_hdf5_file_structure(\"output/rubix_galaxy.h5\"))"
   ]
  },
  {
   "cell_type": "code",
<<<<<<< HEAD
   "execution_count": 1,
   "metadata": {},
   "outputs": [
    {
     "data": {
      "text/plain": [
       "({'subhalo_center': array([10035.04712426, 35564.22094401, 30646.88930572]),\n",
       "  'subhalo_halfmassrad_stars': 2.3348098826564447,\n",
       "  'redshift': 2.220446049250313e-16,\n",
       "  'particle_data': {'stars': {'age': array([10.26358317,  5.43708594,  9.44587585, ...,  6.08148393,\n",
       "            6.04695495,  7.82833501]),\n",
       "    'coords': array([[10035.05005698, 35564.10825994, 30646.83764653],\n",
       "           [10035.02031312, 35564.11025139, 30646.89035063],\n",
       "           [10035.10383129, 35564.21324996, 30646.86444569],\n",
       "           ...,\n",
       "           [10021.53873263, 35582.79755676, 30669.03026051],\n",
       "           [10133.38893003, 35655.45058899, 30718.90398387],\n",
       "           [10142.67355026, 35632.35171857, 30721.61783189]]),\n",
       "    'mass': array([ 97385.61789727, 142424.38906839, 127747.55665782, ...,\n",
       "            69271.21170519, 106484.26489572,  84167.80230993]),\n",
       "    'metallicity': array([0.02458057, 0.07107806, 0.05189282, ..., 0.00559624, 0.0086777 ,\n",
       "           0.00501246], dtype=float32),\n",
       "    'velocity': array([[ 8.8207174e-15, -1.0928991e-14, -1.6176296e-14],\n",
       "           [ 9.0700220e-15, -1.0910887e-14, -1.5837112e-14],\n",
       "           [ 8.5254442e-15, -1.0890960e-14, -1.6623628e-14],\n",
       "           ...,\n",
       "           [ 4.9316143e-15, -7.2738514e-15, -1.2084572e-14],\n",
       "           [ 1.0546854e-14, -8.7914642e-15, -1.5837443e-14],\n",
       "           [ 9.9125225e-15, -8.3020799e-15, -1.5421881e-14]], dtype=float32)}}},\n",
       " {'galaxy': {'center': 'kpc', 'halfmassrad_stars': 'kpc', 'redshift': ''},\n",
       "  'stars': {'age': 'Gyr',\n",
       "   'coords': 'kpc',\n",
       "   'mass': 'Msun',\n",
       "   'metallicity': '',\n",
       "   'velocity': 'kpc/s'}})"
      ]
     },
     "execution_count": 1,
     "metadata": {},
     "output_type": "execute_result"
    }
   ],
=======
   "execution_count": null,
   "metadata": {},
   "outputs": [],
>>>>>>> origin/main
   "source": [
    "# NBVAL_SKIP\n",
    "from rubix.utils import load_galaxy_data\n",
    "\n",
    "load_galaxy_data(\"output/rubix_galaxy.h5\")"
   ]
<<<<<<< HEAD
  },
  {
   "cell_type": "code",
   "execution_count": null,
   "metadata": {},
   "outputs": [],
   "source": []
=======
>>>>>>> origin/main
  }
 ],
 "metadata": {
  "kernelspec": {
   "display_name": "rubix",
   "language": "python",
   "name": "python3"
  },
  "language_info": {
   "codemirror_mode": {
    "name": "ipython",
    "version": 3
   },
   "file_extension": ".py",
   "mimetype": "text/x-python",
   "name": "python",
   "nbconvert_exporter": "python",
   "pygments_lexer": "ipython3",
   "version": "3.11.8"
  }
 },
 "nbformat": 4,
 "nbformat_minor": 2
}
