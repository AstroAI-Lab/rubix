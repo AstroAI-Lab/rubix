{
 "cells": [
  {
   "cell_type": "code",
   "execution_count": null,
   "metadata": {},
   "outputs": [],
   "source": [
    "#NBVAL_SKIP\n",
    "import matplotlib.pyplot as plt\n",
    "from rubix.core.pipeline import RubixPipeline \n",
    "import os\n",
    "config = {\n",
    "    \"pipeline\":{\"name\": \"calc_ifu\"},\n",
    "    \n",
    "    \"logger\": {\n",
    "        \"log_level\": \"DEBUG\",\n",
    "        \"log_file_path\": None,\n",
    "        \"format\": \"%(asctime)s - %(name)s - %(levelname)s - %(message)s\",\n",
    "    },\n",
    "    \"data\": {\n",
    "        \"name\": \"IllustrisAPI\",\n",
    "        \"args\": {\n",
    "            \"api_key\": os.environ.get(\"ILLUSTRIS_API_KEY\"),\n",
    "            \"particle_type\": [\"stars\", \"gas\"],\n",
    "            \"cube_type\":[\"stars\"],\n",
    "            \"simulation\": \"TNG50-1\",\n",
    "            \"snapshot\": 99,\n",
    "            \"save_data_path\": \"data\",\n",
    "        },\n",
    "        \n",
    "        \"load_galaxy_args\": {\n",
    "        \"id\": 11,\n",
    "        \"reuse\": True,\n",
    "        },\n",
    "        \n",
    "        \"subset\": {\n",
    "            \"use_subset\": True,\n",
    "            \"subset_size\": 1000,\n",
    "        },\n",
    "    },\n",
    "    \"simulation\": {\n",
    "        \"name\": \"IllustrisTNG\",\n",
    "        \"args\": {\n",
    "            \"path\": \"data/galaxy-id-11.hdf5\",\n",
    "        },\n",
    "    \n",
    "    },\n",
    "    \"output_path\": \"output\",\n",
    "\n",
    "    \"telescope\":\n",
    "        {\"name\": \"MUSE\",\n",
    "         \"psf\": {\"name\": \"gaussian\", \"size\": 5, \"sigma\": 0.6},\n",
    "         \"lsf\": {\"sigma\": 0.5},\n",
    "         \"noise\": {\"signal_to_noise\": 1,\"noise_distribution\": \"normal\"},},\n",
    "    \"cosmology\":\n",
    "        {\"name\": \"PLANCK15\"},\n",
    "        \n",
    "    \"galaxy\":\n",
    "        {\"dist_z\": 0.1,\n",
    "         \"rotation\": {\"type\": \"edge-on\"},\n",
    "        },\n",
    "        \n",
    "    \"ssp\": {\n",
    "        \"template\": {\n",
    "            \"name\": \"BruzualCharlot2003\"\n",
    "        },\n",
    "    },        \n",
    "}\n",
    "\n",
    "pipe = RubixPipeline(config)\n",
    "\n",
    "data= pipe.run()\n",
    "\n",
    "#datacube = data.stars.datacube\n",
    "#img = datacube.sum(axis=2)\n",
    "#plt.imshow(img, origin=\"lower\")"
   ]
  },
  {
   "cell_type": "code",
   "execution_count": null,
   "metadata": {},
   "outputs": [],
   "source": [
    "import jax.numpy as jnp\n",
    "print(data.stars.pixel_assignment)\n",
    "print(data.stars.spatial_bin_edges)\n",
    "print(data.stars.spectra.shape)\n",
    "\n",
    "sum_spectra = jnp.sum(data.stars.spectra, axis=1)\n",
    "print(sum_spectra.shape)\n",
    "print(sum_spectra)\n",
    "#indices_nonzero = jnp.where(data.stars.spectra[0][:][100] != 0)\n",
    "#print(indices_nonzero)\n",
    "\n",
    "#spectra_np = jnp.array(data.stars.spectra)\n",
    "\n",
    "# Set NumPy print options\n",
    "#jnp.set_printoptions(threshold=60000)\n",
    "\n",
    "# Print the full array\n",
    "#print(spectra_np)"
   ]
  },
  {
   "cell_type": "code",
   "execution_count": null,
   "metadata": {},
   "outputs": [],
   "source": [
    "def print_object_attributes(obj):\n",
    "    # Filter out magic methods and print attribute names and their values\n",
    "    for attr in dir(obj):\n",
    "        if not attr.startswith('__'):\n",
    "            print(f\"{attr}\")#: {getattr(obj, attr)}\")\n",
    "\n",
    "# Assuming `data` is your object\n",
    "print_object_attributes(data.stars)\n",
    "print(data.stars.mask)\n",
    "print_object_attributes(data.galaxy)\n"
   ]
  },
  {
   "cell_type": "code",
   "execution_count": null,
   "metadata": {},
   "outputs": [],
   "source": [
    "#NBVAL_SKIP\n",
    "wave = pipe.telescope.wave_seq\n",
    "plt.plot(wave, data.stars.spectra[0][0][:])\n",
    "plt.plot(wave, data.stars.spectra[0][1][:])\n"
   ]
  },
  {
   "cell_type": "markdown",
   "metadata": {},
   "source": [
    "Some of the spectra may be zero, this happens if the metallicity or age values are outside the range of the SSP model. This is currently the expected behavior"
   ]
  },
  {
   "cell_type": "code",
   "execution_count": null,
   "metadata": {},
   "outputs": [],
   "source": [
    "#NBVAL_SKIP\n",
    "import jax \n",
    "import jax.numpy as jnp\n",
    "# Create a function to calculate a single IFU cube\n",
    "def calculate_ifu_cube(stars_spectra, pixel_indices):\n",
    "    # Create an IFU cube of shape (25*25, 842)\n",
    "    #ifu_cube = jnp.zeros((25 * 25, 842))\n",
    "    \n",
    "    # Use jax.ops.segment_sum to sum the spectra into the IFU cube based on pixel indices\n",
    "    ifu_cube = jax.ops.segment_sum(stars_spectra, pixel_indices, num_segments=25*25)\n",
    "    \n",
    "    # Reshape the IFU cube to the desired shape (25, 25, 842)\n",
    "    ifu_cube = ifu_cube.reshape((25, 25, 3721))\n",
    "    \n",
    "    return ifu_cube\n",
    "\n",
    "spectra = data.stars.spectra\n",
    "assignments = data.stars.pixel_assignment\n",
    "\n",
    "# Calculate 4 individual IFU cubes\n",
    "ifu_cubes = jax.vmap(calculate_ifu_cube)(spectra, assignments)\n",
    "\n",
    "# Sum the 4 IFU cubes\n",
    "final_ifu_cube = jnp.sum(ifu_cubes, axis=0)\n",
    "final_ifu_cube.shape"
   ]
  },
  {
   "cell_type": "code",
   "execution_count": null,
   "metadata": {},
   "outputs": [],
   "source": [
    "#NBVAL_SKIP\n",
    "wavelengths = pipe.telescope.wave_seq\n",
    "\n",
    "# get the indices of the visible wavelengths of 4000-8000 Angstroms\n",
    "\n",
    "visible_indices = jnp.where((wavelengths >= 4000) & (wavelengths <= 8000))\n",
    "\n"
   ]
  },
  {
   "cell_type": "code",
   "execution_count": null,
   "metadata": {},
   "outputs": [],
   "source": [
    "#NBVAL_SKIP\n",
    "wavelengths"
   ]
  },
  {
   "cell_type": "code",
   "execution_count": null,
   "metadata": {},
   "outputs": [],
   "source": [
    "#NBVAL_SKIP\n",
    "spectra[0,7]"
   ]
  },
  {
   "cell_type": "code",
   "execution_count": null,
   "metadata": {},
   "outputs": [],
   "source": [
    "#NBVAL_SKIP\n",
    "# plot example spectrum\n",
    "import matplotlib.pyplot as plt\n",
    "\n",
    "spec = final_ifu_cube[12, 12]\n",
    "\n",
    "plt.plot(wavelengths[visible_indices], spec[visible_indices])\n",
    "plt.yscale(\"log\")"
   ]
  },
  {
   "cell_type": "code",
   "execution_count": null,
   "metadata": {},
   "outputs": [],
   "source": [
    "#NBVAL_SKIP\n",
    "# get the spectra of the visible wavelengths from the ifu cube\n",
    "visible_spectra = final_ifu_cube[:, :, visible_indices[0]]\n",
    "visible_spectra.shape"
   ]
  },
  {
   "cell_type": "code",
   "execution_count": null,
   "metadata": {},
   "outputs": [],
   "source": [
    "#NBVAL_SKIP\n",
    "# Sum up all spectra to create an image\n",
    "image = jnp.sum(visible_spectra, axis = 2)\n",
    "plt.imshow(image, origin=\"lower\", cmap=\"inferno\")\n",
    "plt.colorbar()"
   ]
  },
  {
   "cell_type": "code",
   "execution_count": null,
   "metadata": {},
   "outputs": [],
   "source": [
    "import jax.numpy as jnp\n",
    "\n",
    "class SpectrumCalculator:\n",
    "    def __init__(self, gaussian):\n",
    "        self.gaussian = gaussian\n",
    "\n",
    "    def compute_spectrum(self, wavelengthrange, emission_peaks, wavelengths, dispersionfactor):\n",
    "        spectrum = jnp.zeros_like(wavelengthrange)  # Initialize the spectrum to zero\n",
    "\n",
    "        # Loop over the 128 indices\n",
    "        for i in range(128):\n",
    "            spectrum += self.gaussian(wavelengthrange, emission_peaks[i], wavelengths[i], dispersionfactor * wavelengths[i])\n",
    "\n",
    "        return spectrum\n",
    "\n",
    "# Example usage\n",
    "def gaussian(wavelengthrange, peak, wavelength, dispersion):\n",
    "    return jnp.exp(-0.5 * ((wavelengthrange - wavelength) / dispersion) ** 2) * peak\n",
    "\n",
    "wavelengthrange = jnp.linspace(1000, 10000, 1000)\n",
    "emission_peaks = jnp.random.rand(128)\n",
    "wavelengths = jnp.random.rand(128) * 9000 + 1000\n",
    "dispersionfactor = 0.1\n",
    "\n",
    "calculator = SpectrumCalculator(gaussian)\n",
    "spectrum = calculator.compute_spectrum(wavelengthrange, emission_peaks, wavelengths, dispersionfactor)\n",
    "print(spectrum)"
   ]
  }
 ],
 "metadata": {
  "kernelspec": {
   "display_name": "rubix",
   "language": "python",
   "name": "python3"
  },
  "language_info": {
   "codemirror_mode": {
    "name": "ipython",
    "version": 3
   },
   "file_extension": ".py",
   "mimetype": "text/x-python",
   "name": "python",
   "nbconvert_exporter": "python",
   "pygments_lexer": "ipython3",
   "version": "3.10.13"
  }
 },
 "nbformat": 4,
 "nbformat_minor": 2
}
