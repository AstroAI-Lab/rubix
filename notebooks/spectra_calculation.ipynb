{
 "cells": [
  {
   "cell_type": "code",
   "execution_count": 1,
   "metadata": {},
   "outputs": [
    {
     "name": "stderr",
     "output_type": "stream",
     "text": [
      "2024-06-02 13:06:03,116 - rubix - INFO - \n",
      "   ___  __  _____  _____  __\n",
      "  / _ \\/ / / / _ )/  _/ |/_/\n",
      " / , _/ /_/ / _  |/ /_>  <  \n",
      "/_/|_|\\____/____/___/_/|_|  \n",
      "                            \n",
      "\n",
      "2024-06-02 13:06:03,117 - rubix - INFO - Rubix version: 0.0.1.post55+g93a544d\n",
      "/home/ufuk/Dokumente/Research/Masterarbeit/rubix/rubix/telescope/factory.py:21: UserWarning: No telescope config provided, using default stored in /home/ufuk/Dokumente/Research/Masterarbeit/rubix/rubix/telescope/telescopes.yaml\n",
      "  warnings.warn(\n",
      "2024-06-02 13:06:03,551 - rubix - INFO - Getting rubix data...\n",
      "2024-06-02 13:06:03,552 - rubix - INFO - Rubix galaxy file already exists, skipping conversion\n",
      "2024-06-02 13:06:05,616 - rubix - WARNING - The Subset value is set in config. Using only subset of size 10000\n",
      "2024-06-02 13:06:05,618 - rubix - INFO - Data loaded with 10000 particles.\n",
      "2024-06-02 13:06:05,619 - rubix - DEBUG - Data Shape: {'coords': (10000, 3), 'velocities': (10000, 3), 'metallicity': (10000,), 'mass': (10000,), 'age': (10000,)}\n",
      "2024-06-02 13:06:05,620 - rubix - INFO - Setting up the pipeline...\n",
      "2024-06-02 13:06:05,620 - rubix - DEBUG - Pipeline Configuration: {'Transformers': {'rotate_galaxy': {'name': 'rotate_galaxy', 'depends_on': None, 'args': [], 'kwargs': {'type': 'face-on'}}, 'spaxel_assignment': {'name': 'spaxel_assignment', 'depends_on': 'rotate_galaxy', 'args': [], 'kwargs': {}}, 'reshape_data': {'name': 'reshape_data', 'depends_on': 'spaxel_assignment', 'args': [], 'kwargs': {}}, 'calculate_spectra': {'name': 'calculate_spectra', 'depends_on': 'reshape_data', 'args': [], 'kwargs': {}}, 'scale_spectrum_by_mass': {'name': 'scale_spectrum_by_mass', 'depends_on': 'calculate_spectra', 'args': [], 'kwargs': {}}, 'doppler_shift_and_resampling': {'name': 'doppler_shift_and_resampling', 'depends_on': 'scale_spectrum_by_mass', 'args': [], 'kwargs': {}}, 'calculate_datacube': {'name': 'calculate_datacube', 'depends_on': 'doppler_shift_and_resampling', 'args': [], 'kwargs': {}}}}\n",
      "/home/ufuk/Dokumente/Research/Masterarbeit/rubix/rubix/telescope/factory.py:21: UserWarning: No telescope config provided, using default stored in /home/ufuk/Dokumente/Research/Masterarbeit/rubix/rubix/telescope/telescopes.yaml\n",
      "  warnings.warn(\n",
      "2024-06-02 13:06:05,904 - rubix - DEBUG - Method not defined, using default method: cubic\n",
      "/home/ufuk/Dokumente/Research/Masterarbeit/rubix/rubix/telescope/factory.py:21: UserWarning: No telescope config provided, using default stored in /home/ufuk/Dokumente/Research/Masterarbeit/rubix/rubix/telescope/telescopes.yaml\n",
      "  warnings.warn(\n",
      "2024-06-02 13:06:05,944 - rubix - DEBUG - SSP Wave: (842,)\n",
      "2024-06-02 13:06:05,949 - rubix - INFO - Assembling the pipeline...\n",
      "2024-06-02 13:06:05,951 - rubix - INFO - Compiling the expressions...\n",
      "2024-06-02 13:06:05,952 - rubix - INFO - Running the pipeline on the input data...\n",
      "2024-06-02 13:06:05,980 - rubix - INFO - Calculating IFU cube...\n",
      "2024-06-02 13:06:05,981 - rubix - DEBUG - Input shapes: Metallicity: (1, 10000), Age: (1, 10000)\n"
     ]
    },
    {
     "name": "stdout",
     "output_type": "stream",
     "text": [
      "rotating galaxy:  face-on\n"
     ]
    },
    {
     "name": "stderr",
     "output_type": "stream",
     "text": [
      "2024-06-02 13:06:06,241 - rubix - DEBUG - Calculation Finished! Spectra shape: (1, 10000, 842)\n",
      "2024-06-02 13:06:06,242 - rubix - INFO - Scaling Spectra by Mass...\n",
      "2024-06-02 13:06:06,248 - rubix - DEBUG - Doppler Shifted SSP Wave: (1, 10000, 842)\n",
      "2024-06-02 13:06:06,248 - rubix - DEBUG - Telescope Wave Seq: (3721,)\n",
      "2024-06-02 13:06:06,344 - rubix - INFO - Calculating Data Cube...\n",
      "2024-06-02 13:06:06,347 - rubix - DEBUG - Datacube Shape: (25, 25, 3721)\n",
      "2024-06-02 13:06:10,244 - rubix - INFO - Pipeline run completed in 4.62 seconds.\n"
     ]
    }
   ],
   "source": [
    "#NBVAL_SKIP\n",
    "from rubix.core.pipeline import RubixPipeline \n",
    "import os\n",
    "config = {\n",
    "    \"pipeline\":{\"name\": \"calc_ifu\"},\n",
    "    \n",
    "    \"logger\": {\n",
    "        \"log_level\": \"DEBUG\",\n",
    "        \"log_file_path\": None,\n",
    "        \"format\": \"%(asctime)s - %(name)s - %(levelname)s - %(message)s\",\n",
    "    },\n",
    "    \"data\": {\n",
    "        \"name\": \"IllustrisAPI\",\n",
    "        \"args\": {\n",
    "            \"api_key\": os.environ.get(\"ILLUSTRIS_API_KEY\"),\n",
    "            \"particle_type\": [\"stars\"],\n",
    "            \"simulation\": \"TNG50-1\",\n",
    "            \"snapshot\": 99,\n",
    "            \"save_data_path\": \"data\",\n",
    "        },\n",
    "        \n",
    "        \"load_galaxy_args\": {\n",
    "        \"id\": 14,\n",
    "        \"reuse\": True,\n",
    "        },\n",
    "        \n",
    "        \"subset\": {\n",
    "            \"use_subset\": True,\n",
    "            \"subset_size\": 10000,\n",
    "        },\n",
    "    },\n",
    "    \"simulation\": {\n",
    "        \"name\": \"IllustrisTNG\",\n",
    "        \"args\": {\n",
    "            \"path\": \"data/galaxy-id-14.hdf5\",\n",
    "        },\n",
    "    \n",
    "    },\n",
    "    \"output_path\": \"output\",\n",
    "\n",
    "    \"telescope\":\n",
    "        {\"name\": \"MUSE\"},\n",
    "    \"cosmology\":\n",
    "        {\"name\": \"PLANCK15\"},\n",
    "        \n",
    "    \"galaxy\":\n",
    "        {\"dist_z\": 0.1},\n",
    "        \n",
    "    \"ssp\": {\n",
    "        \"template\": {\n",
    "            \"name\": \"BruzualCharlot2003\"\n",
    "        },\n",
    "    },        \n",
    "}\n",
    "\n",
    "pipe = RubixPipeline(config)\n",
    "\n",
    "data= pipe.run()"
   ]
  },
  {
   "cell_type": "code",
   "execution_count": 2,
   "metadata": {},
   "outputs": [
    {
     "data": {
      "text/plain": [
       "(25, 25, 3721)"
      ]
     },
     "execution_count": 2,
     "metadata": {},
     "output_type": "execute_result"
    }
   ],
   "source": [
    "data[\"datacube\"].shape"
   ]
  },
  {
   "cell_type": "code",
   "execution_count": null,
   "metadata": {},
   "outputs": [],
   "source": []
  },
  {
   "cell_type": "code",
   "execution_count": 2,
   "metadata": {},
   "outputs": [
    {
     "data": {
      "text/plain": [
       "(1, 10000, 3721)"
      ]
     },
     "execution_count": 2,
     "metadata": {},
     "output_type": "execute_result"
    }
   ],
   "source": [
    "data[\"spectra\"].shape"
   ]
  },
  {
   "cell_type": "code",
   "execution_count": 3,
   "metadata": {},
   "outputs": [
    {
     "data": {
      "text/plain": [
       "Array(624, dtype=int32)"
      ]
     },
     "execution_count": 3,
     "metadata": {},
     "output_type": "execute_result"
    }
   ],
   "source": [
    "data[\"pixel_assignment\"].max()"
   ]
  },
  {
   "cell_type": "code",
   "execution_count": 4,
   "metadata": {},
   "outputs": [
    {
     "data": {
      "text/plain": [
       "Array([[[3.98579727e+04, 3.98269883e+04, 3.97960078e+04, ...,\n",
       "         5.97114648e+03, 5.95160400e+03, 5.93206201e+03],\n",
       "        [4.95685156e+03, 4.95266797e+03, 4.94848340e+03, ...,\n",
       "         6.18111389e+02, 6.16388916e+02, 6.14666504e+02],\n",
       "        [2.32873047e+03, 2.32680835e+03, 2.32488672e+03, ...,\n",
       "         2.40254898e+02, 2.39825058e+02, 2.39395218e+02],\n",
       "        ...,\n",
       "        [1.32434082e+03, 1.32354333e+03, 1.32274573e+03, ...,\n",
       "         4.25761292e+02, 4.24623566e+02, 4.23485840e+02],\n",
       "        [5.40547363e+03, 5.40141113e+03, 5.39734912e+03, ...,\n",
       "         8.70648132e+02, 8.67963318e+02, 8.65278564e+02],\n",
       "        [2.37800938e+04, 2.37606738e+04, 2.37412578e+04, ...,\n",
       "         3.14380347e+03, 3.13439209e+03, 3.12498047e+03]],\n",
       "\n",
       "       [[1.85215955e+03, 1.85052612e+03, 1.84889270e+03, ...,\n",
       "         2.11793976e+02, 2.11409714e+02, 2.11025436e+02],\n",
       "        [0.00000000e+00, 0.00000000e+00, 0.00000000e+00, ...,\n",
       "         0.00000000e+00, 0.00000000e+00, 0.00000000e+00],\n",
       "        [0.00000000e+00, 0.00000000e+00, 0.00000000e+00, ...,\n",
       "         0.00000000e+00, 0.00000000e+00, 0.00000000e+00],\n",
       "        ...,\n",
       "        [0.00000000e+00, 0.00000000e+00, 0.00000000e+00, ...,\n",
       "         0.00000000e+00, 0.00000000e+00, 0.00000000e+00],\n",
       "        [2.50442677e+01, 2.49862423e+01, 2.49282169e+01, ...,\n",
       "         1.35028524e+01, 1.34830055e+01, 1.34631586e+01],\n",
       "        [7.64584961e+03, 7.63983154e+03, 7.63381348e+03, ...,\n",
       "         5.96218384e+02, 5.95969910e+02, 5.95721558e+02]],\n",
       "\n",
       "       [[4.89897803e+03, 4.89501172e+03, 4.89104541e+03, ...,\n",
       "         6.07406860e+02, 6.05987976e+02, 6.04569092e+02],\n",
       "        [2.50174088e+02, 2.50097473e+02, 2.50020859e+02, ...,\n",
       "         5.62934532e+01, 5.61124344e+01, 5.59314117e+01],\n",
       "        [5.23867035e+00, 5.21833658e+00, 5.19800234e+00, ...,\n",
       "         5.73326540e+00, 5.72365618e+00, 5.71404743e+00],\n",
       "        ...,\n",
       "        [0.00000000e+00, 0.00000000e+00, 0.00000000e+00, ...,\n",
       "         0.00000000e+00, 0.00000000e+00, 0.00000000e+00],\n",
       "        [0.00000000e+00, 0.00000000e+00, 0.00000000e+00, ...,\n",
       "         0.00000000e+00, 0.00000000e+00, 0.00000000e+00],\n",
       "        [1.22903545e+04, 1.22826113e+04, 1.22748691e+04, ...,\n",
       "         1.53732263e+03, 1.53215063e+03, 1.52697888e+03]],\n",
       "\n",
       "       ...,\n",
       "\n",
       "       [[7.64509180e+03, 7.63919141e+03, 7.63329199e+03, ...,\n",
       "         6.43703064e+02, 6.42824280e+02, 6.41945435e+02],\n",
       "        [0.00000000e+00, 0.00000000e+00, 0.00000000e+00, ...,\n",
       "         0.00000000e+00, 0.00000000e+00, 0.00000000e+00],\n",
       "        [1.95074534e+00, 1.94288266e+00, 1.93501985e+00, ...,\n",
       "         2.20721602e+00, 2.20349717e+00, 2.19977832e+00],\n",
       "        ...,\n",
       "        [0.00000000e+00, 0.00000000e+00, 0.00000000e+00, ...,\n",
       "         0.00000000e+00, 0.00000000e+00, 0.00000000e+00],\n",
       "        [3.45359985e+02, 3.45165588e+02, 3.44971130e+02, ...,\n",
       "         7.21475143e+01, 7.18917694e+01, 7.16360245e+01],\n",
       "        [8.21306348e+03, 8.20742090e+03, 8.20178027e+03, ...,\n",
       "         1.08966052e+03, 1.08655090e+03, 1.08344128e+03]],\n",
       "\n",
       "       [[5.65637634e+02, 5.65460449e+02, 5.65283264e+02, ...,\n",
       "         1.47881607e+02, 1.47475174e+02, 1.47068756e+02],\n",
       "        [0.00000000e+00, 0.00000000e+00, 0.00000000e+00, ...,\n",
       "         0.00000000e+00, 0.00000000e+00, 0.00000000e+00],\n",
       "        [0.00000000e+00, 0.00000000e+00, 0.00000000e+00, ...,\n",
       "         0.00000000e+00, 0.00000000e+00, 0.00000000e+00],\n",
       "        ...,\n",
       "        [0.00000000e+00, 0.00000000e+00, 0.00000000e+00, ...,\n",
       "         0.00000000e+00, 0.00000000e+00, 0.00000000e+00],\n",
       "        [0.00000000e+00, 0.00000000e+00, 0.00000000e+00, ...,\n",
       "         0.00000000e+00, 0.00000000e+00, 0.00000000e+00],\n",
       "        [5.57875049e+03, 5.57440039e+03, 5.57005078e+03, ...,\n",
       "         8.03682739e+02, 8.01088379e+02, 7.98494019e+02]],\n",
       "\n",
       "       [[1.91922422e+04, 1.91775918e+04, 1.91629375e+04, ...,\n",
       "         2.74060913e+03, 2.73235986e+03, 2.72411060e+03],\n",
       "        [1.52801318e+03, 1.52666321e+03, 1.52531299e+03, ...,\n",
       "         1.18006996e+02, 1.17914658e+02, 1.17822319e+02],\n",
       "        [0.00000000e+00, 0.00000000e+00, 0.00000000e+00, ...,\n",
       "         0.00000000e+00, 0.00000000e+00, 0.00000000e+00],\n",
       "        ...,\n",
       "        [4.98808398e+03, 4.98414844e+03, 4.98021289e+03, ...,\n",
       "         5.86067993e+02, 5.84627930e+02, 5.83187866e+02],\n",
       "        [0.00000000e+00, 0.00000000e+00, 0.00000000e+00, ...,\n",
       "         0.00000000e+00, 0.00000000e+00, 0.00000000e+00],\n",
       "        [3.69555586e+04, 3.69288633e+04, 3.69021719e+04, ...,\n",
       "         5.13489844e+03, 5.11630127e+03, 5.09770508e+03]]], dtype=float32)"
      ]
     },
     "execution_count": 4,
     "metadata": {},
     "output_type": "execute_result"
    }
   ],
   "source": [
    "from rubix.spectra.ifu import calculate_cube\n",
    "\n",
    "calculate_cube(spectra=data[\"spectra\"][0], spaxel_index=data[\"pixel_assignment\"], num_spaxels=25)"
   ]
  },
  {
   "cell_type": "code",
   "execution_count": 3,
   "metadata": {},
   "outputs": [
    {
     "name": "stdout",
     "output_type": "stream",
     "text": [
      "(1, 10000, 3721)\n"
     ]
    },
    {
     "data": {
      "text/plain": [
       "[<matplotlib.lines.Line2D at 0x75e5705ab8d0>]"
      ]
     },
     "execution_count": 3,
     "metadata": {},
     "output_type": "execute_result"
    },
    {
     "data": {
      "image/png": "[encoded data removed]",
      "text/plain": [
       "<Figure size 640x480 with 1 Axes>"
      ]
     },
     "metadata": {},
     "output_type": "display_data"
    }
   ],
   "source": [
    "#NBVAL_SKIP\n",
    "import matplotlib.pyplot as plt\n",
    "wave = pipe.telescope.wave_seq\n",
    "spectra = data[\"spectra\"] # Spectra of all stars\n",
    "print(spectra.shape)\n",
    "\n",
    "plt.plot(wave, spectra[0,3]) \n"
   ]
  },
  {
   "cell_type": "code",
   "execution_count": 21,
   "metadata": {},
   "outputs": [
    {
     "data": {
      "text/plain": [
       "[<matplotlib.lines.Line2D at 0x75e5683af110>]"
      ]
     },
     "execution_count": 21,
     "metadata": {},
     "output_type": "execute_result"
    },
    {
     "data": {
      "image/png": "[encoded data removed]",
      "text/plain": [
       "<Figure size 640x480 with 1 Axes>"
      ]
     },
     "metadata": {},
     "output_type": "display_data"
    }
   ],
   "source": [
    "datacube = data[\"datacube\"]\n",
    "plt.plot(wave, datacube[0,15])"
   ]
  },
  {
   "cell_type": "markdown",
   "metadata": {},
   "source": [
    "Some of the spectra may be zero, this happens if the metallicity or age values are outside the range of the SSP model. This is currently the expected behavior"
   ]
  },
  {
   "cell_type": "code",
   "execution_count": null,
   "metadata": {},
   "outputs": [],
   "source": [
    "#NBVAL_SKIP\n",
    "import jax \n",
    "import jax.numpy as jnp\n",
    "# Create a function to calculate a single IFU cube\n",
    "def calculate_ifu_cube(stars_spectra, pixel_indices):\n",
    "    # Create an IFU cube of shape (25*25, 842)\n",
    "    #ifu_cube = jnp.zeros((25 * 25, 842))\n",
    "    \n",
    "    # Use jax.ops.segment_sum to sum the spectra into the IFU cube based on pixel indices\n",
    "    ifu_cube = jax.ops.segment_sum(stars_spectra, pixel_indices, num_segments=25*25)\n",
    "    \n",
    "    # Reshape the IFU cube to the desired shape (25, 25, 842)\n",
    "    ifu_cube = ifu_cube.reshape((25, 25, 3721))\n",
    "    \n",
    "    return ifu_cube\n",
    "\n",
    "spectra = data[\"spectra\"]\n",
    "assignments = data[\"pixel_assignment\"]\n",
    "\n",
    "# Calculate 4 individual IFU cubes\n",
    "ifu_cubes = jax.vmap(calculate_ifu_cube)(spectra, assignments)\n",
    "\n",
    "# Sum the 4 IFU cubes\n",
    "final_ifu_cube = jnp.sum(ifu_cubes, axis=0)\n",
    "final_ifu_cube.shape"
   ]
  },
  {
   "cell_type": "code",
   "execution_count": null,
   "metadata": {},
   "outputs": [],
   "source": [
    "#NBVAL_SKIP\n",
    "wavelengths = pipe.telescope.wave_seq\n",
    "\n",
    "# get the indices of the visible wavelengths of 4000-8000 Angstroms\n",
    "\n",
    "visible_indices = jnp.where((wavelengths >= 4000) & (wavelengths <= 8000))\n",
    "\n"
   ]
  },
  {
   "cell_type": "code",
   "execution_count": null,
   "metadata": {},
   "outputs": [],
   "source": [
    "#NBVAL_SKIP\n",
    "wavelengths"
   ]
  },
  {
   "cell_type": "code",
   "execution_count": null,
   "metadata": {},
   "outputs": [],
   "source": [
    "#NBVAL_SKIP\n",
    "spectra[0,7]"
   ]
  },
  {
   "cell_type": "code",
   "execution_count": null,
   "metadata": {},
   "outputs": [],
   "source": [
    "#NBVAL_SKIP\n",
    "# plot example spectrum\n",
    "import matplotlib.pyplot as plt\n",
    "\n",
    "spec = final_ifu_cube[12, 12]\n",
    "\n",
    "plt.plot(wavelengths[visible_indices], spec[visible_indices])\n",
    "plt.yscale(\"log\")"
   ]
  },
  {
   "cell_type": "code",
   "execution_count": null,
   "metadata": {},
   "outputs": [],
   "source": [
    "#NBVAL_SKIP\n",
    "# get the spectra of the visible wavelengths from the ifu cube\n",
    "visible_spectra = final_ifu_cube[:, :, visible_indices[0]]\n",
    "visible_spectra.shape"
   ]
  },
  {
   "cell_type": "code",
   "execution_count": null,
   "metadata": {},
   "outputs": [],
   "source": [
    "#NBVAL_SKIP\n",
    "# Sum up all spectra to create an image\n",
    "image = jnp.sum(visible_spectra, axis = 2)\n",
    "plt.imshow(image, origin=\"lower\", cmap=\"inferno\")\n",
    "plt.colorbar()"
   ]
  }
 ],
 "metadata": {
  "kernelspec": {
   "display_name": "rubix",
   "language": "python",
   "name": "python3"
  },
  "language_info": {
   "codemirror_mode": {
    "name": "ipython",
    "version": 3
   },
   "file_extension": ".py",
   "mimetype": "text/x-python",
   "name": "python",
   "nbconvert_exporter": "python",
   "pygments_lexer": "ipython3",
   "version": "3.11.8"
  }
 },
 "nbformat": 4,
 "nbformat_minor": 2
}
