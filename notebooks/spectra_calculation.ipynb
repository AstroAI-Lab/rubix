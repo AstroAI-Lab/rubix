{
 "cells": [
  {
   "cell_type": "code",
   "execution_count": 1,
   "metadata": {},
   "outputs": [
    {
     "name": "stderr",
     "output_type": "stream",
     "text": [
      "2024-06-02 18:13:09,491 - rubix - INFO - \n",
      "   ___  __  _____  _____  __\n",
      "  / _ \\/ / / / _ )/  _/ |/_/\n",
      " / , _/ /_/ / _  |/ /_>  <  \n",
      "/_/|_|\\____/____/___/_/|_|  \n",
      "                            \n",
      "\n",
      "2024-06-02 18:13:09,492 - rubix - INFO - Rubix version: 0.0.1.post55+g93a544d\n",
      "/home/ufuk/Dokumente/Research/Masterarbeit/rubix/rubix/telescope/factory.py:21: UserWarning: No telescope config provided, using default stored in /home/ufuk/Dokumente/Research/Masterarbeit/rubix/rubix/telescope/telescopes.yaml\n",
      "  warnings.warn(\n",
      "2024-06-02 18:13:09,906 - rubix - INFO - Getting rubix data...\n",
      "2024-06-02 18:13:09,907 - rubix - INFO - Rubix galaxy file already exists, skipping conversion\n",
      "2024-06-02 18:13:12,041 - rubix - WARNING - The Subset value is set in config. Using only subset of size 10000\n",
      "2024-06-02 18:13:12,043 - rubix - INFO - Data loaded with 10000 particles.\n",
      "2024-06-02 18:13:12,044 - rubix - DEBUG - Data Shape: {'coords': (10000, 3), 'velocities': (10000, 3), 'metallicity': (10000,), 'mass': (10000,), 'age': (10000,)}\n",
      "2024-06-02 18:13:12,044 - rubix - INFO - Setting up the pipeline...\n",
      "2024-06-02 18:13:12,045 - rubix - DEBUG - Pipeline Configuration: {'Transformers': {'rotate_galaxy': {'name': 'rotate_galaxy', 'depends_on': None, 'args': [], 'kwargs': {'type': 'face-on'}}, 'spaxel_assignment': {'name': 'spaxel_assignment', 'depends_on': 'rotate_galaxy', 'args': [], 'kwargs': {}}, 'reshape_data': {'name': 'reshape_data', 'depends_on': 'spaxel_assignment', 'args': [], 'kwargs': {}}, 'calculate_spectra': {'name': 'calculate_spectra', 'depends_on': 'reshape_data', 'args': [], 'kwargs': {}}, 'scale_spectrum_by_mass': {'name': 'scale_spectrum_by_mass', 'depends_on': 'calculate_spectra', 'args': [], 'kwargs': {}}, 'doppler_shift_and_resampling': {'name': 'doppler_shift_and_resampling', 'depends_on': 'scale_spectrum_by_mass', 'args': [], 'kwargs': {}}, 'convolve_psf': {'name': 'convolve_psf', 'depends_on': 'doppler_shift_and_resampling', 'args': [], 'kwargs': {}}}}\n",
      "/home/ufuk/Dokumente/Research/Masterarbeit/rubix/rubix/telescope/factory.py:21: UserWarning: No telescope config provided, using default stored in /home/ufuk/Dokumente/Research/Masterarbeit/rubix/rubix/telescope/telescopes.yaml\n",
      "  warnings.warn(\n",
      "2024-06-02 18:13:12,319 - rubix - DEBUG - Method not defined, using default method: cubic\n",
      "/home/ufuk/Dokumente/Research/Masterarbeit/rubix/rubix/telescope/factory.py:21: UserWarning: No telescope config provided, using default stored in /home/ufuk/Dokumente/Research/Masterarbeit/rubix/rubix/telescope/telescopes.yaml\n",
      "  warnings.warn(\n",
      "2024-06-02 18:13:12,360 - rubix - DEBUG - SSP Wave: (842,)\n"
     ]
    },
    {
     "ename": "ValueError",
     "evalue": "PSF configuration not found in telescope configuration",
     "output_type": "error",
     "traceback": [
      "\u001b[0;31m---------------------------------------------------------------------------\u001b[0m",
      "\u001b[0;31mValueError\u001b[0m                                Traceback (most recent call last)",
      "Cell \u001b[0;32mIn[1], line 58\u001b[0m\n\u001b[1;32m      4\u001b[0m config \u001b[38;5;241m=\u001b[39m {\n\u001b[1;32m      5\u001b[0m     \u001b[38;5;124m\"\u001b[39m\u001b[38;5;124mpipeline\u001b[39m\u001b[38;5;124m\"\u001b[39m:{\u001b[38;5;124m\"\u001b[39m\u001b[38;5;124mname\u001b[39m\u001b[38;5;124m\"\u001b[39m: \u001b[38;5;124m\"\u001b[39m\u001b[38;5;124mcalc_ifu\u001b[39m\u001b[38;5;124m\"\u001b[39m},\n\u001b[1;32m      6\u001b[0m     \n\u001b[0;32m   (...)\u001b[0m\n\u001b[1;32m     53\u001b[0m     },        \n\u001b[1;32m     54\u001b[0m }\n\u001b[1;32m     56\u001b[0m pipe \u001b[38;5;241m=\u001b[39m RubixPipeline(config)\n\u001b[0;32m---> 58\u001b[0m data\u001b[38;5;241m=\u001b[39m \u001b[43mpipe\u001b[49m\u001b[38;5;241;43m.\u001b[39;49m\u001b[43mrun\u001b[49m\u001b[43m(\u001b[49m\u001b[43m)\u001b[49m\n",
      "File \u001b[0;32m~/Dokumente/Research/Masterarbeit/rubix/rubix/core/pipeline.py:148\u001b[0m, in \u001b[0;36mRubixPipeline.run\u001b[0;34m(self)\u001b[0m\n\u001b[1;32m    146\u001b[0m \u001b[38;5;66;03m# Create the pipeline\u001b[39;00m\n\u001b[1;32m    147\u001b[0m time_start \u001b[38;5;241m=\u001b[39m time\u001b[38;5;241m.\u001b[39mtime()\n\u001b[0;32m--> 148\u001b[0m functions \u001b[38;5;241m=\u001b[39m \u001b[38;5;28;43mself\u001b[39;49m\u001b[38;5;241;43m.\u001b[39;49m\u001b[43m_get_pipeline_functions\u001b[49m\u001b[43m(\u001b[49m\u001b[43m)\u001b[49m\n\u001b[1;32m    149\u001b[0m \u001b[38;5;28mself\u001b[39m\u001b[38;5;241m.\u001b[39m_pipeline \u001b[38;5;241m=\u001b[39m pipeline\u001b[38;5;241m.\u001b[39mLinearTransformerPipeline(\n\u001b[1;32m    150\u001b[0m     \u001b[38;5;28mself\u001b[39m\u001b[38;5;241m.\u001b[39mpipeline_config, functions\n\u001b[1;32m    151\u001b[0m )\n\u001b[1;32m    153\u001b[0m \u001b[38;5;66;03m# Assembling the pipeline\u001b[39;00m\n",
      "File \u001b[0;32m~/Dokumente/Research/Masterarbeit/rubix/rubix/core/pipeline.py:123\u001b[0m, in \u001b[0;36mRubixPipeline._get_pipeline_functions\u001b[0;34m(self)\u001b[0m\n\u001b[1;32m    119\u001b[0m scale_spectrum_by_mass \u001b[38;5;241m=\u001b[39m get_scale_spectrum_by_mass(\u001b[38;5;28mself\u001b[39m\u001b[38;5;241m.\u001b[39muser_config)\n\u001b[1;32m    120\u001b[0m doppler_shift_and_resampling \u001b[38;5;241m=\u001b[39m get_doppler_shift_and_resampling(\n\u001b[1;32m    121\u001b[0m     \u001b[38;5;28mself\u001b[39m\u001b[38;5;241m.\u001b[39muser_config\n\u001b[1;32m    122\u001b[0m )\n\u001b[0;32m--> 123\u001b[0m convolve_psf \u001b[38;5;241m=\u001b[39m \u001b[43mget_convolve_psf\u001b[49m\u001b[43m(\u001b[49m\u001b[38;5;28;43mself\u001b[39;49m\u001b[38;5;241;43m.\u001b[39;49m\u001b[43muser_config\u001b[49m\u001b[43m)\u001b[49m\n\u001b[1;32m    124\u001b[0m functions \u001b[38;5;241m=\u001b[39m [\n\u001b[1;32m    125\u001b[0m     rotate_galaxy,\n\u001b[1;32m    126\u001b[0m     spaxel_assignment,\n\u001b[0;32m   (...)\u001b[0m\n\u001b[1;32m    131\u001b[0m     convolve_psf,\n\u001b[1;32m    132\u001b[0m ]\n\u001b[1;32m    134\u001b[0m \u001b[38;5;28;01mreturn\u001b[39;00m functions\n",
      "File \u001b[0;32m~/Dokumente/Research/Masterarbeit/rubix/rubix/core/psf.py:12\u001b[0m, in \u001b[0;36mget_convolve_psf\u001b[0;34m(config)\u001b[0m\n\u001b[1;32m     10\u001b[0m \u001b[38;5;66;03m# Check if key exists in config file\u001b[39;00m\n\u001b[1;32m     11\u001b[0m \u001b[38;5;28;01mif\u001b[39;00m \u001b[38;5;124m\"\u001b[39m\u001b[38;5;124mpsf\u001b[39m\u001b[38;5;124m\"\u001b[39m \u001b[38;5;129;01mnot\u001b[39;00m \u001b[38;5;129;01min\u001b[39;00m config[\u001b[38;5;124m\"\u001b[39m\u001b[38;5;124mtelescope\u001b[39m\u001b[38;5;124m\"\u001b[39m]:\n\u001b[0;32m---> 12\u001b[0m     \u001b[38;5;28;01mraise\u001b[39;00m \u001b[38;5;167;01mValueError\u001b[39;00m(\u001b[38;5;124m\"\u001b[39m\u001b[38;5;124mPSF configuration not found in telescope configuration\u001b[39m\u001b[38;5;124m\"\u001b[39m)\n\u001b[1;32m     13\u001b[0m \u001b[38;5;28;01mif\u001b[39;00m \u001b[38;5;124m\"\u001b[39m\u001b[38;5;124mname\u001b[39m\u001b[38;5;124m\"\u001b[39m \u001b[38;5;129;01mnot\u001b[39;00m \u001b[38;5;129;01min\u001b[39;00m config[\u001b[38;5;124m\"\u001b[39m\u001b[38;5;124mtelescope\u001b[39m\u001b[38;5;124m\"\u001b[39m][\u001b[38;5;124m\"\u001b[39m\u001b[38;5;124mpsf\u001b[39m\u001b[38;5;124m\"\u001b[39m]:\n\u001b[1;32m     14\u001b[0m     \u001b[38;5;28;01mraise\u001b[39;00m \u001b[38;5;167;01mValueError\u001b[39;00m(\u001b[38;5;124m\"\u001b[39m\u001b[38;5;124mPSF name not found in telescope configuration\u001b[39m\u001b[38;5;124m\"\u001b[39m)\n",
      "\u001b[0;31mValueError\u001b[0m: PSF configuration not found in telescope configuration"
     ]
    }
   ],
   "source": [
    "#NBVAL_SKIP\n",
    "from rubix.core.pipeline import RubixPipeline \n",
    "import os\n",
    "config = {\n",
    "    \"pipeline\":{\"name\": \"calc_ifu\"},\n",
    "    \n",
    "    \"logger\": {\n",
    "        \"log_level\": \"DEBUG\",\n",
    "        \"log_file_path\": None,\n",
    "        \"format\": \"%(asctime)s - %(name)s - %(levelname)s - %(message)s\",\n",
    "    },\n",
    "    \"data\": {\n",
    "        \"name\": \"IllustrisAPI\",\n",
    "        \"args\": {\n",
    "            \"api_key\": os.environ.get(\"ILLUSTRIS_API_KEY\"),\n",
    "            \"particle_type\": [\"stars\"],\n",
    "            \"simulation\": \"TNG50-1\",\n",
    "            \"snapshot\": 99,\n",
    "            \"save_data_path\": \"data\",\n",
    "        },\n",
    "        \n",
    "        \"load_galaxy_args\": {\n",
    "        \"id\": 14,\n",
    "        \"reuse\": True,\n",
    "        },\n",
    "        \n",
    "        \"subset\": {\n",
    "            \"use_subset\": True,\n",
    "            \"subset_size\": 10000,\n",
    "        },\n",
    "    },\n",
    "    \"simulation\": {\n",
    "        \"name\": \"IllustrisTNG\",\n",
    "        \"args\": {\n",
    "            \"path\": \"data/galaxy-id-14.hdf5\",\n",
    "        },\n",
    "    \n",
    "    },\n",
    "    \"output_path\": \"output\",\n",
    "\n",
    "    \"telescope\":\n",
    "        {\"name\": \"MUSE\",\n",
    "         \"psf\": {\"name\": \"gaussian\", \"size\": 5, \"sigma\": 0.6},},\n",
    "    \"cosmology\":\n",
    "        {\"name\": \"PLANCK15\"},\n",
    "        \n",
    "    \"galaxy\":\n",
    "        {\"dist_z\": 0.1},\n",
    "        \n",
    "    \"ssp\": {\n",
    "        \"template\": {\n",
    "            \"name\": \"BruzualCharlot2003\"\n",
    "        },\n",
    "    },        \n",
    "}\n",
    "\n",
    "pipe = RubixPipeline(config)\n",
    "\n",
    "data= pipe.run()"
   ]
  },
  {
   "cell_type": "code",
   "execution_count": null,
   "metadata": {},
   "outputs": [],
   "source": [
    "#NBVAL_SKIP\n",
    "import matplotlib.pyplot as plt\n",
    "wave = pipe.telescope.wave_seq\n",
    "spectra = data[\"spectra\"] # Spectra of all stars\n",
    "print(spectra.shape)\n",
    "\n",
    "plt.plot(wave, spectra[0,3]) \n"
   ]
  },
  {
   "cell_type": "markdown",
   "metadata": {},
   "source": [
    "Some of the spectra may be zero, this happens if the metallicity or age values are outside the range of the SSP model. This is currently the expected behavior"
   ]
  },
  {
   "cell_type": "code",
   "execution_count": null,
   "metadata": {},
   "outputs": [],
   "source": [
    "#NBVAL_SKIP\n",
    "import jax \n",
    "import jax.numpy as jnp\n",
    "# Create a function to calculate a single IFU cube\n",
    "def calculate_ifu_cube(stars_spectra, pixel_indices):\n",
    "    # Create an IFU cube of shape (25*25, 842)\n",
    "    #ifu_cube = jnp.zeros((25 * 25, 842))\n",
    "    \n",
    "    # Use jax.ops.segment_sum to sum the spectra into the IFU cube based on pixel indices\n",
    "    ifu_cube = jax.ops.segment_sum(stars_spectra, pixel_indices, num_segments=25*25)\n",
    "    \n",
    "    # Reshape the IFU cube to the desired shape (25, 25, 842)\n",
    "    ifu_cube = ifu_cube.reshape((25, 25, 3721))\n",
    "    \n",
    "    return ifu_cube\n",
    "\n",
    "spectra = data[\"spectra\"]\n",
    "assignments = data[\"pixel_assignment\"]\n",
    "\n",
    "# Calculate 4 individual IFU cubes\n",
    "ifu_cubes = jax.vmap(calculate_ifu_cube)(spectra, assignments)\n",
    "\n",
    "# Sum the 4 IFU cubes\n",
    "final_ifu_cube = jnp.sum(ifu_cubes, axis=0)\n",
    "final_ifu_cube.shape"
   ]
  },
  {
   "cell_type": "code",
   "execution_count": null,
   "metadata": {},
   "outputs": [],
   "source": [
    "#NBVAL_SKIP\n",
    "wavelengths = pipe.telescope.wave_seq\n",
    "\n",
    "# get the indices of the visible wavelengths of 4000-8000 Angstroms\n",
    "\n",
    "visible_indices = jnp.where((wavelengths >= 4000) & (wavelengths <= 8000))\n",
    "\n"
   ]
  },
  {
   "cell_type": "code",
   "execution_count": null,
   "metadata": {},
   "outputs": [],
   "source": [
    "#NBVAL_SKIP\n",
    "wavelengths"
   ]
  },
  {
   "cell_type": "code",
   "execution_count": null,
   "metadata": {},
   "outputs": [],
   "source": [
    "#NBVAL_SKIP\n",
    "spectra[0,7]"
   ]
  },
  {
   "cell_type": "code",
   "execution_count": null,
   "metadata": {},
   "outputs": [],
   "source": [
    "#NBVAL_SKIP\n",
    "# plot example spectrum\n",
    "import matplotlib.pyplot as plt\n",
    "\n",
    "spec = final_ifu_cube[12, 12]\n",
    "\n",
    "plt.plot(wavelengths[visible_indices], spec[visible_indices])\n",
    "plt.yscale(\"log\")"
   ]
  },
  {
   "cell_type": "code",
   "execution_count": null,
   "metadata": {},
   "outputs": [],
   "source": [
    "#NBVAL_SKIP\n",
    "# get the spectra of the visible wavelengths from the ifu cube\n",
    "visible_spectra = final_ifu_cube[:, :, visible_indices[0]]\n",
    "visible_spectra.shape"
   ]
  },
  {
   "cell_type": "code",
   "execution_count": null,
   "metadata": {},
   "outputs": [],
   "source": [
    "#NBVAL_SKIP\n",
    "# Sum up all spectra to create an image\n",
    "image = jnp.sum(visible_spectra, axis = 2)\n",
    "plt.imshow(image, origin=\"lower\", cmap=\"inferno\")\n",
    "plt.colorbar()"
   ]
  }
 ],
 "metadata": {
  "kernelspec": {
   "display_name": "rubix",
   "language": "python",
   "name": "python3"
  },
  "language_info": {
   "codemirror_mode": {
    "name": "ipython",
    "version": 3
   },
   "file_extension": ".py",
   "mimetype": "text/x-python",
   "name": "python",
   "nbconvert_exporter": "python",
   "pygments_lexer": "ipython3",
   "version": "3.11.8"
  }
 },
 "nbformat": 4,
 "nbformat_minor": 2
}
