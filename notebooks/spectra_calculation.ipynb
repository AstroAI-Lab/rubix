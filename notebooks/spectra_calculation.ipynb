{
 "cells": [
  {
   "cell_type": "code",
   "execution_count": null,
   "metadata": {},
   "outputs": [],
   "source": [
    "#NBVAL_SKIP\n",
    "import matplotlib.pyplot as plt\n",
    "from rubix.core.pipeline import RubixPipeline \n",
    "import os\n",
    "config = {\n",
    "    \"pipeline\":{\"name\": \"calc_ifu\"},\n",
    "    \n",
    "    \"logger\": {\n",
    "        \"log_level\": \"DEBUG\",\n",
    "        \"log_file_path\": None,\n",
    "        \"format\": \"%(asctime)s - %(name)s - %(levelname)s - %(message)s\",\n",
    "    },\n",
    "    \"data\": {\n",
    "        \"name\": \"IllustrisAPI\",\n",
    "        \"args\": {\n",
    "            \"api_key\": os.environ.get(\"ILLUSTRIS_API_KEY\"),\n",
    "            \"particle_type\": [\"stars\"],\n",
    "            \"simulation\": \"TNG50-1\",\n",
    "            \"snapshot\": 99,\n",
    "            \"save_data_path\": \"data\",\n",
    "        },\n",
    "        \n",
    "        \"load_galaxy_args\": {\n",
    "        \"id\": 14,\n",
    "        \"reuse\": True,\n",
    "        },\n",
    "        \n",
    "        \"subset\": {\n",
    "            \"use_subset\": True,\n",
    "            \"subset_size\": 100,\n",
    "        },\n",
    "    },\n",
    "    \"simulation\": {\n",
    "        \"name\": \"IllustrisTNG\",\n",
    "        \"args\": {\n",
    "            \"path\": \"data/galaxy-id-14.hdf5\",\n",
    "        },\n",
    "    \n",
    "    },\n",
    "    \"output_path\": \"output\",\n",
    "\n",
    "    \"telescope\":\n",
    "        {\"name\": \"MUSE\",\n",
    "         \"psf\": {\"name\": \"gaussian\", \"size\": 5, \"sigma\": 0.6},},\n",
    "    \"cosmology\":\n",
    "        {\"name\": \"PLANCK15\"},\n",
    "        \n",
    "    \"galaxy\":\n",
    "        {\"dist_z\": 0.1,\n",
    "         \"rotation\": {\n",
    "             \"alpha\": 0,\n",
    "             \"beta\": 0,\n",
    "             \"gamma\": 0,}},\n",
    "        \n",
    "    \"ssp\": {\n",
    "        \"template\": {\n",
    "            \"name\": \"BruzualCharlot2003\"\n",
    "        },\n",
    "    },        \n",
    "}\n",
    "\n",
    "pipe = RubixPipeline(config)\n",
    "\n",
    "data= pipe.run()\n",
    "\n",
    "datacube = data[\"datacube\"]\n",
    "img = datacube.sum(axis=2)\n",
    "plt.imshow(img, origin=\"lower\")"
   ]
  },
  {
   "cell_type": "code",
   "execution_count": null,
   "metadata": {},
   "outputs": [],
   "source": [
    "#NBVAL_SKIP\n",
    "wave = pipe.telescope.wave_seq\n",
    "spectra = data[\"spectra\"] # Spectra of all stars\n",
    "print(spectra.shape)\n",
    "\n",
    "plt.plot(wave, spectra[0,3]) \n"
   ]
  },
  {
   "cell_type": "markdown",
   "metadata": {},
   "source": [
    "Some of the spectra may be zero, this happens if the metallicity or age values are outside the range of the SSP model. This is currently the expected behavior"
   ]
  },
  {
   "cell_type": "code",
   "execution_count": null,
   "metadata": {},
   "outputs": [],
   "source": [
    "#NBVAL_SKIP\n",
    "import jax \n",
    "import jax.numpy as jnp\n",
    "# Create a function to calculate a single IFU cube\n",
    "def calculate_ifu_cube(stars_spectra, pixel_indices):\n",
    "    # Create an IFU cube of shape (25*25, 842)\n",
    "    #ifu_cube = jnp.zeros((25 * 25, 842))\n",
    "    \n",
    "    # Use jax.ops.segment_sum to sum the spectra into the IFU cube based on pixel indices\n",
    "    ifu_cube = jax.ops.segment_sum(stars_spectra, pixel_indices, num_segments=25*25)\n",
    "    \n",
    "    # Reshape the IFU cube to the desired shape (25, 25, 842)\n",
    "    ifu_cube = ifu_cube.reshape((25, 25, 3721))\n",
    "    \n",
    "    return ifu_cube\n",
    "\n",
    "spectra = data[\"spectra\"]\n",
    "assignments = data[\"pixel_assignment\"]\n",
    "\n",
    "# Calculate 4 individual IFU cubes\n",
    "ifu_cubes = jax.vmap(calculate_ifu_cube)(spectra, assignments)\n",
    "\n",
    "# Sum the 4 IFU cubes\n",
    "final_ifu_cube = jnp.sum(ifu_cubes, axis=0)\n",
    "final_ifu_cube.shape"
   ]
  },
  {
   "cell_type": "code",
   "execution_count": null,
   "metadata": {},
   "outputs": [],
   "source": [
    "#NBVAL_SKIP\n",
    "wavelengths = pipe.telescope.wave_seq\n",
    "\n",
    "# get the indices of the visible wavelengths of 4000-8000 Angstroms\n",
    "\n",
    "visible_indices = jnp.where((wavelengths >= 4000) & (wavelengths <= 8000))\n",
    "\n"
   ]
  },
  {
   "cell_type": "code",
   "execution_count": null,
   "metadata": {},
   "outputs": [],
   "source": [
    "#NBVAL_SKIP\n",
    "wavelengths"
   ]
  },
  {
   "cell_type": "code",
   "execution_count": null,
   "metadata": {},
   "outputs": [],
   "source": [
    "#NBVAL_SKIP\n",
    "spectra[0,7]"
   ]
  },
  {
   "cell_type": "code",
   "execution_count": null,
   "metadata": {},
   "outputs": [],
   "source": [
    "#NBVAL_SKIP\n",
    "# plot example spectrum\n",
    "import matplotlib.pyplot as plt\n",
    "\n",
    "spec = final_ifu_cube[12, 12]\n",
    "\n",
    "plt.plot(wavelengths[visible_indices], spec[visible_indices])\n",
    "plt.yscale(\"log\")"
   ]
  },
  {
   "cell_type": "code",
   "execution_count": null,
   "metadata": {},
   "outputs": [],
   "source": [
    "#NBVAL_SKIP\n",
    "# get the spectra of the visible wavelengths from the ifu cube\n",
    "visible_spectra = final_ifu_cube[:, :, visible_indices[0]]\n",
    "visible_spectra.shape"
   ]
  },
  {
   "cell_type": "code",
   "execution_count": null,
   "metadata": {},
   "outputs": [],
   "source": [
    "#NBVAL_SKIP\n",
    "# Sum up all spectra to create an image\n",
    "image = jnp.sum(visible_spectra, axis = 2)\n",
    "plt.imshow(image, origin=\"lower\", cmap=\"inferno\")\n",
    "plt.colorbar()"
   ]
  }
 ],
 "metadata": {
  "kernelspec": {
   "display_name": "rubix",
   "language": "python",
   "name": "python3"
  },
  "language_info": {
   "codemirror_mode": {
    "name": "ipython",
    "version": 3
   },
   "file_extension": ".py",
   "mimetype": "text/x-python",
   "name": "python",
   "nbconvert_exporter": "python",
   "pygments_lexer": "ipython3",
   "version": "3.11.8"
  }
 },
 "nbformat": 4,
 "nbformat_minor": 2
}
