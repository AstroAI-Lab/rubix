{
 "cells": [
  {
   "cell_type": "code",
   "execution_count": 1,
   "metadata": {},
   "outputs": [
    {
     "name": "stderr",
     "output_type": "stream",
     "text": [
      "2024-07-17 11:30:00,507 - rubix - INFO - \n",
      "   ___  __  _____  _____  __\n",
      "  / _ \\/ / / / _ )/  _/ |/_/\n",
      " / , _/ /_/ / _  |/ /_>  <  \n",
      "/_/|_|\\____/____/___/_/|_|  \n",
      "                            \n",
      "\n",
      "2024-07-17 11:30:00,509 - rubix - INFO - Rubix version: 0.0.post68+g83b3a1f.d20240716\n",
      "2024-07-17 11:30:00,510 - rubix - WARNING - python-fsps is not installed. Please install it to use this function. Install using pip install fsps and check the installation page: https://dfm.io/python-fsps/current/installation/ for more details. Especially, make sure to set all necessary environment variables.\n",
      "/home/annalena/rubix/rubix/telescope/factory.py:21: UserWarning: No telescope config provided, using default stored in /home/annalena/rubix/rubix/telescope/telescopes.yaml\n",
      "  warnings.warn(\n",
      "2024-07-17 11:30:01,640 - rubix - INFO - Getting rubix data...\n",
      "2024-07-17 11:30:01,642 - rubix - INFO - Rubix galaxy file already exists, skipping conversion\n"
     ]
    },
    {
     "name": "stdout",
     "output_type": "stream",
     "text": [
      "{'pipeline': {'name': 'calc_ifu'}, 'logger': {'log_level': 'DEBUG', 'log_file_path': None, 'format': '%(asctime)s - %(name)s - %(levelname)s - %(message)s'}, 'data': {'name': 'IllustrisAPI', 'args': {'api_key': '05add2d69d501eb62014faa4dadb1af0', 'particle_type': ['stars'], 'simulation': 'TNG50-1', 'snapshot': 99, 'save_data_path': 'data'}, 'load_galaxy_args': {'id': 12, 'reuse': True}}, 'simulation': {'name': 'IllustrisTNG', 'args': {'path': 'data/galaxy-id-12.hdf5'}}, 'output_path': 'output', 'telescope': {'name': 'MUSE', 'psf': {'name': 'gaussian', 'size': 5, 'sigma': 0.6}, 'lsf': {'sigma': 0.5}, 'noise': {'signal_to_noise': 1, 'noise_distribution': 'normal'}}, 'cosmology': {'name': 'PLANCK15'}, 'galaxy': {'dist_z': 0.1, 'rotation': {'type': 'edge-on'}}, 'ssp': {'template': {'name': 'BruzualCharlot2003'}}}\n"
     ]
    },
    {
     "name": "stderr",
     "output_type": "stream",
     "text": [
      "2024-07-17 11:30:03,476 - rubix - INFO - Data loaded with 649384 star particles and 0 gas particles.\n",
      "2024-07-17 11:30:03,478 - rubix - INFO - Data loaded with 48 properties.\n",
      "2024-07-17 11:30:03,478 - rubix - DEBUG - Data: RubixData(galaxy=Galaxy(redshift=2.220446049250313e-16, center=array([11413.86337268, 35893.86374042, 32027.01940138]), halfmassrad_stars=7.727193253526112), stars=StarsData(coords=Array([[ 1.1718750e-02, -5.4687500e-02, -1.3671875e-02],\n",
      "       [-2.9296875e-03, -6.2500000e-02, -1.1718750e-02],\n",
      "       [ 6.8359375e-03, -7.8125000e-02, -3.9062500e-03],\n",
      "       ...,\n",
      "       [-1.6905273e+01,  4.7035156e+01, -1.7578125e+00],\n",
      "       [-4.8350586e+01,  3.6402344e+01, -1.5941406e+01],\n",
      "       [-5.8808594e+00,  5.5078125e+00,  3.5298828e+01]], dtype=float32), velocity=Array([[ 1.8367677e-16, -4.7929042e-17,  7.4227191e-17],\n",
      "       [ 2.1569694e-18,  3.0625969e-16,  1.5955390e-16],\n",
      "       [ 1.8713838e-16,  1.7605305e-16,  6.9643049e-17],\n",
      "       ...,\n",
      "       [ 3.0933031e-15, -4.6513599e-15, -2.9009049e-15],\n",
      "       [ 3.7931266e-15, -2.9483821e-15, -2.9372629e-15],\n",
      "       [ 6.4358741e-15, -6.2634264e-16, -3.2962795e-15]], dtype=float32), mass=Array([ 86821.71 ,  73289.336, 111279.12 , ..., 103573.984,  85964.95 ,\n",
      "        83291.24 ], dtype=float32), metallicity=Array([0.09918208, 0.04759451, 0.07264117, ..., 0.00494921, 0.00485685,\n",
      "       0.00233734], dtype=float32), age=Array([6.611042 , 7.361907 , 6.66033  , ..., 6.4095097, 6.4207377,\n",
      "       7.890138 ], dtype=float32), pixel_assignment=None, spatial_bin_edges=None, mask=None, spectra=None, datacube=None), gas=GasData(coords=None, velocity=None, mass=None, density=None, internal_energy=None, metallicity=None, sfr=None, electron_abundance=None, pixel_assignment=None, spatial_bin_edges=None, mask=None, spectra=None, datacube=None))\n",
      "2024-07-17 11:30:03,482 - rubix - INFO - Setting up the pipeline...\n",
      "2024-07-17 11:30:03,482 - rubix - DEBUG - Pipeline Configuration: {'Transformers': {'rotate_galaxy': {'name': 'rotate_galaxy', 'depends_on': None, 'args': [], 'kwargs': {'type': 'face-on'}}, 'filter_particles': {'name': 'filter_particles', 'depends_on': 'rotate_galaxy', 'args': [], 'kwargs': {}}, 'spaxel_assignment': {'name': 'spaxel_assignment', 'depends_on': 'filter_particles', 'args': [], 'kwargs': {}}, 'reshape_data': {'name': 'reshape_data', 'depends_on': 'spaxel_assignment', 'args': [], 'kwargs': {}}, 'calculate_spectra': {'name': 'calculate_spectra', 'depends_on': 'reshape_data', 'args': [], 'kwargs': {}}, 'scale_spectrum_by_mass': {'name': 'scale_spectrum_by_mass', 'depends_on': 'calculate_spectra', 'args': [], 'kwargs': {}}, 'doppler_shift_and_resampling': {'name': 'doppler_shift_and_resampling', 'depends_on': 'scale_spectrum_by_mass', 'args': [], 'kwargs': {}}, 'calculate_datacube': {'name': 'calculate_datacube', 'depends_on': 'doppler_shift_and_resampling', 'args': [], 'kwargs': {}}, 'convolve_psf': {'name': 'convolve_psf', 'depends_on': 'calculate_datacube', 'args': [], 'kwargs': {}}, 'convolve_lsf': {'name': 'convolve_lsf', 'depends_on': 'convolve_psf', 'args': [], 'kwargs': {}}, 'apply_noise': {'name': 'apply_noise', 'depends_on': 'convolve_lsf', 'args': [], 'kwargs': {}}}}\n",
      "2024-07-17 11:30:03,483 - rubix - DEBUG - Roataion Type found: edge-on\n",
      "/home/annalena/rubix/rubix/telescope/factory.py:21: UserWarning: No telescope config provided, using default stored in /home/annalena/rubix/rubix/telescope/telescopes.yaml\n",
      "  warnings.warn(\n",
      "/home/annalena/rubix/rubix/telescope/factory.py:21: UserWarning: No telescope config provided, using default stored in /home/annalena/rubix/rubix/telescope/telescopes.yaml\n",
      "  warnings.warn(\n",
      "2024-07-17 11:30:04,035 - rubix - DEBUG - Method not defined, using default method: cubic\n",
      "2024-07-17 11:30:04,114 - rubix - DEBUG - SSP Wave: (842,)\n",
      "2024-07-17 11:30:04,733 - rubix - INFO - Assembling the pipeline...\n",
      "2024-07-17 11:30:04,735 - rubix - INFO - Compiling the expressions...\n",
      "2024-07-17 11:30:04,736 - rubix - INFO - Running the pipeline on the input data...\n",
      "2024-07-17 11:30:04,736 - rubix - INFO - Rotating galaxy with alpha=90, beta=0, gamma=0\n",
      "2024-07-17 11:30:04,872 - rubix - INFO - Calculating IFU cube...\n",
      "2024-07-17 11:30:04,873 - rubix - DEBUG - Input shapes: Metallicity: 1, Age: 1\n",
      "2024-07-17 11:30:05,285 - rubix - DEBUG - Calculation Finished! Spectra shape: (1, 649384, 842)\n",
      "2024-07-17 11:30:05,286 - rubix - INFO - Scaling Spectra by Mass...\n",
      "2024-07-17 11:30:05,290 - rubix - INFO - Doppler shifting and resampling stellar spectra...\n",
      "2024-07-17 11:30:05,291 - rubix - DEBUG - Doppler Shifted SSP Wave: (1, 649384, 842)\n",
      "2024-07-17 11:30:05,291 - rubix - DEBUG - Telescope Wave Seq: (3721,)\n",
      "2024-07-17 11:30:05,346 - rubix - INFO - Calculating Data Cube...\n",
      "2024-07-17 11:30:05,349 - rubix - DEBUG - Datacube Shape: (25, 25, 3721)\n",
      "2024-07-17 11:30:05,349 - rubix - DEBUG - This is the datacube: Traced<ShapedArray(float32[25,25,3721])>with<DynamicJaxprTrace(level=1/0)>\n",
      "2024-07-17 11:30:05,352 - rubix - INFO - Convolving with LSF...\n",
      "2024-07-17 11:30:05,356 - rubix - INFO - Applying noise to datacube with signal to noise ratio: 1 and noise distribution: normal\n",
      "2024-07-17 11:31:37,307 - rubix - INFO - Pipeline run completed in 93.82 seconds.\n"
     ]
    }
   ],
   "source": [
    "#NBVAL_SKIP\n",
    "import matplotlib.pyplot as plt\n",
    "from rubix.core.pipeline import RubixPipeline \n",
    "import os\n",
    "config = {\n",
    "    \"pipeline\":{\"name\": \"calc_ifu\"},\n",
    "    \n",
    "    \"logger\": {\n",
    "        \"log_level\": \"DEBUG\",\n",
    "        \"log_file_path\": None,\n",
    "        \"format\": \"%(asctime)s - %(name)s - %(levelname)s - %(message)s\",\n",
    "    },\n",
    "    \"data\": {\n",
    "        \"name\": \"IllustrisAPI\",\n",
    "        \"args\": {\n",
    "            \"api_key\": os.environ.get(\"ILLUSTRIS_API_KEY\"),\n",
    "            \"particle_type\": [\"stars\"],\n",
    "            \"simulation\": \"TNG50-1\",\n",
    "            \"snapshot\": 99,\n",
    "            \"save_data_path\": \"data\",\n",
    "        },\n",
    "        \n",
    "        \"load_galaxy_args\": {\n",
    "        \"id\": 12,\n",
    "        \"reuse\": True,\n",
    "        },\n",
    "        \n",
    "        #\"subset\": {\n",
    "        #    \"use_subset\": True,\n",
    "        #    \"subset_size\": 649384,\n",
    "        #},\n",
    "    },\n",
    "    \"simulation\": {\n",
    "        \"name\": \"IllustrisTNG\",\n",
    "        \"args\": {\n",
    "            \"path\": \"data/galaxy-id-12.hdf5\",\n",
    "        },\n",
    "    \n",
    "    },\n",
    "    \"output_path\": \"output\",\n",
    "\n",
    "    \"telescope\":\n",
    "        {\"name\": \"MUSE\",\n",
    "         \"psf\": {\"name\": \"gaussian\", \"size\": 5, \"sigma\": 0.6},\n",
    "         \"lsf\": {\"sigma\": 0.5},\n",
    "         \"noise\": {\"signal_to_noise\": 1,\"noise_distribution\": \"normal\"},},\n",
    "    \"cosmology\":\n",
    "        {\"name\": \"PLANCK15\"},\n",
    "        \n",
    "    \"galaxy\":\n",
    "        {\"dist_z\": 0.1,\n",
    "         \"rotation\": {\"type\": \"edge-on\"},\n",
    "        },\n",
    "        \n",
    "    \"ssp\": {\n",
    "        \"template\": {\n",
    "            \"name\": \"BruzualCharlot2003\"\n",
    "        },\n",
    "    },        \n",
    "}\n",
    "\n",
    "pipe = RubixPipeline(config)\n",
    "\n",
    "data= pipe.run()\n",
    "\n",
    "#datacube = data.stars.datacube\n",
    "#img = datacube.sum(axis=2)\n",
    "#plt.imshow(img, origin=\"lower\")"
   ]
  },
  {
   "cell_type": "code",
   "execution_count": 2,
   "metadata": {},
   "outputs": [
    {
     "name": "stdout",
     "output_type": "stream",
     "text": [
      "[[312 312 312 ... 624 454 600]]\n",
      "[[-4.7619     -4.380948   -3.9999962  -3.6190443  -3.2380924  -2.8571405\n",
      "  -2.4761887  -2.0952368  -1.7142849  -1.333333   -0.95238113 -0.57142925\n",
      "  -0.19047737  0.19047451  0.5714264   0.9523783   1.3333302   1.714282\n",
      "   2.095234    2.4761858   2.8571377   3.2380896   3.6190414   3.9999933\n",
      "   4.380945    4.761897  ]]\n",
      "(1, 649384, 3721)\n",
      "(1, 3721)\n",
      "[[1.9819494e+08 1.9806506e+08 1.9793517e+08 ... 2.1567288e+07\n",
      "  2.1523986e+07 2.1480680e+07]]\n"
     ]
    }
   ],
   "source": [
    "import jax.numpy as jnp\n",
    "print(data.stars.pixel_assignment)\n",
    "print(data.stars.spatial_bin_edges)\n",
    "print(data.stars.spectra.shape)\n",
    "\n",
    "sum_spectra = jnp.sum(data.stars.spectra, axis=1)\n",
    "print(sum_spectra.shape)\n",
    "print(sum_spectra)\n",
    "#indices_nonzero = jnp.where(data.stars.spectra[0][:][100] != 0)\n",
    "#print(indices_nonzero)\n",
    "\n",
    "#spectra_np = jnp.array(data.stars.spectra)\n",
    "\n",
    "# Set NumPy print options\n",
    "#jnp.set_printoptions(threshold=60000)\n",
    "\n",
    "# Print the full array\n",
    "#print(spectra_np)"
   ]
  },
  {
   "cell_type": "code",
   "execution_count": 3,
   "metadata": {},
   "outputs": [
    {
     "name": "stdout",
     "output_type": "stream",
     "text": [
      "age\n",
      "coords\n",
      "datacube\n",
      "mask\n",
      "mass\n",
      "metallicity\n",
      "pixel_assignment\n",
      "spatial_bin_edges\n",
      "spectra\n",
      "tree_flatten\n",
      "tree_unflatten\n",
      "velocity\n",
      "[[ True  True  True ... False  True False]]\n"
     ]
    }
   ],
   "source": [
    "def print_object_attributes(obj):\n",
    "    # Filter out magic methods and print attribute names and their values\n",
    "    for attr in dir(obj):\n",
    "        if not attr.startswith('__'):\n",
    "            print(f\"{attr}\")#: {getattr(obj, attr)}\")\n",
    "\n",
    "# Assuming `data` is your object\n",
    "print_object_attributes(data.stars)\n",
    "print(data.stars.mask)\n"
   ]
  },
  {
   "cell_type": "code",
   "execution_count": 4,
   "metadata": {},
   "outputs": [
    {
     "data": {
      "text/plain": [
       "[<matplotlib.lines.Line2D at 0x7f2a546b1090>]"
      ]
     },
     "execution_count": 4,
     "metadata": {},
     "output_type": "execute_result"
    },
    {
     "data": {
      "image/png": "[encoded data removed]",
      "text/plain": [
       "<Figure size 640x480 with 1 Axes>"
      ]
     },
     "metadata": {},
     "output_type": "display_data"
    }
   ],
   "source": [
    "#NBVAL_SKIP\n",
    "wave = pipe.telescope.wave_seq\n",
    "plt.plot(wave, data.stars.spectra[0][0][:])\n",
    "plt.plot(wave, data.stars.spectra[0][1][:])\n"
   ]
  },
  {
   "cell_type": "markdown",
   "metadata": {},
   "source": [
    "Some of the spectra may be zero, this happens if the metallicity or age values are outside the range of the SSP model. This is currently the expected behavior"
   ]
  },
  {
   "cell_type": "code",
   "execution_count": 5,
   "metadata": {},
   "outputs": [
    {
     "data": {
      "text/plain": [
       "(25, 25, 3721)"
      ]
     },
     "execution_count": 5,
     "metadata": {},
     "output_type": "execute_result"
    }
   ],
   "source": [
    "#NBVAL_SKIP\n",
    "import jax \n",
    "import jax.numpy as jnp\n",
    "# Create a function to calculate a single IFU cube\n",
    "def calculate_ifu_cube(stars_spectra, pixel_indices):\n",
    "    # Create an IFU cube of shape (25*25, 842)\n",
    "    #ifu_cube = jnp.zeros((25 * 25, 842))\n",
    "    \n",
    "    # Use jax.ops.segment_sum to sum the spectra into the IFU cube based on pixel indices\n",
    "    ifu_cube = jax.ops.segment_sum(stars_spectra, pixel_indices, num_segments=25*25)\n",
    "    \n",
    "    # Reshape the IFU cube to the desired shape (25, 25, 842)\n",
    "    ifu_cube = ifu_cube.reshape((25, 25, 3721))\n",
    "    \n",
    "    return ifu_cube\n",
    "\n",
    "spectra = data.stars.spectra\n",
    "assignments = data.stars.pixel_assignment\n",
    "\n",
    "# Calculate 4 individual IFU cubes\n",
    "ifu_cubes = jax.vmap(calculate_ifu_cube)(spectra, assignments)\n",
    "\n",
    "# Sum the 4 IFU cubes\n",
    "final_ifu_cube = jnp.sum(ifu_cubes, axis=0)\n",
    "final_ifu_cube.shape"
   ]
  },
  {
   "cell_type": "code",
   "execution_count": 6,
   "metadata": {},
   "outputs": [],
   "source": [
    "#NBVAL_SKIP\n",
    "wavelengths = pipe.telescope.wave_seq\n",
    "\n",
    "# get the indices of the visible wavelengths of 4000-8000 Angstroms\n",
    "\n",
    "visible_indices = jnp.where((wavelengths >= 4000) & (wavelengths <= 8000))\n",
    "\n"
   ]
  },
  {
   "cell_type": "code",
   "execution_count": 7,
   "metadata": {},
   "outputs": [
    {
     "data": {
      "text/plain": [
       "Array([4700.15, 4701.4 , 4702.65, ..., 9347.65, 9348.9 , 9350.15],      dtype=float32)"
      ]
     },
     "execution_count": 7,
     "metadata": {},
     "output_type": "execute_result"
    }
   ],
   "source": [
    "#NBVAL_SKIP\n",
    "wavelengths"
   ]
  },
  {
   "cell_type": "code",
   "execution_count": 8,
   "metadata": {},
   "outputs": [
    {
     "data": {
      "text/plain": [
       "Array([0., 0., 0., ..., 0., 0., 0.], dtype=float32)"
      ]
     },
     "execution_count": 8,
     "metadata": {},
     "output_type": "execute_result"
    }
   ],
   "source": [
    "#NBVAL_SKIP\n",
    "spectra[0,7]"
   ]
  },
  {
   "cell_type": "code",
   "execution_count": 9,
   "metadata": {},
   "outputs": [
    {
     "data": {
      "image/png": "[encoded data removed]",
      "text/plain": [
       "<Figure size 640x480 with 1 Axes>"
      ]
     },
     "metadata": {},
     "output_type": "display_data"
    }
   ],
   "source": [
    "#NBVAL_SKIP\n",
    "# plot example spectrum\n",
    "import matplotlib.pyplot as plt\n",
    "\n",
    "spec = final_ifu_cube[12, 12]\n",
    "\n",
    "plt.plot(wavelengths[visible_indices], spec[visible_indices])\n",
    "plt.yscale(\"log\")"
   ]
  },
  {
   "cell_type": "code",
   "execution_count": 10,
   "metadata": {},
   "outputs": [
    {
     "data": {
      "text/plain": [
       "(25, 25, 2640)"
      ]
     },
     "execution_count": 10,
     "metadata": {},
     "output_type": "execute_result"
    }
   ],
   "source": [
    "#NBVAL_SKIP\n",
    "# get the spectra of the visible wavelengths from the ifu cube\n",
    "visible_spectra = final_ifu_cube[:, :, visible_indices[0]]\n",
    "visible_spectra.shape"
   ]
  },
  {
   "cell_type": "code",
   "execution_count": 11,
   "metadata": {},
   "outputs": [
    {
     "data": {
      "text/plain": [
       "<matplotlib.colorbar.Colorbar at 0x7f2a3447a1a0>"
      ]
     },
     "execution_count": 11,
     "metadata": {},
     "output_type": "execute_result"
    },
    {
     "data": {
      "image/png": "[encoded data removed]",
      "text/plain": [
       "<Figure size 640x480 with 2 Axes>"
      ]
     },
     "metadata": {},
     "output_type": "display_data"
    }
   ],
   "source": [
    "#NBVAL_SKIP\n",
    "# Sum up all spectra to create an image\n",
    "image = jnp.sum(visible_spectra, axis = 2)\n",
    "plt.imshow(image, origin=\"lower\", cmap=\"inferno\")\n",
    "plt.colorbar()"
   ]
  }
 ],
 "metadata": {
  "kernelspec": {
   "display_name": "rubix",
   "language": "python",
   "name": "python3"
  },
  "language_info": {
   "codemirror_mode": {
    "name": "ipython",
    "version": 3
   },
   "file_extension": ".py",
   "mimetype": "text/x-python",
   "name": "python",
   "nbconvert_exporter": "python",
   "pygments_lexer": "ipython3",
   "version": "3.10.14"
  }
 },
 "nbformat": 4,
 "nbformat_minor": 2
}
