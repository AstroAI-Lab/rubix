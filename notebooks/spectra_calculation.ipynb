{
 "cells": [
  {
   "cell_type": "code",
   "execution_count": 1,
   "metadata": {},
   "outputs": [
    {
     "name": "stderr",
     "output_type": "stream",
     "text": [
      "2024-05-20 16:07:10,827 - rubix - INFO - \n",
      "   ___  __  _____  _____  __\n",
      "  / _ \\/ / / / _ )/  _/ |/_/\n",
      " / , _/ /_/ / _  |/ /_>  <  \n",
      "/_/|_|\\____/____/___/_/|_|  \n",
      "                            \n",
      "\n",
      "2024-05-20 16:07:10,828 - rubix - INFO - Rubix version: 0.0.1.post55+g93a544d\n",
      "/home/ufuk/Dokumente/Research/Masterarbeit/rubix/rubix/telescope/factory.py:21: UserWarning: No telescope config provided, using default stored in /home/ufuk/Dokumente/Research/Masterarbeit/rubix/rubix/telescope/telescopes.yaml\n",
      "  warnings.warn(\n",
      "2024-05-20 16:07:11,231 - rubix - INFO - Getting rubix data...\n",
      "2024-05-20 16:07:11,232 - rubix - INFO - Rubix galaxy file already exists, skipping conversion\n",
      "2024-05-20 16:07:13,233 - rubix - WARNING - The Subset value is set in config. Using only subset of size 5000\n",
      "2024-05-20 16:07:13,235 - rubix - INFO - Data loaded with 5000 particles.\n",
      "2024-05-20 16:07:13,235 - rubix - DEBUG - Data Shape: {'coords': (5000, 3), 'velocities': (5000, 3), 'metallicity': (5000,), 'mass': (5000,), 'age': (5000,)}\n",
      "2024-05-20 16:07:13,235 - rubix - INFO - Setting up the pipeline...\n",
      "2024-05-20 16:07:13,236 - rubix - DEBUG - Pipeline Configuration: {'Transformers': {'rotate_galaxy': {'name': 'rotate_galaxy', 'depends_on': None, 'args': [], 'kwargs': {'type': 'face-on'}}, 'spaxel_assignment': {'name': 'spaxel_assignment', 'depends_on': 'rotate_galaxy', 'args': [], 'kwargs': {}}, 'reshape_data': {'name': 'reshape_data', 'depends_on': 'spaxel_assignment', 'args': [], 'kwargs': {}}, 'calculate_spectra': {'name': 'calculate_spectra', 'depends_on': 'reshape_data', 'args': [], 'kwargs': {}}, 'scale_spectrum_by_mass': {'name': 'scale_spectrum_by_mass', 'depends_on': 'calculate_spectra', 'args': [], 'kwargs': {}}, 'doppler_shift_and_resampling': {'name': 'doppler_shift_and_resampling', 'depends_on': 'scale_spectrum_by_mass', 'args': [], 'kwargs': {}}}}\n",
      "/home/ufuk/Dokumente/Research/Masterarbeit/rubix/rubix/telescope/factory.py:21: UserWarning: No telescope config provided, using default stored in /home/ufuk/Dokumente/Research/Masterarbeit/rubix/rubix/telescope/telescopes.yaml\n",
      "  warnings.warn(\n",
      "2024-05-20 16:07:13,523 - rubix - DEBUG - Method not defined, using default method: cubic\n",
      "/home/ufuk/Dokumente/Research/Masterarbeit/rubix/rubix/telescope/factory.py:21: UserWarning: No telescope config provided, using default stored in /home/ufuk/Dokumente/Research/Masterarbeit/rubix/rubix/telescope/telescopes.yaml\n",
      "  warnings.warn(\n",
      "2024-05-20 16:07:13,561 - rubix - DEBUG - SSP Wave: (842,)\n",
      "2024-05-20 16:07:13,562 - rubix - INFO - Assembling the pipeline...\n",
      "2024-05-20 16:07:13,562 - rubix - INFO - Compiling the expressions...\n",
      "2024-05-20 16:07:13,563 - rubix - INFO - Running the pipeline on the input data...\n",
      "2024-05-20 16:07:13,590 - rubix - INFO - Calculating IFU cube...\n",
      "2024-05-20 16:07:13,590 - rubix - DEBUG - Input shapes: Metallicity: (1, 5000), Age: (1, 5000)\n"
     ]
    },
    {
     "name": "stdout",
     "output_type": "stream",
     "text": [
      "rotating galaxy:  face-on\n"
     ]
    },
    {
     "name": "stderr",
     "output_type": "stream",
     "text": [
      "2024-05-20 16:07:13,817 - rubix - DEBUG - Calculation Finished! Spectra shape: (1, 5000, 842)\n"
     ]
    },
    {
     "ename": "TracerBoolConversionError",
     "evalue": "Attempted boolean conversion of traced array with shape bool[]..\nThe error occurred while tracing the function expr at /home/ufuk/Dokumente/Research/Masterarbeit/rubix/rubix/pipeline/linear_pipeline.py:150 for jit. This concrete value was not available in Python because it depends on the values of the arguments input['age'] and input['metallicity'].\nSee https://jax.readthedocs.io/en/latest/errors.html#jax.errors.TracerBoolConversionError",
     "output_type": "error",
     "traceback": [
      "\u001b[0;31m---------------------------------------------------------------------------\u001b[0m",
      "\u001b[0;31mTracerBoolConversionError\u001b[0m                 Traceback (most recent call last)",
      "Cell \u001b[0;32mIn[1], line 57\u001b[0m\n\u001b[1;32m      3\u001b[0m config \u001b[38;5;241m=\u001b[39m {\n\u001b[1;32m      4\u001b[0m     \u001b[38;5;124m\"\u001b[39m\u001b[38;5;124mpipeline\u001b[39m\u001b[38;5;124m\"\u001b[39m:{\u001b[38;5;124m\"\u001b[39m\u001b[38;5;124mname\u001b[39m\u001b[38;5;124m\"\u001b[39m: \u001b[38;5;124m\"\u001b[39m\u001b[38;5;124mcalc_ifu\u001b[39m\u001b[38;5;124m\"\u001b[39m},\n\u001b[1;32m      5\u001b[0m     \n\u001b[0;32m   (...)\u001b[0m\n\u001b[1;32m     52\u001b[0m     },        \n\u001b[1;32m     53\u001b[0m }\n\u001b[1;32m     55\u001b[0m pipe \u001b[38;5;241m=\u001b[39m RubixPipeline(config)\n\u001b[0;32m---> 57\u001b[0m data\u001b[38;5;241m=\u001b[39m \u001b[43mpipe\u001b[49m\u001b[38;5;241;43m.\u001b[39;49m\u001b[43mrun\u001b[49m\u001b[43m(\u001b[49m\u001b[43m)\u001b[49m\n",
      "File \u001b[0;32m~/Dokumente/Research/Masterarbeit/rubix/rubix/core/pipeline.py:95\u001b[0m, in \u001b[0;36mRubixPipeline.run\u001b[0;34m(self)\u001b[0m\n\u001b[1;32m     93\u001b[0m \u001b[38;5;66;03m# Running the pipeline\u001b[39;00m\n\u001b[1;32m     94\u001b[0m \u001b[38;5;28mself\u001b[39m\u001b[38;5;241m.\u001b[39mlogger\u001b[38;5;241m.\u001b[39minfo(\u001b[38;5;124m\"\u001b[39m\u001b[38;5;124mRunning the pipeline on the input data...\u001b[39m\u001b[38;5;124m\"\u001b[39m)\n\u001b[0;32m---> 95\u001b[0m output \u001b[38;5;241m=\u001b[39m \u001b[38;5;28;43mself\u001b[39;49m\u001b[38;5;241;43m.\u001b[39;49m\u001b[43mfunc\u001b[49m\u001b[43m(\u001b[49m\u001b[38;5;28;43mself\u001b[39;49m\u001b[38;5;241;43m.\u001b[39;49m\u001b[43mdata\u001b[49m\u001b[43m)\u001b[49m\n\u001b[1;32m     97\u001b[0m time_end \u001b[38;5;241m=\u001b[39m time\u001b[38;5;241m.\u001b[39mtime()\n\u001b[1;32m     99\u001b[0m \u001b[38;5;28mself\u001b[39m\u001b[38;5;241m.\u001b[39mlogger\u001b[38;5;241m.\u001b[39minfo(\n\u001b[1;32m    100\u001b[0m     \u001b[38;5;124m\"\u001b[39m\u001b[38;5;124mPipeline run completed in \u001b[39m\u001b[38;5;132;01m%.2f\u001b[39;00m\u001b[38;5;124m seconds.\u001b[39m\u001b[38;5;124m\"\u001b[39m, time_end \u001b[38;5;241m-\u001b[39m time_start\n\u001b[1;32m    101\u001b[0m )\n",
      "    \u001b[0;31m[... skipping hidden 11 frame]\u001b[0m\n",
      "File \u001b[0;32m~/Dokumente/Research/Masterarbeit/rubix/rubix/pipeline/linear_pipeline.py:153\u001b[0m, in \u001b[0;36mLinearTransformerPipeline.build_expression.<locals>.expr\u001b[0;34m(input, pipeline)\u001b[0m\n\u001b[1;32m    151\u001b[0m res \u001b[38;5;241m=\u001b[39m \u001b[38;5;28minput\u001b[39m\n\u001b[1;32m    152\u001b[0m \u001b[38;5;28;01mfor\u001b[39;00m f \u001b[38;5;129;01min\u001b[39;00m pipeline:\n\u001b[0;32m--> 153\u001b[0m     res \u001b[38;5;241m=\u001b[39m \u001b[43mf\u001b[49m\u001b[43m(\u001b[49m\u001b[43mres\u001b[49m\u001b[43m)\u001b[49m\n\u001b[1;32m    154\u001b[0m \u001b[38;5;28;01mreturn\u001b[39;00m res\n",
      "File \u001b[0;32m~/Dokumente/Research/Masterarbeit/rubix/rubix/core/ifu.py:30\u001b[0m, in \u001b[0;36mget_calculate_spectra.<locals>.calculate_spectra\u001b[0;34m(inputs)\u001b[0m\n\u001b[1;32m     28\u001b[0m inputs[\u001b[38;5;124m\"\u001b[39m\u001b[38;5;124mspectra\u001b[39m\u001b[38;5;124m\"\u001b[39m] \u001b[38;5;241m=\u001b[39m spectra\n\u001b[1;32m     29\u001b[0m \u001b[38;5;66;03m# assert that the spectra does not contain any NaN values or infinite values\u001b[39;00m\n\u001b[0;32m---> 30\u001b[0m \u001b[38;5;28;01massert\u001b[39;00m \u001b[38;5;129;01mnot\u001b[39;00m jnp\u001b[38;5;241m.\u001b[39many(jnp\u001b[38;5;241m.\u001b[39misnan(spectra)), \u001b[38;5;124m\"\u001b[39m\u001b[38;5;124mSpectra contains NaN values\u001b[39m\u001b[38;5;124m\"\u001b[39m\n\u001b[1;32m     31\u001b[0m \u001b[38;5;28;01massert\u001b[39;00m \u001b[38;5;129;01mnot\u001b[39;00m jnp\u001b[38;5;241m.\u001b[39many(jnp\u001b[38;5;241m.\u001b[39misinf(spectra)), \u001b[38;5;124m\"\u001b[39m\u001b[38;5;124mSpectra contains infinite values\u001b[39m\u001b[38;5;124m\"\u001b[39m\n\u001b[1;32m     32\u001b[0m \u001b[38;5;28;01mreturn\u001b[39;00m inputs\n",
      "    \u001b[0;31m[... skipping hidden 1 frame]\u001b[0m\n",
      "File \u001b[0;32m~/miniforge3/envs/rubix/lib/python3.11/site-packages/jax/_src/core.py:1492\u001b[0m, in \u001b[0;36mconcretization_function_error.<locals>.error\u001b[0;34m(self, arg)\u001b[0m\n\u001b[1;32m   1491\u001b[0m \u001b[38;5;28;01mdef\u001b[39;00m \u001b[38;5;21merror\u001b[39m(\u001b[38;5;28mself\u001b[39m, arg):\n\u001b[0;32m-> 1492\u001b[0m   \u001b[38;5;28;01mraise\u001b[39;00m TracerBoolConversionError(arg)\n",
      "\u001b[0;31mTracerBoolConversionError\u001b[0m: Attempted boolean conversion of traced array with shape bool[]..\nThe error occurred while tracing the function expr at /home/ufuk/Dokumente/Research/Masterarbeit/rubix/rubix/pipeline/linear_pipeline.py:150 for jit. This concrete value was not available in Python because it depends on the values of the arguments input['age'] and input['metallicity'].\nSee https://jax.readthedocs.io/en/latest/errors.html#jax.errors.TracerBoolConversionError"
     ]
    }
   ],
   "source": [
    "from rubix.core.pipeline import RubixPipeline \n",
    "import os\n",
    "config = {\n",
    "    \"pipeline\":{\"name\": \"calc_ifu\"},\n",
    "    \n",
    "    \"logger\": {\n",
    "        \"log_level\": \"DEBUG\",\n",
    "        \"log_file_path\": None,\n",
    "        \"format\": \"%(asctime)s - %(name)s - %(levelname)s - %(message)s\",\n",
    "    },\n",
    "    \"data\": {\n",
    "        \"name\": \"IllustrisAPI\",\n",
    "        \"args\": {\n",
    "            \"api_key\": os.environ.get(\"ILLUSTRIS_API_KEY\"),\n",
    "            \"particle_type\": [\"stars\"],\n",
    "            \"simulation\": \"TNG50-1\",\n",
    "            \"snapshot\": 99,\n",
    "            \"save_data_path\": \"data\",\n",
    "        },\n",
    "        \n",
    "        \"load_galaxy_args\": {\n",
    "        \"id\": 14,\n",
    "        \"reuse\": True,\n",
    "        },\n",
    "        \n",
    "        \"subset\": {\n",
    "            \"use_subset\": True,\n",
    "            \"subset_size\": 5000,\n",
    "        },\n",
    "    },\n",
    "    \"simulation\": {\n",
    "        \"name\": \"IllustrisTNG\",\n",
    "        \"args\": {\n",
    "            \"path\": \"data/galaxy-id-14.hdf5\",\n",
    "        },\n",
    "    \n",
    "    },\n",
    "    \"output_path\": \"output\",\n",
    "\n",
    "    \"telescope\":\n",
    "        {\"name\": \"MUSE\"},\n",
    "    \"cosmology\":\n",
    "        {\"name\": \"PLANCK15\"},\n",
    "        \n",
    "    \"galaxy\":\n",
    "        {\"dist_z\": 0.1},\n",
    "        \n",
    "    \"ssp\": {\n",
    "        \"template\": {\n",
    "            \"name\": \"BruzualCharlot2003\"\n",
    "        },\n",
    "    },        \n",
    "}\n",
    "\n",
    "pipe = RubixPipeline(config)\n",
    "\n",
    "data= pipe.run()"
   ]
  },
  {
   "cell_type": "code",
   "execution_count": 9,
   "metadata": {},
   "outputs": [
    {
     "name": "stderr",
     "output_type": "stream",
     "text": [
      "2024-05-20 16:11:54,868 - rubix - DEBUG - Method not defined, using default method: cubic\n"
     ]
    },
    {
     "name": "stdout",
     "output_type": "stream",
     "text": [
      "Partial(<PjitFunction of <function interp2d at 0x74b3cc95f240>>, method='cubic', x=Array([1.e-04, 4.e-04, 4.e-03, 8.e-03, 2.e-02, 5.e-02], dtype=float32), y=Array([ 0.       ,  5.100002 ,  5.1500006,  5.1999993,  5.25     ,\n",
      "        5.3000016,  5.350002 ,  5.4000006,  5.4500012,  5.500002 ,\n",
      "        5.550002 ,  5.600002 ,  5.6500025,  5.700002 ,  5.750002 ,\n",
      "        5.8000026,  5.850003 ,  5.900003 ,  5.950003 ,  6.       ,\n",
      "        6.0200005,  6.040001 ,  6.0599985,  6.0799985,  6.100002 ,\n",
      "        6.120001 ,  6.1399984,  6.16     ,  6.18     ,  6.1999993,\n",
      "        6.2200007,  6.24     ,  6.2599998,  6.2799997,  6.2999997,\n",
      "        6.3199987,  6.3399997,  6.3600006,  6.3799996,  6.3999987,\n",
      "        6.4200006,  6.44     ,  6.4599996,  6.4799995,  6.499999 ,\n",
      "        6.52     ,  6.539999 ,  6.56     ,  6.5799994,  6.6      ,\n",
      "        6.6199994,  6.6399994,  6.66     ,  6.679999 ,  6.699999 ,\n",
      "        6.72     ,  6.7399993,  6.7599993,  6.7799997,  6.799999 ,\n",
      "        6.819999 ,  6.839999 ,  6.8599997,  6.879999 ,  6.899999 ,\n",
      "        6.919999 ,  6.939999 ,  6.959999 ,  6.9799986,  6.999999 ,\n",
      "        7.0200005,  7.040001 ,  7.0599985,  7.0799985,  7.099998 ,\n",
      "        7.119998 ,  7.1399984,  7.16     ,  7.18     ,  7.1999993,\n",
      "        7.2199984,  7.24     ,  7.2599998,  7.2799997,  7.2999997,\n",
      "        7.3199987,  7.3399997,  7.3599987,  7.3799996,  7.3999987,\n",
      "        7.4199986,  7.4399986,  7.462398 ,  7.4771214,  7.4913616,\n",
      "        7.50515  ,  7.518514 ,  7.531479 ,  7.544068 ,  7.5563025,\n",
      "        7.5682015,  7.5797834,  7.5910645,  7.60206  ,  7.628389 ,\n",
      "        7.6532125,  7.6766934,  7.69897  ,  7.7201595,  7.7403626,\n",
      "        7.7565446,  7.806545 ,  7.8565454,  7.906545 ,  7.9565454,\n",
      "        8.006543 ,  8.056546 ,  8.1065445,  8.156547 ,  8.206545 ,\n",
      "        8.256547 ,  8.306547 ,  8.356546 ,  8.406547 ,  8.456547 ,\n",
      "        8.506547 ,  8.556547 ,  8.606546 ,  8.656548 ,  8.706548 ,\n",
      "        8.756548 ,  8.806548 ,  8.856548 ,  8.9065485,  8.956549 ,\n",
      "        9.006547 ,  9.05655  ,  9.106548 ,  9.156549 ,  9.206551 ,\n",
      "        9.225309 ,  9.230449 ,  9.255273 ,  9.278753 ,  9.30103  ,\n",
      "        9.322219 ,  9.3424225,  9.361728 ,  9.380211 ,  9.39794  ,\n",
      "        9.414973 ,  9.439333 ,  9.477121 ,  9.511884 ,  9.544068 ,\n",
      "        9.574031 ,  9.60206  ,  9.628389 ,  9.653213 ,  9.676694 ,\n",
      "        9.69897  ,  9.72016  ,  9.740363 ,  9.759667 ,  9.7781515,\n",
      "        9.79588  ,  9.812913 ,  9.829304 ,  9.8450985,  9.860338 ,\n",
      "        9.875061 ,  9.889301 ,  9.90309  ,  9.916454 ,  9.929419 ,\n",
      "        9.942008 ,  9.954243 ,  9.966142 ,  9.977724 ,  9.989004 ,\n",
      "       10.       , 10.010724 , 10.02119  , 10.031408 , 10.041392 ,\n",
      "       10.051152 , 10.060698 , 10.070038 , 10.079182 , 10.088136 ,\n",
      "       10.09691  , 10.10551  , 10.113943 , 10.122216 , 10.130334 ,\n",
      "       10.138303 , 10.146128 , 10.153815 , 10.161368 , 10.168792 ,\n",
      "       10.176091 , 10.1832695, 10.190331 , 10.197281 , 10.20412  ,\n",
      "       10.210854 , 10.2174835, 10.224015 , 10.230449 , 10.236789 ,\n",
      "       10.243038 , 10.249198 , 10.255273 , 10.261263 , 10.267172 ,\n",
      "       10.273002 , 10.278753 , 10.2844305, 10.290034 , 10.2955675,\n",
      "       10.30103  ], dtype=float32), f=Array([[[9.08833684e-08, 1.93420703e-07, 3.10973348e-07, ...,\n",
      "         1.92249590e-05, 1.88633931e-05, 1.85086974e-05],\n",
      "        [9.08833684e-08, 1.93420703e-07, 3.10973348e-07, ...,\n",
      "         1.92249590e-05, 1.88633931e-05, 1.85086974e-05],\n",
      "        [9.08833684e-08, 1.93420703e-07, 3.10973348e-07, ...,\n",
      "         1.92249590e-05, 1.88633931e-05, 1.85086974e-05],\n",
      "        ...,\n",
      "        [5.92562333e-10, 8.93100538e-10, 1.15493171e-09, ...,\n",
      "         2.39835890e-06, 2.35784546e-06, 2.32140042e-06],\n",
      "        [5.92806859e-10, 8.92882435e-10, 1.15413190e-09, ...,\n",
      "         2.37455151e-06, 2.33498645e-06, 2.29807620e-06],\n",
      "        [5.95643035e-10, 8.97048713e-10, 1.15942633e-09, ...,\n",
      "         2.35168159e-06, 2.31248464e-06, 2.27596547e-06]],\n",
      "\n",
      "       [[2.11160405e-08, 4.68378190e-08, 7.72740307e-08, ...,\n",
      "         2.08794318e-05, 2.04886637e-05, 2.01090988e-05],\n",
      "        [2.11160405e-08, 4.68378190e-08, 7.72740307e-08, ...,\n",
      "         2.08794318e-05, 2.04886637e-05, 2.01090988e-05],\n",
      "        [2.11160405e-08, 4.68378190e-08, 7.72740307e-08, ...,\n",
      "         2.08794318e-05, 2.04886637e-05, 2.01090988e-05],\n",
      "        ...,\n",
      "        [5.63963209e-10, 8.50090109e-10, 1.09938125e-09, ...,\n",
      "         2.57541342e-06, 2.53532630e-06, 2.49656500e-06],\n",
      "        [5.59437219e-10, 8.43146331e-10, 1.09030318e-09, ...,\n",
      "         2.55510099e-06, 2.51477172e-06, 2.47722096e-06],\n",
      "        [5.78517234e-10, 8.71934414e-10, 1.12751075e-09, ...,\n",
      "         2.53303801e-06, 2.49305162e-06, 2.45587876e-06]],\n",
      "\n",
      "       [[1.11427291e-10, 2.75856810e-10, 4.93186603e-10, ...,\n",
      "         3.00550819e-05, 2.95078007e-05, 2.89541367e-05],\n",
      "        [1.11427291e-10, 2.75856810e-10, 4.93186603e-10, ...,\n",
      "         3.00550819e-05, 2.95078007e-05, 2.89541367e-05],\n",
      "        [1.11427291e-10, 2.75856810e-10, 4.93186603e-10, ...,\n",
      "         3.00550819e-05, 2.95078007e-05, 2.89541367e-05],\n",
      "        ...,\n",
      "        [1.51815840e-08, 1.92815222e-08, 2.29955877e-08, ...,\n",
      "         3.14909880e-06, 3.10474729e-06, 3.06152378e-06],\n",
      "        [1.55623212e-08, 1.97692778e-08, 2.35827819e-08, ...,\n",
      "         3.12075917e-06, 3.07683240e-06, 3.03407387e-06],\n",
      "        [1.56620601e-08, 1.98958627e-08, 2.37337012e-08, ...,\n",
      "         3.10205382e-06, 3.05840922e-06, 3.01598016e-06]],\n",
      "\n",
      "       [[6.33916183e-11, 1.56637481e-10, 2.80225038e-10, ...,\n",
      "         3.40314473e-05, 3.34144715e-05, 3.28001406e-05],\n",
      "        [6.33916183e-11, 1.56637481e-10, 2.80225038e-10, ...,\n",
      "         3.40314473e-05, 3.34144715e-05, 3.28001406e-05],\n",
      "        [6.33916183e-11, 1.56637481e-10, 2.80225038e-10, ...,\n",
      "         3.40314473e-05, 3.34144715e-05, 3.28001406e-05],\n",
      "        ...,\n",
      "        [1.13446195e-08, 1.44345762e-08, 1.72374950e-08, ...,\n",
      "         3.58108127e-06, 3.53232667e-06, 3.49160928e-06],\n",
      "        [1.14191590e-08, 1.45293875e-08, 1.73506933e-08, ...,\n",
      "         3.54622898e-06, 3.49792595e-06, 3.45767330e-06],\n",
      "        [1.14927898e-08, 1.46229295e-08, 1.74622912e-08, ...,\n",
      "         3.51071185e-06, 3.46286311e-06, 3.42306453e-06]],\n",
      "\n",
      "       [[1.03717389e-14, 2.60376945e-14, 6.23507932e-14, ...,\n",
      "         4.28130661e-05, 4.20417018e-05, 4.12843074e-05],\n",
      "        [1.03717389e-14, 2.60376945e-14, 6.23507932e-14, ...,\n",
      "         4.28130661e-05, 4.20417018e-05, 4.12843074e-05],\n",
      "        [1.03717389e-14, 2.60376945e-14, 6.23507932e-14, ...,\n",
      "         4.28130661e-05, 4.20417018e-05, 4.12843074e-05],\n",
      "        ...,\n",
      "        [2.74051143e-10, 4.33427960e-10, 5.86995785e-10, ...,\n",
      "         3.62579908e-06, 3.56578244e-06, 3.53157429e-06],\n",
      "        [2.80006740e-10, 4.42861414e-10, 5.99826022e-10, ...,\n",
      "         3.59876890e-06, 3.53911469e-06, 3.50530217e-06],\n",
      "        [2.81731083e-10, 4.45578630e-10, 6.03499362e-10, ...,\n",
      "         3.57047224e-06, 3.51121457e-06, 3.47779246e-06]],\n",
      "\n",
      "       [[2.64753693e-18, 8.02830980e-18, 2.30857457e-17, ...,\n",
      "         5.49388205e-05, 5.39541179e-05, 5.29583958e-05],\n",
      "        [2.64753693e-18, 8.02830980e-18, 2.30857457e-17, ...,\n",
      "         5.49388205e-05, 5.39541179e-05, 5.29583958e-05],\n",
      "        [2.69226858e-18, 8.17344360e-18, 2.35313512e-17, ...,\n",
      "         5.90876080e-05, 5.80271771e-05, 5.69552649e-05],\n",
      "        ...,\n",
      "        [2.86055124e-10, 4.52389348e-10, 6.12669249e-10, ...,\n",
      "         3.57395697e-06, 3.51914946e-06, 3.49452603e-06],\n",
      "        [2.92348756e-10, 4.62365729e-10, 6.26242114e-10, ...,\n",
      "         3.54419944e-06, 3.48981166e-06, 3.46525371e-06],\n",
      "        [2.94150426e-10, 4.65220779e-10, 6.30102970e-10, ...,\n",
      "         3.51500717e-06, 3.46103275e-06, 3.43656484e-06]]], dtype=float32), extrap=0)\n",
      "[0.04939644 0.00570401 0.02391632 ... 0.00249604 0.03057872 0.02657328]\n",
      "[10.15793272  9.98624174  9.44847396 ... 12.01613657  6.95980435\n",
      "  9.94907104]\n"
     ]
    },
    {
     "data": {
      "text/plain": [
       "Array(False, dtype=bool)"
      ]
     },
     "execution_count": 9,
     "metadata": {},
     "output_type": "execute_result"
    }
   ],
   "source": [
    "from rubix.core.ssp import get_lookup\n",
    "import jax.numpy as jnp\n",
    "\n",
    "lookup = get_lookup(config)\n",
    "print(lookup)\n",
    "\n",
    "metallicity = pipe.data[\"metallicity\"]\n",
    "print(metallicity)\n",
    "age = pipe.data[\"age\"]\n",
    "print(age)\n",
    "\n",
    "spec = lookup(metallicity,age)\n",
    "\n",
    "jnp.isnan(spec).any()"
   ]
  },
  {
   "cell_type": "code",
   "execution_count": 6,
   "metadata": {},
   "outputs": [
    {
     "name": "stdout",
     "output_type": "stream",
     "text": [
      "[0.04939644 0.00570401 0.02391632 ... 0.00249604 0.03057872 0.02657328]\n",
      "[10.15793272  9.98624174  9.44847396 ... 12.01613657  6.95980435\n",
      "  9.94907104]\n"
     ]
    },
    {
     "ename": "AttributeError",
     "evalue": "'jaxlib.xla_extension.ArrayImpl' object has no attribute 'is_nan'",
     "output_type": "error",
     "traceback": [
      "\u001b[0;31m---------------------------------------------------------------------------\u001b[0m",
      "\u001b[0;31mAttributeError\u001b[0m                            Traceback (most recent call last)",
      "Cell \u001b[0;32mIn[6], line 7\u001b[0m\n\u001b[1;32m      3\u001b[0m age \u001b[38;5;241m=\u001b[39m pipe\u001b[38;5;241m.\u001b[39mdata[\u001b[38;5;124m\"\u001b[39m\u001b[38;5;124mage\u001b[39m\u001b[38;5;124m\"\u001b[39m]\n\u001b[1;32m      4\u001b[0m \u001b[38;5;28mprint\u001b[39m(age)\n\u001b[0;32m----> 7\u001b[0m \u001b[43mlookup\u001b[49m\u001b[43m(\u001b[49m\u001b[43mmetallicity\u001b[49m\u001b[43m,\u001b[49m\u001b[43mage\u001b[49m\u001b[43m)\u001b[49m\u001b[38;5;241;43m.\u001b[39;49m\u001b[43mis_nan\u001b[49m()\n",
      "\u001b[0;31mAttributeError\u001b[0m: 'jaxlib.xla_extension.ArrayImpl' object has no attribute 'is_nan'"
     ]
    }
   ],
   "source": []
  },
  {
   "cell_type": "code",
   "execution_count": 2,
   "metadata": {},
   "outputs": [
    {
     "name": "stdout",
     "output_type": "stream",
     "text": [
      "(1, 5000, 3721)\n"
     ]
    },
    {
     "data": {
      "text/plain": [
       "[<matplotlib.lines.Line2D at 0x781d7b377690>]"
      ]
     },
     "execution_count": 2,
     "metadata": {},
     "output_type": "execute_result"
    },
    {
     "data": {
      "image/png": "[encoded data removed]",
      "text/plain": [
       "<Figure size 640x480 with 1 Axes>"
      ]
     },
     "metadata": {},
     "output_type": "display_data"
    }
   ],
   "source": [
    "import matplotlib.pyplot as plt\n",
    "wave = pipe.telescope.wave_seq\n",
    "spectra = data[\"spectra\"] # Spectra of all stars\n",
    "print(spectra.shape)\n",
    "\n",
    "plt.plot(wave, spectra[0,3]) \n"
   ]
  },
  {
   "cell_type": "markdown",
   "metadata": {},
   "source": [
    "Some of the spectra may be zero, this happens if the metallicity or age values are outside the range of the SSP model. This is currently the expected behavior"
   ]
  },
  {
   "cell_type": "code",
   "execution_count": 5,
   "metadata": {},
   "outputs": [
    {
     "data": {
      "text/plain": [
       "(25, 25, 3721)"
      ]
     },
     "execution_count": 5,
     "metadata": {},
     "output_type": "execute_result"
    }
   ],
   "source": [
    "import jax \n",
    "import jax.numpy as jnp\n",
    "# Create a function to calculate a single IFU cube\n",
    "def calculate_ifu_cube(stars_spectra, pixel_indices):\n",
    "    # Create an IFU cube of shape (25*25, 842)\n",
    "    #ifu_cube = jnp.zeros((25 * 25, 842))\n",
    "    \n",
    "    # Use jax.ops.segment_sum to sum the spectra into the IFU cube based on pixel indices\n",
    "    ifu_cube = jax.ops.segment_sum(stars_spectra, pixel_indices, num_segments=25*25)\n",
    "    \n",
    "    # Reshape the IFU cube to the desired shape (25, 25, 842)\n",
    "    ifu_cube = ifu_cube.reshape((25, 25, 3721))\n",
    "    \n",
    "    return ifu_cube\n",
    "\n",
    "spectra = data[\"spectra\"]\n",
    "assignments = data[\"pixel_assignment\"]\n",
    "\n",
    "# Calculate 4 individual IFU cubes\n",
    "ifu_cubes = jax.vmap(calculate_ifu_cube)(spectra, assignments)\n",
    "\n",
    "# Sum the 4 IFU cubes\n",
    "final_ifu_cube = jnp.sum(ifu_cubes, axis=0)\n",
    "final_ifu_cube.shape"
   ]
  },
  {
   "cell_type": "code",
   "execution_count": 6,
   "metadata": {},
   "outputs": [],
   "source": [
    "\n",
    "wavelengths = pipe.telescope.wave_seq\n",
    "\n",
    "# get the indices of the visible wavelengths of 4000-8000 Angstroms\n",
    "\n",
    "visible_indices = jnp.where((wavelengths >= 4000) & (wavelengths <= 8000))\n",
    "\n"
   ]
  },
  {
   "cell_type": "code",
   "execution_count": 9,
   "metadata": {},
   "outputs": [
    {
     "data": {
      "text/plain": [
       "Array([4700.15, 4701.4 , 4702.65, ..., 9347.65, 9348.9 , 9350.15],      dtype=float32)"
      ]
     },
     "execution_count": 9,
     "metadata": {},
     "output_type": "execute_result"
    }
   ],
   "source": [
    "wavelengths"
   ]
  },
  {
   "cell_type": "code",
   "execution_count": 21,
   "metadata": {},
   "outputs": [
    {
     "data": {
      "text/plain": [
       "Array([nan, nan, nan, ..., nan, nan, nan], dtype=float32)"
      ]
     },
     "execution_count": 21,
     "metadata": {},
     "output_type": "execute_result"
    }
   ],
   "source": [
    "spectra[0,7]"
   ]
  },
  {
   "cell_type": "code",
   "execution_count": 7,
   "metadata": {},
   "outputs": [
    {
     "data": {
      "image/png": "[encoded data removed]",
      "text/plain": [
       "<Figure size 640x480 with 1 Axes>"
      ]
     },
     "metadata": {},
     "output_type": "display_data"
    }
   ],
   "source": [
    "# plot example spectrum\n",
    "import matplotlib.pyplot as plt\n",
    "\n",
    "spec = final_ifu_cube[12, 12]\n",
    "\n",
    "plt.plot(wavelengths[visible_indices], spec[visible_indices])\n",
    "plt.yscale(\"log\")"
   ]
  },
  {
   "cell_type": "code",
   "execution_count": null,
   "metadata": {},
   "outputs": [
    {
     "data": {
      "text/plain": [
       "[<matplotlib.lines.Line2D at 0x71e7cc187c50>]"
      ]
     },
     "execution_count": 24,
     "metadata": {},
     "output_type": "execute_result"
    },
    {
     "data": {
      "image/png": "[encoded data removed]",
      "text/plain": [
       "<Figure size 640x480 with 1 Axes>"
      ]
     },
     "metadata": {},
     "output_type": "display_data"
    }
   ],
   "source": [
    "plt.plot(wavelengths,ssp.flux[0,0])"
   ]
  },
  {
   "cell_type": "code",
   "execution_count": null,
   "metadata": {},
   "outputs": [
    {
     "data": {
      "text/plain": [
       "(200,)"
      ]
     },
     "execution_count": 13,
     "metadata": {},
     "output_type": "execute_result"
    }
   ],
   "source": [
    "visible_indices[0].shape"
   ]
  },
  {
   "cell_type": "code",
   "execution_count": null,
   "metadata": {},
   "outputs": [
    {
     "data": {
      "text/plain": [
       "(25, 25, 200)"
      ]
     },
     "execution_count": 17,
     "metadata": {},
     "output_type": "execute_result"
    }
   ],
   "source": [
    "# get the spectra of the visible wavelengths from the ifu cube\n",
    "visible_spectra = final_ifu_cube[:, :, visible_indices[0]]\n",
    "visible_spectra.shape"
   ]
  },
  {
   "cell_type": "code",
   "execution_count": null,
   "metadata": {},
   "outputs": [
    {
     "data": {
      "text/plain": [
       "<matplotlib.image.AxesImage at 0x71e7dff437d0>"
      ]
     },
     "execution_count": 18,
     "metadata": {},
     "output_type": "execute_result"
    },
    {
     "data": {
      "image/png": "[encoded data removed]",
      "text/plain": [
       "<Figure size 640x480 with 1 Axes>"
      ]
     },
     "metadata": {},
     "output_type": "display_data"
    }
   ],
   "source": [
    "# Sum up all spectra to create an image\n",
    "image = jnp.sum(visible_spectra, axis = 2)\n",
    "image = jnp.log10(image + 1)\n",
    "plt.imshow(image, origin=\"lower\", cmap=\"inferno\")"
   ]
  }
 ],
 "metadata": {
  "kernelspec": {
   "display_name": "rubix",
   "language": "python",
   "name": "python3"
  },
  "language_info": {
   "codemirror_mode": {
    "name": "ipython",
    "version": 3
   },
   "file_extension": ".py",
   "mimetype": "text/x-python",
   "name": "python",
   "nbconvert_exporter": "python",
   "pygments_lexer": "ipython3",
   "version": "3.11.8"
  }
 },
 "nbformat": 4,
 "nbformat_minor": 2
}
