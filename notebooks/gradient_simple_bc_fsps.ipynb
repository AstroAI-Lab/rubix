{
 "cells": [
  {
   "cell_type": "code",
   "execution_count": null,
   "metadata": {},
   "outputs": [],
   "source": [
    "import os\n",
    "os.environ['SPS_HOME'] = '/home/annalena/sps_fsps'"
   ]
  },
  {
   "cell_type": "markdown",
   "metadata": {},
   "source": [
    "# Load the ssp template from FSPS"
   ]
  },
  {
   "cell_type": "code",
   "execution_count": null,
   "metadata": {},
   "outputs": [],
   "source": [
    "from rubix.spectra.ssp.factory import get_ssp_template\n",
    "ssp_fsps = get_ssp_template(\"FSPS\")"
   ]
  },
  {
   "cell_type": "code",
   "execution_count": null,
   "metadata": {},
   "outputs": [],
   "source": [
    "age_values = ssp_fsps.age\n",
    "print(age_values)\n",
    "\n",
    "metallicity_values = ssp_fsps.metallicity\n",
    "print(metallicity_values)"
   ]
  },
  {
   "cell_type": "code",
   "execution_count": null,
   "metadata": {},
   "outputs": [],
   "source": [
    "index=1\n",
    "age_index = 100"
   ]
  },
  {
   "cell_type": "markdown",
   "metadata": {},
   "source": [
    "# Configure pipeline"
   ]
  },
  {
   "cell_type": "code",
   "execution_count": null,
   "metadata": {},
   "outputs": [],
   "source": [
    "from rubix.core.pipeline import RubixPipeline\n",
    "# Suppose you already have a user_config or path to config\n",
    "#config = \"../rubix/config/pipeline_config.yaml\"\n",
    "import os\n",
    "config = {\n",
    "    \"pipeline\":{\"name\": \"calc_gradient\"},\n",
    "    \n",
    "    \"logger\": {\n",
    "        \"log_level\": \"DEBUG\",\n",
    "        \"log_file_path\": None,\n",
    "        \"format\": \"%(asctime)s - %(name)s - %(levelname)s - %(message)s\",\n",
    "    },\n",
    "    \"data\": {\n",
    "        \"name\": \"IllustrisAPI\",\n",
    "        \"args\": {\n",
    "            \"api_key\": os.environ.get(\"ILLUSTRIS_API_KEY\"),\n",
    "            \"particle_type\": [\"stars\"],\n",
    "            \"simulation\": \"TNG50-1\",\n",
    "            \"snapshot\": 99,\n",
    "            \"save_data_path\": \"data\",\n",
    "        },\n",
    "        \n",
    "        \"load_galaxy_args\": {\n",
    "        \"id\": 14,\n",
    "        \"reuse\": True,\n",
    "        },\n",
    "        \n",
    "        \"subset\": {\n",
    "            \"use_subset\": True,\n",
    "            \"subset_size\": 2,\n",
    "        },\n",
    "    },\n",
    "    \"simulation\": {\n",
    "        \"name\": \"IllustrisTNG\",\n",
    "        \"args\": {\n",
    "            \"path\": \"data/galaxy-id-14.hdf5\",\n",
    "        },\n",
    "    \n",
    "    },\n",
    "    \"output_path\": \"output\",\n",
    "    \"output_modified\":  False,\n",
    "\n",
    "    \"telescope\":\n",
    "        {\"name\": \"TESTGRADIENT\",\n",
    "         \"psf\": {\"name\": \"gaussian\", \"size\": 5, \"sigma\": 0.6},\n",
    "         \"lsf\": {\"sigma\": 0.5},\n",
    "         \"noise\": {\"signal_to_noise\": 1,\"noise_distribution\": \"normal\"},\n",
    "         },\n",
    "    \"cosmology\":\n",
    "        {\"name\": \"PLANCK15\"},\n",
    "        \n",
    "    \"galaxy\":\n",
    "        {\"dist_z\": 0.1,\n",
    "         \"rotation\": {\"type\": \"edge-on\"},\n",
    "        },\n",
    "        \n",
    "    \"ssp\": {\n",
    "        \"template\": {\n",
    "            \"name\": \"FSPS\"\n",
    "        },\n",
    "    },        \n",
    "}\n",
    "pipe = RubixPipeline(config)\n",
    "rubixdata = pipe.run()"
   ]
  },
  {
   "cell_type": "markdown",
   "metadata": {},
   "source": [
    "# Set target values"
   ]
  },
  {
   "cell_type": "code",
   "execution_count": null,
   "metadata": {},
   "outputs": [],
   "source": [
    "import jax.numpy as jnp\n",
    "\n",
    "rubixdata.stars.age = jnp.array([age_values[age_index], age_values[age_index]])\n",
    "rubixdata.stars.metallicity = jnp.array([metallicity_values[index], metallicity_values[index]])\n",
    "rubixdata.stars.mass = jnp.array([[1.0, 1.0]])\n",
    "rubixdata.stars.velocity = jnp.array([[0.0, 0.0, 0.0], [0.0, 0.0, 0.0]])"
   ]
  },
  {
   "cell_type": "code",
   "execution_count": null,
   "metadata": {},
   "outputs": [],
   "source": [
    "from rubix.core.pipeline_gradient import RubixPipeline\n",
    "# Suppose you already have a user_config or path to config\n",
    "#config = \"../rubix/config/pipeline_config.yaml\"\n",
    "import os\n",
    "config = {\n",
    "    \"pipeline\":{\"name\": \"calc_gradient\"},\n",
    "    \n",
    "    \"logger\": {\n",
    "        \"log_level\": \"DEBUG\",\n",
    "        \"log_file_path\": None,\n",
    "        \"format\": \"%(asctime)s - %(name)s - %(levelname)s - %(message)s\",\n",
    "    },\n",
    "     \"data\": {\n",
    "        \"args\": {\n",
    "            \"particle_type\": [\"stars\"],\n",
    "        },\n",
    "    },\n",
    "    \n",
    "    \"output_path\": \"output\",\n",
    "    #\"output_modified\":  False,\n",
    "\n",
    "    \"telescope\":\n",
    "        {\"name\": \"TESTGRADIENT\",\n",
    "         \"psf\": {\"name\": \"gaussian\", \"size\": 5, \"sigma\": 0.6},\n",
    "         \"lsf\": {\"sigma\": 0.5},\n",
    "         \"noise\": {\"signal_to_noise\": 1,\"noise_distribution\": \"normal\"},\n",
    "         },\n",
    "    \"cosmology\":\n",
    "        {\"name\": \"PLANCK15\"},\n",
    "        \n",
    "    \"galaxy\":\n",
    "        {\"dist_z\": 0.1,\n",
    "         \"rotation\": {\"type\": \"edge-on\"},\n",
    "        },\n",
    "        \n",
    "    \"ssp\": {\n",
    "        \"template\": {\n",
    "            \"name\": \"FSPS\"\n",
    "        },\n",
    "    },        \n",
    "}\n",
    "pipe = RubixPipeline(config)\n",
    "rubixdata = pipe.run(rubixdata)\n",
    "\n",
    "target = rubixdata"
   ]
  },
  {
   "cell_type": "markdown",
   "metadata": {},
   "source": [
    "# Calculate the gradient for the grid values"
   ]
  },
  {
   "cell_type": "code",
   "execution_count": null,
   "metadata": {},
   "outputs": [],
   "source": [
    "import jax\n",
    "import jax.numpy as jnp\n",
    "import numpy as np\n",
    "\n",
    "# Initialize the pipeline\n",
    "pipe = RubixPipeline(config)\n",
    "\n",
    "# Prepare the data structure to store results\n",
    "results = []\n",
    "\n",
    "# Iterate over the age values from 1.0 to 10.3 in 0.1 steps\n",
    "for metallicity in metallicity_values:\n",
    "    metallicity_test = jnp.array([[metallicity, metallicity]])\n",
    "    #print(metallicity_test)\n",
    "    loss = pipe.loss_only_wrt_metallicity(metallicity_test, rubixdata, target)\n",
    "    grad_stars_metallicity = jax.grad(pipe.loss_only_wrt_metallicity, argnums=0)(metallicity_test, rubixdata, target)\n",
    "    results.append((metallicity_test, loss, grad_stars_metallicity))"
   ]
  },
  {
   "cell_type": "code",
   "execution_count": null,
   "metadata": {},
   "outputs": [],
   "source": [
    "# Save the results to a file\n",
    "with open(f'./output/loss_grid_fsps/gradient_age{age_index}_metallsvarying{index}.txt', 'w') as f:\n",
    "    for age, loss, grad in results:\n",
    "        f.write(f\"Metallicity: {age}, Loss: {loss}, Gradient: {grad}\\n\")"
   ]
  },
  {
   "cell_type": "code",
   "execution_count": null,
   "metadata": {},
   "outputs": [],
   "source": [
    "metallicity = [result[0] for result in results]\n",
    "losses = [result[1] for result in results]\n",
    "gradients = [result[2] for result in results]\n",
    "\n",
    "metallicity = jnp.array(metallicity)\n",
    "losses = jnp.array(losses)\n",
    "gradients = jnp.array(gradients)\n",
    "\n",
    "print(metallicity[:, :, 0])\n",
    "print(losses.shape)\n",
    "print(gradients[:, :, 0])"
   ]
  },
  {
   "cell_type": "code",
   "execution_count": null,
   "metadata": {},
   "outputs": [],
   "source": [
    "import matplotlib.pyplot as plt\n",
    "\n",
    "metallicity = [result[0] for result in results]\n",
    "losses = [result[1] for result in results]\n",
    "gradients = [result[2] for result in results]\n",
    "\n",
    "metallicity = jnp.array(metallicity)\n",
    "losses = jnp.array(losses)\n",
    "gradients = jnp.array(gradients)\n",
    "\n",
    "#print(losses)\n",
    "#print(gradients)\n",
    "\n",
    "# Plot the gradient versus age\n",
    "plt.figure(figsize=(10, 6))\n",
    "plt.plot(metallicity[:,:, 0], gradients[:, :, 0], label='Gradient wrt metallicity')\n",
    "plt.plot(metallicity[:, :, 0], losses, label='loss wrt metallicity')\n",
    "plt.vlines(metallicity_values[5], -50, 50, colors='r', linestyles='dashed', label='True metallicity')\n",
    "plt.xlabel('Metallicity')\n",
    "plt.ylabel('Gradient')\n",
    "plt.title('Gradient vs Metallicity')\n",
    "plt.legend()\n",
    "plt.grid(True)\n",
    "#plt.ylim(-1e-2,1e-2)\n",
    "#plt.ylim(-60,10)\n",
    "#plt.xscale('log')\n",
    "#plt.savefig('./output/loss/gradient_wrt_metallicity_grid_bc.png')\n",
    "plt.show()\n",
    "plt.close()"
   ]
  },
  {
   "cell_type": "code",
   "execution_count": null,
   "metadata": {},
   "outputs": [],
   "source": [
    "import matplotlib.pyplot as plt\n",
    "import jax.numpy as jnp\n",
    "\n",
    "metallicity = [result[0] for result in results]\n",
    "losses = [result[1] for result in results]\n",
    "gradients = [result[2] for result in results]\n",
    "\n",
    "metallicity = jnp.array(metallicity)\n",
    "losses = jnp.array(losses)\n",
    "gradients = jnp.array(gradients)\n",
    "print(metallicity[:, :, 0])\n",
    "print(gradients[:, :, 0])\n",
    "print(losses)\n",
    "\n",
    "# Create a figure with two subplots side by side\n",
    "fig, (ax1, ax2) = plt.subplots(1, 2, figsize=(20, 6))\n",
    "\n",
    "# Plot the gradient versus metallicity in the first subplot with crosses at data points\n",
    "ax1.plot(metallicity[:, :, 0], gradients[:, :, 0], label='Gradient wrt metallicity', marker='x')\n",
    "ax1.vlines(metallicity_values[index], -50, 50, colors='r', linestyles='dashed', label='True metallicity')\n",
    "ax1.set_xlabel('Metallicity')\n",
    "ax1.set_ylabel('Gradient')\n",
    "ax1.set_title('Gradient vs Metallicity')\n",
    "ax1.set_ylim(-1e-3, 2e-4)\n",
    "ax1.legend()\n",
    "ax1.grid(True)\n",
    "\n",
    "# Plot the loss versus metallicity in the second subplot with crosses at data points\n",
    "ax2.plot(metallicity[:, :, 0], losses, label='Loss wrt metallicity', marker='x')\n",
    "ax2.vlines(metallicity_values[index], -50, 50, colors='r', linestyles='dashed', label='True metallicity')\n",
    "ax2.set_xlabel('Metallicity')\n",
    "ax2.set_ylabel('Loss')\n",
    "ax2.set_title('Loss vs Metallicity')\n",
    "ax2.set_ylim(-2e-7, 2e-6)\n",
    "ax2.legend()\n",
    "ax2.grid(True)\n",
    "\n",
    "# Save the figure\n",
    "#plt.savefig('./output/loss/gradient_and_loss_wrt_metallicity_grid_bc.png')\n",
    "plt.show()\n",
    "plt.close()"
   ]
  }
 ],
 "metadata": {
  "kernelspec": {
   "display_name": "rubix",
   "language": "python",
   "name": "python3"
  },
  "language_info": {
   "codemirror_mode": {
    "name": "ipython",
    "version": 3
   },
   "file_extension": ".py",
   "mimetype": "text/x-python",
   "name": "python",
   "nbconvert_exporter": "python",
   "pygments_lexer": "ipython3",
   "version": "3.10.13"
  }
 },
 "nbformat": 4,
 "nbformat_minor": 2
}
