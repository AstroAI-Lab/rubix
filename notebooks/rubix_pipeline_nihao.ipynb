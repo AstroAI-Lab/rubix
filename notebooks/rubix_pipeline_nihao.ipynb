{
 "cells": [
  {
   "cell_type": "markdown",
   "metadata": {},
   "source": [
    "# RUBIX Pipeline for NIHAO\n",
    "\n",
    "The RUBIX pipeline has been extended to support any simulation that can be handled via pynbody. We showcase this with the example of an NIHAO galaxy. This notebook demonstrates how to use the pipeline to transform NIHAO data into mock IFU cubes. Similar to Illustris, the pipeline executes data transformation in a linear process.\n",
    "\n",
    "## How to Use the Pipeline\n",
    "1. Define a config\n",
    "2. Set up the pipeline yaml\n",
    "3. Run the RUBIX pipeline\n",
    "4. Analyze the mock data\n",
    "\n",
    "## Step 1: Configuration\n",
    "\n",
    "Below is an example configuration for running the pipeline with NIHAO data. Replace path and halo_path with the paths to your NIHAO snapshot and halo files. This configuration supports quick testing by using only a subset of the data (1000 particles).\n"
   ]
  },
  {
   "cell_type": "code",
   "execution_count": null,
   "metadata": {},
   "outputs": [],
   "source": [
    "#NBVAL_SKIP\n",
    "config = {\n",
    "    \"pipeline\": {\"name\": \"calc_ifu\"},\n",
    "    \n",
    "    \"logger\": {\n",
    "        \"log_level\": \"DEBUG\",\n",
    "        \"log_file_path\": None,\n",
    "        \"format\": \"%(asctime)s - %(name)s - %(levelname)s - %(message)s\",\n",
    "    },\n",
    "    \"data\": {\n",
    "        \"name\": \"NihaoHandler\",\n",
    "        \"args\": {\n",
    "            \"particle_type\": [\"stars\", \"gas\"],\n",
    "            \"save_data_path\": \"data\",\n",
    "        },\n",
    "        \"load_galaxy_args\": {\"reuse\": True},\n",
    "        \"subset\": {\"use_subset\": True, \"subset_size\": 1000},\n",
    "    },\n",
    "    \"simulation\": {\n",
    "        \"name\": \"NIHAO\",\n",
    "        \"args\": {\n",
    "            \"path\": \"/mnt/storage/_data/nihao/nihao_classic/g7.55e11/g7.55e11.01024\",\n",
    "            \"halo_path\": \"/mnt/storage/_data/nihao/nihao_classic/g7.55e11/g7.55e11.01024.z0.000.AHF_halos\",\n",
    "            #\"path\": \"/home/annalena/g7.55e11/snap_1024/output/7.55e11.01024\",\n",
    "            #\"halo_path\": \"/home/annalena/g7.55e11/snap_1024/output/7.55e11.01024.z0.000.AHF_halos\",\n",
    "            \"halo_id\": 0,\n",
    "        },\n",
    "    },\n",
    "    \"output_path\": \"output\",\n",
    "\n",
    "    \"telescope\": {\n",
    "        \"name\": \"MUSE\",\n",
    "        \"psf\": {\"name\": \"gaussian\", \"size\": 5, \"sigma\": 0.6},\n",
    "        \"lsf\": {\"sigma\": 0.5},\n",
    "        \"noise\": {\"signal_to_noise\": 1, \"noise_distribution\": \"normal\"},\n",
    "    },\n",
    "    \"cosmology\": {\"name\": \"PLANCK15\"},\n",
    "    \"galaxy\": {\n",
    "        \"dist_z\": 0.1,\n",
    "        \"rotation\": {\"type\": \"edge-on\"},\n",
    "    },\n",
    "    \"ssp\": {\n",
    "        \"template\": {\"name\": \"BruzualCharlot2003\"},\n",
    "    },\n",
    "}"
   ]
  },
  {
   "cell_type": "markdown",
   "metadata": {},
   "source": [
    "## Step 2: Pipeline YAML\n",
    "\n",
    "To run the RUBIX pipeline, you need a YAML file (stored in rubix/config/pipeline_config.yml) that defines which functions are used during the execution of the pipeline.\n",
    "\n",
    "## Step 3: Run the Pipeline\n",
    "\n",
    "Now, simply execute the pipeline with the following code.\n"
   ]
  },
  {
   "cell_type": "code",
   "execution_count": null,
   "metadata": {},
   "outputs": [],
   "source": [
    "#NBVAL_SKIP\n",
    "from rubix.core.pipeline import RubixPipeline\n",
    "pipe = RubixPipeline(config)\n",
    "\n",
    "rubixdata = pipe.run()"
   ]
  },
  {
   "cell_type": "markdown",
   "metadata": {},
   "source": [
    "## Step 4: Visualize the Mock Data\n",
    "### Plot a Spectrum for a Single Spaxel"
   ]
  },
  {
   "cell_type": "code",
   "execution_count": null,
   "metadata": {},
   "outputs": [],
   "source": [
    "#NBVAL_SKIP\n",
    "import jax.numpy as jnp\n",
    "import matplotlib.pyplot as plt\n",
    "\n",
    "wave = pipe.telescope.wave_seq\n",
    "spectra = rubixdata.stars.datacube\n",
    "\n",
    "plt.plot(wave, spectra[12, 12, :])\n",
    "plt.title(\"Spectrum of Spaxel [12, 12]\")\n",
    "plt.xlabel(\"Wavelength [Å]\")\n",
    "plt.ylabel(\"Flux\")\n",
    "plt.show()"
   ]
  },
  {
   "cell_type": "markdown",
   "metadata": {},
   "source": [
    "### Create a Spatial Image from the Data Cube"
   ]
  },
  {
   "cell_type": "code",
   "execution_count": null,
   "metadata": {},
   "outputs": [],
   "source": [
    "#NBVAL_SKIP\n",
    "visible_indices = jnp.where((wave >= 4000) & (wave <= 8000))\n",
    "\n",
    "visible_spectra = spectra[:, :, visible_indices[0]]\n",
    "image = jnp.sum(visible_spectra, axis=2)\n",
    "\n",
    "plt.imshow(image, origin=\"lower\", cmap=\"inferno\")\n",
    "plt.colorbar(label=\"Integrated Flux\")\n",
    "plt.title(\"Spatial Image from Data Cube\")\n",
    "plt.show()"
   ]
  },
  {
   "cell_type": "markdown",
   "metadata": {},
   "source": [
    "### Plotting the stellar age histogram"
   ]
  },
  {
   "cell_type": "code",
   "execution_count": null,
   "metadata": {},
   "outputs": [],
   "source": [
    "#NBVAL_SKIP\n",
    "from rubix.core.visualisation import stellar_age_histogram\n",
    "\n",
    "stellar_age_histogram('./output/rubix_galaxy.h5')"
   ]
  },
  {
   "cell_type": "markdown",
   "metadata": {},
   "source": [
    "# DONE!\n",
    "\n",
    "Congratulations, you have successfully processed NIHAO simulation data using the RUBIX pipeline."
   ]
  }
 ],
 "metadata": {
  "kernelspec": {
   "display_name": "rubix",
   "language": "python",
   "name": "python3"
  },
  "language_info": {
   "codemirror_mode": {
    "name": "ipython",
    "version": 3
   },
   "file_extension": ".py",
   "mimetype": "text/x-python",
   "name": "python",
   "nbconvert_exporter": "python",
   "pygments_lexer": "ipython3",
   "version": "3.10.13"
  }
 },
 "nbformat": 4,
 "nbformat_minor": 2
}
