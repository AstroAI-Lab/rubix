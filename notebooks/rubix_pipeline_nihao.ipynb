{
 "cells": [
  {
   "cell_type": "code",
   "execution_count": 1,
   "metadata": {},
   "outputs": [],
   "source": [
    "import sys\n",
    "import logging\n",
    "import numpy as np\n",
    "import matplotlib.pyplot as plt\n",
    "import jax.numpy as jnp\n",
    "#sys.path.insert(0, \"insert path\")\n",
    "\n",
    "from rubix.galaxy.input_handler.nihao import NihaoHandler\n",
    "from rubix.core.data import convert_to_rubix, prepare_input\n",
    "from rubix.core.telescope import get_spatial_bin_edges, get_spaxel_assignment\n",
    "from rubix.utils import SFTtoAge\n"
   ]
  },
  {
   "cell_type": "code",
   "execution_count": null,
   "metadata": {},
   "outputs": [],
   "source": [
    "handler = NihaoHandler(\n",
    "    #path='insert path to snapshot data',\n",
    "    #halo_path='insert path to halo data',\n",
    ")\n",
    "data = handler.get_data()"
   ]
  },
  {
   "cell_type": "code",
   "execution_count": 3,
   "metadata": {},
   "outputs": [],
   "source": [
    "# Beispiel-Konfiguration für Rubix\n",
    "config = {\n",
    "    \"logger\": {\n",
    "        \"log_level\": \"DEBUG\",\n",
    "        \"log_file_path\": None,\n",
    "        \"format\": \"%(asctime)s - %(name)s - %(levelname)s - %(message)s\",\n",
    "    },\n",
    "    \"data\": {\n",
    "        \"name\": \"NihaoHandler\",\n",
    "        \"args\": {\n",
    "            #\"path\": \"insert path to snapshot data\",\n",
    "            #\"halo_path\": \"insert path to halo data\",\n",
    "        },\n",
    "    },\n",
    "    \"simulation\": {\n",
    "        \"name\": \"NIHAO\",\n",
    "        \"args\": {\n",
    "            #\"path\": \"insert path to snapshot data\",\n",
    "            #\"halo_path\": \"insert path to halo data\",\n",
    "        },\n",
    "    },\n",
    "    \"output_path\": \"output\",\n",
    "    \"telescope\": {\n",
    "        \"name\": \"MUSE\",\n",
    "    },\n",
    "    \"cosmology\": {\n",
    "        \"name\": \"PLANCK15\",\n",
    "    },\n",
    "    \"galaxy\": {\n",
    "        \"dist_z\": 0.1,\n",
    "    }\n",
    "}"
   ]
  },
  {
   "cell_type": "code",
   "execution_count": null,
   "metadata": {},
   "outputs": [],
   "source": [
    "from rubix.core.data import convert_to_rubix, prepare_input\n",
    "convert_to_rubix(config) # Convert the config to rubix format and store in output_path folder\n",
    "coords, vel, metallicity, mass, age, additional_value = prepare_input(config)"
   ]
  },
  {
   "cell_type": "code",
   "execution_count": null,
   "metadata": {},
   "outputs": [],
   "source": [
    "n_subset = 10000\n",
    "subset = coords[:n_subset]\n",
    "plt.scatter(subset[:,0], subset[:,1], s=0.5)\n",
    "plt.xlabel('X Position (kpc)')\n",
    "plt.ylabel('Y Position (kpc)')\n",
    "plt.title('Scatter Plot of Star Positions in NIHAO Galaxy')\n",
    "plt.show()"
   ]
  },
  {
   "cell_type": "code",
   "execution_count": null,
   "metadata": {},
   "outputs": [],
   "source": [
    "#create a density plot of the star positions\n",
    "spatial_bin_edges = get_spatial_bin_edges(config)\n",
    "bin_particles = get_spaxel_assignment(config)"
   ]
  },
  {
   "cell_type": "code",
   "execution_count": null,
   "metadata": {},
   "outputs": [],
   "source": [
    "# filter coords\n",
    "mask = (\n",
    "    (coords[:, 0] >= spatial_bin_edges[0]) &\n",
    "    (coords[:, 0] <= spatial_bin_edges[-1]) &\n",
    "    (coords[:, 1] >= spatial_bin_edges[0]) &\n",
    "    (coords[:, 1] <= spatial_bin_edges[-1])\n",
    ")\n",
    "filtered_coords = coords[mask]\n",
    "\n",
    "# assign spaxels\n",
    "spaxel_result = bin_particles({\"coords\": filtered_coords})\n",
    "spaxel_index = spaxel_result[\"pixel_assignment\"]\n"
   ]
  },
  {
   "cell_type": "code",
   "execution_count": null,
   "metadata": {},
   "outputs": [],
   "source": [
    "# create density image\n",
    "image = np.zeros((len(spatial_bin_edges) - 1, len(spatial_bin_edges) - 1))\n",
    "for i in range(len(spatial_bin_edges) - 1):\n",
    "    for j in range(len(spatial_bin_edges) - 1):\n",
    "        image[i, j] = np.sum(spaxel_index == (i + (len(spatial_bin_edges) - 1) * j))\n",
    "\n",
    "# plot density image\n",
    "image = np.log10(image + 1)\n",
    "plt.imshow(image, cmap=\"viridis\")\n",
    "plt.colorbar(label=\"Particle Density\")\n",
    "plt.xlabel(\"X Spaxel\")\n",
    "plt.ylabel(\"Y Spaxel\")\n",
    "plt.title(\"Binned Density Image of NIHAO Galaxy Stars\")\n",
    "plt.show()"
   ]
  }
 ],
 "metadata": {
  "kernelspec": {
   "display_name": "venv",
   "language": "python",
   "name": "python3"
  },
  "language_info": {
   "codemirror_mode": {
    "name": "ipython",
    "version": 3
   },
   "file_extension": ".py",
   "mimetype": "text/x-python",
   "name": "python",
   "nbconvert_exporter": "python",
   "pygments_lexer": "ipython3",
   "version": "3.12.3"
  }
 },
 "nbformat": 4,
 "nbformat_minor": 2
}
