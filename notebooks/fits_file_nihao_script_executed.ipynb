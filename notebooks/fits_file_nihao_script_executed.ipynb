{
 "cells": [
  {
   "cell_type": "code",
   "execution_count": null,
   "id": "0",
   "metadata": {
    "papermill": {
     "duration": 0.009287,
     "end_time": "2025-03-24T17:29:05.446141",
     "exception": false,
     "start_time": "2025-03-24T17:29:05.436854",
     "status": "completed"
    },
    "tags": [
     "injected-parameters"
    ]
   },
   "outputs": [],
   "source": [
    "# Parameters\n",
    "galaxy_id = \"g2.79e12\"\n",
    "pipeline_name = \"calc_ifu\"\n",
    "telescope_name = \"MUSE_ultraWFM\"\n"
   ]
  },
  {
   "cell_type": "code",
   "execution_count": null,
   "id": "1",
   "metadata": {
    "papermill": {
     "duration": 0.006306,
     "end_time": "2025-03-24T17:29:05.454885",
     "exception": false,
     "start_time": "2025-03-24T17:29:05.448579",
     "status": "completed"
    },
    "tags": []
   },
   "outputs": [],
   "source": [
    "# Parameters\n",
    "#galaxy_id = \"g8.26e11\"\n",
    "#pipeline_name = \"calc_ifu\"\n",
    "#telescope_name = \"MUSE_test\""
   ]
  },
  {
   "cell_type": "code",
   "execution_count": null,
   "id": "2",
   "metadata": {
    "papermill": {
     "duration": 0.01071,
     "end_time": "2025-03-24T17:29:05.468586",
     "exception": false,
     "start_time": "2025-03-24T17:29:05.457876",
     "status": "completed"
    },
    "tags": []
   },
   "outputs": [],
   "source": [
    "# NBVAL_SKIP\n",
    "import os\n",
    "os.environ['SPS_HOME'] = '/mnt/storage/annalena_data/sps_fsps'\n",
    "#os.environ['SPS_HOME'] = '/home/annalena/sps_fsps'\n",
    "#os.environ['SPS_HOME'] = '/Users/annalena/Documents/GitHub/fsps'"
   ]
  },
  {
   "cell_type": "markdown",
   "id": "3",
   "metadata": {
    "papermill": {
     "duration": 0.002596,
     "end_time": "2025-03-24T17:29:05.473940",
     "exception": false,
     "start_time": "2025-03-24T17:29:05.471344",
     "status": "completed"
    },
    "tags": []
   },
   "source": [
    "# Fits files\n",
    "\n",
    "In this notebook we show, how you can store your mock datacube in a fits file, which is the common format in which are observational data handled. We firtss create a mock IFU cube by running the RUBIX pipeline, store it then in a fits file and then lod the data from the fits file."
   ]
  },
  {
   "cell_type": "code",
   "execution_count": null,
   "id": "4",
   "metadata": {
    "papermill": {
     "duration": 1216.901068,
     "end_time": "2025-03-24T17:49:22.377853",
     "exception": false,
     "start_time": "2025-03-24T17:29:05.476785",
     "status": "completed"
    },
    "tags": []
   },
   "outputs": [],
   "source": [
    "# NBVAL_SKIP\n",
    "import matplotlib.pyplot as plt\n",
    "import os\n",
    "from rubix.core.pipeline import RubixPipeline\n",
    "\n",
    "# Define NIHAO configuration\n",
    "config_illustris = {\n",
    "    \"pipeline\": {\"name\": pipeline_name},\n",
    "    \"logger\": {\"log_level\": \"DEBUG\", \"log_file_path\": None, \"format\": \"%(asctime)s - %(name)s - %(levelname)s - %(message)s\"},\n",
    "    \"data\": {\n",
    "        \"name\": \"NihaoHandler\",\n",
    "        \"args\": {\n",
    "            \"particle_type\": [\"stars\", \"gas\"],\n",
    "            \"save_data_path\": \"data\",\n",
    "            \"snapshot\": \"1024\",\n",
    "        },\n",
    "        \"load_galaxy_args\": {\"reuse\": True, \"id\": galaxy_id},\n",
    "        \"subset\": {\"use_subset\": False, \"subset_size\": 10000},\n",
    "    },\n",
    "    \"simulation\": {\n",
    "        \"name\": \"NIHAO\",\n",
    "        \"args\": {\n",
    "            \"path\": f'/mnt/storage/_data/nihao/nihao_classic/{galaxy_id}/{galaxy_id}.01024',\n",
    "            \"halo_path\": f'/mnt/storage/_data/nihao/nihao_classic/{galaxy_id}/{galaxy_id}.01024.z0.000.AHF_halos',\n",
    "            \"halo_id\": 0,\n",
    "        },\n",
    "    },\n",
    "    \"output_path\": \"output\",\n",
    "    \"telescope\": {\"name\": telescope_name,\n",
    "                  \"psf\": {\"name\": \"gaussian\", \"size\": 5, \"sigma\": 0.6},\n",
    "                  \"lsf\": {\"sigma\": 1.2},\n",
    "                  \"noise\": {\"signal_to_noise\": 100, \"noise_distribution\": \"normal\"}},\n",
    "    \"cosmology\": {\"name\": \"PLANCK15\"},\n",
    "    \"galaxy\": {\"dist_z\": 0.01, \"rotation\": {\"type\": \"face-on\"}}, #{\"alpha\": 90.0, \"beta\": 0.0, \"gamma\":0.0}},\n",
    "    \"ssp\": {\"template\": {\"name\": \"FSPS\"},\n",
    "            \"dust\": {\n",
    "                \"extinction_model\": \"Cardelli89\",\n",
    "                \"dust_to_gas_ratio\": 0.01,\n",
    "                \"dust_to_metals_ratio\": 0.4,\n",
    "                \"dust_grain_density\": 3.5,\n",
    "                \"Rv\": 3.1,\n",
    "            },\n",
    "    },\n",
    "}\n",
    "\n",
    "# Run pipeline\n",
    "pipe = RubixPipeline(config_illustris)\n",
    "data = pipe.run()"
   ]
  },
  {
   "cell_type": "markdown",
   "id": "5",
   "metadata": {
    "papermill": {
     "duration": 0.003879,
     "end_time": "2025-03-24T17:49:22.386441",
     "exception": false,
     "start_time": "2025-03-24T17:49:22.382562",
     "status": "completed"
    },
    "tags": []
   },
   "source": [
    "## Convert luminosity to flux"
   ]
  },
  {
   "cell_type": "code",
   "execution_count": null,
   "id": "6",
   "metadata": {
    "papermill": {
     "duration": 36.437071,
     "end_time": "2025-03-24T17:49:58.827409",
     "exception": false,
     "start_time": "2025-03-24T17:49:22.390338",
     "status": "completed"
    },
    "tags": []
   },
   "outputs": [],
   "source": [
    "from rubix.spectra.ifu import convert_luminoisty_to_flux\n",
    "from rubix.cosmology import PLANCK15\n",
    "\n",
    "observation_lum_dist = PLANCK15.luminosity_distance_to_z(config_illustris[\"galaxy\"][\"dist_z\"])\n",
    "observation_z = config_illustris[\"galaxy\"][\"dist_z\"]\n",
    "pixel_size = 1.0\n",
    "fluxcube = convert_luminoisty_to_flux(data.stars.datacube, observation_lum_dist, observation_z, pixel_size)\n",
    "data.stars.datacube = fluxcube/1e-20\n"
   ]
  },
  {
   "cell_type": "markdown",
   "id": "7",
   "metadata": {
    "papermill": {
     "duration": 0.004893,
     "end_time": "2025-03-24T17:49:58.837907",
     "exception": false,
     "start_time": "2025-03-24T17:49:58.833014",
     "status": "completed"
    },
    "tags": []
   },
   "source": [
    "# Store datacube in a fits file with header\n",
    "\n",
    "In RUBIX we implemented a function that automaticly takes the relevant information from the config and writes it into the header. Then the header and data are stored in a fits file. All is done with the store_fits function from the rubix.core.fits module."
   ]
  },
  {
   "cell_type": "code",
   "execution_count": null,
   "id": "8",
   "metadata": {
    "papermill": {
     "duration": 18.023148,
     "end_time": "2025-03-24T17:50:16.865966",
     "exception": false,
     "start_time": "2025-03-24T17:49:58.842818",
     "status": "completed"
    },
    "tags": []
   },
   "outputs": [],
   "source": [
    "#NBVAL_SKIP\n",
    "from rubix.core.fits import store_fits\n",
    "\n",
    "#if config_illustris[\"telescope\"][\"name\"] == \"MUSE_ultraWFM\":\n",
    "#    cutted_datatcube = data.stars.datacube[300:600, :, :]\n",
    "#    data.stars.datacube = cutted_datatcube\n",
    "#if config_illustris[\"telescope\"][\"name\"] == \"MUSE_WFM\":\n",
    "#    cutted_datatcube = data.stars.datacube[100:200, :, :]\n",
    "#    data.stars.datacube = cutted_datatcube\n",
    "\n",
    "store_fits(config_illustris, data, \"/mnt/storage/annalena_data/mockNIHAO_GECKOS/\")"
   ]
  },
  {
   "cell_type": "code",
   "execution_count": null,
   "id": "9",
   "metadata": {
    "papermill": {
     "duration": 0.01629,
     "end_time": "2025-03-24T17:50:16.887327",
     "exception": false,
     "start_time": "2025-03-24T17:50:16.871037",
     "status": "completed"
    },
    "tags": []
   },
   "outputs": [],
   "source": [
    "#import pickle\n",
    "#with open(f\"output/datacube_NIHAO{config_illustris[\"data\"][\"load_galaxy_args\"][\"id\"]}_{config_illustris[\"telescope\"][\"name\"]}_{config_illustris[\"pipeline\"][\"name\"]}.pkl\", \"wb\") as f:\n",
    "#    pickle.dump(data, f)"
   ]
  },
  {
   "cell_type": "code",
   "execution_count": null,
   "id": "10",
   "metadata": {
    "papermill": {
     "duration": 0.838982,
     "end_time": "2025-03-24T17:50:17.797346",
     "exception": false,
     "start_time": "2025-03-24T17:50:16.958364",
     "status": "completed"
    },
    "tags": []
   },
   "outputs": [],
   "source": [
    "#NBVAL_SKIP\n",
    "datacube = data.stars.datacube\n",
    "\n",
    "img = datacube.sum(axis=2)\n",
    "plt.imshow(img, origin=\"lower\")\n",
    "#plt.plot(12,12, 'ro')\n",
    "#plt.plot(17,12, 'x', color=\"blue\")\n",
    "#plt.plot(7,12, 'x', color=\"orange\")\n",
    "plt.colorbar()\n",
    "print(img.min(), img.max())\n",
    "storepath = f\"/mnt/storage/annalena_data/mockNIHAO_GECKOS/datacube_NIHAO{config_illustris['data']['load_galaxy_args']['id']}_{config_illustris[\"telescope\"][\"name\"]}_{config_illustris['pipeline']['name']}_fluxsum_faceon.png\"\n",
    "plt.savefig(storepath)"
   ]
  },
  {
   "cell_type": "code",
   "execution_count": null,
   "id": "11",
   "metadata": {
    "papermill": {
     "duration": 0.156855,
     "end_time": "2025-03-24T17:50:17.960262",
     "exception": false,
     "start_time": "2025-03-24T17:50:17.803407",
     "status": "completed"
    },
    "tags": []
   },
   "outputs": [],
   "source": [
    "# NBVAL_SKIP\n",
    "wave = pipe.telescope.wave_seq\n",
    "#plt.plot(wave, data.stars.datacube[12, 12, :], color=\"red\", label=\"Spectrum\")\n",
    "#plt.vlines(4861.333, 0, 3000, color='r', label=\"Hbeta=4861.333A\")\n",
    "#plt.vlines(4861.333*1.1, 0, 3000, color='y', label=\"line obs=Hbeta*(1+z)\")\n",
    "plt.plot(wave, data.stars.datacube[7, 12, :], color=\"orange\", label=\"Spectrum 7,12\")\n",
    "plt.plot(wave, data.stars.datacube[17, 12, :], color=\"blue\", label=\"Spectrum 17,12\")\n",
    "#plt.xlim(5300, 5400)\n",
    "plt.legend()"
   ]
  },
  {
   "cell_type": "code",
   "execution_count": null,
   "id": "12",
   "metadata": {
    "papermill": {
     "duration": 0.187211,
     "end_time": "2025-03-24T17:50:18.185357",
     "exception": false,
     "start_time": "2025-03-24T17:50:17.998146",
     "status": "completed"
    },
    "tags": []
   },
   "outputs": [],
   "source": [
    "# NBVAL_SKIP\n",
    "import matplotlib.pyplot as plt\n",
    "\n",
    "# Plot a histogram of the velocities\n",
    "plt.hist(data.stars.velocity[0,:,2], bins=30, edgecolor='black')\n",
    "plt.xlabel('Velocity')\n",
    "plt.ylabel('Frequency')\n",
    "plt.title('Histogram of Star Velocities')\n",
    "plt.show()"
   ]
  },
  {
   "cell_type": "code",
   "execution_count": null,
   "id": "13",
   "metadata": {
    "papermill": {
     "duration": 0.46036,
     "end_time": "2025-03-24T17:50:18.650778",
     "exception": false,
     "start_time": "2025-03-24T17:50:18.190418",
     "status": "completed"
    },
    "tags": []
   },
   "outputs": [],
   "source": [
    "# NBVAL_SKIP\n",
    "import numpy as np\n",
    "import matplotlib.pyplot as plt\n",
    "\n",
    "# Assuming your data arrays are defined as follows:\n",
    "pixel_assignment = np.asarray(np.squeeze(data.stars.pixel_assignment))\n",
    "velocities = np.asarray(data.stars.velocity[0, :, 2])\n",
    "\n",
    "# Compute the sum of velocities and count per pixel using np.bincount\n",
    "sum_velocity = np.bincount(pixel_assignment, weights=velocities)\n",
    "counts = np.bincount(pixel_assignment)\n",
    "\n",
    "# Calculate mean velocity; note: division by zero is avoided if every pixel has at least one star.\n",
    "mean_velocity = sum_velocity / counts\n",
    "\n",
    "\n",
    "# If you know the pixel grid dimensions (for example, a square grid)\n",
    "n_pixels = len(mean_velocity)\n",
    "grid_size = int(np.sqrt(n_pixels))\n",
    "if grid_size * grid_size != n_pixels:\n",
    "    raise ValueError(\"The total number of pixels is not a perfect square; please specify the grid shape explicitly.\")\n",
    "\n",
    "# Reshape the mean_velocity into a 2D array for imshow\n",
    "velocity_map = mean_velocity.reshape((grid_size, grid_size))\n",
    "print(velocity_map[12,12])\n",
    "\n",
    "print(velocity_map[17,12]-velocity_map[7,12])\n",
    "# Plot the result\n",
    "plt.figure(figsize=(6, 5))\n",
    "plt.imshow(velocity_map, origin='lower', interpolation='nearest', cmap='seismic')\n",
    "plt.colorbar(label='Mean Velocity')\n",
    "plt.title('Mean Velocity per Pixel')\n",
    "plt.xlabel('X pixel index')\n",
    "plt.ylabel('Y pixel index')\n",
    "storepath = f\"/mnt/storage/annalena_data/mockNIHAO_GECKOS/datacube_NIHAO{config_illustris['data']['load_galaxy_args']['id']}_{config_illustris[\"telescope\"][\"name\"]}_{config_illustris['pipeline']['name']}_velocity_faceon.png\"\n",
    "plt.savefig(storepath)\n",
    "plt.show()"
   ]
  },
  {
   "cell_type": "code",
   "execution_count": null,
   "id": "14",
   "metadata": {
    "papermill": {
     "duration": 0.43907,
     "end_time": "2025-03-24T17:50:19.097383",
     "exception": false,
     "start_time": "2025-03-24T17:50:18.658313",
     "status": "completed"
    },
    "tags": []
   },
   "outputs": [],
   "source": [
    "# NBVAL_SKIP\n",
    "import numpy as np\n",
    "import matplotlib.pyplot as plt\n",
    "\n",
    "# Assuming your data arrays are defined as follows:\n",
    "pixel_assignment = np.asarray(np.squeeze(data.gas.pixel_assignment))\n",
    "gas_mass = np.asarray(data.gas.mass)\n",
    "\n",
    "# Compute the sum of velocities and count per pixel using np.bincount\n",
    "sum_gas_mass = np.bincount(pixel_assignment, weights=gas_mass[0,:])\n",
    "counts = np.bincount(pixel_assignment)\n",
    "\n",
    "# If you know the pixel grid dimensions (for example, a square grid)\n",
    "n_pixels = len(sum_gas_mass)\n",
    "grid_size = int(np.sqrt(n_pixels))\n",
    "if grid_size * grid_size != n_pixels:\n",
    "    raise ValueError(\"The total number of pixels is not a perfect square; please specify the grid shape explicitly.\")\n",
    "\n",
    "# Reshape the mean_velocity into a 2D array for imshow\n",
    "gas_mass_map = sum_gas_mass.reshape((grid_size, grid_size))\n",
    "print(gas_mass_map[12,12])\n",
    "\n",
    "# Plot the result\n",
    "plt.figure(figsize=(6, 5))\n",
    "plt.imshow(gas_mass_map, origin='lower')\n",
    "plt.colorbar(label='Gas Mass')\n",
    "plt.title('Gass mass per Pixel')\n",
    "plt.xlabel('X pixel index')\n",
    "plt.ylabel('Y pixel index')\n",
    "storepath = f\"/mnt/storage/annalena_data/mockNIHAO_GECKOS/datacube_NIHAO{config_illustris['data']['load_galaxy_args']['id']}_{config_illustris[\"telescope\"][\"name\"]}_{config_illustris['pipeline']['name']}_gasmass_faceon.png\"\n",
    "plt.savefig(storepath)\n",
    "plt.show()"
   ]
  },
  {
   "cell_type": "markdown",
   "id": "15",
   "metadata": {
    "papermill": {
     "duration": 0.085156,
     "end_time": "2025-03-24T17:50:19.192797",
     "exception": false,
     "start_time": "2025-03-24T17:50:19.107641",
     "status": "completed"
    },
    "tags": []
   },
   "source": []
  },
  {
   "cell_type": "code",
   "execution_count": null,
   "id": "16",
   "metadata": {
    "papermill": {
     "duration": 0.523758,
     "end_time": "2025-03-24T17:50:19.723749",
     "exception": false,
     "start_time": "2025-03-24T17:50:19.199991",
     "status": "completed"
    },
    "tags": []
   },
   "outputs": [],
   "source": [
    "# NBVAL_SKIP\n",
    "import numpy as np\n",
    "import matplotlib.pyplot as plt\n",
    "\n",
    "# Assuming your data arrays are defined as follows:\n",
    "pixel_assignment = np.asarray(np.squeeze(data.stars.pixel_assignment))\n",
    "stars_mass = np.asarray(data.stars.mass)\n",
    "\n",
    "# Compute the sum of velocities and count per pixel using np.bincount\n",
    "sum_stars_mass = np.bincount(pixel_assignment, weights=stars_mass[0,:])\n",
    "counts = np.bincount(pixel_assignment)\n",
    "\n",
    "# If you know the pixel grid dimensions (for example, a square grid)\n",
    "n_pixels = len(sum_stars_mass)\n",
    "grid_size = int(np.sqrt(n_pixels))\n",
    "if grid_size * grid_size != n_pixels:\n",
    "    raise ValueError(\"The total number of pixels is not a perfect square; please specify the grid shape explicitly.\")\n",
    "\n",
    "# Reshape the mean_velocity into a 2D array for imshow\n",
    "stars_mass_map = sum_stars_mass.reshape((grid_size, grid_size))\n",
    "print(stars_mass_map[12,12])\n",
    "\n",
    "# Plot the result\n",
    "plt.figure(figsize=(6, 5))\n",
    "plt.imshow(stars_mass_map, origin='lower')\n",
    "plt.colorbar(label='Stars Mass')\n",
    "plt.title('Stars mass per Pixel')\n",
    "plt.xlabel('X pixel index')\n",
    "plt.ylabel('Y pixel index')\n",
    "storepath = f\"/mnt/storage/annalena_data/mockNIHAO_GECKOS/datacube_NIHAO{config_illustris['data']['load_galaxy_args']['id']}_{config_illustris[\"telescope\"][\"name\"]}_{config_illustris['pipeline']['name']}_starsmass_faceon.png\"\n",
    "plt.savefig(storepath)\n",
    "plt.show()"
   ]
  }
 ],
 "metadata": {
  "kernelspec": {
   "display_name": "Python 3",
   "language": "python",
   "name": "python3"
  },
  "language_info": {
   "codemirror_mode": {
    "name": "ipython",
    "version": 3
   },
   "file_extension": ".py",
   "mimetype": "text/x-python",
   "name": "python",
   "nbconvert_exporter": "python",
   "pygments_lexer": "ipython3",
   "version": "3.13.2"
  },
  "papermill": {
   "default_parameters": {},
   "duration": 1286.100579,
   "end_time": "2025-03-24T17:50:29.816382",
   "environment_variables": {},
   "exception": null,
   "input_path": "fits_file_nihao_script.ipynb",
   "output_path": "fits_file_nihao_script_executed.ipynb",
   "parameters": {
    "galaxy_id": "g2.79e12",
    "pipeline_name": "calc_ifu",
    "telescope_name": "MUSE_ultraWFM"
   },
   "start_time": "2025-03-24T17:29:03.715803",
   "version": "2.6.0"
  }
 },
 "nbformat": 4,
 "nbformat_minor": 5
}
