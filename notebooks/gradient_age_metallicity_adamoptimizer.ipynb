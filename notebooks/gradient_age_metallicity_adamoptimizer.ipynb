{
 "cells": [
  {
   "cell_type": "code",
   "execution_count": null,
   "metadata": {},
   "outputs": [],
   "source": [
    "# NBVAL_SKIP\n",
    "import os\n",
    "os.environ['SPS_HOME'] = '/mnt/storage/annalena_data/sps_fsps'\n",
    "#os.environ['SPS_HOME'] = '/home/annalena/sps_fsps'\n",
    "#os.environ['SPS_HOME'] = '/Users/annalena/Documents/GitHub/fsps'"
   ]
  },
  {
   "cell_type": "code",
   "execution_count": null,
   "metadata": {},
   "outputs": [],
   "source": [
    "# NBVAL_SKIP\n",
    "import logging\n",
    "\n",
    "# Disable all logging messages\n",
    "#logging.disable(logging.CRITICAL)"
   ]
  },
  {
   "cell_type": "markdown",
   "metadata": {},
   "source": [
    "# Load ssp template from FSPS"
   ]
  },
  {
   "cell_type": "code",
   "execution_count": null,
   "metadata": {},
   "outputs": [],
   "source": [
    "# NBVAL_SKIP\n",
    "from rubix.spectra.ssp.factory import get_ssp_template\n",
    "ssp_fsps = get_ssp_template(\"FSPS\")"
   ]
  },
  {
   "cell_type": "code",
   "execution_count": null,
   "metadata": {},
   "outputs": [],
   "source": [
    "# NBVAL_SKIP\n",
    "age_values = ssp_fsps.age\n",
    "print(age_values.shape)\n",
    "\n",
    "metallicity_values = ssp_fsps.metallicity\n",
    "print(metallicity_values.shape)"
   ]
  },
  {
   "cell_type": "code",
   "execution_count": null,
   "metadata": {},
   "outputs": [],
   "source": [
    "# NBVAL_SKIP\n",
    "index_age = 90\n",
    "index_metallicity = 7\n",
    "\n",
    "initial_metallicity_index = 5\n",
    "initial_age_index = 70\n",
    "\n",
    "learning_age = 0.5\n",
    "learning_metallicity = 1e-3\n",
    "tol = 1e-5\n",
    "\n",
    "print(f\"start age: {age_values[initial_age_index]}, start metallicity: {metallicity_values[initial_metallicity_index]}\")\n",
    "print(f\"target age: {age_values[index_age]}, target metallicity: {metallicity_values[index_metallicity]}\")"
   ]
  },
  {
   "cell_type": "markdown",
   "metadata": {},
   "source": [
    "# Configure pipeline"
   ]
  },
  {
   "cell_type": "code",
   "execution_count": null,
   "metadata": {},
   "outputs": [],
   "source": [
    "# NBVAL_SKIP\n",
    "from rubix.core.pipeline import RubixPipeline\n",
    "import os\n",
    "config = {\n",
    "    \"pipeline\":{\"name\": \"calc_gradient\"},\n",
    "    \n",
    "    \"logger\": {\n",
    "        \"log_level\": \"DEBUG\",\n",
    "        \"log_file_path\": None,\n",
    "        \"format\": \"%(asctime)s - %(name)s - %(levelname)s - %(message)s\",\n",
    "    },\n",
    "    \"data\": {\n",
    "        \"name\": \"IllustrisAPI\",\n",
    "        \"args\": {\n",
    "            \"api_key\": os.environ.get(\"ILLUSTRIS_API_KEY\"),\n",
    "            \"particle_type\": [\"stars\"],\n",
    "            \"simulation\": \"TNG50-1\",\n",
    "            \"snapshot\": 99,\n",
    "            \"save_data_path\": \"data\",\n",
    "        },\n",
    "        \n",
    "        \"load_galaxy_args\": {\n",
    "        \"id\": 14,\n",
    "        \"reuse\": True,\n",
    "        },\n",
    "        \n",
    "        \"subset\": {\n",
    "            \"use_subset\": True,\n",
    "            \"subset_size\": 2,\n",
    "        },\n",
    "    },\n",
    "    \"simulation\": {\n",
    "        \"name\": \"IllustrisTNG\",\n",
    "        \"args\": {\n",
    "            \"path\": \"data/galaxy-id-14.hdf5\",\n",
    "        },\n",
    "    \n",
    "    },\n",
    "    \"output_path\": \"output\",\n",
    "\n",
    "    \"telescope\":\n",
    "        {\"name\": \"TESTGRADIENT\",\n",
    "         \"psf\": {\"name\": \"gaussian\", \"size\": 5, \"sigma\": 0.6},\n",
    "         \"lsf\": {\"sigma\": 0.5},\n",
    "         \"noise\": {\"signal_to_noise\": 100,\"noise_distribution\": \"normal\"},\n",
    "         },\n",
    "    \"cosmology\":\n",
    "        {\"name\": \"PLANCK15\"},\n",
    "        \n",
    "    \"galaxy\":\n",
    "        {\"dist_z\": 0.1,\n",
    "         \"rotation\": {\"type\": \"edge-on\"},\n",
    "        },\n",
    "        \n",
    "    \"ssp\": {\n",
    "        \"template\": {\n",
    "            \"name\": \"FSPS\"\n",
    "        },\n",
    "        \"dust\": {\n",
    "                \"extinction_model\": \"Cardelli89\",\n",
    "                \"dust_to_gas_ratio\": 0.01,\n",
    "                \"dust_to_metals_ratio\": 0.4,\n",
    "                \"dust_grain_density\": 3.5,\n",
    "                \"Rv\": 3.1,\n",
    "            },\n",
    "    },        \n",
    "}"
   ]
  },
  {
   "cell_type": "code",
   "execution_count": null,
   "metadata": {},
   "outputs": [],
   "source": [
    "pipe = RubixPipeline(config)\n",
    "inputdata = pipe.prepare_data()\n",
    "rubixdata = pipe.run(inputdata)"
   ]
  },
  {
   "cell_type": "markdown",
   "metadata": {},
   "source": [
    "# Set target values"
   ]
  },
  {
   "cell_type": "code",
   "execution_count": null,
   "metadata": {},
   "outputs": [],
   "source": [
    "# NBVAL_SKIP\n",
    "import jax.numpy as jnp\n",
    "\n",
    "rubixdata.stars.age = jnp.array([age_values[index_age], age_values[index_age]])\n",
    "rubixdata.stars.metallicity = jnp.array([metallicity_values[index_metallicity], metallicity_values[index_metallicity]])\n",
    "rubixdata.stars.mass = jnp.array([[1.0, 1.0]])\n",
    "rubixdata.stars.velocity = jnp.array([[0.0, 0.0, 0.0], [0.0, 0.0, 0.0]])\n",
    "rubixdata.stars.coords = jnp.array([[0.0, 0.0, 0.0], [0.0, 0.0, 0.0]])"
   ]
  },
  {
   "cell_type": "code",
   "execution_count": null,
   "metadata": {},
   "outputs": [],
   "source": [
    "# NBVAL_SKIP\n",
    "targetdata = pipe.run(rubixdata)"
   ]
  },
  {
   "cell_type": "markdown",
   "metadata": {},
   "source": [
    "# Set initial datracube"
   ]
  },
  {
   "cell_type": "code",
   "execution_count": null,
   "metadata": {},
   "outputs": [],
   "source": [
    "# NBVAL_SKIP\n",
    "rubixdata.stars.age = jnp.array([age_values[initial_age_index], age_values[initial_age_index]])\n",
    "rubixdata.stars.metallicity = jnp.array([metallicity_values[initial_metallicity_index], metallicity_values[initial_metallicity_index]])\n",
    "rubixdata.stars.mass = jnp.array([[1.0, 1.0]])\n",
    "rubixdata.stars.velocity = jnp.array([[0.0, 0.0, 0.0], [0.0, 0.0, 0.0]])"
   ]
  },
  {
   "cell_type": "code",
   "execution_count": null,
   "metadata": {},
   "outputs": [],
   "source": [
    "initialdata = pipe.run(rubixdata)"
   ]
  },
  {
   "cell_type": "markdown",
   "metadata": {},
   "source": [
    "# Adam optimizer"
   ]
  },
  {
   "cell_type": "code",
   "execution_count": null,
   "metadata": {},
   "outputs": [],
   "source": [
    "# NBVAL_SKIP\n",
    "from rubix.pipeline import linear_pipeline as pipeline\n",
    "\n",
    "pipeline_instance = RubixPipeline(config)\n",
    "\n",
    "pipeline_instance._pipeline = pipeline.LinearTransformerPipeline(\n",
    "    pipeline_instance.pipeline_config, \n",
    "    pipeline_instance._get_pipeline_functions()\n",
    ")\n",
    "pipeline_instance._pipeline.assemble()\n",
    "pipeline_instance.func = pipeline_instance._pipeline.compile_expression()"
   ]
  },
  {
   "cell_type": "code",
   "execution_count": null,
   "metadata": {},
   "outputs": [],
   "source": [
    "# NBVAL_SKIP\n",
    "import jax\n",
    "import jax.numpy as jnp\n",
    "import optax\n",
    "\n",
    "\n",
    "def adam_optimization_multi(loss_fn, params_init, data, target, age_lr=0.1, metallicity_lr=0.05, tol=1e-3, max_iter=500):\n",
    "    \"\"\"\n",
    "    Optimizes both age and metallicity.\n",
    "\n",
    "    Args:\n",
    "        loss_fn: function with signature loss_fn(age, metallicity, data, target)\n",
    "        params_init: dict with keys 'age' and 'metallicity', each a JAX array\n",
    "        data: base data for the loss function\n",
    "        target: target data for the loss function\n",
    "        learning_rate: learning rate for Adam\n",
    "        tol: tolerance for convergence (based on update norm)\n",
    "        max_iter: maximum number of iterations\n",
    "\n",
    "    Returns:\n",
    "        params: final parameters (dict)\n",
    "        params_history: list of parameter values for each iteration\n",
    "        loss_history: list of loss values for each iteration\n",
    "    \"\"\"\n",
    "    params = params_init  # e.g., {'age': jnp.array(...), 'metallicity': jnp.array(...)}\n",
    "    optimizers = {\n",
    "        'age': optax.adam(age_lr),\n",
    "        'metallicity': optax.adam(metallicity_lr)\n",
    "    }\n",
    "    # Create a parameter label pytree matching the structure of params\n",
    "    param_labels = {'age': 'age', 'metallicity': 'metallicity'}\n",
    "    \n",
    "    # Combine the optimizers with multi_transform\n",
    "    optimizer = optax.multi_transform(optimizers, param_labels)\n",
    "    optimizer_state = optimizer.init(params)\n",
    "    \n",
    "    age_history = []\n",
    "    metallicity_history = []\n",
    "    loss_history = []\n",
    "    \n",
    "    for i in range(max_iter):\n",
    "        # Compute loss and gradients with respect to both parameters\n",
    "        loss, grads = jax.value_and_grad(lambda p: loss_fn(p['age'], p['metallicity'], data, target))(params)\n",
    "        loss_history.append(float(loss))\n",
    "        # Save current parameters (convert from JAX arrays to floats)\n",
    "        age_history.append(float(params['age'][0,0]))\n",
    "        metallicity_history.append(float(params['metallicity'][0,0]))\n",
    "        #params_history.append({\n",
    "        #    'age': params['age'],\n",
    "        #    'metallicity': params['metallicity']\n",
    "        #})\n",
    "        \n",
    "        # Compute updates and apply them\n",
    "        updates, optimizer_state = optimizer.update(grads, optimizer_state)\n",
    "        params = optax.apply_updates(params, updates)\n",
    "        \n",
    "        # Optionally clip the parameters to enforce physical constraints:\n",
    "        params['age'] = jnp.clip(params['age'], 0.0, 10.3)\n",
    "        params['metallicity'] = jnp.clip(params['metallicity'], 1e-4, 0.05)\n",
    "        # For metallicity, uncomment and adjust the limits as needed:\n",
    "        # params['metallicity'] = jnp.clip(params['metallicity'], metallicity_lower_bound, metallicity_upper_bound)\n",
    "        \n",
    "        # Check convergence based on the global norm of updates\n",
    "        if optax.global_norm(updates) < tol:\n",
    "            print(f\"Converged at iteration {i}\")\n",
    "            break\n",
    "\n",
    "    return params, age_history, metallicity_history, loss_history"
   ]
  },
  {
   "cell_type": "code",
   "execution_count": null,
   "metadata": {},
   "outputs": [],
   "source": [
    "# NBVAL_SKIP\n",
    "from rubix.core.pipeline import loss_only_wrt_age_metallicity\n",
    "\n",
    "data = initialdata  # Replace with your actual data if needed\n",
    "target_value = targetdata  # Replace with your actual target\n",
    "\n",
    "# Define initial guesses for both age and metallicity.\n",
    "# Adjust the initialization as needed for your problem.\n",
    "age_init = jnp.array([[age_values[initial_age_index], age_values[initial_age_index]]])\n",
    "metallicity_init = jnp.array([[metallicity_values[initial_metallicity_index], metallicity_values[initial_metallicity_index]]])\n",
    "\n",
    "# Pack both initial parameters into a dictionary.\n",
    "params_init = {'age': age_init, 'metallicity': metallicity_init}\n",
    "\n",
    "# Call the new optimizer function that handles both parameters.\n",
    "optimized_params, age_history, metallicity_history, loss_history = adam_optimization_multi(\n",
    "    loss_only_wrt_age_metallicity,\n",
    "    params_init,\n",
    "    data,\n",
    "    target_value,\n",
    "    age_lr=learning_age,\n",
    "    metallicity_lr=learning_metallicity,\n",
    "    tol=tol,\n",
    "    max_iter=10000\n",
    ")\n",
    "\n",
    "print(f\"Optimized Age: {optimized_params['age']}\")\n",
    "print(f\"Optimized Metallicity: {optimized_params['metallicity']}\")"
   ]
  }
 ],
 "metadata": {
  "kernelspec": {
   "display_name": "Python 3",
   "language": "python",
   "name": "python3"
  },
  "language_info": {
   "codemirror_mode": {
    "name": "ipython",
    "version": 3
   },
   "file_extension": ".py",
   "mimetype": "text/x-python",
   "name": "python",
   "nbconvert_exporter": "python",
   "pygments_lexer": "ipython3",
   "version": "3.13.2"
  }
 },
 "nbformat": 4,
 "nbformat_minor": 2
}
