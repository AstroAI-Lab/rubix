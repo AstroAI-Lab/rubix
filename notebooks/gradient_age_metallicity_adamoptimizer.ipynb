{
 "cells": [
  {
   "cell_type": "code",
   "execution_count": null,
   "metadata": {},
   "outputs": [],
   "source": [
    "# NBVAL_SKIP\n",
    "import os\n",
    "os.environ['SPS_HOME'] = '/mnt/storage/annalena_data/sps_fsps'\n",
    "#os.environ['SPS_HOME'] = '/home/annalena/sps_fsps'\n",
    "#os.environ['SPS_HOME'] = '/Users/annalena/Documents/GitHub/fsps'"
   ]
  },
  {
   "cell_type": "code",
   "execution_count": null,
   "metadata": {},
   "outputs": [],
   "source": [
    "# NBVAL_SKIP\n",
    "import logging\n",
    "\n",
    "# Disable all logging messages\n",
    "logging.disable(logging.CRITICAL)"
   ]
  },
  {
   "cell_type": "markdown",
   "metadata": {},
   "source": [
    "# Load ssp template from FSPS"
   ]
  },
  {
   "cell_type": "code",
   "execution_count": null,
   "metadata": {},
   "outputs": [],
   "source": [
    "# NBVAL_SKIP\n",
    "from rubix.spectra.ssp.factory import get_ssp_template\n",
    "ssp_fsps = get_ssp_template(\"FSPS\")"
   ]
  },
  {
   "cell_type": "code",
   "execution_count": null,
   "metadata": {},
   "outputs": [],
   "source": [
    "# NBVAL_SKIP\n",
    "age_values = ssp_fsps.age\n",
    "print(age_values.shape)\n",
    "\n",
    "metallicity_values = ssp_fsps.metallicity\n",
    "print(metallicity_values.shape)"
   ]
  },
  {
   "cell_type": "code",
   "execution_count": null,
   "metadata": {},
   "outputs": [],
   "source": [
    "# NBVAL_SKIP\n",
    "index_age = 90\n",
    "index_metallicity = 7\n",
    "\n",
    "initial_metallicity_index = 5\n",
    "initial_age_index = 70\n",
    "\n",
    "learning_age = 0.5\n",
    "learning_metallicity = 1e-3\n",
    "tol = 1e-5\n",
    "\n",
    "print(f\"start age: {age_values[initial_age_index]}, start metallicity: {metallicity_values[initial_metallicity_index]}\")\n",
    "print(f\"target age: {age_values[index_age]}, target metallicity: {metallicity_values[index_metallicity]}\")"
   ]
  },
  {
   "cell_type": "markdown",
   "metadata": {},
   "source": [
    "# Configure pipeline"
   ]
  },
  {
   "cell_type": "code",
   "execution_count": null,
   "metadata": {},
   "outputs": [],
   "source": [
    "# NBVAL_SKIP\n",
    "from rubix.core.pipeline import RubixPipeline\n",
    "import os\n",
    "config = {\n",
    "    \"pipeline\":{\"name\": \"calc_gradient\"},\n",
    "    \n",
    "    \"logger\": {\n",
    "        \"log_level\": \"DEBUG\",\n",
    "        \"log_file_path\": None,\n",
    "        \"format\": \"%(asctime)s - %(name)s - %(levelname)s - %(message)s\",\n",
    "    },\n",
    "    \"data\": {\n",
    "        \"name\": \"IllustrisAPI\",\n",
    "        \"args\": {\n",
    "            \"api_key\": os.environ.get(\"ILLUSTRIS_API_KEY\"),\n",
    "            \"particle_type\": [\"stars\"],\n",
    "            \"simulation\": \"TNG50-1\",\n",
    "            \"snapshot\": 99,\n",
    "            \"save_data_path\": \"data\",\n",
    "        },\n",
    "        \n",
    "        \"load_galaxy_args\": {\n",
    "        \"id\": 14,\n",
    "        \"reuse\": True,\n",
    "        },\n",
    "        \n",
    "        \"subset\": {\n",
    "            \"use_subset\": True,\n",
    "            \"subset_size\": 2,\n",
    "        },\n",
    "    },\n",
    "    \"simulation\": {\n",
    "        \"name\": \"IllustrisTNG\",\n",
    "        \"args\": {\n",
    "            \"path\": \"data/galaxy-id-14.hdf5\",\n",
    "        },\n",
    "    \n",
    "    },\n",
    "    \"output_path\": \"output\",\n",
    "\n",
    "    \"telescope\":\n",
    "        {\"name\": \"TESTGRADIENT\",\n",
    "         \"psf\": {\"name\": \"gaussian\", \"size\": 5, \"sigma\": 0.6},\n",
    "         \"lsf\": {\"sigma\": 0.5},\n",
    "         \"noise\": {\"signal_to_noise\": 100,\"noise_distribution\": \"normal\"},\n",
    "         },\n",
    "    \"cosmology\":\n",
    "        {\"name\": \"PLANCK15\"},\n",
    "        \n",
    "    \"galaxy\":\n",
    "        {\"dist_z\": 0.1,\n",
    "         \"rotation\": {\"type\": \"edge-on\"},\n",
    "        },\n",
    "        \n",
    "    \"ssp\": {\n",
    "        \"template\": {\n",
    "            \"name\": \"FSPS\"\n",
    "        },\n",
    "        \"dust\": {\n",
    "                \"extinction_model\": \"Cardelli89\",\n",
    "                \"dust_to_gas_ratio\": 0.01,\n",
    "                \"dust_to_metals_ratio\": 0.4,\n",
    "                \"dust_grain_density\": 3.5,\n",
    "                \"Rv\": 3.1,\n",
    "            },\n",
    "    },        \n",
    "}"
   ]
  },
  {
   "cell_type": "code",
   "execution_count": null,
   "metadata": {},
   "outputs": [],
   "source": [
    "pipe = RubixPipeline(config)\n",
    "inputdata = pipe.prepare_data()\n",
    "rubixdata = pipe.run(inputdata)"
   ]
  },
  {
   "cell_type": "markdown",
   "metadata": {},
   "source": [
    "# Set target values"
   ]
  },
  {
   "cell_type": "code",
   "execution_count": null,
   "metadata": {},
   "outputs": [],
   "source": [
    "# NBVAL_SKIP\n",
    "import jax.numpy as jnp\n",
    "\n",
    "rubixdata.stars.age = jnp.array([age_values[index_age], age_values[index_age]])\n",
    "rubixdata.stars.metallicity = jnp.array([metallicity_values[index_metallicity], metallicity_values[index_metallicity]])\n",
    "rubixdata.stars.mass = jnp.array([[1.0, 1.0]])\n",
    "rubixdata.stars.velocity = jnp.array([[0.0, 0.0, 0.0], [0.0, 0.0, 0.0]])"
   ]
  }
 ],
 "metadata": {
  "kernelspec": {
   "display_name": "Python 3",
   "language": "python",
   "name": "python3"
  },
  "language_info": {
   "codemirror_mode": {
    "name": "ipython",
    "version": 3
   },
   "file_extension": ".py",
   "mimetype": "text/x-python",
   "name": "python",
   "nbconvert_exporter": "python",
   "pygments_lexer": "ipython3",
   "version": "3.13.2"
  }
 },
 "nbformat": 4,
 "nbformat_minor": 2
}
