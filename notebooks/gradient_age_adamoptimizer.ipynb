{
 "cells": [
  {
   "cell_type": "code",
   "execution_count": null,
   "metadata": {},
   "outputs": [],
   "source": [
    "# NBVAL_SKIP\n",
    "import os\n",
    "os.environ['SPS_HOME'] = '/mnt/storage/annalena_data/sps_fsps'"
   ]
  },
  {
   "cell_type": "markdown",
   "metadata": {},
   "source": [
    "# Load ssp template for FSPS"
   ]
  },
  {
   "cell_type": "code",
   "execution_count": null,
   "metadata": {},
   "outputs": [],
   "source": [
    "# NBVAL_SKIP\n",
    "from rubix.spectra.ssp.factory import get_ssp_template\n",
    "ssp_fsps = get_ssp_template(\"FSPS\")"
   ]
  },
  {
   "cell_type": "code",
   "execution_count": null,
   "metadata": {},
   "outputs": [],
   "source": [
    "# NBVAL_SKIP\n",
    "age_values = ssp_fsps.age\n",
    "print(age_values.shape)\n",
    "\n",
    "metallicity_values = ssp_fsps.metallicity\n",
    "print(metallicity_values.shape)"
   ]
  },
  {
   "cell_type": "code",
   "execution_count": null,
   "metadata": {},
   "outputs": [],
   "source": [
    "# NBVAL_SKIP\n",
    "index = 80\n",
    "metallicity_index = 3\n",
    "initial_age_index = 100\n",
    "learning = 0.5\n",
    "tol = 1e-20\n",
    "\n",
    "print(f\"start age: {age_values[initial_age_index]}\")\n",
    "print(age_values[index], metallicity_values[metallicity_index])"
   ]
  },
  {
   "cell_type": "markdown",
   "metadata": {},
   "source": [
    "# Configure pipeline"
   ]
  },
  {
   "cell_type": "code",
   "execution_count": null,
   "metadata": {},
   "outputs": [],
   "source": [
    "# NBVAL_SKIP\n",
    "from rubix.core.pipeline import RubixPipeline\n",
    "import os\n",
    "config = {\n",
    "    \"pipeline\":{\"name\": \"calc_gradient\"},\n",
    "    \n",
    "    \"logger\": {\n",
    "        \"log_level\": \"DEBUG\",\n",
    "        \"log_file_path\": None,\n",
    "        \"format\": \"%(asctime)s - %(name)s - %(levelname)s - %(message)s\",\n",
    "    },\n",
    "    \"data\": {\n",
    "        \"name\": \"IllustrisAPI\",\n",
    "        \"args\": {\n",
    "            \"api_key\": os.environ.get(\"ILLUSTRIS_API_KEY\"),\n",
    "            \"particle_type\": [\"stars\"],\n",
    "            \"simulation\": \"TNG50-1\",\n",
    "            \"snapshot\": 99,\n",
    "            \"save_data_path\": \"data\",\n",
    "        },\n",
    "        \n",
    "        \"load_galaxy_args\": {\n",
    "        \"id\": 14,\n",
    "        \"reuse\": True,\n",
    "        },\n",
    "        \n",
    "        \"subset\": {\n",
    "            \"use_subset\": True,\n",
    "            \"subset_size\": 2,\n",
    "        },\n",
    "    },\n",
    "    \"simulation\": {\n",
    "        \"name\": \"IllustrisTNG\",\n",
    "        \"args\": {\n",
    "            \"path\": \"data/galaxy-id-14.hdf5\",\n",
    "        },\n",
    "    \n",
    "    },\n",
    "    \"output_path\": \"output\",\n",
    "\n",
    "    \"telescope\":\n",
    "        {\"name\": \"TESTGRADIENT\",\n",
    "         \"psf\": {\"name\": \"gaussian\", \"size\": 5, \"sigma\": 0.6},\n",
    "         \"lsf\": {\"sigma\": 1.2},\n",
    "         \"noise\": {\"signal_to_noise\": 1,\"noise_distribution\": \"normal\"},\n",
    "         },\n",
    "    \"cosmology\":\n",
    "        {\"name\": \"PLANCK15\"},\n",
    "        \n",
    "    \"galaxy\":\n",
    "        {\"dist_z\": 0.1,\n",
    "         \"rotation\": {\"type\": \"edge-on\"},\n",
    "        },\n",
    "        \n",
    "    \"ssp\": {\n",
    "        \"template\": {\n",
    "            \"name\": \"FSPS\",\n",
    "        },\n",
    "        \"dust\": {\n",
    "                \"extinction_model\": \"Cardelli89\",\n",
    "                \"dust_to_gas_ratio\": 0.01,\n",
    "                \"dust_to_metals_ratio\": 0.4,\n",
    "                \"dust_grain_density\": 3.5,\n",
    "                \"Rv\": 3.1,\n",
    "            },\n",
    "    },        \n",
    "}"
   ]
  },
  {
   "cell_type": "code",
   "execution_count": null,
   "metadata": {},
   "outputs": [],
   "source": [
    "# NBVAL_SKIP\n",
    "pipe = RubixPipeline(config)\n",
    "inputdata = pipe.prepare_data()\n",
    "rubixdata = pipe.run(inputdata)"
   ]
  },
  {
   "cell_type": "markdown",
   "metadata": {},
   "source": [
    "# Set target values"
   ]
  },
  {
   "cell_type": "code",
   "execution_count": null,
   "metadata": {},
   "outputs": [],
   "source": [
    "# NBVAL_SKIP\n",
    "import jax.numpy as jnp\n",
    "\n",
    "rubixdata.stars.age = jnp.array([age_values[index], age_values[index]])\n",
    "rubixdata.stars.metallicity = jnp.array([metallicity_values[metallicity_index], metallicity_values[metallicity_index]])\n",
    "rubixdata.stars.mass = jnp.array([[1.0, 1.0]])\n",
    "rubixdata.stars.velocity = jnp.array([[0.0, 0.0, 0.0], [0.0, 0.0, 0.0]])"
   ]
  },
  {
   "cell_type": "code",
   "execution_count": null,
   "metadata": {},
   "outputs": [],
   "source": [
    "# NBVAL_SKIP\n",
    "target = pipe.run(rubixdata)"
   ]
  },
  {
   "cell_type": "markdown",
   "metadata": {},
   "source": [
    "# Initial datacube"
   ]
  },
  {
   "cell_type": "code",
   "execution_count": null,
   "metadata": {},
   "outputs": [],
   "source": [
    "# NBVAL_SKIP\n",
    "rubixdata.stars.age = jnp.array([age_values[initial_age_index], age_values[initial_age_index]])\n",
    "rubixdata.stars.metallicity = jnp.array([metallicity_values[metallicity_index], metallicity_values[metallicity_index]])\n",
    "rubixdata.stars.mass = jnp.array([[1.0, 1.0]])\n",
    "rubixdata.stars.velocity = jnp.array([[0.0, 0.0, 0.0], [0.0, 0.0, 0.0]])"
   ]
  },
  {
   "cell_type": "code",
   "execution_count": null,
   "metadata": {},
   "outputs": [],
   "source": [
    "# NBVAL_SKIP\n",
    "initial = pipe.run(rubixdata)"
   ]
  },
  {
   "cell_type": "markdown",
   "metadata": {},
   "source": [
    "# Adam optimizer"
   ]
  },
  {
   "cell_type": "code",
   "execution_count": null,
   "metadata": {},
   "outputs": [],
   "source": [
    "# NBVAL_SKIP\n",
    "from rubix.pipeline import linear_pipeline as pipeline\n",
    "\n",
    "pipeline_instance = RubixPipeline(config)\n",
    "\n",
    "pipeline_instance._pipeline = pipeline.LinearTransformerPipeline(\n",
    "    pipeline_instance.pipeline_config, \n",
    "    pipeline_instance._get_pipeline_functions()\n",
    ")\n",
    "pipeline_instance._pipeline.assemble()\n",
    "pipeline_instance.func = pipeline_instance._pipeline.compile_expression()"
   ]
  },
  {
   "cell_type": "code",
   "execution_count": null,
   "metadata": {},
   "outputs": [],
   "source": [
    "# NBVAL_SKIP\n",
    "def loss_only_wrt_age(age, base_data, target):\n",
    "    #data_modified = deepcopy(base_data)\n",
    "    base_data.stars.age = age\n",
    "    # Verwende den vor-kompilierten Funktionsaufruf\n",
    "    output = pipeline_instance.func(base_data)\n",
    "    loss = jnp.sum((output.stars.datacube - target.stars.datacube) ** 2)\n",
    "    return loss"
   ]
  },
  {
   "cell_type": "code",
   "execution_count": null,
   "metadata": {},
   "outputs": [],
   "source": [
    "# NBVAL_SKIP\n",
    "import jax\n",
    "import jax.numpy as jnp\n",
    "import optax\n",
    "\n",
    "#@jax.jit()\n",
    "#def compute_loss_and_grad(loss_fn, age, data, target):\n",
    "#    return jax.value_and_grad(loss_fn)(age, data, target)\n",
    "\n",
    "def adam_optimization(loss_fn, age_init, data, target, learning_rate=0.1, tol=1e-3, max_iter=500):\n",
    "    age = age_init  # initialize stellar age (a scalar)\n",
    "    optimizer = optax.adam(learning_rate)\n",
    "    optimizer_state = optimizer.init(age)\n",
    "    \n",
    "    age_history = []\n",
    "    loss_history = []\n",
    "    \n",
    "    for i in range(max_iter):\n",
    "        #loss, grad = compute_loss_and_grad(age, data, target)\n",
    "        loss, grad = jax.value_and_grad(loss_fn)(age, data, target)\n",
    "        #loss, grad = compute_loss_and_grad(loss_fn, age, data, target)\n",
    "        loss_history.append(float(loss))\n",
    "        age_history.append(float(age[0]))\n",
    "        \n",
    "        updates, optimizer_state = optimizer.update(grad, optimizer_state)\n",
    "        age = optax.apply_updates(age, updates)\n",
    "        \n",
    "        # Optionally clip the age to enforce physical constraints, e.g., between 0 and 10.3\n",
    "        age = jnp.clip(age, 0.0, 10.3)\n",
    "        \n",
    "        if jnp.linalg.norm(updates) < tol:\n",
    "            print(f\"Converged at iteration {i}\")\n",
    "            break\n",
    "\n",
    "    return age, jnp.array(age_history), jnp.array(loss_history)"
   ]
  },
  {
   "cell_type": "code",
   "execution_count": null,
   "metadata": {},
   "outputs": [],
   "source": [
    "# NBVAL_SKIP\n",
    "data = initial  # Replace with your actual data if needed\n",
    "target_value = target  # Replace with your actual target\n",
    "age_init = jnp.array([age_values[initial_age_index], age_values[initial_age_index]])  # Initial guess for the stellar age\n",
    "\n",
    "optimized_age, age_history, loss_history = adam_optimization(loss_only_wrt_age, age_init, data, target_value,\n",
    "                                                               learning_rate=learning, tol=tol, max_iter=1000)\n",
    "\n",
    "#optimized_age, age_history, loss_history = adam_scan(pipe.loss_only_wrt_age, age_init, data, target_value,\n",
    "#                                                               learning_rate=learning, max_iter=500)\n",
    "\n",
    "print(f\"Optimized Age: {optimized_age}\")\n",
    "\n"
   ]
  },
  {
   "cell_type": "code",
   "execution_count": null,
   "metadata": {},
   "outputs": [],
   "source": [
    "# NBVAL_SKIP\n",
    "import matplotlib.pyplot as plt\n",
    "import numpy as np\n",
    "\n",
    "# If loss_history is a JAX array, convert it to a NumPy array:\n",
    "loss_history_np = np.array(loss_history)\n",
    "\n",
    "# Create an array for the x-axis indices\n",
    "indices = np.arange(len(loss_history_np))\n",
    "\n",
    "plt.figure(figsize=(8, 6))\n",
    "plt.plot(indices, loss_history_np, marker='o', linestyle='-')\n",
    "plt.xlabel(\"Iteration\")\n",
    "plt.ylabel(\"Loss\")\n",
    "plt.title(\"Loss History\")\n",
    "plt.grid(True)\n",
    "#plt.ylim(-1e-8, 2e-7)\n",
    "#plt.savefig(f\"./output/optimizer/optimization_progress_loss_metals{metallicity_index}_agestart{initial_age_index}_to{index}_learning{learning}_tol{tol}.png\")\n",
    "plt.show()"
   ]
  },
  {
   "cell_type": "code",
   "execution_count": null,
   "metadata": {},
   "outputs": [],
   "source": [
    "# NBVAL_SKIP\n",
    "import matplotlib.pyplot as plt\n",
    "import numpy as np\n",
    "\n",
    "# If age_history is a JAX array, convert it to a NumPy array:\n",
    "age_history_np = np.array(age_history)\n",
    "\n",
    "# Create an array for the x-axis indices\n",
    "indices = np.arange(len(age_history_np))\n",
    "\n",
    "plt.figure(figsize=(8, 6))\n",
    "plt.plot(indices, age_history_np, marker='o', linestyle='-')\n",
    "plt.hlines(y=age_values[index], xmin=0, xmax=len(age_history_np), color='r', linestyle='-')\n",
    "plt.xlabel(\"Iteration\")\n",
    "plt.ylabel(\"Age\")\n",
    "plt.title(\"Age History\")\n",
    "plt.grid(True)\n",
    "#plt.savefig(f\"./output/optimizer/optimization_progress_age_metals{metallicity_index}_agestart{initial_age_index}_to{index}_learning{learning}_tol{tol}.png\")\n",
    "plt.show()\n",
    "\n"
   ]
  },
  {
   "cell_type": "code",
   "execution_count": null,
   "metadata": {},
   "outputs": [],
   "source": [
    "# NBVAL_SKIP\n",
    "#run the pipeline with the optimized age\n",
    "#rubixdata.stars.age = optimized_age\n",
    "i = 0\n",
    "rubixdata.stars.age = jnp.array([age_history[i], age_history[i]])\n",
    "rubixdata.stars.metallicity = jnp.array([metallicity_values[metallicity_index], metallicity_values[metallicity_index]])\n",
    "rubixdata.stars.mass = jnp.array([[1.0, 1.0]])\n",
    "rubixdata.stars.velocity = jnp.array([[0.0, 0.0, 0.0], [0.0, 0.0, 0.0]])\n",
    "\n",
    "pipe = RubixPipeline(config)\n",
    "rubixdata = pipe.run(rubixdata)\n",
    "\n",
    "#plot the target and the optimized spectra\n",
    "import matplotlib.pyplot as plt\n",
    "wave = pipe.telescope.wave_seq\n",
    "\n",
    "spectra_target = target.stars.datacube\n",
    "spectra_optimitzed = rubixdata.stars.datacube\n",
    "\n",
    "plt.plot(wave, spectra_target[0,0,:], label=f\"Target age = {age_values[index]:.2f}\")\n",
    "plt.plot(wave, spectra_optimitzed[0,0,:], label=f\"Optimized age = {age_history[i]:.2f}\")\n",
    "plt.xlabel(\"Wavelength [Å]\")\n",
    "plt.ylabel(\"Luminosity [L/Å]\")\n",
    "plt.title(f\"Loss {loss_history[i]:.2e}\")\n",
    "plt.legend()\n",
    "#plt.ylim(0, 0.0003)\n",
    "plt.grid(True)\n",
    "plt.show()"
   ]
  },
  {
   "cell_type": "code",
   "execution_count": null,
   "metadata": {},
   "outputs": [],
   "source": [
    "# NBVAL_SKIP\n",
    "#run the pipeline with the optimized age\n",
    "#rubixdata.stars.age = optimized_age\n",
    "i = -1\n",
    "rubixdata.stars.age = jnp.array([age_history[i], age_history[i]])\n",
    "rubixdata.stars.metallicity = jnp.array([metallicity_values[metallicity_index], metallicity_values[metallicity_index]])\n",
    "rubixdata.stars.mass = jnp.array([[1.0, 1.0]])\n",
    "rubixdata.stars.velocity = jnp.array([[0.0, 0.0, 0.0], [0.0, 0.0, 0.0]])\n",
    "\n",
    "pipe = RubixPipeline(config)\n",
    "rubixdata = pipe.run(rubixdata)\n",
    "\n",
    "#plot the target and the optimized spectra\n",
    "import matplotlib.pyplot as plt\n",
    "wave = pipe.telescope.wave_seq\n",
    "\n",
    "spectra_target = target.stars.datacube\n",
    "spectra_optimitzed = rubixdata.stars.datacube\n",
    "\n",
    "plt.plot(wave, spectra_target[0,0,:], label=f\"Target age = {age_values[index]:.2f}\")\n",
    "plt.plot(wave, spectra_optimitzed[0,0,:], label=f\"Optimized age = {age_history[i]:.2f}\")\n",
    "plt.xlabel(\"Wavelength [Å]\")\n",
    "plt.ylabel(\"Luminosity [L/Å]\")\n",
    "plt.title(f\"Loss {loss_history[i]:.2e}\")\n",
    "plt.legend()\n",
    "#plt.ylim(0, 0.0003)\n",
    "plt.grid(True)\n",
    "plt.show()"
   ]
  }
 ],
 "metadata": {
  "kernelspec": {
   "display_name": "Python 3",
   "language": "python",
   "name": "python3"
  },
  "language_info": {
   "codemirror_mode": {
    "name": "ipython",
    "version": 3
   },
   "file_extension": ".py",
   "mimetype": "text/x-python",
   "name": "python",
   "nbconvert_exporter": "python",
   "pygments_lexer": "ipython3",
   "version": "3.13.2"
  }
 },
 "nbformat": 4,
 "nbformat_minor": 2
}
