{
 "cells": [
  {
   "cell_type": "code",
   "execution_count": null,
   "id": "edac2421",
   "metadata": {},
   "outputs": [],
   "source": [
    "# NBVAL_SKIP\n",
    "import os\n",
    "#  os.environ['SPS_HOME'] = '/mnt/storage/annalena_data/sps_fsps'\n",
    "#os.environ['SPS_HOME'] = '/home/annalena/sps_fsps'\n",
    "#os.environ['SPS_HOME'] = '/Users/annalena/Documents/GitHub/fsps'\n",
    "os.environ['SPS_HOME'] = '/export/home/aschaibl/fsps'\n",
    "os.environ['CUDA_VISIBLE_DEVICES'] = '0, 1, 2, 3, 4 '\n"
   ]
  },
  {
   "cell_type": "code",
   "execution_count": 2,
   "id": "c5ba1ca6",
   "metadata": {},
   "outputs": [
    {
     "name": "stderr",
     "output_type": "stream",
     "text": [
      "2025-05-08 23:07:50,850 - rubix - INFO - \n",
      "   ___  __  _____  _____  __\n",
      "  / _ \\/ / / / _ )/  _/ |/_/\n",
      " / , _/ /_/ / _  |/ /_>  <\n",
      "/_/|_|\\____/____/___/_/|_|\n",
      "\n",
      "\n",
      "2025-05-08 23:07:50,853 - rubix - INFO - Rubix version: 0.0.post417+g76e9abf.d20250424\n",
      "2025-05-08 23:07:50,853 - rubix - INFO - JAX version: 0.6.0\n",
      "2025-05-08 23:07:50,854 - rubix - INFO - Running on [CudaDevice(id=0), CudaDevice(id=1), CudaDevice(id=2), CudaDevice(id=3)] devices\n"
     ]
    }
   ],
   "source": [
    "#NBVAL_SKIP\n",
    "import matplotlib.pyplot as plt\n",
    "from rubix.core.pipeline import RubixPipeline \n",
    "import os\n",
    "config = {\n",
    "    \"pipeline\":{\"name\": \"calc_ifu\"},\n",
    "    \n",
    "    \"logger\": {\n",
    "        \"log_level\": \"DEBUG\",\n",
    "        \"log_file_path\": None,\n",
    "        \"format\": \"%(asctime)s - %(name)s - %(levelname)s - %(message)s\",\n",
    "    },\n",
    "    \"data\": {\n",
    "        \"name\": \"IllustrisAPI\",\n",
    "        \"args\": {\n",
    "            \"api_key\": os.environ.get(\"ILLUSTRIS_API_KEY\"),\n",
    "            \"particle_type\": [\"stars\"],\n",
    "            \"simulation\": \"TNG50-1\",\n",
    "            \"snapshot\": 99,\n",
    "            \"save_data_path\": \"data\",\n",
    "        },\n",
    "        \n",
    "        \"load_galaxy_args\": {\n",
    "        \"id\": 14,\n",
    "        \"reuse\": True,\n",
    "        },\n",
    "        \n",
    "        \"subset\": {\n",
    "            \"use_subset\": True,\n",
    "            \"subset_size\": 400000,\n",
    "        },\n",
    "    },\n",
    "    \"simulation\": {\n",
    "        \"name\": \"IllustrisTNG\",\n",
    "        \"args\": {\n",
    "            \"path\": \"data/galaxy-id-14.hdf5\",\n",
    "        },\n",
    "    \n",
    "    },\n",
    "    \"output_path\": \"output\",\n",
    "\n",
    "    \"telescope\":\n",
    "        {\"name\": \"MUSE\",\n",
    "         \"psf\": {\"name\": \"gaussian\", \"size\": 5, \"sigma\": 0.6},\n",
    "         \"lsf\": {\"sigma\": 0.5},\n",
    "         \"noise\": {\"signal_to_noise\": 100,\"noise_distribution\": \"normal\"},},\n",
    "    \"cosmology\":\n",
    "        {\"name\": \"PLANCK15\"},\n",
    "        \n",
    "    \"galaxy\":\n",
    "        {\"dist_z\": 0.1,\n",
    "         \"rotation\": {\"type\": \"edge-on\"},\n",
    "        },\n",
    "        \n",
    "    \"ssp\": {\n",
    "        \"template\": {\n",
    "            \"name\": \"FSPS\"\n",
    "        },\n",
    "        \"dust\": {\n",
    "                \"extinction_model\": \"Cardelli89\",\n",
    "                \"dust_to_gas_ratio\": 0.01,\n",
    "                \"dust_to_metals_ratio\": 0.4,\n",
    "                \"dust_grain_density\": 3.5,\n",
    "                \"Rv\": 3.1,\n",
    "            },\n",
    "    },        \n",
    "}"
   ]
  },
  {
   "cell_type": "code",
   "execution_count": 3,
   "id": "5a85bfe9",
   "metadata": {},
   "outputs": [],
   "source": [
    "import jax\n",
    "import jax.numpy as jnp\n",
    "\n",
    "n_particles = 400_000\n",
    "\n",
    "age = jnp.linspace(0, 20, n_particles, )\n",
    "metallicity = jnp.linspace(0., 0.05, n_particles, )\n",
    "\n",
    "from jax.sharding import Mesh, PartitionSpec as P\n",
    "from jax.experimental import shard_map\n",
    "from jax.sharding import NamedSharding\n",
    "\n",
    "\n",
    "\n",
    "devices = jax.devices()\n",
    "mesh = Mesh(devices, axis_names=('N_particles',))\n",
    "sharding = NamedSharding(mesh, P('N_particles')) \n",
    "\n",
    "age = jax.device_put(age, sharding)\n",
    "metallicity = jax.device_put(metallicity, sharding)"
   ]
  },
  {
   "cell_type": "code",
   "execution_count": 4,
   "id": "e857c3de",
   "metadata": {},
   "outputs": [],
   "source": [
    "age = jnp.atleast_1d(age)\n",
    "metallicity = jnp.atleast_1d(metallicity)"
   ]
  },
  {
   "cell_type": "code",
   "execution_count": 7,
   "id": "3f181ff3",
   "metadata": {},
   "outputs": [],
   "source": [
    "from rubix.core.ssp import get_lookup_interpolation"
   ]
  },
  {
   "cell_type": "code",
   "execution_count": 8,
   "id": "8016babb",
   "metadata": {},
   "outputs": [
    {
     "name": "stderr",
     "output_type": "stream",
     "text": [
      "2025-05-08 23:08:16,661 - rubix - DEBUG - Method not defined, using default method: cubic\n"
     ]
    }
   ],
   "source": [
    "lookup_interpolation = get_lookup_interpolation(config)"
   ]
  },
  {
   "cell_type": "code",
   "execution_count": 9,
   "id": "0622cce9",
   "metadata": {},
   "outputs": [
    {
     "name": "stdout",
     "output_type": "stream",
     "text": [
      "lookup_interpolation Partial(<PjitFunction of <function interp2d at 0x730aa0d6a8e0>>, method='cubic', x=Array([4.4904351e-05, 1.4200003e-04, 2.5251572e-04, 4.4904352e-04,\n",
      "       7.9852482e-04, 1.4200003e-03, 2.5251573e-03, 4.4904351e-03,\n",
      "       7.9852482e-03, 1.4199999e-02, 2.5251566e-02, 4.4904340e-02],      dtype=float32), y=Array([1.00000005e-04, 1.12201837e-04, 1.25892519e-04, 1.41253782e-04,\n",
      "       1.58489333e-04, 1.77827940e-04, 1.99526214e-04, 2.23872063e-04,\n",
      "       2.51188700e-04, 2.81838322e-04, 3.16227757e-04, 3.54813354e-04,\n",
      "       3.98107077e-04, 4.46683698e-04, 5.01187285e-04, 5.62341302e-04,\n",
      "       6.30957307e-04, 7.07945612e-04, 7.94328400e-04, 8.91251024e-04,\n",
      "       1.00000005e-03, 1.12201832e-03, 1.25892507e-03, 1.41253788e-03,\n",
      "       1.58489333e-03, 1.77827943e-03, 1.99526199e-03, 2.23872066e-03,\n",
      "       2.51188688e-03, 2.81838328e-03, 3.16227763e-03, 3.54813342e-03,\n",
      "       3.98107106e-03, 4.46683681e-03, 5.01187285e-03, 5.62341325e-03,\n",
      "       6.30957261e-03, 7.07945647e-03, 7.94328377e-03, 8.91251024e-03,\n",
      "       9.99999978e-03, 1.12201832e-02, 1.25892544e-02, 1.41253741e-02,\n",
      "       1.58489328e-02, 1.77827943e-02, 1.99526213e-02, 2.23872140e-02,\n",
      "       2.51188632e-02, 2.81838328e-02, 3.16227749e-02, 3.54813337e-02,\n",
      "       3.98107208e-02, 4.46683578e-02, 5.01187295e-02, 5.62341325e-02,\n",
      "       6.30957261e-02, 7.07945824e-02, 7.94328228e-02, 8.91251042e-02,\n",
      "       1.00000001e-01, 1.12201847e-01, 1.25892550e-01, 1.41253740e-01,\n",
      "       1.58489317e-01, 1.77827939e-01, 1.99526235e-01, 2.23872125e-01,\n",
      "       2.51188636e-01, 2.81838298e-01, 3.16227764e-01, 3.54813397e-01,\n",
      "       3.98107171e-01, 4.46683586e-01, 5.01187205e-01, 5.62341332e-01,\n",
      "       6.30957365e-01, 7.07945764e-01, 7.94328213e-01, 8.91250908e-01,\n",
      "       1.00000000e+00, 1.12201846e+00, 1.25892544e+00, 1.41253757e+00,\n",
      "       1.58489323e+00, 1.77827942e+00, 1.99526238e+00, 2.23872113e+00,\n",
      "       2.51188660e+00, 2.81838274e+00, 3.16227770e+00, 3.54813409e+00,\n",
      "       3.98107195e+00, 4.46683550e+00, 5.01187229e+00, 5.62341309e+00,\n",
      "       6.30957365e+00, 7.07945824e+00, 7.94328213e+00, 8.91250896e+00,\n",
      "       1.00000000e+01, 1.12201834e+01, 1.25892544e+01, 1.41253748e+01,\n",
      "       1.58489332e+01, 1.77827950e+01, 1.99526215e+01], dtype=float32), f=Array([[[3.69801944e-25, 1.71711785e-25, 1.01008924e-25, ...,\n",
      "         4.20808249e-11, 4.13591869e-11, 4.06485991e-11],\n",
      "        [2.95627621e-25, 1.37270093e-25, 8.07487082e-26, ...,\n",
      "         3.36403162e-11, 3.30634235e-11, 3.24953640e-11],\n",
      "        [3.62052076e-25, 1.68113235e-25, 9.88920961e-26, ...,\n",
      "         4.11989401e-11, 4.04924289e-11, 3.97967319e-11],\n",
      "        ...,\n",
      "        [0.00000000e+00, 0.00000000e+00, 0.00000000e+00, ...,\n",
      "         6.87085782e-21, 6.62186151e-21, 6.38153848e-21],\n",
      "        [0.00000000e+00, 0.00000000e+00, 0.00000000e+00, ...,\n",
      "         6.64786358e-21, 6.40694763e-21, 6.17442546e-21],\n",
      "        [0.00000000e+00, 0.00000000e+00, 0.00000000e+00, ...,\n",
      "         6.16116230e-21, 5.93788412e-21, 5.72238539e-21]],\n",
      "\n",
      "       [[2.47674418e-25, 1.15003767e-25, 6.76506097e-26, ...,\n",
      "         2.81835822e-11, 2.77002657e-11, 2.72243512e-11],\n",
      "        [2.70331983e-25, 1.25524459e-25, 7.38393714e-26, ...,\n",
      "         3.07618514e-11, 3.02343220e-11, 2.97148695e-11],\n",
      "        [3.59155428e-25, 1.66768228e-25, 9.81008994e-26, ...,\n",
      "         4.08693253e-11, 4.01684623e-11, 3.94783338e-11],\n",
      "        ...,\n",
      "        [0.00000000e+00, 0.00000000e+00, 0.00000000e+00, ...,\n",
      "         8.89014787e-21, 8.56769041e-21, 8.25660749e-21],\n",
      "        [0.00000000e+00, 0.00000000e+00, 0.00000000e+00, ...,\n",
      "         8.48373481e-21, 8.17602604e-21, 7.87917160e-21],\n",
      "        [0.00000000e+00, 0.00000000e+00, 0.00000000e+00, ...,\n",
      "         6.92724666e-21, 6.67610364e-21, 6.43376153e-21]],\n",
      "\n",
      "       [[2.81423712e-25, 1.30674723e-25, 7.68690040e-26, ...,\n",
      "         3.20240119e-11, 3.14748366e-11, 3.09340713e-11],\n",
      "        [2.62237481e-25, 1.21765895e-25, 7.16284100e-26, ...,\n",
      "         2.98407549e-11, 2.93290184e-11, 2.88251211e-11],\n",
      "        [2.73612140e-25, 1.27047540e-25, 7.47353201e-26, ...,\n",
      "         3.11351084e-11, 3.06011778e-11, 3.00754213e-11],\n",
      "        ...,\n",
      "        [1.32808084e-10, 1.46964954e-10, 1.78483950e-10, ...,\n",
      "         8.73207478e-21, 8.41537447e-21, 8.10981686e-21],\n",
      "        [5.43437206e-09, 5.32875122e-09, 5.96376948e-09, ...,\n",
      "         8.36363771e-21, 8.06031204e-21, 7.76765247e-21],\n",
      "        [9.67010383e-09, 9.52066159e-09, 1.06839435e-08, ...,\n",
      "         7.63764698e-21, 7.36066264e-21, 7.09341060e-21]],\n",
      "\n",
      "       ...,\n",
      "\n",
      "       [[3.35264627e-25, 1.55674908e-25, 9.15752880e-26, ...,\n",
      "         3.81507222e-11, 3.74964816e-11, 3.68522574e-11],\n",
      "        [3.28182234e-25, 1.52386307e-25, 8.96407792e-26, ...,\n",
      "         3.73447974e-11, 3.67043756e-11, 3.60737620e-11],\n",
      "        [3.33899035e-25, 1.55040824e-25, 9.12022862e-26, ...,\n",
      "         3.79953291e-11, 3.73437531e-11, 3.67021517e-11],\n",
      "        ...,\n",
      "        [8.59993882e-11, 1.15849191e-10, 1.53091637e-10, ...,\n",
      "         1.75658879e-20, 1.69284419e-20, 1.63133959e-20],\n",
      "        [4.22778722e-11, 5.95679478e-11, 7.97761926e-11, ...,\n",
      "         1.53844511e-20, 1.48262221e-20, 1.42875434e-20],\n",
      "        [2.23467148e-11, 3.41603967e-11, 4.68701189e-11, ...,\n",
      "         1.51603821e-20, 1.46103038e-20, 1.40795349e-20]],\n",
      "\n",
      "       [[3.28365965e-25, 1.52471627e-25, 8.96909643e-26, ...,\n",
      "         3.73657043e-11, 3.67249252e-11, 3.60939577e-11],\n",
      "        [3.06845691e-25, 1.42479015e-25, 8.38128412e-26, ...,\n",
      "         3.49168507e-11, 3.43180658e-11, 3.37284506e-11],\n",
      "        [3.15609887e-25, 1.46548539e-25, 8.62067320e-26, ...,\n",
      "         3.59141536e-11, 3.52982678e-11, 3.46918119e-11],\n",
      "        ...,\n",
      "        [4.62700885e-11, 7.34858702e-11, 1.02663184e-10, ...,\n",
      "         1.95786429e-20, 1.88677474e-20, 1.81815365e-20],\n",
      "        [5.22229378e-11, 7.36018815e-11, 9.85654544e-11, ...,\n",
      "         1.83188566e-20, 1.76538179e-20, 1.70122553e-20],\n",
      "        [3.85684748e-11, 5.60884464e-11, 7.57659144e-11, ...,\n",
      "         1.75572090e-20, 1.69198550e-20, 1.63050046e-20]],\n",
      "\n",
      "       [[3.02441580e-25, 1.40434041e-25, 8.26098899e-26, ...,\n",
      "         3.44156960e-11, 3.38255049e-11, 3.32443517e-11],\n",
      "        [3.15393394e-25, 1.46448021e-25, 8.61475921e-26, ...,\n",
      "         3.58895171e-11, 3.52740545e-11, 3.46680150e-11],\n",
      "        [3.26780774e-25, 1.51735571e-25, 8.92579844e-26, ...,\n",
      "         3.71853208e-11, 3.65476364e-11, 3.59197151e-11],\n",
      "        ...,\n",
      "        [3.19179711e-22, 1.78760657e-21, 5.73130869e-21, ...,\n",
      "         1.93975841e-20, 1.86948069e-20, 1.80162264e-20],\n",
      "        [6.14501020e-11, 8.57527313e-11, 1.14455764e-10, ...,\n",
      "         2.07055004e-20, 1.99535222e-20, 1.92279652e-20],\n",
      "        [1.24949378e-12, 2.30248633e-12, 3.44144765e-12, ...,\n",
      "         2.00280460e-20, 1.93006602e-20, 1.85987619e-20]]], dtype=float32), extrap=0)\n"
     ]
    }
   ],
   "source": [
    "print(\"lookup_interpolation\", lookup_interpolation)"
   ]
  },
  {
   "cell_type": "code",
   "execution_count": 10,
   "id": "fe481d17",
   "metadata": {},
   "outputs": [
    {
     "name": "stderr",
     "output_type": "stream",
     "text": [
      "2025-05-08 23:08:20.694754: E external/xla/xla/service/gpu/gpu_hlo_schedule.cc:652] The byte size of input/output arguments (9621985660) exceeds the base limit (8654290944). This indicates an error in the calculation!\n",
      "2025-05-08 23:08:20.703903: W external/xla/xla/hlo/transforms/simplifiers/hlo_rematerialization.cc:3021] Can't reduce memory use below 0B (0 bytes) by rematerialization; only reduced to 8.94GiB (9597600124 bytes), down from 8.94GiB (9597600124 bytes) originally\n",
      "2025-05-08 23:08:31.169703: W external/xla/xla/tsl/framework/bfc_allocator.cc:501] Allocator (GPU_0_bfc) ran out of memory trying to allocate 8.93GiB (rounded to 9590400000)requested by op \n",
      "2025-05-08 23:08:31.169909: W external/xla/xla/tsl/framework/bfc_allocator.cc:512] **__________________________________________________________________________________________________\n",
      "E0508 23:08:31.169937 2740412 pjrt_stream_executor_client.cc:2839] Execution of replica 0 failed: RESOURCE_EXHAUSTED: Out of memory while trying to allocate 9590400000 bytes. [tf-allocator-allocation-error='']\n",
      "2025-05-08 23:08:31.170372: W external/xla/xla/tsl/framework/bfc_allocator.cc:501] Allocator (GPU_1_bfc) ran out of memory trying to allocate 8.93GiB (rounded to 9590400000)requested by op \n",
      "2025-05-08 23:08:31.170537: W external/xla/xla/tsl/framework/bfc_allocator.cc:512] *___________________________________________________________________________________________________\n",
      "E0508 23:08:31.170558 2740415 pjrt_stream_executor_client.cc:2839] Execution of replica 0 failed: RESOURCE_EXHAUSTED: Out of memory while trying to allocate 9590400000 bytes. [tf-allocator-allocation-error='']\n",
      "2025-05-08 23:08:31.171601: W external/xla/xla/tsl/framework/bfc_allocator.cc:501] Allocator (GPU_2_bfc) ran out of memory trying to allocate 8.93GiB (rounded to 9590400000)requested by op \n",
      "2025-05-08 23:08:31.171784: W external/xla/xla/tsl/framework/bfc_allocator.cc:512] *___________________________________________________________________________________________________\n",
      "E0508 23:08:31.171805 2740418 pjrt_stream_executor_client.cc:2839] Execution of replica 0 failed: RESOURCE_EXHAUSTED: Out of memory while trying to allocate 9590400000 bytes. [tf-allocator-allocation-error='']\n",
      "2025-05-08 23:08:31.173120: W external/xla/xla/tsl/framework/bfc_allocator.cc:501] Allocator (GPU_3_bfc) ran out of memory trying to allocate 8.93GiB (rounded to 9590400000)requested by op \n",
      "2025-05-08 23:08:31.173458: W external/xla/xla/tsl/framework/bfc_allocator.cc:512] *___________________________________________________________________________________________________\n",
      "E0508 23:08:31.173499 2740421 pjrt_stream_executor_client.cc:2839] Execution of replica 0 failed: RESOURCE_EXHAUSTED: Out of memory while trying to allocate 9590400000 bytes. [tf-allocator-allocation-error='']\n"
     ]
    },
    {
     "ename": "XlaRuntimeError",
     "evalue": "RESOURCE_EXHAUSTED: Out of memory while trying to allocate 9590400000 bytes.: while running replica 0 and partition 0 of a replicated computation (other replicas may have failed as well).",
     "output_type": "error",
     "traceback": [
      "\u001b[0;31m---------------------------------------------------------------------------\u001b[0m",
      "\u001b[0;31mXlaRuntimeError\u001b[0m                           Traceback (most recent call last)",
      "Cell \u001b[0;32mIn[10], line 5\u001b[0m\n\u001b[1;32m      2\u001b[0m     age, metallicity \u001b[38;5;241m=\u001b[39m age_metallicity\n\u001b[1;32m      3\u001b[0m     \u001b[38;5;28;01mreturn\u001b[39;00m lookup_interpolation(age, metallicity)\n\u001b[0;32m----> 5\u001b[0m interpolation \u001b[38;5;241m=\u001b[39m \u001b[43mjax\u001b[49m\u001b[38;5;241;43m.\u001b[39;49m\u001b[43mlax\u001b[49m\u001b[38;5;241;43m.\u001b[39;49m\u001b[43mmap\u001b[49m\u001b[43m(\u001b[49m\u001b[43mlookup_interpolation_lax\u001b[49m\u001b[43m,\u001b[49m\u001b[43m \u001b[49m\u001b[43m(\u001b[49m\u001b[43mage\u001b[49m\u001b[43m,\u001b[49m\u001b[43m \u001b[49m\u001b[43mmetallicity\u001b[49m\u001b[43m)\u001b[49m\u001b[43m,\u001b[49m\u001b[43m \u001b[49m\u001b[43mbatch_size\u001b[49m\u001b[38;5;241;43m=\u001b[39;49m\u001b[38;5;241;43m1\u001b[39;49m\u001b[43m)\u001b[49m\n",
      "    \u001b[0;31m[... skipping hidden 14 frame]\u001b[0m\n",
      "File \u001b[0;32m~/miniconda3/envs/rubix/lib/python3.11/site-packages/jax/_src/interpreters/pxla.py:1298\u001b[0m, in \u001b[0;36mExecuteReplicated.__call__\u001b[0;34m(self, *args)\u001b[0m\n\u001b[1;32m   1296\u001b[0m   \u001b[38;5;28mself\u001b[39m\u001b[38;5;241m.\u001b[39m_handle_token_bufs(result_token_bufs, sharded_runtime_token)\n\u001b[1;32m   1297\u001b[0m \u001b[38;5;28;01melse\u001b[39;00m:\n\u001b[0;32m-> 1298\u001b[0m   results \u001b[38;5;241m=\u001b[39m \u001b[38;5;28;43mself\u001b[39;49m\u001b[38;5;241;43m.\u001b[39;49m\u001b[43mxla_executable\u001b[49m\u001b[38;5;241;43m.\u001b[39;49m\u001b[43mexecute_sharded\u001b[49m\u001b[43m(\u001b[49m\u001b[43minput_bufs\u001b[49m\u001b[43m)\u001b[49m\n\u001b[1;32m   1300\u001b[0m \u001b[38;5;28;01mif\u001b[39;00m dispatch\u001b[38;5;241m.\u001b[39mneeds_check_special():\n\u001b[1;32m   1301\u001b[0m   out_arrays \u001b[38;5;241m=\u001b[39m results\u001b[38;5;241m.\u001b[39mdisassemble_into_single_device_arrays()\n",
      "\u001b[0;31mXlaRuntimeError\u001b[0m: RESOURCE_EXHAUSTED: Out of memory while trying to allocate 9590400000 bytes.: while running replica 0 and partition 0 of a replicated computation (other replicas may have failed as well)."
     ]
    }
   ],
   "source": [
    "def lookup_interpolation_lax(age_metallicity):\n",
    "    age, metallicity = age_metallicity\n",
    "    return lookup_interpolation(age, metallicity)\n",
    "\n",
    "interpolation = jax.lax.map(lookup_interpolation_lax, (age, metallicity), batch_size=1)"
   ]
  },
  {
   "cell_type": "code",
   "execution_count": 4,
   "id": "47236b6c",
   "metadata": {},
   "outputs": [
    {
     "ename": "NameError",
     "evalue": "name 'lookup_interpolation_lax' is not defined",
     "output_type": "error",
     "traceback": [
      "\u001b[0;31m---------------------------------------------------------------------------\u001b[0m",
      "\u001b[0;31mNameError\u001b[0m                                 Traceback (most recent call last)",
      "Cell \u001b[0;32mIn[4], line 1\u001b[0m\n\u001b[0;32m----> 1\u001b[0m _, interpolation \u001b[38;5;241m=\u001b[39m \u001b[43mjax\u001b[49m\u001b[38;5;241;43m.\u001b[39;49m\u001b[43mlax\u001b[49m\u001b[38;5;241;43m.\u001b[39;49m\u001b[43mscan\u001b[49m\u001b[43m(\u001b[49m\n\u001b[1;32m      2\u001b[0m \u001b[43m                    \u001b[49m\u001b[38;5;28;43;01mlambda\u001b[39;49;00m\u001b[43m \u001b[49m\u001b[43mcarry\u001b[49m\u001b[43m,\u001b[49m\u001b[43m \u001b[49m\u001b[43mx\u001b[49m\u001b[43m:\u001b[49m\u001b[43m \u001b[49m\u001b[43m(\u001b[49m\u001b[43mcarry\u001b[49m\u001b[43m,\u001b[49m\u001b[43m \u001b[49m\u001b[43mlookup_interpolation_lax\u001b[49m\u001b[43m(\u001b[49m\u001b[43mx\u001b[49m\u001b[43m)\u001b[49m\u001b[43m)\u001b[49m\u001b[43m,\u001b[49m\n\u001b[1;32m      3\u001b[0m \u001b[43m                    \u001b[49m\u001b[38;5;28;43;01mNone\u001b[39;49;00m\u001b[43m,\u001b[49m\n\u001b[1;32m      4\u001b[0m \u001b[43m                    \u001b[49m\u001b[43m(\u001b[49m\u001b[43mage\u001b[49m\u001b[43m,\u001b[49m\u001b[43m \u001b[49m\u001b[43mmetallicity\u001b[49m\u001b[43m)\u001b[49m\u001b[43m,\u001b[49m\n\u001b[1;32m      5\u001b[0m \u001b[43m                \u001b[49m\u001b[43m)\u001b[49m\n",
      "    \u001b[0;31m[... skipping hidden 10 frame]\u001b[0m\n",
      "Cell \u001b[0;32mIn[4], line 2\u001b[0m, in \u001b[0;36m<lambda>\u001b[0;34m(carry, x)\u001b[0m\n\u001b[1;32m      1\u001b[0m _, interpolation \u001b[38;5;241m=\u001b[39m jax\u001b[38;5;241m.\u001b[39mlax\u001b[38;5;241m.\u001b[39mscan(\n\u001b[0;32m----> 2\u001b[0m                     \u001b[38;5;28;01mlambda\u001b[39;00m carry, x: (carry, \u001b[43mlookup_interpolation_lax\u001b[49m(x)),\n\u001b[1;32m      3\u001b[0m                     \u001b[38;5;28;01mNone\u001b[39;00m,\n\u001b[1;32m      4\u001b[0m                     (age, metallicity),\n\u001b[1;32m      5\u001b[0m                 )\n",
      "\u001b[0;31mNameError\u001b[0m: name 'lookup_interpolation_lax' is not defined"
     ]
    }
   ],
   "source": [
    "_, interpolation = jax.lax.scan(\n",
    "                    lambda carry, x: (carry, lookup_interpolation_lax(x)),\n",
    "                    None,\n",
    "                    (age, metallicity),\n",
    "                )"
   ]
  },
  {
   "cell_type": "code",
   "execution_count": null,
   "id": "ef96f19f",
   "metadata": {},
   "outputs": [],
   "source": []
  },
  {
   "cell_type": "code",
   "execution_count": null,
   "id": "94e29597",
   "metadata": {},
   "outputs": [
    {
     "data": {
      "text/plain": [
       "[CudaDevice(id=0), CudaDevice(id=1)]"
      ]
     },
     "execution_count": 12,
     "metadata": {},
     "output_type": "execute_result"
    }
   ],
   "source": [
    "\n"
   ]
  },
  {
   "cell_type": "code",
   "execution_count": null,
   "id": "8b0c1c99",
   "metadata": {},
   "outputs": [],
   "source": []
  }
 ],
 "metadata": {
  "kernelspec": {
   "display_name": "rubix",
   "language": "python",
   "name": "python3"
  },
  "language_info": {
   "codemirror_mode": {
    "name": "ipython",
    "version": 3
   },
   "file_extension": ".py",
   "mimetype": "text/x-python",
   "name": "python",
   "nbconvert_exporter": "python",
   "pygments_lexer": "ipython3",
   "version": "3.11.9"
  }
 },
 "nbformat": 4,
 "nbformat_minor": 5
}
