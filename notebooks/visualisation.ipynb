{
 "cells": [
  {
   "cell_type": "markdown",
   "metadata": {},
   "source": [
    "# Visualisation of the datacube\n",
    "\n",
    "In this notebook, we show, how you can visualize the datacube and see the image and spectra and explore the datacube. First we show our own build tool to visualize the datacube and second we provide the opportunity to load the datacube with the Cubeviz module from jdaviz.\n",
    "\n",
    "`visualize_rubix` uses mpdaf to load the datacube. This is a package specialized to load MUSE datacubes. The function will thisplay you on the left an image collapsed along the wavelength and on the right a spectrum for a certain pixel or aperture. \n",
    "\n",
    "Explanation of the sliders:\n",
    "- Waveindex: Waveindex, which wavelength slice is plortted in the image.\n",
    "- Wavelengthrange: Range in wavelength that is collapsed to the image.\n",
    "- X Pixel: X coordinate of the displayed spectrum and x coordinate of the center of the aperture.\n",
    "- Y Pixel: Y coordinate of the displayed spectrum and y coordinate of the center of the aperture.\n",
    "- Radius: size of the circular aperture in pixels. If this value is set to zerro, only the spaxel specified in the x and y pixel is considered for the spectrum plot.\n",
    "\n",
    "Now you can explore your datacube with the sliders!"
   ]
  },
  {
   "cell_type": "code",
   "execution_count": null,
   "metadata": {},
   "outputs": [],
   "source": [
    "# NBVAL_SKIP\n",
    "from rubix.core.visualisation import visualize_rubix\n",
    "\n",
    "visualize_rubix(\"./output/IllustrisTNGid11_stars2_sn100.fits\")"
   ]
  },
  {
   "cell_type": "markdown",
   "metadata": {},
   "source": [
    "## Visualisation with Cubeviz\n",
    "\n",
    "Cubeviz is a common tool to explore datacubes. We integrated Cubeviz into RUBIX that you can easily use Cubeviz for fits files."
   ]
  },
  {
   "cell_type": "code",
   "execution_count": null,
   "metadata": {},
   "outputs": [],
   "source": [
    "# NBVAL_SKIP\n",
    "from rubix.core.visualisation import visualize_cubeviz\n",
    "\n",
    "visualize_cubeviz(\"./output/IllustrisTNGid11_stars2_sn100.fits\")"
   ]
  }
 ],
 "metadata": {
  "kernelspec": {
   "display_name": "rubix",
   "language": "python",
   "name": "python3"
  },
  "language_info": {
   "codemirror_mode": {
    "name": "ipython",
    "version": 3
   },
   "file_extension": ".py",
   "mimetype": "text/x-python",
   "name": "python",
   "nbconvert_exporter": "python",
   "pygments_lexer": "ipython3",
   "version": "3.10.13"
  }
 },
 "nbformat": 4,
 "nbformat_minor": 2
}
