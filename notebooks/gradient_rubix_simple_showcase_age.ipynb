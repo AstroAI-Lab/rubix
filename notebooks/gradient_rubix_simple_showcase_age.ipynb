{
 "cells": [
  {
   "cell_type": "code",
   "execution_count": null,
   "metadata": {},
   "outputs": [],
   "source": [
    "import os\n",
    "os.environ['SPS_HOME'] = '/home/annalena/sps_fsps'"
   ]
  },
  {
   "cell_type": "markdown",
   "metadata": {},
   "source": [
    "# Run once the original pipeline to get the rubixdata structure filled"
   ]
  },
  {
   "cell_type": "code",
   "execution_count": null,
   "metadata": {},
   "outputs": [],
   "source": [
    "from rubix.core.pipeline import RubixPipeline\n",
    "# Suppose you already have a user_config or path to config\n",
    "#config = \"../rubix/config/pipeline_config.yaml\"\n",
    "import os\n",
    "config = {\n",
    "    \"pipeline\":{\"name\": \"calc_gradient\"},\n",
    "    \n",
    "    \"logger\": {\n",
    "        \"log_level\": \"DEBUG\",\n",
    "        \"log_file_path\": None,\n",
    "        \"format\": \"%(asctime)s - %(name)s - %(levelname)s - %(message)s\",\n",
    "    },\n",
    "    \"data\": {\n",
    "        \"name\": \"IllustrisAPI\",\n",
    "        \"args\": {\n",
    "            \"api_key\": os.environ.get(\"ILLUSTRIS_API_KEY\"),\n",
    "            \"particle_type\": [\"stars\"],\n",
    "            \"simulation\": \"TNG50-1\",\n",
    "            \"snapshot\": 99,\n",
    "            \"save_data_path\": \"data\",\n",
    "        },\n",
    "        \n",
    "        \"load_galaxy_args\": {\n",
    "        \"id\": 14,\n",
    "        \"reuse\": True,\n",
    "        },\n",
    "        \n",
    "        \"subset\": {\n",
    "            \"use_subset\": True,\n",
    "            \"subset_size\": 2,\n",
    "        },\n",
    "    },\n",
    "    \"simulation\": {\n",
    "        \"name\": \"IllustrisTNG\",\n",
    "        \"args\": {\n",
    "            \"path\": \"data/galaxy-id-14.hdf5\",\n",
    "        },\n",
    "    \n",
    "    },\n",
    "    \"output_path\": \"output\",\n",
    "    \"output_modified\":  False,\n",
    "\n",
    "    \"telescope\":\n",
    "        {\"name\": \"TESTGRADIENT\",\n",
    "         \"psf\": {\"name\": \"gaussian\", \"size\": 5, \"sigma\": 0.6},\n",
    "         \"lsf\": {\"sigma\": 0.5},\n",
    "         \"noise\": {\"signal_to_noise\": 1,\"noise_distribution\": \"normal\"},\n",
    "         },\n",
    "    \"cosmology\":\n",
    "        {\"name\": \"PLANCK15\"},\n",
    "        \n",
    "    \"galaxy\":\n",
    "        {\"dist_z\": 0.1,\n",
    "         \"rotation\": {\"type\": \"edge-on\"},\n",
    "        },\n",
    "        \n",
    "    \"ssp\": {\n",
    "        \"template\": {\n",
    "            \"name\": \"FSPS\"\n",
    "        },\n",
    "    },        \n",
    "}\n",
    "pipe = RubixPipeline(config)\n",
    "rubixdata = pipe.run()"
   ]
  },
  {
   "cell_type": "markdown",
   "metadata": {},
   "source": [
    "# Set target values and create targetdatacube"
   ]
  },
  {
   "cell_type": "code",
   "execution_count": null,
   "metadata": {},
   "outputs": [],
   "source": [
    "import jax.numpy as jnp\n",
    "\n",
    "rubixdata.stars.age = jnp.array([5.0, 5.0])\n",
    "rubixdata.stars.metallicity = jnp.array([1.0e-4, 1.0e-4])\n",
    "rubixdata.stars.mass = jnp.array([[1.0, 1.0]])\n",
    "rubixdata.stars.velocity = jnp.array([[0.0, 0.0, 0.0], [0.0, 0.0, 0.0]])"
   ]
  },
  {
   "cell_type": "code",
   "execution_count": null,
   "metadata": {},
   "outputs": [],
   "source": [
    "#NBVAL_SKIP\n",
    "from rubix.core.pipeline_gradient import RubixPipeline\n",
    "# Suppose you already have a user_config or path to config\n",
    "#config = \"../rubix/config/pipeline_config.yaml\"\n",
    "import os\n",
    "config = {\n",
    "    \"pipeline\":{\"name\": \"calc_gradient\"},\n",
    "    \n",
    "    \"logger\": {\n",
    "        \"log_level\": \"DEBUG\",\n",
    "        \"log_file_path\": None,\n",
    "        \"format\": \"%(asctime)s - %(name)s - %(levelname)s - %(message)s\",\n",
    "    },\n",
    "     \"data\": {\n",
    "        \"args\": {\n",
    "            \"particle_type\": [\"stars\"],\n",
    "        },\n",
    "    },\n",
    "    \n",
    "    \"output_path\": \"output\",\n",
    "    \"output_modified\":  False,\n",
    "\n",
    "    \"telescope\":\n",
    "        {\"name\": \"TESTGRADIENT\",\n",
    "         \"psf\": {\"name\": \"gaussian\", \"size\": 5, \"sigma\": 0.6},\n",
    "         \"lsf\": {\"sigma\": 0.5},\n",
    "         \"noise\": {\"signal_to_noise\": 1,\"noise_distribution\": \"normal\"},\n",
    "         },\n",
    "    \"cosmology\":\n",
    "        {\"name\": \"PLANCK15\"},\n",
    "        \n",
    "    \"galaxy\":\n",
    "        {\"dist_z\": 0.1,\n",
    "         \"rotation\": {\"type\": \"edge-on\"},\n",
    "        },\n",
    "        \n",
    "    \"ssp\": {\n",
    "        \"template\": {\n",
    "            \"name\": \"FSPS\"\n",
    "        },\n",
    "    },        \n",
    "}\n",
    "pipe = RubixPipeline(config)\n",
    "rubixdata = pipe.run(rubixdata)\n",
    "\n",
    "target = rubixdata"
   ]
  },
  {
   "cell_type": "markdown",
   "metadata": {},
   "source": [
    "# Define values at which the gradient will be applied"
   ]
  },
  {
   "cell_type": "code",
   "execution_count": null,
   "metadata": {},
   "outputs": [],
   "source": [
    "import jax.numpy as jnp\n",
    "\n",
    "rubixdata.stars.age = jnp.array([5.0, 5.0])\n",
    "rubixdata.stars.metallicity = jnp.array([0.01, 0.01])\n",
    "rubixdata.stars.mass = jnp.array([[1.0, 1.0]])\n",
    "rubixdata.stars.velocity = jnp.array([[0.0, 0.0, 0.0], [0.0, 0.0, 0.0]])"
   ]
  },
  {
   "cell_type": "code",
   "execution_count": null,
   "metadata": {},
   "outputs": [],
   "source": [
    "from rubix.core.pipeline_gradient import RubixPipeline\n",
    "# Suppose you already have a user_config or path to config\n",
    "#config = \"../rubix/config/pipeline_config.yaml\"\n",
    "import os\n",
    "config = {\n",
    "    \"pipeline\":{\"name\": \"calc_gradient\"},\n",
    "    \n",
    "    \"logger\": {\n",
    "        \"log_level\": \"DEBUG\",\n",
    "        \"log_file_path\": None,\n",
    "        \"format\": \"%(asctime)s - %(name)s - %(levelname)s - %(message)s\",\n",
    "    },\n",
    "     \"data\": {\n",
    "        \"args\": {\n",
    "            \"particle_type\": [\"stars\"],\n",
    "        },\n",
    "    },\n",
    "    \n",
    "    \"output_path\": \"output\",\n",
    "    \"output_modified\":  False,\n",
    "\n",
    "    \"telescope\":\n",
    "        {\"name\": \"TESTGRADIENT\",\n",
    "         \"psf\": {\"name\": \"gaussian\", \"size\": 5, \"sigma\": 0.6},\n",
    "         \"lsf\": {\"sigma\": 0.5},\n",
    "         \"noise\": {\"signal_to_noise\": 1,\"noise_distribution\": \"normal\"},\n",
    "         },\n",
    "    \"cosmology\":\n",
    "        {\"name\": \"PLANCK15\"},\n",
    "        \n",
    "    \"galaxy\":\n",
    "        {\"dist_z\": 0.1,\n",
    "         \"rotation\": {\"type\": \"edge-on\"},\n",
    "        },\n",
    "        \n",
    "    \"ssp\": {\n",
    "        \"template\": {\n",
    "            \"name\": \"FSPS\"\n",
    "        },\n",
    "    },        \n",
    "}\n",
    "\n",
    "pipe = RubixPipeline(config)\n",
    "loss = pipe.loss(rubixdata, target)\n",
    "print(loss)\n",
    "gradient = pipe.gradient(rubixdata, target)"
   ]
  },
  {
   "cell_type": "code",
   "execution_count": null,
   "metadata": {},
   "outputs": [],
   "source": [
    "loss"
   ]
  },
  {
   "cell_type": "code",
   "execution_count": null,
   "metadata": {},
   "outputs": [],
   "source": [
    "rubixdata.stars.age"
   ]
  },
  {
   "cell_type": "code",
   "execution_count": null,
   "metadata": {},
   "outputs": [],
   "source": [
    "gradient.stars.age"
   ]
  },
  {
   "cell_type": "code",
   "execution_count": null,
   "metadata": {},
   "outputs": [],
   "source": [
    "rubixdata"
   ]
  },
  {
   "cell_type": "code",
   "execution_count": null,
   "metadata": {},
   "outputs": [],
   "source": [
    "from rubix.core.pipeline_gradient import RubixPipeline\n",
    "import jax\n",
    "\n",
    "age_test = jnp.array([5.0, 5.0])\n",
    "pipe = RubixPipeline(config)\n",
    "loss = pipe.loss_only_wrt_age(age_test, rubixdata, target)\n",
    "grad_stars_age = jax.grad(pipe.loss_only_wrt_age, argnums=0)(age_test, rubixdata, target)\n",
    "print(loss, grad_stars_age)"
   ]
  },
  {
   "cell_type": "code",
   "execution_count": null,
   "metadata": {},
   "outputs": [],
   "source": [
    "import jax\n",
    "import jax.numpy as jnp\n",
    "import numpy as np\n",
    "\n",
    "# Initialize the pipeline\n",
    "pipe = RubixPipeline(config)\n",
    "\n",
    "# Prepare the data structure to store results\n",
    "results = []\n",
    "\n",
    "# Iterate over the age values from 1.0 to 10.3 in 0.1 steps\n",
    "for age in np.arange(1.0, 10.4, 0.1):\n",
    "    age_test = jnp.array([age, age])\n",
    "    loss = pipe.loss_only_wrt_age(age_test, rubixdata, target)\n",
    "    grad_stars_age = jax.grad(pipe.loss_only_wrt_age, argnums=0)(age_test, rubixdata, target)\n",
    "    results.append((age, loss, grad_stars_age))"
   ]
  },
  {
   "cell_type": "code",
   "execution_count": null,
   "metadata": {},
   "outputs": [],
   "source": [
    "# Save the results to a file\n",
    "with open('./output/loss/gradient_wrt_age_.txt', 'w') as f:\n",
    "    for age, loss, grad in results:\n",
    "        f.write(f\"Age: {age}, Loss: {loss}, Gradient: {grad}\\n\")"
   ]
  },
  {
   "cell_type": "code",
   "execution_count": null,
   "metadata": {},
   "outputs": [],
   "source": [
    "import matplotlib.pyplot as plt\n",
    "\n",
    "age = [result[0] for result in results]\n",
    "losses = [result[1] for result in results]\n",
    "gradients = [result[2] for result in results]\n",
    "\n",
    "age = jnp.array(age)\n",
    "losses = jnp.array(losses)\n",
    "gradients = jnp.array(gradients)\n",
    "\n",
    "#print(losses)\n",
    "#print(gradients)\n",
    "\n",
    "# Plot the gradient versus age\n",
    "plt.figure(figsize=(10, 6))\n",
    "plt.plot(age, gradients[:, 0], label='Gradient wrt age')\n",
    "plt.plot(age, losses, label='loss wrt age')\n",
    "plt.vlines(1.0e-4, -0.15e-6, 0.15e-6, colors='r', linestyles='dashed', label='True age')\n",
    "plt.xlabel('Age')\n",
    "plt.ylabel('Gradient')\n",
    "plt.title('Gradient vs Age')\n",
    "plt.legend()\n",
    "plt.grid(True)\n",
    "#plt.xlim(2,8)\n",
    "#plt.ylim(-0.1e-7, 0.1e-7)\n",
    "plt.savefig('./output/loss/gradient_wrt_age_.png')\n",
    "plt.show()"
   ]
  }
 ],
 "metadata": {
  "kernelspec": {
   "display_name": "rubix",
   "language": "python",
   "name": "python3"
  },
  "language_info": {
   "codemirror_mode": {
    "name": "ipython",
    "version": 3
   },
   "file_extension": ".py",
   "mimetype": "text/x-python",
   "name": "python",
   "nbconvert_exporter": "python",
   "pygments_lexer": "ipython3",
   "version": "3.10.13"
  }
 },
 "nbformat": 4,
 "nbformat_minor": 2
}
