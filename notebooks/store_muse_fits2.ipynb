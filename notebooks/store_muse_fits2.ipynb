{
 "cells": [
  {
   "cell_type": "code",
   "execution_count": null,
   "metadata": {},
   "outputs": [],
   "source": [
    "#NBVAL_SKIP\n",
    "import matplotlib.pyplot as plt\n",
    "from rubix.core.pipeline import RubixPipeline \n",
    "import os\n",
    "config = {\n",
    "    \"pipeline\":{\"name\": \"calc_ifu\"},\n",
    "    \n",
    "    \"logger\": {\n",
    "        \"log_level\": \"DEBUG\",\n",
    "        \"log_file_path\": None,\n",
    "        \"format\": \"%(asctime)s - %(name)s - %(levelname)s - %(message)s\",\n",
    "    },\n",
    "    \"data\": {\n",
    "        \"name\": \"IllustrisAPI\",\n",
    "        \"args\": {\n",
    "            \"api_key\": os.environ.get(\"ILLUSTRIS_API_KEY\"),\n",
    "            \"particle_type\": [\"stars\", \"gas\"],\n",
    "            #\"cube_type\": [\"stars\"],\n",
    "            \"simulation\": \"TNG50-1\",\n",
    "            \"snapshot\": 99,\n",
    "            \"save_data_path\": \"data\",\n",
    "        },\n",
    "        \n",
    "        \"load_galaxy_args\": {\n",
    "        \"id\": 11,\n",
    "        \"reuse\": True,\n",
    "        },\n",
    "        \n",
    "        \"subset\": {\n",
    "            \"use_subset\": False,\n",
    "            \"subset_size\": 1000,\n",
    "        },\n",
    "    },\n",
    "    \"simulation\": {\n",
    "        \"name\": \"IllustrisTNG\",\n",
    "        \"args\": {\n",
    "            \"path\": \"data/galaxy-id-11.hdf5\",\n",
    "        },\n",
    "    \n",
    "    },\n",
    "    \"output_path\": \"output\",\n",
    "\n",
    "    \"telescope\":\n",
    "        {\"name\": \"MUSE\",\n",
    "         \"psf\": {\"name\": \"gaussian\", \"size\": 5, \"sigma\": 0.6},\n",
    "         \"lsf\": {\"sigma\": 0.5},\n",
    "         \"noise\": {\"signal_to_noise\": 100,\"noise_distribution\": \"normal\"},},\n",
    "    \"cosmology\":\n",
    "        {\"name\": \"PLANCK15\"},\n",
    "        \n",
    "    \"galaxy\":\n",
    "        {\"dist_z\": 0.1,\n",
    "         \"rotation\": {\"type\": \"edge-on\"},\n",
    "        },\n",
    "        \n",
    "    \"ssp\": {\n",
    "        \"template\": {\n",
    "            \"name\": \"BruzualCharlot2003\"\n",
    "        },\n",
    "    },        \n",
    "}\n",
    "\n",
    "pipe = RubixPipeline(config)\n",
    "\n",
    "data= pipe.run()"
   ]
  },
  {
   "cell_type": "code",
   "execution_count": null,
   "metadata": {},
   "outputs": [],
   "source": [
    "datacube = data.stars.datacube\n",
    "img = datacube.sum(axis=2)\n",
    "plt.imshow(img, origin=\"lower\")"
   ]
  },
  {
   "cell_type": "code",
   "execution_count": null,
   "metadata": {},
   "outputs": [],
   "source": [
    "import jax.numpy as jnp\n",
    "\n",
    "#NBVAL_SKIP\n",
    "wavelengths = pipe.telescope.wave_seq\n",
    "\n",
    "# get the indices of the visible wavelengths of 4000-8000 Angstroms\n",
    "\n",
    "visible_indices = jnp.where((wavelengths >= 4000) & (wavelengths <= 8000))\n",
    "\n",
    "spec = datacube[12, 12]\n",
    "\n",
    "plt.plot(wavelengths[visible_indices], spec[visible_indices])"
   ]
  },
  {
   "cell_type": "code",
   "execution_count": null,
   "metadata": {},
   "outputs": [],
   "source": [
    "datacube.shape[1]"
   ]
  },
  {
   "cell_type": "code",
   "execution_count": null,
   "metadata": {},
   "outputs": [],
   "source": [
    "from rubix.core.telescope import get_telescope\n",
    "\n",
    "telescope = get_telescope(config)\n",
    "print(telescope)\n",
    "print(telescope.spatial_res)"
   ]
  },
  {
   "cell_type": "code",
   "execution_count": null,
   "metadata": {},
   "outputs": [],
   "source": [
    "import numpy as np\n",
    "from astropy.io import fits"
   ]
  },
  {
   "cell_type": "code",
   "execution_count": null,
   "metadata": {},
   "outputs": [],
   "source": [
    "hdr = fits.Header()\n",
    "hdr['PIPELINE'] = config['pipeline']['name']\n",
    "hdr['DIST_z'] = config['galaxy']['dist_z']\n",
    "hdr['ROTATION'] = config['galaxy']['rotation']['type']\n",
    "#hdr['XCOORD'] = params['cube_params']['x_coord']\n",
    "#hdr['YCOORD'] = params['cube_params']['y_coord']\n",
    "#hdr['X_RES'] = params['cube_params']['spatial_resolution'][0]\n",
    "#hdr['Y_RES'] = params['cube_params']['spatial_resolution'][1]\n",
    "hdr['SIMULATION'] = config['simulation']['name']\n",
    "hdr['GALAXY_ID'] = config['data']['load_galaxy_args']['id']\n",
    "hdr['SNAPSHOT'] = config['data']['args']['snapshot']\n",
    "hdr['PARTICLE_SUBSET'] = config['data']['subset']['use_subset']\n",
    "hdr['SSP'] = config['ssp']['template']['name']\n",
    "hdr['INSTRUMENT'] = config['telescope']['name']\n",
    "hdr['PSF'] = config['telescope']['psf']['name']\n",
    "hdr['LSF'] = config['telescope']['lsf']['sigma']\n",
    "hdr['SIGNAL_TO_NOISE'] = config['telescope']['noise']['signal_to_noise']\n",
    "hdr['NOISE_DISTRIBUTION'] = config['telescope']['noise']['noise_distribution']"
   ]
  },
  {
   "cell_type": "code",
   "execution_count": null,
   "metadata": {},
   "outputs": [],
   "source": [
    "hdr1 = fits.Header()\n",
    "hdr1['EXTNAME'] = 'DATA'\n",
    "hdr1['OBJECT'] = str(config['simulation']['name']) + ' ' + str(config['data']['load_galaxy_args']['id'])\n",
    "hdr1['BUNIT'] = 'erg/(s*cm^2)' #? /Angstrom\n",
    "hdr1['CRPIX1'] = (datacube.shape[0] - 1) / 2\n",
    "hdr1['CRPIX2'] = (datacube.shape[1] - 1) / 2\n",
    "hdr1['CD1_1'] = telescope.spatial_res / 3600 # to convert from arcsec to deg\n",
    "hdr1['CD1_2'] = 0\n",
    "hdr1['CD2_1'] = 0\n",
    "hdr1['CD2_2'] = telescope.spatial_res / 3600 # to convert from arcsec to deg\n",
    "hdr1['CUNIT1'] = 'deg'\n",
    "hdr1['CUNIT2'] = 'deg'\n",
    "hdr1['CTYPE1'] = 'RA---TAN'\n",
    "hdr1['CTYPE2'] = 'DEC--TAN'\n",
    "hdr1['CRVAL1'] = 0\n",
    "hdr1['CRVAL2'] = 0\n",
    "hdr1['CTYPE3'] = 'AWAV'\n",
    "hdr1['CUNIT3'] = 'Angstrom'\n",
    "hdr1['CD3_3'] = telescope.wave_res\n",
    "hdr1['CRPIX3'] = 1\n",
    "hdr1['CRVAL3'] = telescope.wave_range[0]\n",
    "hdr1['CD1_3'] = 0\n",
    "hdr1['CD2_3'] = 0\n",
    "hdr1['CD3_1'] = 0\n",
    "hdr1['CD3_2'] = 0"
   ]
  },
  {
   "cell_type": "code",
   "execution_count": null,
   "metadata": {},
   "outputs": [],
   "source": [
    "empty_primary = fits.PrimaryHDU(header=hdr)\n",
    "image_hdu1 = fits.ImageHDU(datacube.T, header=hdr1)\n",
    "image_hdu2 = fits.ImageHDU(wavelengths, name='WAVE')\n",
    "\n",
    "hdul = fits.HDUList([empty_primary, image_hdu1, image_hdu2])\n",
    "filepath = 'output/'\n",
    "hdul.writeto(filepath + f\"{config['simulation']['name']}id{config['data']['load_galaxy_args']['id']}_stars2.fits\", overwrite=True)\n"
   ]
  },
  {
   "cell_type": "code",
   "execution_count": null,
   "metadata": {},
   "outputs": [],
   "source": []
  }
 ],
 "metadata": {
  "kernelspec": {
   "display_name": "rubix",
   "language": "python",
   "name": "python3"
  },
  "language_info": {
   "codemirror_mode": {
    "name": "ipython",
    "version": 3
   },
   "file_extension": ".py",
   "mimetype": "text/x-python",
   "name": "python",
   "nbconvert_exporter": "python",
   "pygments_lexer": "ipython3",
   "version": "3.10.14"
  }
 },
 "nbformat": 4,
 "nbformat_minor": 2
}
