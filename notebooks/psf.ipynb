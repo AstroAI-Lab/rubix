{
 "cells": [
  {
   "cell_type": "code",
   "execution_count": null,
   "metadata": {},
   "outputs": [],
   "source": [
    "#NBVAL_SKIP\n",
    "from rubix.telescope.psf.kernels import gaussian_kernel_2d"
   ]
  },
  {
   "cell_type": "code",
   "execution_count": null,
   "metadata": {},
   "outputs": [],
   "source": [
    "#NBVAL_SKIP\n",
    "kernel = gaussian_kernel_2d(20,20,3.5)\n",
    "print(kernel.shape)\n",
    "print(kernel.sum())"
   ]
  },
  {
   "cell_type": "code",
   "execution_count": null,
   "metadata": {},
   "outputs": [],
   "source": [
    "#NBVAL_SKIP\n",
    "import matplotlib.pyplot as plt\n",
    "plt.imshow(kernel, cmap='hot')\n",
    "plt.colorbar()"
   ]
  },
  {
   "cell_type": "code",
   "execution_count": null,
   "metadata": {},
   "outputs": [],
   "source": [
    "#NBVAL_SKIP\n",
    "import jax.numpy as jnp\n",
    "from jax.scipy.signal import convolve2d\n",
    "from jaxtyping import Array, Float\n",
    "\n",
    "\n",
    "def _convolve_plane(plane, kernel):\n",
    "    \"\"\"Convolve a single plane of a datacube with a kernel.\"\"\"\n",
    "    return convolve2d(plane, kernel, mode=\"same\")\n",
    "\n",
    "\n",
    "def apply_psf(\n",
    "    datacube: Float[Array, \"n_pixel n_pixel wave_bins\"], psf_kernel: Float[Array, \"m n\"]\n",
    ") -> Float[Array, \"n_pixel n_pixel wave_bins\"]:\n",
    "    \"\"\"Apply a point spread function (PSF) to the spectral datacube.\n",
    "\n",
    "    The PSF kernel is convolved with each spectral plane of the datacube to simulate the\n",
    "    blurring effect of the telescope.\n",
    "\n",
    "\n",
    "    Parameters\n",
    "    ----------\n",
    "    datacube : Float[Array, \"n_pixel n_pixel wave_bins\"]\n",
    "        The spectral datacube to convolve with the PSF kernel.\n",
    "    psf_kernel : Float[Array, \"m n\"]\n",
    "        The 2D PSF kernel to apply to the datacube.\n",
    "\n",
    "    Returns\n",
    "    -------\n",
    "    Float[Array, \"n_pixel n_pixel wave_bins\"]\n",
    "        The datacube convolved with the PSF kernel.\n",
    "    \"\"\"\n",
    "    datacube_dimensions = datacube.shape\n",
    "\n",
    "    # Convolve each plane of the datacube with the PSF kernel\n",
    "    convolved = jnp.array(\n",
    "        [\n",
    "            _convolve_plane(datacube[:, :, i], psf_kernel)\n",
    "            for i in range(datacube_dimensions[2])\n",
    "        ]\n",
    "    )\n",
    "    transposed = jnp.transpose(convolved, (1, 2, 0))  # Reorder to original shape\n",
    "\n",
    "    return transposed\n"
   ]
  },
  {
   "cell_type": "code",
   "execution_count": null,
   "metadata": {},
   "outputs": [],
   "source": [
    "#NBVAL_SKIP\n",
    "# Get an example Datacube\n",
    "import numpy as np\n",
    "import jax.numpy as jnp\n",
    "datacube = np.ones((50,50,300))\n",
    "# create random data\n",
    "for i in range(300):\n",
    "    datacube[:,:,i] = np.random.rand(50,50)\n",
    "\n",
    "datacube = jnp.array(datacube)\n",
    "convolved_datacube = apply_psf(datacube, kernel)\n",
    "print(convolved_datacube.shape)\n",
    "\n",
    "plt.plot(convolved_datacube[10,10,:], label='convolved')\n",
    "plt.plot(datacube[10,10,:], label='original')\n",
    "plt.legend()"
   ]
  }
 ],
 "metadata": {
  "kernelspec": {
   "display_name": "rubix",
   "language": "python",
   "name": "python3"
  },
  "language_info": {
   "codemirror_mode": {
    "name": "ipython",
    "version": 3
   },
   "file_extension": ".py",
   "mimetype": "text/x-python",
   "name": "python",
   "nbconvert_exporter": "python",
   "pygments_lexer": "ipython3",
   "version": "3.11.8"
  }
 },
 "nbformat": 4,
 "nbformat_minor": 2
}
