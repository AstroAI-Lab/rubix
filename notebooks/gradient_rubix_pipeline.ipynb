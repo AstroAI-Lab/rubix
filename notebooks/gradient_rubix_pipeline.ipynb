{
 "cells": [
  {
   "cell_type": "markdown",
   "metadata": {},
   "source": [
    "# Gradient calculation\n",
    "\n",
    "In this notebook we show, how you can calculate teh full Jacobian of the pipeline with respect to the input data.\n",
    "\n",
    "First of all, we define our config as input for the pipeline, set up the pipeline and let it run."
   ]
  },
  {
   "cell_type": "code",
   "execution_count": null,
   "metadata": {},
   "outputs": [],
   "source": [
    "from rubix.core.pipeline import RubixPipeline\n",
    "# Suppose you already have a user_config or path to config\n",
    "#config = \"../rubix/config/pipeline_config.yaml\"\n",
    "import os\n",
    "config = {\n",
    "    \"pipeline\":{\"name\": \"calc_gradient\"},\n",
    "    \n",
    "    \"logger\": {\n",
    "        \"log_level\": \"DEBUG\",\n",
    "        \"log_file_path\": None,\n",
    "        \"format\": \"%(asctime)s - %(name)s - %(levelname)s - %(message)s\",\n",
    "    },\n",
    "    \"data\": {\n",
    "        \"name\": \"IllustrisAPI\",\n",
    "        \"args\": {\n",
    "            \"api_key\": os.environ.get(\"ILLUSTRIS_API_KEY\"),\n",
    "            \"particle_type\": [\"stars\"],\n",
    "            \"simulation\": \"TNG50-1\",\n",
    "            \"snapshot\": 99,\n",
    "            \"save_data_path\": \"data\",\n",
    "        },\n",
    "        \n",
    "        \"load_galaxy_args\": {\n",
    "        \"id\": 14,\n",
    "        \"reuse\": True,\n",
    "        },\n",
    "        \n",
    "        \"subset\": {\n",
    "            \"use_subset\": True,\n",
    "            \"subset_size\": 2,\n",
    "        },\n",
    "    },\n",
    "    \"simulation\": {\n",
    "        \"name\": \"IllustrisTNG\",\n",
    "        \"args\": {\n",
    "            \"path\": \"data/galaxy-id-14.hdf5\",\n",
    "        },\n",
    "    \n",
    "    },\n",
    "    \"output_path\": \"output\",\n",
    "    \"output_modified\":  False,\n",
    "\n",
    "    \"telescope\":\n",
    "        {\"name\": \"TESTGRADIENT\",\n",
    "         \"psf\": {\"name\": \"gaussian\", \"size\": 5, \"sigma\": 0.6},\n",
    "         \"lsf\": {\"sigma\": 0.5},\n",
    "         \"noise\": {\"signal_to_noise\": 1,\"noise_distribution\": \"normal\"},\n",
    "         },\n",
    "    \"cosmology\":\n",
    "        {\"name\": \"PLANCK15\"},\n",
    "        \n",
    "    \"galaxy\":\n",
    "        {\"dist_z\": 0.1,\n",
    "         \"rotation\": {\"type\": \"edge-on\"},\n",
    "        },\n",
    "        \n",
    "    \"ssp\": {\n",
    "        \"template\": {\n",
    "            \"name\": \"BruzualCharlot2003\"\n",
    "        },\n",
    "    },        \n",
    "}\n",
    "pipe = RubixPipeline(config)\n",
    "rubixdata = pipe.run()\n",
    "\n",
    "target_datacube = rubixdata.stars.datacube"
   ]
  },
  {
   "cell_type": "markdown",
   "metadata": {},
   "source": [
    "Then we can plot the datacube as usual."
   ]
  },
  {
   "cell_type": "code",
   "execution_count": null,
   "metadata": {},
   "outputs": [],
   "source": [
    "import matplotlib.pyplot as plt\n",
    "import jax.numpy as jnp\n",
    "plt.imshow(jnp.sum(rubixdata.stars.datacube, axis=2), origin=\"lower\", cmap=\"inferno\")\n",
    "plt.colorbar()"
   ]
  },
  {
   "cell_type": "code",
   "execution_count": null,
   "metadata": {},
   "outputs": [],
   "source": [
    "#NBVAL_SKIP\n",
    "wave = pipe.telescope.wave_seq\n",
    "\n",
    "spectra = rubixdata.stars.datacube # Spectra of all stars\n",
    "print(spectra.shape)\n",
    "target_spectra = spectra[0,0,:]\n",
    "plt.plot(wave, spectra[0,0,:])"
   ]
  },
  {
   "cell_type": "markdown",
   "metadata": {},
   "source": [
    "Now we are in the stage to calculate the Jacobian. Therefore we need a list of all the transformers in the pipeline. We then calculate an abstract form of the gradient with these expressions. Finally we can calculate the gradient for teh given input data."
   ]
  },
  {
   "cell_type": "code",
   "execution_count": null,
   "metadata": {},
   "outputs": [],
   "source": [
    "# _get_pipeline_functions() returns a list of the transformer functions in the correct order\n",
    "transformers_list = pipe._get_pipeline_functions()\n",
    "print(transformers_list)  # Debug: see the list of JAX-compatible functions\n",
    "\n",
    "from rubix.utils import read_yaml\n",
    "read_cfg = read_yaml(\"../rubix/config/pipeline_config.yml\")\n",
    "\n",
    "# read_cfg is a dict. We specifically want read_cfg[\"calc_ifu\"], which has \"Transformers\" inside.\n",
    "pipeline_cfg = read_cfg[\"calc_gradient\"]\n",
    "\n",
    "from rubix.pipeline import linear_pipeline as ltp\n",
    "\n",
    "tp = ltp.LinearTransformerPipeline(\n",
    "    pipeline_cfg,      # pipeline_cfg == read_cfg[\"calc_ifu\"]\n",
    "    transformers_list, # The list of function objects from RubixPipeline\n",
    ")\n",
    "\n",
    "compiled_fn = tp.compile_expression()\n",
    "\n",
    "# Evaluate pipeline\n",
    "#output = compiled_fn(rubixdata)\n",
    "\n",
    "# Calculate gradient\n",
    "import jax\n",
    "\n",
    "jac_fn = jax.jacrev(compiled_fn)\n",
    "jacobian = jac_fn(rubixdata)\n",
    "print(jacobian)\n"
   ]
  },
  {
   "cell_type": "code",
   "execution_count": null,
   "metadata": {},
   "outputs": [],
   "source": [
    "import jax.tree_util as jtu\n",
    "\n",
    "# Flatten the Jacobian to inspect the tree structure\n",
    "flat_values, tree_def = jtu.tree_flatten(jacobian)\n",
    "print(\"Number of elements in the tree:\", len(flat_values))\n",
    "\n",
    "# Print each element's type and shape\n",
    "for i, value in enumerate(flat_values):\n",
    "    print(f\"Element {i}: Type={type(value)}, Shape={getattr(value, 'shape', 'N/A')}\")\n",
    "\n",
    "# Optionally print the tree definition for clarity\n",
    "print(tree_def)\n",
    "\n",
    "\n",
    "# Function to print or process leaves in the PyTree\n",
    "def process_leaf(path, leaf):\n",
    "    print(f\"Path: {path}, Type: {type(leaf)}, Shape: {getattr(leaf, 'shape', 'N/A')}\")\n",
    "\n",
    "# Walk through the tree structure\n",
    "jtu.tree_map_with_path(process_leaf, jacobian)\n"
   ]
  },
  {
   "cell_type": "code",
   "execution_count": null,
   "metadata": {},
   "outputs": [],
   "source": [
    "stars_gradient = jacobian.stars.datacube\n",
    "stars_gradient.stars.metallicity"
   ]
  },
  {
   "cell_type": "code",
   "execution_count": null,
   "metadata": {},
   "outputs": [],
   "source": [
    "print(rubixdata.stars.datacube.shape)\n",
    "print(rubixdata.stars.age)\n",
    "print(stars_gradient.stars.age)"
   ]
  },
  {
   "cell_type": "code",
   "execution_count": null,
   "metadata": {},
   "outputs": [],
   "source": [
    "rubixdata.stars"
   ]
  },
  {
   "cell_type": "code",
   "execution_count": null,
   "metadata": {},
   "outputs": [],
   "source": [
    "print(rubixdata.stars.age)\n",
    "print(rubixdata.stars.age.shape)\n",
    "print(rubixdata.stars.metallicity)\n",
    "print(rubixdata.stars.mass)"
   ]
  },
  {
   "cell_type": "code",
   "execution_count": null,
   "metadata": {},
   "outputs": [],
   "source": [
    "rubixdata.stars.age = jnp.array([5.0, 5.0])\n",
    "rubixdata.stars.metallicity = jnp.array([0.01, 0.01])\n",
    "#rubixdata.stars.mass = jnp.array([[10000.0, 10000.0]])\n",
    "\n",
    "#rubixdata.stars.age = rubixdata.stars.age.at[0, 0].set(5.0)\n",
    "#rubixdata.stars.age = rubixdata.stars.age.at[0, 1].set(5.0)\n",
    "#rubixdata.stars.metallicity = rubixdata.stars.metallicity.at[0, 0].set(0.01)\n",
    "#rubixdata.stars.metallicity = rubixdata.stars.metallicity.at[0, 1].set(0.01)\n",
    "\n",
    "import pickle\n",
    "pickle.dump(rubixdata, open(\"output/rubix_galaxy.pkl\", \"wb\"))"
   ]
  },
  {
   "cell_type": "code",
   "execution_count": null,
   "metadata": {},
   "outputs": [],
   "source": [
    "#print(rubixdata.stars.age[0,0])\n",
    "print(rubixdata.stars.age)\n",
    "print(rubixdata.stars.age.shape)"
   ]
  },
  {
   "cell_type": "code",
   "execution_count": null,
   "metadata": {},
   "outputs": [],
   "source": [
    "from rubix.core.pipeline import RubixPipeline\n",
    "# Suppose you already have a user_config or path to config\n",
    "#config = \"../rubix/config/pipeline_config.yaml\"\n",
    "import os\n",
    "config = {\n",
    "    \"pipeline\":{\"name\": \"calc_gradient\"},\n",
    "    \n",
    "    \"logger\": {\n",
    "        \"log_level\": \"DEBUG\",\n",
    "        \"log_file_path\": None,\n",
    "        \"format\": \"%(asctime)s - %(name)s - %(levelname)s - %(message)s\",\n",
    "    },\n",
    "    \"data\": {\n",
    "        \"name\": \"IllustrisAPI\",\n",
    "        \"args\": {\n",
    "            \"api_key\": os.environ.get(\"ILLUSTRIS_API_KEY\"),\n",
    "            \"particle_type\": [\"stars\"],\n",
    "            \"simulation\": \"TNG50-1\",\n",
    "            \"snapshot\": 99,\n",
    "            \"save_data_path\": \"data\",\n",
    "        },\n",
    "        \n",
    "        \"load_galaxy_args\": {\n",
    "        \"id\": 14,\n",
    "        \"reuse\": True,\n",
    "        },\n",
    "        \n",
    "        \"subset\": {\n",
    "            \"use_subset\": True,\n",
    "            \"subset_size\": 2,\n",
    "        },\n",
    "    },\n",
    "    \"simulation\": {\n",
    "        \"name\": \"IllustrisTNG\",\n",
    "        \"args\": {\n",
    "            \"path\": \"data/galaxy-id-14.hdf5\",\n",
    "        },\n",
    "    \n",
    "    },\n",
    "    \"output_path\": \"output\",\n",
    "    \"output_modified\": True,\n",
    "    \"modified_path\": \"output/rubix_galaxy.pkl\",\n",
    "\n",
    "    \"telescope\":\n",
    "        {\"name\": \"TESTGRADIENT\",\n",
    "         \"psf\": {\"name\": \"gaussian\", \"size\": 5, \"sigma\": 0.6},\n",
    "         \"lsf\": {\"sigma\": 0.5},\n",
    "         \"noise\": {\"signal_to_noise\": 1,\"noise_distribution\": \"normal\"},\n",
    "         },\n",
    "    \"cosmology\":\n",
    "        {\"name\": \"PLANCK15\"},\n",
    "        \n",
    "    \"galaxy\":\n",
    "        {\"dist_z\": 0.1,\n",
    "         \"rotation\": {\"type\": \"edge-on\"},\n",
    "        },\n",
    "        \n",
    "    \"ssp\": {\n",
    "        \"template\": {\n",
    "            \"name\": \"BruzualCharlot2003\"\n",
    "        },\n",
    "    },        \n",
    "}\n",
    "pipe = RubixPipeline(config)\n",
    "rubixdata = pipe.run()"
   ]
  },
  {
   "cell_type": "code",
   "execution_count": null,
   "metadata": {},
   "outputs": [],
   "source": [
    "import jax\n",
    "from rubix.utils import read_yaml\n",
    "from rubix.pipeline import linear_pipeline as ltp\n",
    "\n",
    "def calc_gradient(rubixdata):\n",
    "    # _get_pipeline_functions() returns a list of the transformer functions in the correct order\n",
    "    transformers_list = pipe._get_pipeline_functions()\n",
    "\n",
    "    read_cfg = read_yaml(\"../rubix/config/pipeline_config.yml\")\n",
    "\n",
    "    # read_cfg is a dict. We specifically want read_cfg[\"calc_ifu\"], which has \"Transformers\" inside.\n",
    "    pipeline_cfg = read_cfg[\"calc_gradient\"]\n",
    "\n",
    "    tp = ltp.LinearTransformerPipeline(\n",
    "        pipeline_cfg,      # pipeline_cfg == read_cfg[\"calc_ifu\"]\n",
    "        transformers_list, # The list of function objects from RubixPipeline\n",
    "    )\n",
    "\n",
    "    compiled_fn = tp.compile_expression()\n",
    "    jac_fn = jax.jacrev(compiled_fn)\n",
    "    jacobian = jac_fn(rubixdata)\n",
    "\n",
    "    return jacobian\n",
    "\n",
    "gradient = calc_gradient(rubixdata)\n",
    "print(gradient)"
   ]
  },
  {
   "cell_type": "code",
   "execution_count": null,
   "metadata": {},
   "outputs": [],
   "source": [
    "jacobian = calc_gradient(rubixdata)"
   ]
  },
  {
   "cell_type": "code",
   "execution_count": null,
   "metadata": {},
   "outputs": [],
   "source": [
    "#NBVAL_SKIP\n",
    "wave = pipe.telescope.wave_seq\n",
    "\n",
    "spectra = rubixdata.stars.datacube # Spectra of all stars\n",
    "print(spectra.shape)\n",
    "\n",
    "plt.plot(wave, target_spectra)\n",
    "plt.plot(wave, spectra[0,0,:])\n",
    "plt.show()"
   ]
  },
  {
   "cell_type": "code",
   "execution_count": null,
   "metadata": {},
   "outputs": [],
   "source": [
    "import jax\n",
    "import jax.numpy as jnp\n",
    "\n",
    "# Loss function\n",
    "def loss_fn(config, target_datacube, RubixPipeline):\n",
    "    pipe = RubixPipeline(config)\n",
    "    output_rubixdata = pipe.run()\n",
    "    output_datacube = output_rubixdata.stars.datacube\n",
    "    return jnp.mean((output_datacube - target_datacube)**2)\n",
    "\n",
    "print(loss_fn(config, target_datacube, RubixPipeline))"
   ]
  },
  {
   "cell_type": "code",
   "execution_count": null,
   "metadata": {},
   "outputs": [],
   "source": [
    "target_datacube"
   ]
  },
  {
   "cell_type": "code",
   "execution_count": null,
   "metadata": {},
   "outputs": [],
   "source": [
    "current_datacube = rubixdata.stars.datacube\n",
    "print(current_datacube)"
   ]
  },
  {
   "cell_type": "code",
   "execution_count": null,
   "metadata": {},
   "outputs": [],
   "source": [
    "current_datacube - target_datacube"
   ]
  },
  {
   "cell_type": "code",
   "execution_count": null,
   "metadata": {},
   "outputs": [],
   "source": [
    "stars_gradient = jacobian.stars.datacube\n",
    "\n",
    "grad_age = stars_gradient.stars.age\n",
    "grad_metallicity = stars_gradient.stars.metallicity\n",
    "print(grad_age)\n",
    "print(grad_age.shape)"
   ]
  },
  {
   "cell_type": "code",
   "execution_count": null,
   "metadata": {},
   "outputs": [],
   "source": [
    "cube = (current_datacube - target_datacube) \n",
    "cube_reshaped = cube.reshape(6,1)\n",
    "print(cube_reshaped)\n",
    "print(cube_reshaped.shape)\n",
    "grad = grad_age\n",
    "grad_reshaped = grad.reshape(6,2)\n",
    "print(grad_reshaped)\n",
    "print(grad_reshaped.shape)\n",
    "update_age = 1/6 * 2 *jnp.sum(cube_reshaped * grad_reshaped, axis=0)\n",
    "update_age = update_age.reshape(1,2)\n",
    "print(update_age)\n",
    "result_age = rubixdata.stars.age - update_age\n",
    "print(rubixdata.stars.age)\n",
    "print(result_age)"
   ]
  },
  {
   "cell_type": "code",
   "execution_count": null,
   "metadata": {},
   "outputs": [],
   "source": [
    "# Gradient-based optimization loop\n",
    "def optimize_inputs(config, target_datacube, RubixPipeline, learning_rate=0.1, max_iters=100, tol=1e-6):\n",
    "    for i in range(max_iters):\n",
    "        # Compute loss and gradient\n",
    "        #loss, grads = jax.value_and_grad(loss_fn)(config, target_datacube, RubixPipeline)\n",
    "        \n",
    "        pipe = RubixPipeline(config)\n",
    "        input_rubixdata = pipe.run()\n",
    "\n",
    "        jacobian = calc_gradient(input_rubixdata)\n",
    "        \n",
    "        \n",
    "        stars_gradient = jacobian.stars.datacube\n",
    "\n",
    "        grad_age = stars_gradient.stars.age\n",
    "        grad_metallicity = stars_gradient.stars.metallicity\n",
    "\n",
    "        current_datacube = input_rubixdata.stars.datacube\n",
    "        cube = (current_datacube - target_datacube) \n",
    "        cube_reshaped = cube.reshape(6,1)\n",
    "\n",
    "        grad_age_reshaped = grad_age.reshape(6,2)\n",
    "\n",
    "        update_age = 1/6 * 2 *jnp.sum(cube_reshaped * grad_age_reshaped, axis=0)\n",
    "        update_age = update_age.reshape(1,2)\n",
    "        print(update_age)\n",
    "        result_age = rubixdata.stars.age - update_age\n",
    "        print(rubixdata.stars.age)\n",
    "        print(result_age)\n",
    "        # Update inputs\n",
    "        new_inputs = input_rubixdata\n",
    "        new_inputs.stars.age = input_rubixdata.stars.age - learning_rate * 2 * (input_rubixdata.stars.datacube - target_datacube) * grad_age\n",
    "        new_inputs.stars.metallicity = input_rubixdata.stars.metallicity - learning_rate * 2 * (input_rubixdata.stars.datacube - target_datacube) * grad_metallicity\n",
    "        import pickle\n",
    "        pickle.dump(new_inputs, open(\"output/rubix_galaxy.pkl\", \"wb\"))\n",
    "\n",
    "        spectra = new_inputs.stars.datacube # Spectra of all stars\n",
    "        plt.plot(wave, spectra[0,0,:], label=f\"Iteration {i}\")\n",
    "        plt.plot(wave, target_spectra, label=\"Target\")\n",
    "        plt.legend()\n",
    "        plt.savefig(f\"output/gradient_plots/spectra_{i}.png\")\n",
    "        \n",
    "        loss = loss_fn(config, target_datacube, RubixPipeline)\n",
    "        # Check convergence\n",
    "        if loss < tol:\n",
    "            break\n",
    "    \n",
    "    return new_inputs, loss\n"
   ]
  },
  {
   "cell_type": "code",
   "execution_count": null,
   "metadata": {},
   "outputs": [],
   "source": [
    "optimize_inputs(config, target_datacube, RubixPipeline, learning_rate=0.1, max_iters=100, tol=1e-6)"
   ]
  },
  {
   "cell_type": "code",
   "execution_count": null,
   "metadata": {},
   "outputs": [],
   "source": [
    "optimized_inputs, final_loss = optimize_inputs(config, target_datacube, RubixPipeline)"
   ]
  },
  {
   "cell_type": "code",
   "execution_count": null,
   "metadata": {},
   "outputs": [],
   "source": [
    "import jax\n",
    "import jax.numpy as jnp\n",
    "\n",
    "# Loss function\n",
    "def loss_fn(inputs, target_datacube, pipeline_fn):\n",
    "    output_datacube = pipeline_fn(inputs)\n",
    "    return jnp.mean((output_datacube - target_datacube)**2)\n",
    "\n",
    "# Gradient-based optimization loop\n",
    "def optimize_inputs(initial_inputs, target_datacube, pipeline_fn, learning_rate=0.01, max_iters=100, tol=1e-6):\n",
    "    inputs = initial_inputs\n",
    "    for i in range(max_iters):\n",
    "        # Compute loss and gradient\n",
    "        loss, grads = jax.value_and_grad(loss_fn)(inputs, target_datacube, pipeline_fn)\n",
    "        \n",
    "        # Update inputs\n",
    "        inputs = inputs - learning_rate * grads\n",
    "        \n",
    "        # Check convergence\n",
    "        if loss < tol:\n",
    "            break\n",
    "    \n",
    "    return inputs, loss\n",
    "\n",
    "# Example usage\n",
    "optimized_inputs, final_loss = optimize_inputs(initial_inputs, target_datacube, pipeline_fn)\n"
   ]
  }
 ],
 "metadata": {
  "kernelspec": {
   "display_name": "rubix",
   "language": "python",
   "name": "python3"
  },
  "language_info": {
   "codemirror_mode": {
    "name": "ipython",
    "version": 3
   },
   "file_extension": ".py",
   "mimetype": "text/x-python",
   "name": "python",
   "nbconvert_exporter": "python",
   "pygments_lexer": "ipython3",
   "version": "3.10.13"
  }
 },
 "nbformat": 4,
 "nbformat_minor": 2
}
