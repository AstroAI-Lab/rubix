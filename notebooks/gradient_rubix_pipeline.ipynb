{
 "cells": [
  {
   "cell_type": "markdown",
   "metadata": {},
   "source": [
    "# Gradient calculation\n",
    "\n",
    "In this notebook we show, how you can calculate teh full Jacobian of the pipeline with respect to the input data.\n",
    "\n",
    "First of all, we define our config as input for the pipeline, set up the pipeline and let it run."
   ]
  },
  {
   "cell_type": "code",
   "execution_count": null,
   "metadata": {},
   "outputs": [],
   "source": [
    "from rubix.core.pipeline import RubixPipeline\n",
    "# Suppose you already have a user_config or path to config\n",
    "#config = \"../rubix/config/pipeline_config.yaml\"\n",
    "import os\n",
    "config = {\n",
    "    \"pipeline\":{\"name\": \"calc_gradient\"},\n",
    "    \n",
    "    \"logger\": {\n",
    "        \"log_level\": \"DEBUG\",\n",
    "        \"log_file_path\": None,\n",
    "        \"format\": \"%(asctime)s - %(name)s - %(levelname)s - %(message)s\",\n",
    "    },\n",
    "    \"data\": {\n",
    "        \"name\": \"IllustrisAPI\",\n",
    "        \"args\": {\n",
    "            \"api_key\": os.environ.get(\"ILLUSTRIS_API_KEY\"),\n",
    "            \"particle_type\": [\"stars\"],\n",
    "            \"simulation\": \"TNG50-1\",\n",
    "            \"snapshot\": 99,\n",
    "            \"save_data_path\": \"data\",\n",
    "        },\n",
    "        \n",
    "        \"load_galaxy_args\": {\n",
    "        \"id\": 14,\n",
    "        \"reuse\": True,\n",
    "        },\n",
    "        \n",
    "        \"subset\": {\n",
    "            \"use_subset\": True,\n",
    "            \"subset_size\": 2,\n",
    "        },\n",
    "    },\n",
    "    \"simulation\": {\n",
    "        \"name\": \"IllustrisTNG\",\n",
    "        \"args\": {\n",
    "            \"path\": \"data/galaxy-id-14.hdf5\",\n",
    "        },\n",
    "    \n",
    "    },\n",
    "    \"output_path\": \"output\",\n",
    "    \"output_modified\":  False,\n",
    "\n",
    "    \"telescope\":\n",
    "        {\"name\": \"TESTGRADIENT\",\n",
    "         \"psf\": {\"name\": \"gaussian\", \"size\": 5, \"sigma\": 0.6},\n",
    "         \"lsf\": {\"sigma\": 0.5},\n",
    "         \"noise\": {\"signal_to_noise\": 1,\"noise_distribution\": \"normal\"},\n",
    "         },\n",
    "    \"cosmology\":\n",
    "        {\"name\": \"PLANCK15\"},\n",
    "        \n",
    "    \"galaxy\":\n",
    "        {\"dist_z\": 0.1,\n",
    "         \"rotation\": {\"type\": \"edge-on\"},\n",
    "        },\n",
    "        \n",
    "    \"ssp\": {\n",
    "        \"template\": {\n",
    "            \"name\": \"BruzualCharlot2003\"\n",
    "        },\n",
    "    },        \n",
    "}\n",
    "pipe = RubixPipeline(config)\n",
    "rubixdata = pipe.run()"
   ]
  },
  {
   "cell_type": "markdown",
   "metadata": {},
   "source": [
    "Then we can plot the datacube as usual."
   ]
  },
  {
   "cell_type": "code",
   "execution_count": null,
   "metadata": {},
   "outputs": [],
   "source": [
    "import matplotlib.pyplot as plt\n",
    "import jax.numpy as jnp\n",
    "plt.imshow(jnp.sum(rubixdata.stars.datacube, axis=2), origin=\"lower\", cmap=\"inferno\")\n",
    "plt.colorbar()"
   ]
  },
  {
   "cell_type": "code",
   "execution_count": null,
   "metadata": {},
   "outputs": [],
   "source": [
    "#NBVAL_SKIP\n",
    "wave = pipe.telescope.wave_seq\n",
    "\n",
    "spectra = rubixdata.stars.datacube # Spectra of all stars\n",
    "print(spectra.shape)\n",
    "\n",
    "plt.plot(wave, spectra[0,0,:])"
   ]
  },
  {
   "cell_type": "markdown",
   "metadata": {},
   "source": [
    "Now we are in the stage to calculate the Jacobian. Therefore we need a list of all the transformers in the pipeline. We then calculate an abstract form of the gradient with these expressions. Finally we can calculate the gradient for teh given input data."
   ]
  },
  {
   "cell_type": "code",
   "execution_count": null,
   "metadata": {},
   "outputs": [],
   "source": [
    "# _get_pipeline_functions() returns a list of the transformer functions in the correct order\n",
    "transformers_list = pipe._get_pipeline_functions()\n",
    "print(transformers_list)  # Debug: see the list of JAX-compatible functions\n",
    "\n",
    "from rubix.utils import read_yaml\n",
    "read_cfg = read_yaml(\"../rubix/config/pipeline_config.yml\")\n",
    "\n",
    "# read_cfg is a dict. We specifically want read_cfg[\"calc_ifu\"], which has \"Transformers\" inside.\n",
    "pipeline_cfg = read_cfg[\"calc_gradient\"]\n",
    "\n",
    "from rubix.pipeline import linear_pipeline as ltp\n",
    "\n",
    "tp = ltp.LinearTransformerPipeline(\n",
    "    pipeline_cfg,      # pipeline_cfg == read_cfg[\"calc_ifu\"]\n",
    "    transformers_list, # The list of function objects from RubixPipeline\n",
    ")\n",
    "\n",
    "compiled_fn = tp.compile_expression()\n",
    "\n",
    "# Evaluate pipeline\n",
    "#output = compiled_fn(rubixdata)\n",
    "\n",
    "# Calculate gradient\n",
    "import jax\n",
    "\n",
    "jac_fn = jax.jacrev(compiled_fn)\n",
    "jacobian = jac_fn(rubixdata)\n",
    "print(jacobian)\n"
   ]
  },
  {
   "cell_type": "code",
   "execution_count": null,
   "metadata": {},
   "outputs": [],
   "source": [
    "import jax.tree_util as jtu\n",
    "\n",
    "# Flatten the Jacobian to inspect the tree structure\n",
    "flat_values, tree_def = jtu.tree_flatten(jacobian)\n",
    "print(\"Number of elements in the tree:\", len(flat_values))\n",
    "\n",
    "# Print each element's type and shape\n",
    "for i, value in enumerate(flat_values):\n",
    "    print(f\"Element {i}: Type={type(value)}, Shape={getattr(value, 'shape', 'N/A')}\")\n",
    "\n",
    "# Optionally print the tree definition for clarity\n",
    "print(tree_def)\n",
    "\n",
    "\n",
    "# Function to print or process leaves in the PyTree\n",
    "def process_leaf(path, leaf):\n",
    "    print(f\"Path: {path}, Type: {type(leaf)}, Shape: {getattr(leaf, 'shape', 'N/A')}\")\n",
    "\n",
    "# Walk through the tree structure\n",
    "jtu.tree_map_with_path(process_leaf, jacobian)\n"
   ]
  },
  {
   "cell_type": "code",
   "execution_count": null,
   "metadata": {},
   "outputs": [],
   "source": [
    "stars_gradient = jacobian.stars.datacube\n",
    "stars_gradient"
   ]
  },
  {
   "cell_type": "code",
   "execution_count": null,
   "metadata": {},
   "outputs": [],
   "source": [
    "print(rubixdata.stars.datacube.shape)\n",
    "print(rubixdata.stars.age)\n",
    "print(stars_gradient.stars.age)"
   ]
  },
  {
   "cell_type": "code",
   "execution_count": null,
   "metadata": {},
   "outputs": [],
   "source": [
    "rubixdata.stars"
   ]
  },
  {
   "cell_type": "code",
   "execution_count": null,
   "metadata": {},
   "outputs": [],
   "source": [
    "rubixdata.stars.age = jnp.array([[0.0, 0.0]])\n",
    "rubixdata.stars.metallicity = jnp.array([[0.0, 0.0]])\n",
    "rubixdata.stars.mass = jnp.array([[0.0, 0.0]])\n",
    "\n",
    "import pickle\n",
    "pickle.dump(rubixdata, open(\"output/rubix_galaxy.pkl\", \"wb\"))"
   ]
  },
  {
   "cell_type": "code",
   "execution_count": null,
   "metadata": {},
   "outputs": [],
   "source": [
    "from rubix.core.pipeline import RubixPipeline\n",
    "# Suppose you already have a user_config or path to config\n",
    "#config = \"../rubix/config/pipeline_config.yaml\"\n",
    "import os\n",
    "config = {\n",
    "    \"pipeline\":{\"name\": \"calc_gradient\"},\n",
    "    \n",
    "    \"logger\": {\n",
    "        \"log_level\": \"DEBUG\",\n",
    "        \"log_file_path\": None,\n",
    "        \"format\": \"%(asctime)s - %(name)s - %(levelname)s - %(message)s\",\n",
    "    },\n",
    "    \"data\": {\n",
    "        \"name\": \"IllustrisAPI\",\n",
    "        \"args\": {\n",
    "            \"api_key\": os.environ.get(\"ILLUSTRIS_API_KEY\"),\n",
    "            \"particle_type\": [\"stars\"],\n",
    "            \"simulation\": \"TNG50-1\",\n",
    "            \"snapshot\": 99,\n",
    "            \"save_data_path\": \"data\",\n",
    "        },\n",
    "        \n",
    "        \"load_galaxy_args\": {\n",
    "        \"id\": 14,\n",
    "        \"reuse\": True,\n",
    "        },\n",
    "        \n",
    "        \"subset\": {\n",
    "            \"use_subset\": True,\n",
    "            \"subset_size\": 2,\n",
    "        },\n",
    "    },\n",
    "    \"simulation\": {\n",
    "        \"name\": \"IllustrisTNG\",\n",
    "        \"args\": {\n",
    "            \"path\": \"data/galaxy-id-14.hdf5\",\n",
    "        },\n",
    "    \n",
    "    },\n",
    "    \"output_path\": \"output\",\n",
    "    \"output_modified\": True,\n",
    "    \"modified_path\": \"output/rubix_galaxy.pkl\",\n",
    "\n",
    "    \"telescope\":\n",
    "        {\"name\": \"TESTGRADIENT\",\n",
    "         \"psf\": {\"name\": \"gaussian\", \"size\": 5, \"sigma\": 0.6},\n",
    "         \"lsf\": {\"sigma\": 0.5},\n",
    "         \"noise\": {\"signal_to_noise\": 1,\"noise_distribution\": \"normal\"},\n",
    "         },\n",
    "    \"cosmology\":\n",
    "        {\"name\": \"PLANCK15\"},\n",
    "        \n",
    "    \"galaxy\":\n",
    "        {\"dist_z\": 0.1,\n",
    "         \"rotation\": {\"type\": \"edge-on\"},\n",
    "        },\n",
    "        \n",
    "    \"ssp\": {\n",
    "        \"template\": {\n",
    "            \"name\": \"BruzualCharlot2003\"\n",
    "        },\n",
    "    },        \n",
    "}\n",
    "pipe = RubixPipeline(config)\n",
    "rubixdata = pipe.run()"
   ]
  },
  {
   "cell_type": "code",
   "execution_count": null,
   "metadata": {},
   "outputs": [],
   "source": [
    "import matplotlib.pyplot as plt\n",
    "import jax.numpy as jnp\n",
    "plt.imshow(jnp.sum(rubixdata.stars.datacube, axis=2), origin=\"lower\", cmap=\"inferno\")\n",
    "plt.colorbar()"
   ]
  },
  {
   "cell_type": "code",
   "execution_count": null,
   "metadata": {},
   "outputs": [],
   "source": [
    "#NBVAL_SKIP\n",
    "wave = pipe.telescope.wave_seq\n",
    "\n",
    "spectra = rubixdata.stars.datacube # Spectra of all stars\n",
    "print(spectra.shape)\n",
    "\n",
    "plt.plot(wave, spectra[0,0,:])"
   ]
  }
 ],
 "metadata": {
  "kernelspec": {
   "display_name": "rubix",
   "language": "python",
   "name": "python3"
  },
  "language_info": {
   "codemirror_mode": {
    "name": "ipython",
    "version": 3
   },
   "file_extension": ".py",
   "mimetype": "text/x-python",
   "name": "python",
   "nbconvert_exporter": "python",
   "pygments_lexer": "ipython3",
   "version": "3.10.13"
  }
 },
 "nbformat": 4,
 "nbformat_minor": 2
}
