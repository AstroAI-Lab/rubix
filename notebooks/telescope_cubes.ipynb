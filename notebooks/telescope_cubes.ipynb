{
 "cells": [
  {
   "cell_type": "code",
   "execution_count": 5,
   "metadata": {},
   "outputs": [
    {
     "name": "stderr",
     "output_type": "stream",
     "text": [
      "2024-07-25 15:54:49,132 - rubix - INFO - Getting rubix data...\n",
      "2024-07-25 15:54:49,133 - rubix - INFO - Rubix galaxy file already exists, skipping conversion\n"
     ]
    },
    {
     "name": "stderr",
     "output_type": "stream",
     "text": [
      "2024-07-25 15:54:49,602 - rubix - WARNING - The Subset value is set in config. Using only subset of size 10000\n",
      "2024-07-25 15:54:49,603 - rubix - INFO - Data loaded with 10000 particles.\n",
      "2024-07-25 15:54:49,603 - rubix - DEBUG - Data Shape: {'coords': (10000, 3), 'velocities': (10000, 3), 'metallicity': (10000,), 'mass': (10000,), 'age': (10000,), 'halfmassrad_stars': ()}\n",
      "2024-07-25 15:54:49,604 - rubix - INFO - Setting up the pipeline...\n",
      "2024-07-25 15:54:49,604 - rubix - DEBUG - Pipeline Configuration: {'Transformers': {'rotate_galaxy': {'name': 'rotate_galaxy', 'depends_on': None, 'args': [], 'kwargs': {'type': 'face-on'}}, 'filter_particles': {'name': 'filter_particles', 'depends_on': 'rotate_galaxy', 'args': [], 'kwargs': {}}, 'spaxel_assignment': {'name': 'spaxel_assignment', 'depends_on': 'filter_particles', 'args': [], 'kwargs': {}}, 'reshape_data': {'name': 'reshape_data', 'depends_on': 'spaxel_assignment', 'args': [], 'kwargs': {}}, 'calculate_spectra': {'name': 'calculate_spectra', 'depends_on': 'reshape_data', 'args': [], 'kwargs': {}}, 'scale_spectrum_by_mass': {'name': 'scale_spectrum_by_mass', 'depends_on': 'calculate_spectra', 'args': [], 'kwargs': {}}, 'doppler_shift_and_resampling': {'name': 'doppler_shift_and_resampling', 'depends_on': 'scale_spectrum_by_mass', 'args': [], 'kwargs': {}}, 'calculate_datacube': {'name': 'calculate_datacube', 'depends_on': 'doppler_shift_and_resampling', 'args': [], 'kwargs': {}}, 'convolve_psf': {'name': 'convolve_psf', 'depends_on': 'calculate_datacube', 'args': [], 'kwargs': {}}, 'convolve_lsf': {'name': 'convolve_lsf', 'depends_on': 'convolve_psf', 'args': [], 'kwargs': {}}, 'apply_noise': {'name': 'apply_noise', 'depends_on': 'convolve_lsf', 'args': [], 'kwargs': {}}}}\n",
      "2024-07-25 15:54:49,604 - rubix - DEBUG - Roataion Type found: edge-on\n",
      "2024-07-25 15:54:49,617 - rubix - DEBUG - Method not defined, using default method: cubic\n",
      "2024-07-25 15:54:49,627 - rubix - DEBUG - SSP Wave: (842,)\n",
      "2024-07-25 15:54:49,632 - rubix - INFO - Assembling the pipeline...\n",
      "2024-07-25 15:54:49,633 - rubix - INFO - Compiling the expressions...\n",
      "2024-07-25 15:54:49,633 - rubix - INFO - Running the pipeline on the input data...\n",
      "2024-07-25 15:54:49,634 - rubix - INFO - Rotating galaxy with alpha=90, beta=0, gamma=0\n",
      "2024-07-25 15:54:49,735 - rubix - INFO - Calculating IFU cube...\n",
      "2024-07-25 15:54:49,735 - rubix - DEBUG - Input shapes: Metallicity: (1, 10000), Age: (1, 10000)\n",
      "2024-07-25 15:54:50,042 - rubix - DEBUG - Calculation Finished! Spectra shape: (1, 10000, 842)\n",
      "2024-07-25 15:54:50,043 - rubix - INFO - Scaling Spectra by Mass...\n",
      "2024-07-25 15:54:50,047 - rubix - DEBUG - Doppler Shifted SSP Wave: (1, 10000, 842)\n",
      "2024-07-25 15:54:50,048 - rubix - DEBUG - Telescope Wave Seq: (3721,)\n",
      "2024-07-25 15:54:50,104 - rubix - INFO - Calculating Data Cube...\n",
      "2024-07-25 15:54:50,107 - rubix - DEBUG - Datacube Shape: (25, 25, 3721)\n",
      "2024-07-25 15:54:50,109 - rubix - INFO - Convolving with LSF...\n",
      "2024-07-25 15:54:50,112 - rubix - INFO - Applying noise to datacube with signal to noise ratio: 1 and noise distribution: normal\n",
      "2024-07-25 15:54:53,440 - rubix - INFO - Pipeline run completed in 3.84 seconds.\n"
     ]
    },
    {
     "data": {
      "text/plain": [
       "<matplotlib.image.AxesImage at 0x7f3190246ad0>"
      ]
     },
     "execution_count": 5,
     "metadata": {},
     "output_type": "execute_result"
    },
    {
     "data": {
      "image/png": "[encoded data removed]",
      "text/plain": [
       "<Figure size 640x480 with 1 Axes>"
      ]
     },
     "metadata": {},
     "output_type": "display_data"
    }
   ],
   "source": [
    "#NBVAL_SKIP\n",
    "import matplotlib.pyplot as plt\n",
    "from rubix.core.pipeline import RubixPipeline \n",
    "import os\n",
    "config = {\n",
    "    \"pipeline\":{\"name\": \"calc_ifu\"},\n",
    "    \n",
    "    \"logger\": {\n",
    "        \"log_level\": \"DEBUG\",\n",
    "        \"log_file_path\": None,\n",
    "        \"format\": \"%(asctime)s - %(name)s - %(levelname)s - %(message)s\",\n",
    "    },\n",
    "    \"data\": {\n",
    "        \"name\": \"IllustrisAPI\",\n",
    "        \"args\": {\n",
    "            \"api_key\": os.environ.get(\"ILLUSTRIS_API_KEY\"),\n",
    "            \"particle_type\": [\"stars\"],\n",
    "            \"simulation\": \"TNG50-1\",\n",
    "            \"snapshot\": 99,\n",
    "            \"save_data_path\": \"data\",\n",
    "        },\n",
    "        \n",
    "        \"load_galaxy_args\": {\n",
    "        \"id\": 14,\n",
    "        \"reuse\": True,\n",
    "        },\n",
    "        \n",
    "        \"subset\": {\n",
    "            \"use_subset\": True,\n",
    "            \"subset_size\": 10000,\n",
    "        },\n",
    "    },\n",
    "    \"simulation\": {\n",
    "        \"name\": \"IllustrisTNG\",\n",
    "        \"args\": {\n",
    "            \"path\": \"data/galaxy-id-14.hdf5\",\n",
    "        },\n",
    "    \n",
    "    },\n",
    "    \"output_path\": \"output\",\n",
    "\n",
    "    \"telescope\":\n",
    "        {\"name\": \"MUSE\",\n",
    "         \"psf\": {\"name\": \"gaussian\", \"size\": 5, \"sigma\": 0.6},\n",
    "         \"lsf\": {\"sigma\": 0.5},\n",
    "         \"noise\": {\"signal_to_noise\": 1,\"noise_distribution\": \"normal\"},},\n",
    "    \"cosmology\":\n",
    "        {\"name\": \"PLANCK15\"},\n",
    "        \n",
    "    \"galaxy\":\n",
    "        {\"dist_z\": 0.1,\n",
    "         \"rotation\": {\"type\": \"edge-on\"},\n",
    "        },\n",
    "        \n",
    "    \"ssp\": {\n",
    "        \"template\": {\n",
    "            \"name\": \"BruzualCharlot2003\"\n",
    "        },\n",
    "    },        \n",
    "}\n",
    "\n",
    "pipe = RubixPipeline(config)\n",
    "\n",
    "data= pipe.run()\n",
    "\n",
    "datacube = data[\"datacube\"]\n",
    "img = datacube.sum(axis=2)\n",
    "plt.imshow(img, origin=\"lower\")"
   ]
  },
  {
   "cell_type": "code",
   "execution_count": 18,
   "metadata": {},
   "outputs": [
    {
     "name": "stderr",
     "output_type": "stream",
     "text": [
      "/home/annalena/rubix/rubix/telescope/factory.py:21: UserWarning: No telescope config provided, using default stored in /home/annalena/rubix/rubix/telescope/telescopes.yaml\n",
      "  warnings.warn(\n",
      "2024-07-25 15:58:36,285 - rubix - INFO - Getting rubix data...\n",
      "2024-07-25 15:58:36,286 - rubix - INFO - Rubix galaxy file already exists, skipping conversion\n"
     ]
    },
    {
     "name": "stderr",
     "output_type": "stream",
     "text": [
      "2024-07-25 15:58:36,761 - rubix - WARNING - The Subset value is set in config. Using only subset of size 10000\n",
      "2024-07-25 15:58:36,761 - rubix - INFO - Data loaded with 10000 particles.\n",
      "2024-07-25 15:58:36,762 - rubix - DEBUG - Data Shape: {'coords': (10000, 3), 'velocities': (10000, 3), 'metallicity': (10000,), 'mass': (10000,), 'age': (10000,), 'halfmassrad_stars': ()}\n",
      "2024-07-25 15:58:36,783 - rubix - INFO - Setting up the pipeline...\n",
      "2024-07-25 15:58:36,784 - rubix - DEBUG - Pipeline Configuration: {'Transformers': {'rotate_galaxy': {'name': 'rotate_galaxy', 'depends_on': None, 'args': [], 'kwargs': {'type': 'face-on'}}, 'filter_particles': {'name': 'filter_particles', 'depends_on': 'rotate_galaxy', 'args': [], 'kwargs': {}}, 'spaxel_assignment': {'name': 'spaxel_assignment', 'depends_on': 'filter_particles', 'args': [], 'kwargs': {}}, 'reshape_data': {'name': 'reshape_data', 'depends_on': 'spaxel_assignment', 'args': [], 'kwargs': {}}, 'calculate_spectra': {'name': 'calculate_spectra', 'depends_on': 'reshape_data', 'args': [], 'kwargs': {}}, 'scale_spectrum_by_mass': {'name': 'scale_spectrum_by_mass', 'depends_on': 'calculate_spectra', 'args': [], 'kwargs': {}}, 'doppler_shift_and_resampling': {'name': 'doppler_shift_and_resampling', 'depends_on': 'scale_spectrum_by_mass', 'args': [], 'kwargs': {}}, 'calculate_datacube': {'name': 'calculate_datacube', 'depends_on': 'doppler_shift_and_resampling', 'args': [], 'kwargs': {}}, 'convolve_psf': {'name': 'convolve_psf', 'depends_on': 'calculate_datacube', 'args': [], 'kwargs': {}}, 'convolve_lsf': {'name': 'convolve_lsf', 'depends_on': 'convolve_psf', 'args': [], 'kwargs': {}}, 'apply_noise': {'name': 'apply_noise', 'depends_on': 'convolve_lsf', 'args': [], 'kwargs': {}}}}\n",
      "2024-07-25 15:58:36,785 - rubix - DEBUG - Roataion Type found: edge-on\n",
      "2024-07-25 15:58:36,810 - rubix - DEBUG - Method not defined, using default method: cubic\n",
      "2024-07-25 15:58:36,821 - rubix - DEBUG - SSP Wave: (842,)\n",
      "2024-07-25 15:58:36,830 - rubix - INFO - Assembling the pipeline...\n",
      "2024-07-25 15:58:36,831 - rubix - INFO - Compiling the expressions...\n",
      "2024-07-25 15:58:36,832 - rubix - INFO - Running the pipeline on the input data...\n",
      "2024-07-25 15:58:36,833 - rubix - INFO - Rotating galaxy with alpha=90, beta=0, gamma=0\n",
      "2024-07-25 15:58:36,913 - rubix - INFO - Calculating IFU cube...\n",
      "2024-07-25 15:58:36,913 - rubix - DEBUG - Input shapes: Metallicity: (1, 10000), Age: (1, 10000)\n",
      "2024-07-25 15:58:37,073 - rubix - DEBUG - Calculation Finished! Spectra shape: (1, 10000, 842)\n",
      "2024-07-25 15:58:37,073 - rubix - INFO - Scaling Spectra by Mass...\n",
      "2024-07-25 15:58:37,076 - rubix - DEBUG - Doppler Shifted SSP Wave: (1, 10000, 842)\n",
      "2024-07-25 15:58:37,076 - rubix - DEBUG - Telescope Wave Seq: (1490,)\n",
      "2024-07-25 15:58:37,132 - rubix - INFO - Calculating Data Cube...\n",
      "2024-07-25 15:58:37,134 - rubix - DEBUG - Datacube Shape: (30, 30, 1490)\n",
      "2024-07-25 15:58:37,137 - rubix - INFO - Convolving with LSF...\n",
      "2024-07-25 15:58:37,140 - rubix - INFO - Applying noise to datacube with signal to noise ratio: 1 and noise distribution: normal\n",
      "2024-07-25 15:58:40,488 - rubix - INFO - Pipeline run completed in 3.70 seconds.\n"
     ]
    },
    {
     "data": {
      "text/plain": [
       "<matplotlib.image.AxesImage at 0x7f308c4437f0>"
      ]
     },
     "execution_count": 18,
     "metadata": {},
     "output_type": "execute_result"
    },
    {
     "data": {
      "image/png": "[encoded data removed]",
      "text/plain": [
       "<Figure size 640x480 with 1 Axes>"
      ]
     },
     "metadata": {},
     "output_type": "display_data"
    }
   ],
   "source": [
    "#NBVAL_SKIP\n",
    "import matplotlib.pyplot as plt\n",
    "from rubix.core.pipeline import RubixPipeline \n",
    "import os\n",
    "config = {\n",
    "    \"pipeline\":{\"name\": \"calc_ifu\"},\n",
    "    \n",
    "    \"logger\": {\n",
    "        \"log_level\": \"DEBUG\",\n",
    "        \"log_file_path\": None,\n",
    "        \"format\": \"%(asctime)s - %(name)s - %(levelname)s - %(message)s\",\n",
    "    },\n",
    "    \"data\": {\n",
    "        \"name\": \"IllustrisAPI\",\n",
    "        \"args\": {\n",
    "            \"api_key\": os.environ.get(\"ILLUSTRIS_API_KEY\"),\n",
    "            \"particle_type\": [\"stars\"],\n",
    "            \"simulation\": \"TNG50-1\",\n",
    "            \"snapshot\": 99,\n",
    "            \"save_data_path\": \"data\",\n",
    "        },\n",
    "        \n",
    "        \"load_galaxy_args\": {\n",
    "        \"id\": 14,\n",
    "        \"reuse\": True,\n",
    "        },\n",
    "        \n",
    "        \"subset\": {\n",
    "            \"use_subset\": True,\n",
    "            \"subset_size\": 10000,\n",
    "        },\n",
    "    },\n",
    "    \"simulation\": {\n",
    "        \"name\": \"IllustrisTNG\",\n",
    "        \"args\": {\n",
    "            \"path\": \"data/galaxy-id-14.hdf5\",\n",
    "        },\n",
    "    \n",
    "    },\n",
    "    \"output_path\": \"output\",\n",
    "\n",
    "    \"telescope\":\n",
    "        {\"name\": \"NIRSpec_G235H_F170LP\",\n",
    "         \"psf\": {\"name\": \"gaussian\", \"size\": 5, \"sigma\": 0.6},\n",
    "         \"lsf\": {\"sigma\": 0.5},\n",
    "         \"noise\": {\"signal_to_noise\": 1,\"noise_distribution\": \"normal\"},},\n",
    "    \"cosmology\":\n",
    "        {\"name\": \"PLANCK15\"},\n",
    "        \n",
    "    \"galaxy\":\n",
    "        {\"dist_z\": 0.1,\n",
    "         \"rotation\": {\"type\": \"edge-on\"},\n",
    "        },\n",
    "        \n",
    "    \"ssp\": {\n",
    "        \"template\": {\n",
    "            \"name\": \"BruzualCharlot2003\"\n",
    "        },\n",
    "    },        \n",
    "}\n",
    "\n",
    "pipe = RubixPipeline(config)\n",
    "\n",
    "data= pipe.run()\n",
    "\n",
    "datacube = data[\"datacube\"]\n",
    "img = datacube.sum(axis=2)\n",
    "plt.imshow(img, origin=\"lower\")"
   ]
  }
 ],
 "metadata": {
  "kernelspec": {
   "display_name": "rubix",
   "language": "python",
   "name": "python3"
  },
  "language_info": {
   "codemirror_mode": {
    "name": "ipython",
    "version": 3
   },
   "file_extension": ".py",
   "mimetype": "text/x-python",
   "name": "python",
   "nbconvert_exporter": "python",
   "pygments_lexer": "ipython3",
   "version": "3.10.14"
  }
 },
 "nbformat": 4,
 "nbformat_minor": 2
}
