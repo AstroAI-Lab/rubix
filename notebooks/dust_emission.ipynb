{
 "cells": [
  {
   "cell_type": "code",
   "execution_count": null,
   "metadata": {},
   "outputs": [],
   "source": [
    "# NBVAL_SKIP\n",
    "from rubix.spectra.dust.dust_emission import *"
   ]
  },
  {
   "cell_type": "code",
   "execution_count": null,
   "metadata": {},
   "outputs": [],
   "source": [
    "# NBVAL_SKIP\n",
    "waves = jnp.logspace(4, 8, 1000)\n",
    "dust_spectra = DustEmission(wavelengths=waves)\n"
   ]
  },
  {
   "cell_type": "code",
   "execution_count": null,
   "metadata": {},
   "outputs": [],
   "source": [
    "spectra = dust_spectra.spectrum(\n",
    "    dust_emission_grid_path=\"/Users/buck/Documents/Nexus/Projects/rubix/rubix/spectra/dust/\",\n",
    "    qpah=jnp.asarray(3.5, dtype=jnp.float32),\n",
    "    umin=jnp.asarray(1, dtype=jnp.float32),\n",
    "    gamma=jnp.asarray(0.01, dtype=jnp.float32),\n",
    ")"
   ]
  },
  {
   "cell_type": "code",
   "execution_count": null,
   "metadata": {},
   "outputs": [],
   "source": [
    "waves"
   ]
  },
  {
   "cell_type": "code",
   "execution_count": null,
   "metadata": {},
   "outputs": [],
   "source": [
    "import matplotlib.pyplot as plt\n",
    "\n",
    "plt.plot(waves, spectra)\n",
    "plt.yscale(\"log\")\n",
    "plt.xscale(\"log\")\n",
    "plt.xlabel(\"Angstroms\")\n",
    "plt.ylabel(\"Flux [whatever units?]\")\n",
    "plt.ylim(1e-8, 1e-5)\n",
    "plt.xlim(8e3, 1e7)"
   ]
  }
 ],
 "metadata": {
  "kernelspec": {
   "display_name": "rubix",
   "language": "python",
   "name": "python3"
  },
  "language_info": {
   "codemirror_mode": {
    "name": "ipython",
    "version": 3
   },
   "file_extension": ".py",
   "mimetype": "text/x-python",
   "name": "python",
   "nbconvert_exporter": "python",
   "pygments_lexer": "ipython3",
   "version": "3.13.0"
  }
 },
 "nbformat": 4,
 "nbformat_minor": 2
}
