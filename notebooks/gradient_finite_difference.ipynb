{
 "cells": [
  {
   "cell_type": "code",
   "execution_count": null,
   "metadata": {},
   "outputs": [],
   "source": [
    "import os\n",
    "os.environ['SPS_HOME'] = '/home/annalena/sps_fsps'"
   ]
  },
  {
   "cell_type": "markdown",
   "metadata": {},
   "source": [
    "# Load SSP template"
   ]
  },
  {
   "cell_type": "code",
   "execution_count": null,
   "metadata": {},
   "outputs": [],
   "source": [
    "# NBVAL_SKIP\n",
    "from rubix.spectra.ssp.grid import HDF5SSPGrid\n",
    "from rubix.utils import get_config\n",
    "\n",
    "config = get_config(\"../rubix/config/rubix_config.yml\")\n",
    "\n",
    "ssp_bc = HDF5SSPGrid.from_file(config[\"ssp\"][\"templates\"][\"BruzualCharlot2003\"], file_location=\"../rubix/spectra/ssp/templates\")"
   ]
  },
  {
   "cell_type": "code",
   "execution_count": null,
   "metadata": {},
   "outputs": [],
   "source": [
    "age_values = ssp_bc.age\n",
    "print(age_values)\n",
    "\n",
    "metallicity_values = ssp_bc.metallicity\n",
    "print(metallicity_values)"
   ]
  },
  {
   "cell_type": "markdown",
   "metadata": {},
   "source": [
    "# Load pipeline"
   ]
  },
  {
   "cell_type": "code",
   "execution_count": null,
   "metadata": {},
   "outputs": [],
   "source": [
    "from rubix.core.pipeline import RubixPipeline\n",
    "# Suppose you already have a user_config or path to config\n",
    "#config = \"../rubix/config/pipeline_config.yaml\"\n",
    "import os\n",
    "config = {\n",
    "    \"pipeline\":{\"name\": \"calc_gradient\"},\n",
    "    \n",
    "    \"logger\": {\n",
    "        \"log_level\": \"DEBUG\",\n",
    "        \"log_file_path\": None,\n",
    "        \"format\": \"%(asctime)s - %(name)s - %(levelname)s - %(message)s\",\n",
    "    },\n",
    "    \"data\": {\n",
    "        \"name\": \"IllustrisAPI\",\n",
    "        \"args\": {\n",
    "            \"api_key\": os.environ.get(\"ILLUSTRIS_API_KEY\"),\n",
    "            \"particle_type\": [\"stars\"],\n",
    "            \"simulation\": \"TNG50-1\",\n",
    "            \"snapshot\": 99,\n",
    "            \"save_data_path\": \"data\",\n",
    "        },\n",
    "        \n",
    "        \"load_galaxy_args\": {\n",
    "        \"id\": 14,\n",
    "        \"reuse\": True,\n",
    "        },\n",
    "        \n",
    "        \"subset\": {\n",
    "            \"use_subset\": True,\n",
    "            \"subset_size\": 2,\n",
    "        },\n",
    "    },\n",
    "    \"simulation\": {\n",
    "        \"name\": \"IllustrisTNG\",\n",
    "        \"args\": {\n",
    "            \"path\": \"data/galaxy-id-14.hdf5\",\n",
    "        },\n",
    "    \n",
    "    },\n",
    "    \"output_path\": \"output\",\n",
    "    \"output_modified\":  False,\n",
    "\n",
    "    \"telescope\":\n",
    "        {\"name\": \"TESTGRADIENT\",\n",
    "         \"psf\": {\"name\": \"gaussian\", \"size\": 5, \"sigma\": 0.6},\n",
    "         \"lsf\": {\"sigma\": 0.5},\n",
    "         \"noise\": {\"signal_to_noise\": 1,\"noise_distribution\": \"normal\"},\n",
    "         },\n",
    "    \"cosmology\":\n",
    "        {\"name\": \"PLANCK15\"},\n",
    "        \n",
    "    \"galaxy\":\n",
    "        {\"dist_z\": 0.1,\n",
    "         \"rotation\": {\"type\": \"edge-on\"},\n",
    "        },\n",
    "        \n",
    "    \"ssp\": {\n",
    "        \"template\": {\n",
    "            \"name\": \"BruzualCharlot2003\"\n",
    "        },\n",
    "    },        \n",
    "}\n",
    "pipe = RubixPipeline(config)\n",
    "rubixdata = pipe.run()"
   ]
  },
  {
   "cell_type": "markdown",
   "metadata": {},
   "source": [
    "# Set target values"
   ]
  },
  {
   "cell_type": "code",
   "execution_count": null,
   "metadata": {},
   "outputs": [],
   "source": [
    "import jax.numpy as jnp\n",
    "\n",
    "rubixdata.stars.age = jnp.array([age_values[100], age_values[100]])\n",
    "rubixdata.stars.metallicity = jnp.array([metallicity_values[3], metallicity_values[3]])\n",
    "rubixdata.stars.mass = jnp.array([[1.0, 1.0]])\n",
    "rubixdata.stars.velocity = jnp.array([[0.0, 0.0, 0.0], [0.0, 0.0, 0.0]])"
   ]
  },
  {
   "cell_type": "code",
   "execution_count": null,
   "metadata": {},
   "outputs": [],
   "source": [
    "from rubix.core.pipeline_gradient import RubixPipeline\n",
    "# Suppose you already have a user_config or path to config\n",
    "#config = \"../rubix/config/pipeline_config.yaml\"\n",
    "import os\n",
    "config = {\n",
    "    \"pipeline\":{\"name\": \"calc_gradient\"},\n",
    "    \n",
    "    \"logger\": {\n",
    "        \"log_level\": \"DEBUG\",\n",
    "        \"log_file_path\": None,\n",
    "        \"format\": \"%(asctime)s - %(name)s - %(levelname)s - %(message)s\",\n",
    "    },\n",
    "     \"data\": {\n",
    "        \"args\": {\n",
    "            \"particle_type\": [\"stars\"],\n",
    "        },\n",
    "    },\n",
    "    \n",
    "    \"output_path\": \"output\",\n",
    "    \"output_modified\":  False,\n",
    "\n",
    "    \"telescope\":\n",
    "        {\"name\": \"TESTGRADIENT\",\n",
    "         \"psf\": {\"name\": \"gaussian\", \"size\": 5, \"sigma\": 0.6},\n",
    "         \"lsf\": {\"sigma\": 0.5},\n",
    "         \"noise\": {\"signal_to_noise\": 1,\"noise_distribution\": \"normal\"},\n",
    "         },\n",
    "    \"cosmology\":\n",
    "        {\"name\": \"PLANCK15\"},\n",
    "        \n",
    "    \"galaxy\":\n",
    "        {\"dist_z\": 0.1,\n",
    "         \"rotation\": {\"type\": \"edge-on\"},\n",
    "        },\n",
    "        \n",
    "    \"ssp\": {\n",
    "        \"template\": {\n",
    "            \"name\": \"BruzualCharlot2003\"\n",
    "        },\n",
    "    },        \n",
    "}\n",
    "pipe = RubixPipeline(config)\n",
    "rubixdata = pipe.run(rubixdata)\n",
    "\n",
    "target = rubixdata"
   ]
  },
  {
   "cell_type": "markdown",
   "metadata": {},
   "source": [
    "# Calculate gradient value"
   ]
  },
  {
   "cell_type": "code",
   "execution_count": null,
   "metadata": {},
   "outputs": [],
   "source": [
    "age_values[100]"
   ]
  },
  {
   "cell_type": "code",
   "execution_count": null,
   "metadata": {},
   "outputs": [],
   "source": [
    "age_values[120]"
   ]
  },
  {
   "cell_type": "code",
   "execution_count": null,
   "metadata": {},
   "outputs": [],
   "source": [
    "import jax\n",
    "import jax.numpy as jnp\n",
    "import numpy as np\n",
    "\n",
    "# Initialize the pipeline\n",
    "pipe = RubixPipeline(config)\n",
    "\n",
    "age_test = jnp.array([[age_values[120], age_values[120]]])\n",
    "loss = pipe.loss_only_wrt_age(age_test, rubixdata, target)\n",
    "grad_stars_age120 = jax.grad(pipe.loss_only_wrt_age, argnums=0)(age_test, rubixdata, target)"
   ]
  },
  {
   "cell_type": "code",
   "execution_count": null,
   "metadata": {},
   "outputs": [],
   "source": [
    "print(grad_stars_age120)"
   ]
  },
  {
   "cell_type": "code",
   "execution_count": null,
   "metadata": {},
   "outputs": [],
   "source": [
    "import jax\n",
    "import jax.numpy as jnp\n",
    "import numpy as np\n",
    "\n",
    "# Initialize the pipeline\n",
    "pipe = RubixPipeline(config)\n",
    "\n",
    "# Prepare the data structure to store results\n",
    "results = []\n",
    "\n",
    "#age_variations = [-1.0,-0.5,-0.2,-0.1,-0.05,-0.02,-0.01,-0.005,-0.002,-0.001,0.0,0.001,0.002,0.005,0.01,0.02,0.05,0.1,0.2,0.5,1.0]\n",
    "age_variations = jnp.arange(-0.001, 0.001, 1e-5)\n",
    "# Iterate over the age values from 1.0 to 10.3 in 0.1 steps\n",
    "for age in age_variations:\n",
    "    age_test = jnp.array([[age_values[120]+age, age_values[120]+age]])\n",
    "    #print(metallicity_test)\n",
    "    loss = pipe.loss_only_wrt_age(age_test, rubixdata, target)\n",
    "    results.append((age, age_test, loss))"
   ]
  },
  {
   "cell_type": "code",
   "execution_count": null,
   "metadata": {},
   "outputs": [],
   "source": [
    "# Save the results to a file\n",
    "with open(f'./output/loss_grid/finite_difference3.txt', 'w') as f:\n",
    "    for age_variation, age, loss in results:\n",
    "        f.write(f\"Age variation: {age_variation}, Age: {age}, Loss: {loss}\\n\")"
   ]
  },
  {
   "cell_type": "code",
   "execution_count": null,
   "metadata": {},
   "outputs": [],
   "source": []
  }
 ],
 "metadata": {
  "kernelspec": {
   "display_name": "rubix",
   "language": "python",
   "name": "python3"
  },
  "language_info": {
   "codemirror_mode": {
    "name": "ipython",
    "version": 3
   },
   "file_extension": ".py",
   "mimetype": "text/x-python",
   "name": "python",
   "nbconvert_exporter": "python",
   "pygments_lexer": "ipython3",
   "version": "3.10.13"
  }
 },
 "nbformat": 4,
 "nbformat_minor": 2
}
