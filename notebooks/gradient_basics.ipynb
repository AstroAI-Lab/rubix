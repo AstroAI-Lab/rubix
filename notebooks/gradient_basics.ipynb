{
 "cells": [
  {
   "cell_type": "markdown",
   "metadata": {},
   "source": [
    "# Gradient computation in jax\n",
    "\n",
    "Jax comes with the benefit of having general automatic differentiation systems. This notebook should give a quick overview what options you have to caculate a gradient in a pure jax pipeline.\n",
    "\n",
    "We will have a look on the gradient and the jacobian. There are four different functions supported in jax: grad, hessian, jacrev and jacfwd."
   ]
  },
  {
   "cell_type": "code",
   "execution_count": null,
   "metadata": {},
   "outputs": [],
   "source": [
    "import jax\n",
    "import jax.numpy as jnp\n",
    "from jax import grad, hessian, jacrev, jacfwd"
   ]
  },
  {
   "cell_type": "markdown",
   "metadata": {},
   "source": [
    "## Pipeline with one input and one output\n",
    "\n",
    "We define us a simple pipeline that takes one element as input and returns per input one output element."
   ]
  },
  {
   "cell_type": "code",
   "execution_count": null,
   "metadata": {},
   "outputs": [],
   "source": [
    "def pipeline(x):\n",
    "    # Example pipeline function\n",
    "    y = jnp.sin(x)\n",
    "    z = jnp.sum(y ** 2)\n",
    "    return z"
   ]
  },
  {
   "cell_type": "markdown",
   "metadata": {},
   "source": [
    "We can bild the gradient of the pipeline easily by applying grad(pipeline) to the pipeline. This returns us the derivative of the functions in the pipeline. If you apply grad(grad(pipeline)) you receive the second order derivative"
   ]
  },
  {
   "cell_type": "code",
   "execution_count": null,
   "metadata": {},
   "outputs": [],
   "source": [
    "# Define the gradient function\n",
    "pipeline_grad = grad(pipeline)\n",
    "\n",
    "# Example input\n",
    "x = jnp.array([1.0, 2.0, 3.0])\n",
    "\n",
    "# Compute the gradient\n",
    "grad_result = pipeline_grad(x)\n",
    "print(\"Gradient:\", grad_result)"
   ]
  },
  {
   "cell_type": "markdown",
   "metadata": {},
   "source": [
    "## Pipeline with multiple outputs"
   ]
  },
  {
   "cell_type": "code",
   "execution_count": null,
   "metadata": {},
   "outputs": [],
   "source": [
    "def pipeline_multi_output(x):\n",
    "    # Example pipeline function with multiple outputs\n",
    "    y = jnp.sin(x)\n",
    "    z = jnp.cos(x)\n",
    "    return y, z\n",
    "\n",
    "# Define the Jacobian function\n",
    "pipeline_jacobian = jacrev(pipeline_multi_output)\n",
    "\n",
    "# Compute the Jacobian\n",
    "jacobian_result = pipeline_jacobian(x)\n",
    "print(\"Jacobian:\", jacobian_result)"
   ]
  },
  {
   "cell_type": "markdown",
   "metadata": {},
   "source": [
    "## Pipeline with multiple inputs"
   ]
  },
  {
   "cell_type": "code",
   "execution_count": null,
   "metadata": {},
   "outputs": [],
   "source": [
    "def pipeline_mulit_input(x, y):\n",
    "    # Example pipeline function with multiple inputs\n",
    "    z = x ** 2 + (y-1) ** 2\n",
    "    return z\n",
    "\n",
    "x = 5.0\n",
    "y = 2.0"
   ]
  },
  {
   "cell_type": "markdown",
   "metadata": {},
   "source": [
    "If we have a function with multiple inputs, we can build the gradient with respect to one of the inputs."
   ]
  },
  {
   "cell_type": "code",
   "execution_count": null,
   "metadata": {},
   "outputs": [],
   "source": [
    "x_grad = grad(pipeline_mulit_input, argnums=0)(x,y)\n",
    "y_grad = grad(pipeline_mulit_input, argnums=1)(x,y)\n",
    "\n",
    "print(\"x_grad:\", x_grad)\n",
    "print(\"y_grad:\", y_grad)"
   ]
  },
  {
   "cell_type": "code",
   "execution_count": null,
   "metadata": {},
   "outputs": [],
   "source": [
    "\n",
    "\n",
    "pipeline_grad_x = jacrev(pipeline_mulit_input, argnums=0)\n",
    "pipeline_grad_y = jacrev(pipeline_mulit_input, argnums=1)\n",
    "pipeline_grad_xy = jacrev(pipeline_mulit_input, argnums=(0, 1))\n",
    "\n",
    "grad_x_result = pipeline_grad_x(x, y)\n",
    "grad_y_result = pipeline_grad_y(x, y)\n",
    "grad_xy_result = pipeline_grad_xy(x, y)\n",
    "\n",
    "print(\"Gradient with respect to x:\", grad_x_result)\n",
    "print(\"Gradient with respect to y:\", grad_y_result)\n",
    "print(\"Gradient with respect to x and y:\", grad_xy_result)\n"
   ]
  },
  {
   "cell_type": "code",
   "execution_count": null,
   "metadata": {},
   "outputs": [],
   "source": [
    "x = x - 0.1 * grad_x_result\n",
    "y = y - 0.1 * grad_y_result\n",
    "\n",
    "print(\"Updated x:\", x)\n",
    "print(\"Updated y:\", y)\n",
    "\n",
    "grad_x_result = pipeline_grad_x(x, y)\n",
    "grad_y_result = pipeline_grad_y(x, y)\n",
    "\n",
    "print(\"Gradient with respect to x:\", grad_x_result)\n",
    "print(\"Gradient with respect to y:\", grad_y_result)"
   ]
  }
 ],
 "metadata": {
  "kernelspec": {
   "display_name": "rubix",
   "language": "python",
   "name": "python3"
  },
  "language_info": {
   "codemirror_mode": {
    "name": "ipython",
    "version": 3
   },
   "file_extension": ".py",
   "mimetype": "text/x-python",
   "name": "python",
   "nbconvert_exporter": "python",
   "pygments_lexer": "ipython3",
   "version": "3.10.13"
  }
 },
 "nbformat": 4,
 "nbformat_minor": 2
}
