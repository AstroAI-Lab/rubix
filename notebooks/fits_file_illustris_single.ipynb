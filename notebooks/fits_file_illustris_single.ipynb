{
 "cells": [
  {
   "cell_type": "code",
   "execution_count": 1,
   "id": "0",
   "metadata": {
    "papermill": {
     "duration": 0.009287,
     "end_time": "2025-03-24T17:29:05.446141",
     "exception": false,
     "start_time": "2025-03-24T17:29:05.436854",
     "status": "completed"
    },
    "tags": [
     "injected-parameters"
    ]
   },
   "outputs": [],
   "source": [
    "# Parameters\n",
    "#galaxy_id = \"g8.13e11\"\n",
    "pipeline_name = \"calc_ifu\"\n",
    "telescope_name = \"MUSE_ultraWFM\"\n"
   ]
  },
  {
   "cell_type": "code",
   "execution_count": 2,
   "id": "1",
   "metadata": {
    "papermill": {
     "duration": 0.006306,
     "end_time": "2025-03-24T17:29:05.454885",
     "exception": false,
     "start_time": "2025-03-24T17:29:05.448579",
     "status": "completed"
    },
    "tags": []
   },
   "outputs": [],
   "source": [
    "# Parameters\n",
    "#galaxy_id = \"g8.26e11\"\n",
    "#pipeline_name = \"calc_ifu\"\n",
    "#telescope_name = \"MUSE_test\""
   ]
  },
  {
   "cell_type": "code",
   "execution_count": 3,
   "id": "2",
   "metadata": {
    "papermill": {
     "duration": 0.01071,
     "end_time": "2025-03-24T17:29:05.468586",
     "exception": false,
     "start_time": "2025-03-24T17:29:05.457876",
     "status": "completed"
    },
    "tags": []
   },
   "outputs": [],
   "source": [
    "# NBVAL_SKIP\n",
    "import os\n",
    "#os.environ['SPS_HOME'] = '/mnt/storage/annalena_data/sps_fsps'\n",
    "#os.environ['SPS_HOME'] = '/home/annalena/sps_fsps'\n",
    "#os.environ['SPS_HOME'] = '/Users/annalena/Documents/GitHub/fsps'\n",
    "os.environ['SPS_HOME'] = '/export/home/aschaibl/fsps'"
   ]
  },
  {
   "cell_type": "markdown",
   "id": "3",
   "metadata": {
    "papermill": {
     "duration": 0.002596,
     "end_time": "2025-03-24T17:29:05.473940",
     "exception": false,
     "start_time": "2025-03-24T17:29:05.471344",
     "status": "completed"
    },
    "tags": []
   },
   "source": [
    "# Fits files\n",
    "\n",
    "In this notebook we show, how you can store your mock datacube in a fits file, which is the common format in which are observational data handled. We firtss create a mock IFU cube by running the RUBIX pipeline, store it then in a fits file and then lod the data from the fits file."
   ]
  },
  {
   "cell_type": "code",
   "execution_count": 5,
   "id": "4",
   "metadata": {
    "papermill": {
     "duration": 1216.901068,
     "end_time": "2025-03-24T17:49:22.377853",
     "exception": false,
     "start_time": "2025-03-24T17:29:05.476785",
     "status": "completed"
    },
    "tags": []
   },
   "outputs": [
    {
     "name": "stderr",
     "output_type": "stream",
     "text": [
      "/export/home/aschaibl/rubix/rubix/telescope/factory.py:24: UserWarning: No telescope config provided, using default stored in /export/home/aschaibl/rubix/rubix/telescope/telescopes.yaml\n",
      "  warnings.warn(\n",
      "2025-04-15 13:18:32,774 - rubix - INFO - Getting rubix data...\n",
      "2025-04-15 13:18:32,776 - rubix - INFO - Rubix galaxy file already exists, skipping conversion\n",
      "2025-04-15 13:18:32,817 - rubix - INFO - Centering stars particles\n",
      "2025-04-15 13:18:32,869 - rubix - WARNING - The Subset value is set in config. Using only subset of size 1000 for stars\n",
      "2025-04-15 13:18:32,870 - rubix - INFO - Data loaded with 1000 star particles and 0 gas particles.\n",
      "2025-04-15 13:18:32,871 - rubix - INFO - Setting up the pipeline...\n",
      "2025-04-15 13:18:32,872 - rubix - DEBUG - Pipeline Configuration: {'Transformers': {'rotate_galaxy': {'name': 'rotate_galaxy', 'depends_on': None, 'args': [], 'kwargs': {}}, 'filter_particles': {'name': 'filter_particles', 'depends_on': 'rotate_galaxy', 'args': [], 'kwargs': {}}, 'spaxel_assignment': {'name': 'spaxel_assignment', 'depends_on': 'filter_particles', 'args': [], 'kwargs': {}}, 'reshape_data': {'name': 'reshape_data', 'depends_on': 'spaxel_assignment', 'args': [], 'kwargs': {}}, 'calculate_spectra': {'name': 'calculate_spectra', 'depends_on': 'reshape_data', 'args': [], 'kwargs': {}}, 'scale_spectrum_by_mass': {'name': 'scale_spectrum_by_mass', 'depends_on': 'calculate_spectra', 'args': [], 'kwargs': {}}, 'doppler_shift_and_resampling': {'name': 'doppler_shift_and_resampling', 'depends_on': 'scale_spectrum_by_mass', 'args': [], 'kwargs': {}}, 'calculate_datacube': {'name': 'calculate_datacube', 'depends_on': 'doppler_shift_and_resampling', 'args': [], 'kwargs': {}}, 'convolve_psf': {'name': 'convolve_psf', 'depends_on': 'calculate_datacube', 'args': [], 'kwargs': {}}, 'convolve_lsf': {'name': 'convolve_lsf', 'depends_on': 'convolve_psf', 'args': [], 'kwargs': {}}, 'apply_noise': {'name': 'apply_noise', 'depends_on': 'convolve_lsf', 'args': [], 'kwargs': {}}}}\n",
      "2025-04-15 13:18:32,873 - rubix - DEBUG - Roataion Type found: edge-on\n",
      "2025-04-15 13:18:32,874 - rubix - INFO - Calculating spatial bin edges...\n",
      "/export/home/aschaibl/rubix/rubix/telescope/factory.py:24: UserWarning: No telescope config provided, using default stored in /export/home/aschaibl/rubix/rubix/telescope/telescopes.yaml\n",
      "  warnings.warn(\n",
      "2025-04-15 13:18:32,916 - rubix - INFO - Getting cosmology...\n",
      "/export/home/aschaibl/rubix/rubix/telescope/factory.py:24: UserWarning: No telescope config provided, using default stored in /export/home/aschaibl/rubix/rubix/telescope/telescopes.yaml\n",
      "  warnings.warn(\n",
      "2025-04-15 13:18:32,945 - rubix - INFO - Calculating spatial bin edges...\n",
      "/export/home/aschaibl/rubix/rubix/telescope/factory.py:24: UserWarning: No telescope config provided, using default stored in /export/home/aschaibl/rubix/rubix/telescope/telescopes.yaml\n",
      "  warnings.warn(\n",
      "2025-04-15 13:18:32,985 - rubix - INFO - Getting cosmology...\n",
      "2025-04-15 13:18:33,082 - rubix - DEBUG - Method not defined, using default method: cubic\n",
      "2025-04-15 13:18:33,173 - rubix - DEBUG - Method not defined, using default method: cubic\n",
      "/export/home/aschaibl/rubix/rubix/telescope/factory.py:24: UserWarning: No telescope config provided, using default stored in /export/home/aschaibl/rubix/rubix/telescope/telescopes.yaml\n",
      "  warnings.warn(\n",
      "2025-04-15 13:18:33,305 - rubix - DEBUG - SSP Wave: (5994,)\n",
      "/export/home/aschaibl/rubix/rubix/telescope/factory.py:24: UserWarning: No telescope config provided, using default stored in /export/home/aschaibl/rubix/rubix/telescope/telescopes.yaml\n",
      "  warnings.warn(\n",
      "2025-04-15 13:18:33,347 - rubix - INFO - Getting cosmology...\n",
      "/export/home/aschaibl/rubix/rubix/telescope/factory.py:24: UserWarning: No telescope config provided, using default stored in /export/home/aschaibl/rubix/rubix/telescope/telescopes.yaml\n",
      "  warnings.warn(\n",
      "/export/home/aschaibl/rubix/rubix/telescope/factory.py:24: UserWarning: No telescope config provided, using default stored in /export/home/aschaibl/rubix/rubix/telescope/telescopes.yaml\n",
      "  warnings.warn(\n",
      "2025-04-15 13:18:33,449 - rubix - INFO - Assembling the pipeline...\n",
      "2025-04-15 13:18:33,451 - rubix - INFO - Compiling the expressions...\n",
      "2025-04-15 13:18:33,452 - rubix - INFO - Running the pipeline on the input data...\n",
      "2025-04-15 13:18:33,463 - rubix - INFO - Rotating galaxy with alpha=90.0, beta=0.0, gamma=0.0\n",
      "2025-04-15 13:18:33,463 - rubix - INFO - Rotating galaxy for simulation: IllustrisTNG\n",
      "2025-04-15 13:18:33,464 - rubix - WARNING - Gas not found in particle_type, only rotating stellar component.\n",
      "2025-04-15 13:18:33,534 - rubix - INFO - Filtering particles outside the aperture...\n",
      "2025-04-15 13:18:33,540 - rubix - INFO - Assigning particles to spaxels...\n",
      "2025-04-15 13:18:33,563 - rubix - WARNING - Attribute value of datacube is None or not an array\n",
      "2025-04-15 13:18:33,567 - rubix - WARNING - Attribute value of spectra is None or not an array\n",
      "2025-04-15 13:18:33,568 - rubix - WARNING - Attribute value of tree_flatten is None or not an array\n",
      "2025-04-15 13:18:33,569 - rubix - WARNING - Attribute value of tree_unflatten is None or not an array\n",
      "2025-04-15 13:18:33,570 - rubix - INFO - Calculating IFU cube...\n",
      "2025-04-15 13:18:33,570 - rubix - DEBUG - Input shapes: Metallicity: 4, Age: 4\n",
      "2025-04-15 13:18:33,711 - rubix - DEBUG - Calculation Finished! Spectra shape: (250, 5994)\n",
      "2025-04-15 13:18:33,712 - rubix - INFO - Scaling Spectra by Mass...\n",
      "2025-04-15 13:18:33,718 - rubix - INFO - Doppler shifting and resampling spectra...\n",
      "2025-04-15 13:18:33,719 - rubix - DEBUG - Doppler Shifted SSP Wave: (4, 250, 5994)\n",
      "2025-04-15 13:18:33,720 - rubix - DEBUG - Telescope Wave Seq: (3721,)\n",
      "2025-04-15 13:18:33,927 - rubix - INFO - Calculating Data Cube...\n",
      "2025-04-15 13:18:33,931 - rubix - DEBUG - Datacube Shape: (900, 900, 3721)\n",
      "2025-04-15 13:18:33,932 - rubix - INFO - Convolving with PSF...\n",
      "2025-04-15 13:18:33,937 - rubix - INFO - Convolving with LSF...\n",
      "2025-04-15 13:18:33,942 - rubix - INFO - Applying noise to datacube with signal to noise ratio: 100 and noise distribution: normal\n",
      "/export/home/aschaibl/miniconda3/envs/rubix/lib/python3.11/site-packages/jax/_src/interpreters/pxla.py:1873: UserWarning: The jitted function <unnamed wrapped function> includes a pmap. Using jit-of-pmap can lead to inefficient data movement, as the outer jit does not preserve sharded data representations and instead collects input and output arrays onto a single device. Consider removing the outer jit unless you know what you're doing. See https://github.com/jax-ml/jax/issues/2926. Or use jax.experimental.shard_map instead of pmap under jit compilation.\n",
      "  warnings.warn(\n",
      "2025-04-15 13:18:37.217461: W external/xla/xla/tsl/framework/bfc_allocator.cc:310] Allocator (GPU_0_bfc) ran out of memory trying to allocate 11.24GiB with freed_by_count=0. The caller indicates that this is not a failure, but this may mean that there could be performance gains if more memory were available.\n"
     ]
    },
    {
     "ename": "XlaRuntimeError",
     "evalue": "UNKNOWN: Failed to determine best cudnn convolution algorithm for:\n%cudnn-conv.2 = (f32[3721,900,900,1]{3,2,1,0}, u8[0]{0}) custom-call(f32[3721,900,900,1]{3,2,1,0} %bitcast.6291, f32[1,5,5,1]{3,2,1,0} %bitcast.6292), window={size=5x5 pad=2_2x2_2}, dim_labels=b01f_o01i->b01f, custom_call_target=\"__cudnn$convForward\", metadata={op_name=\"jit(<unnamed wrapped function>)/jit(main)/conv_general_dilated\" source_file=\"/export/home/aschaibl/rubix/rubix/telescope/psf/psf.py\" source_line=10}, backend_config={\"operation_queue_id\":\"0\",\"wait_on_operation_queues\":[],\"cudnn_conv_backend_config\":{\"conv_result_scale\":1,\"activation_mode\":\"kNone\",\"side_input_scale\":0,\"leakyrelu_alpha\":0},\"force_earliest_schedule\":false}\n\nOriginal error: RESOURCE_EXHAUSTED: Out of memory while trying to allocate 12072817216 bytes. [tf-allocator-allocation-error='']\n\nTo ignore this failure and try to use a fallback algorithm (which may have suboptimal performance), use XLA_FLAGS=--xla_gpu_strict_conv_algorithm_picker=false.  Please also file a bug for the root cause of failing autotuning.",
     "output_type": "error",
     "traceback": [
      "\u001b[0;31m---------------------------------------------------------------------------\u001b[0m",
      "\u001b[0;31mXlaRuntimeError\u001b[0m                           Traceback (most recent call last)",
      "Cell \u001b[0;32mIn[5], line 43\u001b[0m\n\u001b[1;32m     41\u001b[0m \u001b[38;5;66;03m# Run pipeline\u001b[39;00m\n\u001b[1;32m     42\u001b[0m pipe \u001b[38;5;241m=\u001b[39m RubixPipeline(config_illustris)\n\u001b[0;32m---> 43\u001b[0m data \u001b[38;5;241m=\u001b[39m \u001b[43mpipe\u001b[49m\u001b[38;5;241;43m.\u001b[39;49m\u001b[43mrun\u001b[49m\u001b[43m(\u001b[49m\u001b[43m)\u001b[49m\n",
      "File \u001b[0;32m~/rubix/rubix/core/pipeline.py:164\u001b[0m, in \u001b[0;36mRubixPipeline.run\u001b[0;34m(self)\u001b[0m\n\u001b[1;32m    162\u001b[0m \u001b[38;5;66;03m# Running the pipeline\u001b[39;00m\n\u001b[1;32m    163\u001b[0m \u001b[38;5;28mself\u001b[39m\u001b[38;5;241m.\u001b[39mlogger\u001b[38;5;241m.\u001b[39minfo(\u001b[38;5;124m\"\u001b[39m\u001b[38;5;124mRunning the pipeline on the input data...\u001b[39m\u001b[38;5;124m\"\u001b[39m)\n\u001b[0;32m--> 164\u001b[0m output \u001b[38;5;241m=\u001b[39m \u001b[38;5;28;43mself\u001b[39;49m\u001b[38;5;241;43m.\u001b[39;49m\u001b[43mfunc\u001b[49m\u001b[43m(\u001b[49m\u001b[38;5;28;43mself\u001b[39;49m\u001b[38;5;241;43m.\u001b[39;49m\u001b[43mdata\u001b[49m\u001b[43m)\u001b[49m\n\u001b[1;32m    166\u001b[0m block_until_ready(output)\n\u001b[1;32m    167\u001b[0m time_end \u001b[38;5;241m=\u001b[39m time\u001b[38;5;241m.\u001b[39mtime()\n",
      "    \u001b[0;31m[... skipping hidden 11 frame]\u001b[0m\n",
      "File \u001b[0;32m~/miniconda3/envs/rubix/lib/python3.11/site-packages/jax/_src/compiler.py:315\u001b[0m, in \u001b[0;36mbackend_compile\u001b[0;34m(backend, module, options, host_callbacks)\u001b[0m\n\u001b[1;32m    309\u001b[0m     \u001b[38;5;28;01mreturn\u001b[39;00m backend\u001b[38;5;241m.\u001b[39mcompile(\n\u001b[1;32m    310\u001b[0m         built_c, compile_options\u001b[38;5;241m=\u001b[39moptions, host_callbacks\u001b[38;5;241m=\u001b[39mhost_callbacks\n\u001b[1;32m    311\u001b[0m     )\n\u001b[1;32m    312\u001b[0m   \u001b[38;5;66;03m# Some backends don't have `host_callbacks` option yet\u001b[39;00m\n\u001b[1;32m    313\u001b[0m   \u001b[38;5;66;03m# TODO(sharadmv): remove this fallback when all backends allow `compile`\u001b[39;00m\n\u001b[1;32m    314\u001b[0m   \u001b[38;5;66;03m# to take in `host_callbacks`\u001b[39;00m\n\u001b[0;32m--> 315\u001b[0m   \u001b[38;5;28;01mreturn\u001b[39;00m \u001b[43mbackend\u001b[49m\u001b[38;5;241;43m.\u001b[39;49m\u001b[43mcompile\u001b[49m\u001b[43m(\u001b[49m\u001b[43mbuilt_c\u001b[49m\u001b[43m,\u001b[49m\u001b[43m \u001b[49m\u001b[43mcompile_options\u001b[49m\u001b[38;5;241;43m=\u001b[39;49m\u001b[43moptions\u001b[49m\u001b[43m)\u001b[49m\n\u001b[1;32m    316\u001b[0m \u001b[38;5;28;01mexcept\u001b[39;00m xc\u001b[38;5;241m.\u001b[39mXlaRuntimeError \u001b[38;5;28;01mas\u001b[39;00m e:\n\u001b[1;32m    317\u001b[0m   \u001b[38;5;28;01mfor\u001b[39;00m error_handler \u001b[38;5;129;01min\u001b[39;00m _XLA_RUNTIME_ERROR_HANDLERS:\n",
      "\u001b[0;31mXlaRuntimeError\u001b[0m: UNKNOWN: Failed to determine best cudnn convolution algorithm for:\n%cudnn-conv.2 = (f32[3721,900,900,1]{3,2,1,0}, u8[0]{0}) custom-call(f32[3721,900,900,1]{3,2,1,0} %bitcast.6291, f32[1,5,5,1]{3,2,1,0} %bitcast.6292), window={size=5x5 pad=2_2x2_2}, dim_labels=b01f_o01i->b01f, custom_call_target=\"__cudnn$convForward\", metadata={op_name=\"jit(<unnamed wrapped function>)/jit(main)/conv_general_dilated\" source_file=\"/export/home/aschaibl/rubix/rubix/telescope/psf/psf.py\" source_line=10}, backend_config={\"operation_queue_id\":\"0\",\"wait_on_operation_queues\":[],\"cudnn_conv_backend_config\":{\"conv_result_scale\":1,\"activation_mode\":\"kNone\",\"side_input_scale\":0,\"leakyrelu_alpha\":0},\"force_earliest_schedule\":false}\n\nOriginal error: RESOURCE_EXHAUSTED: Out of memory while trying to allocate 12072817216 bytes. [tf-allocator-allocation-error='']\n\nTo ignore this failure and try to use a fallback algorithm (which may have suboptimal performance), use XLA_FLAGS=--xla_gpu_strict_conv_algorithm_picker=false.  Please also file a bug for the root cause of failing autotuning."
     ]
    }
   ],
   "source": [
    "# NBVAL_SKIP\n",
    "import matplotlib.pyplot as plt\n",
    "import os\n",
    "from rubix.core.pipeline import RubixPipeline\n",
    "\n",
    "# Define NIHAO configuration\n",
    "config_illustris = {\n",
    "    \"pipeline\": {\"name\": pipeline_name},\n",
    "    \"logger\": {\"log_level\": \"DEBUG\", \"log_file_path\": None, \"format\": \"%(asctime)s - %(name)s - %(levelname)s - %(message)s\"},\n",
    "    \"data\": {\n",
    "        \"name\": \"IllustrisAPI\",\n",
    "        \"args\": {\n",
    "            \"api_key\": os.environ.get(\"ILLUSTRIS_API_KEY\"),\n",
    "            \"particle_type\": [\"stars\"],\n",
    "            \"simulation\": \"TNG50-1\",\n",
    "            \"snapshot\": 99,\n",
    "            \"save_data_path\": \"data\",\n",
    "        },\n",
    "        \"load_galaxy_args\": {\"id\": 11, \"reuse\": True},\n",
    "        \"subset\": {\"use_subset\": True, \"subset_size\": 1000},\n",
    "    },\n",
    "    \"simulation\": {\"name\": \"IllustrisTNG\", \"args\": {\"path\": \"data/galaxy-id-440407.hdf5\"}},\n",
    "    \"output_path\": \"output\",\n",
    "    \"telescope\": {\"name\": telescope_name,\n",
    "                  \"psf\": {\"name\": \"gaussian\", \"size\": 5, \"sigma\": 0.6},\n",
    "                  \"lsf\": {\"sigma\": 1.2},\n",
    "                  \"noise\": {\"signal_to_noise\": 100, \"noise_distribution\": \"normal\"}},\n",
    "    \"cosmology\": {\"name\": \"PLANCK15\"},\n",
    "    \"galaxy\": {\"dist_z\": 0.01, \"rotation\": {\"type\": \"edge-on\"}}, #{\"alpha\": 90.0, \"beta\": 0.0, \"gamma\":0.0}},\n",
    "    \"ssp\": {\"template\": {\"name\": \"FSPS\"},\n",
    "            \"dust\": {\n",
    "                \"extinction_model\": \"Cardelli89\",\n",
    "                \"dust_to_gas_ratio\": 0.01,\n",
    "                \"dust_to_metals_ratio\": 0.4,\n",
    "                \"dust_grain_density\": 3.5,\n",
    "                \"Rv\": 3.1,\n",
    "            },\n",
    "    },\n",
    "}\n",
    "\n",
    "# Run pipeline\n",
    "pipe = RubixPipeline(config_illustris)\n",
    "data = pipe.run()"
   ]
  },
  {
   "cell_type": "markdown",
   "id": "5",
   "metadata": {
    "papermill": {
     "duration": 0.003879,
     "end_time": "2025-03-24T17:49:22.386441",
     "exception": false,
     "start_time": "2025-03-24T17:49:22.382562",
     "status": "completed"
    },
    "tags": []
   },
   "source": [
    "## Convert luminosity to flux"
   ]
  },
  {
   "cell_type": "code",
   "execution_count": null,
   "id": "6",
   "metadata": {
    "papermill": {
     "duration": 36.437071,
     "end_time": "2025-03-24T17:49:58.827409",
     "exception": false,
     "start_time": "2025-03-24T17:49:22.390338",
     "status": "completed"
    },
    "tags": []
   },
   "outputs": [],
   "source": [
    "from rubix.spectra.ifu import convert_luminoisty_to_flux\n",
    "from rubix.cosmology import PLANCK15\n",
    "\n",
    "observation_lum_dist = PLANCK15.luminosity_distance_to_z(config_illustris[\"galaxy\"][\"dist_z\"])\n",
    "observation_z = config_illustris[\"galaxy\"][\"dist_z\"]\n",
    "pixel_size = 1.0\n",
    "fluxcube = convert_luminoisty_to_flux(data.stars.datacube, observation_lum_dist, observation_z, pixel_size)\n",
    "data.stars.datacube = fluxcube/1e-20\n"
   ]
  },
  {
   "cell_type": "markdown",
   "id": "7",
   "metadata": {
    "papermill": {
     "duration": 0.004893,
     "end_time": "2025-03-24T17:49:58.837907",
     "exception": false,
     "start_time": "2025-03-24T17:49:58.833014",
     "status": "completed"
    },
    "tags": []
   },
   "source": [
    "# Store datacube in a fits file with header\n",
    "\n",
    "In RUBIX we implemented a function that automaticly takes the relevant information from the config and writes it into the header. Then the header and data are stored in a fits file. All is done with the store_fits function from the rubix.core.fits module."
   ]
  },
  {
   "cell_type": "code",
   "execution_count": null,
   "id": "8",
   "metadata": {
    "papermill": {
     "duration": 18.023148,
     "end_time": "2025-03-24T17:50:16.865966",
     "exception": false,
     "start_time": "2025-03-24T17:49:58.842818",
     "status": "completed"
    },
    "tags": []
   },
   "outputs": [],
   "source": [
    "#NBVAL_SKIP\n",
    "from rubix.core.fits import store_fits\n",
    "\n",
    "#if config_illustris[\"telescope\"][\"name\"] == \"MUSE_ultraWFM\":\n",
    "#    cutted_datatcube = data.stars.datacube[300:600, :, :]\n",
    "#    data.stars.datacube = cutted_datatcube\n",
    "#if config_illustris[\"telescope\"][\"name\"] == \"MUSE_WFM\":\n",
    "#    cutted_datatcube = data.stars.datacube[100:200, :, :]\n",
    "#    data.stars.datacube = cutted_datatcube\n",
    "\n",
    "store_fits(config_illustris, data, \"./output/\")"
   ]
  },
  {
   "cell_type": "code",
   "execution_count": null,
   "id": "9",
   "metadata": {
    "papermill": {
     "duration": 0.01629,
     "end_time": "2025-03-24T17:50:16.887327",
     "exception": false,
     "start_time": "2025-03-24T17:50:16.871037",
     "status": "completed"
    },
    "tags": []
   },
   "outputs": [],
   "source": [
    "#import pickle\n",
    "#with open(f\"output/datacube_NIHAO{config_illustris[\"data\"][\"load_galaxy_args\"][\"id\"]}_{config_illustris[\"telescope\"][\"name\"]}_{config_illustris[\"pipeline\"][\"name\"]}.pkl\", \"wb\") as f:\n",
    "#    pickle.dump(data, f)"
   ]
  },
  {
   "cell_type": "code",
   "execution_count": null,
   "id": "10",
   "metadata": {
    "papermill": {
     "duration": 0.838982,
     "end_time": "2025-03-24T17:50:17.797346",
     "exception": false,
     "start_time": "2025-03-24T17:50:16.958364",
     "status": "completed"
    },
    "tags": []
   },
   "outputs": [],
   "source": [
    "#NBVAL_SKIP\n",
    "datacube = data.stars.datacube\n",
    "\n",
    "img = datacube.sum(axis=2)\n",
    "plt.imshow(img, origin=\"lower\")\n",
    "#plt.plot(12,12, 'ro')\n",
    "#plt.plot(17,12, 'x', color=\"blue\")\n",
    "#plt.plot(7,12, 'x', color=\"orange\")\n",
    "plt.colorbar()\n",
    "print(img.min(), img.max())\n",
    "storepath = f\"./output/datacube_NIHAO{config_illustris['data']['load_galaxy_args']['id']}_{config_illustris[\"telescope\"][\"name\"]}_{config_illustris['pipeline']['name']}_fluxsum.png\"\n",
    "plt.savefig(storepath)"
   ]
  },
  {
   "cell_type": "code",
   "execution_count": null,
   "id": "11",
   "metadata": {
    "papermill": {
     "duration": 0.156855,
     "end_time": "2025-03-24T17:50:17.960262",
     "exception": false,
     "start_time": "2025-03-24T17:50:17.803407",
     "status": "completed"
    },
    "tags": []
   },
   "outputs": [],
   "source": [
    "# NBVAL_SKIP\n",
    "wave = pipe.telescope.wave_seq\n",
    "#plt.plot(wave, data.stars.datacube[12, 12, :], color=\"red\", label=\"Spectrum\")\n",
    "#plt.vlines(4861.333, 0, 3000, color='r', label=\"Hbeta=4861.333A\")\n",
    "#plt.vlines(4861.333*1.1, 0, 3000, color='y', label=\"line obs=Hbeta*(1+z)\")\n",
    "plt.plot(wave, data.stars.datacube[7, 12, :], color=\"orange\", label=\"Spectrum 7,12\")\n",
    "plt.plot(wave, data.stars.datacube[17, 12, :], color=\"blue\", label=\"Spectrum 17,12\")\n",
    "#plt.xlim(5300, 5400)\n",
    "plt.legend()"
   ]
  },
  {
   "cell_type": "code",
   "execution_count": null,
   "id": "12",
   "metadata": {
    "papermill": {
     "duration": 0.187211,
     "end_time": "2025-03-24T17:50:18.185357",
     "exception": false,
     "start_time": "2025-03-24T17:50:17.998146",
     "status": "completed"
    },
    "tags": []
   },
   "outputs": [],
   "source": [
    "# NBVAL_SKIP\n",
    "import matplotlib.pyplot as plt\n",
    "\n",
    "# Plot a histogram of the velocities\n",
    "plt.hist(data.stars.velocity[0,:,2], bins=30, edgecolor='black')\n",
    "plt.xlabel('Velocity')\n",
    "plt.ylabel('Frequency')\n",
    "plt.title('Histogram of Star Velocities')\n",
    "plt.show()"
   ]
  },
  {
   "cell_type": "code",
   "execution_count": null,
   "id": "13",
   "metadata": {
    "papermill": {
     "duration": 0.46036,
     "end_time": "2025-03-24T17:50:18.650778",
     "exception": false,
     "start_time": "2025-03-24T17:50:18.190418",
     "status": "completed"
    },
    "tags": []
   },
   "outputs": [],
   "source": [
    "# NBVAL_SKIP\n",
    "import numpy as np\n",
    "import matplotlib.pyplot as plt\n",
    "\n",
    "# Assuming your data arrays are defined as follows:\n",
    "pixel_assignment = np.asarray(np.squeeze(data.stars.pixel_assignment))\n",
    "velocities = np.asarray(data.stars.velocity[0, :, 2])\n",
    "\n",
    "# Compute the sum of velocities and count per pixel using np.bincount\n",
    "sum_velocity = np.bincount(pixel_assignment, weights=velocities)\n",
    "counts = np.bincount(pixel_assignment)\n",
    "\n",
    "# Calculate mean velocity; note: division by zero is avoided if every pixel has at least one star.\n",
    "mean_velocity = sum_velocity / counts\n",
    "\n",
    "\n",
    "# If you know the pixel grid dimensions (for example, a square grid)\n",
    "n_pixels = len(mean_velocity)\n",
    "grid_size = int(np.sqrt(n_pixels))\n",
    "if grid_size * grid_size != n_pixels:\n",
    "    raise ValueError(\"The total number of pixels is not a perfect square; please specify the grid shape explicitly.\")\n",
    "\n",
    "# Reshape the mean_velocity into a 2D array for imshow\n",
    "velocity_map = mean_velocity.reshape((grid_size, grid_size))\n",
    "print(velocity_map[12,12])\n",
    "\n",
    "print(velocity_map[17,12]-velocity_map[7,12])\n",
    "# Plot the result\n",
    "plt.figure(figsize=(6, 5))\n",
    "plt.imshow(velocity_map, origin='lower', interpolation='nearest', cmap='seismic')\n",
    "plt.colorbar(label='Mean Velocity')\n",
    "plt.title('Mean Velocity per Pixel')\n",
    "plt.xlabel('X pixel index')\n",
    "plt.ylabel('Y pixel index')\n",
    "storepath = f\"./output/datacube_NIHAO{config_illustris['data']['load_galaxy_args']['id']}_{config_illustris[\"telescope\"][\"name\"]}_{config_illustris['pipeline']['name']}_velocity.png\"\n",
    "plt.savefig(storepath)\n",
    "plt.show()"
   ]
  },
  {
   "cell_type": "code",
   "execution_count": null,
   "id": "14",
   "metadata": {},
   "outputs": [],
   "source": [
    "# NBVAL_SKIP\n",
    "import numpy as np\n",
    "import matplotlib.pyplot as plt\n",
    "\n",
    "# Assuming your data arrays are defined as follows:\n",
    "pixel_assignment = np.asarray(np.squeeze(data.stars.pixel_assignment))\n",
    "ages = np.asarray(data.stars.age[0, :])\n",
    "\n",
    "# Compute the sum of velocities and count per pixel using np.bincount\n",
    "sum_ages = np.bincount(pixel_assignment, weights=ages)\n",
    "counts = np.bincount(pixel_assignment)\n",
    "\n",
    "# Calculate mean velocity; note: division by zero is avoided if every pixel has at least one star.\n",
    "mean_age = sum_ages / counts\n",
    "\n",
    "\n",
    "# If you know the pixel grid dimensions (for example, a square grid)\n",
    "n_pixels = len(mean_age)\n",
    "grid_size = int(np.sqrt(n_pixels))\n",
    "if grid_size * grid_size != n_pixels:\n",
    "    raise ValueError(\"The total number of pixels is not a perfect square; please specify the grid shape explicitly.\")\n",
    "\n",
    "# Reshape the mean_velocity into a 2D array for imshow\n",
    "age_map = mean_age.reshape((grid_size, grid_size))\n",
    "print(age_map[12,12])\n",
    "\n",
    "# Plot the result\n",
    "plt.figure(figsize=(6, 5))\n",
    "plt.imshow(age_map, origin='lower', interpolation='nearest', cmap='inferno')\n",
    "plt.colorbar(label='Mean Age')\n",
    "plt.title('Mean Age per Pixel')\n",
    "plt.xlabel('X pixel index')\n",
    "plt.ylabel('Y pixel index')\n",
    "storepath = f\"./output/datacube_NIHAO{config_illustris['data']['load_galaxy_args']['id']}_{config_illustris[\"telescope\"][\"name\"]}_{config_illustris['pipeline']['name']}_age.png\"\n",
    "plt.savefig(storepath)\n",
    "plt.show()"
   ]
  },
  {
   "cell_type": "code",
   "execution_count": null,
   "id": "15",
   "metadata": {
    "papermill": {
     "duration": 0.43907,
     "end_time": "2025-03-24T17:50:19.097383",
     "exception": false,
     "start_time": "2025-03-24T17:50:18.658313",
     "status": "completed"
    },
    "tags": []
   },
   "outputs": [],
   "source": [
    "# NBVAL_SKIP\n",
    "import numpy as np\n",
    "import matplotlib.pyplot as plt\n",
    "\n",
    "# Assuming your data arrays are defined as follows:\n",
    "pixel_assignment = np.asarray(np.squeeze(data.gas.pixel_assignment))\n",
    "gas_mass = np.asarray(data.gas.mass)\n",
    "\n",
    "# Compute the sum of velocities and count per pixel using np.bincount\n",
    "sum_gas_mass = np.bincount(pixel_assignment, weights=gas_mass[0,:])\n",
    "counts = np.bincount(pixel_assignment)\n",
    "\n",
    "# If you know the pixel grid dimensions (for example, a square grid)\n",
    "n_pixels = len(sum_gas_mass)\n",
    "grid_size = int(np.sqrt(n_pixels))\n",
    "if grid_size * grid_size != n_pixels:\n",
    "    raise ValueError(\"The total number of pixels is not a perfect square; please specify the grid shape explicitly.\")\n",
    "\n",
    "# Reshape the mean_velocity into a 2D array for imshow\n",
    "gas_mass_map = sum_gas_mass.reshape((grid_size, grid_size))\n",
    "print(gas_mass_map[12,12])\n",
    "\n",
    "# Plot the result\n",
    "plt.figure(figsize=(6, 5))\n",
    "plt.imshow(gas_mass_map, origin='lower')\n",
    "plt.colorbar(label='Gas Mass')\n",
    "plt.title('Gass mass per Pixel')\n",
    "plt.xlabel('X pixel index')\n",
    "plt.ylabel('Y pixel index')\n",
    "storepath = f\"./output/datacube_NIHAO{config_illustris['data']['load_galaxy_args']['id']}_{config_illustris[\"telescope\"][\"name\"]}_{config_illustris['pipeline']['name']}_gasmass.png\"\n",
    "plt.savefig(storepath)\n",
    "plt.show()"
   ]
  },
  {
   "cell_type": "markdown",
   "id": "16",
   "metadata": {
    "papermill": {
     "duration": 0.085156,
     "end_time": "2025-03-24T17:50:19.192797",
     "exception": false,
     "start_time": "2025-03-24T17:50:19.107641",
     "status": "completed"
    },
    "tags": []
   },
   "source": []
  },
  {
   "cell_type": "code",
   "execution_count": null,
   "id": "17",
   "metadata": {
    "papermill": {
     "duration": 0.523758,
     "end_time": "2025-03-24T17:50:19.723749",
     "exception": false,
     "start_time": "2025-03-24T17:50:19.199991",
     "status": "completed"
    },
    "tags": []
   },
   "outputs": [],
   "source": [
    "# NBVAL_SKIP\n",
    "import numpy as np\n",
    "import matplotlib.pyplot as plt\n",
    "\n",
    "# Assuming your data arrays are defined as follows:\n",
    "pixel_assignment = np.asarray(np.squeeze(data.stars.pixel_assignment))\n",
    "stars_mass = np.asarray(data.stars.mass)\n",
    "\n",
    "# Compute the sum of velocities and count per pixel using np.bincount\n",
    "sum_stars_mass = np.bincount(pixel_assignment, weights=stars_mass[0,:])\n",
    "counts = np.bincount(pixel_assignment)\n",
    "\n",
    "# If you know the pixel grid dimensions (for example, a square grid)\n",
    "n_pixels = len(sum_stars_mass)\n",
    "grid_size = int(np.sqrt(n_pixels))\n",
    "if grid_size * grid_size != n_pixels:\n",
    "    raise ValueError(\"The total number of pixels is not a perfect square; please specify the grid shape explicitly.\")\n",
    "\n",
    "# Reshape the mean_velocity into a 2D array for imshow\n",
    "stars_mass_map = sum_stars_mass.reshape((grid_size, grid_size))\n",
    "print(stars_mass_map[12,12])\n",
    "\n",
    "# Plot the result\n",
    "plt.figure(figsize=(6, 5))\n",
    "plt.imshow(stars_mass_map, origin='lower')\n",
    "plt.colorbar(label='Stars Mass')\n",
    "plt.title('Stars mass per Pixel')\n",
    "plt.xlabel('X pixel index')\n",
    "plt.ylabel('Y pixel index')\n",
    "storepath = f\"./output/datacube_NIHAO{config_illustris['data']['load_galaxy_args']['id']}_{config_illustris[\"telescope\"][\"name\"]}_{config_illustris['pipeline']['name']}_starsmass.png\"\n",
    "plt.savefig(storepath)\n",
    "plt.show()"
   ]
  }
 ],
 "metadata": {
  "kernelspec": {
   "display_name": "rubix",
   "language": "python",
   "name": "python3"
  },
  "language_info": {
   "codemirror_mode": {
    "name": "ipython",
    "version": 3
   },
   "file_extension": ".py",
   "mimetype": "text/x-python",
   "name": "python",
   "nbconvert_exporter": "python",
   "pygments_lexer": "ipython3",
   "version": "3.11.9"
  },
  "papermill": {
   "default_parameters": {},
   "duration": 1286.100579,
   "end_time": "2025-03-24T17:50:29.816382",
   "environment_variables": {},
   "exception": null,
   "input_path": "fits_file_nihao_script.ipynb",
   "output_path": "fits_file_nihao_script_executed.ipynb",
   "parameters": {
    "galaxy_id": "g2.79e12",
    "pipeline_name": "calc_ifu",
    "telescope_name": "MUSE_ultraWFM"
   },
   "start_time": "2025-03-24T17:29:03.715803",
   "version": "2.6.0"
  }
 },
 "nbformat": 4,
 "nbformat_minor": 5
}
