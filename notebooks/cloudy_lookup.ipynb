{
 "cells": [
  {
   "cell_type": "code",
   "execution_count": null,
   "metadata": {},
   "outputs": [],
   "source": [
    "#NBVAL_SKIP\n",
    "import matplotlib.pyplot as plt\n",
    "from rubix.core.pipeline import RubixPipeline \n",
    "import os\n",
    "config = {\n",
    "    \"pipeline\":{\"name\": \"calc_ifu\"},\n",
    "    \n",
    "    \"logger\": {\n",
    "        \"log_level\": \"DEBUG\",\n",
    "        \"log_file_path\": None,\n",
    "        \"format\": \"%(asctime)s - %(name)s - %(levelname)s - %(message)s\",\n",
    "    },\n",
    "    \"data\": {\n",
    "        \"name\": \"IllustrisAPI\",\n",
    "        \"args\": {\n",
    "            \"api_key\": os.environ.get(\"ILLUSTRIS_API_KEY\"),\n",
    "            \"particle_type\": [\"stars\", \"gas\"],\n",
    "            \"simulation\": \"TNG50-1\",\n",
    "            \"snapshot\": 99,\n",
    "            \"save_data_path\": \"data\",\n",
    "        },\n",
    "        \n",
    "        \"load_galaxy_args\": {\n",
    "        \"id\": 12,\n",
    "        \"reuse\": True,\n",
    "        },\n",
    "        \n",
    "        #\"subset\": {\n",
    "        #    \"use_subset\": True,\n",
    "        #    \"subset_size\": 649384,\n",
    "        #},\n",
    "    },\n",
    "    \"simulation\": {\n",
    "        \"name\": \"IllustrisTNG\",\n",
    "        \"args\": {\n",
    "            \"path\": \"data/galaxy-id-12.hdf5\",\n",
    "        },\n",
    "    \n",
    "    },\n",
    "    \"output_path\": \"output\",\n",
    "\n",
    "    \"telescope\":\n",
    "        {\"name\": \"MUSE\",\n",
    "         \"psf\": {\"name\": \"gaussian\", \"size\": 5, \"sigma\": 0.6},\n",
    "         \"lsf\": {\"sigma\": 0.5},\n",
    "         \"noise\": {\"signal_to_noise\": 1,\"noise_distribution\": \"normal\"},},\n",
    "    \"cosmology\":\n",
    "        {\"name\": \"PLANCK15\"},\n",
    "        \n",
    "    \"galaxy\":\n",
    "        {\"dist_z\": 0.1,\n",
    "         \"rotation\": {\"type\": \"edge-on\"},\n",
    "        },\n",
    "        \n",
    "    \"ssp\": {\n",
    "        \"template\": {\n",
    "            \"name\": \"BruzualCharlot2003\"\n",
    "        },\n",
    "    },\n",
    "    \"cloudy\": {\n",
    "        \"templates\": {\n",
    "            \"name\": \"UVB + CMB\"\n",
    "        },\n",
    "        },       \n",
    "}\n",
    "\n",
    "\n",
    "#pipe = RubixPipeline(config)\n",
    "#data= pipe.run()"
   ]
  },
  {
   "cell_type": "code",
   "execution_count": null,
   "metadata": {},
   "outputs": [],
   "source": [
    "# NBVAL_SKIP\n",
    "from rubix.core.data import convert_to_rubix, prepare_input\n",
    "\n",
    "convert_to_rubix(config) # Convert the config to rubix format and store in output_path folder\n",
    "rubixdata = prepare_input(config) # Prepare the input for the pipeline"
   ]
  },
  {
   "cell_type": "code",
   "execution_count": null,
   "metadata": {},
   "outputs": [],
   "source": [
    "from rubix.core.rotation import get_galaxy_rotation\n",
    "\n",
    "rotate = get_galaxy_rotation(config)\n",
    "rubixdata = rotate(rubixdata)"
   ]
  },
  {
   "cell_type": "code",
   "execution_count": null,
   "metadata": {},
   "outputs": [],
   "source": [
    "\n",
    "from rubix.core.telescope import get_filter_particles\n",
    "filter_particles = get_filter_particles(config)\n",
    "\n",
    "rubixdata = filter_particles(rubixdata)"
   ]
  },
  {
   "cell_type": "code",
   "execution_count": null,
   "metadata": {},
   "outputs": [],
   "source": [
    "# NBVAL_SKIP\n",
    "from rubix.core.telescope import get_spaxel_assignment\n",
    "bin_particles = get_spaxel_assignment(config)\n",
    "\n",
    "rubixdata = bin_particles(rubixdata)\n",
    "\n",
    "print(rubixdata.gas.pixel_assignment)\n",
    "print(rubixdata.gas.spatial_bin_edges)"
   ]
  },
  {
   "cell_type": "code",
   "execution_count": null,
   "metadata": {},
   "outputs": [],
   "source": [
    "#from rubix.core.data import get_reshape_data\n",
    "#reshape_data = get_reshape_data(config)\n",
    "\n",
    "#rubixdata = reshape_data(rubixdata)"
   ]
  },
  {
   "cell_type": "code",
   "execution_count": null,
   "metadata": {},
   "outputs": [],
   "source": [
    "from rubix.spectra.cloudy.grid import CloudyGasLookup\n",
    "filepath = \"../rubix/spectra/cloudy/templates/UVB_plus_CMB_strongUV_line_emissivities.dat\"\n",
    "CloudyClass = CloudyGasLookup(filepath)\n",
    "gas_emission = CloudyClass.get_spectra(rubixdata)\n",
    "wavelengthrange, rubixdata = gas_emission"
   ]
  },
  {
   "cell_type": "code",
   "execution_count": null,
   "metadata": {},
   "outputs": [],
   "source": [
    "import matplotlib.pyplot as plt\n",
    "\n",
    "plt.plot(wavelengthrange, rubixdata.gas.spectra[0])\n",
    "plt.ylim(0, 1e-22)\n",
    "plt.show()"
   ]
  },
  {
   "cell_type": "code",
   "execution_count": null,
   "metadata": {},
   "outputs": [],
   "source": [
    "from rubix.core.ifu import get_scale_spectrum_by_mass_gas\n",
    "\n",
    "scale_spectrum_by_mass_gas = get_scale_spectrum_by_mass_gas(config)\n",
    "\n",
    "rubixdata = scale_spectrum_by_mass_gas(rubixdata)\n",
    "print(rubixdata.gas.spectra)"
   ]
  },
  {
   "cell_type": "code",
   "execution_count": null,
   "metadata": {},
   "outputs": [],
   "source": [
    "import matplotlib.pyplot as plt\n",
    "\n",
    "print(rubixdata.gas.spectra[0][19827].shape)\n",
    "plt.plot(wavelengthrange, rubixdata.gas.spectra[0][5])\n",
    "plt.ylim(0, 1e-22)\n",
    "plt.show()"
   ]
  },
  {
   "cell_type": "code",
   "execution_count": null,
   "metadata": {},
   "outputs": [],
   "source": [
    "import jax.numpy as jnp\n",
    "nan_mask = jnp.isnan(rubixdata.gas.spectra[0])\n",
    "\n",
    "# Replace NaN values with 0\n",
    "cleaned_array = jnp.where(nan_mask, 0, rubixdata.gas.spectra[0])\n",
    "\n",
    "print(jnp.isnan(cleaned_array).any())\n",
    "\n",
    "rubixdata.gas.spectra = cleaned_array"
   ]
  },
  {
   "cell_type": "code",
   "execution_count": null,
   "metadata": {},
   "outputs": [],
   "source": [
    "from rubix.core.ifu import get_doppler_shift_and_resampling\n",
    "\n",
    "#print(jnp.nonzero(rubixdata.gas.spectra))\n",
    "\n",
    "doppler_shift_and_resampling = get_doppler_shift_and_resampling(config)\n",
    "\n",
    "rubixdata = doppler_shift_and_resampling(rubixdata)\n",
    "#print(rubixdata.stars.spectra)\n",
    "\n",
    "#print(jnp.nonzero(rubixdata.gas.spectra))"
   ]
  },
  {
   "cell_type": "code",
   "execution_count": null,
   "metadata": {},
   "outputs": [],
   "source": [
    "from rubix.core.pipeline import RubixPipeline \n",
    "\n",
    "pipe = RubixPipeline(config)\n",
    "\n",
    "wave = pipe.telescope.wave_seq\n",
    "print(wave)\n",
    "print(rubixdata.gas.spectra[0][0][:])\n",
    "\n",
    "#for i in range(0, 10):\n",
    "#    plt.plot(wave, rubixdata.gas.spectra[0][i][:])\n",
    "plt.plot(wave, rubixdata.gas.spectra[0][0][:])\n",
    "plt.plot(wave, rubixdata.gas.spectra[0][1][:])\n",
    "plt.plot(wave, rubixdata.gas.spectra[0][2][:])"
   ]
  },
  {
   "cell_type": "code",
   "execution_count": null,
   "metadata": {},
   "outputs": [],
   "source": [
    "from rubix.core.ifu import get_calculate_datacube_gas\n",
    "calculate_datacube = get_calculate_datacube_gas(config)\n",
    "\n",
    "rubixdata = calculate_datacube(rubixdata)\n",
    "#print(rubixdata.gas.datacube)\n",
    "\n",
    "datacube = rubixdata.gas.datacube\n",
    "img = datacube.sum(axis=2)\n",
    "plt.imshow(img, origin=\"lower\")"
   ]
  },
  {
   "cell_type": "code",
   "execution_count": null,
   "metadata": {},
   "outputs": [],
   "source": [
    "from rubix.core.psf import get_convolve_psf\n",
    "convolve_psf = get_convolve_psf(config)\n",
    "\n",
    "rubixdata = convolve_psf(rubixdata)"
   ]
  },
  {
   "cell_type": "code",
   "execution_count": null,
   "metadata": {},
   "outputs": [],
   "source": [
    "from rubix.core.lsf import get_convolve_lsf\n",
    "convolve_lsf = get_convolve_lsf(config)\n",
    "\n",
    "rubixdata = convolve_lsf(rubixdata)\n",
    "\n",
    "plt.plot(wave, rubixdata.gas.datacube[12,12,:])\n",
    "plt.plot(wave, rubixdata.gas.datacube[0,0,:])\n",
    "#print(rubixdata.gas.datacube)"
   ]
  },
  {
   "cell_type": "code",
   "execution_count": null,
   "metadata": {},
   "outputs": [],
   "source": [
    "from rubix.core.noise import get_apply_noise\n",
    "\n",
    "apply_noise = get_apply_noise(config)\n",
    "\n",
    "rubixdata = apply_noise(rubixdata)\n",
    "\n",
    "datacube = rubixdata.gas.datacube\n",
    "img = datacube.sum(axis=2)\n",
    "plt.imshow(jnp.log10(img), origin=\"lower\")\n",
    "datacube.shape"
   ]
  },
  {
   "cell_type": "code",
   "execution_count": null,
   "metadata": {},
   "outputs": [],
   "source": [
    "subcube = datacube[:, :, 1200:1600]\n",
    "print(subcube.shape)\n",
    "\n",
    "img = subcube.sum(axis=2)\n",
    "plt.imshow(jnp.log10(img), origin=\"lower\")"
   ]
  },
  {
   "cell_type": "code",
   "execution_count": null,
   "metadata": {},
   "outputs": [],
   "source": [
    "plt.plot(wave, datacube[12,12,:])\n",
    "plt.plot(wave, datacube[0,0,:])"
   ]
  },
  {
   "cell_type": "code",
   "execution_count": null,
   "metadata": {},
   "outputs": [],
   "source": [
    "datacube = rubixdata.gas.datacube\n",
    "img = datacube.sum(axis=2)\n",
    "plt.imshow(img, origin=\"lower\")"
   ]
  }
 ],
 "metadata": {
  "kernelspec": {
   "display_name": "rubix",
   "language": "python",
   "name": "python3"
  },
  "language_info": {
   "codemirror_mode": {
    "name": "ipython",
    "version": 3
   },
   "file_extension": ".py",
   "mimetype": "text/x-python",
   "name": "python",
   "nbconvert_exporter": "python",
   "pygments_lexer": "ipython3",
   "version": "3.10.14"
  }
 },
 "nbformat": 4,
 "nbformat_minor": 2
}
