{
 "cells": [
  {
   "cell_type": "code",
   "execution_count": 1,
   "metadata": {},
   "outputs": [],
   "source": [
    "#NBVAL_SKIP\n",
    "#import os\n",
    "#import multiprocessing\n",
    "\n",
    "# Logical cores (includes hyperthreads)\n",
    "#print(\"Logical cores:\", os.cpu_count())\n",
    "\n",
    "\n",
    "# Total threads/cores via multiprocessing\n",
    "#print(\"multiprocessing.cpu_count():\", multiprocessing.cpu_count())\n"
   ]
  },
  {
   "cell_type": "code",
   "execution_count": 2,
   "metadata": {},
   "outputs": [
    {
     "name": "stdout",
     "output_type": "stream",
     "text": [
      "[CpuDevice(id=0)]\n"
     ]
    }
   ],
   "source": [
    "#NBVAL_SKIP\n",
    "import os\n",
    "\n",
    "# Tell XLA to fake 2 host CPU devices\n",
    "#os.environ['XLA_FLAGS'] = '--xla_force_host_platform_device_count=3'\n",
    "\n",
    "# Only make GPU 0 and GPU 1 visible to JAX:\n",
    "#os.environ['CUDA_VISIBLE_DEVICES'] = '0,1,2,3,4,5'\n",
    "\n",
    "#os.environ[\"XLA_PYTHON_CLIENT_PREALLOCATE\"]   = \"false\"\n",
    "\n",
    "import jax\n",
    "\n",
    "# Now JAX will list two CpuDevice entries\n",
    "print(jax.devices())\n",
    "# → [CpuDevice(id=0), CpuDevice(id=1)]"
   ]
  },
  {
   "cell_type": "code",
   "execution_count": 3,
   "metadata": {},
   "outputs": [],
   "source": [
    "# NBVAL_SKIP\n",
    "#import os\n",
    "#  os.environ['SPS_HOME'] = '/mnt/storage/annalena_data/sps_fsps'\n",
    "#os.environ['SPS_HOME'] = '/home/annalena/sps_fsps'\n",
    "#os.environ['SPS_HOME'] = '/Users/annalena/Documents/GitHub/fsps'\n",
    "#os.environ['SPS_HOME'] = '/export/home/aschaibl/fsps'\n",
    "os.environ['SPS_HOME'] = '/home/annalena_data/sps_fsps'"
   ]
  },
  {
   "cell_type": "markdown",
   "metadata": {},
   "source": [
    "# RUBIX pipeline\n",
    "\n",
    "RUBIX is designed as a linear pipeline, where the individual functions are called and constructed as a pipeline. This allows as to execude the whole data transformation from a cosmological hydrodynamical simulation of a galaxy to an IFU cube in two lines of code. This notebook shows, how to execute the pipeline. To see, how the pipeline is execuded in small individual steps per individual function, we refer to the notebook `rubix_pipeline_stepwise.ipynb`.\n",
    "\n",
    "## How to use the Pipeline\n",
    "1) Define a `config`\n",
    "2) Setup the `pipeline yaml`\n",
    "3) Run the RUBIX pipeline\n",
    "4) Do science with the mock-data"
   ]
  },
  {
   "cell_type": "markdown",
   "metadata": {},
   "source": [
    "## Step 1: Config\n",
    "\n",
    "The `config` contains all the information needed to run the pipeline. Those are run specfic configurations. Currently we just support Illustris as simulation, but extensions to other simulations (e.g. NIHAO) are planned.\n",
    "\n",
    "For the `config` you can choose the following options:\n",
    "- `pipeline`: you specify the name of the pipeline that is stored in the yaml file in rubix/config/pipeline_config.yml\n",
    "- `logger`: RUBIX has implemented a logger to report the user, what is happening during the pipeline execution and give warnings\n",
    "- `data - args - particle_type`: load only stars particle (\"particle_type\": [\"stars\"]) or only gas particle (\"particle_type\": [\"gas\"]) or both (\"particle_type\": [\"stars\",\"gas\"])\n",
    "- `data - args - simulation`: choose the Illustris simulation (e.g. \"simulation\": \"TNG50-1\")\n",
    "- `data - args - snapshot`: which time step of the simulation (99 for present day)\n",
    "- `data - args - save_data_path`: set the path to save the downloaded Illustris data\n",
    "- `data - load_galaxy_args - id`: define, which Illustris galaxy is downloaded\n",
    "- `data - load_galaxy_args - reuse`: if True, if in th esave_data_path directory a file for this galaxy id already exists, the downloading is skipped and the preexisting file is used\n",
    "- `data - subset`: only a defined number of stars/gas particles is used and stored for the pipeline. This may be helpful for quick testing\n",
    "- `simulation - name`: currently only IllustrisTNG is supported\n",
    "- `simulation - args - path`: where the data is stored and how the file will be named\n",
    "- `output_path`: where the hdf5 file is stored, which is then the input to the RUBIX pipeline\n",
    "- `telescope - name`: define the telescope instrument that is observing the simulation. Some telescopes are predefined, e.g. MUSE. If your instrument does not exist predefined, you can easily define your instrument in rubix/telescope/telescopes.yaml\n",
    "- `telescope - psf`: define the point spread function that is applied to the mock data\n",
    "- `telescope - lsf`: define the line spread function that is applied to the mock data\n",
    "- `telescope - noise`: define the noise that is applied to the mock data\n",
    "- `cosmology`: specify the cosmology you want to use, standard for RUBIX is \"PLANCK15\"\n",
    "- `galaxy - dist_z`: specify at which redshift the mock-galaxy is observed\n",
    "- `galaxy - rotation`: specify the orientation of the galaxy. You can set the types edge-on or face-on or specify the angles alpha, beta and gamma as rotations around x-, y- and z-axis\n",
    "- `ssp - template`: specify the simple stellar population lookup template to get the stellar spectrum for each stars particle. In RUBIX frequently \"BruzualCharlot2003\" is used."
   ]
  },
  {
   "cell_type": "code",
   "execution_count": 4,
   "metadata": {},
   "outputs": [
    {
     "name": "stderr",
     "output_type": "stream",
     "text": [
      "2025-05-20 21:14:00,034 - rubix - INFO - \n",
      "   ___  __  _____  _____  __\n",
      "  / _ \\/ / / / _ )/  _/ |/_/\n",
      " / , _/ /_/ / _  |/ /_>  <\n",
      "/_/|_|\\____/____/___/_/|_|\n",
      "\n",
      "\n",
      "2025-05-20 21:14:00,035 - rubix - INFO - Rubix version: 0.0.post428+g9938581.d20250520\n",
      "2025-05-20 21:14:00,035 - rubix - INFO - JAX version: 0.6.0\n",
      "2025-05-20 21:14:00,036 - rubix - INFO - Running on [CpuDevice(id=0)] devices\n"
     ]
    }
   ],
   "source": [
    "#NBVAL_SKIP\n",
    "import matplotlib.pyplot as plt\n",
    "from rubix.core.pipeline import RubixPipeline \n",
    "import os\n",
    "config = {\n",
    "    \"pipeline\":{\"name\": \"calc_ifu\"},\n",
    "    \n",
    "    \"logger\": {\n",
    "        \"log_level\": \"DEBUG\",\n",
    "        \"log_file_path\": None,\n",
    "        \"format\": \"%(asctime)s - %(name)s - %(levelname)s - %(message)s\",\n",
    "    },\n",
    "    \"data\": {\n",
    "        \"name\": \"IllustrisAPI\",\n",
    "        \"args\": {\n",
    "            \"api_key\": os.environ.get(\"ILLUSTRIS_API_KEY\"),\n",
    "            \"particle_type\": [\"stars\"],\n",
    "            \"simulation\": \"TNG50-1\",\n",
    "            \"snapshot\": 99,\n",
    "            \"save_data_path\": \"data\",\n",
    "        },\n",
    "        \n",
    "        \"load_galaxy_args\": {\n",
    "        \"id\": 14,\n",
    "        \"reuse\": True,\n",
    "        },\n",
    "        \n",
    "        \"subset\": {\n",
    "            \"use_subset\": True,\n",
    "            \"subset_size\": 20000,\n",
    "        },\n",
    "    },\n",
    "    \"simulation\": {\n",
    "        \"name\": \"IllustrisTNG\",\n",
    "        \"args\": {\n",
    "            \"path\": \"data/galaxy-id-14.hdf5\",\n",
    "        },\n",
    "    \n",
    "    },\n",
    "    \"output_path\": \"output\",\n",
    "\n",
    "    \"telescope\":\n",
    "        {\"name\": \"MUSE\",\n",
    "         \"psf\": {\"name\": \"gaussian\", \"size\": 5, \"sigma\": 0.6},\n",
    "         \"lsf\": {\"sigma\": 0.5},\n",
    "         \"noise\": {\"signal_to_noise\": 100,\"noise_distribution\": \"normal\"},},\n",
    "    \"cosmology\":\n",
    "        {\"name\": \"PLANCK15\"},\n",
    "        \n",
    "    \"galaxy\":\n",
    "        {\"dist_z\": 0.1,\n",
    "         \"rotation\": {\"type\": \"edge-on\"},\n",
    "        },\n",
    "        \n",
    "    \"ssp\": {\n",
    "        \"template\": {\n",
    "            \"name\": \"Mastar_CB19_SLOG_1_5\"\n",
    "        },\n",
    "        \"dust\": {\n",
    "                \"extinction_model\": \"Cardelli89\",\n",
    "                \"dust_to_gas_ratio\": 0.01,\n",
    "                \"dust_to_metals_ratio\": 0.4,\n",
    "                \"dust_grain_density\": 3.5,\n",
    "                \"Rv\": 3.1,\n",
    "            },\n",
    "    },        \n",
    "}"
   ]
  },
  {
   "cell_type": "markdown",
   "metadata": {},
   "source": [
    "## Step 2: Pipeline yaml\n",
    "\n",
    "To run the RUBIX pipeline, you need a yaml file (stored in `rubix/config/pipeline_config.yml`) that defines which functions are used during the execution of the pipeline. This shows the example pipeline yaml to compute a stellar IFU cube.\n",
    "\n",
    "```yaml\n",
    "calc_ifu:\n",
    "  Transformers:\n",
    "    rotate_galaxy:\n",
    "      name: rotate_galaxy\n",
    "      depends_on: null\n",
    "      args: []\n",
    "      kwargs:\n",
    "        type: \"face-on\"\n",
    "    filter_particles:\n",
    "      name: filter_particles\n",
    "      depends_on: rotate_galaxy\n",
    "      args: []\n",
    "      kwargs: {}\n",
    "    spaxel_assignment:\n",
    "      name: spaxel_assignment\n",
    "      depends_on: filter_particles\n",
    "      args: []\n",
    "      kwargs: {}\n",
    "\n",
    "    reshape_data:\n",
    "      name: reshape_data\n",
    "      depends_on: spaxel_assignment\n",
    "      args: []\n",
    "      kwargs: {}\n",
    "\n",
    "    calculate_spectra:\n",
    "      name: calculate_spectra\n",
    "      depends_on: reshape_data\n",
    "      args: []\n",
    "      kwargs: {}\n",
    "\n",
    "    scale_spectrum_by_mass:\n",
    "      name: scale_spectrum_by_mass\n",
    "      depends_on: calculate_spectra\n",
    "      args: []\n",
    "      kwargs: {}\n",
    "    doppler_shift_and_resampling:\n",
    "      name: doppler_shift_and_resampling\n",
    "      depends_on: scale_spectrum_by_mass\n",
    "      args: []\n",
    "      kwargs: {}\n",
    "    calculate_datacube:\n",
    "      name: calculate_datacube\n",
    "      depends_on: doppler_shift_and_resampling\n",
    "      args: []\n",
    "      kwargs: {}\n",
    "    convolve_psf:\n",
    "      name: convolve_psf\n",
    "      depends_on: calculate_datacube\n",
    "      args: []\n",
    "      kwargs: {}\n",
    "    convolve_lsf:\n",
    "      name: convolve_lsf\n",
    "      depends_on: convolve_psf\n",
    "      args: []\n",
    "      kwargs: {}\n",
    "    apply_noise:\n",
    "      name: apply_noise\n",
    "      depends_on: convolve_lsf\n",
    "      args: []\n",
    "      kwargs: {}\n",
    "```\n",
    "\n",
    "Ther is one thing you have to know about the naming of the functions in this yaml: To use the functions inside the pipeline, the functions have to be called exactly the same as they are returned from the core module function!"
   ]
  },
  {
   "cell_type": "markdown",
   "metadata": {},
   "source": [
    "## Step 3: Run the pipeline\n",
    "\n",
    "After defining the `config` and the `pipeline_config` you can simply run the whole pipeline by these two lines of code."
   ]
  },
  {
   "cell_type": "code",
   "execution_count": 5,
   "metadata": {},
   "outputs": [
    {
     "name": "stderr",
     "output_type": "stream",
     "text": [
      "/home/annalena/.conda/envs/rubix/lib/python3.12/site-packages/rubix/telescope/factory.py:24: UserWarning: No telescope config provided, using default stored in /home/annalena/.conda/envs/rubix/lib/python3.12/site-packages/rubix/telescope/telescopes.yaml\n",
      "  warnings.warn(\n"
     ]
    }
   ],
   "source": [
    "#NBVAL_SKIP\n",
    "pipe = RubixPipeline(config)"
   ]
  },
  {
   "cell_type": "code",
   "execution_count": 6,
   "metadata": {},
   "outputs": [
    {
     "name": "stderr",
     "output_type": "stream",
     "text": [
      "2025-05-20 21:14:01,119 - rubix - INFO - Getting rubix data...\n",
      "2025-05-20 21:14:01,121 - rubix - INFO - Rubix galaxy file already exists, skipping conversion\n",
      "2025-05-20 21:14:01,194 - rubix - INFO - Centering stars particles\n",
      "2025-05-20 21:14:02,416 - rubix - WARNING - The Subset value is set in config. Using only subset of size 20000 for stars\n",
      "2025-05-20 21:14:02,419 - rubix - INFO - Data loaded with 20000 star particles and 0 gas particles.\n",
      "2025-05-20 21:14:02,420 - rubix - INFO - Setting up the pipeline...\n",
      "2025-05-20 21:14:02,420 - rubix - DEBUG - Pipeline Configuration: {'Transformers': {'rotate_galaxy': {'name': 'rotate_galaxy', 'depends_on': None, 'args': [], 'kwargs': {}}, 'filter_particles': {'name': 'filter_particles', 'depends_on': 'rotate_galaxy', 'args': [], 'kwargs': {}}, 'spaxel_assignment': {'name': 'spaxel_assignment', 'depends_on': 'filter_particles', 'args': [], 'kwargs': {}}, 'calculate_spectra': {'name': 'calculate_spectra', 'depends_on': 'spaxel_assignment', 'args': [], 'kwargs': {}}, 'scale_spectrum_by_mass': {'name': 'scale_spectrum_by_mass', 'depends_on': 'calculate_spectra', 'args': [], 'kwargs': {}}, 'doppler_shift_and_resampling': {'name': 'doppler_shift_and_resampling', 'depends_on': 'scale_spectrum_by_mass', 'args': [], 'kwargs': {}}, 'calculate_datacube': {'name': 'calculate_datacube', 'depends_on': 'doppler_shift_and_resampling', 'args': [], 'kwargs': {}}, 'convolve_psf': {'name': 'convolve_psf', 'depends_on': 'calculate_datacube', 'args': [], 'kwargs': {}}, 'convolve_lsf': {'name': 'convolve_lsf', 'depends_on': 'convolve_psf', 'args': [], 'kwargs': {}}, 'apply_noise': {'name': 'apply_noise', 'depends_on': 'convolve_lsf', 'args': [], 'kwargs': {}}}}\n",
      "2025-05-20 21:14:02,422 - rubix - DEBUG - Roataion Type found: edge-on\n",
      "2025-05-20 21:14:02,424 - rubix - INFO - Calculating spatial bin edges...\n",
      "/home/annalena/.conda/envs/rubix/lib/python3.12/site-packages/rubix/telescope/factory.py:24: UserWarning: No telescope config provided, using default stored in /home/annalena/.conda/envs/rubix/lib/python3.12/site-packages/rubix/telescope/telescopes.yaml\n",
      "  warnings.warn(\n",
      "2025-05-20 21:14:02,446 - rubix - INFO - Getting cosmology...\n",
      "2025-05-20 21:14:02,607 - rubix - INFO - Calculating spatial bin edges...\n",
      "2025-05-20 21:14:02,615 - rubix - INFO - Getting cosmology...\n",
      "2025-05-20 21:14:03,062 - rubix - DEBUG - Method not defined, using default method: cubic\n",
      "/home/annalena/.conda/envs/rubix/lib/python3.12/site-packages/rubix/telescope/factory.py:24: UserWarning: No telescope config provided, using default stored in /home/annalena/.conda/envs/rubix/lib/python3.12/site-packages/rubix/telescope/telescopes.yaml\n",
      "  warnings.warn(\n",
      "2025-05-20 21:14:03,538 - rubix - DEBUG - SSP Wave: (5333,)\n",
      "/home/annalena/.conda/envs/rubix/lib/python3.12/site-packages/rubix/telescope/factory.py:24: UserWarning: No telescope config provided, using default stored in /home/annalena/.conda/envs/rubix/lib/python3.12/site-packages/rubix/telescope/telescopes.yaml\n",
      "  warnings.warn(\n",
      "2025-05-20 21:14:03,549 - rubix - INFO - Getting cosmology...\n",
      "/home/annalena/.conda/envs/rubix/lib/python3.12/site-packages/rubix/telescope/factory.py:24: UserWarning: No telescope config provided, using default stored in /home/annalena/.conda/envs/rubix/lib/python3.12/site-packages/rubix/telescope/telescopes.yaml\n",
      "  warnings.warn(\n",
      "2025-05-20 21:14:03,734 - rubix - INFO - Assembling the pipeline...\n",
      "2025-05-20 21:14:03,735 - rubix - INFO - Compiling the expressions...\n",
      "2025-05-20 21:14:03,736 - rubix - INFO - Number of devices: 1\n",
      "2025-05-20 21:14:03,818 - rubix - INFO - Rotating galaxy with alpha=90.0, beta=0.0, gamma=0.0\n",
      "2025-05-20 21:14:03,924 - rubix - INFO - Filtering particles outside the aperture...\n",
      "2025-05-20 21:14:03,928 - rubix - INFO - Assigning particles to spaxels...\n",
      "2025-05-20 21:14:03,953 - rubix - INFO - Calculating IFU cube...\n",
      "2025-05-20 21:14:03,953 - rubix - DEBUG - Input shapes: Metallicity: 20000, Age: 20000\n",
      "2025-05-20 21:14:04,177 - rubix - DEBUG - Calculation Finished! Spectra shape: (20000, 5333)\n",
      "2025-05-20 21:14:04,178 - rubix - INFO - Scaling Spectra by Mass...\n",
      "2025-05-20 21:14:04,183 - rubix - INFO - Doppler shifting and resampling spectra...\n",
      "2025-05-20 21:14:04,184 - rubix - DEBUG - Doppler Shifted SSP Wave: (20000, 5333)\n",
      "2025-05-20 21:14:04,184 - rubix - DEBUG - Telescope Wave Seq: (3721,)\n",
      "2025-05-20 21:14:04,253 - rubix - INFO - Calculating Data Cube...\n",
      "2025-05-20 21:14:04,255 - rubix - DEBUG - Datacube Shape: (25, 25, 3721)\n",
      "2025-05-20 21:14:04,255 - rubix - INFO - Convolving with PSF...\n",
      "2025-05-20 21:14:04,259 - rubix - INFO - Convolving with LSF...\n",
      "2025-05-20 21:14:04,264 - rubix - INFO - Applying noise to datacube with signal to noise ratio: 100 and noise distribution: normal\n",
      "2025-05-20 21:14:06,268 - rubix - INFO - Pipeline run completed in 3.85 seconds.\n"
     ]
    }
   ],
   "source": [
    "#NBVAL_SKIP\n",
    "\n",
    "inputdata = pipe.prepare_data()\n",
    "rubixdata = pipe.run_sharded(inputdata)"
   ]
  },
  {
   "cell_type": "code",
   "execution_count": 7,
   "metadata": {},
   "outputs": [
    {
     "name": "stdout",
     "output_type": "stream",
     "text": [
      "[[[ 1.8663327e-01  2.0253532e-01  2.0300621e-01 ...  2.4535783e-02\n",
      "    2.8690096e-02  3.0187748e-02]\n",
      "  [ 2.6096473e+00  3.0808454e+00  2.9036274e+00 ... -1.0372877e+00\n",
      "   -8.2148838e-01 -6.4967668e-01]\n",
      "  [ 2.9600172e+00  4.7419906e+00  3.3595605e+00 ... -5.6377354e+00\n",
      "   -4.6541839e+00 -3.9757755e+00]\n",
      "  ...\n",
      "  [ 8.0857529e+01  8.7022888e+01  8.3423561e+01 ...  2.3552149e+01\n",
      "    2.2909094e+01  2.1220167e+01]\n",
      "  [ 2.0778951e+02  2.2062862e+02  2.1599808e+02 ...  6.6492391e+00\n",
      "    6.4269590e+00  5.9624753e+00]\n",
      "  [ 5.6667694e+01  6.0071331e+01  5.9009029e+01 ...  9.3002629e-01\n",
      "    9.1504198e-01  8.6860436e-01]]\n",
      "\n",
      " [[ 8.8623657e+00  9.4128408e+00  9.5636234e+00 ...  2.6624138e+00\n",
      "    2.7262561e+00  2.6511188e+00]\n",
      "  [ 3.9778210e+01  4.2250408e+01  4.2992622e+01 ...  1.0783029e+01\n",
      "    1.1080705e+01  1.0803394e+01]\n",
      "  [-4.1083000e+01 -4.1158161e+01 -4.3862789e+01 ... -9.1105967e+00\n",
      "   -8.0653925e+00 -7.5847492e+00]\n",
      "  ...\n",
      "  [ 3.6464722e+02  3.8163013e+02  3.7437909e+02 ...  4.9800919e+01\n",
      "    4.9048306e+01  4.6190613e+01]\n",
      "  [ 9.7805939e+02  1.0347834e+03  1.0180806e+03 ...  4.0949604e+01\n",
      "    3.9178234e+01  3.5780865e+01]\n",
      "  [ 5.5939709e+02  5.9595532e+02  5.9040039e+02 ...  2.0157406e+01\n",
      "    2.0081875e+01  1.8848007e+01]]\n",
      "\n",
      " [[-3.1875231e+01 -3.2292850e+01 -3.5248451e+01 ...  3.8041861e+00\n",
      "    4.3648586e+00  4.3608699e+00]\n",
      "  [ 1.4530573e+02  1.5422511e+02  1.5667447e+02 ...  4.3676464e+01\n",
      "    4.4651451e+01  4.3363514e+01]\n",
      "  [ 3.8403248e+01  4.0862396e+01  4.1102512e+01 ...  1.1623282e+01\n",
      "    1.1888708e+01  1.1392076e+01]\n",
      "  ...\n",
      "  [ 3.1581308e+02  3.2944159e+02  3.2612085e+02 ...  4.9054817e+01\n",
      "    4.7293476e+01  4.3396538e+01]\n",
      "  [ 8.4468103e+02  8.8660309e+02  8.8106769e+02 ...  1.4876683e+02\n",
      "    1.4249185e+02  1.2965173e+02]\n",
      "  [ 1.5732024e+03  1.6637032e+03  1.6499910e+03 ...  1.8444798e+02\n",
      "    1.8403534e+02  1.7488028e+02]]\n",
      "\n",
      " ...\n",
      "\n",
      " [[ 4.7191711e+01  4.9600300e+01  5.0802711e+01 ...  2.1733906e+01\n",
      "    2.1687683e+01  2.0896967e+01]\n",
      "  [-7.5807352e+00 -8.7038908e+00 -8.5768757e+00 ...  4.4337039e+00\n",
      "    4.4951138e+00  4.3524756e+00]\n",
      "  [-1.1798183e+02 -1.2672647e+02 -1.3065874e+02 ... -1.0312170e+01\n",
      "   -1.0306068e+01 -1.0045095e+01]\n",
      "  ...\n",
      "  [ 6.2256789e+00  6.5035510e+00  6.5278206e+00 ...  1.7979906e+00\n",
      "    1.7393030e+00  1.6026521e+00]\n",
      "  [ 1.9471159e-02  2.2878395e-02  2.7606528e-02 ...  1.0845361e-02\n",
      "    1.0766010e-02  1.0458607e-02]\n",
      "  [ 1.3420188e-01  1.3969469e-01  1.3897365e-01 ...  2.7665328e-02\n",
      "    2.7612306e-02  2.6393568e-02]]\n",
      "\n",
      " [[-1.2728276e+00 -6.6365510e-01 -7.8320765e-01 ...  1.4691648e+00\n",
      "    1.8885735e+00  2.0433004e+00]\n",
      "  [-7.2478516e+01 -7.9048363e+01 -7.9668007e+01 ... -4.5002127e+00\n",
      "   -4.1424303e+00 -3.8698430e+00]\n",
      "  [-2.8256409e+02 -3.1128177e+02 -3.1672745e+02 ... -3.2594616e+01\n",
      "   -3.2962536e+01 -3.2516556e+01]\n",
      "  ...\n",
      "  [ 6.7891198e-01  7.6051378e-01  7.0264876e-01 ...  2.8321558e-01\n",
      "    2.8089610e-01  2.6009002e-01]\n",
      "  [ 2.8981071e-02  3.0213954e-02  3.0309886e-02 ...  7.3219240e-03\n",
      "    7.1133194e-03  6.5948148e-03]\n",
      "  [ 0.0000000e+00  0.0000000e+00  0.0000000e+00 ...  0.0000000e+00\n",
      "    0.0000000e+00  0.0000000e+00]]\n",
      "\n",
      " [[-4.6797344e+01 -4.6865349e+01 -4.9156483e+01 ... -1.6389694e+01\n",
      "   -1.4941079e+01 -1.3716887e+01]\n",
      "  [-2.9661310e+01 -3.1354326e+01 -3.2072586e+01 ... -5.3008184e+00\n",
      "   -4.8764310e+00 -4.5128131e+00]\n",
      "  [-7.0464943e+01 -7.7622787e+01 -7.8981514e+01 ... -8.1995840e+00\n",
      "   -8.2829370e+00 -8.1659317e+00]\n",
      "  ...\n",
      "  [-2.8246093e-01 -2.8112534e-01 -2.9653305e-01 ... -4.1474421e-02\n",
      "   -3.8904652e-02 -3.6205065e-02]\n",
      "  [ 4.5176136e-04  4.7099241e-04  4.7243867e-04 ...  1.1338825e-04\n",
      "    1.1020008e-04  1.0221790e-04]\n",
      "  [ 0.0000000e+00  0.0000000e+00  0.0000000e+00 ...  0.0000000e+00\n",
      "    0.0000000e+00  0.0000000e+00]]]\n"
     ]
    }
   ],
   "source": [
    "print(rubixdata)"
   ]
  },
  {
   "cell_type": "code",
   "execution_count": 8,
   "metadata": {},
   "outputs": [],
   "source": [
    "#NBVAL_SKIP\n",
    "\n",
    "#inputdata = pipe.prepare_data()\n",
    "#shard_rubixdata = pipe.run_sharded_chunked(inputdata)"
   ]
  },
  {
   "cell_type": "markdown",
   "metadata": {},
   "source": [
    "## Step 4: Mock-data\n",
    "\n",
    "Now we have our final datacube and can use the mock-data to do science. Here we have a quick look in the optical wavelengthrange of the mock-datacube and show the spectra of a central spaxel and a spatial image."
   ]
  },
  {
   "cell_type": "code",
   "execution_count": 9,
   "metadata": {},
   "outputs": [],
   "source": [
    "#NBVAL_SKIP\n",
    "import jax.numpy as jnp\n",
    "\n",
    "wave = pipe.telescope.wave_seq\n",
    "# get the indices of the visible wavelengths of 4000-8000 Angstroms\n",
    "visible_indices = jnp.where((wave >= 4000) & (wave <= 8000))\n"
   ]
  },
  {
   "cell_type": "markdown",
   "metadata": {},
   "source": [
    "This is how you can access the spectrum of an individual spaxel, the wavelength can be accessed via `pipe.wave_seq`"
   ]
  },
  {
   "cell_type": "code",
   "execution_count": 10,
   "metadata": {},
   "outputs": [
    {
     "data": {
      "image/png": "[encoded data removed]",
      "text/plain": [
       "<Figure size 1000x500 with 2 Axes>"
      ]
     },
     "metadata": {},
     "output_type": "display_data"
    }
   ],
   "source": [
    "#NBVAL_SKIP\n",
    "wave = pipe.telescope.wave_seq\n",
    "\n",
    "#spectra = rubixdata#.stars.datacube # Spectra of all stars\n",
    "spectra_sharded = rubixdata # Spectra of all stars\n",
    "#print(spectra.shape)\n",
    "\n",
    "plt.figure(figsize=(10, 5))\n",
    "plt.subplot(1, 2, 1)\n",
    "plt.title(\"Rubix\")\n",
    "plt.xlabel(\"Wavelength [Angstrom]\")\n",
    "plt.ylabel(\"Flux [erg/s/cm^2/Angstrom]\")\n",
    "#plt.plot(wave, spectra[12,12,:])\n",
    "#plt.plot(wave, spectra[8,12,:])\n",
    "\n",
    "plt.subplot(1, 2, 2)\n",
    "plt.title(\"Rubix Sharded\")\n",
    "plt.xlabel(\"Wavelength [Angstrom]\")\n",
    "plt.ylabel(\"Flux [erg/s/cm^2/Angstrom]\")\n",
    "plt.plot(wave, spectra_sharded[12,12,:])\n",
    "plt.plot(wave, spectra_sharded[8,12,:])\n",
    "\n",
    "plt.show()"
   ]
  },
  {
   "cell_type": "markdown",
   "metadata": {},
   "source": [
    "Plot a spacial image of the data cube"
   ]
  },
  {
   "cell_type": "code",
   "execution_count": 11,
   "metadata": {},
   "outputs": [
    {
     "data": {
      "image/png": "[encoded data removed]",
      "text/plain": [
       "<Figure size 1200x500 with 3 Axes>"
      ]
     },
     "metadata": {},
     "output_type": "display_data"
    }
   ],
   "source": [
    "#NBVAL_SKIP\n",
    "# get the spectra of the visible wavelengths from the ifu cube\n",
    "#visible_spectra = rubixdata.stars.datacube[ :, :, visible_indices[0]]\n",
    "#visible_spectra = rubixdata[ :, :, visible_indices[0]]\n",
    "sharded_visible_spectra = rubixdata[ :, :, visible_indices[0]]\n",
    "#visible_spectra.shape\n",
    "\n",
    "#image = jnp.sum(visible_spectra, axis=2)\n",
    "sharded_image = jnp.sum(sharded_visible_spectra, axis=2)\n",
    "\n",
    "# Plot side by side\n",
    "fig, axes = plt.subplots(1, 2, figsize=(12, 5))\n",
    "\n",
    "# Original IFU datacube image\n",
    "#im0 = axes[0].imshow(image, origin=\"lower\", cmap=\"inferno\")\n",
    "axes[0].set_title(\"Original IFU Datacube\")\n",
    "#fig.colorbar(im0, ax=axes[0])\n",
    "\n",
    "# Sharded IFU datacube image\n",
    "im1 = axes[1].imshow(sharded_image, origin=\"lower\", cmap=\"inferno\")\n",
    "axes[1].set_title(\"Sharded IFU Datacube\")\n",
    "fig.colorbar(im1, ax=axes[1])\n",
    "\n",
    "plt.tight_layout()\n",
    "plt.show()"
   ]
  },
  {
   "cell_type": "markdown",
   "metadata": {},
   "source": [
    "## DONE!\n",
    "\n",
    "Congratulations, you have sucessfully run the RUBIX pipeline to create your own mock-observed IFU datacube! Now enjoy playing around with the RUBIX pipeline and enjoy doing amazing science with RUBIX :)"
   ]
  }
 ],
 "metadata": {
  "kernelspec": {
   "display_name": "Python 3",
   "language": "python",
   "name": "python3"
  },
  "language_info": {
   "codemirror_mode": {
    "name": "ipython",
    "version": 3
   },
   "file_extension": ".py",
   "mimetype": "text/x-python",
   "name": "python",
   "nbconvert_exporter": "python",
   "pygments_lexer": "ipython3",
   "version": "3.12.10"
  }
 },
 "nbformat": 4,
 "nbformat_minor": 2
}
