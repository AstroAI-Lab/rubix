{
 "cells": [
  {
   "cell_type": "code",
   "execution_count": 1,
   "metadata": {},
   "outputs": [],
   "source": [
    "# NBVAL_SKIP\n",
    "import os\n",
    "#os.environ['SPS_HOME'] = '/mnt/storage/annalena_data/sps_fsps'\n",
    "os.environ['SPS_HOME'] = '/export/home/aschaibl/fsps'"
   ]
  },
  {
   "cell_type": "markdown",
   "metadata": {},
   "source": [
    "# RUBIX pipeline\n",
    "\n",
    "RUBIX is designed as a linear pipeline, where the individual functions are called and constructed as a pipeline. This allows as to execude the whole data transformation from a cosmological hydrodynamical simulation of a galaxy to an IFU cube in two lines of code. This notebook shows, how to execute the pipeline. To see, how the pipeline is execuded in small individual steps per individual function, we refer to the notebook `rubix_pipeline_stepwise.ipynb`.\n",
    "\n",
    "## How to use the Pipeline\n",
    "1) Define a `config`\n",
    "2) Setup the `pipeline yaml`\n",
    "3) Run the RUBIX pipeline\n",
    "4) Do science with the mock-data"
   ]
  },
  {
   "cell_type": "markdown",
   "metadata": {},
   "source": [
    "## Step 1: Config\n",
    "\n",
    "The `config` contains all the information needed to run the pipeline. Those are run specfic configurations. Currently we just support Illustris as simulation, but extensions to other simulations (e.g. NIHAO) are planned.\n",
    "\n",
    "For the `config` you can choose the following options:\n",
    "- `pipeline`: you specify the name of the pipeline that is stored in the yaml file in rubix/config/pipeline_config.yml\n",
    "- `logger`: RUBIX has implemented a logger to report the user, what is happening during the pipeline execution and give warnings\n",
    "- `data - args - particle_type`: load only stars particle (\"particle_type\": [\"stars\"]) or only gas particle (\"particle_type\": [\"gas\"]) or both (\"particle_type\": [\"stars\",\"gas\"])\n",
    "- `data - args - simulation`: choose the Illustris simulation (e.g. \"simulation\": \"TNG50-1\")\n",
    "- `data - args - snapshot`: which time step of the simulation (99 for present day)\n",
    "- `data - args - save_data_path`: set the path to save the downloaded Illustris data\n",
    "- `data - load_galaxy_args - id`: define, which Illustris galaxy is downloaded\n",
    "- `data - load_galaxy_args - reuse`: if True, if in th esave_data_path directory a file for this galaxy id already exists, the downloading is skipped and the preexisting file is used\n",
    "- `data - subset`: only a defined number of stars/gas particles is used and stored for the pipeline. This may be helpful for quick testing\n",
    "- `simulation - name`: currently only IllustrisTNG is supported\n",
    "- `simulation - args - path`: where the data is stored and how the file will be named\n",
    "- `output_path`: where the hdf5 file is stored, which is then the input to the RUBIX pipeline\n",
    "- `telescope - name`: define the telescope instrument that is observing the simulation. Some telescopes are predefined, e.g. MUSE. If your instrument does not exist predefined, you can easily define your instrument in rubix/telescope/telescopes.yaml\n",
    "- `telescope - psf`: define the point spread function that is applied to the mock data\n",
    "- `telescope - lsf`: define the line spread function that is applied to the mock data\n",
    "- `telescope - noise`: define the noise that is applied to the mock data\n",
    "- `cosmology`: specify the cosmology you want to use, standard for RUBIX is \"PLANCK15\"\n",
    "- `galaxy - dist_z`: specify at which redshift the mock-galaxy is observed\n",
    "- `galaxy - rotation`: specify the orientation of the galaxy. You can set the types edge-on or face-on or specify the angles alpha, beta and gamma as rotations around x-, y- and z-axis\n",
    "- `ssp - template`: specify the simple stellar population lookup template to get the stellar spectrum for each stars particle. In RUBIX frequently \"BruzualCharlot2003\" is used."
   ]
  },
  {
   "cell_type": "code",
   "execution_count": 2,
   "metadata": {},
   "outputs": [
    {
     "name": "stderr",
     "output_type": "stream",
     "text": [
      "2025-04-15 16:49:06,526 - rubix - INFO - \n",
      "   ___  __  _____  _____  __\n",
      "  / _ \\/ / / / _ )/  _/ |/_/\n",
      " / , _/ /_/ / _  |/ /_>  <\n",
      "/_/|_|\\____/____/___/_/|_|\n",
      "\n",
      "\n",
      "2025-04-15 16:49:06,530 - rubix - INFO - Rubix version: 0.0.post238+gf560922\n",
      "2025-04-15 16:49:06,531 - rubix - INFO - JAX version: 0.5.0\n",
      "2025-04-15 16:49:06,532 - rubix - INFO - Running on [CudaDevice(id=0), CudaDevice(id=1), CudaDevice(id=2), CudaDevice(id=3), CudaDevice(id=4), CudaDevice(id=5), CudaDevice(id=6), CudaDevice(id=7)] devices\n"
     ]
    }
   ],
   "source": [
    "#NBVAL_SKIP\n",
    "import matplotlib.pyplot as plt\n",
    "from rubix.core.pipeline import RubixPipeline \n",
    "import os\n",
    "config = {\n",
    "    \"pipeline\":{\"name\": \"calc_ifu\"},\n",
    "    \n",
    "    \"logger\": {\n",
    "        \"log_level\": \"DEBUG\",\n",
    "        \"log_file_path\": None,\n",
    "        \"format\": \"%(asctime)s - %(name)s - %(levelname)s - %(message)s\",\n",
    "    },\n",
    "    \"data\": {\n",
    "        \"name\": \"IllustrisAPI\",\n",
    "        \"args\": {\n",
    "            \"api_key\": os.environ.get(\"ILLUSTRIS_API_KEY\"),\n",
    "            \"particle_type\": [\"stars\"],\n",
    "            \"simulation\": \"TNG50-1\",\n",
    "            \"snapshot\": 99,\n",
    "            \"save_data_path\": \"data\",\n",
    "        },\n",
    "        \n",
    "        \"load_galaxy_args\": {\n",
    "        \"id\": 14,\n",
    "        \"reuse\": True,\n",
    "        },\n",
    "        \n",
    "        \"subset\": {\n",
    "            \"use_subset\": True,\n",
    "            \"subset_size\": 8000,\n",
    "        },\n",
    "    },\n",
    "    \"simulation\": {\n",
    "        \"name\": \"IllustrisTNG\",\n",
    "        \"args\": {\n",
    "            \"path\": \"data/galaxy-id-14.hdf5\",\n",
    "        },\n",
    "    \n",
    "    },\n",
    "    \"output_path\": \"output\",\n",
    "\n",
    "    \"telescope\":\n",
    "        {\"name\": \"MUSE\",\n",
    "         \"psf\": {\"name\": \"gaussian\", \"size\": 5, \"sigma\": 0.6},\n",
    "         \"lsf\": {\"sigma\": 0.5},\n",
    "         \"noise\": {\"signal_to_noise\": 1,\"noise_distribution\": \"normal\"},},\n",
    "    \"cosmology\":\n",
    "        {\"name\": \"PLANCK15\"},\n",
    "        \n",
    "    \"galaxy\":\n",
    "        {\"dist_z\": 0.1,\n",
    "         \"rotation\": {\"type\": \"edge-on\"},\n",
    "        },\n",
    "        \n",
    "    \"ssp\": {\n",
    "        \"template\": {\n",
    "            \"name\": \"FSPS\"\n",
    "        },\n",
    "        \"dust\": {\n",
    "                \"extinction_model\": \"Cardelli89\",\n",
    "                \"dust_to_gas_ratio\": 0.01,\n",
    "                \"dust_to_metals_ratio\": 0.4,\n",
    "                \"dust_grain_density\": 3.5,\n",
    "                \"Rv\": 3.1,\n",
    "            },\n",
    "    },        \n",
    "}"
   ]
  },
  {
   "cell_type": "markdown",
   "metadata": {},
   "source": [
    "## Step 2: Pipeline yaml\n",
    "\n",
    "To run the RUBIX pipeline, you need a yaml file (stored in `rubix/config/pipeline_config.yml`) that defines which functions are used during the execution of the pipeline. This shows the example pipeline yaml to compute a stellar IFU cube.\n",
    "\n",
    "```yaml\n",
    "calc_ifu:\n",
    "  Transformers:\n",
    "    rotate_galaxy:\n",
    "      name: rotate_galaxy\n",
    "      depends_on: null\n",
    "      args: []\n",
    "      kwargs:\n",
    "        type: \"face-on\"\n",
    "    filter_particles:\n",
    "      name: filter_particles\n",
    "      depends_on: rotate_galaxy\n",
    "      args: []\n",
    "      kwargs: {}\n",
    "    spaxel_assignment:\n",
    "      name: spaxel_assignment\n",
    "      depends_on: filter_particles\n",
    "      args: []\n",
    "      kwargs: {}\n",
    "\n",
    "    reshape_data:\n",
    "      name: reshape_data\n",
    "      depends_on: spaxel_assignment\n",
    "      args: []\n",
    "      kwargs: {}\n",
    "\n",
    "    calculate_spectra:\n",
    "      name: calculate_spectra\n",
    "      depends_on: reshape_data\n",
    "      args: []\n",
    "      kwargs: {}\n",
    "\n",
    "    scale_spectrum_by_mass:\n",
    "      name: scale_spectrum_by_mass\n",
    "      depends_on: calculate_spectra\n",
    "      args: []\n",
    "      kwargs: {}\n",
    "    doppler_shift_and_resampling:\n",
    "      name: doppler_shift_and_resampling\n",
    "      depends_on: scale_spectrum_by_mass\n",
    "      args: []\n",
    "      kwargs: {}\n",
    "    calculate_datacube:\n",
    "      name: calculate_datacube\n",
    "      depends_on: doppler_shift_and_resampling\n",
    "      args: []\n",
    "      kwargs: {}\n",
    "    convolve_psf:\n",
    "      name: convolve_psf\n",
    "      depends_on: calculate_datacube\n",
    "      args: []\n",
    "      kwargs: {}\n",
    "    convolve_lsf:\n",
    "      name: convolve_lsf\n",
    "      depends_on: convolve_psf\n",
    "      args: []\n",
    "      kwargs: {}\n",
    "    apply_noise:\n",
    "      name: apply_noise\n",
    "      depends_on: convolve_lsf\n",
    "      args: []\n",
    "      kwargs: {}\n",
    "```\n",
    "\n",
    "Ther is one thing you have to know about the naming of the functions in this yaml: To use the functions inside the pipeline, the functions have to be called exactly the same as they are returned from the core module function!"
   ]
  },
  {
   "cell_type": "markdown",
   "metadata": {},
   "source": [
    "## Step 3: Run the pipeline\n",
    "\n",
    "After defining the `config` and the `pipeline_config` you can simply run the whole pipeline by these two lines of code."
   ]
  },
  {
   "cell_type": "code",
   "execution_count": 3,
   "metadata": {},
   "outputs": [
    {
     "name": "stderr",
     "output_type": "stream",
     "text": [
      "/export/home/aschaibl/rubix/rubix/telescope/factory.py:24: UserWarning: No telescope config provided, using default stored in /export/home/aschaibl/rubix/rubix/telescope/telescopes.yaml\n",
      "  warnings.warn(\n"
     ]
    }
   ],
   "source": [
    "#NBVAL_SKIP\n",
    "pipe = RubixPipeline(config)\n",
    "\n",
    "#inputdata = pipe.prepare_data()\n",
    "#rubixdata = pipe.run(inputdata)"
   ]
  },
  {
   "cell_type": "code",
   "execution_count": 4,
   "metadata": {},
   "outputs": [
    {
     "name": "stderr",
     "output_type": "stream",
     "text": [
      "2025-04-15 16:49:07,683 - rubix - INFO - Getting rubix data...\n",
      "2025-04-15 16:49:07,686 - rubix - INFO - Rubix galaxy file already exists, skipping conversion\n",
      "2025-04-15 16:49:07,785 - rubix - INFO - Centering stars particles\n",
      "2025-04-15 16:49:10,736 - rubix - WARNING - The Subset value is set in config. Using only subset of size 8000 for stars\n",
      "2025-04-15 16:49:10,739 - rubix - INFO - Data loaded with 8000 star particles and 0 gas particles.\n",
      "2025-04-15 16:49:10,739 - rubix - INFO - Setting up the pipeline...\n",
      "2025-04-15 16:49:10,740 - rubix - DEBUG - Pipeline Configuration: {'Transformers': {'rotate_galaxy': {'name': 'rotate_galaxy', 'depends_on': None, 'args': [], 'kwargs': {}}, 'filter_particles': {'name': 'filter_particles', 'depends_on': 'rotate_galaxy', 'args': [], 'kwargs': {}}, 'spaxel_assignment': {'name': 'spaxel_assignment', 'depends_on': 'filter_particles', 'args': [], 'kwargs': {}}, 'reshape_data': {'name': 'reshape_data', 'depends_on': 'spaxel_assignment', 'args': [], 'kwargs': {}}, 'calculate_spectra': {'name': 'calculate_spectra', 'depends_on': 'reshape_data', 'args': [], 'kwargs': {}}, 'scale_spectrum_by_mass': {'name': 'scale_spectrum_by_mass', 'depends_on': 'calculate_spectra', 'args': [], 'kwargs': {}}, 'doppler_shift_and_resampling': {'name': 'doppler_shift_and_resampling', 'depends_on': 'scale_spectrum_by_mass', 'args': [], 'kwargs': {}}, 'calculate_datacube': {'name': 'calculate_datacube', 'depends_on': 'doppler_shift_and_resampling', 'args': [], 'kwargs': {}}, 'convolve_psf': {'name': 'convolve_psf', 'depends_on': 'calculate_datacube', 'args': [], 'kwargs': {}}, 'convolve_lsf': {'name': 'convolve_lsf', 'depends_on': 'convolve_psf', 'args': [], 'kwargs': {}}, 'apply_noise': {'name': 'apply_noise', 'depends_on': 'convolve_lsf', 'args': [], 'kwargs': {}}}}\n",
      "2025-04-15 16:49:10,743 - rubix - DEBUG - Roataion Type found: edge-on\n",
      "2025-04-15 16:49:10,745 - rubix - INFO - Calculating spatial bin edges...\n",
      "/export/home/aschaibl/rubix/rubix/telescope/factory.py:24: UserWarning: No telescope config provided, using default stored in /export/home/aschaibl/rubix/rubix/telescope/telescopes.yaml\n",
      "  warnings.warn(\n",
      "2025-04-15 16:49:10,772 - rubix - INFO - Getting cosmology...\n",
      "/export/home/aschaibl/rubix/rubix/telescope/factory.py:24: UserWarning: No telescope config provided, using default stored in /export/home/aschaibl/rubix/rubix/telescope/telescopes.yaml\n",
      "  warnings.warn(\n",
      "2025-04-15 16:49:11,371 - rubix - INFO - Calculating spatial bin edges...\n",
      "/export/home/aschaibl/rubix/rubix/telescope/factory.py:24: UserWarning: No telescope config provided, using default stored in /export/home/aschaibl/rubix/rubix/telescope/telescopes.yaml\n",
      "  warnings.warn(\n",
      "2025-04-15 16:49:11,392 - rubix - INFO - Getting cosmology...\n",
      "2025-04-15 16:49:11,496 - rubix - DEBUG - Method not defined, using default method: cubic\n",
      "2025-04-15 16:49:11,595 - rubix - DEBUG - Method not defined, using default method: cubic\n",
      "/export/home/aschaibl/rubix/rubix/telescope/factory.py:24: UserWarning: No telescope config provided, using default stored in /export/home/aschaibl/rubix/rubix/telescope/telescopes.yaml\n",
      "  warnings.warn(\n",
      "2025-04-15 16:49:11,797 - rubix - DEBUG - SSP Wave: (5994,)\n",
      "/export/home/aschaibl/rubix/rubix/telescope/factory.py:24: UserWarning: No telescope config provided, using default stored in /export/home/aschaibl/rubix/rubix/telescope/telescopes.yaml\n",
      "  warnings.warn(\n",
      "2025-04-15 16:49:11,824 - rubix - INFO - Getting cosmology...\n",
      "/export/home/aschaibl/rubix/rubix/telescope/factory.py:24: UserWarning: No telescope config provided, using default stored in /export/home/aschaibl/rubix/rubix/telescope/telescopes.yaml\n",
      "  warnings.warn(\n",
      "/export/home/aschaibl/rubix/rubix/telescope/factory.py:24: UserWarning: No telescope config provided, using default stored in /export/home/aschaibl/rubix/rubix/telescope/telescopes.yaml\n",
      "  warnings.warn(\n",
      "2025-04-15 16:49:12,373 - rubix - INFO - Assembling the pipeline...\n",
      "2025-04-15 16:49:12,374 - rubix - INFO - Compiling the expressions...\n"
     ]
    },
    {
     "ename": "ValueError",
     "evalue": "pytree structure error: different types at key path\n    shard_map in_specs\nAt that key path, the prefix pytree shard_map in_specs has a subtree of type\n    <class 'dict'>\nbut at the same key path the full pytree has a subtree of different type\n    <class 'tuple'>.",
     "output_type": "error",
     "traceback": [
      "\u001b[0;31m---------------------------------------------------------------------------\u001b[0m",
      "\u001b[0;31mValueError\u001b[0m                                Traceback (most recent call last)",
      "Cell \u001b[0;32mIn[4], line 2\u001b[0m\n\u001b[1;32m      1\u001b[0m inputdata \u001b[38;5;241m=\u001b[39m pipe\u001b[38;5;241m.\u001b[39mprepare_data()\n\u001b[0;32m----> 2\u001b[0m shard_rubixdata \u001b[38;5;241m=\u001b[39m \u001b[43mpipe\u001b[49m\u001b[38;5;241;43m.\u001b[39;49m\u001b[43mrun_sharded\u001b[49m\u001b[43m(\u001b[49m\u001b[43minputdata\u001b[49m\u001b[43m,\u001b[49m\u001b[43m \u001b[49m\u001b[43mshard_size\u001b[49m\u001b[38;5;241;43m=\u001b[39;49m\u001b[38;5;241;43m1000\u001b[39;49m\u001b[43m)\u001b[49m\n",
      "File \u001b[0;32m~/rubix/rubix/core/pipeline.py:282\u001b[0m, in \u001b[0;36mRubixPipeline.run_sharded\u001b[0;34m(self, inputdata, shard_size)\u001b[0m\n\u001b[1;32m    274\u001b[0m sharded_pipeline_fn \u001b[38;5;241m=\u001b[39m shard_map\u001b[38;5;241m.\u001b[39mshard_map(\n\u001b[1;32m    275\u001b[0m     pipeline_shard_fn,\n\u001b[1;32m    276\u001b[0m     mesh,\n\u001b[1;32m    277\u001b[0m     in_shardings,\n\u001b[1;32m    278\u001b[0m     out_shardings,\n\u001b[1;32m    279\u001b[0m )\n\u001b[1;32m    281\u001b[0m \u001b[38;5;28;01mwith\u001b[39;00m mesh:\n\u001b[0;32m--> 282\u001b[0m     sharded_datacubes \u001b[38;5;241m=\u001b[39m \u001b[43msharded_pipeline_fn\u001b[49m\u001b[43m(\u001b[49m\u001b[43msharded_input_dict\u001b[49m\u001b[43m)\u001b[49m\n\u001b[1;32m    284\u001b[0m \u001b[38;5;66;03m# Combine the datacubes (here, by summing over the shard axis).\u001b[39;00m\n\u001b[1;32m    285\u001b[0m final_datacube \u001b[38;5;241m=\u001b[39m jnp\u001b[38;5;241m.\u001b[39msum(sharded_datacubes, axis\u001b[38;5;241m=\u001b[39m\u001b[38;5;241m0\u001b[39m)\n",
      "    \u001b[0;31m[... skipping hidden 1 frame]\u001b[0m\n",
      "File \u001b[0;32m~/miniconda3/envs/rubix/lib/python3.11/site-packages/jax/experimental/shard_map.py:171\u001b[0m, in \u001b[0;36m_shard_map.<locals>.wrapped\u001b[0;34m(*args)\u001b[0m\n\u001b[1;32m    169\u001b[0m \u001b[38;5;28;01mexcept\u001b[39;00m \u001b[38;5;167;01mValueError\u001b[39;00m:\n\u001b[1;32m    170\u001b[0m   e, \u001b[38;5;241m*\u001b[39m_ \u001b[38;5;241m=\u001b[39m prefix_errors(in_specs, args)\n\u001b[0;32m--> 171\u001b[0m   \u001b[38;5;28;01mraise\u001b[39;00m e(\u001b[38;5;124m'\u001b[39m\u001b[38;5;124mshard_map in_specs\u001b[39m\u001b[38;5;124m'\u001b[39m) \u001b[38;5;28;01mfrom\u001b[39;00m \u001b[38;5;28;01mNone\u001b[39;00m\n\u001b[1;32m    172\u001b[0m dyn_argnums, in_specs_flat \u001b[38;5;241m=\u001b[39m unzip2((i, s) \u001b[38;5;28;01mfor\u001b[39;00m i, s \u001b[38;5;129;01min\u001b[39;00m \u001b[38;5;28menumerate\u001b[39m(in_specs_flat)\n\u001b[1;32m    173\u001b[0m                                     \u001b[38;5;28;01mif\u001b[39;00m s \u001b[38;5;129;01mis\u001b[39;00m \u001b[38;5;129;01mnot\u001b[39;00m \u001b[38;5;28;01mNone\u001b[39;00m)\n\u001b[1;32m    174\u001b[0m fun, args_flat \u001b[38;5;241m=\u001b[39m argnums_partial(fun, dyn_argnums, args_flat, \u001b[38;5;28;01mFalse\u001b[39;00m)\n",
      "\u001b[0;31mValueError\u001b[0m: pytree structure error: different types at key path\n    shard_map in_specs\nAt that key path, the prefix pytree shard_map in_specs has a subtree of type\n    <class 'dict'>\nbut at the same key path the full pytree has a subtree of different type\n    <class 'tuple'>."
     ]
    }
   ],
   "source": [
    "inputdata = pipe.prepare_data()\n",
    "shard_rubixdata = pipe.run_sharded(inputdata, shard_size=1000)"
   ]
  },
  {
   "cell_type": "markdown",
   "metadata": {},
   "source": [
    "## Step 4: Mock-data\n",
    "\n",
    "Now we have our final datacube and can use the mock-data to do science. Here we have a quick look in the optical wavelengthrange of the mock-datacube and show the spectra of a central spaxel and a spatial image."
   ]
  },
  {
   "cell_type": "code",
   "execution_count": null,
   "metadata": {},
   "outputs": [],
   "source": [
    "#NBVAL_SKIP\n",
    "import jax.numpy as jnp\n",
    "\n",
    "wave = pipe.telescope.wave_seq\n",
    "# get the indices of the visible wavelengths of 4000-8000 Angstroms\n",
    "visible_indices = jnp.where((wave >= 4000) & (wave <= 8000))\n"
   ]
  },
  {
   "cell_type": "markdown",
   "metadata": {},
   "source": [
    "This is how you can access the spectrum of an individual spaxel, the wavelength can be accessed via `pipe.wave_seq`"
   ]
  },
  {
   "cell_type": "code",
   "execution_count": null,
   "metadata": {},
   "outputs": [],
   "source": [
    "#NBVAL_SKIP\n",
    "wave = pipe.telescope.wave_seq\n",
    "\n",
    "spectra = rubixdata.stars.datacube # Spectra of all stars\n",
    "print(spectra.shape)\n",
    "\n",
    "plt.plot(wave, spectra[12,12,:])\n"
   ]
  },
  {
   "cell_type": "markdown",
   "metadata": {},
   "source": [
    "Plot a spacial image of the data cube"
   ]
  },
  {
   "cell_type": "code",
   "execution_count": null,
   "metadata": {},
   "outputs": [],
   "source": [
    "#NBVAL_SKIP\n",
    "# get the spectra of the visible wavelengths from the ifu cube\n",
    "visible_spectra = rubixdata.stars.datacube[:, :, visible_indices[0]]\n",
    "#visible_spectra.shape\n",
    "\n",
    "# Sum up all spectra to create an image\n",
    "image = jnp.sum(visible_spectra, axis = 2)\n",
    "plt.imshow(image, origin=\"lower\", cmap=\"inferno\")\n",
    "plt.colorbar()"
   ]
  },
  {
   "cell_type": "markdown",
   "metadata": {},
   "source": [
    "## DONE!\n",
    "\n",
    "Congratulations, you have sucessfully run the RUBIX pipeline to create your own mock-observed IFU datacube! Now enjoy playing around with the RUBIX pipeline and enjoy doing amazing science with RUBIX :)"
   ]
  }
 ],
 "metadata": {
  "kernelspec": {
   "display_name": "rubix",
   "language": "python",
   "name": "python3"
  },
  "language_info": {
   "codemirror_mode": {
    "name": "ipython",
    "version": 3
   },
   "file_extension": ".py",
   "mimetype": "text/x-python",
   "name": "python",
   "nbconvert_exporter": "python",
   "pygments_lexer": "ipython3",
   "version": "3.11.9"
  }
 },
 "nbformat": 4,
 "nbformat_minor": 2
}
