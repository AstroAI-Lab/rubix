{
 "cells": [
  {
   "cell_type": "code",
   "execution_count": 1,
   "metadata": {},
   "outputs": [
    {
     "name": "stdout",
     "output_type": "stream",
     "text": [
      "Logical cores: 72\n",
      "multiprocessing.cpu_count(): 72\n"
     ]
    }
   ],
   "source": [
    "import os\n",
    "import multiprocessing\n",
    "\n",
    "# Logical cores (includes hyperthreads)\n",
    "print(\"Logical cores:\", os.cpu_count())\n",
    "\n",
    "\n",
    "# Total threads/cores via multiprocessing\n",
    "print(\"multiprocessing.cpu_count():\", multiprocessing.cpu_count())\n"
   ]
  },
  {
   "cell_type": "code",
   "execution_count": 2,
   "metadata": {},
   "outputs": [
    {
     "name": "stdout",
     "output_type": "stream",
     "text": [
      "[CudaDevice(id=0), CudaDevice(id=1), CudaDevice(id=2), CudaDevice(id=3)]\n"
     ]
    }
   ],
   "source": [
    "import os\n",
    "\n",
    "# Tell XLA to fake 2 host CPU devices\n",
    "os.environ['XLA_FLAGS'] = '--xla_force_host_platform_device_count=3'\n",
    "\n",
    "# Only make GPU 0 and GPU 1 visible to JAX:\n",
    "os.environ['CUDA_VISIBLE_DEVICES'] = '6,7,8,9'\n",
    "\n",
    "os.environ[\"XLA_PYTHON_CLIENT_PREALLOCATE\"]   = \"false\"\n",
    "\n",
    "import jax\n",
    "\n",
    "# Now JAX will list two CpuDevice entries\n",
    "print(jax.devices())\n",
    "# → [CpuDevice(id=0), CpuDevice(id=1)]"
   ]
  },
  {
   "cell_type": "code",
   "execution_count": 3,
   "metadata": {},
   "outputs": [],
   "source": [
    "# NBVAL_SKIP\n",
    "import os\n",
    "#  os.environ['SPS_HOME'] = '/mnt/storage/annalena_data/sps_fsps'\n",
    "#os.environ['SPS_HOME'] = '/home/annalena/sps_fsps'\n",
    "#os.environ['SPS_HOME'] = '/Users/annalena/Documents/GitHub/fsps'\n",
    "os.environ['SPS_HOME'] = '/export/home/aschaibl/fsps'"
   ]
  },
  {
   "cell_type": "markdown",
   "metadata": {},
   "source": [
    "# RUBIX pipeline\n",
    "\n",
    "RUBIX is designed as a linear pipeline, where the individual functions are called and constructed as a pipeline. This allows as to execude the whole data transformation from a cosmological hydrodynamical simulation of a galaxy to an IFU cube in two lines of code. This notebook shows, how to execute the pipeline. To see, how the pipeline is execuded in small individual steps per individual function, we refer to the notebook `rubix_pipeline_stepwise.ipynb`.\n",
    "\n",
    "## How to use the Pipeline\n",
    "1) Define a `config`\n",
    "2) Setup the `pipeline yaml`\n",
    "3) Run the RUBIX pipeline\n",
    "4) Do science with the mock-data"
   ]
  },
  {
   "cell_type": "markdown",
   "metadata": {},
   "source": [
    "## Step 1: Config\n",
    "\n",
    "The `config` contains all the information needed to run the pipeline. Those are run specfic configurations. Currently we just support Illustris as simulation, but extensions to other simulations (e.g. NIHAO) are planned.\n",
    "\n",
    "For the `config` you can choose the following options:\n",
    "- `pipeline`: you specify the name of the pipeline that is stored in the yaml file in rubix/config/pipeline_config.yml\n",
    "- `logger`: RUBIX has implemented a logger to report the user, what is happening during the pipeline execution and give warnings\n",
    "- `data - args - particle_type`: load only stars particle (\"particle_type\": [\"stars\"]) or only gas particle (\"particle_type\": [\"gas\"]) or both (\"particle_type\": [\"stars\",\"gas\"])\n",
    "- `data - args - simulation`: choose the Illustris simulation (e.g. \"simulation\": \"TNG50-1\")\n",
    "- `data - args - snapshot`: which time step of the simulation (99 for present day)\n",
    "- `data - args - save_data_path`: set the path to save the downloaded Illustris data\n",
    "- `data - load_galaxy_args - id`: define, which Illustris galaxy is downloaded\n",
    "- `data - load_galaxy_args - reuse`: if True, if in th esave_data_path directory a file for this galaxy id already exists, the downloading is skipped and the preexisting file is used\n",
    "- `data - subset`: only a defined number of stars/gas particles is used and stored for the pipeline. This may be helpful for quick testing\n",
    "- `simulation - name`: currently only IllustrisTNG is supported\n",
    "- `simulation - args - path`: where the data is stored and how the file will be named\n",
    "- `output_path`: where the hdf5 file is stored, which is then the input to the RUBIX pipeline\n",
    "- `telescope - name`: define the telescope instrument that is observing the simulation. Some telescopes are predefined, e.g. MUSE. If your instrument does not exist predefined, you can easily define your instrument in rubix/telescope/telescopes.yaml\n",
    "- `telescope - psf`: define the point spread function that is applied to the mock data\n",
    "- `telescope - lsf`: define the line spread function that is applied to the mock data\n",
    "- `telescope - noise`: define the noise that is applied to the mock data\n",
    "- `cosmology`: specify the cosmology you want to use, standard for RUBIX is \"PLANCK15\"\n",
    "- `galaxy - dist_z`: specify at which redshift the mock-galaxy is observed\n",
    "- `galaxy - rotation`: specify the orientation of the galaxy. You can set the types edge-on or face-on or specify the angles alpha, beta and gamma as rotations around x-, y- and z-axis\n",
    "- `ssp - template`: specify the simple stellar population lookup template to get the stellar spectrum for each stars particle. In RUBIX frequently \"BruzualCharlot2003\" is used."
   ]
  },
  {
   "cell_type": "code",
   "execution_count": null,
   "metadata": {},
   "outputs": [
    {
     "name": "stderr",
     "output_type": "stream",
     "text": [
      "2025-04-24 15:21:55,657 - rubix - INFO - \n",
      "   ___  __  _____  _____  __\n",
      "  / _ \\/ / / / _ )/  _/ |/_/\n",
      " / , _/ /_/ / _  |/ /_>  <\n",
      "/_/|_|\\____/____/___/_/|_|\n",
      "\n",
      "\n",
      "2025-04-24 15:21:55,658 - rubix - INFO - Rubix version: 0.0.post415+gd0b5d77\n",
      "2025-04-24 15:21:55,659 - rubix - INFO - JAX version: 0.6.0\n",
      "2025-04-24 15:21:55,659 - rubix - INFO - Running on [CudaDevice(id=0), CudaDevice(id=1), CudaDevice(id=2), CudaDevice(id=3)] devices\n"
     ]
    }
   ],
   "source": [
    "#NBVAL_SKIP\n",
    "import matplotlib.pyplot as plt\n",
    "from rubix.core.pipeline import RubixPipeline \n",
    "import os\n",
    "config = {\n",
    "    \"pipeline\":{\"name\": \"calc_ifu\"},\n",
    "    \n",
    "    \"logger\": {\n",
    "        \"log_level\": \"DEBUG\",\n",
    "        \"log_file_path\": None,\n",
    "        \"format\": \"%(asctime)s - %(name)s - %(levelname)s - %(message)s\",\n",
    "    },\n",
    "    \"data\": {\n",
    "        \"name\": \"IllustrisAPI\",\n",
    "        \"args\": {\n",
    "            \"api_key\": os.environ.get(\"ILLUSTRIS_API_KEY\"),\n",
    "            \"particle_type\": [\"stars\"],\n",
    "            \"simulation\": \"TNG50-1\",\n",
    "            \"snapshot\": 99,\n",
    "            \"save_data_path\": \"data\",\n",
    "        },\n",
    "        \n",
    "        \"load_galaxy_args\": {\n",
    "        \"id\": 14,\n",
    "        \"reuse\": True,\n",
    "        },\n",
    "        \n",
    "        \"subset\": {\n",
    "            \"use_subset\": True,\n",
    "            \"subset_size\": 1000,\n",
    "        },\n",
    "    },\n",
    "    \"simulation\": {\n",
    "        \"name\": \"IllustrisTNG\",\n",
    "        \"args\": {\n",
    "            \"path\": \"data/galaxy-id-14.hdf5\",\n",
    "        },\n",
    "    \n",
    "    },\n",
    "    \"output_path\": \"output\",\n",
    "\n",
    "    \"telescope\":\n",
    "        {\"name\": \"MUSE\",\n",
    "         \"psf\": {\"name\": \"gaussian\", \"size\": 5, \"sigma\": 0.6},\n",
    "         \"lsf\": {\"sigma\": 0.5},\n",
    "         \"noise\": {\"signal_to_noise\": 1,\"noise_distribution\": \"normal\"},},\n",
    "    \"cosmology\":\n",
    "        {\"name\": \"PLANCK15\"},\n",
    "        \n",
    "    \"galaxy\":\n",
    "        {\"dist_z\": 0.1,\n",
    "         \"rotation\": {\"type\": \"edge-on\"},\n",
    "        },\n",
    "        \n",
    "    \"ssp\": {\n",
    "        \"template\": {\n",
    "            \"name\": \"FSPS\"\n",
    "        },\n",
    "        \"dust\": {\n",
    "                \"extinction_model\": \"Cardelli89\",\n",
    "                \"dust_to_gas_ratio\": 0.01,\n",
    "                \"dust_to_metals_ratio\": 0.4,\n",
    "                \"dust_grain_density\": 3.5,\n",
    "                \"Rv\": 3.1,\n",
    "            },\n",
    "    },        \n",
    "}"
   ]
  },
  {
   "cell_type": "markdown",
   "metadata": {},
   "source": [
    "## Step 2: Pipeline yaml\n",
    "\n",
    "To run the RUBIX pipeline, you need a yaml file (stored in `rubix/config/pipeline_config.yml`) that defines which functions are used during the execution of the pipeline. This shows the example pipeline yaml to compute a stellar IFU cube.\n",
    "\n",
    "```yaml\n",
    "calc_ifu:\n",
    "  Transformers:\n",
    "    rotate_galaxy:\n",
    "      name: rotate_galaxy\n",
    "      depends_on: null\n",
    "      args: []\n",
    "      kwargs:\n",
    "        type: \"face-on\"\n",
    "    filter_particles:\n",
    "      name: filter_particles\n",
    "      depends_on: rotate_galaxy\n",
    "      args: []\n",
    "      kwargs: {}\n",
    "    spaxel_assignment:\n",
    "      name: spaxel_assignment\n",
    "      depends_on: filter_particles\n",
    "      args: []\n",
    "      kwargs: {}\n",
    "\n",
    "    reshape_data:\n",
    "      name: reshape_data\n",
    "      depends_on: spaxel_assignment\n",
    "      args: []\n",
    "      kwargs: {}\n",
    "\n",
    "    calculate_spectra:\n",
    "      name: calculate_spectra\n",
    "      depends_on: reshape_data\n",
    "      args: []\n",
    "      kwargs: {}\n",
    "\n",
    "    scale_spectrum_by_mass:\n",
    "      name: scale_spectrum_by_mass\n",
    "      depends_on: calculate_spectra\n",
    "      args: []\n",
    "      kwargs: {}\n",
    "    doppler_shift_and_resampling:\n",
    "      name: doppler_shift_and_resampling\n",
    "      depends_on: scale_spectrum_by_mass\n",
    "      args: []\n",
    "      kwargs: {}\n",
    "    calculate_datacube:\n",
    "      name: calculate_datacube\n",
    "      depends_on: doppler_shift_and_resampling\n",
    "      args: []\n",
    "      kwargs: {}\n",
    "    convolve_psf:\n",
    "      name: convolve_psf\n",
    "      depends_on: calculate_datacube\n",
    "      args: []\n",
    "      kwargs: {}\n",
    "    convolve_lsf:\n",
    "      name: convolve_lsf\n",
    "      depends_on: convolve_psf\n",
    "      args: []\n",
    "      kwargs: {}\n",
    "    apply_noise:\n",
    "      name: apply_noise\n",
    "      depends_on: convolve_lsf\n",
    "      args: []\n",
    "      kwargs: {}\n",
    "```\n",
    "\n",
    "Ther is one thing you have to know about the naming of the functions in this yaml: To use the functions inside the pipeline, the functions have to be called exactly the same as they are returned from the core module function!"
   ]
  },
  {
   "cell_type": "markdown",
   "metadata": {},
   "source": [
    "## Step 3: Run the pipeline\n",
    "\n",
    "After defining the `config` and the `pipeline_config` you can simply run the whole pipeline by these two lines of code."
   ]
  },
  {
   "cell_type": "code",
   "execution_count": 5,
   "metadata": {},
   "outputs": [
    {
     "name": "stderr",
     "output_type": "stream",
     "text": [
      "/export/home/aschaibl/rubix/rubix/telescope/factory.py:24: UserWarning: No telescope config provided, using default stored in /export/home/aschaibl/rubix/rubix/telescope/telescopes.yaml\n",
      "  warnings.warn(\n"
     ]
    }
   ],
   "source": [
    "#NBVAL_SKIP\n",
    "pipe = RubixPipeline(config)"
   ]
  },
  {
   "cell_type": "code",
   "execution_count": null,
   "metadata": {},
   "outputs": [
    {
     "ename": "",
     "evalue": "",
     "output_type": "error",
     "traceback": [
      "\u001b[1;31mThe Kernel crashed while executing code in the current cell or a previous cell. \n",
      "\u001b[1;31mPlease review the code in the cell(s) to identify a possible cause of the failure. \n",
      "\u001b[1;31mClick <a href='https://aka.ms/vscodeJupyterKernelCrash'>here</a> for more info. \n",
      "\u001b[1;31mView Jupyter <a href='command:jupyter.viewOutput'>log</a> for further details."
     ]
    }
   ],
   "source": [
    "#NBVAL_SKIP\n",
    "\n",
    "#inputdata = pipe.prepare_data()\n",
    "#rubixdata = pipe.run(inputdata)"
   ]
  },
  {
   "cell_type": "code",
   "execution_count": null,
   "metadata": {},
   "outputs": [
    {
     "name": "stderr",
     "output_type": "stream",
     "text": [
      "2025-04-24 15:21:56,525 - rubix - INFO - Getting rubix data...\n",
      "2025-04-24 15:21:56,527 - rubix - INFO - Loading data from IllustrisAPI\n",
      "2025-04-24 15:21:56,528 - rubix - INFO - Reusing existing file galaxy-id-14.hdf5. If you want to download the data again, set reuse=False.\n",
      "2025-04-24 15:21:56,559 - rubix - INFO - Loading data into input handler\n",
      "2025-04-24 15:21:56,561 - rubix - DEBUG - Loading data from Illustris file..\n",
      "2025-04-24 15:21:56,562 - rubix - DEBUG - Checking if the fields are present in the file...\n",
      "2025-04-24 15:21:56,562 - rubix - DEBUG - Keys in the file: <KeysViewHDF5 ['Header', 'PartType4', 'SubhaloData']>\n",
      "2025-04-24 15:21:56,563 - rubix - DEBUG - Expected fields: ['Header', 'SubhaloData', 'PartType4', 'PartType0']\n",
      "2025-04-24 15:21:56,564 - rubix - DEBUG - Matching fields: {'SubhaloData', 'Header', 'PartType4'}\n",
      "2025-04-24 15:21:56,568 - rubix - DEBUG - Found 484076 valid particles out of 484076\n",
      "2025-04-24 15:21:56,913 - rubix - DEBUG - Converting Stellar Formation Time to Age\n",
      "2025-04-24 15:22:01,771 - rubix - DEBUG - Converting to Rubix format..\n",
      "2025-04-24 15:22:01,775 - rubix - DEBUG - Checking if the fields are present in the particle data...\n",
      "2025-04-24 15:22:01,776 - rubix - DEBUG - Keys in the particle data: dict_keys(['stars'])\n",
      "2025-04-24 15:22:01,776 - rubix - DEBUG - Expected fields: {'PartType4': 'stars', 'PartType0': 'gas'}\n",
      "2025-04-24 15:22:01,776 - rubix - DEBUG - Matching fields: {'stars'}\n",
      "2025-04-24 15:22:01,777 - rubix - DEBUG - Required fields for stars: ['coords', 'mass', 'metallicity', 'velocity', 'age']\n",
      "2025-04-24 15:22:01,777 - rubix - DEBUG - Available fields in particle_data[stars]: ['coords', 'mass', 'metallicity', 'age', 'velocity']\n",
      "2025-04-24 15:22:01,778 - rubix - INFO - Rubix file saved at output/rubix_galaxy.h5\n",
      "2025-04-24 15:22:01,778 - rubix - DEBUG - Creating Rubix file at path: output/rubix_galaxy.h5\n",
      "2025-04-24 15:22:01,786 - rubix - DEBUG - Converting redshift for galaxy data into \n",
      "2025-04-24 15:22:01,788 - rubix - DEBUG - Converting center for galaxy data into kpc\n",
      "2025-04-24 15:22:01,789 - rubix - DEBUG - Converting halfmassrad_stars for galaxy data into kpc\n",
      "2025-04-24 15:22:01,790 - rubix - DEBUG - Converting coords for particle type stars into kpc\n",
      "2025-04-24 15:22:01,815 - rubix - DEBUG - Converting mass for particle type stars into Msun\n",
      "2025-04-24 15:22:01,822 - rubix - DEBUG - Converting metallicity for particle type stars into \n",
      "2025-04-24 15:22:01,876 - rubix - DEBUG - Converting age for particle type stars into Gyr\n",
      "2025-04-24 15:22:01,885 - rubix - DEBUG - Converting velocity for particle type stars into km/s\n",
      "2025-04-24 15:22:01,922 - rubix - INFO - Rubix file saved at output/rubix_galaxy.h5\n",
      "2025-04-24 15:22:02,014 - rubix - INFO - Centering stars particles\n"
     ]
    },
    {
     "name": "stdout",
     "output_type": "stream",
     "text": [
      "Converted to Rubix format!\n"
     ]
    },
    {
     "name": "stderr",
     "output_type": "stream",
     "text": [
      "2025-04-24 15:22:04,139 - rubix - WARNING - The Subset value is set in config. Using only subset of size 10000 for stars\n",
      "2025-04-24 15:22:04,141 - rubix - INFO - Data loaded with 10000 star particles and 0 gas particles.\n",
      "2025-04-24 15:22:04,142 - rubix - INFO - Setting up the pipeline...\n",
      "2025-04-24 15:22:04,142 - rubix - DEBUG - Pipeline Configuration: {'Transformers': {'rotate_galaxy': {'name': 'rotate_galaxy', 'depends_on': None, 'args': [], 'kwargs': {}}, 'filter_particles': {'name': 'filter_particles', 'depends_on': 'rotate_galaxy', 'args': [], 'kwargs': {}}, 'spaxel_assignment': {'name': 'spaxel_assignment', 'depends_on': 'filter_particles', 'args': [], 'kwargs': {}}, 'calculate_spectra': {'name': 'calculate_spectra', 'depends_on': 'spaxel_assignment', 'args': [], 'kwargs': {}}, 'scale_spectrum_by_mass': {'name': 'scale_spectrum_by_mass', 'depends_on': 'calculate_spectra', 'args': [], 'kwargs': {}}, 'doppler_shift_and_resampling': {'name': 'doppler_shift_and_resampling', 'depends_on': 'scale_spectrum_by_mass', 'args': [], 'kwargs': {}}, 'calculate_datacube': {'name': 'calculate_datacube', 'depends_on': 'doppler_shift_and_resampling', 'args': [], 'kwargs': {}}, 'convolve_psf': {'name': 'convolve_psf', 'depends_on': 'calculate_datacube', 'args': [], 'kwargs': {}}, 'convolve_lsf': {'name': 'convolve_lsf', 'depends_on': 'convolve_psf', 'args': [], 'kwargs': {}}, 'apply_noise': {'name': 'apply_noise', 'depends_on': 'convolve_lsf', 'args': [], 'kwargs': {}}}}\n",
      "2025-04-24 15:22:04,143 - rubix - DEBUG - Roataion Type found: edge-on\n",
      "2025-04-24 15:22:04,145 - rubix - INFO - Calculating spatial bin edges...\n",
      "/export/home/aschaibl/rubix/rubix/telescope/factory.py:24: UserWarning: No telescope config provided, using default stored in /export/home/aschaibl/rubix/rubix/telescope/telescopes.yaml\n",
      "  warnings.warn(\n",
      "2025-04-24 15:22:04,163 - rubix - INFO - Getting cosmology...\n",
      "/export/home/aschaibl/rubix/rubix/telescope/factory.py:24: UserWarning: No telescope config provided, using default stored in /export/home/aschaibl/rubix/rubix/telescope/telescopes.yaml\n",
      "  warnings.warn(\n",
      "2025-04-24 15:22:04,607 - rubix - INFO - Calculating spatial bin edges...\n",
      "/export/home/aschaibl/rubix/rubix/telescope/factory.py:24: UserWarning: No telescope config provided, using default stored in /export/home/aschaibl/rubix/rubix/telescope/telescopes.yaml\n",
      "  warnings.warn(\n",
      "2025-04-24 15:22:04,626 - rubix - INFO - Getting cosmology...\n",
      "2025-04-24 15:22:04,709 - rubix - DEBUG - Method not defined, using default method: cubic\n",
      "2025-04-24 15:22:04,798 - rubix - DEBUG - Method not defined, using default method: cubic\n",
      "/export/home/aschaibl/rubix/rubix/telescope/factory.py:24: UserWarning: No telescope config provided, using default stored in /export/home/aschaibl/rubix/rubix/telescope/telescopes.yaml\n",
      "  warnings.warn(\n",
      "2025-04-24 15:22:04,938 - rubix - DEBUG - SSP Wave: (5994,)\n",
      "/export/home/aschaibl/rubix/rubix/telescope/factory.py:24: UserWarning: No telescope config provided, using default stored in /export/home/aschaibl/rubix/rubix/telescope/telescopes.yaml\n",
      "  warnings.warn(\n",
      "2025-04-24 15:22:04,956 - rubix - INFO - Getting cosmology...\n",
      "/export/home/aschaibl/rubix/rubix/telescope/factory.py:24: UserWarning: No telescope config provided, using default stored in /export/home/aschaibl/rubix/rubix/telescope/telescopes.yaml\n",
      "  warnings.warn(\n",
      "/export/home/aschaibl/rubix/rubix/telescope/factory.py:24: UserWarning: No telescope config provided, using default stored in /export/home/aschaibl/rubix/rubix/telescope/telescopes.yaml\n",
      "  warnings.warn(\n",
      "2025-04-24 15:22:05,573 - rubix - INFO - Assembling the pipeline...\n",
      "2025-04-24 15:22:05,575 - rubix - INFO - Compiling the expressions...\n",
      "2025-04-24 15:22:05,575 - rubix - INFO - Number of devices: 4\n",
      "2025-04-24 15:22:05,578 - rubix - INFO - Rotating galaxy with alpha=90.0, beta=0.0, gamma=0.0\n",
      "2025-04-24 15:22:05,687 - rubix - INFO - Filtering particles outside the aperture...\n",
      "2025-04-24 15:22:05,693 - rubix - INFO - Assigning particles to spaxels...\n",
      "2025-04-24 15:22:05,722 - rubix - INFO - Calculating IFU cube...\n",
      "2025-04-24 15:22:05,723 - rubix - DEBUG - Input shapes: Metallicity: 10000, Age: 10000\n",
      "2025-04-24 15:22:05,869 - rubix - DEBUG - Calculation Finished! Spectra shape: (10000, 5994)\n",
      "2025-04-24 15:22:05,870 - rubix - INFO - Scaling Spectra by Mass...\n",
      "2025-04-24 15:22:05,876 - rubix - INFO - Doppler shifting and resampling spectra...\n",
      "2025-04-24 15:22:05,877 - rubix - DEBUG - Doppler Shifted SSP Wave: (10000, 5994)\n",
      "2025-04-24 15:22:05,878 - rubix - DEBUG - Telescope Wave Seq: (3721,)\n",
      "2025-04-24 15:22:05,949 - rubix - INFO - Calculating Data Cube...\n",
      "2025-04-24 15:22:05,952 - rubix - DEBUG - Datacube Shape: (25, 25, 3721)\n",
      "2025-04-24 15:22:05,953 - rubix - INFO - Convolving with PSF...\n",
      "2025-04-24 15:22:05,957 - rubix - INFO - Convolving with LSF...\n",
      "2025-04-24 15:22:05,963 - rubix - INFO - Applying noise to datacube with signal to noise ratio: 1 and noise distribution: normal\n",
      "E0424 15:22:24.952429 3558774 pjrt_stream_executor_client.cc:2839] Execution of replica 0 failed: INTERNAL: jaxlib/gpu/solver_handle_pool.cc:37: operation gpusolverDnCreate(&handle) failed: cuSolver internal error\n",
      "E0424 15:22:24.957338 3558777 pjrt_stream_executor_client.cc:2839] Execution of replica 0 failed: INTERNAL: jaxlib/gpu/solver_handle_pool.cc:37: operation gpusolverDnCreate(&handle) failed: cuSolver internal error\n"
     ]
    }
   ],
   "source": [
    "#NBVAL_SKIP\n",
    "\n",
    "inputdata = pipe.prepare_data()\n",
    "shard_rubixdata = pipe.run_sharded(inputdata)"
   ]
  },
  {
   "cell_type": "markdown",
   "metadata": {},
   "source": [
    "## Step 4: Mock-data\n",
    "\n",
    "Now we have our final datacube and can use the mock-data to do science. Here we have a quick look in the optical wavelengthrange of the mock-datacube and show the spectra of a central spaxel and a spatial image."
   ]
  },
  {
   "cell_type": "code",
   "execution_count": null,
   "metadata": {},
   "outputs": [],
   "source": [
    "#NBVAL_SKIP\n",
    "import jax.numpy as jnp\n",
    "\n",
    "wave = pipe.telescope.wave_seq\n",
    "# get the indices of the visible wavelengths of 4000-8000 Angstroms\n",
    "visible_indices = jnp.where((wave >= 4000) & (wave <= 8000))\n"
   ]
  },
  {
   "cell_type": "markdown",
   "metadata": {},
   "source": [
    "This is how you can access the spectrum of an individual spaxel, the wavelength can be accessed via `pipe.wave_seq`"
   ]
  },
  {
   "cell_type": "code",
   "execution_count": null,
   "metadata": {},
   "outputs": [
    {
     "data": {
      "text/plain": [
       "[<matplotlib.lines.Line2D at 0x7cc08003e050>]"
      ]
     },
     "execution_count": 9,
     "metadata": {},
     "output_type": "execute_result"
    },
    {
     "data": {
      "image/png": "[encoded data removed]",
      "text/plain": [
       "<Figure size 640x480 with 1 Axes>"
      ]
     },
     "metadata": {},
     "output_type": "display_data"
    }
   ],
   "source": [
    "#NBVAL_SKIP\n",
    "wave = pipe.telescope.wave_seq\n",
    "\n",
    "#spectra = rubixdata.stars.datacube # Spectra of all stars\n",
    "spectra_sharded = shard_rubixdata # Spectra of all stars\n",
    "#print(spectra.shape)\n",
    "\n",
    "#plt.plot(wave, spectra[12,12,:])\n",
    "plt.plot(wave, spectra_sharded[12,12,:])"
   ]
  },
  {
   "cell_type": "markdown",
   "metadata": {},
   "source": [
    "Plot a spacial image of the data cube"
   ]
  },
  {
   "cell_type": "code",
   "execution_count": null,
   "metadata": {},
   "outputs": [
    {
     "ename": "NameError",
     "evalue": "name 'rubixdata' is not defined",
     "output_type": "error",
     "traceback": [
      "\u001b[0;31m---------------------------------------------------------------------------\u001b[0m",
      "\u001b[0;31mNameError\u001b[0m                                 Traceback (most recent call last)",
      "Cell \u001b[0;32mIn[10], line 3\u001b[0m\n\u001b[1;32m      1\u001b[0m \u001b[38;5;66;03m#NBVAL_SKIP\u001b[39;00m\n\u001b[1;32m      2\u001b[0m \u001b[38;5;66;03m# get the spectra of the visible wavelengths from the ifu cube\u001b[39;00m\n\u001b[0;32m----> 3\u001b[0m visible_spectra \u001b[38;5;241m=\u001b[39m \u001b[43mrubixdata\u001b[49m\u001b[38;5;241m.\u001b[39mstars\u001b[38;5;241m.\u001b[39mdatacube[ :, :, visible_indices[\u001b[38;5;241m0\u001b[39m]]\n\u001b[1;32m      4\u001b[0m sharded_visible_spectra \u001b[38;5;241m=\u001b[39m shard_rubixdata[ :, :, visible_indices[\u001b[38;5;241m0\u001b[39m]]\n\u001b[1;32m      5\u001b[0m \u001b[38;5;66;03m#visible_spectra.shape\u001b[39;00m\n",
      "\u001b[0;31mNameError\u001b[0m: name 'rubixdata' is not defined"
     ]
    }
   ],
   "source": [
    "#NBVAL_SKIP\n",
    "# get the spectra of the visible wavelengths from the ifu cube\n",
    "visible_spectra = rubixdata.stars.datacube[ :, :, visible_indices[0]]\n",
    "sharded_visible_spectra = shard_rubixdata[ :, :, visible_indices[0]]\n",
    "#visible_spectra.shape\n",
    "\n",
    "image = jnp.sum(visible_spectra, axis=2)\n",
    "sharded_image = jnp.sum(sharded_visible_spectra, axis=2)\n",
    "\n",
    "# Plot side by side\n",
    "fig, axes = plt.subplots(1, 2, figsize=(12, 5))\n",
    "\n",
    "# Original IFU datacube image\n",
    "im0 = axes[0].imshow(image, origin=\"lower\", cmap=\"inferno\")\n",
    "axes[0].set_title(\"Original IFU Datacube\")\n",
    "fig.colorbar(im0, ax=axes[0])\n",
    "\n",
    "# Sharded IFU datacube image\n",
    "im1 = axes[1].imshow(sharded_image, origin=\"lower\", cmap=\"inferno\")\n",
    "axes[1].set_title(\"Sharded IFU Datacube\")\n",
    "fig.colorbar(im1, ax=axes[1])\n",
    "\n",
    "plt.tight_layout()\n",
    "plt.show()"
   ]
  },
  {
   "cell_type": "markdown",
   "metadata": {},
   "source": [
    "## DONE!\n",
    "\n",
    "Congratulations, you have sucessfully run the RUBIX pipeline to create your own mock-observed IFU datacube! Now enjoy playing around with the RUBIX pipeline and enjoy doing amazing science with RUBIX :)"
   ]
  }
 ],
 "metadata": {
  "kernelspec": {
   "display_name": "rubix",
   "language": "python",
   "name": "python3"
  },
  "language_info": {
   "codemirror_mode": {
    "name": "ipython",
    "version": 3
   },
   "file_extension": ".py",
   "mimetype": "text/x-python",
   "name": "python",
   "nbconvert_exporter": "python",
   "pygments_lexer": "ipython3",
   "version": "3.11.9"
  }
 },
 "nbformat": 4,
 "nbformat_minor": 2
}
