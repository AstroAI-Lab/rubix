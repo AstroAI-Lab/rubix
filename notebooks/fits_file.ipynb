{
 "cells": [
  {
   "cell_type": "markdown",
   "metadata": {},
   "source": [
    "# Fits files\n",
    "\n",
    "In this notebook we show, how you can store your mock datacube in a fits file, which is the common format in which are observational data handled. We firtss create a mock IFU cube by running the RUBIX pipeline, store it then in a fits file and then lod the data from the fits file."
   ]
  },
  {
   "cell_type": "code",
   "execution_count": null,
   "metadata": {},
   "outputs": [],
   "source": [
    "# NBVAL_SKIP\n",
    "import matplotlib.pyplot as plt\n",
    "import os\n",
    "from rubix.core.pipeline import RubixPipeline\n",
    "\n",
    "# Define Illustris configuration\n",
    "config_illustris = {\n",
    "    \"pipeline\": {\"name\": \"calc_ifu\"},\n",
    "    \"logger\": {\"log_level\": \"DEBUG\", \"log_file_path\": None, \"format\": \"%(asctime)s - %(name)s - %(levelname)s - %(message)s\"},\n",
    "    \"data\": {\n",
    "        \"name\": \"IllustrisAPI\",\n",
    "        \"args\": {\n",
    "            \"api_key\": os.environ.get(\"ILLUSTRIS_API_KEY\"),\n",
    "            \"particle_type\": [\"stars\", \"gas\"],\n",
    "            \"simulation\": \"TNG50-1\",\n",
    "            \"snapshot\": 99,\n",
    "            \"save_data_path\": \"data\",\n",
    "        },\n",
    "        \"load_galaxy_args\": {\"id\": 11, \"reuse\": True},\n",
    "        \"subset\": {\"use_subset\": True, \"subset_size\": 1000},\n",
    "    },\n",
    "    \"simulation\": {\"name\": \"IllustrisTNG\", \"args\": {\"path\": \"data/galaxy-id-11.hdf5\"}},\n",
    "    \"output_path\": \"output\",\n",
    "    \"telescope\": {\"name\": \"MUSE\", \"psf\": {\"name\": \"gaussian\", \"size\": 5, \"sigma\": 0.6}, \"lsf\": {\"sigma\": 0.5}, \"noise\": {\"signal_to_noise\": 10, \"noise_distribution\": \"normal\"}},\n",
    "    \"cosmology\": {\"name\": \"PLANCK15\"},\n",
    "    \"galaxy\": {\"dist_z\": 0.1, \"rotation\": {\"type\": \"edge-on\"}},\n",
    "    \"ssp\": {\"template\": {\"name\": \"BruzualCharlot2003\"}},\n",
    "}\n",
    "\n",
    "# Define NIHAO configuration\n",
    "config_nihao = {\n",
    "    \"pipeline\": {\"name\": \"calc_ifu\"},\n",
    "    \"logger\": {\"log_level\": \"DEBUG\", \"log_file_path\": None, \"format\": \"%(asctime)s - %(name)s - %(levelname)s - %(message)s\"},\n",
    "    \"data\": {\n",
    "        \"name\": \"NihaoHandler\",\n",
    "        \"args\": {\n",
    "            \"particle_type\": [\"stars\", \"gas\"],\n",
    "            \"save_data_path\": \"data\",\n",
    "            \"snapshot\": \"2000\",\n",
    "        },\n",
    "        \"load_galaxy_args\": {\"reuse\": True, \"id\": \"g8.26e11\"},\n",
    "        \"subset\": {\"use_subset\": True, \"subset_size\": 1000},\n",
    "    },\n",
    "    \"simulation\": {\n",
    "        \"name\": \"NIHAO\",\n",
    "        \"args\": {\n",
    "            \"path\": '/mnt/storage/_data/nihao/nihao_classic/g8.26e11/g8.26e11.02000',\n",
    "            \"halo_path\": '/mnt/storage/_data/nihao/nihao_classic/g8.26e11/g8.26e11.02000.z0.000.AHF_halos',\n",
    "            \"halo_id\": 0,\n",
    "        },\n",
    "    },\n",
    "    \"output_path\": \"output\",\n",
    "    \"telescope\": {\"name\": \"MUSE\", \"psf\": {\"name\": \"gaussian\", \"size\": 5, \"sigma\": 0.6}, \"lsf\": {\"sigma\": 0.5}, \"noise\": {\"signal_to_noise\": 1, \"noise_distribution\": \"normal\"}},\n",
    "    \"cosmology\": {\"name\": \"PLANCK15\"},\n",
    "    \"galaxy\": {\"dist_z\": 0.1, \"rotation\": {\"type\": \"face-on\"}},\n",
    "    \"ssp\": {\"template\": {\"name\": \"BruzualCharlot2003\"}},\n",
    "}\n",
    "\n",
    "# Select which configuration to use\n",
    "# Change this variable to 'illustris' or 'nihao' to switch datasets\n",
    "simulation_type = \"illustris\"  # or \"nihao\"\n",
    "\n",
    "config = config_illustris if simulation_type == \"illustris\" else config_nihao\n",
    "\n",
    "# Run pipeline\n",
    "pipe = RubixPipeline(config)\n",
    "data = pipe.run()"
   ]
  },
  {
   "cell_type": "code",
   "execution_count": null,
   "metadata": {},
   "outputs": [],
   "source": [
    "#NBVAL_SKIP\n",
    "datacube = data.stars.datacube\n",
    "\n",
    "img = datacube.sum(axis=2)\n",
    "plt.imshow(img, origin=\"lower\")"
   ]
  },
  {
   "cell_type": "markdown",
   "metadata": {},
   "source": [
    "# Store datacube in a fits file with header\n",
    "\n",
    "In RUBIX we implemented a function that automaticly takes the relevant information from the config and writes it into the header. Then the header and data are stored in a fits file. All is done with the store_fits function from the rubix.core.fits module."
   ]
  },
  {
   "cell_type": "code",
   "execution_count": null,
   "metadata": {},
   "outputs": [],
   "source": [
    "#NBVAL_SKIP\n",
    "from rubix.core.fits import store_fits\n",
    "\n",
    "store_fits(config, data, \"output/\")"
   ]
  },
  {
   "cell_type": "markdown",
   "metadata": {},
   "source": [
    "# Load datacube from fits file\n",
    "\n",
    "We implemented a function to load a fits file. It is based on MPDAF, which is a package to handle MUSE IFU cubes. You can load your datacube by the following line and access all kind of information from the fitsfile."
   ]
  },
  {
   "cell_type": "code",
   "execution_count": null,
   "metadata": {},
   "outputs": [],
   "source": [
    "#NBVAL_SKIP\n",
    "from rubix.core.fits import load_fits\n",
    "\n",
    "cube = load_fits(\"output/IllustrisTNG_id11_snap99_stars_subsetTrue.fits\") #if you use NIHAO, you have to insert the NIHAO fits file"
   ]
  },
  {
   "cell_type": "code",
   "execution_count": null,
   "metadata": {},
   "outputs": [],
   "source": [
    "#NBVAL_SKIP\n",
    "cube.shape"
   ]
  },
  {
   "cell_type": "code",
   "execution_count": null,
   "metadata": {},
   "outputs": [],
   "source": [
    "#NBVAL_SKIP\n",
    "cube.info()"
   ]
  },
  {
   "cell_type": "code",
   "execution_count": null,
   "metadata": {},
   "outputs": [],
   "source": [
    "#NBVAL_SKIP\n",
    "cube.primary_header"
   ]
  },
  {
   "cell_type": "code",
   "execution_count": null,
   "metadata": {},
   "outputs": [],
   "source": [
    "#NBVAL_SKIP\n",
    "import matplotlib.pyplot as plt\n",
    "\n",
    "image1 = cube[0,:,:]\n",
    "\n",
    "plt.figure()\n",
    "image1.plot(colorbar='v', title = '$\\lambda$ = %.1f (%s)' %(cube.wave.coord(1000), cube.wave.unit))\n",
    "plt.show()"
   ]
  }
 ],
 "metadata": {
  "kernelspec": {
   "display_name": "venv",
   "language": "python",
   "name": "python3"
  },
  "language_info": {
   "codemirror_mode": {
    "name": "ipython",
    "version": 3
   },
   "file_extension": ".py",
   "mimetype": "text/x-python",
   "name": "python",
   "nbconvert_exporter": "python",
   "pygments_lexer": "ipython3",
   "version": "3.12.3"
  }
 },
 "nbformat": 4,
 "nbformat_minor": 2
}
