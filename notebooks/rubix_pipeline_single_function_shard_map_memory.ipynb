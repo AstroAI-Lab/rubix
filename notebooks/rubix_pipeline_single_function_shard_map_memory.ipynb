{
 "cells": [
  {
   "cell_type": "code",
   "execution_count": 1,
   "metadata": {},
   "outputs": [],
   "source": [
    "from jax import config\n",
    "config.update(\"jax_enable_x64\", True)\n",
    "\n",
    "# if we're running on CPU, need to pre-specify # cores for explicit parallelism\n",
    "# used to have to do import os; os.environ[\"XLA_FLAGS\"] = \"--xla_force_host_platform_device_count=8\"\n",
    "config.update('jax_num_cpu_devices', 32)"
   ]
  },
  {
   "cell_type": "code",
   "execution_count": 2,
   "metadata": {},
   "outputs": [
    {
     "name": "stdout",
     "output_type": "stream",
     "text": [
      "[CpuDevice(id=0), CpuDevice(id=1), CpuDevice(id=2), CpuDevice(id=3), CpuDevice(id=4), CpuDevice(id=5), CpuDevice(id=6), CpuDevice(id=7), CpuDevice(id=8), CpuDevice(id=9), CpuDevice(id=10), CpuDevice(id=11), CpuDevice(id=12), CpuDevice(id=13), CpuDevice(id=14), CpuDevice(id=15), CpuDevice(id=16), CpuDevice(id=17), CpuDevice(id=18), CpuDevice(id=19), CpuDevice(id=20), CpuDevice(id=21), CpuDevice(id=22), CpuDevice(id=23), CpuDevice(id=24), CpuDevice(id=25), CpuDevice(id=26), CpuDevice(id=27), CpuDevice(id=28), CpuDevice(id=29), CpuDevice(id=30), CpuDevice(id=31)]\n"
     ]
    }
   ],
   "source": [
    "#NBVAL_SKIP\n",
    "import os\n",
    "\n",
    "# Tell XLA to fake 2 host CPU devices\n",
    "#os.environ['XLA_FLAGS'] = '--xla_force_host_platform_device_count=3'\n",
    "\n",
    "# Only make GPU 0 and GPU 1 visible to JAX:\n",
    "#os.environ['CUDA_VISIBLE_DEVICES'] = '0,1,2,3,4,5'\n",
    "\n",
    "#os.environ[\"XLA_PYTHON_CLIENT_PREALLOCATE\"]   = \"false\"\n",
    "\n",
    "import jax\n",
    "\n",
    "# Now JAX will list two CpuDevice entries\n",
    "print(jax.devices())\n",
    "# → [CpuDevice(id=0), CpuDevice(id=1)]"
   ]
  },
  {
   "cell_type": "code",
   "execution_count": 3,
   "metadata": {},
   "outputs": [],
   "source": [
    "# NBVAL_SKIP\n",
    "#import os\n",
    "#  os.environ['SPS_HOME'] = '/mnt/storage/annalena_data/sps_fsps'\n",
    "#os.environ['SPS_HOME'] = '/home/annalena/sps_fsps'\n",
    "#os.environ['SPS_HOME'] = '/Users/annalena/Documents/GitHub/fsps'\n",
    "#os.environ['SPS_HOME'] = '/export/home/aschaibl/fsps'\n",
    "os.environ['SPS_HOME'] = '/home/annalena_data/sps_fsps'"
   ]
  },
  {
   "cell_type": "markdown",
   "metadata": {},
   "source": [
    "# RUBIX pipeline\n",
    "\n",
    "RUBIX is designed as a linear pipeline, where the individual functions are called and constructed as a pipeline. This allows as to execude the whole data transformation from a cosmological hydrodynamical simulation of a galaxy to an IFU cube in two lines of code. This notebook shows, how to execute the pipeline. To see, how the pipeline is execuded in small individual steps per individual function, we refer to the notebook `rubix_pipeline_stepwise.ipynb`.\n",
    "\n",
    "## How to use the Pipeline\n",
    "1) Define a `config`\n",
    "2) Setup the `pipeline yaml`\n",
    "3) Run the RUBIX pipeline\n",
    "4) Do science with the mock-data"
   ]
  },
  {
   "cell_type": "markdown",
   "metadata": {},
   "source": [
    "## Step 1: Config\n",
    "\n",
    "The `config` contains all the information needed to run the pipeline. Those are run specfic configurations. Currently we just support Illustris as simulation, but extensions to other simulations (e.g. NIHAO) are planned.\n",
    "\n",
    "For the `config` you can choose the following options:\n",
    "- `pipeline`: you specify the name of the pipeline that is stored in the yaml file in rubix/config/pipeline_config.yml\n",
    "- `logger`: RUBIX has implemented a logger to report the user, what is happening during the pipeline execution and give warnings\n",
    "- `data - args - particle_type`: load only stars particle (\"particle_type\": [\"stars\"]) or only gas particle (\"particle_type\": [\"gas\"]) or both (\"particle_type\": [\"stars\",\"gas\"])\n",
    "- `data - args - simulation`: choose the Illustris simulation (e.g. \"simulation\": \"TNG50-1\")\n",
    "- `data - args - snapshot`: which time step of the simulation (99 for present day)\n",
    "- `data - args - save_data_path`: set the path to save the downloaded Illustris data\n",
    "- `data - load_galaxy_args - id`: define, which Illustris galaxy is downloaded\n",
    "- `data - load_galaxy_args - reuse`: if True, if in th esave_data_path directory a file for this galaxy id already exists, the downloading is skipped and the preexisting file is used\n",
    "- `data - subset`: only a defined number of stars/gas particles is used and stored for the pipeline. This may be helpful for quick testing\n",
    "- `simulation - name`: currently only IllustrisTNG is supported\n",
    "- `simulation - args - path`: where the data is stored and how the file will be named\n",
    "- `output_path`: where the hdf5 file is stored, which is then the input to the RUBIX pipeline\n",
    "- `telescope - name`: define the telescope instrument that is observing the simulation. Some telescopes are predefined, e.g. MUSE. If your instrument does not exist predefined, you can easily define your instrument in rubix/telescope/telescopes.yaml\n",
    "- `telescope - psf`: define the point spread function that is applied to the mock data\n",
    "- `telescope - lsf`: define the line spread function that is applied to the mock data\n",
    "- `telescope - noise`: define the noise that is applied to the mock data\n",
    "- `cosmology`: specify the cosmology you want to use, standard for RUBIX is \"PLANCK15\"\n",
    "- `galaxy - dist_z`: specify at which redshift the mock-galaxy is observed\n",
    "- `galaxy - rotation`: specify the orientation of the galaxy. You can set the types edge-on or face-on or specify the angles alpha, beta and gamma as rotations around x-, y- and z-axis\n",
    "- `ssp - template`: specify the simple stellar population lookup template to get the stellar spectrum for each stars particle. In RUBIX frequently \"BruzualCharlot2003\" is used."
   ]
  },
  {
   "cell_type": "code",
   "execution_count": 4,
   "metadata": {},
   "outputs": [
    {
     "name": "stderr",
     "output_type": "stream",
     "text": [
      "2025-06-06 11:39:49,068 - rubix - INFO - \n",
      "   ___  __  _____  _____  __\n",
      "  / _ \\/ / / / _ )/  _/ |/_/\n",
      " / , _/ /_/ / _  |/ /_>  <\n",
      "/_/|_|\\____/____/___/_/|_|\n",
      "\n",
      "\n",
      "2025-06-06 11:39:49,069 - rubix - INFO - Rubix version: 0.0.post447+g8128662.d20250605\n",
      "2025-06-06 11:39:49,069 - rubix - INFO - JAX version: 0.6.0\n",
      "2025-06-06 11:39:49,070 - rubix - INFO - Running on [CpuDevice(id=0), CpuDevice(id=1), CpuDevice(id=2), CpuDevice(id=3), CpuDevice(id=4), CpuDevice(id=5), CpuDevice(id=6), CpuDevice(id=7), CpuDevice(id=8), CpuDevice(id=9), CpuDevice(id=10), CpuDevice(id=11), CpuDevice(id=12), CpuDevice(id=13), CpuDevice(id=14), CpuDevice(id=15), CpuDevice(id=16), CpuDevice(id=17), CpuDevice(id=18), CpuDevice(id=19), CpuDevice(id=20), CpuDevice(id=21), CpuDevice(id=22), CpuDevice(id=23), CpuDevice(id=24), CpuDevice(id=25), CpuDevice(id=26), CpuDevice(id=27), CpuDevice(id=28), CpuDevice(id=29), CpuDevice(id=30), CpuDevice(id=31)] devices\n"
     ]
    }
   ],
   "source": [
    "#NBVAL_SKIP\n",
    "import matplotlib.pyplot as plt\n",
    "from rubix.core.pipeline import RubixPipeline \n",
    "import os\n",
    "\n",
    "galaxy_id = \"g8.13e11\"\n",
    "\n",
    "config_NIHAO = {\n",
    "    \"pipeline\":{\"name\": \"calc_ifu_memory\"},\n",
    "    \n",
    "    \"logger\": {\n",
    "        \"log_level\": \"DEBUG\",\n",
    "        \"log_file_path\": None,\n",
    "        \"format\": \"%(asctime)s - %(name)s - %(levelname)s - %(message)s\",\n",
    "    },\n",
    "    \"data\": {\n",
    "        \"name\": \"NihaoHandler\",\n",
    "        \"args\": {\n",
    "            \"particle_type\": [\"stars\"],\n",
    "            \"save_data_path\": \"data\",\n",
    "            \"snapshot\": \"1024\",\n",
    "        },\n",
    "        \"load_galaxy_args\": {\"reuse\": True, \"id\": galaxy_id},\n",
    "        \"subset\": {\"use_subset\": True, \"subset_size\": 100},\n",
    "    },\n",
    "    \"simulation\": {\n",
    "        \"name\": \"NIHAO\",\n",
    "        \"args\": {\n",
    "            \"path\": f'/home/_data/nihao/nihao_classic/{galaxy_id}/{galaxy_id}.01024',\n",
    "            \"halo_path\": f'/home/_data/nihao/nihao_classic/{galaxy_id}/{galaxy_id}.01024.z0.000.AHF_halos',\n",
    "            \"halo_id\": 0,\n",
    "        },\n",
    "    },\n",
    "    \"output_path\": \"output\",\n",
    "\n",
    "    \"telescope\":\n",
    "        {\"name\": \"MUSE\",\n",
    "         \"psf\": {\"name\": \"gaussian\", \"size\": 5, \"sigma\": 0.6},\n",
    "         \"lsf\": {\"sigma\": 0.5},\n",
    "         \"noise\": {\"signal_to_noise\": 100,\"noise_distribution\": \"normal\"},},\n",
    "    \"cosmology\":\n",
    "        {\"name\": \"PLANCK15\"},\n",
    "        \n",
    "    \"galaxy\":\n",
    "        {\"dist_z\": 0.1,\n",
    "         \"rotation\": {\"type\": \"edge-on\"},\n",
    "        },\n",
    "        \n",
    "    \"ssp\": {\n",
    "        \"template\": {\n",
    "            \"name\": \"FSPS\" #\"Mastar_CB19_SLOG_1_5\"\n",
    "        },\n",
    "        \"dust\": {\n",
    "                \"extinction_model\": \"Cardelli89\",\n",
    "                \"dust_to_gas_ratio\": 0.01,\n",
    "                \"dust_to_metals_ratio\": 0.4,\n",
    "                \"dust_grain_density\": 3.5,\n",
    "                \"Rv\": 3.1,\n",
    "            },\n",
    "    },        \n",
    "}"
   ]
  },
  {
   "cell_type": "code",
   "execution_count": 5,
   "metadata": {},
   "outputs": [],
   "source": [
    "config_TNG = {\n",
    "    \"pipeline\":{\"name\": \"calc_ifu_memory\"},\n",
    "    \n",
    "    \"logger\": {\n",
    "        \"log_level\": \"DEBUG\",\n",
    "        \"log_file_path\": None,\n",
    "        \"format\": \"%(asctime)s - %(name)s - %(levelname)s - %(message)s\",\n",
    "    },\n",
    "    \"data\": {\n",
    "        \"name\": \"IllustrisAPI\",\n",
    "        \"args\": {\n",
    "            \"api_key\": os.environ.get(\"ILLUSTRIS_API_KEY\"),\n",
    "            \"particle_type\": [\"stars\"],\n",
    "            \"simulation\": \"TNG50-1\",\n",
    "            \"snapshot\": 99,\n",
    "            \"save_data_path\": \"data\",\n",
    "        },\n",
    "        \n",
    "        \"load_galaxy_args\": {\n",
    "        \"id\": 14,\n",
    "        \"reuse\": True,\n",
    "        },\n",
    "        \n",
    "        \"subset\": {\n",
    "            \"use_subset\": True,\n",
    "            \"subset_size\": 2000,\n",
    "        },\n",
    "    },\n",
    "    \"simulation\": {\n",
    "        \"name\": \"IllustrisTNG\",\n",
    "        \"args\": {\n",
    "            \"path\": \"data/galaxy-id-14.hdf5\",\n",
    "        },\n",
    "    \n",
    "    },\n",
    "    \"output_path\": \"output\",\n",
    "\n",
    "    \"telescope\":\n",
    "        {\"name\": \"MUSE\",\n",
    "         \"psf\": {\"name\": \"gaussian\", \"size\": 5, \"sigma\": 0.6},\n",
    "         \"lsf\": {\"sigma\": 0.5},\n",
    "         \"noise\": {\"signal_to_noise\": 100,\"noise_distribution\": \"normal\"},},\n",
    "    \"cosmology\":\n",
    "        {\"name\": \"PLANCK15\"},\n",
    "        \n",
    "    \"galaxy\":\n",
    "        {\"dist_z\": 0.1,\n",
    "         \"rotation\": {\"type\": \"edge-on\"},\n",
    "        },\n",
    "        \n",
    "    \"ssp\": {\n",
    "        \"template\": {\n",
    "            \"name\": \"FSPS\", #\"Mastar_CB19_SLOG_1_5\"\n",
    "        },\n",
    "        \"dust\": {\n",
    "                \"extinction_model\": \"Cardelli89\",\n",
    "                \"dust_to_gas_ratio\": 0.01,\n",
    "                \"dust_to_metals_ratio\": 0.4,\n",
    "                \"dust_grain_density\": 3.5,\n",
    "                \"Rv\": 3.1,\n",
    "            },\n",
    "    },        \n",
    "}"
   ]
  },
  {
   "cell_type": "markdown",
   "metadata": {},
   "source": [
    "## Step 2: Pipeline yaml\n",
    "\n",
    "To run the RUBIX pipeline, you need a yaml file (stored in `rubix/config/pipeline_config.yml`) that defines which functions are used during the execution of the pipeline. This shows the example pipeline yaml to compute a stellar IFU cube.\n",
    "\n",
    "```yaml\n",
    "calc_ifu:\n",
    "  Transformers:\n",
    "    rotate_galaxy:\n",
    "      name: rotate_galaxy\n",
    "      depends_on: null\n",
    "      args: []\n",
    "      kwargs:\n",
    "        type: \"face-on\"\n",
    "    filter_particles:\n",
    "      name: filter_particles\n",
    "      depends_on: rotate_galaxy\n",
    "      args: []\n",
    "      kwargs: {}\n",
    "    spaxel_assignment:\n",
    "      name: spaxel_assignment\n",
    "      depends_on: filter_particles\n",
    "      args: []\n",
    "      kwargs: {}\n",
    "\n",
    "    reshape_data:\n",
    "      name: reshape_data\n",
    "      depends_on: spaxel_assignment\n",
    "      args: []\n",
    "      kwargs: {}\n",
    "\n",
    "    calculate_spectra:\n",
    "      name: calculate_spectra\n",
    "      depends_on: reshape_data\n",
    "      args: []\n",
    "      kwargs: {}\n",
    "\n",
    "    scale_spectrum_by_mass:\n",
    "      name: scale_spectrum_by_mass\n",
    "      depends_on: calculate_spectra\n",
    "      args: []\n",
    "      kwargs: {}\n",
    "    doppler_shift_and_resampling:\n",
    "      name: doppler_shift_and_resampling\n",
    "      depends_on: scale_spectrum_by_mass\n",
    "      args: []\n",
    "      kwargs: {}\n",
    "    calculate_datacube:\n",
    "      name: calculate_datacube\n",
    "      depends_on: doppler_shift_and_resampling\n",
    "      args: []\n",
    "      kwargs: {}\n",
    "    convolve_psf:\n",
    "      name: convolve_psf\n",
    "      depends_on: calculate_datacube\n",
    "      args: []\n",
    "      kwargs: {}\n",
    "    convolve_lsf:\n",
    "      name: convolve_lsf\n",
    "      depends_on: convolve_psf\n",
    "      args: []\n",
    "      kwargs: {}\n",
    "    apply_noise:\n",
    "      name: apply_noise\n",
    "      depends_on: convolve_lsf\n",
    "      args: []\n",
    "      kwargs: {}\n",
    "```\n",
    "\n",
    "Ther is one thing you have to know about the naming of the functions in this yaml: To use the functions inside the pipeline, the functions have to be called exactly the same as they are returned from the core module function!"
   ]
  },
  {
   "cell_type": "markdown",
   "metadata": {},
   "source": [
    "## Step 3: Run the pipeline\n",
    "\n",
    "After defining the `config` and the `pipeline_config` you can simply run the whole pipeline by these two lines of code."
   ]
  },
  {
   "cell_type": "code",
   "execution_count": 6,
   "metadata": {},
   "outputs": [
    {
     "name": "stderr",
     "output_type": "stream",
     "text": [
      "/home/annalena/.conda/envs/rubix/lib/python3.12/site-packages/rubix/telescope/factory.py:26: UserWarning: No telescope config provided, using default stored in /home/annalena/.conda/envs/rubix/lib/python3.12/site-packages/rubix/telescope/telescopes.yaml\n",
      "  warnings.warn(\n"
     ]
    }
   ],
   "source": [
    "#NBVAL_SKIP\n",
    "pipe = RubixPipeline(config_NIHAO)"
   ]
  },
  {
   "cell_type": "code",
   "execution_count": 7,
   "metadata": {},
   "outputs": [
    {
     "name": "stderr",
     "output_type": "stream",
     "text": [
      "2025-06-06 11:39:49,528 - rubix - INFO - Getting rubix data...\n",
      "2025-06-06 11:39:49,530 - rubix - INFO - Rubix galaxy file already exists, skipping conversion\n",
      "2025-06-06 11:39:49,601 - rubix - INFO - Centering stars particles\n",
      "2025-06-06 11:39:50,769 - rubix - WARNING - The Subset value is set in config. Using only subset of size 100 for stars\n",
      "2025-06-06 11:39:50,770 - rubix - INFO - Data loaded with 100 star particles and 0 gas particles.\n",
      "2025-06-06 11:39:50,771 - rubix - INFO - Setting up the pipeline...\n",
      "2025-06-06 11:39:50,772 - rubix - DEBUG - Pipeline Configuration: {'Transformers': {'rotate_galaxy': {'name': 'rotate_galaxy', 'depends_on': None, 'args': [], 'kwargs': {}}, 'filter_particles': {'name': 'filter_particles', 'depends_on': 'rotate_galaxy', 'args': [], 'kwargs': {}}, 'spaxel_assignment': {'name': 'spaxel_assignment', 'depends_on': 'filter_particles', 'args': [], 'kwargs': {}}, 'calculate_datacube_particlewise': {'name': 'calculate_datacube_particlewise', 'depends_on': 'spaxel_assignment', 'args': [], 'kwargs': {}}, 'convolve_psf': {'name': 'convolve_psf', 'depends_on': 'calculate_datacube_particlewise', 'args': [], 'kwargs': {}}, 'convolve_lsf': {'name': 'convolve_lsf', 'depends_on': 'convolve_psf', 'args': [], 'kwargs': {}}, 'apply_noise': {'name': 'apply_noise', 'depends_on': 'convolve_lsf', 'args': [], 'kwargs': {}}}}\n",
      "2025-06-06 11:39:50,774 - rubix - DEBUG - Roataion Type found: edge-on\n",
      "2025-06-06 11:39:50,776 - rubix - INFO - Calculating spatial bin edges...\n",
      "/home/annalena/.conda/envs/rubix/lib/python3.12/site-packages/rubix/telescope/factory.py:26: UserWarning: No telescope config provided, using default stored in /home/annalena/.conda/envs/rubix/lib/python3.12/site-packages/rubix/telescope/telescopes.yaml\n",
      "  warnings.warn(\n",
      "2025-06-06 11:39:50,798 - rubix - INFO - Getting cosmology...\n",
      "2025-06-06 11:39:50,964 - rubix - INFO - Calculating spatial bin edges...\n",
      "2025-06-06 11:39:50,973 - rubix - INFO - Getting cosmology...\n",
      "2025-06-06 11:39:50,994 - rubix - DEBUG - Method not defined, using default method: cubic\n",
      "/home/annalena/.conda/envs/rubix/lib/python3.12/site-packages/rubix/telescope/factory.py:26: UserWarning: No telescope config provided, using default stored in /home/annalena/.conda/envs/rubix/lib/python3.12/site-packages/rubix/telescope/telescopes.yaml\n",
      "  warnings.warn(\n",
      "2025-06-06 11:39:51,053 - rubix - DEBUG - SSP Wave: (5994,)\n",
      "/home/annalena/.conda/envs/rubix/lib/python3.12/site-packages/rubix/telescope/factory.py:26: UserWarning: No telescope config provided, using default stored in /home/annalena/.conda/envs/rubix/lib/python3.12/site-packages/rubix/telescope/telescopes.yaml\n",
      "  warnings.warn(\n",
      "2025-06-06 11:39:51,065 - rubix - INFO - Getting cosmology...\n",
      "/home/annalena/.conda/envs/rubix/lib/python3.12/site-packages/rubix/telescope/factory.py:26: UserWarning: No telescope config provided, using default stored in /home/annalena/.conda/envs/rubix/lib/python3.12/site-packages/rubix/telescope/telescopes.yaml\n",
      "  warnings.warn(\n",
      "2025-06-06 11:39:51,118 - rubix - DEBUG - Method not defined, using default method: cubic\n",
      "/home/annalena/.conda/envs/rubix/lib/python3.12/site-packages/rubix/telescope/factory.py:26: UserWarning: No telescope config provided, using default stored in /home/annalena/.conda/envs/rubix/lib/python3.12/site-packages/rubix/telescope/telescopes.yaml\n",
      "  warnings.warn(\n",
      "2025-06-06 11:39:51,311 - rubix - INFO - Assembling the pipeline...\n",
      "2025-06-06 11:39:51,312 - rubix - INFO - Compiling the expressions...\n",
      "2025-06-06 11:39:51,313 - rubix - INFO - Number of devices: 32\n",
      "2025-06-06 11:39:51,505 - rubix - INFO - Rotating galaxy with alpha=90.0, beta=0.0, gamma=0.0\n",
      "2025-06-06 11:39:51,613 - rubix - INFO - Filtering particles outside the aperture...\n",
      "2025-06-06 11:39:51,618 - rubix - INFO - Assigning particles to spaxels...\n",
      "2025-06-06 11:39:51,645 - rubix - INFO - Calculating Data Cube (combined per‐particle)…\n",
      "2025-06-06 11:39:51,877 - rubix - DEBUG - Datacube shape: (25, 25, 3721)\n",
      "2025-06-06 11:39:51,878 - rubix - INFO - Convolving with PSF...\n",
      "2025-06-06 11:39:51,881 - rubix - INFO - Convolving with LSF...\n",
      "2025-06-06 11:39:51,887 - rubix - INFO - Applying noise to datacube with signal to noise ratio: 100 and noise distribution: normal\n",
      "2025-06-06 11:40:00,098 - rubix - INFO - Pipeline run completed in 9.33 seconds.\n"
     ]
    }
   ],
   "source": [
    "#NBVAL_SKIP\n",
    "\n",
    "inputdata = pipe.prepare_data()\n",
    "rubixdata = pipe.run_sharded(inputdata)"
   ]
  },
  {
   "cell_type": "code",
   "execution_count": 8,
   "metadata": {},
   "outputs": [
    {
     "name": "stderr",
     "output_type": "stream",
     "text": [
      "/home/annalena/.conda/envs/rubix/lib/python3.12/site-packages/rubix/telescope/factory.py:26: UserWarning: No telescope config provided, using default stored in /home/annalena/.conda/envs/rubix/lib/python3.12/site-packages/rubix/telescope/telescopes.yaml\n",
      "  warnings.warn(\n",
      "2025-06-06 11:40:00,263 - rubix - INFO - Getting rubix data...\n",
      "2025-06-06 11:40:00,264 - rubix - INFO - Rubix galaxy file already exists, skipping conversion\n",
      "2025-06-06 11:40:00,292 - rubix - INFO - Centering stars particles\n",
      "2025-06-06 11:40:01,096 - rubix - WARNING - The Subset value is set in config. Using only subset of size 100 for stars\n",
      "2025-06-06 11:40:01,109 - rubix - INFO - Data loaded with 100 star particles and 0 gas particles.\n",
      "2025-06-06 11:40:01,110 - rubix - INFO - Setting up the pipeline...\n",
      "2025-06-06 11:40:01,111 - rubix - DEBUG - Pipeline Configuration: {'Transformers': {'rotate_galaxy': {'name': 'rotate_galaxy', 'depends_on': None, 'args': [], 'kwargs': {}}, 'filter_particles': {'name': 'filter_particles', 'depends_on': 'rotate_galaxy', 'args': [], 'kwargs': {}}, 'spaxel_assignment': {'name': 'spaxel_assignment', 'depends_on': 'filter_particles', 'args': [], 'kwargs': {}}, 'calculate_spectra': {'name': 'calculate_spectra', 'depends_on': 'spaxel_assignment', 'args': [], 'kwargs': {}}, 'scale_spectrum_by_mass': {'name': 'scale_spectrum_by_mass', 'depends_on': 'calculate_spectra', 'args': [], 'kwargs': {}}, 'doppler_shift_and_resampling': {'name': 'doppler_shift_and_resampling', 'depends_on': 'scale_spectrum_by_mass', 'args': [], 'kwargs': {}}, 'calculate_datacube': {'name': 'calculate_datacube', 'depends_on': 'doppler_shift_and_resampling', 'args': [], 'kwargs': {}}, 'convolve_psf': {'name': 'convolve_psf', 'depends_on': 'calculate_datacube', 'args': [], 'kwargs': {}}, 'convolve_lsf': {'name': 'convolve_lsf', 'depends_on': 'convolve_psf', 'args': [], 'kwargs': {}}, 'apply_noise': {'name': 'apply_noise', 'depends_on': 'convolve_lsf', 'args': [], 'kwargs': {}}}}\n",
      "2025-06-06 11:40:01,111 - rubix - DEBUG - Roataion Type found: edge-on\n",
      "2025-06-06 11:40:01,113 - rubix - INFO - Calculating spatial bin edges...\n",
      "/home/annalena/.conda/envs/rubix/lib/python3.12/site-packages/rubix/telescope/factory.py:26: UserWarning: No telescope config provided, using default stored in /home/annalena/.conda/envs/rubix/lib/python3.12/site-packages/rubix/telescope/telescopes.yaml\n",
      "  warnings.warn(\n",
      "2025-06-06 11:40:01,124 - rubix - INFO - Getting cosmology...\n",
      "2025-06-06 11:40:01,133 - rubix - INFO - Calculating spatial bin edges...\n",
      "2025-06-06 11:40:01,143 - rubix - INFO - Getting cosmology...\n",
      "2025-06-06 11:40:01,170 - rubix - DEBUG - Method not defined, using default method: cubic\n",
      "/home/annalena/.conda/envs/rubix/lib/python3.12/site-packages/rubix/telescope/factory.py:26: UserWarning: No telescope config provided, using default stored in /home/annalena/.conda/envs/rubix/lib/python3.12/site-packages/rubix/telescope/telescopes.yaml\n",
      "  warnings.warn(\n",
      "2025-06-06 11:40:01,208 - rubix - DEBUG - SSP Wave: (5994,)\n",
      "/home/annalena/.conda/envs/rubix/lib/python3.12/site-packages/rubix/telescope/factory.py:26: UserWarning: No telescope config provided, using default stored in /home/annalena/.conda/envs/rubix/lib/python3.12/site-packages/rubix/telescope/telescopes.yaml\n",
      "  warnings.warn(\n",
      "2025-06-06 11:40:01,221 - rubix - INFO - Getting cosmology...\n",
      "/home/annalena/.conda/envs/rubix/lib/python3.12/site-packages/rubix/telescope/factory.py:26: UserWarning: No telescope config provided, using default stored in /home/annalena/.conda/envs/rubix/lib/python3.12/site-packages/rubix/telescope/telescopes.yaml\n",
      "  warnings.warn(\n",
      "2025-06-06 11:40:01,274 - rubix - DEBUG - Method not defined, using default method: cubic\n",
      "/home/annalena/.conda/envs/rubix/lib/python3.12/site-packages/rubix/telescope/factory.py:26: UserWarning: No telescope config provided, using default stored in /home/annalena/.conda/envs/rubix/lib/python3.12/site-packages/rubix/telescope/telescopes.yaml\n",
      "  warnings.warn(\n",
      "2025-06-06 11:40:01,321 - rubix - INFO - Assembling the pipeline...\n",
      "2025-06-06 11:40:01,322 - rubix - INFO - Compiling the expressions...\n",
      "2025-06-06 11:40:01,323 - rubix - INFO - Number of devices: 32\n",
      "2025-06-06 11:40:01,430 - rubix - INFO - Rotating galaxy with alpha=90.0, beta=0.0, gamma=0.0\n",
      "2025-06-06 11:40:01,511 - rubix - INFO - Filtering particles outside the aperture...\n",
      "2025-06-06 11:40:01,514 - rubix - INFO - Assigning particles to spaxels...\n",
      "2025-06-06 11:40:01,516 - rubix - INFO - Calculating IFU cube...\n",
      "2025-06-06 11:40:01,516 - rubix - DEBUG - Input shapes: Metallicity: 4, Age: 4\n",
      "2025-06-06 11:40:01,640 - rubix - DEBUG - Calculation Finished! Spectra shape: (4, 5994)\n",
      "2025-06-06 11:40:01,641 - rubix - INFO - Scaling Spectra by Mass...\n",
      "2025-06-06 11:40:01,646 - rubix - INFO - Doppler shifting and resampling spectra...\n",
      "2025-06-06 11:40:01,646 - rubix - DEBUG - Doppler Shifted SSP Wave: (4, 5994)\n",
      "2025-06-06 11:40:01,647 - rubix - DEBUG - Telescope Wave Seq: (3721,)\n",
      "2025-06-06 11:40:01,680 - rubix - INFO - Calculating Data Cube...\n",
      "2025-06-06 11:40:01,682 - rubix - DEBUG - Datacube Shape: (25, 25, 3721)\n",
      "2025-06-06 11:40:01,683 - rubix - INFO - Convolving with PSF...\n",
      "2025-06-06 11:40:01,686 - rubix - INFO - Convolving with LSF...\n",
      "2025-06-06 11:40:01,689 - rubix - INFO - Applying noise to datacube with signal to noise ratio: 100 and noise distribution: normal\n",
      "2025-06-06 11:40:10,033 - rubix - INFO - Pipeline run completed in 8.92 seconds.\n"
     ]
    }
   ],
   "source": [
    "#NBVAL_SKIP\n",
    "config_NIHAO[\"pipeline\"][\"name\"] = \"calc_ifu\"\n",
    "pipe = RubixPipeline(config_NIHAO)\n",
    "\n",
    "inputdata = pipe.prepare_data()\n",
    "rubixdata_old = pipe.run_sharded(inputdata)"
   ]
  },
  {
   "cell_type": "code",
   "execution_count": 9,
   "metadata": {},
   "outputs": [],
   "source": [
    "#print(rubixdata)"
   ]
  },
  {
   "cell_type": "code",
   "execution_count": 10,
   "metadata": {},
   "outputs": [],
   "source": [
    "#NBVAL_SKIP\n",
    "\n",
    "#inputdata = pipe.prepare_data()\n",
    "#shard_rubixdata = pipe.run_sharded_chunked(inputdata)"
   ]
  },
  {
   "cell_type": "markdown",
   "metadata": {},
   "source": [
    "## Step 4: Mock-data\n",
    "\n",
    "Now we have our final datacube and can use the mock-data to do science. Here we have a quick look in the optical wavelengthrange of the mock-datacube and show the spectra of a central spaxel and a spatial image."
   ]
  },
  {
   "cell_type": "code",
   "execution_count": 11,
   "metadata": {},
   "outputs": [],
   "source": [
    "#NBVAL_SKIP\n",
    "import jax.numpy as jnp\n",
    "\n",
    "wave = pipe.telescope.wave_seq\n",
    "# get the indices of the visible wavelengths of 4000-8000 Angstroms\n",
    "visible_indices = jnp.where((wave >= 4000) & (wave <= 8000))\n"
   ]
  },
  {
   "cell_type": "markdown",
   "metadata": {},
   "source": [
    "This is how you can access the spectrum of an individual spaxel, the wavelength can be accessed via `pipe.wave_seq`"
   ]
  },
  {
   "cell_type": "code",
   "execution_count": 12,
   "metadata": {},
   "outputs": [
    {
     "data": {
      "image/png": "[encoded data removed]",
      "text/plain": [
       "<Figure size 1000x500 with 2 Axes>"
      ]
     },
     "metadata": {},
     "output_type": "display_data"
    }
   ],
   "source": [
    "#NBVAL_SKIP\n",
    "wave = pipe.telescope.wave_seq\n",
    "\n",
    "spectra = rubixdata_old#.stars.datacube # Spectra of all stars\n",
    "spectra_sharded = rubixdata # Spectra of all stars\n",
    "#print(spectra.shape)\n",
    "\n",
    "plt.figure(figsize=(10, 5))\n",
    "plt.subplot(1, 2, 1)\n",
    "plt.title(\"Rubix\")\n",
    "plt.xlabel(\"Wavelength [Angstrom]\")\n",
    "plt.ylabel(\"Flux [erg/s/cm^2/Angstrom]\")\n",
    "plt.plot(wave, spectra[12,12,:])\n",
    "plt.plot(wave, spectra[8,12,:])\n",
    "\n",
    "plt.subplot(1, 2, 2)\n",
    "plt.title(\"Rubix Sharded\")\n",
    "plt.xlabel(\"Wavelength [Angstrom]\")\n",
    "plt.ylabel(\"Flux [erg/s/cm^2/Angstrom]\")\n",
    "plt.plot(wave, spectra_sharded[12,12,:])\n",
    "plt.plot(wave, spectra_sharded[8,12,:])\n",
    "\n",
    "plt.show()"
   ]
  },
  {
   "cell_type": "markdown",
   "metadata": {},
   "source": [
    "Plot a spacial image of the data cube"
   ]
  },
  {
   "cell_type": "code",
   "execution_count": 13,
   "metadata": {},
   "outputs": [
    {
     "data": {
      "image/png": "[encoded data removed]",
      "text/plain": [
       "<Figure size 1200x500 with 4 Axes>"
      ]
     },
     "metadata": {},
     "output_type": "display_data"
    }
   ],
   "source": [
    "#NBVAL_SKIP\n",
    "# get the spectra of the visible wavelengths from the ifu cube\n",
    "#visible_spectra = rubixdata.stars.datacube[ :, :, visible_indices[0]]\n",
    "visible_spectra = rubixdata_old[ :, :, visible_indices[0]]\n",
    "sharded_visible_spectra = rubixdata[ :, :, visible_indices[0]]\n",
    "#visible_spectra.shape\n",
    "\n",
    "image = jnp.sum(visible_spectra, axis=2)\n",
    "sharded_image = jnp.sum(sharded_visible_spectra, axis=2)\n",
    "\n",
    "# Plot side by side\n",
    "fig, axes = plt.subplots(1, 2, figsize=(12, 5))\n",
    "\n",
    "# Original IFU datacube image\n",
    "im0 = axes[0].imshow(image, origin=\"lower\", cmap=\"inferno\")\n",
    "axes[0].set_title(\"Original IFU Datacube\")\n",
    "fig.colorbar(im0, ax=axes[0])\n",
    "\n",
    "# Sharded IFU datacube image\n",
    "im1 = axes[1].imshow(sharded_image, origin=\"lower\", cmap=\"inferno\")\n",
    "axes[1].set_title(\"Sharded IFU Datacube\")\n",
    "fig.colorbar(im1, ax=axes[1])\n",
    "\n",
    "plt.tight_layout()\n",
    "plt.show()"
   ]
  },
  {
   "cell_type": "markdown",
   "metadata": {},
   "source": [
    "## DONE!\n",
    "\n",
    "Congratulations, you have sucessfully run the RUBIX pipeline to create your own mock-observed IFU datacube! Now enjoy playing around with the RUBIX pipeline and enjoy doing amazing science with RUBIX :)"
   ]
  }
 ],
 "metadata": {
  "kernelspec": {
   "display_name": "Python 3",
   "language": "python",
   "name": "python3"
  },
  "language_info": {
   "codemirror_mode": {
    "name": "ipython",
    "version": 3
   },
   "file_extension": ".py",
   "mimetype": "text/x-python",
   "name": "python",
   "nbconvert_exporter": "python",
   "pygments_lexer": "ipython3",
   "version": "3.12.10"
  }
 },
 "nbformat": 4,
 "nbformat_minor": 2
}
