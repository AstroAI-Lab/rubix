{
 "cells": [
  {
   "cell_type": "code",
   "execution_count": null,
   "metadata": {
    "tags": [
     "Parameters",
     "parameters"
    ]
   },
   "outputs": [],
   "source": [
    "# Parameters\n",
    "galaxy_id = \"g8.26e11\"\n",
    "pipeline_name = \"calc_dusty_ifu\"\n",
    "telescope_name = \"MUSE_test\""
   ]
  },
  {
   "cell_type": "code",
   "execution_count": null,
   "metadata": {},
   "outputs": [],
   "source": [
    "# NBVAL_SKIP\n",
    "import os\n",
    "os.environ['SPS_HOME'] = '/mnt/storage/annalena_data/sps_fsps'\n",
    "#os.environ['SPS_HOME'] = '/home/annalena/sps_fsps'\n",
    "#os.environ['SPS_HOME'] = '/Users/annalena/Documents/GitHub/fsps'"
   ]
  },
  {
   "cell_type": "markdown",
   "metadata": {},
   "source": [
    "# Fits files\n",
    "\n",
    "In this notebook we show, how you can store your mock datacube in a fits file, which is the common format in which are observational data handled. We firtss create a mock IFU cube by running the RUBIX pipeline, store it then in a fits file and then lod the data from the fits file."
   ]
  },
  {
   "cell_type": "code",
   "execution_count": null,
   "metadata": {},
   "outputs": [],
   "source": [
    "# NBVAL_SKIP\n",
    "import matplotlib.pyplot as plt\n",
    "import os\n",
    "from rubix.core.pipeline import RubixPipeline\n",
    "\n",
    "# Define NIHAO configuration\n",
    "config_illustris = {\n",
    "    \"pipeline\": {\"name\": pipeline_name},\n",
    "    \"logger\": {\"log_level\": \"DEBUG\", \"log_file_path\": None, \"format\": \"%(asctime)s - %(name)s - %(levelname)s - %(message)s\"},\n",
    "    \"data\": {\n",
    "        \"name\": \"NihaoHandler\",\n",
    "        \"args\": {\n",
    "            \"particle_type\": [\"stars\", \"gas\"],\n",
    "            \"save_data_path\": \"data\",\n",
    "            \"snapshot\": \"1024\",\n",
    "        },\n",
    "        \"load_galaxy_args\": {\"reuse\": True, \"id\": galaxy_id},\n",
    "        \"subset\": {\"use_subset\": False, \"subset_size\": 10000},\n",
    "    },\n",
    "    \"simulation\": {\n",
    "        \"name\": \"NIHAO\",\n",
    "        \"args\": {\n",
    "            \"path\": f'/mnt/storage/_data/nihao/nihao_classic/{galaxy_id}/{galaxy_id}.01024',\n",
    "            \"halo_path\": f'/mnt/storage/_data/nihao/nihao_classic/{galaxy_id}/{galaxy_id}.01024.z0.000.AHF_halos',\n",
    "            \"halo_id\": 0,\n",
    "        },\n",
    "    },\n",
    "    \"output_path\": \"output\",\n",
    "    \"telescope\": {\"name\": telescope_name,\n",
    "                  \"psf\": {\"name\": \"gaussian\", \"size\": 5, \"sigma\": 0.6},\n",
    "                  \"lsf\": {\"sigma\": 1.2},\n",
    "                  \"noise\": {\"signal_to_noise\": 100, \"noise_distribution\": \"normal\"}},\n",
    "    \"cosmology\": {\"name\": \"PLANCK15\"},\n",
    "    \"galaxy\": {\"dist_z\": 0.1, \"rotation\": {\"type\": \"edge-on\"}}, #{\"alpha\": 90.0, \"beta\": 0.0, \"gamma\":0.0}},\n",
    "    \"ssp\": {\"template\": {\"name\": \"FSPS\"},\n",
    "            \"dust\": {\n",
    "                \"extinction_model\": \"Cardelli89\",\n",
    "                \"dust_to_gas_ratio\": 0.01,\n",
    "                \"dust_to_metals_ratio\": 0.4,\n",
    "                \"dust_grain_density\": 3.5,\n",
    "                \"Rv\": 3.1,\n",
    "            },\n",
    "    },\n",
    "}\n",
    "\n",
    "# Run pipeline\n",
    "pipe = RubixPipeline(config_illustris)\n",
    "data = pipe.run()"
   ]
  },
  {
   "cell_type": "markdown",
   "metadata": {},
   "source": [
    "## Convert luminosity to flux"
   ]
  },
  {
   "cell_type": "code",
   "execution_count": null,
   "metadata": {},
   "outputs": [],
   "source": [
    "from rubix.spectra.ifu import convert_luminoisty_to_flux\n",
    "from rubix.cosmology import PLANCK15\n",
    "\n",
    "observation_lum_dist = PLANCK15.luminosity_distance_to_z(config_illustris[\"galaxy\"][\"dist_z\"])\n",
    "observation_z = config_illustris[\"galaxy\"][\"dist_z\"]\n",
    "pixel_size = 1.0\n",
    "fluxcube = convert_luminoisty_to_flux(data.stars.datacube, observation_lum_dist, observation_z, pixel_size)\n",
    "data.stars.datacube = fluxcube/1e-20\n"
   ]
  },
  {
   "cell_type": "markdown",
   "metadata": {},
   "source": [
    "# Store datacube in a fits file with header\n",
    "\n",
    "In RUBIX we implemented a function that automaticly takes the relevant information from the config and writes it into the header. Then the header and data are stored in a fits file. All is done with the store_fits function from the rubix.core.fits module."
   ]
  },
  {
   "cell_type": "code",
   "execution_count": null,
   "metadata": {},
   "outputs": [],
   "source": [
    "#NBVAL_SKIP\n",
    "from rubix.core.fits import store_fits\n",
    "\n",
    "store_fits(config_illustris, data, \"output/\")"
   ]
  },
  {
   "cell_type": "code",
   "execution_count": null,
   "metadata": {},
   "outputs": [],
   "source": [
    "#import pickle\n",
    "#with open(f\"output/datacube_NIHAO{config_illustris[\"data\"][\"load_galaxy_args\"][\"id\"]}_{config_illustris[\"telescope\"][\"name\"]}_{config_illustris[\"pipeline\"][\"name\"]}.pkl\", \"wb\") as f:\n",
    "#    pickle.dump(data, f)"
   ]
  },
  {
   "cell_type": "code",
   "execution_count": null,
   "metadata": {},
   "outputs": [],
   "source": [
    "#NBVAL_SKIP\n",
    "datacube = data.stars.datacube\n",
    "\n",
    "img = datacube.sum(axis=2)\n",
    "plt.imshow(img, origin=\"lower\")\n",
    "#plt.plot(12,12, 'ro')\n",
    "#plt.plot(17,12, 'x', color=\"blue\")\n",
    "#plt.plot(7,12, 'x', color=\"orange\")\n",
    "plt.colorbar()\n",
    "print(img.min(), img.max())\n",
    "storepath = f\"output/datacube_NIHAO{config_illustris['data']['load_galaxy_args']['id']}_{config_illustris[\"telescope\"][\"name\"]}_{config_illustris['pipeline']['name']}_fluxsum.png\"\n",
    "plt.savefig(storepath)"
   ]
  },
  {
   "cell_type": "code",
   "execution_count": null,
   "metadata": {},
   "outputs": [],
   "source": [
    "# NBVAL_SKIP\n",
    "wave = pipe.telescope.wave_seq\n",
    "#plt.plot(wave, data.stars.datacube[12, 12, :], color=\"red\", label=\"Spectrum\")\n",
    "#plt.vlines(4861.333, 0, 3000, color='r', label=\"Hbeta=4861.333A\")\n",
    "#plt.vlines(4861.333*1.1, 0, 3000, color='y', label=\"line obs=Hbeta*(1+z)\")\n",
    "plt.plot(wave, data.stars.datacube[7, 12, :], color=\"orange\", label=\"Spectrum 7,12\")\n",
    "plt.plot(wave, data.stars.datacube[17, 12, :], color=\"blue\", label=\"Spectrum 17,12\")\n",
    "#plt.xlim(5300, 5400)\n",
    "plt.legend()"
   ]
  },
  {
   "cell_type": "code",
   "execution_count": null,
   "metadata": {},
   "outputs": [],
   "source": [
    "# NBVAL_SKIP\n",
    "import matplotlib.pyplot as plt\n",
    "\n",
    "# Plot a histogram of the velocities\n",
    "plt.hist(data.stars.velocity[0,:,2], bins=30, edgecolor='black')\n",
    "plt.xlabel('Velocity')\n",
    "plt.ylabel('Frequency')\n",
    "plt.title('Histogram of Star Velocities')\n",
    "plt.show()"
   ]
  },
  {
   "cell_type": "code",
   "execution_count": null,
   "metadata": {},
   "outputs": [],
   "source": [
    "# NBVAL_SKIP\n",
    "import numpy as np\n",
    "import matplotlib.pyplot as plt\n",
    "\n",
    "# Assuming your data arrays are defined as follows:\n",
    "pixel_assignment = np.asarray(np.squeeze(data.stars.pixel_assignment))\n",
    "velocities = np.asarray(data.stars.velocity[0, :, 2])\n",
    "\n",
    "# Compute the sum of velocities and count per pixel using np.bincount\n",
    "sum_velocity = np.bincount(pixel_assignment, weights=velocities)\n",
    "counts = np.bincount(pixel_assignment)\n",
    "\n",
    "# Calculate mean velocity; note: division by zero is avoided if every pixel has at least one star.\n",
    "mean_velocity = sum_velocity / counts\n",
    "\n",
    "\n",
    "# If you know the pixel grid dimensions (for example, a square grid)\n",
    "n_pixels = len(mean_velocity)\n",
    "grid_size = int(np.sqrt(n_pixels))\n",
    "if grid_size * grid_size != n_pixels:\n",
    "    raise ValueError(\"The total number of pixels is not a perfect square; please specify the grid shape explicitly.\")\n",
    "\n",
    "# Reshape the mean_velocity into a 2D array for imshow\n",
    "velocity_map = mean_velocity.reshape((grid_size, grid_size))\n",
    "print(velocity_map[12,12])\n",
    "\n",
    "print(velocity_map[17,12]-velocity_map[7,12])\n",
    "# Plot the result\n",
    "plt.figure(figsize=(6, 5))\n",
    "plt.imshow(velocity_map, origin='lower', interpolation='nearest', cmap='seismic')\n",
    "plt.colorbar(label='Mean Velocity')\n",
    "plt.title('Mean Velocity per Pixel')\n",
    "plt.xlabel('X pixel index')\n",
    "plt.ylabel('Y pixel index')\n",
    "storepath = f\"output/datacube_NIHAO{config_illustris['data']['load_galaxy_args']['id']}_{config_illustris[\"telescope\"][\"name\"]}_{config_illustris['pipeline']['name']}_velocity.png\"\n",
    "plt.savefig(storepath)\n",
    "plt.show()"
   ]
  },
  {
   "cell_type": "code",
   "execution_count": null,
   "metadata": {},
   "outputs": [],
   "source": [
    "# NBVAL_SKIP\n",
    "import numpy as np\n",
    "import matplotlib.pyplot as plt\n",
    "\n",
    "# Assuming your data arrays are defined as follows:\n",
    "pixel_assignment = np.asarray(np.squeeze(data.gas.pixel_assignment))\n",
    "gas_mass = np.asarray(data.gas.mass)\n",
    "\n",
    "# Compute the sum of velocities and count per pixel using np.bincount\n",
    "sum_gas_mass = np.bincount(pixel_assignment, weights=gas_mass[0,:])\n",
    "counts = np.bincount(pixel_assignment)\n",
    "\n",
    "# If you know the pixel grid dimensions (for example, a square grid)\n",
    "n_pixels = len(sum_gas_mass)\n",
    "grid_size = int(np.sqrt(n_pixels))\n",
    "if grid_size * grid_size != n_pixels:\n",
    "    raise ValueError(\"The total number of pixels is not a perfect square; please specify the grid shape explicitly.\")\n",
    "\n",
    "# Reshape the mean_velocity into a 2D array for imshow\n",
    "gas_mass_map = sum_gas_mass.reshape((grid_size, grid_size))\n",
    "print(gas_mass_map[12,12])\n",
    "\n",
    "# Plot the result\n",
    "plt.figure(figsize=(6, 5))\n",
    "plt.imshow(gas_mass_map, origin='lower')\n",
    "plt.colorbar(label='Gas Mass')\n",
    "plt.title('Gass mass per Pixel')\n",
    "plt.xlabel('X pixel index')\n",
    "plt.ylabel('Y pixel index')\n",
    "storepath = f\"output/datacube_NIHAO{config_illustris['data']['load_galaxy_args']['id']}_{config_illustris[\"telescope\"][\"name\"]}_{config_illustris['pipeline']['name']}_gasmass.png\"\n",
    "plt.savefig(storepath)\n",
    "plt.show()"
   ]
  },
  {
   "cell_type": "markdown",
   "metadata": {},
   "source": []
  },
  {
   "cell_type": "code",
   "execution_count": null,
   "metadata": {},
   "outputs": [],
   "source": [
    "# NBVAL_SKIP\n",
    "import numpy as np\n",
    "import matplotlib.pyplot as plt\n",
    "\n",
    "# Assuming your data arrays are defined as follows:\n",
    "pixel_assignment = np.asarray(np.squeeze(data.stars.pixel_assignment))\n",
    "stars_mass = np.asarray(data.stars.mass)\n",
    "\n",
    "# Compute the sum of velocities and count per pixel using np.bincount\n",
    "sum_stars_mass = np.bincount(pixel_assignment, weights=stars_mass[0,:])\n",
    "counts = np.bincount(pixel_assignment)\n",
    "\n",
    "# If you know the pixel grid dimensions (for example, a square grid)\n",
    "n_pixels = len(sum_stars_mass)\n",
    "grid_size = int(np.sqrt(n_pixels))\n",
    "if grid_size * grid_size != n_pixels:\n",
    "    raise ValueError(\"The total number of pixels is not a perfect square; please specify the grid shape explicitly.\")\n",
    "\n",
    "# Reshape the mean_velocity into a 2D array for imshow\n",
    "stars_mass_map = sum_stars_mass.reshape((grid_size, grid_size))\n",
    "print(stars_mass_map[12,12])\n",
    "\n",
    "# Plot the result\n",
    "plt.figure(figsize=(6, 5))\n",
    "plt.imshow(stars_mass_map, origin='lower')\n",
    "plt.colorbar(label='Stars Mass')\n",
    "plt.title('Stars mass per Pixel')\n",
    "plt.xlabel('X pixel index')\n",
    "plt.ylabel('Y pixel index')\n",
    "storepath = f\"output/datacube_NIHAO{config_illustris['data']['load_galaxy_args']['id']}_{config_illustris[\"telescope\"][\"name\"]}_{config_illustris['pipeline']['name']}_starsmass.png\"\n",
    "plt.savefig(storepath)\n",
    "plt.show()"
   ]
  }
 ],
 "metadata": {
  "kernelspec": {
   "display_name": "Python 3",
   "language": "python",
   "name": "python3"
  },
  "language_info": {
   "codemirror_mode": {
    "name": "ipython",
    "version": 3
   },
   "file_extension": ".py",
   "mimetype": "text/x-python",
   "name": "python",
   "nbconvert_exporter": "python",
   "pygments_lexer": "ipython3",
   "version": "3.13.2"
  }
 },
 "nbformat": 4,
 "nbformat_minor": 2
}
