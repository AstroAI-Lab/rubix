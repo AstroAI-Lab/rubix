{
 "cells": [
  {
   "cell_type": "code",
   "execution_count": null,
   "metadata": {},
   "outputs": [],
   "source": [
    "# NBVAL_SKIP\n",
    "import os\n",
    "os.environ['SPS_HOME'] = '/mnt/storage/annalena_data/sps_fsps'\n",
    "#os.environ['SPS_HOME'] = '/home/annalena/sps_fsps'\n",
    "#os.environ['SPS_HOME'] = '/Users/annalena/Documents/GitHub/fsps'"
   ]
  },
  {
   "cell_type": "markdown",
   "metadata": {},
   "source": [
    "# Dust extinction models in Rubix\n",
    "\n",
    "This notebook shows the basics of the dust extinction models implemented in Rubix. We have closely followed the implementation by the [dust extinction package](https://dust-extinction.readthedocs.io/en/latest/index.html). Currently we only support a subset of all available models, namely the Cardelli, Clayton, & Mathis (1989) Milky Way R(V) dependent model, the Gordon et al. (2023) Milky Way R(V) dependent model and the Fitzpatrick & Massa (1990) 6 parameter ultraviolet shape model.\n",
    "\n",
    "We will demonstrate how to use these models to calculate and visualize the effects of dust extinction on stellar spectra. Additionally, we will show how to integrate these models into a Rubix pipeline to simulate the impact of dust on galaxy observations."
   ]
  },
  {
   "cell_type": "markdown",
   "metadata": {},
   "source": [
    "First, we import the dust models from Rubix."
   ]
  },
  {
   "cell_type": "code",
   "execution_count": null,
   "metadata": {},
   "outputs": [],
   "source": [
    "# NBVAL_SKIP\n",
    "from rubix.spectra.dust.extinction_models import Cardelli89, Gordon23"
   ]
  },
  {
   "cell_type": "code",
   "execution_count": null,
   "metadata": {},
   "outputs": [],
   "source": [
    "# NBVAL_SKIP\n",
    "import matplotlib.pyplot as plt\n",
    "import numpy as np\n",
    "import jax.numpy as jnp"
   ]
  },
  {
   "cell_type": "markdown",
   "metadata": {},
   "source": [
    "We visulaize some of the aspects of the models, i.e. their A(x)/Av as a function of wavelength."
   ]
  },
  {
   "cell_type": "code",
   "execution_count": null,
   "metadata": {},
   "outputs": [],
   "source": [
    "# NBVAL_SKIP\n",
    "fig, ax = plt.subplots()\n",
    "\n",
    "# generate the curves and plot them\n",
    "x = np.arange(0.5,10.0,0.1) # in 1/microns\n",
    "Rvs = [2.0,3.0,4.0,5.0,6.0]\n",
    "for cur_Rv in Rvs:\n",
    "    ext_model = Cardelli89(Rv=cur_Rv)\n",
    "    ax.plot(x,ext_model(x),label='R(V) = ' + str(cur_Rv))\n",
    "\n",
    "ax.set_xlabel(r'$x$ [$\\mu m^{-1}$]')\n",
    "ax.set_ylabel(r'$A(x)/A(V)$')\n",
    "\n",
    "# for 2nd x-axis with lambda values\n",
    "axis_xs = np.array([0.1, 0.12, 0.15, 0.2, 0.3, 0.5, 1.0])\n",
    "new_ticks = 1 / axis_xs\n",
    "new_ticks_labels = [\"%.2f\" % z for z in axis_xs]\n",
    "tax = ax.twiny()\n",
    "tax.set_xlim(ax.get_xlim())\n",
    "tax.set_xticks(new_ticks)\n",
    "tax.set_xticklabels(new_ticks_labels)\n",
    "tax.set_xlabel(r\"$\\lambda$ [$\\mu$m]\")\n",
    "\n",
    "ax.legend(loc='best')"
   ]
  },
  {
   "cell_type": "markdown",
   "metadata": {},
   "source": [
    "We can now also use those models and show their effects on a black body spectrum. \n",
    "For that, we instantiate the Cardelli model, create a black body spectrum with astropy and apply the dust extinction with a fiducial Rv of 3.1 to the spectrum for a range of Av parameters. "
   ]
  },
  {
   "cell_type": "code",
   "execution_count": null,
   "metadata": {},
   "outputs": [],
   "source": [
    "# NBVAL_SKIP\n",
    "# Let's import some packages\n",
    "from astropy.modeling.models import BlackBody\n",
    "import astropy.units as u\n",
    "from matplotlib.ticker import ScalarFormatter"
   ]
  },
  {
   "cell_type": "code",
   "execution_count": null,
   "metadata": {},
   "outputs": [],
   "source": [
    "# NBVAL_SKIP\n",
    "# initialize cardelli model with Rv=3.1\n",
    "ext = Cardelli89(Rv=3.1)"
   ]
  },
  {
   "cell_type": "code",
   "execution_count": null,
   "metadata": {},
   "outputs": [],
   "source": [
    "# NBVAL_SKIP\n",
    "# generate wavelengths between 3 and 10 microns\n",
    "#    within the valid range for the Cardelli R(V) dependent model\n",
    "lam = np.logspace(np.log10(3), np.log10(10.0), num=1000)\n",
    "\n",
    "# setup the inputs for the blackbody function\n",
    "wavelengths = lam*1e4 # Angstroem\n",
    "temperature = 10000 # Kelvin"
   ]
  },
  {
   "cell_type": "code",
   "execution_count": null,
   "metadata": {},
   "outputs": [],
   "source": [
    "# NBVAL_SKIP\n",
    "# get the blackbody flux\n",
    "bb_lam = BlackBody(10000*u.K, scale=1.0 * u.erg / (u.cm ** 2 * u.AA * u.s * u.sr))\n",
    "flux = bb_lam(wavelengths)"
   ]
  },
  {
   "cell_type": "code",
   "execution_count": null,
   "metadata": {},
   "outputs": [],
   "source": [
    "# NBVAL_SKIP\n",
    "# get the extinguished blackbody flux for different amounts of dust\n",
    "flux_ext_av05 = flux*ext.extinguish(lam, Av=0.5)\n",
    "flux_ext_av15 = flux*ext.extinguish(lam, Av=1.5)\n",
    "flux_ext_ebv10 = flux*ext.extinguish(lam, Ebv=1.0)"
   ]
  },
  {
   "cell_type": "code",
   "execution_count": null,
   "metadata": {},
   "outputs": [],
   "source": [
    "# NBVAL_SKIP\n",
    "# plot the intrinsic and extinguished fluxes\n",
    "fig, ax = plt.subplots()\n",
    "\n",
    "ax.plot(wavelengths, flux, label='Intrinsic')\n",
    "ax.plot(wavelengths, flux_ext_av05, label='$A(V) = 0.5$')\n",
    "ax.plot(wavelengths, flux_ext_av15, label='$A(V) = 1.5$')\n",
    "ax.plot(wavelengths, flux_ext_ebv10, label='$E(B-V) = 1.0$')\n",
    "\n",
    "ax.set_xlabel('$\\lambda$ [$\\AA$]')\n",
    "ax.set_ylabel('$Flux$')\n",
    "\n",
    "ax.set_xscale('log')\n",
    "ax.xaxis.set_major_formatter(ScalarFormatter())\n",
    "ax.set_yscale('log')\n",
    "\n",
    "ax.set_title('Example extinguishing a blackbody')\n",
    "\n",
    "ax.legend(loc='best')\n",
    "plt.tight_layout()"
   ]
  },
  {
   "cell_type": "markdown",
   "metadata": {},
   "source": [
    "We see that the Cardelli model has some limited range in wavelength. \n",
    "Now let's try the same for the Gordon et al. model which has a broader wavelength support.  "
   ]
  },
  {
   "cell_type": "code",
   "execution_count": null,
   "metadata": {},
   "outputs": [],
   "source": [
    "# NBVAL_SKIP\n",
    "# generate wavelengths between 0.092 and 31 microns\n",
    "#    within the valid range for the Gordon23 R(V) dependent relationship\n",
    "lam = jnp.logspace(np.log10(0.092), np.log10(31.0), num=1000)\n",
    "\n",
    "# setup the inputs for the blackbody function\n",
    "wavelengths = lam*1e4 # Angstroem\n",
    "temperature = 10000 # Kelvin\n",
    "\n",
    "# get the blackbody flux\n",
    "bb_lam = BlackBody(10000*u.K, scale=1.0 * u.erg / (u.cm ** 2 * u.AA * u.s * u.sr))\n",
    "flux = bb_lam(wavelengths)\n",
    "\n",
    "# initialize the model\n",
    "ext = Gordon23(Rv=3.1)\n",
    "\n",
    "# get the extinguished blackbody flux for different amounts of dust\n",
    "flux_ext_av05 = flux*ext.extinguish(lam, Av=0.5)\n",
    "flux_ext_av15 = flux*ext.extinguish(lam, Av=1.5)\n",
    "flux_ext_ebv10 = flux*ext.extinguish(lam, Ebv=1.0)\n",
    "\n",
    "# plot the intrinsic and extinguished fluxes\n",
    "fig, ax = plt.subplots()\n",
    "\n",
    "ax.plot(wavelengths, flux, label='Intrinsic')\n",
    "ax.plot(wavelengths, flux_ext_av05, label='$A(V) = 0.5$')\n",
    "ax.plot(wavelengths, flux_ext_av15, label='$A(V) = 1.5$')\n",
    "ax.plot(wavelengths, flux_ext_ebv10, label='$E(B-V) = 1.0$')\n",
    "\n",
    "ax.set_xlabel(r'$\\lambda$ [$\\AA$]')\n",
    "ax.set_ylabel('$Flux$')\n",
    "\n",
    "ax.set_xscale('log')\n",
    "ax.xaxis.set_major_formatter(ScalarFormatter())\n",
    "ax.set_yscale('log')\n",
    "\n",
    "ax.set_title('Example extinguishing a blackbody')\n",
    "\n",
    "ax.legend(loc='best')\n",
    "plt.tight_layout()\n",
    "plt.show()"
   ]
  },
  {
   "cell_type": "markdown",
   "metadata": {},
   "source": [
    "We see, as expected, the impact of dust is most important for short wavelength, i.e. the blue part of the spectrum."
   ]
  },
  {
   "cell_type": "markdown",
   "metadata": {},
   "source": [
    "# Run the RUBIX pipeline with dust\n"
   ]
  },
  {
   "cell_type": "markdown",
   "metadata": {},
   "source": [
    "We now turn to running the RUBIX pipeline with dust included. For this, we first need to setup the config accordingly. That is as easy as replacing `\"pipeline\":{\"name\": \"calc_ifu\"}` with `\"pipeline\":{\"name\": \"calc_dusty_ifu\"}` in the config.\n",
    "\n",
    "In order to comapre a dusty and non dusty IFU cube, we first run a normal RUBIX pipeline."
   ]
  },
  {
   "cell_type": "code",
   "execution_count": null,
   "metadata": {},
   "outputs": [],
   "source": [
    "import os\n",
    "#os.environ[\"SPS_HOME\"] = '/Users/buck/Documents/Nexus/codes/fsps'\n",
    "#ILLUSTRIS_API_KEY = 'c0112e1fa11489ef0e6164480643d1c8'"
   ]
  },
  {
   "cell_type": "code",
   "execution_count": null,
   "metadata": {},
   "outputs": [],
   "source": [
    "#NBVAL_SKIP\n",
    "\n",
    "import matplotlib.pyplot as plt\n",
    "from rubix.core.pipeline import RubixPipeline \n",
    "import os\n",
    "config = {\n",
    "    \"pipeline\":{\"name\": \"calc_ifu\"},\n",
    "    \n",
    "    \"logger\": {\n",
    "        \"log_level\": \"DEBUG\",\n",
    "        \"log_file_path\": None,\n",
    "        \"format\": \"%(asctime)s - %(name)s - %(levelname)s - %(message)s\",\n",
    "    },\n",
    "    \"data\": {\n",
    "        \"name\": \"IllustrisAPI\",\n",
    "        \"args\": {\n",
    "            \"api_key\": os.environ.get(\"ILLUSTRIS_API_KEY\"),\n",
    "            \"particle_type\": [\"stars\", \"gas\"],\n",
    "            \"simulation\": \"TNG50-1\",\n",
    "            \"snapshot\": 99,\n",
    "            \"save_data_path\": \"data\",\n",
    "        },\n",
    "        \n",
    "        \"load_galaxy_args\": {\n",
    "        \"id\": 11,\n",
    "        \"reuse\": False,\n",
    "        },\n",
    "        \n",
    "        \"subset\": {\n",
    "            \"use_subset\": True,\n",
    "            \"subset_size\": 50000,\n",
    "        },\n",
    "    },\n",
    "    \"simulation\": {\n",
    "        \"name\": \"IllustrisTNG\",\n",
    "        \"args\": {\n",
    "            \"path\": \"data/galaxy-id-11.hdf5\",\n",
    "        },\n",
    "    \n",
    "    },\n",
    "    \"output_path\": \"output\",\n",
    "\n",
    "    \"telescope\":\n",
    "        {\"name\": \"MUSE\",\n",
    "         \"psf\": {\"name\": \"gaussian\", \"size\": 5, \"sigma\": 0.6},\n",
    "         \"lsf\": {\"sigma\": 0.5},\n",
    "         \"noise\": {\"signal_to_noise\": 1,\"noise_distribution\": \"normal\"},},\n",
    "    \"cosmology\":\n",
    "        {\"name\": \"PLANCK15\"},\n",
    "        \n",
    "    \"galaxy\":\n",
    "        {\"dist_z\": 0.1,\n",
    "         \"rotation\": {\"type\": \"edge-on\"},\n",
    "        },\n",
    "        \n",
    "    \"ssp\": {\n",
    "        \"template\": {\n",
    "            \"name\": \"BruzualCharlot2003\"\n",
    "        },\n",
    "        \"dust\": {\n",
    "            \"extinction_model\": \"Cardelli89\", #\"Gordon23\", \n",
    "            \"dust_to_gas_ratio\": 0.01, # need to check Remyer's paper\n",
    "            \"dust_to_metals_ratio\": 0.4, # do we need this ratio if we set the dust_to_gas_ratio?\n",
    "            \"dust_grain_density\": 3.5, # g/cm^3 #check this value\n",
    "            \"Rv\": 3.1,\n",
    "        },\n",
    "    },        \n",
    "}"
   ]
  },
  {
   "cell_type": "code",
   "execution_count": null,
   "metadata": {},
   "outputs": [],
   "source": [
    "#NBVAL_SKIP\n",
    "pipe = RubixPipeline(config)\n",
    "\n",
    "rubixdata = pipe.run()"
   ]
  },
  {
   "cell_type": "markdown",
   "metadata": {},
   "source": [
    "Now we run the pipeline including the effects of dust.\n",
    "\n",
    "Next to setting `\"pipeline\":{\"name\": \"calc_ifu\"}` there are some more nobs under the section `ssp` for `dust` that we can tweek if needed.\n",
    "\n",
    "Options to consider are as follows:\n",
    "*  the exact \"extinction_model\" to use. Currently Rubix supports \"Cardelli89\" or \"Gordon23\" \n",
    "*  the \"dust_to_gas_model\" to use. This currently refers to the fitting formula used by Remy-Ruyer et al. 2014. See their Table 1 for more info.\n",
    "*  the \"Xco\" model used by Remy-Ruyer et al 2014. Either \"Z\" or \"MW\"\n",
    "*  the \"dust_grain_density\" which depends on the type of dust at hand, see e.g. the NIST tables.\n",
    "*  the \"Rv\" value in case one uses an Rv dependent dust model."
   ]
  },
  {
   "cell_type": "code",
   "execution_count": null,
   "metadata": {},
   "outputs": [],
   "source": [
    "#NBVAL_SKIP\n",
    "\n",
    "import matplotlib.pyplot as plt\n",
    "from rubix.core.pipeline import RubixPipeline \n",
    "import os\n",
    "config = {\n",
    "    \"pipeline\":{\"name\": \"calc_dusty_ifu\"},\n",
    "    \n",
    "    \"logger\": {\n",
    "        \"log_level\": \"DEBUG\",\n",
    "        \"log_file_path\": None,\n",
    "        \"format\": \"%(asctime)s - %(name)s - %(levelname)s - %(message)s\",\n",
    "    },\n",
    "    \"data\": {\n",
    "        \"name\": \"IllustrisAPI\",\n",
    "        \"args\": {\n",
    "            \"api_key\": os.environ.get(\"ILLUSTRIS_API_KEY\"),\n",
    "            \"particle_type\": [\"stars\", \"gas\"],\n",
    "            \"simulation\": \"TNG50-1\",\n",
    "            \"snapshot\": 99,\n",
    "            \"save_data_path\": \"data\",\n",
    "        },\n",
    "        \n",
    "        \"load_galaxy_args\": {\n",
    "        \"id\": 11,\n",
    "        \"reuse\": False,\n",
    "        },\n",
    "        \n",
    "        \"subset\": {\n",
    "            \"use_subset\": True,\n",
    "            \"subset_size\": 50000,\n",
    "        },\n",
    "    },\n",
    "    \"simulation\": {\n",
    "        \"name\": \"IllustrisTNG\",\n",
    "        \"args\": {\n",
    "            \"path\": \"data/galaxy-id-11.hdf5\",\n",
    "        },\n",
    "    \n",
    "    },\n",
    "    \"output_path\": \"output\",\n",
    "\n",
    "    \"telescope\":\n",
    "        {\"name\": \"MUSE\",\n",
    "         \"psf\": {\"name\": \"gaussian\", \"size\": 5, \"sigma\": 0.6},\n",
    "         \"lsf\": {\"sigma\": 0.5},\n",
    "         \"noise\": {\"signal_to_noise\": 1,\"noise_distribution\": \"normal\"},},\n",
    "    \"cosmology\":\n",
    "        {\"name\": \"PLANCK15\"},\n",
    "        \n",
    "    \"galaxy\":\n",
    "        {\"dist_z\": 0.1,\n",
    "         \"rotation\": {\"type\": \"edge-on\"},\n",
    "        },\n",
    "        \n",
    "    \"ssp\": {\n",
    "        \"template\": {\n",
    "            \"name\": \"BruzualCharlot2003\"\n",
    "        },\n",
    "        \"dust\": {\n",
    "            \"extinction_model\": \"Cardelli89\", #\"Gordon23\", \n",
    "            \"dust_to_gas_ratio\": 0.01, # need to check Remyer's paper\n",
    "            \"dust_to_metals_ratio\": 0.4, # do we need this ratio if we set the dust_to_gas_ratio?\n",
    "            \"dust_grain_density\": 3.5, # g/cm^3 #check this value\n",
    "            \"Rv\": 3.1,\n",
    "        },\n",
    "    },        \n",
    "}"
   ]
  },
  {
   "cell_type": "code",
   "execution_count": null,
   "metadata": {},
   "outputs": [],
   "source": [
    "#NBVAL_SKIP\n",
    "pipe = RubixPipeline(config)\n",
    "\n",
    "rubixdata_dust = pipe.run()"
   ]
  },
  {
   "cell_type": "markdown",
   "metadata": {},
   "source": [
    "Let's compare one example spaxel spectrum with and without dust."
   ]
  },
  {
   "cell_type": "code",
   "execution_count": null,
   "metadata": {},
   "outputs": [],
   "source": [
    "#NBVAL_SKIP\n",
    "wave = pipe.telescope.wave_seq\n",
    "\n",
    "spectra = rubixdata.stars.datacube # Spectra of all stars\n",
    "dusty_spectra = rubixdata_dust.stars.datacube # Spectra of all stars\n",
    "print(spectra.shape)\n",
    "print(dusty_spectra.shape)\n",
    "\n",
    "plt.plot(wave, spectra[12,12,:])\n",
    "plt.plot(wave, dusty_spectra[12,12,:])"
   ]
  },
  {
   "cell_type": "markdown",
   "metadata": {},
   "source": [
    "# Now let's visualize a nice edge-on galaxy in SDSS broad-band images with some nice dust lanes... "
   ]
  },
  {
   "cell_type": "code",
   "execution_count": null,
   "metadata": {},
   "outputs": [],
   "source": [
    "# NBVAL_SKIP\n",
    "from rubix.telescope.filters import load_filter, convolve_filter_with_spectra"
   ]
  },
  {
   "cell_type": "code",
   "execution_count": null,
   "metadata": {},
   "outputs": [],
   "source": [
    "# NBVAL_SKIP\n",
    "# load all fliter curves for SLOAN\n",
    "curves = load_filter(\"SLOAN\")"
   ]
  },
  {
   "cell_type": "code",
   "execution_count": null,
   "metadata": {},
   "outputs": [],
   "source": [
    "# NBVAL_SKIP\n",
    "wave = pipe.telescope.wave_seq\n",
    "filters,images = curves.apply_filter_curves(rubixdata_dust.stars.datacube, wave).values()\n",
    "\n",
    "for i_dust,name in zip(images, filters):\n",
    "    plt.figure()\n",
    "    plt.imshow(i_dust)\n",
    "    plt.colorbar()\n",
    "    plt.title(name)"
   ]
  },
  {
   "cell_type": "markdown",
   "metadata": {},
   "source": [
    "# Sanity check: overlay gas column density map over the dusty emission image"
   ]
  },
  {
   "cell_type": "code",
   "execution_count": null,
   "metadata": {},
   "outputs": [],
   "source": [
    "# NBVAL_SKIP\n",
    "idx = np.where(rubixdata.gas.mass[0] != 0)\n",
    "gas_map = np.histogram2d(rubixdata.gas.coords[0,:,0][idx], rubixdata.gas.coords[0,:,1][idx], bins=(25,25), weights=np.squeeze(rubixdata.gas.mass)[idx])"
   ]
  },
  {
   "cell_type": "code",
   "execution_count": null,
   "metadata": {},
   "outputs": [],
   "source": [
    "# NBVAL_SKIP\n",
    "plt.figure()\n",
    "plt.imshow(gas_map[0].T, cmap='inferno')\n",
    "plt.colorbar()\n",
    "plt.title(\"gas map\")"
   ]
  },
  {
   "cell_type": "code",
   "execution_count": null,
   "metadata": {},
   "outputs": [],
   "source": [
    "# NBVAL_SKIP\n",
    "plt.figure()\n",
    "plt.imshow(i)\n",
    "plt.imshow(gas_map[0].T, cmap='inferno', alpha=0.6)\n",
    "plt.colorbar()\n",
    "plt.title(\"emission and gas map overlayed\")"
   ]
  },
  {
   "cell_type": "markdown",
   "metadata": {},
   "source": [
    "# And in comparison to this, the same galaxy without dust..."
   ]
  },
  {
   "cell_type": "code",
   "execution_count": null,
   "metadata": {},
   "outputs": [],
   "source": [
    "# NBVAL_SKIP\n",
    "wave = pipe.telescope.wave_seq\n",
    "filters,images = curves.apply_filter_curves(rubixdata.stars.datacube, wave).values()\n",
    "\n",
    "for i,name in zip(images, filters):\n",
    "    plt.figure()\n",
    "    plt.imshow(i)\n",
    "    plt.colorbar()\n",
    "    plt.title(name)"
   ]
  }
 ],
 "metadata": {
  "kernelspec": {
   "display_name": "Python 3",
   "language": "python",
   "name": "python3"
  },
  "language_info": {
   "codemirror_mode": {
    "name": "ipython",
    "version": 3
   },
   "file_extension": ".py",
   "mimetype": "text/x-python",
   "name": "python",
   "nbconvert_exporter": "python",
   "pygments_lexer": "ipython3",
   "version": "3.13.2"
  }
 },
 "nbformat": 4,
 "nbformat_minor": 2
}
