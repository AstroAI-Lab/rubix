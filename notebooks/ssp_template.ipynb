{
 "cells": [
  {
   "cell_type": "code",
   "execution_count": 1,
   "metadata": {},
   "outputs": [],
   "source": [
    "config = {\n",
    "        \"name\": \"Bruzual & Charlot (2003)\",\n",
    "        \"format\": \"HDF5\",\n",
    "        \"source\": \"https://www.bruzual.org/bc03/\",\n",
    "        \"file_path\": \"/home/ufuk/Dokumente/Research/Masterarbeit/rubix/rubix/spectra/ssp/templates/BC03lr.h5\",\n",
    "        \"fields\": {\n",
    "            \"age\": {\n",
    "                \"name\": \"age\",\n",
    "                \"units\": \"Gyr\",\n",
    "                \"in_log\": False\n",
    "            },\n",
    "            \"metallicity\": {\n",
    "                \"name\": \"metallicity\",\n",
    "                \"units\": \"\",\n",
    "                \"in_log\": False\n",
    "            },\n",
    "            \"wavelength\": {\n",
    "                \"name\": \"wavelength\",\n",
    "                \"units\": \"Angstrom\",\n",
    "                \"in_log\": False\n",
    "            },\n",
    "            \"flux\": {\n",
    "                \"name\": \"flux\",\n",
    "                \"units\": \"Lsun/Angstrom\",\n",
    "                \"in_log\": False\n",
    "            }\n",
    "        }\n",
    "    }\n"
   ]
  },
  {
   "cell_type": "code",
   "execution_count": 2,
   "metadata": {},
   "outputs": [
    {
     "name": "stdout",
     "output_type": "stream",
     "text": [
      "dict_keys(['age', 'metallicity', 'wavelength', 'flux'])\n"
     ]
    }
   ],
   "source": [
    "from rubix.spectra.ssp.grid import SSPGrid\n",
    "ssp = SSPGrid.from_hdf5(config)"
   ]
  },
  {
   "cell_type": "code",
   "execution_count": 6,
   "metadata": {},
   "outputs": [
    {
     "data": {
      "text/latex": [
       "$[0.0001,~0.0004,~0.004,~0.008,~0.02,~0.05] \\; \\mathrm{}$"
      ],
      "text/plain": [
       "<Quantity [0.0001, 0.0004, 0.004 , 0.008 , 0.02  , 0.05  ]>"
      ]
     },
     "execution_count": 6,
     "metadata": {},
     "output_type": "execute_result"
    }
   ],
   "source": []
  }
 ],
 "metadata": {
  "kernelspec": {
   "display_name": "rubix",
   "language": "python",
   "name": "python3"
  },
  "language_info": {
   "codemirror_mode": {
    "name": "ipython",
    "version": 3
   },
   "file_extension": ".py",
   "mimetype": "text/x-python",
   "name": "python",
   "nbconvert_exporter": "python",
   "pygments_lexer": "ipython3",
   "version": "3.11.8"
  }
 },
 "nbformat": 4,
 "nbformat_minor": 2
}
