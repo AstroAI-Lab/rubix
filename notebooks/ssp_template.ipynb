{
 "cells": [
  {
   "cell_type": "markdown",
   "metadata": {},
   "source": [
    "Load supported SSP templates"
   ]
  },
  {
   "cell_type": "code",
   "execution_count": null,
   "metadata": {},
   "outputs": [],
   "source": [
    "from rubix.spectra.ssp.templates import BruzualCharlot2003\n",
    "\n",
    "BruzualCharlot2003"
   ]
  },
  {
   "cell_type": "code",
   "execution_count": null,
   "metadata": {},
   "outputs": [],
   "source": [
    "print(BruzualCharlot2003.age)"
   ]
  },
  {
   "cell_type": "markdown",
   "metadata": {},
   "source": [
    "Use custom configuration"
   ]
  },
  {
   "cell_type": "code",
   "execution_count": null,
   "metadata": {},
   "outputs": [],
   "source": [
    "config = {\n",
    "        \"name\": \"Bruzual & Charlot (2003)\",\n",
    "        \"format\": \"HDF5\",\n",
    "        \"source\": \"https://www.bruzual.org/bc03/\",\n",
    "        \"file_name\": \"BC03lr.h5\",\n",
    "        \"fields\": {\n",
    "            \"age\": {\n",
    "                \"name\": \"age\",\n",
    "                \"units\": \"Gyr\",\n",
    "                \"in_log\": False\n",
    "            },\n",
    "            \"metallicity\": {\n",
    "                \"name\": \"metallicity\",\n",
    "                \"units\": \"\",\n",
    "                \"in_log\": False\n",
    "            },\n",
    "            \"wavelength\": {\n",
    "                \"name\": \"wavelength\",\n",
    "                \"units\": \"Angstrom\",\n",
    "                \"in_log\": False\n",
    "            },\n",
    "            \"flux\": {\n",
    "                \"name\": \"flux\",\n",
    "                \"units\": \"Lsun/Angstrom\",\n",
    "                \"in_log\": False\n",
    "            }\n",
    "        }\n",
    "    }\n"
   ]
  },
  {
   "cell_type": "code",
   "execution_count": null,
   "metadata": {},
   "outputs": [],
   "source": [
    "from rubix.spectra.ssp.grid import SSPGrid\n",
    "ssp = SSPGrid.from_hdf5(config, file_location=\"../rubix/spectra/ssp/templates\")\n",
    "ssp"
   ]
  },
  {
   "cell_type": "code",
   "execution_count": null,
   "metadata": {},
   "outputs": [],
   "source": []
  }
 ],
 "metadata": {
  "kernelspec": {
   "display_name": "rubix",
   "language": "python",
   "name": "python3"
  },
  "language_info": {
   "codemirror_mode": {
    "name": "ipython",
    "version": 3
   },
   "file_extension": ".py",
   "mimetype": "text/x-python",
   "name": "python",
   "nbconvert_exporter": "python",
   "pygments_lexer": "ipython3",
   "version": "3.11.8"
  }
 },
 "nbformat": 4,
 "nbformat_minor": 2
}
