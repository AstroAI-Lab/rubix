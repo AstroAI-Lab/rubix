{
 "cells": [
  {
   "cell_type": "code",
   "execution_count": 1,
   "metadata": {},
   "outputs": [],
   "source": [
    "from rubix.telescope import TelescopeFactory\n",
    "\n",
    "telescope_config = {\n",
    "    \"MUSE\": {\n",
    "        \"fov\": 5,\n",
    "        \"spatial_res\": 0.2,\n",
    "        \"wave_range\": [4700.15, 9351.4],\n",
    "        \"wave_res\": 1.25,\n",
    "        \"lsf_fwhm\": 2.51,\n",
    "        \"signal_to_noise\": None,\n",
    "        \"wave_centre\": 6975.775,\n",
    "        \"aperture_type\": \"square\"\n",
    "    }\n",
    "}"
   ]
  },
  {
   "cell_type": "code",
   "execution_count": 2,
   "metadata": {},
   "outputs": [
    {
     "name": "stdout",
     "output_type": "stream",
     "text": [
      "BaseTelescope(\n",
      "  fov=5,\n",
      "  spatial_res=0.2,\n",
      "  wave_range=[4700.15, 9351.4],\n",
      "  wave_res=1.25,\n",
      "  lsf_fwhm=2.51,\n",
      "  signal_to_noise=None,\n",
      "  wave_centre=6975.775,\n",
      "  sbin=25.0,\n",
      "  aperture_region=f32[625],\n",
      "  name='MUSE'\n",
      ")\n"
     ]
    }
   ],
   "source": [
    "factory = TelescopeFactory(telescope_config) # Uses the defined telescope configuration\n",
    "telescope = factory.create_telescope(\"MUSE\")\n",
    "print(telescope)"
   ]
  },
  {
   "cell_type": "code",
   "execution_count": 3,
   "metadata": {},
   "outputs": [
    {
     "name": "stdout",
     "output_type": "stream",
     "text": [
      "BaseTelescope(\n",
      "  fov=5,\n",
      "  spatial_res=0.2,\n",
      "  wave_range=[4700.15, 9351.4],\n",
      "  wave_res=1.25,\n",
      "  lsf_fwhm=2.51,\n",
      "  signal_to_noise=None,\n",
      "  wave_centre=6975.775,\n",
      "  sbin=25.0,\n",
      "  aperture_region=f32[625],\n",
      "  name='MUSE'\n",
      ")\n"
     ]
    },
    {
     "name": "stderr",
     "output_type": "stream",
     "text": [
      "/home/ufuk/Dokumente/Research/Masterarbeit/rubix/rubix/telescope/factory.py:21: UserWarning: No telescope config provided, using default\n",
      "  warnings.warn(\"No telescope config provided, using default\")\n"
     ]
    }
   ],
   "source": [
    "factory = TelescopeFactory() # Uses the default config\n",
    "telescope = factory.create_telescope(\"MUSE\")\n",
    "print(telescope)"
   ]
  },
  {
   "cell_type": "code",
   "execution_count": null,
   "metadata": {},
   "outputs": [],
   "source": []
  }
 ],
 "metadata": {
  "kernelspec": {
   "display_name": "rubix",
   "language": "python",
   "name": "python3"
  },
  "language_info": {
   "codemirror_mode": {
    "name": "ipython",
    "version": 3
   },
   "file_extension": ".py",
   "mimetype": "text/x-python",
   "name": "python",
   "nbconvert_exporter": "python",
   "pygments_lexer": "ipython3",
   "version": "3.11.8"
  }
 },
 "nbformat": 4,
 "nbformat_minor": 2
}
