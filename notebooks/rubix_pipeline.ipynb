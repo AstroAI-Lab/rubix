{
 "cells": [
  {
   "cell_type": "markdown",
   "metadata": {},
   "source": [
    "This is currently under construction.\n",
    "\n",
    "This notebook contains the functions that are called inside the rubix pipeline."
   ]
  },
  {
   "cell_type": "markdown",
   "metadata": {},
   "source": [
    "# Config\n",
    "\n",
    "contains all the information needed to run the pipeline. Those are run specfic configurations."
   ]
  },
  {
   "cell_type": "code",
   "execution_count": null,
   "metadata": {},
   "outputs": [],
   "source": [
    "import os\n",
    "config = {\n",
    "    \"pipeline\":{\"name\": \"calc_ifu\"},\n",
    "    \n",
    "    \"logger\": {\n",
    "        \"log_level\": \"DEBUG\",\n",
    "        \"log_file_path\": None,\n",
    "        \"format\": \"%(asctime)s - %(name)s - %(levelname)s - %(message)s\",\n",
    "    },\n",
    "    \"data\": {\n",
    "        \"name\": \"IllustrisAPI\",\n",
    "        \"args\": {\n",
    "            \"api_key\": os.environ.get(\"ILLUSTRIS_API_KEY\"),\n",
    "            \"particle_type\": [\"stars\"],\n",
    "            \"cube_type\": [\"stars\"],\n",
    "            \"simulation\": \"TNG50-1\",\n",
    "            \"snapshot\": 99,\n",
    "            \"save_data_path\": \"data\",\n",
    "        },\n",
    "        \n",
    "        \"load_galaxy_args\": {\n",
    "        \"id\": 12,\n",
    "        \"reuse\": True,\n",
    "        }\n",
    "    },\n",
    "    \"simulation\": {\n",
    "        \"name\": \"IllustrisTNG\",\n",
    "        \"args\": {\n",
    "            \"path\": \"data/galaxy-id-12.hdf5\",\n",
    "        },\n",
    "    \n",
    "    },\n",
    "    \"output_path\": \"output\",\n",
    "\n",
    "    \"telescope\":\n",
    "        {\"name\": \"MUSE\",\n",
    "         \"psf\": {\"name\": \"gaussian\", \"size\": 5, \"sigma\": 0.6},\n",
    "         \"lsf\": {\"sigma\": 0.5},\n",
    "         \"noise\": {\"signal_to_noise\": 1,\"noise_distribution\": \"normal\"},},\n",
    "        \n",
    "    \"cosmology\":\n",
    "        {\"name\": \"PLANCK15\"},\n",
    "        \n",
    "    \"galaxy\":\n",
    "        {\"dist_z\": 0.1,\n",
    "         \"rotation\": {\"type\": \"edge-on\"},\n",
    "        },\n",
    "    \"ssp\": {\n",
    "        \"template\": {\n",
    "            \"name\": \"BruzualCharlot2003\"\n",
    "        },\n",
    "    },    \n",
    "}"
   ]
  },
  {
   "cell_type": "code",
   "execution_count": null,
   "metadata": {},
   "outputs": [],
   "source": [
    "# NBVAL_SKIP\n",
    "from rubix.core.data import convert_to_rubix, prepare_input\n",
    "\n",
    "convert_to_rubix(config) # Convert the config to rubix format and store in output_path folder\n",
    "rubixdata = prepare_input(config) # Prepare the input for the pipeline"
   ]
  },
  {
   "cell_type": "code",
   "execution_count": null,
   "metadata": {},
   "outputs": [],
   "source": [
    "# NBVAL_SKIP\n",
    "import matplotlib.pyplot as plt\n",
    "# Make a scatter plot \n",
    "n_subset = 10000\n",
    "subset = rubixdata.stars.coords[:n_subset]\n",
    "\n",
    "plt.scatter(subset[:,0], subset[:,1], s=1)\n"
   ]
  },
  {
   "cell_type": "markdown",
   "metadata": {},
   "source": [
    "Get the function that does the binning"
   ]
  },
  {
   "cell_type": "code",
   "execution_count": null,
   "metadata": {},
   "outputs": [],
   "source": [
    "from rubix.core.rotation import get_galaxy_rotation"
   ]
  },
  {
   "cell_type": "code",
   "execution_count": null,
   "metadata": {},
   "outputs": [],
   "source": [
    "print(rubixdata.stars.coords)"
   ]
  },
  {
   "cell_type": "code",
   "execution_count": null,
   "metadata": {},
   "outputs": [],
   "source": [
    "rotate = get_galaxy_rotation(config)\n",
    "rubixdata = rotate(rubixdata)"
   ]
  },
  {
   "cell_type": "code",
   "execution_count": null,
   "metadata": {},
   "outputs": [],
   "source": [
    "print(rubixdata.stars.coords)"
   ]
  },
  {
   "cell_type": "code",
   "execution_count": null,
   "metadata": {},
   "outputs": [],
   "source": [
    "from rubix.core.telescope import get_filter_particles\n",
    "filter_particles = get_filter_particles(config)\n",
    "\n",
    "rubixdata = filter_particles(rubixdata)"
   ]
  },
  {
   "cell_type": "code",
   "execution_count": null,
   "metadata": {},
   "outputs": [],
   "source": [
    "# NBVAL_SKIP\n",
    "from rubix.core.telescope import get_spaxel_assignment\n",
    "bin_particles = get_spaxel_assignment(config)\n",
    "\n",
    "rubixdata = bin_particles(rubixdata)\n",
    "\n",
    "print(rubixdata.stars.pixel_assignment)\n",
    "print(rubixdata.stars.spatial_bin_edges)"
   ]
  },
  {
   "cell_type": "code",
   "execution_count": null,
   "metadata": {},
   "outputs": [],
   "source": [
    "from rubix.core.data import get_reshape_data\n",
    "reshape_data = get_reshape_data(config)\n",
    "\n",
    "rubixdata = reshape_data(rubixdata)"
   ]
  },
  {
   "cell_type": "code",
   "execution_count": null,
   "metadata": {},
   "outputs": [],
   "source": [
    "from rubix.core.ifu import get_calculate_spectra\n",
    "calcultae_spectra = get_calculate_spectra(config)\n",
    "\n",
    "rubixdata = calcultae_spectra(rubixdata)\n",
    "print(rubixdata.stars.spectra)"
   ]
  },
  {
   "cell_type": "code",
   "execution_count": null,
   "metadata": {},
   "outputs": [],
   "source": [
    "from rubix.core.ifu import get_scale_spectrum_by_mass\n",
    "\n",
    "scale_spectrum_by_mass = get_scale_spectrum_by_mass(config)\n",
    "\n",
    "rubixdata = scale_spectrum_by_mass(rubixdata)\n",
    "print(rubixdata.stars.spectra)"
   ]
  },
  {
   "cell_type": "code",
   "execution_count": null,
   "metadata": {},
   "outputs": [],
   "source": [
    "from rubix.core.ifu import get_doppler_shift_and_resampling\n",
    "\n",
    "doppler_shift_and_resampling = get_doppler_shift_and_resampling(config)\n",
    "\n",
    "rubixdata = doppler_shift_and_resampling(rubixdata)\n",
    "print(rubixdata.stars.spectra)"
   ]
  },
  {
   "cell_type": "code",
   "execution_count": null,
   "metadata": {},
   "outputs": [],
   "source": [
    "from rubix.core.pipeline import RubixPipeline \n",
    "\n",
    "pipe = RubixPipeline(config)\n",
    "\n",
    "wave = pipe.telescope.wave_seq\n",
    "print(wave)\n",
    "print(rubixdata.stars.spectra[0][0][:])\n",
    "\n",
    "plt.plot(wave, rubixdata.stars.spectra[0][0][:])\n",
    "plt.plot(wave, rubixdata.stars.spectra[0][1][:])"
   ]
  },
  {
   "cell_type": "code",
   "execution_count": null,
   "metadata": {},
   "outputs": [],
   "source": [
    "from rubix.core.ifu import get_calculate_datacube\n",
    "calculate_datacube = get_calculate_datacube(config)\n",
    "\n",
    "rubixdata = calculate_datacube(rubixdata)\n",
    "print(rubixdata.stars.datacube)"
   ]
  },
  {
   "cell_type": "code",
   "execution_count": null,
   "metadata": {},
   "outputs": [],
   "source": [
    "datacube = rubixdata.stars.datacube\n",
    "img = datacube.sum(axis=2)\n",
    "plt.imshow(img, origin=\"lower\")"
   ]
  },
  {
   "cell_type": "code",
   "execution_count": null,
   "metadata": {},
   "outputs": [],
   "source": [
    "from rubix.core.psf import get_convolve_psf\n",
    "convolve_psf = get_convolve_psf(config)\n",
    "\n",
    "rubixdata = convolve_psf(rubixdata)"
   ]
  },
  {
   "cell_type": "code",
   "execution_count": null,
   "metadata": {},
   "outputs": [],
   "source": [
    "datacube = rubixdata.stars.datacube\n",
    "img = datacube.sum(axis=2)\n",
    "plt.imshow(img, origin=\"lower\")"
   ]
  },
  {
   "cell_type": "code",
   "execution_count": null,
   "metadata": {},
   "outputs": [],
   "source": [
    "plt.plot(wave, datacube[12,12,:])\n",
    "plt.plot(wave, datacube[0,0,:])"
   ]
  },
  {
   "cell_type": "code",
   "execution_count": null,
   "metadata": {},
   "outputs": [],
   "source": [
    "from rubix.core.lsf import get_convolve_lsf\n",
    "convolve_lsf = get_convolve_lsf(config)\n",
    "\n",
    "rubixdata = convolve_lsf(rubixdata)\n",
    "\n",
    "plt.plot(wave, rubixdata.stars.datacube[12,12,:])\n",
    "plt.plot(wave, rubixdata.stars.datacube[0,0,:])\n",
    "print(rubixdata.stars.datacube)"
   ]
  },
  {
   "cell_type": "code",
   "execution_count": null,
   "metadata": {},
   "outputs": [],
   "source": [
    "from rubix.core.noise import get_apply_noise\n",
    "\n",
    "apply_noise = get_apply_noise(config)\n",
    "\n",
    "rubixdata = apply_noise(rubixdata)\n",
    "\n",
    "datacube = rubixdata.stars.datacube\n",
    "img = datacube.sum(axis=2)\n",
    "plt.imshow(img, origin=\"lower\")"
   ]
  },
  {
   "cell_type": "code",
   "execution_count": null,
   "metadata": {},
   "outputs": [],
   "source": [
    "plt.plot(wave, rubixdata.stars.datacube[12,12,:])\n",
    "plt.plot(wave, rubixdata.stars.datacube[0,0,:])"
   ]
  }
 ],
 "metadata": {
  "kernelspec": {
   "display_name": "rubix",
   "language": "python",
   "name": "python3"
  },
  "language_info": {
   "codemirror_mode": {
    "name": "ipython",
    "version": 3
   },
   "file_extension": ".py",
   "mimetype": "text/x-python",
   "name": "python",
   "nbconvert_exporter": "python",
   "pygments_lexer": "ipython3",
   "version": "3.10.13"
  }
 },
 "nbformat": 4,
 "nbformat_minor": 2
}
