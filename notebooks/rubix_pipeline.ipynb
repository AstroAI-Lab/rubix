{
 "cells": [
  {
   "cell_type": "markdown",
   "metadata": {},
   "source": [
    "This is currently under construction.\n",
    "\n",
    "This notebook contains the functions that are called inside the rubix pipeline."
   ]
  },
  {
   "cell_type": "markdown",
   "metadata": {},
   "source": [
    "# Config\n",
    "\n",
    "contains all the information needed to run the pipeline. Those are run specfic configurations."
   ]
  },
  {
   "cell_type": "code",
   "execution_count": 2,
   "metadata": {},
   "outputs": [],
   "source": [
    "import os\n",
    "config = {\n",
    "    \"logger\": {\n",
    "        \"log_level\": \"DEBUG\",\n",
    "        \"log_file_path\": None,\n",
    "        \"format\": \"%(asctime)s - %(name)s - %(levelname)s - %(message)s\",\n",
    "    },\n",
    "    \"data\": {\n",
    "        \"name\": \"IllustrisAPI\",\n",
    "        \"args\": {\n",
    "            \"api_key\": os.environ.get(\"ILLUSTRIS_API_KEY\"),\n",
    "            \"particle_type\": [\"stars\"],\n",
    "            \"simulation\": \"TNG50-1\",\n",
    "            \"snapshot\": 99,\n",
    "            \"save_data_path\": \"data\",\n",
    "        },\n",
    "        \n",
    "        \"load_galaxy_args\": {\n",
    "        \"id\": 14,\n",
    "        \"reuse\": True,\n",
    "        }\n",
    "    },\n",
    "    \"simulation\": {\n",
    "        \"name\": \"IllustrisTNG\",\n",
    "        \"args\": {\n",
    "            \"path\": \"data/galaxy-id-14.hdf5\",\n",
    "        },\n",
    "    \n",
    "    },\n",
    "    \"output_path\": \"output\",\n",
    "\n",
    "    \"telescope\":\n",
    "        {\"name\": \"MUSE\"},\n",
    "        \n",
    "    \"cosmology\":\n",
    "        {\"name\": \"PLANCK15\"},\n",
    "        \n",
    "    \"galaxy\":\n",
    "        {\"dist_z\": 0.1}\n",
    "\n",
    "        \n",
    "}"
   ]
  },
  {
   "cell_type": "code",
   "execution_count": 3,
   "metadata": {},
   "outputs": [
    {
     "name": "stderr",
     "output_type": "stream",
     "text": [
      "2024-08-21 14:36:04,891 - rubix - INFO - \n",
      "   ___  __  _____  _____  __\n",
      "  / _ \\/ / / / _ )/  _/ |/_/\n",
      " / , _/ /_/ / _  |/ /_>  <  \n",
      "/_/|_|\\____/____/___/_/|_|  \n",
      "                            \n",
      "\n",
      "2024-08-21 14:36:04,892 - rubix - INFO - Rubix version: 0.0.post68+g83b3a1f.d20240716\n",
      "2024-08-21 14:36:04,893 - rubix - INFO - Rubix galaxy file already exists, skipping conversion\n"
     ]
    },
    {
     "ename": "ValueError",
     "evalue": "too many values to unpack (expected 5)",
     "output_type": "error",
     "traceback": [
      "\u001b[0;31m---------------------------------------------------------------------------\u001b[0m",
      "\u001b[0;31mValueError\u001b[0m                                Traceback (most recent call last)",
      "Cell \u001b[0;32mIn[3], line 5\u001b[0m\n\u001b[1;32m      2\u001b[0m \u001b[38;5;28;01mfrom\u001b[39;00m \u001b[38;5;21;01mrubix\u001b[39;00m\u001b[38;5;21;01m.\u001b[39;00m\u001b[38;5;21;01mcore\u001b[39;00m\u001b[38;5;21;01m.\u001b[39;00m\u001b[38;5;21;01mdata\u001b[39;00m \u001b[38;5;28;01mimport\u001b[39;00m convert_to_rubix, prepare_input\n\u001b[1;32m      4\u001b[0m convert_to_rubix(config) \u001b[38;5;66;03m# Convert the config to rubix format and store in output_path folder\u001b[39;00m\n\u001b[0;32m----> 5\u001b[0m coords, vel, metallicity, mass, age \u001b[38;5;241m=\u001b[39m prepare_input(config) \u001b[38;5;66;03m# Prepare the input for the pipeline\u001b[39;00m\n",
      "\u001b[0;31mValueError\u001b[0m: too many values to unpack (expected 5)"
     ]
    }
   ],
   "source": [
    "# NBVAL_SKIP\n",
    "from rubix.core.data import convert_to_rubix, prepare_input\n",
    "\n",
    "convert_to_rubix(config) # Convert the config to rubix format and store in output_path folder\n",
    "coords, vel, metallicity, mass, age = prepare_input(config) # Prepare the input for the pipeline"
   ]
  },
  {
   "cell_type": "code",
   "execution_count": null,
   "metadata": {},
   "outputs": [],
   "source": [
    "# NBVAL_SKIP\n",
    "import matplotlib.pyplot as plt\n",
    "# Make a scatter plot \n",
    "n_subset = 10000\n",
    "subset = coords[:n_subset]\n",
    "\n",
    "plt.scatter(subset[:,0], subset[:,1], s=1)\n"
   ]
  },
  {
   "cell_type": "markdown",
   "metadata": {},
   "source": [
    "Get the function that does the binning"
   ]
  },
  {
   "cell_type": "code",
   "execution_count": null,
   "metadata": {},
   "outputs": [],
   "source": [
    "# NBVAL_SKIP\n",
    "from rubix.core.telescope import get_spatial_bin_edges,get_spaxel_assignment"
   ]
  },
  {
   "cell_type": "code",
   "execution_count": null,
   "metadata": {},
   "outputs": [],
   "source": [
    "# NBVAL_SKIP\n",
    "bin_particles = get_spaxel_assignment(config)\n",
    "edges = get_spatial_bin_edges(config)"
   ]
  },
  {
   "cell_type": "code",
   "execution_count": null,
   "metadata": {},
   "outputs": [],
   "source": [
    "# NBVAL_SKIP\n",
    "# Make a scatter plot of the spaxels\n",
    "spaxel_index = bin_particles(coords)\n",
    "\n",
    "print(\"Shape of spaxel_index\", spaxel_index.shape)"
   ]
  },
  {
   "cell_type": "code",
   "execution_count": null,
   "metadata": {},
   "outputs": [],
   "source": [
    "# NBVAL_SKIP\n",
    "# Calculate binned image\n",
    "\n",
    "\n",
    "spatial_bin_edges = edges\n",
    "pixel_assignments = spaxel_index\n",
    "import numpy as np\n",
    "image = np.zeros((len(spatial_bin_edges) - 1, len(spatial_bin_edges) - 1))\n",
    "\n",
    "# Count the number of particles in each pixel\n",
    "for i in range(len(spatial_bin_edges) - 1):\n",
    "    for j in range(len(spatial_bin_edges) - 1):\n",
    "        image[i, j] = np.sum(pixel_assignments == (i + (len(spatial_bin_edges) - 1) * j))\n",
    "\n",
    "image = np.log10(image + 1)\n",
    "plt.imshow(image, cmap=\"viridis\")"
   ]
  }
 ],
 "metadata": {
  "kernelspec": {
   "display_name": "rubix",
   "language": "python",
   "name": "python3"
  },
  "language_info": {
   "codemirror_mode": {
    "name": "ipython",
    "version": 3
   },
   "file_extension": ".py",
   "mimetype": "text/x-python",
   "name": "python",
   "nbconvert_exporter": "python",
   "pygments_lexer": "ipython3",
   "version": "3.10.14"
  }
 },
 "nbformat": 4,
 "nbformat_minor": 2
}
