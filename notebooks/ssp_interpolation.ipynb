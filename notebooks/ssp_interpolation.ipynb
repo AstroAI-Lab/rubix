{
 "cells": [
  {
   "cell_type": "markdown",
   "metadata": {},
   "source": [
    "# SSP interpolation\n",
    "## Load SSP Grid"
   ]
  },
  {
   "cell_type": "code",
   "execution_count": null,
   "metadata": {},
   "outputs": [],
   "source": [
    "# NBVAL_SKIP\n",
    "from rubix.spectra.ssp.templates import BruzualCharlot2003\n",
    "\n",
    "print(BruzualCharlot2003)\n"
   ]
  },
  {
   "cell_type": "markdown",
   "metadata": {},
   "source": [
    "## SSP lookup"
   ]
  },
  {
   "cell_type": "code",
   "execution_count": null,
   "metadata": {},
   "outputs": [],
   "source": [
    "# NBVAL_SKIP\n",
    "import matplotlib.pyplot as plt\n",
    "from rubix.spectra.ssp.templates import BruzualCharlot2003\n",
    "from jax import jit\n",
    "\n",
    "ssp = BruzualCharlot2003\n",
    "wave = ssp.wavelength\n",
    "\n",
    "\n",
    "age_index = 0\n",
    "met_index = 3\n",
    "\n",
    "target_age = ssp.age[age_index] + 0.5*(ssp.age[age_index+1] - ssp.age[age_index])\n",
    "print(target_age)\n",
    "target_met = ssp.metallicity[met_index] + 0.5*(ssp.metallicity[met_index+1] - ssp.metallicity[met_index])\n",
    "\n",
    "lookup = ssp.get_lookup_interpolation()\n",
    "\n",
    "spec_calc = lookup(target_met, target_age)\n",
    "\n",
    "spec_true = ssp.flux[met_index, age_index, :]\n",
    "\n",
    "plt.plot(wave, spec_calc, label='calc')\n",
    "plt.plot(wave, spec_true, label='true')\n",
    "\n",
    "plt.legend()\n",
    "plt.yscale('log')"
   ]
  },
  {
   "cell_type": "code",
   "execution_count": null,
   "metadata": {},
   "outputs": [],
   "source": [
    "# NBVAL_SKIP\n",
    "# Check if it works with jit\n",
    "\n",
    "spec_calc = jit(lookup)(target_met, target_age)\n",
    "\n",
    "plt.plot(wave, spec_calc, label='calc jit')"
   ]
  },
  {
   "cell_type": "code",
   "execution_count": 4,
   "metadata": {},
   "outputs": [],
   "source": [
    "# NBVAL_SKIP\n",
    "from rubix.utils import load_galaxy_data\n",
    "\n",
    "data, units = load_galaxy_data(\"output/rubix_galaxy.h5\")\n",
    "mass = data[\"particle_data\"][\"stars\"][\"mass\"]\n",
    "metallicity = data[\"particle_data\"][\"stars\"][\"metallicity\"]\n",
    "age = data[\"particle_data\"][\"stars\"][\"age\"]"
   ]
  },
  {
   "cell_type": "markdown",
   "metadata": {},
   "source": [
    "## VMAP\n",
    "\n",
    "Vmap the lookup over the stellar particles"
   ]
  },
  {
   "cell_type": "code",
   "execution_count": 5,
   "metadata": {},
   "outputs": [
    {
     "data": {
      "text/plain": [
       "(1000, 842)"
      ]
     },
     "execution_count": 5,
     "metadata": {},
     "output_type": "execute_result"
    }
   ],
   "source": [
    "# NBVAL_SKIP\n",
    "# Calculate spectra with vmap\n",
    "from jax import vmap\n",
    "\n",
    "lookup = ssp.get_lookup_interpolation()\n",
    "\n",
    "subset = 1000\n",
    "\n",
    "# Use only subset because it is too big to fit into gpu memory\n",
    "met_subset = metallicity[:subset]\n",
    "age_subset = age[:subset]\n",
    "\n",
    "\n",
    "# Clip the metallicity and age values to the range of the SSP\n",
    "\n",
    "met_subset = met_subset.clip(min(ssp.metallicity), max(ssp.metallicity))\n",
    "age_subset = age_subset.clip(min(ssp.age), max(ssp.age))\n",
    "\n",
    "\n",
    "spec_calc = vmap(lookup)(met_subset, age_subset)\n",
    "\n",
    "\n",
    "spec_calc.shape\n"
   ]
  },
  {
   "cell_type": "code",
   "execution_count": 7,
   "metadata": {},
   "outputs": [
    {
     "data": {
      "text/plain": [
       "Array(False, dtype=bool)"
      ]
     },
     "execution_count": 7,
     "metadata": {},
     "output_type": "execute_result"
    }
   ],
   "source": [
    "# NBVAL_SKIP\n",
    "# check if it contains nan values\n",
    "import jax.numpy as jnp\n",
    "jnp.isnan(spec_calc).any()"
   ]
  },
  {
   "cell_type": "markdown",
   "metadata": {},
   "source": [
    "# Use configuration to load lookup function"
   ]
  },
  {
   "cell_type": "code",
   "execution_count": 8,
   "metadata": {},
   "outputs": [],
   "source": [
    "#NBVAL_SKIP\n",
    "config ={ \"ssp\": {\n",
    "    \"template\": {\n",
    "      \"name\": \"BruzualCharlot2003\"\n",
    "    },\n",
    "    \"method\": \"cubic\"\n",
    "  }\n",
    "}"
   ]
  },
  {
   "cell_type": "code",
   "execution_count": 9,
   "metadata": {},
   "outputs": [
    {
     "name": "stderr",
     "output_type": "stream",
     "text": [
      "2024-07-16 11:50:06,731 - rubix - DEBUG - Using method defined in config: cubic\n"
     ]
    }
   ],
   "source": [
    "# NBVAL_SKIP\n",
    "from rubix.core.ssp import get_lookup_interpolation\n",
    "\n",
    "lookup = get_lookup_interpolation(config)"
   ]
  },
  {
   "cell_type": "code",
   "execution_count": 10,
   "metadata": {},
   "outputs": [
    {
     "data": {
      "text/plain": [
       "(Array(765, dtype=int32), Array(52295, dtype=int32))"
      ]
     },
     "execution_count": 10,
     "metadata": {},
     "output_type": "execute_result"
    }
   ],
   "source": [
    "# NBVAL_SKIP\n",
    "# Check how many particles are outside the range of the SSP\n",
    "import numpy as np\n",
    "np.sum(metallicity < ssp.metallicity[0]), np.sum(metallicity > ssp.metallicity[-1])"
   ]
  },
  {
   "cell_type": "code",
   "execution_count": 11,
   "metadata": {},
   "outputs": [
    {
     "data": {
      "text/plain": [
       "(Array(0, dtype=int32), Array(112209, dtype=int32))"
      ]
     },
     "execution_count": 11,
     "metadata": {},
     "output_type": "execute_result"
    }
   ],
   "source": [
    "# NBVAL_SKIP\n",
    "np.sum(age < ssp.age[0]), np.sum(age > ssp.age[-1])"
   ]
  },
  {
   "cell_type": "code",
   "execution_count": 12,
   "metadata": {},
   "outputs": [
    {
     "data": {
      "text/plain": [
       "649384"
      ]
     },
     "execution_count": 12,
     "metadata": {},
     "output_type": "execute_result"
    }
   ],
   "source": [
    "# NBVAL_SKIP\n",
    "len(metallicity)"
   ]
  },
  {
   "cell_type": "code",
   "execution_count": 13,
   "metadata": {},
   "outputs": [
    {
     "data": {
      "text/plain": [
       "Array([[ 1.6269833e-04,  2.1775998e-04,  2.6080012e-04, ...,\n",
       "         2.7193467e-04,  2.6691900e-04,  2.6253317e-04],\n",
       "       [ 0.0000000e+00,  0.0000000e+00,  0.0000000e+00, ...,\n",
       "         3.3473026e-04,  3.2869022e-04,  3.2401134e-04],\n",
       "       [ 6.7457506e-05,  9.8355034e-05,  1.2561669e-04, ...,\n",
       "         7.3448784e-04,  7.2058832e-04,  7.0978311e-04],\n",
       "       ...,\n",
       "       [-2.7331212e-03, -2.8226445e-03, -2.8494801e-03, ...,\n",
       "         3.3740103e-04,  3.3112825e-04,  3.2580519e-04],\n",
       "       [ 4.2508356e-05,  6.2172767e-05,  7.9579884e-05, ...,\n",
       "         1.3732283e-03,  1.3470872e-03,  1.3274353e-03],\n",
       "       [-5.4081436e-03, -5.6985402e-03, -5.8084256e-03, ...,\n",
       "         2.3222195e-04,  2.2796373e-04,  2.2408615e-04]], dtype=float32)"
      ]
     },
     "execution_count": 13,
     "metadata": {},
     "output_type": "execute_result"
    }
   ],
   "source": [
    "# NBVAL_SKIP\n",
    "# clip the metallicity and age values to the range of the SSP\n",
    "met_subset = met_subset.clip(min(ssp.metallicity), max(ssp.metallicity))\n",
    "age_subset = age_subset.clip(min(ssp.age), max(ssp.age))\n",
    "lookup(met_subset, age_subset)"
   ]
  }
 ],
 "metadata": {
  "kernelspec": {
   "display_name": "rubix",
   "language": "python",
   "name": "python3"
  },
  "language_info": {
   "codemirror_mode": {
    "name": "ipython",
    "version": 3
   },
   "file_extension": ".py",
   "mimetype": "text/x-python",
   "name": "python",
   "nbconvert_exporter": "python",
   "pygments_lexer": "ipython3",
   "version": "3.10.13"
  }
 },
 "nbformat": 4,
 "nbformat_minor": 2
}
