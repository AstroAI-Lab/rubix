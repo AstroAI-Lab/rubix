{
 "cells": [
  {
   "cell_type": "markdown",
   "metadata": {},
   "source": [
    "# Load SSP Grid"
   ]
  },
  {
   "cell_type": "code",
   "execution_count": null,
   "metadata": {},
   "outputs": [],
   "source": [
    "# NBVAL_SKIP\n",
    "from rubix.spectra.ssp.templates import BruzualCharlot2003\n",
    "\n",
    "print(BruzualCharlot2003)\n"
   ]
  },
  {
   "cell_type": "markdown",
   "metadata": {},
   "source": [
    "SSP lookup"
   ]
  },
  {
   "cell_type": "code",
   "execution_count": null,
   "metadata": {},
   "outputs": [],
   "source": [
    "# NBVAL_SKIP\n",
    "import matplotlib.pyplot as plt\n",
    "from rubix.spectra.ssp.templates import BruzualCharlot2003\n",
    "from jax import jit\n",
    "\n",
    "ssp = BruzualCharlot2003\n",
    "wave = ssp.wavelength\n",
    "\n",
    "\n",
    "age_index = 0\n",
    "met_index = 3\n",
    "\n",
    "target_age = ssp.age[age_index] + 0.5*(ssp.age[age_index+1] - ssp.age[age_index])\n",
    "print(target_age)\n",
    "target_met = ssp.metallicity[met_index] + 0.5*(ssp.metallicity[met_index+1] - ssp.metallicity[met_index])\n",
    "\n",
    "lookup = ssp.get_lookup_interpolation()\n",
    "\n",
    "spec_calc = lookup(target_met, target_age)\n",
    "\n",
    "spec_true = ssp.flux[met_index, age_index, :]\n",
    "\n",
    "plt.plot(wave, spec_calc, label='calc')\n",
    "plt.plot(wave, spec_true, label='true')\n",
    "\n",
    "plt.legend()\n",
    "plt.yscale('log')"
   ]
  },
  {
   "cell_type": "code",
   "execution_count": null,
   "metadata": {},
   "outputs": [],
   "source": [
    "# NBVAL_SKIP\n",
    "# Check if it works with jit\n",
    "\n",
    "spec_calc = jit(lookup)(target_met, target_age)\n",
    "\n",
    "plt.plot(wave, spec_calc, label='calc jit')"
   ]
  },
  {
   "cell_type": "code",
   "execution_count": null,
   "metadata": {},
   "outputs": [],
   "source": [
    "# NBVAL_SKIP\n",
    "from rubix.utils import load_galaxy_data\n",
    "\n",
    "data, units = load_galaxy_data(\"output/rubix_galaxy.h5\")\n",
    "mass = data[\"particle_data\"][\"stars\"][\"mass\"]\n",
    "metallicity = data[\"particle_data\"][\"stars\"][\"metallicity\"]\n",
    "age = data[\"particle_data\"][\"stars\"][\"age\"]"
   ]
  },
  {
   "cell_type": "markdown",
   "metadata": {},
   "source": [
    "Vmap"
   ]
  },
  {
   "cell_type": "code",
   "execution_count": null,
   "metadata": {},
   "outputs": [],
   "source": [
    "# NBVAL_SKIP\n",
    "# Calculate spectra with vmap\n",
    "from jax import vmap\n",
    "\n",
    "lookup = ssp.get_lookup_interpolation()\n",
    "\n",
    "subset = 1000\n",
    "\n",
    "# Use only subset because it is too big to fit into gpu memory\n",
    "met_subset = metallicity[:subset]\n",
    "age_subset = age[:subset]\n",
    "\n",
    "\n",
    "# Clip the metallicity and age values to the range of the SSP\n",
    "\n",
    "met_subset = met_subset.clip(min(ssp.metallicity), max(ssp.metallicity))\n",
    "age_subset = age_subset.clip(min(ssp.age), max(ssp.age))\n",
    "\n",
    "\n",
    "spec_calc = vmap(lookup)(met_subset, age_subset)\n",
    "\n",
    "\n",
    "spec_calc.shape\n"
   ]
  },
  {
   "cell_type": "code",
   "execution_count": null,
   "metadata": {},
   "outputs": [],
   "source": [
    "# NBVAL_SKIP\n",
    "# check if it contains nan values\n",
    "import jax.numpy as jnp\n",
    "jnp.isnan(spec_calc).any()"
   ]
  },
  {
   "cell_type": "markdown",
   "metadata": {},
   "source": [
    "# Use configuration to load lookup function"
   ]
  },
  {
   "cell_type": "code",
   "execution_count": null,
   "metadata": {},
   "outputs": [],
   "source": [
    "config ={ \"ssp\": {\n",
    "    \"template\": {\n",
    "      \"name\": \"BruzualCharlot2003\"\n",
    "    },\n",
    "    \"method\": \"cubic\"\n",
    "  }\n",
    "}"
   ]
  },
  {
   "cell_type": "code",
   "execution_count": null,
   "metadata": {},
   "outputs": [],
   "source": [
    "# NBVAL_SKIP\n",
    "from rubix.core.ssp import get_lookup_interpolation\n",
    "\n",
    "lookup = get_lookup_interpolation(config)"
   ]
  },
  {
   "cell_type": "code",
   "execution_count": null,
   "metadata": {},
   "outputs": [],
   "source": [
    "# NBVAL_SKIP\n",
    "# Check how many particles are outside the range of the SSP\n",
    "import numpy as np\n",
    "np.sum(metallicity < ssp.metallicity[0]), np.sum(metallicity > ssp.metallicity[-1])"
   ]
  },
  {
   "cell_type": "code",
   "execution_count": null,
   "metadata": {},
   "outputs": [],
   "source": [
    "# NBVAL_SKIP\n",
    "np.sum(age < ssp.age[0]), np.sum(age > ssp.age[-1])"
   ]
  },
  {
   "cell_type": "code",
   "execution_count": null,
   "metadata": {},
   "outputs": [],
   "source": [
    "# NBVAL_SKIP\n",
    "len(metallicity)"
   ]
  },
  {
   "cell_type": "code",
   "execution_count": null,
   "metadata": {},
   "outputs": [],
   "source": [
    "# NBVAL_SKIP\n",
    "# clip the metallicity and age values to the range of the SSP\n",
    "met_subset = met_subset.clip(min(ssp.metallicity), max(ssp.metallicity))\n",
    "age_subset = age_subset.clip(min(ssp.age), max(ssp.age))\n",
    "lookup(met_subset, age_subset)"
   ]
  }
 ],
 "metadata": {
  "kernelspec": {
   "display_name": "rubix",
   "language": "python",
   "name": "python3"
  },
  "language_info": {
   "codemirror_mode": {
    "name": "ipython",
    "version": 3
   },
   "file_extension": ".py",
   "mimetype": "text/x-python",
   "name": "python",
   "nbconvert_exporter": "python",
   "pygments_lexer": "ipython3",
   "version": "3.11.8"
  }
 },
 "nbformat": 4,
 "nbformat_minor": 2
}
