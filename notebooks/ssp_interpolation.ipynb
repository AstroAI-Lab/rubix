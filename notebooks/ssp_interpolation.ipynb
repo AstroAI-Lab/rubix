{
 "cells": [
  {
   "cell_type": "markdown",
   "metadata": {},
   "source": [
    "# Load SSP Grid"
   ]
  },
  {
   "cell_type": "code",
   "execution_count": 1,
   "metadata": {},
   "outputs": [
    {
     "name": "stderr",
     "output_type": "stream",
     "text": [
      "2024-06-05 21:18:05,125 - rubix - INFO - [SSPModels] File /Users/buck/Documents/Nexus/projects/Rubix/rubix/spectra/ssp/templates/MaStar_CB19.slog_1_5.fits not found. Downloading it from http://ifs.astroscu.unam.mx/pyPipe3D/templates/\n",
      "2024-06-05 21:18:05,460 - rubix - ERROR - [SSPModels] Error: 404 Client Error: Not Found for url: http://ifs.astroscu.unam.mx/pyPipe3D/templates/MaStar_CB19.slog_1_5.fits\n"
     ]
    },
    {
     "ename": "FileNotFoundError",
     "evalue": "Could not download file MaStar_CB19.slog_1_5.fits from url http://ifs.astroscu.unam.mx/pyPipe3D/templates/.",
     "output_type": "error",
     "traceback": [
      "\u001b[0;31m---------------------------------------------------------------------------\u001b[0m",
      "\u001b[0;31mFileNotFoundError\u001b[0m                         Traceback (most recent call last)",
      "Cell \u001b[0;32mIn [1], line 2\u001b[0m\n\u001b[1;32m      1\u001b[0m \u001b[38;5;66;03m# NBVAL_SKIP\u001b[39;00m\n\u001b[0;32m----> 2\u001b[0m \u001b[38;5;28;01mfrom\u001b[39;00m \u001b[38;5;21;01mrubix\u001b[39;00m\u001b[38;5;21;01m.\u001b[39;00m\u001b[38;5;21;01mspectra\u001b[39;00m\u001b[38;5;21;01m.\u001b[39;00m\u001b[38;5;21;01mssp\u001b[39;00m\u001b[38;5;21;01m.\u001b[39;00m\u001b[38;5;21;01mtemplates\u001b[39;00m \u001b[38;5;28;01mimport\u001b[39;00m BruzualCharlot2003\n\u001b[1;32m      4\u001b[0m \u001b[38;5;28mprint\u001b[39m(BruzualCharlot2003)\n",
      "File \u001b[0;32m~/Documents/Nexus/projects/Rubix/rubix/spectra/ssp/templates.py:6\u001b[0m\n\u001b[1;32m      3\u001b[0m \u001b[38;5;28;01mfrom\u001b[39;00m \u001b[38;5;21;01m.\u001b[39;00m\u001b[38;5;21;01mfactory\u001b[39;00m \u001b[38;5;28;01mimport\u001b[39;00m get_ssp_template\n\u001b[1;32m      5\u001b[0m BruzualCharlot2003 \u001b[38;5;241m=\u001b[39m get_ssp_template(\u001b[38;5;124m\"\u001b[39m\u001b[38;5;124mBruzualCharlot2003\u001b[39m\u001b[38;5;124m\"\u001b[39m)\n\u001b[0;32m----> 6\u001b[0m MaStar_CB19_SLOG_1_5 \u001b[38;5;241m=\u001b[39m \u001b[43mget_ssp_template\u001b[49m\u001b[43m(\u001b[49m\u001b[38;5;124;43m\"\u001b[39;49m\u001b[38;5;124;43mMastar_CB19_SLOG_1_5\u001b[39;49m\u001b[38;5;124;43m\"\u001b[39;49m\u001b[43m)\u001b[49m\n\u001b[1;32m      9\u001b[0m __all__ \u001b[38;5;241m=\u001b[39m [\u001b[38;5;124m\"\u001b[39m\u001b[38;5;124mBruzualCharlot2003\u001b[39m\u001b[38;5;124m\"\u001b[39m, \u001b[38;5;124m\"\u001b[39m\u001b[38;5;124mMastar_CB19_SLOG_1_5\u001b[39m\u001b[38;5;124m\"\u001b[39m]\n",
      "File \u001b[0;32m~/Documents/Nexus/projects/Rubix/rubix/spectra/ssp/factory.py:28\u001b[0m, in \u001b[0;36mget_ssp_template\u001b[0;34m(name)\u001b[0m\n\u001b[1;32m     26\u001b[0m     \u001b[38;5;28;01mreturn\u001b[39;00m HDF5SSPGrid\u001b[38;5;241m.\u001b[39mfrom_file(config[name], file_location\u001b[38;5;241m=\u001b[39mTEMPLATE_PATH)\n\u001b[1;32m     27\u001b[0m \u001b[38;5;28;01melif\u001b[39;00m config[name][\u001b[38;5;124m\"\u001b[39m\u001b[38;5;124mformat\u001b[39m\u001b[38;5;124m\"\u001b[39m]\u001b[38;5;241m.\u001b[39mlower() \u001b[38;5;241m==\u001b[39m \u001b[38;5;124m\"\u001b[39m\u001b[38;5;124mpypipe3d\u001b[39m\u001b[38;5;124m\"\u001b[39m:\n\u001b[0;32m---> 28\u001b[0m     \u001b[38;5;28;01mreturn\u001b[39;00m \u001b[43mpyPipe3DSSPGrid\u001b[49m\u001b[38;5;241;43m.\u001b[39;49m\u001b[43mfrom_file\u001b[49m\u001b[43m(\u001b[49m\u001b[43mconfig\u001b[49m\u001b[43m[\u001b[49m\u001b[43mname\u001b[49m\u001b[43m]\u001b[49m\u001b[43m,\u001b[49m\u001b[43m \u001b[49m\u001b[43mfile_location\u001b[49m\u001b[38;5;241;43m=\u001b[39;49m\u001b[43mTEMPLATE_PATH\u001b[49m\u001b[43m)\u001b[49m\n\u001b[1;32m     31\u001b[0m \u001b[38;5;28;01melse\u001b[39;00m:\n\u001b[1;32m     32\u001b[0m     \u001b[38;5;28;01mraise\u001b[39;00m \u001b[38;5;167;01mValueError\u001b[39;00m(\u001b[38;5;124m\"\u001b[39m\u001b[38;5;124mCurrently only HDF5 format and fits files in the format of pyPipe3D format are supported for SSP templates.\u001b[39m\u001b[38;5;124m\"\u001b[39m)\n",
      "File \u001b[0;32m~/Documents/Nexus/projects/Rubix/rubix/spectra/ssp/grid.py:380\u001b[0m, in \u001b[0;36mpyPipe3DSSPGrid.from_file\u001b[0;34m(cls, config, file_location)\u001b[0m\n\u001b[1;32m    377\u001b[0m \u001b[38;5;28;01mif\u001b[39;00m config\u001b[38;5;241m.\u001b[39mget(\u001b[38;5;124m\"\u001b[39m\u001b[38;5;124mformat\u001b[39m\u001b[38;5;124m\"\u001b[39m, \u001b[38;5;124m\"\u001b[39m\u001b[38;5;124m\"\u001b[39m)\u001b[38;5;241m.\u001b[39mlower() \u001b[38;5;241m!=\u001b[39m \u001b[38;5;124m\"\u001b[39m\u001b[38;5;124mpypipe3d\u001b[39m\u001b[38;5;124m\"\u001b[39m:\n\u001b[1;32m    378\u001b[0m     \u001b[38;5;28;01mraise\u001b[39;00m \u001b[38;5;167;01mValueError\u001b[39;00m(\u001b[38;5;124m\"\u001b[39m\u001b[38;5;124mConfigured file format is not fits.\u001b[39m\u001b[38;5;124m\"\u001b[39m)\n\u001b[0;32m--> 380\u001b[0m file_path \u001b[38;5;241m=\u001b[39m \u001b[38;5;28;43mcls\u001b[39;49m\u001b[38;5;241;43m.\u001b[39;49m\u001b[43mcheckout_SSP_template\u001b[49m\u001b[43m(\u001b[49m\u001b[43mconfig\u001b[49m\u001b[43m,\u001b[49m\u001b[43m \u001b[49m\u001b[43mfile_location\u001b[49m\u001b[43m)\u001b[49m\n\u001b[1;32m    382\u001b[0m ssp_data \u001b[38;5;241m=\u001b[39m {}\n\u001b[1;32m    383\u001b[0m \u001b[38;5;28;01mwith\u001b[39;00m fits\u001b[38;5;241m.\u001b[39mopen(file_path) \u001b[38;5;28;01mas\u001b[39;00m f:\n",
      "File \u001b[0;32m~/Documents/Nexus/projects/Rubix/rubix/spectra/ssp/grid.py:125\u001b[0m, in \u001b[0;36mSSPGrid.checkout_SSP_template\u001b[0;34m(config, file_location)\u001b[0m\n\u001b[1;32m    122\u001b[0m         _logger\u001b[38;5;241m.\u001b[39merror(\u001b[38;5;124mf\u001b[39m\u001b[38;5;124m'\u001b[39m\u001b[38;5;124m[SSPModels] Error: \u001b[39m\u001b[38;5;132;01m{\u001b[39;00merr\u001b[38;5;132;01m}\u001b[39;00m\u001b[38;5;124m'\u001b[39m)\n\u001b[1;32m    123\u001b[0m     \u001b[38;5;66;03m#except requests.exceptions.HTTPError as errh:\u001b[39;00m\n\u001b[1;32m    124\u001b[0m     \u001b[38;5;66;03m#    print(\"Http Error:\",errh)\u001b[39;00m\n\u001b[0;32m--> 125\u001b[0m     \u001b[38;5;28;01mraise\u001b[39;00m \u001b[38;5;167;01mFileNotFoundError\u001b[39;00m(\u001b[38;5;124mf\u001b[39m\u001b[38;5;124m\"\u001b[39m\u001b[38;5;124mCould not download file \u001b[39m\u001b[38;5;132;01m{\u001b[39;00mconfig[\u001b[38;5;124m'\u001b[39m\u001b[38;5;124mfile_name\u001b[39m\u001b[38;5;124m'\u001b[39m]\u001b[38;5;132;01m}\u001b[39;00m\u001b[38;5;124m from url \u001b[39m\u001b[38;5;132;01m{\u001b[39;00mconfig[\u001b[38;5;124m'\u001b[39m\u001b[38;5;124msource\u001b[39m\u001b[38;5;124m'\u001b[39m]\u001b[38;5;132;01m}\u001b[39;00m\u001b[38;5;124m.\u001b[39m\u001b[38;5;124m\"\u001b[39m)\n\u001b[1;32m    126\u001b[0m \u001b[38;5;28;01melse\u001b[39;00m:\n\u001b[1;32m    127\u001b[0m     \u001b[38;5;28;01mreturn\u001b[39;00m file_path\n",
      "\u001b[0;31mFileNotFoundError\u001b[0m: Could not download file MaStar_CB19.slog_1_5.fits from url http://ifs.astroscu.unam.mx/pyPipe3D/templates/."
     ]
    }
   ],
   "source": [
    "# NBVAL_SKIP\n",
    "from rubix.spectra.ssp.templates import BruzualCharlot2003\n",
    "\n",
    "print(BruzualCharlot2003)\n"
   ]
  },
  {
   "cell_type": "markdown",
   "metadata": {},
   "source": [
    "SSP lookup"
   ]
  },
  {
   "cell_type": "code",
   "execution_count": 2,
   "metadata": {},
   "outputs": [
    {
     "name": "stderr",
     "output_type": "stream",
     "text": [
      "2024-06-05 21:18:11,891 - rubix - INFO - [SSPModels] File /Users/buck/Documents/Nexus/projects/Rubix/rubix/spectra/ssp/templates/MaStar_CB19.slog_1_5.fits not found. Downloading it from http://ifs.astroscu.unam.mx/pyPipe3D/templates/\n",
      "2024-06-05 21:18:12,226 - rubix - ERROR - [SSPModels] Error: 404 Client Error: Not Found for url: http://ifs.astroscu.unam.mx/pyPipe3D/templates/MaStar_CB19.slog_1_5.fits\n"
     ]
    },
    {
     "ename": "FileNotFoundError",
     "evalue": "Could not download file MaStar_CB19.slog_1_5.fits from url http://ifs.astroscu.unam.mx/pyPipe3D/templates/.",
     "output_type": "error",
     "traceback": [
      "\u001b[0;31m---------------------------------------------------------------------------\u001b[0m",
      "\u001b[0;31mFileNotFoundError\u001b[0m                         Traceback (most recent call last)",
      "Cell \u001b[0;32mIn [2], line 3\u001b[0m\n\u001b[1;32m      1\u001b[0m \u001b[38;5;66;03m# NBVAL_SKIP\u001b[39;00m\n\u001b[1;32m      2\u001b[0m \u001b[38;5;28;01mimport\u001b[39;00m \u001b[38;5;21;01mmatplotlib\u001b[39;00m\u001b[38;5;21;01m.\u001b[39;00m\u001b[38;5;21;01mpyplot\u001b[39;00m \u001b[38;5;28;01mas\u001b[39;00m \u001b[38;5;21;01mplt\u001b[39;00m\n\u001b[0;32m----> 3\u001b[0m \u001b[38;5;28;01mfrom\u001b[39;00m \u001b[38;5;21;01mrubix\u001b[39;00m\u001b[38;5;21;01m.\u001b[39;00m\u001b[38;5;21;01mspectra\u001b[39;00m\u001b[38;5;21;01m.\u001b[39;00m\u001b[38;5;21;01mssp\u001b[39;00m\u001b[38;5;21;01m.\u001b[39;00m\u001b[38;5;21;01mtemplates\u001b[39;00m \u001b[38;5;28;01mimport\u001b[39;00m BruzualCharlot2003\n\u001b[1;32m      4\u001b[0m \u001b[38;5;28;01mfrom\u001b[39;00m \u001b[38;5;21;01mjax\u001b[39;00m \u001b[38;5;28;01mimport\u001b[39;00m jit\n\u001b[1;32m      6\u001b[0m ssp \u001b[38;5;241m=\u001b[39m BruzualCharlot2003\n",
      "File \u001b[0;32m~/Documents/Nexus/projects/Rubix/rubix/spectra/ssp/templates.py:6\u001b[0m\n\u001b[1;32m      3\u001b[0m \u001b[38;5;28;01mfrom\u001b[39;00m \u001b[38;5;21;01m.\u001b[39;00m\u001b[38;5;21;01mfactory\u001b[39;00m \u001b[38;5;28;01mimport\u001b[39;00m get_ssp_template\n\u001b[1;32m      5\u001b[0m BruzualCharlot2003 \u001b[38;5;241m=\u001b[39m get_ssp_template(\u001b[38;5;124m\"\u001b[39m\u001b[38;5;124mBruzualCharlot2003\u001b[39m\u001b[38;5;124m\"\u001b[39m)\n\u001b[0;32m----> 6\u001b[0m MaStar_CB19_SLOG_1_5 \u001b[38;5;241m=\u001b[39m \u001b[43mget_ssp_template\u001b[49m\u001b[43m(\u001b[49m\u001b[38;5;124;43m\"\u001b[39;49m\u001b[38;5;124;43mMastar_CB19_SLOG_1_5\u001b[39;49m\u001b[38;5;124;43m\"\u001b[39;49m\u001b[43m)\u001b[49m\n\u001b[1;32m      9\u001b[0m __all__ \u001b[38;5;241m=\u001b[39m [\u001b[38;5;124m\"\u001b[39m\u001b[38;5;124mBruzualCharlot2003\u001b[39m\u001b[38;5;124m\"\u001b[39m, \u001b[38;5;124m\"\u001b[39m\u001b[38;5;124mMastar_CB19_SLOG_1_5\u001b[39m\u001b[38;5;124m\"\u001b[39m]\n",
      "File \u001b[0;32m~/Documents/Nexus/projects/Rubix/rubix/spectra/ssp/factory.py:28\u001b[0m, in \u001b[0;36mget_ssp_template\u001b[0;34m(name)\u001b[0m\n\u001b[1;32m     26\u001b[0m     \u001b[38;5;28;01mreturn\u001b[39;00m HDF5SSPGrid\u001b[38;5;241m.\u001b[39mfrom_file(config[name], file_location\u001b[38;5;241m=\u001b[39mTEMPLATE_PATH)\n\u001b[1;32m     27\u001b[0m \u001b[38;5;28;01melif\u001b[39;00m config[name][\u001b[38;5;124m\"\u001b[39m\u001b[38;5;124mformat\u001b[39m\u001b[38;5;124m\"\u001b[39m]\u001b[38;5;241m.\u001b[39mlower() \u001b[38;5;241m==\u001b[39m \u001b[38;5;124m\"\u001b[39m\u001b[38;5;124mpypipe3d\u001b[39m\u001b[38;5;124m\"\u001b[39m:\n\u001b[0;32m---> 28\u001b[0m     \u001b[38;5;28;01mreturn\u001b[39;00m \u001b[43mpyPipe3DSSPGrid\u001b[49m\u001b[38;5;241;43m.\u001b[39;49m\u001b[43mfrom_file\u001b[49m\u001b[43m(\u001b[49m\u001b[43mconfig\u001b[49m\u001b[43m[\u001b[49m\u001b[43mname\u001b[49m\u001b[43m]\u001b[49m\u001b[43m,\u001b[49m\u001b[43m \u001b[49m\u001b[43mfile_location\u001b[49m\u001b[38;5;241;43m=\u001b[39;49m\u001b[43mTEMPLATE_PATH\u001b[49m\u001b[43m)\u001b[49m\n\u001b[1;32m     31\u001b[0m \u001b[38;5;28;01melse\u001b[39;00m:\n\u001b[1;32m     32\u001b[0m     \u001b[38;5;28;01mraise\u001b[39;00m \u001b[38;5;167;01mValueError\u001b[39;00m(\u001b[38;5;124m\"\u001b[39m\u001b[38;5;124mCurrently only HDF5 format and fits files in the format of pyPipe3D format are supported for SSP templates.\u001b[39m\u001b[38;5;124m\"\u001b[39m)\n",
      "File \u001b[0;32m~/Documents/Nexus/projects/Rubix/rubix/spectra/ssp/grid.py:380\u001b[0m, in \u001b[0;36mpyPipe3DSSPGrid.from_file\u001b[0;34m(cls, config, file_location)\u001b[0m\n\u001b[1;32m    377\u001b[0m \u001b[38;5;28;01mif\u001b[39;00m config\u001b[38;5;241m.\u001b[39mget(\u001b[38;5;124m\"\u001b[39m\u001b[38;5;124mformat\u001b[39m\u001b[38;5;124m\"\u001b[39m, \u001b[38;5;124m\"\u001b[39m\u001b[38;5;124m\"\u001b[39m)\u001b[38;5;241m.\u001b[39mlower() \u001b[38;5;241m!=\u001b[39m \u001b[38;5;124m\"\u001b[39m\u001b[38;5;124mpypipe3d\u001b[39m\u001b[38;5;124m\"\u001b[39m:\n\u001b[1;32m    378\u001b[0m     \u001b[38;5;28;01mraise\u001b[39;00m \u001b[38;5;167;01mValueError\u001b[39;00m(\u001b[38;5;124m\"\u001b[39m\u001b[38;5;124mConfigured file format is not fits.\u001b[39m\u001b[38;5;124m\"\u001b[39m)\n\u001b[0;32m--> 380\u001b[0m file_path \u001b[38;5;241m=\u001b[39m \u001b[38;5;28;43mcls\u001b[39;49m\u001b[38;5;241;43m.\u001b[39;49m\u001b[43mcheckout_SSP_template\u001b[49m\u001b[43m(\u001b[49m\u001b[43mconfig\u001b[49m\u001b[43m,\u001b[49m\u001b[43m \u001b[49m\u001b[43mfile_location\u001b[49m\u001b[43m)\u001b[49m\n\u001b[1;32m    382\u001b[0m ssp_data \u001b[38;5;241m=\u001b[39m {}\n\u001b[1;32m    383\u001b[0m \u001b[38;5;28;01mwith\u001b[39;00m fits\u001b[38;5;241m.\u001b[39mopen(file_path) \u001b[38;5;28;01mas\u001b[39;00m f:\n",
      "File \u001b[0;32m~/Documents/Nexus/projects/Rubix/rubix/spectra/ssp/grid.py:125\u001b[0m, in \u001b[0;36mSSPGrid.checkout_SSP_template\u001b[0;34m(config, file_location)\u001b[0m\n\u001b[1;32m    122\u001b[0m         _logger\u001b[38;5;241m.\u001b[39merror(\u001b[38;5;124mf\u001b[39m\u001b[38;5;124m'\u001b[39m\u001b[38;5;124m[SSPModels] Error: \u001b[39m\u001b[38;5;132;01m{\u001b[39;00merr\u001b[38;5;132;01m}\u001b[39;00m\u001b[38;5;124m'\u001b[39m)\n\u001b[1;32m    123\u001b[0m     \u001b[38;5;66;03m#except requests.exceptions.HTTPError as errh:\u001b[39;00m\n\u001b[1;32m    124\u001b[0m     \u001b[38;5;66;03m#    print(\"Http Error:\",errh)\u001b[39;00m\n\u001b[0;32m--> 125\u001b[0m     \u001b[38;5;28;01mraise\u001b[39;00m \u001b[38;5;167;01mFileNotFoundError\u001b[39;00m(\u001b[38;5;124mf\u001b[39m\u001b[38;5;124m\"\u001b[39m\u001b[38;5;124mCould not download file \u001b[39m\u001b[38;5;132;01m{\u001b[39;00mconfig[\u001b[38;5;124m'\u001b[39m\u001b[38;5;124mfile_name\u001b[39m\u001b[38;5;124m'\u001b[39m]\u001b[38;5;132;01m}\u001b[39;00m\u001b[38;5;124m from url \u001b[39m\u001b[38;5;132;01m{\u001b[39;00mconfig[\u001b[38;5;124m'\u001b[39m\u001b[38;5;124msource\u001b[39m\u001b[38;5;124m'\u001b[39m]\u001b[38;5;132;01m}\u001b[39;00m\u001b[38;5;124m.\u001b[39m\u001b[38;5;124m\"\u001b[39m)\n\u001b[1;32m    126\u001b[0m \u001b[38;5;28;01melse\u001b[39;00m:\n\u001b[1;32m    127\u001b[0m     \u001b[38;5;28;01mreturn\u001b[39;00m file_path\n",
      "\u001b[0;31mFileNotFoundError\u001b[0m: Could not download file MaStar_CB19.slog_1_5.fits from url http://ifs.astroscu.unam.mx/pyPipe3D/templates/."
     ]
    }
   ],
   "source": [
    "# NBVAL_SKIP\n",
    "import matplotlib.pyplot as plt\n",
    "from rubix.spectra.ssp.templates import BruzualCharlot2003\n",
    "from jax import jit\n",
    "\n",
    "ssp = BruzualCharlot2003\n",
    "wave = ssp.wavelength\n",
    "\n",
    "\n",
    "age_index = 0\n",
    "met_index = 3\n",
    "\n",
    "target_age = ssp.age[age_index] + 0.5*(ssp.age[age_index+1] - ssp.age[age_index])\n",
    "print(target_age)\n",
    "target_met = ssp.metallicity[met_index] + 0.5*(ssp.metallicity[met_index+1] - ssp.metallicity[met_index])\n",
    "\n",
    "lookup = ssp.get_lookup_interpolation()\n",
    "\n",
    "spec_calc = lookup(target_met, target_age)\n",
    "\n",
    "spec_true = ssp.flux[met_index, age_index, :]\n",
    "\n",
    "plt.plot(wave, spec_calc, label='calc')\n",
    "plt.plot(wave, spec_true, label='true')\n",
    "\n",
    "plt.legend()\n",
    "plt.yscale('log')"
   ]
  },
  {
   "cell_type": "code",
   "execution_count": 3,
   "metadata": {},
   "outputs": [
    {
     "ename": "NameError",
     "evalue": "name 'jit' is not defined",
     "output_type": "error",
     "traceback": [
      "\u001b[0;31m---------------------------------------------------------------------------\u001b[0m",
      "\u001b[0;31mNameError\u001b[0m                                 Traceback (most recent call last)",
      "Cell \u001b[0;32mIn [3], line 4\u001b[0m\n\u001b[1;32m      1\u001b[0m \u001b[38;5;66;03m# NBVAL_SKIP\u001b[39;00m\n\u001b[1;32m      2\u001b[0m \u001b[38;5;66;03m# Check if it works with jit\u001b[39;00m\n\u001b[0;32m----> 4\u001b[0m spec_calc \u001b[38;5;241m=\u001b[39m \u001b[43mjit\u001b[49m(lookup)(target_met, target_age)\n\u001b[1;32m      6\u001b[0m plt\u001b[38;5;241m.\u001b[39mplot(wave, spec_calc, label\u001b[38;5;241m=\u001b[39m\u001b[38;5;124m'\u001b[39m\u001b[38;5;124mcalc jit\u001b[39m\u001b[38;5;124m'\u001b[39m)\n",
      "\u001b[0;31mNameError\u001b[0m: name 'jit' is not defined"
     ]
    }
   ],
   "source": [
    "# NBVAL_SKIP\n",
    "# Check if it works with jit\n",
    "\n",
    "spec_calc = jit(lookup)(target_met, target_age)\n",
    "\n",
    "plt.plot(wave, spec_calc, label='calc jit')"
   ]
  },
  {
   "cell_type": "code",
   "execution_count": null,
   "metadata": {},
   "outputs": [],
   "source": [
    "# NBVAL_SKIP\n",
    "from rubix.utils import load_galaxy_data\n",
    "\n",
    "data, units = load_galaxy_data(\"output/rubix_galaxy.h5\")\n",
    "mass = data[\"particle_data\"][\"stars\"][\"mass\"]\n",
    "metallicity = data[\"particle_data\"][\"stars\"][\"metallicity\"]\n",
    "age = data[\"particle_data\"][\"stars\"][\"age\"]"
   ]
  },
  {
   "cell_type": "markdown",
   "metadata": {},
   "source": [
    "Vmap"
   ]
  },
  {
   "cell_type": "code",
   "execution_count": null,
   "metadata": {},
   "outputs": [],
   "source": [
    "# NBVAL_SKIP\n",
    "# Calculate spectra with vmap\n",
    "from jax import vmap\n",
    "\n",
    "lookup = ssp.get_lookup_interpolation()\n",
    "\n",
    "subset = 1000\n",
    "\n",
    "# Use only subset because it is too big to fit into gpu memory\n",
    "met_subset = metallicity[:subset]\n",
    "age_subset = age[:subset]\n",
    "\n",
    "\n",
    "# Clip the metallicity and age values to the range of the SSP\n",
    "\n",
    "met_subset = met_subset.clip(min(ssp.metallicity), max(ssp.metallicity))\n",
    "age_subset = age_subset.clip(min(ssp.age), max(ssp.age))\n",
    "\n",
    "\n",
    "spec_calc = vmap(lookup)(met_subset, age_subset)\n",
    "\n",
    "\n",
    "spec_calc.shape\n"
   ]
  },
  {
   "cell_type": "code",
   "execution_count": null,
   "metadata": {},
   "outputs": [],
   "source": [
    "# NBVAL_SKIP\n",
    "# check if it contains nan values\n",
    "import jax.numpy as jnp\n",
    "jnp.isnan(spec_calc).any()"
   ]
  },
  {
   "cell_type": "markdown",
   "metadata": {},
   "source": [
    "# Use configuration to load lookup function"
   ]
  },
  {
   "cell_type": "code",
   "execution_count": null,
   "metadata": {},
   "outputs": [],
   "source": [
    "config ={ \"ssp\": {\n",
    "    \"template\": {\n",
    "      \"name\": \"BruzualCharlot2003\"\n",
    "    },\n",
    "    \"method\": \"cubic\"\n",
    "  }\n",
    "}"
   ]
  },
  {
   "cell_type": "code",
   "execution_count": null,
   "metadata": {},
   "outputs": [],
   "source": [
    "# NBVAL_SKIP\n",
    "from rubix.core.ssp import get_lookup_interpolation\n",
    "\n",
    "lookup = get_lookup_interpolation(config)"
   ]
  },
  {
   "cell_type": "code",
   "execution_count": null,
   "metadata": {},
   "outputs": [],
   "source": [
    "# NBVAL_SKIP\n",
    "# Check how many particles are outside the range of the SSP\n",
    "import numpy as np\n",
    "np.sum(metallicity < ssp.metallicity[0]), np.sum(metallicity > ssp.metallicity[-1])"
   ]
  },
  {
   "cell_type": "code",
   "execution_count": null,
   "metadata": {},
   "outputs": [],
   "source": [
    "# NBVAL_SKIP\n",
    "np.sum(age < ssp.age[0]), np.sum(age > ssp.age[-1])"
   ]
  },
  {
   "cell_type": "code",
   "execution_count": null,
   "metadata": {},
   "outputs": [],
   "source": [
    "# NBVAL_SKIP\n",
    "len(metallicity)"
   ]
  },
  {
   "cell_type": "code",
   "execution_count": null,
   "metadata": {},
   "outputs": [],
   "source": [
    "# NBVAL_SKIP\n",
    "# clip the metallicity and age values to the range of the SSP\n",
    "met_subset = met_subset.clip(min(ssp.metallicity), max(ssp.metallicity))\n",
    "age_subset = age_subset.clip(min(ssp.age), max(ssp.age))\n",
    "lookup(met_subset, age_subset)"
   ]
  }
 ],
 "metadata": {
  "kernelspec": {
   "display_name": "Python 3 (ipykernel)",
   "language": "python",
   "name": "python3"
  },
  "language_info": {
   "codemirror_mode": {
    "name": "ipython",
    "version": 3
   },
   "file_extension": ".py",
   "mimetype": "text/x-python",
   "name": "python",
   "nbconvert_exporter": "python",
   "pygments_lexer": "ipython3",
   "version": "3.10.6"
  }
 },
 "nbformat": 4,
 "nbformat_minor": 2
}
