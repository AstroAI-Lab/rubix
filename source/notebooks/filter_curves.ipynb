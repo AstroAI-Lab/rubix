{
 "cells": [
  {
   "cell_type": "markdown",
   "metadata": {},
   "source": [
    "# Filter curves\n",
    "\n",
    "This notebook shows how you can apply different filters to your rubix IFU cube and create photometric images of your mock-data."
   ]
  },
  {
   "cell_type": "code",
   "execution_count": null,
   "metadata": {},
   "outputs": [],
   "source": [
    "# NBVAL_SKIP\n",
    "from rubix.telescope.filters import load_filter, print_filter_list, print_filter_list_info, print_filter_property"
   ]
  },
  {
   "cell_type": "markdown",
   "metadata": {},
   "source": [
    "## Information about the filters\n",
    "\n",
    "We can have a look, which different filters are availible for a given facility or instrument. A list of all availible filters can be found here: http://svo2.cab.inta-csic.es/theory/fps/index.php\n",
    "\n",
    "As an example, we print the different filters for SLOAN."
   ]
  },
  {
   "cell_type": "code",
   "execution_count": null,
   "metadata": {},
   "outputs": [],
   "source": [
    "# NBVAL_SKIP\n",
    "print_filter_list(\"SLOAN\")"
   ]
  },
  {
   "cell_type": "markdown",
   "metadata": {},
   "source": [
    "We can also print some more details about the filters. `print_filter_list_info()` prints the filter name, the dtype and the unit."
   ]
  },
  {
   "cell_type": "code",
   "execution_count": null,
   "metadata": {},
   "outputs": [],
   "source": [
    "# NBVAL_SKIP\n",
    "print_filter_list_info(\"SLOAN\")"
   ]
  },
  {
   "cell_type": "markdown",
   "metadata": {},
   "source": [
    "The most detaield information about a filter can be obtained by using the `print_filter_property()` function."
   ]
  },
  {
   "cell_type": "code",
   "execution_count": null,
   "metadata": {},
   "outputs": [],
   "source": [
    "# NBVAL_SKIP\n",
    "print_filter_property(\"SLOAN\", \"SDSS.u\")"
   ]
  },
  {
   "cell_type": "code",
   "execution_count": null,
   "metadata": {},
   "outputs": [],
   "source": [
    "# NBVAL_SKIP\n",
    "print_filter_property(\"JWST\", \"F070W\", \"NIRCam\")"
   ]
  },
  {
   "cell_type": "markdown",
   "metadata": {},
   "source": [
    "## Loading filters\n",
    "\n",
    "Now we can load and plot our selected filters, in our example case `\"SLOAN\"`.\n",
    "If you want to know more about filters and which ones are supported by RUBIX please visit the [SVO Filter Profile Service](http://svo2.cab.inta-csic.es/theory/fps/index.php). RUBIX supports all standard filters for all instruments of all facilities listed there. "
   ]
  },
  {
   "cell_type": "code",
   "execution_count": null,
   "metadata": {},
   "outputs": [],
   "source": [
    "# NBVAL_SKIP\n",
    "# load all fliter curves for SLOAN\n",
    "curves = load_filter(\"SLOAN\")"
   ]
  },
  {
   "cell_type": "code",
   "execution_count": null,
   "metadata": {},
   "outputs": [],
   "source": [
    "# NBVAL_SKIP\n",
    "curves.filters"
   ]
  },
  {
   "cell_type": "code",
   "execution_count": null,
   "metadata": {},
   "outputs": [],
   "source": [
    "# NBVAL_SKIP\n",
    "curves.plot()"
   ]
  },
  {
   "cell_type": "code",
   "execution_count": null,
   "metadata": {},
   "outputs": [],
   "source": [
    "# NBVAL_SKIP\n",
    "filter = curves[1]\n",
    "filter.plot()"
   ]
  },
  {
   "cell_type": "markdown",
   "metadata": {},
   "source": [
    "## Applying filters to mock-IFUs\n",
    "\n",
    "After getting the information about different filters and loading the filter curves for `\"SLOAN\"`, we want to apply these filter curves to a mock-IFU cube to get photometric images of the mock-IFU cube.\n",
    "\n",
    "The first step is to create our mock-IFU cube. We have taken care of this already and run RUBIX with default `config` for a tiny mock MUSE cube on an example Ilustris TNG galaxy. For more details see `rubix_pipeline_single_function.ipynb` or `rubix_pipeline_stepwise.ipynb`. Below we load the dummy datacube using the library `h5py`."
   ]
  },
  {
   "cell_type": "code",
   "execution_count": null,
   "metadata": {},
   "outputs": [],
   "source": [
    "#NBVAL_SKIP\n",
    "import h5py\n",
    "import numpy as np\n",
    "with h5py.File('./data/dummy_datacube.h5', 'r') as hf2:\n",
    "    print(hf2.keys())\n",
    "    datacube = np.array(hf2.get('datacube'))\n",
    "    wave = np.array(hf2.get('wave'))"
   ]
  },
  {
   "cell_type": "markdown",
   "metadata": {},
   "source": [
    "Our dummy datacube has 25x25 pixels and 3721 spectral bins."
   ]
  },
  {
   "cell_type": "code",
   "execution_count": null,
   "metadata": {},
   "outputs": [],
   "source": [
    "# NBVAL_SKIP\n",
    "datacube.shape"
   ]
  },
  {
   "cell_type": "markdown",
   "metadata": {},
   "source": [
    "Now, we have our mock-IFU datacube and we have selected and loaded a filter. The next step is to apply the filter to the datacube, which is done with a convolution. And then we obtain our photometric image of the galaxy. For the filter, choosen in this example, you may wonder, why the image is zerro everywhere. You have to keep in mind that our dummy datacube is created for a MUSE observation and in the default `telescopes.yaml` we defined the wavelength to be in the range `[4700.15, 9351.4]`and the filter is in the range `[3000, 4000]`. So this result should be expected for the choice of this mock-data convolved with the `SLOAN/SDSS.u`filter."
   ]
  },
  {
   "cell_type": "code",
   "execution_count": null,
   "metadata": {},
   "outputs": [],
   "source": [
    "# NBVAL_SKIP\n",
    "from rubix.telescope.filters import convolve_filter_with_spectra\n",
    "import matplotlib.pyplot as plt"
   ]
  },
  {
   "cell_type": "code",
   "execution_count": null,
   "metadata": {},
   "outputs": [],
   "source": [
    "# NBVAL_SKIP\n",
    "filter = curves[1]"
   ]
  },
  {
   "cell_type": "code",
   "execution_count": null,
   "metadata": {},
   "outputs": [],
   "source": [
    "# NBVAL_SKIP\n",
    "convolved = convolve_filter_with_spectra(filter, datacube, wave)\n",
    "print(convolved.shape)"
   ]
  },
  {
   "cell_type": "code",
   "execution_count": null,
   "metadata": {},
   "outputs": [],
   "source": [
    "# NBVAL_SKIP\n",
    "import matplotlib.pyplot as plt\n",
    "plt.imshow(convolved)\n",
    "plt.colorbar()"
   ]
  },
  {
   "cell_type": "markdown",
   "metadata": {},
   "source": [
    "If we now look at other filters from `SLOAN/SDSS`that match the wavelengthrange of our mock-datacube, we get photometric images of our galaxy."
   ]
  },
  {
   "cell_type": "code",
   "execution_count": null,
   "metadata": {},
   "outputs": [],
   "source": [
    "# NBVAL_SKIP\n",
    "for filter in curves:\n",
    "    convolved = convolve_filter_with_spectra(filter, datacube, wave)\n",
    "    plt.figure()\n",
    "    plt.imshow(convolved)\n",
    "    plt.colorbar()\n",
    "    plt.title(filter.name)"
   ]
  },
  {
   "cell_type": "code",
   "execution_count": null,
   "metadata": {},
   "outputs": [],
   "source": [
    "# NBVAL_SKIP\n",
    "filters,images =curves.apply_filter_curves(datacube, wave).values()"
   ]
  },
  {
   "cell_type": "code",
   "execution_count": null,
   "metadata": {},
   "outputs": [],
   "source": [
    "# NBVAL_SKIP\n",
    "filters"
   ]
  },
  {
   "cell_type": "code",
   "execution_count": null,
   "metadata": {},
   "outputs": [],
   "source": [
    "# NBVAL_SKIP\n",
    "for i,name in zip(images, filters):\n",
    "    plt.figure()\n",
    "    plt.imshow(i)\n",
    "    plt.colorbar()\n",
    "    plt.title(name)"
   ]
  },
  {
   "cell_type": "markdown",
   "metadata": {},
   "source": [
    "To create false color images (RGB images), we have to normalize the individual photometric images from three different filters and stack them."
   ]
  },
  {
   "cell_type": "code",
   "execution_count": null,
   "metadata": {},
   "outputs": [],
   "source": [
    "# NBVAL_SKIP\n",
    "# Create an RGB image\n",
    "# Normalize the images\n",
    "import numpy as np\n",
    "\n",
    "def normalize(image):\n",
    "    image_min = image.min()\n",
    "    image_max = image.max()\n",
    "    return (image - image_min) / (image_max - image_min)\n",
    "\n",
    "r = images[1]\n",
    "g = images[2]\n",
    "b = images[3]\n",
    "\n",
    "rgb = np.stack([r,g,b], axis=-1)\n",
    "\n",
    "rgb = normalize(rgb)\n",
    "\n",
    "plt.imshow(rgb)\n",
    "\n"
   ]
  }
 ],
 "metadata": {
  "kernelspec": {
   "display_name": "rubix",
   "language": "python",
   "name": "python3"
  },
  "language_info": {
   "codemirror_mode": {
    "name": "ipython",
    "version": 3
   },
   "file_extension": ".py",
   "mimetype": "text/x-python",
   "name": "python",
   "nbconvert_exporter": "python",
   "pygments_lexer": "ipython3",
   "version": "3.10.14"
  }
 },
 "nbformat": 4,
 "nbformat_minor": 2
}
